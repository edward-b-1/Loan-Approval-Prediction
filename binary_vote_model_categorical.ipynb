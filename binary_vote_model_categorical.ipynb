{
 "cells": [
  {
   "cell_type": "markdown",
   "id": "6e50fe1a-b006-4675-a17b-f2b75ca6b510",
   "metadata": {},
   "source": [
    "# Ensemble Voting Predictor\n",
    "\n",
    "For each predictor, independently calculate the median value. Choose to vote \"up\" or \"down\" depending on the value of each predictor. At the end, assign 0 or less to \"approve\" and 1 or more to \"reject\".\n",
    "\n",
    "This notebook uses a similar logic for categorical variables."
   ]
  },
  {
   "cell_type": "code",
   "execution_count": 2,
   "id": "8966fb6a-4bea-4923-baa2-35cc0d0ca116",
   "metadata": {},
   "outputs": [],
   "source": [
    "%load_ext autoreload\n",
    "%autoreload 2"
   ]
  },
  {
   "cell_type": "code",
   "execution_count": 3,
   "id": "27ef7d06-d448-4a82-8ad7-af70c0cd9d52",
   "metadata": {},
   "outputs": [],
   "source": [
    "import pandas\n",
    "import numpy\n",
    "import matplotlib.pyplot as plt\n",
    "import itertools\n",
    "import sklearn\n",
    "from sklearn.metrics import log_loss"
   ]
  },
  {
   "cell_type": "code",
   "execution_count": 4,
   "id": "2cf4e2e8-37f8-45e0-b33e-614cd96fada5",
   "metadata": {},
   "outputs": [],
   "source": [
    "import loan_approval_lib\n",
    "from loan_approval_lib import logspace, linspace"
   ]
  },
  {
   "cell_type": "code",
   "execution_count": 5,
   "id": "a725cbcf-8457-4df0-85f4-9ce794d74238",
   "metadata": {},
   "outputs": [],
   "source": [
    "from sklearn.preprocessing import OrdinalEncoder\n",
    "from sklearn.naive_bayes import CategoricalNB"
   ]
  },
  {
   "cell_type": "code",
   "execution_count": 6,
   "id": "9ab91b25-a73d-4f63-9483-7fa2ed78a732",
   "metadata": {},
   "outputs": [],
   "source": [
    "import itertools"
   ]
  },
  {
   "cell_type": "code",
   "execution_count": 7,
   "id": "909a3e19-2759-4a30-a8b1-1ff853fbc694",
   "metadata": {},
   "outputs": [],
   "source": [
    "data = loan_approval_lib.load_original_data()"
   ]
  },
  {
   "cell_type": "code",
   "execution_count": 8,
   "id": "da1cdb39-ff5c-4274-9f1e-1d25208ffb9c",
   "metadata": {},
   "outputs": [
    {
     "data": {
      "text/html": [
       "<div>\n",
       "<style scoped>\n",
       "    .dataframe tbody tr th:only-of-type {\n",
       "        vertical-align: middle;\n",
       "    }\n",
       "\n",
       "    .dataframe tbody tr th {\n",
       "        vertical-align: top;\n",
       "    }\n",
       "\n",
       "    .dataframe thead th {\n",
       "        text-align: right;\n",
       "    }\n",
       "</style>\n",
       "<table border=\"1\" class=\"dataframe\">\n",
       "  <thead>\n",
       "    <tr style=\"text-align: right;\">\n",
       "      <th></th>\n",
       "      <th>person_age</th>\n",
       "      <th>person_income</th>\n",
       "      <th>person_home_ownership</th>\n",
       "      <th>person_emp_length</th>\n",
       "      <th>loan_intent</th>\n",
       "      <th>loan_grade</th>\n",
       "      <th>loan_amnt</th>\n",
       "      <th>loan_int_rate</th>\n",
       "      <th>loan_percent_income</th>\n",
       "      <th>cb_person_default_on_file</th>\n",
       "      <th>cb_person_cred_hist_length</th>\n",
       "      <th>loan_status</th>\n",
       "    </tr>\n",
       "  </thead>\n",
       "  <tbody>\n",
       "    <tr>\n",
       "      <th>0</th>\n",
       "      <td>22</td>\n",
       "      <td>59000</td>\n",
       "      <td>RENT</td>\n",
       "      <td>123.0</td>\n",
       "      <td>PERSONAL</td>\n",
       "      <td>D</td>\n",
       "      <td>35000</td>\n",
       "      <td>16.02</td>\n",
       "      <td>0.59</td>\n",
       "      <td>Y</td>\n",
       "      <td>3</td>\n",
       "      <td>1</td>\n",
       "    </tr>\n",
       "    <tr>\n",
       "      <th>1</th>\n",
       "      <td>21</td>\n",
       "      <td>9600</td>\n",
       "      <td>OWN</td>\n",
       "      <td>5.0</td>\n",
       "      <td>EDUCATION</td>\n",
       "      <td>B</td>\n",
       "      <td>1000</td>\n",
       "      <td>11.14</td>\n",
       "      <td>0.10</td>\n",
       "      <td>N</td>\n",
       "      <td>2</td>\n",
       "      <td>0</td>\n",
       "    </tr>\n",
       "    <tr>\n",
       "      <th>2</th>\n",
       "      <td>25</td>\n",
       "      <td>9600</td>\n",
       "      <td>MORTGAGE</td>\n",
       "      <td>1.0</td>\n",
       "      <td>MEDICAL</td>\n",
       "      <td>C</td>\n",
       "      <td>5500</td>\n",
       "      <td>12.87</td>\n",
       "      <td>0.57</td>\n",
       "      <td>N</td>\n",
       "      <td>3</td>\n",
       "      <td>1</td>\n",
       "    </tr>\n",
       "    <tr>\n",
       "      <th>3</th>\n",
       "      <td>23</td>\n",
       "      <td>65500</td>\n",
       "      <td>RENT</td>\n",
       "      <td>4.0</td>\n",
       "      <td>MEDICAL</td>\n",
       "      <td>C</td>\n",
       "      <td>35000</td>\n",
       "      <td>15.23</td>\n",
       "      <td>0.53</td>\n",
       "      <td>N</td>\n",
       "      <td>2</td>\n",
       "      <td>1</td>\n",
       "    </tr>\n",
       "    <tr>\n",
       "      <th>4</th>\n",
       "      <td>24</td>\n",
       "      <td>54400</td>\n",
       "      <td>RENT</td>\n",
       "      <td>8.0</td>\n",
       "      <td>MEDICAL</td>\n",
       "      <td>C</td>\n",
       "      <td>35000</td>\n",
       "      <td>14.27</td>\n",
       "      <td>0.55</td>\n",
       "      <td>Y</td>\n",
       "      <td>4</td>\n",
       "      <td>1</td>\n",
       "    </tr>\n",
       "    <tr>\n",
       "      <th>...</th>\n",
       "      <td>...</td>\n",
       "      <td>...</td>\n",
       "      <td>...</td>\n",
       "      <td>...</td>\n",
       "      <td>...</td>\n",
       "      <td>...</td>\n",
       "      <td>...</td>\n",
       "      <td>...</td>\n",
       "      <td>...</td>\n",
       "      <td>...</td>\n",
       "      <td>...</td>\n",
       "      <td>...</td>\n",
       "    </tr>\n",
       "    <tr>\n",
       "      <th>32576</th>\n",
       "      <td>57</td>\n",
       "      <td>53000</td>\n",
       "      <td>MORTGAGE</td>\n",
       "      <td>1.0</td>\n",
       "      <td>PERSONAL</td>\n",
       "      <td>C</td>\n",
       "      <td>5800</td>\n",
       "      <td>13.16</td>\n",
       "      <td>0.11</td>\n",
       "      <td>N</td>\n",
       "      <td>30</td>\n",
       "      <td>0</td>\n",
       "    </tr>\n",
       "    <tr>\n",
       "      <th>32577</th>\n",
       "      <td>54</td>\n",
       "      <td>120000</td>\n",
       "      <td>MORTGAGE</td>\n",
       "      <td>4.0</td>\n",
       "      <td>PERSONAL</td>\n",
       "      <td>A</td>\n",
       "      <td>17625</td>\n",
       "      <td>7.49</td>\n",
       "      <td>0.15</td>\n",
       "      <td>N</td>\n",
       "      <td>19</td>\n",
       "      <td>0</td>\n",
       "    </tr>\n",
       "    <tr>\n",
       "      <th>32578</th>\n",
       "      <td>65</td>\n",
       "      <td>76000</td>\n",
       "      <td>RENT</td>\n",
       "      <td>3.0</td>\n",
       "      <td>HOMEIMPROVEMENT</td>\n",
       "      <td>B</td>\n",
       "      <td>35000</td>\n",
       "      <td>10.99</td>\n",
       "      <td>0.46</td>\n",
       "      <td>N</td>\n",
       "      <td>28</td>\n",
       "      <td>1</td>\n",
       "    </tr>\n",
       "    <tr>\n",
       "      <th>32579</th>\n",
       "      <td>56</td>\n",
       "      <td>150000</td>\n",
       "      <td>MORTGAGE</td>\n",
       "      <td>5.0</td>\n",
       "      <td>PERSONAL</td>\n",
       "      <td>B</td>\n",
       "      <td>15000</td>\n",
       "      <td>11.48</td>\n",
       "      <td>0.10</td>\n",
       "      <td>N</td>\n",
       "      <td>26</td>\n",
       "      <td>0</td>\n",
       "    </tr>\n",
       "    <tr>\n",
       "      <th>32580</th>\n",
       "      <td>66</td>\n",
       "      <td>42000</td>\n",
       "      <td>RENT</td>\n",
       "      <td>2.0</td>\n",
       "      <td>MEDICAL</td>\n",
       "      <td>B</td>\n",
       "      <td>6475</td>\n",
       "      <td>9.99</td>\n",
       "      <td>0.15</td>\n",
       "      <td>N</td>\n",
       "      <td>30</td>\n",
       "      <td>0</td>\n",
       "    </tr>\n",
       "  </tbody>\n",
       "</table>\n",
       "<p>32581 rows × 12 columns</p>\n",
       "</div>"
      ],
      "text/plain": [
       "       person_age  person_income person_home_ownership  person_emp_length  \\\n",
       "0              22          59000                  RENT              123.0   \n",
       "1              21           9600                   OWN                5.0   \n",
       "2              25           9600              MORTGAGE                1.0   \n",
       "3              23          65500                  RENT                4.0   \n",
       "4              24          54400                  RENT                8.0   \n",
       "...           ...            ...                   ...                ...   \n",
       "32576          57          53000              MORTGAGE                1.0   \n",
       "32577          54         120000              MORTGAGE                4.0   \n",
       "32578          65          76000                  RENT                3.0   \n",
       "32579          56         150000              MORTGAGE                5.0   \n",
       "32580          66          42000                  RENT                2.0   \n",
       "\n",
       "           loan_intent loan_grade  loan_amnt  loan_int_rate  \\\n",
       "0             PERSONAL          D      35000          16.02   \n",
       "1            EDUCATION          B       1000          11.14   \n",
       "2              MEDICAL          C       5500          12.87   \n",
       "3              MEDICAL          C      35000          15.23   \n",
       "4              MEDICAL          C      35000          14.27   \n",
       "...                ...        ...        ...            ...   \n",
       "32576         PERSONAL          C       5800          13.16   \n",
       "32577         PERSONAL          A      17625           7.49   \n",
       "32578  HOMEIMPROVEMENT          B      35000          10.99   \n",
       "32579         PERSONAL          B      15000          11.48   \n",
       "32580          MEDICAL          B       6475           9.99   \n",
       "\n",
       "       loan_percent_income cb_person_default_on_file  \\\n",
       "0                     0.59                         Y   \n",
       "1                     0.10                         N   \n",
       "2                     0.57                         N   \n",
       "3                     0.53                         N   \n",
       "4                     0.55                         Y   \n",
       "...                    ...                       ...   \n",
       "32576                 0.11                         N   \n",
       "32577                 0.15                         N   \n",
       "32578                 0.46                         N   \n",
       "32579                 0.10                         N   \n",
       "32580                 0.15                         N   \n",
       "\n",
       "       cb_person_cred_hist_length  loan_status  \n",
       "0                               3            1  \n",
       "1                               2            0  \n",
       "2                               3            1  \n",
       "3                               2            1  \n",
       "4                               4            1  \n",
       "...                           ...          ...  \n",
       "32576                          30            0  \n",
       "32577                          19            0  \n",
       "32578                          28            1  \n",
       "32579                          26            0  \n",
       "32580                          30            0  \n",
       "\n",
       "[32581 rows x 12 columns]"
      ]
     },
     "execution_count": 8,
     "metadata": {},
     "output_type": "execute_result"
    }
   ],
   "source": [
    "data"
   ]
  },
  {
   "cell_type": "markdown",
   "id": "bd126780-7d92-47bb-85d4-07899f40686c",
   "metadata": {},
   "source": [
    "# Data Cleaning"
   ]
  },
  {
   "cell_type": "code",
   "execution_count": 9,
   "id": "4749348f-44d2-4c0b-867b-f97ad651ef8a",
   "metadata": {},
   "outputs": [
    {
     "name": "stdout",
     "output_type": "stream",
     "text": [
      "column person_age, number of removed rows: 5\n",
      "column person_income, number of removed rows: 0\n",
      "column person_emp_length, number of removed rows: 897\n",
      "column loan_amnt, number of removed rows: 0\n",
      "column loan_int_rate, number of removed rows: 3047\n",
      "column loan_percent_income, number of removed rows: 0\n",
      "column cb_person_default_on_file, number of removed rows: 0\n"
     ]
    }
   ],
   "source": [
    "columns = [\n",
    "    'person_age',\n",
    "    'person_income',\n",
    "    'person_emp_length',\n",
    "    'loan_amnt',\n",
    "    'loan_int_rate',\n",
    "    'loan_percent_income',\n",
    "    'cb_person_default_on_file'\n",
    "]\n",
    "\n",
    "for column in columns:\n",
    "    row_count_1 = len(data)\n",
    "\n",
    "    if column == 'person_age':\n",
    "        data = data[data['person_age'] <= 100]\n",
    "\n",
    "    if column == 'person_emp_length':\n",
    "        data = data[data['person_emp_length'] <= 100]\n",
    "\n",
    "    data = data[data[column].isna() == False]\n",
    "    \n",
    "    row_count_2 = len(data)\n",
    "    row_count_diff = row_count_1 - row_count_2\n",
    "    print(f'column {column}, number of removed rows: {row_count_diff}')\n",
    "    "
   ]
  },
  {
   "cell_type": "code",
   "execution_count": null,
   "id": "bd8939e6-cec2-4d99-8742-ce79419e92e9",
   "metadata": {},
   "outputs": [],
   "source": []
  },
  {
   "cell_type": "markdown",
   "id": "c52d90e6-47da-476f-af03-d1107b09eabb",
   "metadata": {},
   "source": [
    "# Binary voting logic for `loan_grade`"
   ]
  },
  {
   "cell_type": "code",
   "execution_count": 81,
   "id": "668897bc-cc7a-4607-bd4d-570f37f75fc4",
   "metadata": {},
   "outputs": [],
   "source": [
    "loan_grades = list(sorted(data['loan_grade'].unique()))\n",
    "\n",
    "data['loan_grade_vote'] = 0\n",
    "\n",
    "for loan_grade in loan_grades:\n",
    "    data.loc[data['loan_grade'] == loan_grade, 'loan_grade_vote'] = -1 if loan_grade <= 'C' else 1\n",
    "\n",
    "data['loan_grade_predict'] = data['loan_grade_vote'].map(lambda x: 0 if x == -1 else 1)"
   ]
  },
  {
   "cell_type": "code",
   "execution_count": 82,
   "id": "08303442-e46f-49c8-bf47-90a429a4f57e",
   "metadata": {},
   "outputs": [
    {
     "data": {
      "text/html": [
       "<div>\n",
       "<style scoped>\n",
       "    .dataframe tbody tr th:only-of-type {\n",
       "        vertical-align: middle;\n",
       "    }\n",
       "\n",
       "    .dataframe tbody tr th {\n",
       "        vertical-align: top;\n",
       "    }\n",
       "\n",
       "    .dataframe thead th {\n",
       "        text-align: right;\n",
       "    }\n",
       "</style>\n",
       "<table border=\"1\" class=\"dataframe\">\n",
       "  <thead>\n",
       "    <tr style=\"text-align: right;\">\n",
       "      <th></th>\n",
       "      <th>person_age</th>\n",
       "      <th>person_income</th>\n",
       "      <th>person_home_ownership</th>\n",
       "      <th>person_emp_length</th>\n",
       "      <th>loan_intent</th>\n",
       "      <th>loan_grade</th>\n",
       "      <th>loan_amnt</th>\n",
       "      <th>loan_int_rate</th>\n",
       "      <th>loan_percent_income</th>\n",
       "      <th>cb_person_default_on_file</th>\n",
       "      <th>cb_person_cred_hist_length</th>\n",
       "      <th>loan_status</th>\n",
       "      <th>loan_grade_vote</th>\n",
       "      <th>person_home_ownership_vote</th>\n",
       "      <th>loan_intent_vote</th>\n",
       "      <th>loan_grade_predict</th>\n",
       "    </tr>\n",
       "  </thead>\n",
       "  <tbody>\n",
       "    <tr>\n",
       "      <th>1</th>\n",
       "      <td>21</td>\n",
       "      <td>9600</td>\n",
       "      <td>OWN</td>\n",
       "      <td>5.0</td>\n",
       "      <td>EDUCATION</td>\n",
       "      <td>B</td>\n",
       "      <td>1000</td>\n",
       "      <td>11.14</td>\n",
       "      <td>0.10</td>\n",
       "      <td>N</td>\n",
       "      <td>2</td>\n",
       "      <td>0</td>\n",
       "      <td>-1</td>\n",
       "      <td>-1.0</td>\n",
       "      <td>-1.0</td>\n",
       "      <td>0</td>\n",
       "    </tr>\n",
       "    <tr>\n",
       "      <th>2</th>\n",
       "      <td>25</td>\n",
       "      <td>9600</td>\n",
       "      <td>MORTGAGE</td>\n",
       "      <td>1.0</td>\n",
       "      <td>MEDICAL</td>\n",
       "      <td>C</td>\n",
       "      <td>5500</td>\n",
       "      <td>12.87</td>\n",
       "      <td>0.57</td>\n",
       "      <td>N</td>\n",
       "      <td>3</td>\n",
       "      <td>1</td>\n",
       "      <td>-1</td>\n",
       "      <td>-1.0</td>\n",
       "      <td>1.0</td>\n",
       "      <td>0</td>\n",
       "    </tr>\n",
       "    <tr>\n",
       "      <th>3</th>\n",
       "      <td>23</td>\n",
       "      <td>65500</td>\n",
       "      <td>RENT</td>\n",
       "      <td>4.0</td>\n",
       "      <td>MEDICAL</td>\n",
       "      <td>C</td>\n",
       "      <td>35000</td>\n",
       "      <td>15.23</td>\n",
       "      <td>0.53</td>\n",
       "      <td>N</td>\n",
       "      <td>2</td>\n",
       "      <td>1</td>\n",
       "      <td>-1</td>\n",
       "      <td>1.0</td>\n",
       "      <td>1.0</td>\n",
       "      <td>0</td>\n",
       "    </tr>\n",
       "    <tr>\n",
       "      <th>4</th>\n",
       "      <td>24</td>\n",
       "      <td>54400</td>\n",
       "      <td>RENT</td>\n",
       "      <td>8.0</td>\n",
       "      <td>MEDICAL</td>\n",
       "      <td>C</td>\n",
       "      <td>35000</td>\n",
       "      <td>14.27</td>\n",
       "      <td>0.55</td>\n",
       "      <td>Y</td>\n",
       "      <td>4</td>\n",
       "      <td>1</td>\n",
       "      <td>-1</td>\n",
       "      <td>1.0</td>\n",
       "      <td>1.0</td>\n",
       "      <td>0</td>\n",
       "    </tr>\n",
       "    <tr>\n",
       "      <th>5</th>\n",
       "      <td>21</td>\n",
       "      <td>9900</td>\n",
       "      <td>OWN</td>\n",
       "      <td>2.0</td>\n",
       "      <td>VENTURE</td>\n",
       "      <td>A</td>\n",
       "      <td>2500</td>\n",
       "      <td>7.14</td>\n",
       "      <td>0.25</td>\n",
       "      <td>N</td>\n",
       "      <td>2</td>\n",
       "      <td>1</td>\n",
       "      <td>-1</td>\n",
       "      <td>-1.0</td>\n",
       "      <td>-11.0</td>\n",
       "      <td>0</td>\n",
       "    </tr>\n",
       "    <tr>\n",
       "      <th>...</th>\n",
       "      <td>...</td>\n",
       "      <td>...</td>\n",
       "      <td>...</td>\n",
       "      <td>...</td>\n",
       "      <td>...</td>\n",
       "      <td>...</td>\n",
       "      <td>...</td>\n",
       "      <td>...</td>\n",
       "      <td>...</td>\n",
       "      <td>...</td>\n",
       "      <td>...</td>\n",
       "      <td>...</td>\n",
       "      <td>...</td>\n",
       "      <td>...</td>\n",
       "      <td>...</td>\n",
       "      <td>...</td>\n",
       "    </tr>\n",
       "    <tr>\n",
       "      <th>32576</th>\n",
       "      <td>57</td>\n",
       "      <td>53000</td>\n",
       "      <td>MORTGAGE</td>\n",
       "      <td>1.0</td>\n",
       "      <td>PERSONAL</td>\n",
       "      <td>C</td>\n",
       "      <td>5800</td>\n",
       "      <td>13.16</td>\n",
       "      <td>0.11</td>\n",
       "      <td>N</td>\n",
       "      <td>30</td>\n",
       "      <td>0</td>\n",
       "      <td>-1</td>\n",
       "      <td>-1.0</td>\n",
       "      <td>-1.0</td>\n",
       "      <td>0</td>\n",
       "    </tr>\n",
       "    <tr>\n",
       "      <th>32577</th>\n",
       "      <td>54</td>\n",
       "      <td>120000</td>\n",
       "      <td>MORTGAGE</td>\n",
       "      <td>4.0</td>\n",
       "      <td>PERSONAL</td>\n",
       "      <td>A</td>\n",
       "      <td>17625</td>\n",
       "      <td>7.49</td>\n",
       "      <td>0.15</td>\n",
       "      <td>N</td>\n",
       "      <td>19</td>\n",
       "      <td>0</td>\n",
       "      <td>-1</td>\n",
       "      <td>-1.0</td>\n",
       "      <td>-1.0</td>\n",
       "      <td>0</td>\n",
       "    </tr>\n",
       "    <tr>\n",
       "      <th>32578</th>\n",
       "      <td>65</td>\n",
       "      <td>76000</td>\n",
       "      <td>RENT</td>\n",
       "      <td>3.0</td>\n",
       "      <td>HOMEIMPROVEMENT</td>\n",
       "      <td>B</td>\n",
       "      <td>35000</td>\n",
       "      <td>10.99</td>\n",
       "      <td>0.46</td>\n",
       "      <td>N</td>\n",
       "      <td>28</td>\n",
       "      <td>1</td>\n",
       "      <td>-1</td>\n",
       "      <td>1.0</td>\n",
       "      <td>1.0</td>\n",
       "      <td>0</td>\n",
       "    </tr>\n",
       "    <tr>\n",
       "      <th>32579</th>\n",
       "      <td>56</td>\n",
       "      <td>150000</td>\n",
       "      <td>MORTGAGE</td>\n",
       "      <td>5.0</td>\n",
       "      <td>PERSONAL</td>\n",
       "      <td>B</td>\n",
       "      <td>15000</td>\n",
       "      <td>11.48</td>\n",
       "      <td>0.10</td>\n",
       "      <td>N</td>\n",
       "      <td>26</td>\n",
       "      <td>0</td>\n",
       "      <td>-1</td>\n",
       "      <td>-1.0</td>\n",
       "      <td>-1.0</td>\n",
       "      <td>0</td>\n",
       "    </tr>\n",
       "    <tr>\n",
       "      <th>32580</th>\n",
       "      <td>66</td>\n",
       "      <td>42000</td>\n",
       "      <td>RENT</td>\n",
       "      <td>2.0</td>\n",
       "      <td>MEDICAL</td>\n",
       "      <td>B</td>\n",
       "      <td>6475</td>\n",
       "      <td>9.99</td>\n",
       "      <td>0.15</td>\n",
       "      <td>N</td>\n",
       "      <td>30</td>\n",
       "      <td>0</td>\n",
       "      <td>-1</td>\n",
       "      <td>1.0</td>\n",
       "      <td>1.0</td>\n",
       "      <td>0</td>\n",
       "    </tr>\n",
       "  </tbody>\n",
       "</table>\n",
       "<p>28632 rows × 16 columns</p>\n",
       "</div>"
      ],
      "text/plain": [
       "       person_age  person_income person_home_ownership  person_emp_length  \\\n",
       "1              21           9600                   OWN                5.0   \n",
       "2              25           9600              MORTGAGE                1.0   \n",
       "3              23          65500                  RENT                4.0   \n",
       "4              24          54400                  RENT                8.0   \n",
       "5              21           9900                   OWN                2.0   \n",
       "...           ...            ...                   ...                ...   \n",
       "32576          57          53000              MORTGAGE                1.0   \n",
       "32577          54         120000              MORTGAGE                4.0   \n",
       "32578          65          76000                  RENT                3.0   \n",
       "32579          56         150000              MORTGAGE                5.0   \n",
       "32580          66          42000                  RENT                2.0   \n",
       "\n",
       "           loan_intent loan_grade  loan_amnt  loan_int_rate  \\\n",
       "1            EDUCATION          B       1000          11.14   \n",
       "2              MEDICAL          C       5500          12.87   \n",
       "3              MEDICAL          C      35000          15.23   \n",
       "4              MEDICAL          C      35000          14.27   \n",
       "5              VENTURE          A       2500           7.14   \n",
       "...                ...        ...        ...            ...   \n",
       "32576         PERSONAL          C       5800          13.16   \n",
       "32577         PERSONAL          A      17625           7.49   \n",
       "32578  HOMEIMPROVEMENT          B      35000          10.99   \n",
       "32579         PERSONAL          B      15000          11.48   \n",
       "32580          MEDICAL          B       6475           9.99   \n",
       "\n",
       "       loan_percent_income cb_person_default_on_file  \\\n",
       "1                     0.10                         N   \n",
       "2                     0.57                         N   \n",
       "3                     0.53                         N   \n",
       "4                     0.55                         Y   \n",
       "5                     0.25                         N   \n",
       "...                    ...                       ...   \n",
       "32576                 0.11                         N   \n",
       "32577                 0.15                         N   \n",
       "32578                 0.46                         N   \n",
       "32579                 0.10                         N   \n",
       "32580                 0.15                         N   \n",
       "\n",
       "       cb_person_cred_hist_length  loan_status  loan_grade_vote  \\\n",
       "1                               2            0               -1   \n",
       "2                               3            1               -1   \n",
       "3                               2            1               -1   \n",
       "4                               4            1               -1   \n",
       "5                               2            1               -1   \n",
       "...                           ...          ...              ...   \n",
       "32576                          30            0               -1   \n",
       "32577                          19            0               -1   \n",
       "32578                          28            1               -1   \n",
       "32579                          26            0               -1   \n",
       "32580                          30            0               -1   \n",
       "\n",
       "       person_home_ownership_vote  loan_intent_vote  loan_grade_predict  \n",
       "1                            -1.0              -1.0                   0  \n",
       "2                            -1.0               1.0                   0  \n",
       "3                             1.0               1.0                   0  \n",
       "4                             1.0               1.0                   0  \n",
       "5                            -1.0             -11.0                   0  \n",
       "...                           ...               ...                 ...  \n",
       "32576                        -1.0              -1.0                   0  \n",
       "32577                        -1.0              -1.0                   0  \n",
       "32578                         1.0               1.0                   0  \n",
       "32579                        -1.0              -1.0                   0  \n",
       "32580                         1.0               1.0                   0  \n",
       "\n",
       "[28632 rows x 16 columns]"
      ]
     },
     "execution_count": 82,
     "metadata": {},
     "output_type": "execute_result"
    }
   ],
   "source": [
    "data"
   ]
  },
  {
   "cell_type": "code",
   "execution_count": 55,
   "id": "08ba8f7b-0d0e-420e-9e99-0b0d9d7bbb98",
   "metadata": {},
   "outputs": [
    {
     "data": {
      "text/html": [
       "<div>\n",
       "<style scoped>\n",
       "    .dataframe tbody tr th:only-of-type {\n",
       "        vertical-align: middle;\n",
       "    }\n",
       "\n",
       "    .dataframe tbody tr th {\n",
       "        vertical-align: top;\n",
       "    }\n",
       "\n",
       "    .dataframe thead th {\n",
       "        text-align: right;\n",
       "    }\n",
       "</style>\n",
       "<table border=\"1\" class=\"dataframe\">\n",
       "  <thead>\n",
       "    <tr style=\"text-align: right;\">\n",
       "      <th></th>\n",
       "      <th>person_age</th>\n",
       "      <th>person_income</th>\n",
       "      <th>person_home_ownership</th>\n",
       "      <th>person_emp_length</th>\n",
       "      <th>loan_intent</th>\n",
       "      <th>loan_grade</th>\n",
       "      <th>loan_amnt</th>\n",
       "      <th>loan_int_rate</th>\n",
       "      <th>loan_percent_income</th>\n",
       "      <th>cb_person_default_on_file</th>\n",
       "      <th>cb_person_cred_hist_length</th>\n",
       "      <th>loan_status</th>\n",
       "      <th>loan_grade_vote</th>\n",
       "      <th>person_home_ownership_vote</th>\n",
       "    </tr>\n",
       "  </thead>\n",
       "  <tbody>\n",
       "    <tr>\n",
       "      <th>13</th>\n",
       "      <td>26</td>\n",
       "      <td>108160</td>\n",
       "      <td>RENT</td>\n",
       "      <td>4.0</td>\n",
       "      <td>EDUCATION</td>\n",
       "      <td>E</td>\n",
       "      <td>35000</td>\n",
       "      <td>18.39</td>\n",
       "      <td>0.32</td>\n",
       "      <td>N</td>\n",
       "      <td>4</td>\n",
       "      <td>1</td>\n",
       "      <td>1</td>\n",
       "      <td>1.0</td>\n",
       "    </tr>\n",
       "    <tr>\n",
       "      <th>21</th>\n",
       "      <td>25</td>\n",
       "      <td>137000</td>\n",
       "      <td>RENT</td>\n",
       "      <td>9.0</td>\n",
       "      <td>PERSONAL</td>\n",
       "      <td>E</td>\n",
       "      <td>34800</td>\n",
       "      <td>16.77</td>\n",
       "      <td>0.25</td>\n",
       "      <td>Y</td>\n",
       "      <td>2</td>\n",
       "      <td>0</td>\n",
       "      <td>1</td>\n",
       "      <td>1.0</td>\n",
       "    </tr>\n",
       "    <tr>\n",
       "      <th>26</th>\n",
       "      <td>21</td>\n",
       "      <td>11000</td>\n",
       "      <td>MORTGAGE</td>\n",
       "      <td>3.0</td>\n",
       "      <td>VENTURE</td>\n",
       "      <td>E</td>\n",
       "      <td>4575</td>\n",
       "      <td>17.74</td>\n",
       "      <td>0.42</td>\n",
       "      <td>Y</td>\n",
       "      <td>3</td>\n",
       "      <td>1</td>\n",
       "      <td>1</td>\n",
       "      <td>-1.0</td>\n",
       "    </tr>\n",
       "    <tr>\n",
       "      <th>36</th>\n",
       "      <td>22</td>\n",
       "      <td>48000</td>\n",
       "      <td>RENT</td>\n",
       "      <td>1.0</td>\n",
       "      <td>EDUCATION</td>\n",
       "      <td>E</td>\n",
       "      <td>30000</td>\n",
       "      <td>18.39</td>\n",
       "      <td>0.63</td>\n",
       "      <td>N</td>\n",
       "      <td>2</td>\n",
       "      <td>1</td>\n",
       "      <td>1</td>\n",
       "      <td>1.0</td>\n",
       "    </tr>\n",
       "    <tr>\n",
       "      <th>40</th>\n",
       "      <td>26</td>\n",
       "      <td>62050</td>\n",
       "      <td>RENT</td>\n",
       "      <td>6.0</td>\n",
       "      <td>MEDICAL</td>\n",
       "      <td>E</td>\n",
       "      <td>30000</td>\n",
       "      <td>17.99</td>\n",
       "      <td>0.41</td>\n",
       "      <td>N</td>\n",
       "      <td>2</td>\n",
       "      <td>1</td>\n",
       "      <td>1</td>\n",
       "      <td>1.0</td>\n",
       "    </tr>\n",
       "    <tr>\n",
       "      <th>...</th>\n",
       "      <td>...</td>\n",
       "      <td>...</td>\n",
       "      <td>...</td>\n",
       "      <td>...</td>\n",
       "      <td>...</td>\n",
       "      <td>...</td>\n",
       "      <td>...</td>\n",
       "      <td>...</td>\n",
       "      <td>...</td>\n",
       "      <td>...</td>\n",
       "      <td>...</td>\n",
       "      <td>...</td>\n",
       "      <td>...</td>\n",
       "      <td>...</td>\n",
       "    </tr>\n",
       "    <tr>\n",
       "      <th>32411</th>\n",
       "      <td>52</td>\n",
       "      <td>71520</td>\n",
       "      <td>RENT</td>\n",
       "      <td>0.0</td>\n",
       "      <td>VENTURE</td>\n",
       "      <td>E</td>\n",
       "      <td>7000</td>\n",
       "      <td>16.82</td>\n",
       "      <td>0.10</td>\n",
       "      <td>N</td>\n",
       "      <td>28</td>\n",
       "      <td>1</td>\n",
       "      <td>1</td>\n",
       "      <td>1.0</td>\n",
       "    </tr>\n",
       "    <tr>\n",
       "      <th>32426</th>\n",
       "      <td>66</td>\n",
       "      <td>40000</td>\n",
       "      <td>RENT</td>\n",
       "      <td>2.0</td>\n",
       "      <td>EDUCATION</td>\n",
       "      <td>E</td>\n",
       "      <td>7000</td>\n",
       "      <td>15.68</td>\n",
       "      <td>0.17</td>\n",
       "      <td>Y</td>\n",
       "      <td>29</td>\n",
       "      <td>1</td>\n",
       "      <td>1</td>\n",
       "      <td>1.0</td>\n",
       "    </tr>\n",
       "    <tr>\n",
       "      <th>32473</th>\n",
       "      <td>64</td>\n",
       "      <td>56000</td>\n",
       "      <td>RENT</td>\n",
       "      <td>0.0</td>\n",
       "      <td>DEBTCONSOLIDATION</td>\n",
       "      <td>E</td>\n",
       "      <td>10000</td>\n",
       "      <td>16.82</td>\n",
       "      <td>0.18</td>\n",
       "      <td>Y</td>\n",
       "      <td>18</td>\n",
       "      <td>1</td>\n",
       "      <td>1</td>\n",
       "      <td>1.0</td>\n",
       "    </tr>\n",
       "    <tr>\n",
       "      <th>32559</th>\n",
       "      <td>51</td>\n",
       "      <td>58000</td>\n",
       "      <td>RENT</td>\n",
       "      <td>2.0</td>\n",
       "      <td>MEDICAL</td>\n",
       "      <td>E</td>\n",
       "      <td>1500</td>\n",
       "      <td>19.03</td>\n",
       "      <td>0.03</td>\n",
       "      <td>N</td>\n",
       "      <td>24</td>\n",
       "      <td>1</td>\n",
       "      <td>1</td>\n",
       "      <td>1.0</td>\n",
       "    </tr>\n",
       "    <tr>\n",
       "      <th>32563</th>\n",
       "      <td>52</td>\n",
       "      <td>71520</td>\n",
       "      <td>RENT</td>\n",
       "      <td>0.0</td>\n",
       "      <td>EDUCATION</td>\n",
       "      <td>E</td>\n",
       "      <td>7000</td>\n",
       "      <td>16.82</td>\n",
       "      <td>0.10</td>\n",
       "      <td>Y</td>\n",
       "      <td>24</td>\n",
       "      <td>1</td>\n",
       "      <td>1</td>\n",
       "      <td>1.0</td>\n",
       "    </tr>\n",
       "  </tbody>\n",
       "</table>\n",
       "<p>870 rows × 14 columns</p>\n",
       "</div>"
      ],
      "text/plain": [
       "       person_age  person_income person_home_ownership  person_emp_length  \\\n",
       "13             26         108160                  RENT                4.0   \n",
       "21             25         137000                  RENT                9.0   \n",
       "26             21          11000              MORTGAGE                3.0   \n",
       "36             22          48000                  RENT                1.0   \n",
       "40             26          62050                  RENT                6.0   \n",
       "...           ...            ...                   ...                ...   \n",
       "32411          52          71520                  RENT                0.0   \n",
       "32426          66          40000                  RENT                2.0   \n",
       "32473          64          56000                  RENT                0.0   \n",
       "32559          51          58000                  RENT                2.0   \n",
       "32563          52          71520                  RENT                0.0   \n",
       "\n",
       "             loan_intent loan_grade  loan_amnt  loan_int_rate  \\\n",
       "13             EDUCATION          E      35000          18.39   \n",
       "21              PERSONAL          E      34800          16.77   \n",
       "26               VENTURE          E       4575          17.74   \n",
       "36             EDUCATION          E      30000          18.39   \n",
       "40               MEDICAL          E      30000          17.99   \n",
       "...                  ...        ...        ...            ...   \n",
       "32411            VENTURE          E       7000          16.82   \n",
       "32426          EDUCATION          E       7000          15.68   \n",
       "32473  DEBTCONSOLIDATION          E      10000          16.82   \n",
       "32559            MEDICAL          E       1500          19.03   \n",
       "32563          EDUCATION          E       7000          16.82   \n",
       "\n",
       "       loan_percent_income cb_person_default_on_file  \\\n",
       "13                    0.32                         N   \n",
       "21                    0.25                         Y   \n",
       "26                    0.42                         Y   \n",
       "36                    0.63                         N   \n",
       "40                    0.41                         N   \n",
       "...                    ...                       ...   \n",
       "32411                 0.10                         N   \n",
       "32426                 0.17                         Y   \n",
       "32473                 0.18                         Y   \n",
       "32559                 0.03                         N   \n",
       "32563                 0.10                         Y   \n",
       "\n",
       "       cb_person_cred_hist_length  loan_status  loan_grade_vote  \\\n",
       "13                              4            1                1   \n",
       "21                              2            0                1   \n",
       "26                              3            1                1   \n",
       "36                              2            1                1   \n",
       "40                              2            1                1   \n",
       "...                           ...          ...              ...   \n",
       "32411                          28            1                1   \n",
       "32426                          29            1                1   \n",
       "32473                          18            1                1   \n",
       "32559                          24            1                1   \n",
       "32563                          24            1                1   \n",
       "\n",
       "       person_home_ownership_vote  \n",
       "13                            1.0  \n",
       "21                            1.0  \n",
       "26                           -1.0  \n",
       "36                            1.0  \n",
       "40                            1.0  \n",
       "...                           ...  \n",
       "32411                         1.0  \n",
       "32426                         1.0  \n",
       "32473                         1.0  \n",
       "32559                         1.0  \n",
       "32563                         1.0  \n",
       "\n",
       "[870 rows x 14 columns]"
      ]
     },
     "execution_count": 55,
     "metadata": {},
     "output_type": "execute_result"
    }
   ],
   "source": [
    "data[data['loan_grade'] == 'E']"
   ]
  },
  {
   "cell_type": "code",
   "execution_count": 56,
   "id": "9027e20c-4582-4851-8b1c-20df1aad09c1",
   "metadata": {},
   "outputs": [
    {
     "name": "stdout",
     "output_type": "stream",
     "text": [
      "loan_grade=A, 0.903840017019466, 0.12045080215497872\n",
      "loan_grade=B, 0.8411848289430539, 0.05779561407856659\n",
      "loan_grade=C, 0.79691065473056, 0.013521439866072682\n",
      "loan_grade=D, 0.4080689867570065, -0.37532022810748084\n",
      "loan_grade=E, 0.35402298850574715, -0.42936622635874017\n",
      "loan_grade=F, 0.3014354066985646, -0.4819538081659227\n",
      "loan_grade=G, 0.01694915254237288, -0.7664400623221145\n"
     ]
    }
   ],
   "source": [
    "p_baseline = (data['loan_status'] == 0).sum() / len(data)\n",
    "\n",
    "for loan_grade in loan_grades:\n",
    "    p_tmp = ((data['loan_grade'] == loan_grade) & (data['loan_status'] == 0)).sum() / (data['loan_grade'] == loan_grade).sum()\n",
    "    print(f'loan_grade={loan_grade}, {p_tmp}, {p_tmp - p_baseline}')"
   ]
  },
  {
   "cell_type": "code",
   "execution_count": 83,
   "id": "ed897c5c-e8e6-4ac7-9372-6a56a4fbdba3",
   "metadata": {},
   "outputs": [
    {
     "data": {
      "text/plain": [
       "np.float64(0.8180008382229673)"
      ]
     },
     "execution_count": 83,
     "metadata": {},
     "output_type": "execute_result"
    }
   ],
   "source": [
    "(data['loan_status'] == data['loan_grade_predict']).sum() / len(data)"
   ]
  },
  {
   "cell_type": "markdown",
   "id": "75c93c93-18ff-44de-aa05-84b178ac030f",
   "metadata": {},
   "source": [
    "# Binary voting logic for `person_home_ownership`\n",
    "\n",
    "- This one is different to the above\n",
    "- I'm not sure if this is valid logic, really\n",
    "- In the case of the above, some categories have probabilities of loan rejection greater than 0.5\n",
    "- Whereas in this case, all categories are below 0.5\n",
    "- However, the \"baseline\" probability is 0.7834\n",
    "- So subtract this value from the probability measured for each category\n",
    "- This gives an indication as to whether the category is more likely than the average or less likely than the average to predict a loan rejection\n",
    "\n",
    "I wonder whether I should apply the same logic to the above categories? (See above. Answer is it doesn't matter, result is the same.)"
   ]
  },
  {
   "cell_type": "code",
   "execution_count": 29,
   "id": "d78cff53-d0c3-431e-ab3c-2247357d9253",
   "metadata": {},
   "outputs": [
    {
     "data": {
      "text/plain": [
       "['MORTGAGE', 'OTHER', 'OWN', 'RENT']"
      ]
     },
     "execution_count": 29,
     "metadata": {},
     "output_type": "execute_result"
    }
   ],
   "source": [
    "list(sorted(data['person_home_ownership'].unique()))"
   ]
  },
  {
   "cell_type": "code",
   "execution_count": 43,
   "id": "e8ff864c-b3b4-4727-b596-210e8954538e",
   "metadata": {},
   "outputs": [
    {
     "data": {
      "text/plain": [
       "np.float64(0.7833892148644873)"
      ]
     },
     "execution_count": 43,
     "metadata": {},
     "output_type": "execute_result"
    }
   ],
   "source": [
    "# Are other values greater or smaller than this?\n",
    "(data['loan_status'] == 0).sum() / len(data)"
   ]
  },
  {
   "cell_type": "code",
   "execution_count": 40,
   "id": "80c307c6-d62b-4b2b-bb9c-984ab83b8589",
   "metadata": {},
   "outputs": [
    {
     "data": {
      "text/plain": [
       "np.int64(2192)"
      ]
     },
     "execution_count": 40,
     "metadata": {},
     "output_type": "execute_result"
    }
   ],
   "source": [
    "(data['person_home_ownership'] == 'OWN').sum()"
   ]
  },
  {
   "cell_type": "code",
   "execution_count": 41,
   "id": "d9acae86-57e5-48a3-970d-54e732e7a7dd",
   "metadata": {},
   "outputs": [
    {
     "data": {
      "text/plain": [
       "np.int64(2046)"
      ]
     },
     "execution_count": 41,
     "metadata": {},
     "output_type": "execute_result"
    }
   ],
   "source": [
    "((data['person_home_ownership'] == 'OWN') & (data['loan_status'] == 0)).sum()"
   ]
  },
  {
   "cell_type": "code",
   "execution_count": 45,
   "id": "e8976988-b006-4772-a25f-3b0b714d91c2",
   "metadata": {},
   "outputs": [
    {
     "data": {
      "text/plain": [
       "np.float64(0.9333941605839416)"
      ]
     },
     "execution_count": 45,
     "metadata": {},
     "output_type": "execute_result"
    }
   ],
   "source": [
    "# own = accept\n",
    "((data['person_home_ownership'] == 'OWN') & (data['loan_status'] == 0)).sum() / (data['person_home_ownership'] == 'OWN').sum()"
   ]
  },
  {
   "cell_type": "code",
   "execution_count": 32,
   "id": "87ac817f-0a0e-4764-b418-427fa7f4dcff",
   "metadata": {},
   "outputs": [
    {
     "data": {
      "text/plain": [
       "11798"
      ]
     },
     "execution_count": 32,
     "metadata": {},
     "output_type": "execute_result"
    }
   ],
   "source": [
    "len(data[data['person_home_ownership'] == 'MORTGAGE'])"
   ]
  },
  {
   "cell_type": "code",
   "execution_count": 31,
   "id": "09998e2b-e535-4bdd-af2b-d208f8e68258",
   "metadata": {},
   "outputs": [
    {
     "data": {
      "text/plain": [
       "np.int64(11798)"
      ]
     },
     "execution_count": 31,
     "metadata": {},
     "output_type": "execute_result"
    }
   ],
   "source": [
    "(data['person_home_ownership'] == 'MORTGAGE').sum()"
   ]
  },
  {
   "cell_type": "code",
   "execution_count": 33,
   "id": "ad764145-8382-4184-8042-af9a51ca936e",
   "metadata": {},
   "outputs": [
    {
     "data": {
      "text/plain": [
       "np.int64(10313)"
      ]
     },
     "execution_count": 33,
     "metadata": {},
     "output_type": "execute_result"
    }
   ],
   "source": [
    "((data['person_home_ownership'] == 'MORTGAGE') & (data['loan_status'] == 0)).sum()"
   ]
  },
  {
   "cell_type": "code",
   "execution_count": 47,
   "id": "0cb1e6d7-68d3-45f6-bf6b-1ca6e4bcf679",
   "metadata": {},
   "outputs": [
    {
     "data": {
      "text/plain": [
       "np.float64(0.8741312086794372)"
      ]
     },
     "execution_count": 47,
     "metadata": {},
     "output_type": "execute_result"
    }
   ],
   "source": [
    "# mortgage = accept\n",
    "((data['person_home_ownership'] == 'MORTGAGE') & (data['loan_status'] == 0)).sum() / (data['person_home_ownership'] == 'MORTGAGE').sum()"
   ]
  },
  {
   "cell_type": "code",
   "execution_count": 37,
   "id": "c4d66d2b-f16f-4d32-aa9a-b7f2d5962482",
   "metadata": {},
   "outputs": [
    {
     "data": {
      "text/plain": [
       "np.int64(14548)"
      ]
     },
     "execution_count": 37,
     "metadata": {},
     "output_type": "execute_result"
    }
   ],
   "source": [
    "(data['person_home_ownership'] == 'RENT').sum()"
   ]
  },
  {
   "cell_type": "code",
   "execution_count": 39,
   "id": "de976c80-3447-4915-be05-5078e1f95663",
   "metadata": {},
   "outputs": [
    {
     "data": {
      "text/plain": [
       "np.int64(10004)"
      ]
     },
     "execution_count": 39,
     "metadata": {},
     "output_type": "execute_result"
    }
   ],
   "source": [
    "((data['person_home_ownership'] == 'RENT') & (data['loan_status'] == 0)).sum()"
   ]
  },
  {
   "cell_type": "code",
   "execution_count": 49,
   "id": "356ce102-f74b-43d9-8ab3-5829363f9602",
   "metadata": {},
   "outputs": [
    {
     "data": {
      "text/plain": [
       "np.float64(0.687654660434424)"
      ]
     },
     "execution_count": 49,
     "metadata": {},
     "output_type": "execute_result"
    }
   ],
   "source": [
    "# rent = reject\n",
    "((data['person_home_ownership'] == 'RENT') & (data['loan_status'] == 0)).sum() / (data['person_home_ownership'] == 'RENT').sum()"
   ]
  },
  {
   "cell_type": "code",
   "execution_count": 50,
   "id": "e9fe03c9-4ee8-41cd-9901-3cb990e3247e",
   "metadata": {},
   "outputs": [
    {
     "data": {
      "text/plain": [
       "np.float64(0.7127659574468085)"
      ]
     },
     "execution_count": 50,
     "metadata": {},
     "output_type": "execute_result"
    }
   ],
   "source": [
    "# other = reject\n",
    "((data['person_home_ownership'] == 'OTHER') & (data['loan_status'] == 0)).sum() / (data['person_home_ownership'] == 'OTHER').sum()"
   ]
  },
  {
   "cell_type": "code",
   "execution_count": 52,
   "id": "b63355a5-2793-41b2-89b1-b08ffdd5cf65",
   "metadata": {},
   "outputs": [],
   "source": [
    "data.loc[data['person_home_ownership'] == 'OWN', 'person_home_ownership_vote'] = -1\n",
    "data.loc[data['person_home_ownership'] == 'MORTGAGE', 'person_home_ownership_vote'] = -1\n",
    "data.loc[data['person_home_ownership'] == 'RENT', 'person_home_ownership_vote'] = 1\n",
    "data.loc[data['person_home_ownership'] == 'OTHER', 'person_home_ownership_vote'] = 1"
   ]
  },
  {
   "cell_type": "code",
   "execution_count": 85,
   "id": "a262aedb-326a-4114-ad91-1527df5a3a07",
   "metadata": {},
   "outputs": [
    {
     "data": {
      "text/plain": [
       "np.float64(0.5912964515227718)"
      ]
     },
     "execution_count": 85,
     "metadata": {},
     "output_type": "execute_result"
    }
   ],
   "source": [
    "data['person_home_ownership_predict'] = data['person_home_ownership_vote'].map(lambda x: 0 if x == -1 else 1)\n",
    "\n",
    "(data['loan_status'] == data['person_home_ownership_predict']).sum() / len(data)"
   ]
  },
  {
   "cell_type": "markdown",
   "id": "81bdda62-6cee-4a9d-b088-ccb9dd341a92",
   "metadata": {},
   "source": [
    "# Binary voting logic for `loan_intent`"
   ]
  },
  {
   "cell_type": "code",
   "execution_count": 57,
   "id": "932e87e6-c53b-441e-9485-72170aeaf04a",
   "metadata": {},
   "outputs": [
    {
     "data": {
      "text/plain": [
       "['DEBTCONSOLIDATION',\n",
       " 'EDUCATION',\n",
       " 'HOMEIMPROVEMENT',\n",
       " 'MEDICAL',\n",
       " 'PERSONAL',\n",
       " 'VENTURE']"
      ]
     },
     "execution_count": 57,
     "metadata": {},
     "output_type": "execute_result"
    }
   ],
   "source": [
    "list(sorted(data['loan_intent'].unique()))"
   ]
  },
  {
   "cell_type": "code",
   "execution_count": 73,
   "id": "85cea350-979a-45a6-92be-c5c5af99626f",
   "metadata": {},
   "outputs": [],
   "source": [
    "loan_intentions = list(sorted(data['loan_intent'].unique()))"
   ]
  },
  {
   "cell_type": "code",
   "execution_count": 74,
   "id": "7275f3f9-4c27-452c-b04f-e6a8fbb760fb",
   "metadata": {},
   "outputs": [
    {
     "data": {
      "text/plain": [
       "['DEBTCONSOLIDATION',\n",
       " 'EDUCATION',\n",
       " 'HOMEIMPROVEMENT',\n",
       " 'MEDICAL',\n",
       " 'PERSONAL',\n",
       " 'VENTURE']"
      ]
     },
     "execution_count": 74,
     "metadata": {},
     "output_type": "execute_result"
    }
   ],
   "source": [
    "loan_intentions"
   ]
  },
  {
   "cell_type": "code",
   "execution_count": 76,
   "id": "d542a204-c5d0-4a5c-9964-f557179ce401",
   "metadata": {},
   "outputs": [
    {
     "name": "stdout",
     "output_type": "stream",
     "text": [
      "loan_intent=DEBTCONSOLIDATION, 0.7161007667031764, -0.06728844816131097\n",
      "loan_intent=EDUCATION, 0.8297088740792704, 0.04631965921478309\n",
      "loan_intent=HOMEIMPROVEMENT, 0.743277048155097, -0.04011216670939033\n",
      "loan_intent=MEDICAL, 0.7315322123559418, -0.051857002508545524\n",
      "loan_intent=PERSONAL, 0.8026666666666666, 0.019277451802179324\n",
      "loan_intent=VENTURE, 0.8537707541508301, 0.07038153928634283\n"
     ]
    }
   ],
   "source": [
    "p_baseline = (data['loan_status'] == 0).sum() / len(data)\n",
    "\n",
    "for loan_intent in loan_intentions:\n",
    "    p_tmp = ((data['loan_intent'] == loan_intent) & (data['loan_status'] == 0)).sum() / (data['loan_intent'] == loan_intent).sum()\n",
    "    print(f'loan_intent={loan_intent}, {p_tmp}, {p_tmp - p_baseline}')"
   ]
  },
  {
   "cell_type": "code",
   "execution_count": null,
   "id": "72a6fbd5-9bf0-43ab-98cd-657dd6950470",
   "metadata": {},
   "outputs": [],
   "source": [
    "# DEBT = reject\n",
    "# EDUCATION = accept\n",
    "# HOME = reject\n",
    "# MEDICAL = reject\n",
    "# PERSONAL = accept\n",
    "# VENTURE = accept"
   ]
  },
  {
   "cell_type": "code",
   "execution_count": 65,
   "id": "eeac2b66-05c3-4f4a-93f8-7854b91e1963",
   "metadata": {},
   "outputs": [
    {
     "data": {
      "text/plain": [
       "np.int64(4731)"
      ]
     },
     "execution_count": 65,
     "metadata": {},
     "output_type": "execute_result"
    }
   ],
   "source": [
    "((data['loan_intent'] == 'EDUCATION') & (data['loan_status'] == 0)).sum()"
   ]
  },
  {
   "cell_type": "code",
   "execution_count": 66,
   "id": "ee81283a-c795-4a1b-9be5-7c2b9a539563",
   "metadata": {},
   "outputs": [
    {
     "data": {
      "text/plain": [
       "np.int64(5702)"
      ]
     },
     "execution_count": 66,
     "metadata": {},
     "output_type": "execute_result"
    }
   ],
   "source": [
    "(data['loan_intent'] == 'EDUCATION').sum()"
   ]
  },
  {
   "cell_type": "code",
   "execution_count": 68,
   "id": "01231609-075d-4b3f-a47b-7bc5e4eebfd1",
   "metadata": {},
   "outputs": [
    {
     "data": {
      "text/plain": [
       "np.int64(4731)"
      ]
     },
     "execution_count": 68,
     "metadata": {},
     "output_type": "execute_result"
    }
   ],
   "source": [
    "((data['loan_intent'] == 'EDUCATION') & (data['loan_status'] == 0)).sum()"
   ]
  },
  {
   "cell_type": "code",
   "execution_count": 84,
   "id": "14035d93-bbad-4397-a449-bc7861ae80ce",
   "metadata": {},
   "outputs": [],
   "source": [
    "data.loc[data['loan_intent'] == 'DEBTCONSOLIDATION', 'loan_intent_vote'] = 1\n",
    "data.loc[data['loan_intent'] == 'EDUCATION', 'loan_intent_vote'] = -1\n",
    "data.loc[data['loan_intent'] == 'HOMEIMPROVEMENT', 'loan_intent_vote'] = 1\n",
    "data.loc[data['loan_intent'] == 'MEDICAL', 'loan_intent_vote'] = 1\n",
    "data.loc[data['loan_intent'] == 'PERSONAL', 'loan_intent_vote'] = -1\n",
    "data.loc[data['loan_intent'] == 'VENTURE', 'loan_intent_vote'] = -1"
   ]
  },
  {
   "cell_type": "code",
   "execution_count": 86,
   "id": "a8fb4601-7e0a-41e7-830c-45d25ea653f0",
   "metadata": {},
   "outputs": [
    {
     "data": {
      "text/plain": [
       "np.float64(0.5745319921765857)"
      ]
     },
     "execution_count": 86,
     "metadata": {},
     "output_type": "execute_result"
    }
   ],
   "source": [
    "data['loan_intent_predict'] = data['loan_intent_vote'].map(lambda x: 0 if x == -1 else 1)\n",
    "\n",
    "(data['loan_status'] == data['loan_intent_predict']).sum() / len(data)"
   ]
  },
  {
   "cell_type": "markdown",
   "id": "322af15a-7c0b-4339-b52a-341e3b5ecbb1",
   "metadata": {},
   "source": [
    "# Binary voting logic for `cb_person_default_on_file`"
   ]
  },
  {
   "cell_type": "code",
   "execution_count": 100,
   "id": "7c02e7d9-8a27-470e-b0ce-23873d33ef19",
   "metadata": {},
   "outputs": [
    {
     "name": "stdout",
     "output_type": "stream",
     "text": [
      "cb_person_default_on_file=N, 0.8182745431364216, 0.034885328271934246\n",
      "cb_person_default_on_file=Y, 0.62250098000784, -0.16088823485664727\n"
     ]
    }
   ],
   "source": [
    "p_baseline = (data['loan_status'] == 0).sum() / len(data)\n",
    "\n",
    "for cb_person_default_on_file in sorted(data['cb_person_default_on_file'].unique()):\n",
    "    p_tmp = ((data['cb_person_default_on_file'] == cb_person_default_on_file) & (data['loan_status'] == 0)).sum() / (data['cb_person_default_on_file'] == cb_person_default_on_file).sum()\n",
    "    print(f'cb_person_default_on_file={cb_person_default_on_file}, {p_tmp}, {p_tmp - p_baseline}')"
   ]
  },
  {
   "cell_type": "code",
   "execution_count": 101,
   "id": "f4807013-78b9-4ebb-9d92-afcc9ccfd3ee",
   "metadata": {},
   "outputs": [
    {
     "data": {
      "text/plain": [
       "np.float64(0.739731768650461)"
      ]
     },
     "execution_count": 101,
     "metadata": {},
     "output_type": "execute_result"
    }
   ],
   "source": [
    "data.loc[data['cb_person_default_on_file'] == 'Y', 'cb_person_default_on_file_vote'] = 1\n",
    "data.loc[data['cb_person_default_on_file'] == 'N', 'cb_person_default_on_file_vote'] = -1\n",
    "\n",
    "data['cb_person_default_on_file_predict'] = data['cb_person_default_on_file_vote'].map(lambda x: 0 if x == -1 else 1)\n",
    "\n",
    "(data['loan_status'] == data['cb_person_default_on_file_predict']).sum() / len(data)"
   ]
  },
  {
   "cell_type": "code",
   "execution_count": null,
   "id": "07307825-2332-4f03-8b51-b2100928691e",
   "metadata": {},
   "outputs": [],
   "source": []
  },
  {
   "cell_type": "code",
   "execution_count": 27,
   "id": "805f6846-ca97-40e8-89bd-c61e5e15229c",
   "metadata": {},
   "outputs": [
    {
     "data": {
      "text/plain": [
       "Index(['person_age', 'person_income', 'person_home_ownership',\n",
       "       'person_emp_length', 'loan_intent', 'loan_grade', 'loan_amnt',\n",
       "       'loan_int_rate', 'loan_percent_income', 'cb_person_default_on_file',\n",
       "       'cb_person_cred_hist_length', 'loan_status', 'loan_grade_vote'],\n",
       "      dtype='object')"
      ]
     },
     "execution_count": 27,
     "metadata": {},
     "output_type": "execute_result"
    }
   ],
   "source": [
    "data.columns"
   ]
  },
  {
   "cell_type": "markdown",
   "id": "9fc7ba22-031b-43f5-95e6-e786f3fd669c",
   "metadata": {},
   "source": [
    "# Voting combinations"
   ]
  },
  {
   "cell_type": "code",
   "execution_count": 89,
   "id": "2edc41e4-8f8f-4fe1-ba98-4b2b63fb776f",
   "metadata": {},
   "outputs": [
    {
     "data": {
      "text/plain": [
       "False"
      ]
     },
     "execution_count": 89,
     "metadata": {},
     "output_type": "execute_result"
    }
   ],
   "source": [
    "'loan_status_predict' in data.columns"
   ]
  },
  {
   "cell_type": "code",
   "execution_count": 118,
   "id": "633b6822-02c1-4ed9-9ba2-0657b7deda20",
   "metadata": {},
   "outputs": [
    {
     "data": {
      "text/plain": [
       "np.int64(23480)"
      ]
     },
     "execution_count": 118,
     "metadata": {},
     "output_type": "execute_result"
    }
   ],
   "source": [
    "(data['loan_status_vote'] < 0).sum()\n",
    "\n",
    "# 3913 > 0\n",
    "# 1239 == 0\n",
    "# 23480 < 0"
   ]
  },
  {
   "cell_type": "code",
   "execution_count": 120,
   "id": "b6635424-397d-4002-8fc7-2f7d90e1487a",
   "metadata": {},
   "outputs": [
    {
     "data": {
      "text/plain": [
       "np.float64(0.8285484772282761)"
      ]
     },
     "execution_count": 120,
     "metadata": {},
     "output_type": "execute_result"
    }
   ],
   "source": [
    "data['loan_status_vote'] = (\n",
    "    data['person_home_ownership_vote'] +\n",
    "    data['loan_intent_vote'] +\n",
    "    4 * data['loan_grade_vote'] +\n",
    "    2 * data['cb_person_default_on_file_vote']\n",
    ")\n",
    "\n",
    "data['loan_status_predict'] = data['loan_status_vote'] > 0\n",
    "\n",
    "(data['loan_status'] == data['loan_status_predict']).sum() / len(data)"
   ]
  },
  {
   "cell_type": "markdown",
   "id": "3dc9494b-634f-4d14-a4d3-66a92a912d3c",
   "metadata": {},
   "source": [
    "### Notes\n",
    "\n",
    "- `loan_intent_vote` by itself produces accuracy of 0.575\n",
    "- `person_home_ownership_vote` by itself produces accuracy of 0.591\n",
    "- both together produces accuracy 0.713\n",
    "\n",
    "This is less than just predicting that all loans are approved, but the significant improvement produced by combining two predictors suggests this voting based method may be useful.\n",
    "\n",
    "- Adding `loan_grade_vote` increases the accuracy to 0.736, which is only a marginal improvement\n",
    "- Removing all except `loan_grade_vote` increases the accuracy to 0.818. This suggests the other variables are reducing the effectiveness of the prediction by introducing noise\n",
    "\n",
    "###### `cb_person_default_on_file_vote`:\n",
    "\n",
    "- `cb_person_default_on_file_vote`: 0.740\n",
    "- `cb_person_default_on_file_vote` + `person_home_ownership_vote`: 0.777\n",
    "- `cb_person_default_on_file_vote` + `loan_intent_vote`: 0.781\n",
    "- `cb_person_default_on_file_vote` + `loan_grade_vote`: 0.801\n",
    "\n",
    "Managed to get an accuracy of 0.829 by using the following combination:\n",
    "\n",
    "- `person_home_ownership_vote` + `loan_intent_vote` + 4 * `loan_grade_vote` + 2 * `cb_person_default_on_file_vote`"
   ]
  },
  {
   "cell_type": "code",
   "execution_count": null,
   "id": "7f0f62e0-dffd-4e99-b158-58f99d561fc3",
   "metadata": {},
   "outputs": [],
   "source": []
  }
 ],
 "metadata": {
  "kernelspec": {
   "display_name": "Python 3 (ipykernel)",
   "language": "python",
   "name": "python3"
  },
  "language_info": {
   "codemirror_mode": {
    "name": "ipython",
    "version": 3
   },
   "file_extension": ".py",
   "mimetype": "text/x-python",
   "name": "python",
   "nbconvert_exporter": "python",
   "pygments_lexer": "ipython3",
   "version": "3.12.7"
  }
 },
 "nbformat": 4,
 "nbformat_minor": 5
}
