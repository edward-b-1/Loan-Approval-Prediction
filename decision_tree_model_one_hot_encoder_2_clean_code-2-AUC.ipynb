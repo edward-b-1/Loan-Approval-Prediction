{
 "cells": [
  {
   "cell_type": "markdown",
   "id": "c2d42acd-bf5b-4651-9aec-da70a79dc8fc",
   "metadata": {},
   "source": [
    "# Decision Tree Model with One Hot Encoder for Categorical Variables\n",
    "\n",
    "- Clean code version\n",
    "- This version produced to produce a better tree diagram figure\n",
    "- Also added state space search for meta parameter tuning\n",
    "\n",
    "AUC: First test if optimizing for a threshold other than 0.5 produces a better accuracy, given that the default prediction should be about 0.78.\n",
    "\n",
    "- Result: Might be slightly better, but difficult to tell from the numbers\n",
    "\n",
    "Now that I have a function to calculate AUC, plot AUC as a function of the parameters"
   ]
  },
  {
   "cell_type": "code",
   "execution_count": 217,
   "id": "b9f96723-0f0e-4d60-9d0d-3c3991811d08",
   "metadata": {},
   "outputs": [
    {
     "name": "stdout",
     "output_type": "stream",
     "text": [
      "The autoreload extension is already loaded. To reload it, use:\n",
      "  %reload_ext autoreload\n"
     ]
    }
   ],
   "source": [
    "%load_ext autoreload\n",
    "%autoreload 2"
   ]
  },
  {
   "cell_type": "code",
   "execution_count": 218,
   "id": "4b773ab0-b64c-419c-bd8b-f293c6b1116e",
   "metadata": {},
   "outputs": [],
   "source": [
    "import math\n",
    "import pandas\n",
    "import numpy\n",
    "import itertools\n",
    "import matplotlib.pyplot as plt\n",
    "import sklearn\n",
    "from sklearn import tree\n",
    "from sklearn.metrics import log_loss\n",
    "from sklearn.preprocessing import OrdinalEncoder\n",
    "from sklearn.preprocessing import OneHotEncoder\n",
    "from sklearn.naive_bayes import CategoricalNB"
   ]
  },
  {
   "cell_type": "code",
   "execution_count": 219,
   "id": "326d9b5b-9405-40d5-8250-bc4ce0456168",
   "metadata": {},
   "outputs": [],
   "source": [
    "import loan_approval_lib\n",
    "from loan_approval_lib import logspace, linspace"
   ]
  },
  {
   "cell_type": "code",
   "execution_count": 220,
   "id": "4af1089e-4caa-474c-89c0-96fc59a6d9ec",
   "metadata": {},
   "outputs": [],
   "source": [
    "from loan_approval_lib.standard_data_processing import data_cleaning_algorithm\n",
    "from loan_approval_lib.standard_data_processing import create_loan_grade_numerical_from_loan_grade\n",
    "from loan_approval_lib.standard_data_processing import create_person_home_ownership_one_hot_encoder\n",
    "from loan_approval_lib.standard_data_processing import create_person_home_ownership_one_hot\n",
    "from loan_approval_lib.standard_data_processing import create_loan_intent_one_hot_encoder\n",
    "from loan_approval_lib.standard_data_processing import create_loan_intent_one_hot\n",
    "from loan_approval_lib.standard_data_processing import map_cb_person_default_on_file\n",
    "from loan_approval_lib.standard_data_processing import create_decision_tree_columns\n",
    "from loan_approval_lib.standard_data_processing import create_decision_tree_columns_with_id\n",
    "from loan_approval_lib.standard_data_processing import create_dataframe_copy_and_drop_columns\n",
    "from loan_approval_lib.standard_data_processing import create_decision_tree_columns\n",
    "from loan_approval_lib.standard_data_processing import create_decision_tree_columns_with_id"
   ]
  },
  {
   "cell_type": "code",
   "execution_count": 221,
   "id": "007cf335-7def-4213-bc9a-ce31a635f0f0",
   "metadata": {},
   "outputs": [],
   "source": [
    "data = loan_approval_lib.load_original_data()"
   ]
  },
  {
   "cell_type": "code",
   "execution_count": 222,
   "id": "82e3c7a1-c1e6-4273-bcf0-6b6a1cdef01b",
   "metadata": {},
   "outputs": [],
   "source": [
    "data_train = loan_approval_lib.load_data_train()"
   ]
  },
  {
   "cell_type": "code",
   "execution_count": 223,
   "id": "7c044ae4-5dba-405a-af64-1f0a40b131ae",
   "metadata": {},
   "outputs": [],
   "source": [
    "data_test = loan_approval_lib.load_data_test()"
   ]
  },
  {
   "cell_type": "markdown",
   "id": "0ffd51d3-37be-485a-be69-9a45a52e9f04",
   "metadata": {},
   "source": [
    "# Data Cleaning"
   ]
  },
  {
   "cell_type": "code",
   "execution_count": 224,
   "id": "3fa25427-b0c3-49d7-96b2-7dd205ae8f7c",
   "metadata": {},
   "outputs": [
    {
     "name": "stdout",
     "output_type": "stream",
     "text": [
      "column person_age, number of removed rows: 5\n",
      "column person_income, number of removed rows: 0\n",
      "column person_emp_length, number of removed rows: 897\n",
      "column loan_amnt, number of removed rows: 0\n",
      "column loan_int_rate, number of removed rows: 3047\n",
      "column loan_percent_income, number of removed rows: 0\n",
      "column cb_person_default_on_file, number of removed rows: 0\n"
     ]
    }
   ],
   "source": [
    "data = data_cleaning_algorithm(data)"
   ]
  },
  {
   "cell_type": "code",
   "execution_count": 225,
   "id": "2b1e0d94-9c21-4c0e-a20d-77e42e4fae0b",
   "metadata": {},
   "outputs": [
    {
     "name": "stdout",
     "output_type": "stream",
     "text": [
      "column person_age, number of removed rows: 1\n",
      "column person_income, number of removed rows: 0\n",
      "column person_emp_length, number of removed rows: 2\n",
      "column loan_amnt, number of removed rows: 0\n",
      "column loan_int_rate, number of removed rows: 0\n",
      "column loan_percent_income, number of removed rows: 0\n",
      "column cb_person_default_on_file, number of removed rows: 0\n"
     ]
    }
   ],
   "source": [
    "data_train = data_cleaning_algorithm(data_train)"
   ]
  },
  {
   "cell_type": "code",
   "execution_count": 226,
   "id": "e921cb86-97c8-46b3-8b05-e8b3e3322c70",
   "metadata": {},
   "outputs": [
    {
     "name": "stdout",
     "output_type": "stream",
     "text": [
      "column person_age, number of removed rows: 0\n",
      "column person_income, number of removed rows: 0\n",
      "column person_emp_length, number of removed rows: 0\n",
      "column loan_amnt, number of removed rows: 0\n",
      "column loan_int_rate, number of removed rows: 0\n",
      "column loan_percent_income, number of removed rows: 0\n",
      "column cb_person_default_on_file, number of removed rows: 0\n"
     ]
    }
   ],
   "source": [
    "data_cleaning_algorithm(data_test)\n",
    "None"
   ]
  },
  {
   "cell_type": "code",
   "execution_count": 227,
   "id": "4fcaef1d-c92e-4d89-a07f-8c1a735075b6",
   "metadata": {},
   "outputs": [],
   "source": [
    "# Loan Grade\n",
    "\n",
    "create_loan_grade_numerical_from_loan_grade(data, data_train, data_test)"
   ]
  },
  {
   "cell_type": "code",
   "execution_count": 228,
   "id": "6acb7539-12e6-440a-8725-eb990b6211c6",
   "metadata": {},
   "outputs": [],
   "source": [
    "# Person Home Ownership\n",
    "\n",
    "encoder = create_person_home_ownership_one_hot_encoder(data)\n",
    "\n",
    "data = create_person_home_ownership_one_hot(encoder, data)\n",
    "data_train = create_person_home_ownership_one_hot(encoder, data_train)\n",
    "data_test = create_person_home_ownership_one_hot(encoder, data_test)"
   ]
  },
  {
   "cell_type": "code",
   "execution_count": 229,
   "id": "4d5be8ac-8f18-4e22-ad31-21d2ec2b5e27",
   "metadata": {},
   "outputs": [],
   "source": [
    "# Loan Intent\n",
    "\n",
    "encoder = create_loan_intent_one_hot_encoder(data)\n",
    "\n",
    "data = create_loan_intent_one_hot(encoder, data)\n",
    "data_train = create_loan_intent_one_hot(encoder, data_train)\n",
    "data_test = create_loan_intent_one_hot(encoder, data_test)"
   ]
  },
  {
   "cell_type": "code",
   "execution_count": 230,
   "id": "6d3135f9-ca31-4fc3-90fb-752c8bc63602",
   "metadata": {},
   "outputs": [],
   "source": [
    "# Default On File\n",
    "\n",
    "data = map_cb_person_default_on_file(data)\n",
    "data_train = map_cb_person_default_on_file(data_train)\n",
    "data_test = map_cb_person_default_on_file(data_test)"
   ]
  },
  {
   "cell_type": "markdown",
   "id": "c14943f5-25e7-4202-84de-346af9babdcc",
   "metadata": {},
   "source": [
    "# Choose Columns for Tree Model, Copy DataFrame and Drop Unused Columns"
   ]
  },
  {
   "cell_type": "code",
   "execution_count": 231,
   "id": "f6884c59-63b4-45ec-bbb8-dc0d6ce3904e",
   "metadata": {},
   "outputs": [],
   "source": [
    "decision_tree_columns = create_decision_tree_columns()\n",
    "decision_tree_columns_with_id = create_decision_tree_columns_with_id()"
   ]
  },
  {
   "cell_type": "code",
   "execution_count": 232,
   "id": "ff9e469c-1555-42eb-9065-1ea19fd017ea",
   "metadata": {},
   "outputs": [],
   "source": [
    "data_copy = create_dataframe_copy_and_drop_columns(data)\n",
    "data_train_copy = create_dataframe_copy_and_drop_columns(data_train)\n",
    "data_test_copy = create_dataframe_copy_and_drop_columns(data_test)"
   ]
  },
  {
   "cell_type": "markdown",
   "id": "806ecbc0-bb9c-4e24-a60e-70110fd06b33",
   "metadata": {},
   "source": [
    "# Optimize Choice of Dataset"
   ]
  },
  {
   "cell_type": "code",
   "execution_count": 233,
   "id": "0bfbd3d3-d18f-49c7-9af6-7692861deda2",
   "metadata": {},
   "outputs": [],
   "source": [
    "all_training_data = pandas.concat(\n",
    "    [data_copy, data_train_copy],\n",
    "    axis=0,\n",
    ")\n",
    "all_training_data.reset_index(inplace=True, drop=True)"
   ]
  },
  {
   "cell_type": "code",
   "execution_count": 234,
   "id": "d467ef8e-5070-4ecf-876b-184b34d8d23a",
   "metadata": {},
   "outputs": [],
   "source": [
    "permutation = numpy.random.permutation(all_training_data.index)"
   ]
  },
  {
   "cell_type": "code",
   "execution_count": 235,
   "id": "44268f67-e1b0-4952-a600-ccb2d547b528",
   "metadata": {},
   "outputs": [
    {
     "data": {
      "text/plain": [
       "87274"
      ]
     },
     "execution_count": 235,
     "metadata": {},
     "output_type": "execute_result"
    }
   ],
   "source": [
    "n_samples = len(all_training_data)\n",
    "n_samples"
   ]
  },
  {
   "cell_type": "code",
   "execution_count": 236,
   "id": "c40ebd76-ee1a-486b-9a48-6223f379a77f",
   "metadata": {},
   "outputs": [],
   "source": [
    "k = 100"
   ]
  },
  {
   "cell_type": "code",
   "execution_count": 237,
   "id": "2c668708-425d-4c4f-acc0-a596dbf309dc",
   "metadata": {},
   "outputs": [
    {
     "data": {
      "text/plain": [
       "array([872, 872, 872, 872, 872, 872, 872, 872, 872, 872, 872, 872, 872,\n",
       "       872, 872, 872, 872, 872, 872, 872, 872, 872, 872, 872, 872, 872,\n",
       "       872, 872, 872, 872, 872, 872, 872, 872, 872, 872, 872, 872, 872,\n",
       "       872, 872, 872, 872, 872, 872, 872, 872, 872, 872, 872, 872, 872,\n",
       "       872, 872, 872, 872, 872, 872, 872, 872, 872, 872, 872, 872, 872,\n",
       "       872, 872, 872, 872, 872, 872, 872, 872, 872, 872, 872, 872, 872,\n",
       "       872, 872, 872, 872, 872, 872, 872, 872, 872, 872, 872, 872, 872,\n",
       "       872, 872, 872, 872, 872, 872, 872, 872, 872])"
      ]
     },
     "execution_count": 237,
     "metadata": {},
     "output_type": "execute_result"
    }
   ],
   "source": [
    "fold_sizes = numpy.full(k, n_samples // k, dtype=int)\n",
    "fold_sizes"
   ]
  },
  {
   "cell_type": "code",
   "execution_count": 238,
   "id": "7869917e-efe9-46c5-8b5b-5a234e464e4d",
   "metadata": {},
   "outputs": [
    {
     "data": {
      "text/plain": [
       "array([873, 873, 873, 873, 873, 873, 873, 873, 873, 873, 873, 873, 873,\n",
       "       873, 873, 873, 873, 873, 873, 873, 873, 873, 873, 873, 873, 873,\n",
       "       873, 873, 873, 873, 873, 873, 873, 873, 873, 873, 873, 873, 873,\n",
       "       873, 873, 873, 873, 873, 873, 873, 873, 873, 873, 873, 873, 873,\n",
       "       873, 873, 873, 873, 873, 873, 873, 873, 873, 873, 873, 873, 873,\n",
       "       873, 873, 873, 873, 873, 873, 873, 873, 873, 872, 872, 872, 872,\n",
       "       872, 872, 872, 872, 872, 872, 872, 872, 872, 872, 872, 872, 872,\n",
       "       872, 872, 872, 872, 872, 872, 872, 872, 872])"
      ]
     },
     "execution_count": 238,
     "metadata": {},
     "output_type": "execute_result"
    }
   ],
   "source": [
    "fold_sizes[:n_samples % k] += 1\n",
    "fold_sizes"
   ]
  },
  {
   "cell_type": "code",
   "execution_count": 239,
   "id": "ed65af4e-5fce-4513-877f-54bb665186d0",
   "metadata": {},
   "outputs": [],
   "source": [
    "index = 0\n",
    "folds = []\n",
    "for fold_size in fold_sizes:\n",
    "    start = index\n",
    "    stop = index + fold_size\n",
    "    folds.append(permutation[start:stop])\n",
    "    index = stop"
   ]
  },
  {
   "cell_type": "markdown",
   "id": "f19a2d8b-d69f-44da-b060-023e3a18d314",
   "metadata": {},
   "source": [
    "# Decision Tree Model"
   ]
  },
  {
   "cell_type": "code",
   "execution_count": 240,
   "id": "10f9423d-75cf-4d07-bec2-0e68e4bbed20",
   "metadata": {},
   "outputs": [],
   "source": [
    "def decision_tree_model_train(\n",
    "    data_train,\n",
    "    decision_tree_columns,\n",
    "    max_depth,\n",
    "    min_samples_split,\n",
    "    max_leaf_nodes,\n",
    "    min_samples_leaf,\n",
    "    min_impurity_decrease,\n",
    "):\n",
    "    \n",
    "    X = data_train[decision_tree_columns].copy()\n",
    "    Y = data_train['loan_status'].copy()\n",
    "    \n",
    "    clf = tree.DecisionTreeClassifier(\n",
    "        criterion='entropy',\n",
    "        max_depth=max_depth,\n",
    "        min_samples_split=min_samples_split,\n",
    "        min_samples_leaf=min_samples_leaf,\n",
    "        max_features=None,\n",
    "        max_leaf_nodes=max_leaf_nodes,\n",
    "        min_impurity_decrease=min_impurity_decrease,\n",
    "    )\n",
    "    clf = clf.fit(X, Y)\n",
    "\n",
    "    feature_importances = pandas.Series(clf.feature_importances_, index=X.columns).sort_values(ascending=False)\n",
    "    feature_importances = feature_importances[feature_importances > 0]\n",
    "\n",
    "    Z = clf.predict(X)\n",
    "    X['loan_status_predict'] = Z\n",
    "    X['loan_status'] = data_train['loan_status']\n",
    "    accuracy_in_sample = (X['loan_status'] == X['loan_status_predict']).sum() / len(X)\n",
    "\n",
    "    return (clf, feature_importances, accuracy_in_sample)"
   ]
  },
  {
   "cell_type": "code",
   "execution_count": 241,
   "id": "063f22e3-7f40-4616-b2ed-f3215a9af4a2",
   "metadata": {},
   "outputs": [],
   "source": [
    "def decision_tree_model_test(\n",
    "    clf,\n",
    "    data_test,\n",
    "    decision_tree_columns,\n",
    "):\n",
    "\n",
    "    X_test = data_test[decision_tree_columns].copy()\n",
    "    \n",
    "    Z_test = clf.predict(X_test)\n",
    "    X_test['loan_status_predict'] = Z_test\n",
    "    X_test['loan_status'] = data_test['loan_status']\n",
    "    accuracy_out_of_sample = (X_test['loan_status'] == X_test['loan_status_predict']).sum() / len(X_test)\n",
    "    \n",
    "    return accuracy_out_of_sample"
   ]
  },
  {
   "cell_type": "code",
   "execution_count": 242,
   "id": "57e44ac2-c8b7-4fdc-b96d-e44b0e13178f",
   "metadata": {},
   "outputs": [],
   "source": [
    "def decision_tree_model_predict_proba(\n",
    "    clf,\n",
    "    data_test,\n",
    "    decision_tree_columns,\n",
    "):\n",
    "    \n",
    "    X_test = data_test[decision_tree_columns].copy()\n",
    "    \n",
    "    Z_test = clf.predict_proba(X_test)[:, 1]\n",
    "\n",
    "    return Z_test"
   ]
  },
  {
   "cell_type": "code",
   "execution_count": 243,
   "id": "fceabde4-2e6e-4e35-b4e4-efaca0713fb7",
   "metadata": {},
   "outputs": [],
   "source": [
    "def decision_tree_model_test_threshold(\n",
    "    clf,\n",
    "    data_test,\n",
    "    decision_tree_columns,\n",
    "    threshold,\n",
    "):\n",
    "\n",
    "    X_test = data_test[decision_tree_columns].copy()\n",
    "\n",
    "    Z_test = (clf.predict_proba(X_test)[:, 1]) > threshold\n",
    "    X_test['loan_status_predict'] = Z_test\n",
    "    X_test['loan_status'] = data_test['loan_status']\n",
    "    accuracy = (X_test['loan_status'] == X_test['loan_status_predict']).sum() / len(X_test)\n",
    "    \n",
    "    return accuracy"
   ]
  },
  {
   "cell_type": "code",
   "execution_count": 244,
   "id": "9bb912ae-bdb6-456d-a57d-5aaa6a6c7ba9",
   "metadata": {},
   "outputs": [],
   "source": [
    "def decision_tree_model_test_TPR_FPR(\n",
    "    clf,\n",
    "    data_test,\n",
    "    decision_tree_columns,\n",
    "    threshold,\n",
    "):\n",
    "\n",
    "    X_test = data_test[decision_tree_columns].copy()\n",
    "\n",
    "    Z_test = (clf.predict_proba(X_test)[:, 1]) > threshold\n",
    "    X_test['loan_status_predict'] = Z_test\n",
    "    X_test['loan_status'] = data_test['loan_status']\n",
    "\n",
    "    true_positive  = len(X_test[(X_test['loan_status'] == 1) & (X_test['loan_status_predict'] == 1)]) # positive, same -> true\n",
    "    false_positive = len(X_test[(X_test['loan_status'] == 0) & (X_test['loan_status_predict'] == 1)]) # positive, different -> false\n",
    "    true_negative  = len(X_test[(X_test['loan_status'] == 0) & (X_test['loan_status_predict'] == 0)]) # negative, same -> true\n",
    "    false_negative = len(X_test[(X_test['loan_status'] == 1) & (X_test['loan_status_predict'] == 0)]) # negative, different -> false\n",
    "\n",
    "    tpr = true_positive / (true_positive + false_negative)\n",
    "    fpr = false_positive / (false_positive + true_negative)\n",
    "\n",
    "    return (tpr, fpr)"
   ]
  },
  {
   "cell_type": "code",
   "execution_count": 245,
   "id": "a0f07780-5a1b-438a-9423-1e0e72e19e88",
   "metadata": {},
   "outputs": [],
   "source": [
    "def decision_tree_model_predict(\n",
    "    clf,\n",
    "    data_predict,\n",
    "    decision_tree_columns,\n",
    "    decision_tree_columns_with_id,\n",
    "):\n",
    "    \n",
    "    X_predict = data_predict[decision_tree_columns_with_id].copy()\n",
    "\n",
    "    Z_predict = clf.predict_proba(X_predict[decision_tree_columns])\n",
    "    X_predict['loan_status'] = Z_predict[:, 1]\n",
    "\n",
    "    return X_predict"
   ]
  },
  {
   "cell_type": "code",
   "execution_count": 246,
   "id": "730405ff-0469-466e-af48-5be3695d390d",
   "metadata": {},
   "outputs": [],
   "source": [
    "def decision_tree_model_predict_write_to_csv(\n",
    "    data_predict,\n",
    "    filename,\n",
    "):\n",
    "    data_predict[['id', 'loan_status']].to_csv(filename, index=False)"
   ]
  },
  {
   "cell_type": "markdown",
   "id": "7246e95d-5913-4de1-bf9f-1bd4bfc44f5b",
   "metadata": {},
   "source": [
    "# Optimize on all data - produce ROC curve\n",
    "\n",
    "- Train original good performing model, min samples split 30, min samples leaf 4\n",
    "- Train using slightly worse model where max depth was optimized to 100"
   ]
  },
  {
   "cell_type": "code",
   "execution_count": 247,
   "id": "cb24f407-6b25-464b-abc7-6e1fff4c9521",
   "metadata": {},
   "outputs": [],
   "source": [
    "# train with everything\n",
    "\n",
    "max_depth = None #100\n",
    "min_samples_split = 30 #2\n",
    "max_leaf_nodes = None\n",
    "min_samples_leaf = 4 #1\n",
    "min_impurity_decrease = 0.0\n",
    "\n",
    "i = 0\n",
    "\n",
    "test_index = folds[i]\n",
    "train_index = numpy.concatenate([folds[j] for j in range(k) if j != i])\n",
    "            \n",
    "training_data = all_training_data.loc[train_index]\n",
    "test_data = all_training_data.loc[test_index]\n",
    "\n",
    "(\n",
    "    clf,\n",
    "    feature_importances,\n",
    "    accuracy_in_sample,\n",
    ") = decision_tree_model_train(\n",
    "    training_data,\n",
    "    decision_tree_columns,\n",
    "    max_depth,\n",
    "    min_samples_split,\n",
    "    max_leaf_nodes,\n",
    "    min_samples_leaf,\n",
    "    min_impurity_decrease,\n",
    ")\n",
    "\n",
    "accuracy_out_of_sample = decision_tree_model_test(\n",
    "    clf,\n",
    "    test_data,\n",
    "    decision_tree_columns,\n",
    ")\n",
    "\n",
    "(tpr, fpr) = decision_tree_model_test_TPR_FPR(\n",
    "    clf,\n",
    "    test_data,\n",
    "    decision_tree_columns,\n",
    "    0.5,\n",
    ")\n",
    "\n",
    "# data_predict = decision_tree_model_predict(\n",
    "#     clf,\n",
    "#     data_test_copy,\n",
    "#     decision_tree_columns,\n",
    "#     decision_tree_columns_with_id,\n",
    "# )\n",
    "\n",
    "#decision_tree_model_predict_write_to_csv(\n",
    "#    data_predict,\n",
    "#    f'decision_tree_model_one_hot_encoder_2_clean_code-2-max_depth_100_all_training_data.csv'\n",
    "#)"
   ]
  },
  {
   "cell_type": "code",
   "execution_count": 109,
   "id": "b21d2648-badd-46b5-a4de-b1cbbc90a6f8",
   "metadata": {},
   "outputs": [],
   "source": [
    "# train with everything\n",
    "\n",
    "max_depth = 100\n",
    "min_samples_split = 2\n",
    "max_leaf_nodes = None\n",
    "min_samples_leaf = 1\n",
    "min_impurity_decrease = 0.0\n",
    "\n",
    "i = 0\n",
    "\n",
    "test_index = folds[i]\n",
    "train_index = numpy.concatenate([folds[j] for j in range(k) if j != i])\n",
    "            \n",
    "training_data = all_training_data.loc[train_index]\n",
    "test_data = all_training_data.loc[test_index]\n",
    "\n",
    "(\n",
    "    clf,\n",
    "    feature_importances,\n",
    "    accuracy_in_sample,\n",
    ") = decision_tree_model_train(\n",
    "    training_data,\n",
    "    decision_tree_columns,\n",
    "    max_depth,\n",
    "    min_samples_split,\n",
    "    max_leaf_nodes,\n",
    "    min_samples_leaf,\n",
    "    min_impurity_decrease,\n",
    ")\n",
    "\n",
    "accuracy_out_of_sample = decision_tree_model_test(\n",
    "    clf,\n",
    "    test_data,\n",
    "    decision_tree_columns,\n",
    ")\n",
    "\n",
    "(tpr, fpr) = decision_tree_model_test_TPR_FPR(\n",
    "    clf,\n",
    "    test_data,\n",
    "    decision_tree_columns,\n",
    "    0.5,\n",
    ")\n",
    "\n",
    "# data_predict = decision_tree_model_predict(\n",
    "#     clf,\n",
    "#     data_test_copy,\n",
    "#     decision_tree_columns,\n",
    "#     decision_tree_columns_with_id,\n",
    "# )\n",
    "\n",
    "#decision_tree_model_predict_write_to_csv(\n",
    "#    data_predict,\n",
    "#    f'decision_tree_model_one_hot_encoder_2_clean_code-2-max_depth_100_all_training_data.csv'\n",
    "#)"
   ]
  },
  {
   "cell_type": "code",
   "execution_count": 248,
   "id": "6c17dd36-2460-4b45-aa59-c3c084efdece",
   "metadata": {},
   "outputs": [
    {
     "data": {
      "text/plain": [
       "np.float64(0.9540861795581069)"
      ]
     },
     "execution_count": 248,
     "metadata": {},
     "output_type": "execute_result"
    }
   ],
   "source": [
    "accuracy_in_sample"
   ]
  },
  {
   "cell_type": "code",
   "execution_count": 249,
   "id": "74b0fba0-0768-42b3-993c-202da167a079",
   "metadata": {},
   "outputs": [
    {
     "data": {
      "text/plain": [
       "np.float64(0.9312714776632303)"
      ]
     },
     "execution_count": 249,
     "metadata": {},
     "output_type": "execute_result"
    }
   ],
   "source": [
    "accuracy_out_of_sample"
   ]
  },
  {
   "cell_type": "code",
   "execution_count": 250,
   "id": "7e71cd33-2035-4f4f-be33-e63605259e40",
   "metadata": {},
   "outputs": [
    {
     "data": {
      "text/plain": [
       "0.7181208053691275"
      ]
     },
     "execution_count": 250,
     "metadata": {},
     "output_type": "execute_result"
    }
   ],
   "source": [
    "tpr"
   ]
  },
  {
   "cell_type": "code",
   "execution_count": 251,
   "id": "a2e5578c-541e-4bcf-a5c1-55e947004d56",
   "metadata": {},
   "outputs": [
    {
     "data": {
      "text/plain": [
       "0.024861878453038673"
      ]
     },
     "execution_count": 251,
     "metadata": {},
     "output_type": "execute_result"
    }
   ],
   "source": [
    "fpr"
   ]
  },
  {
   "cell_type": "code",
   "execution_count": 252,
   "id": "66ab0e5e-3c53-4af9-b04c-7f4ff011f11b",
   "metadata": {},
   "outputs": [],
   "source": [
    "count = 1004\n",
    "\n",
    "threshold_array = numpy.zeros(shape=(count,), dtype=float)\n",
    "tpr_array = numpy.zeros(shape=(count,), dtype=float)\n",
    "fpr_array = numpy.zeros(shape=(count,), dtype=float)\n",
    "\n",
    "for i, threshold in enumerate(numpy.linspace(-0.002, 1.002, count)):\n",
    "    (tpr, fpr) = decision_tree_model_test_TPR_FPR(\n",
    "        clf,\n",
    "        test_data,\n",
    "        decision_tree_columns,\n",
    "        threshold,\n",
    "    )\n",
    "\n",
    "    threshold_array[i] = threshold\n",
    "    tpr_array[i] = tpr\n",
    "    fpr_array[i] = fpr\n",
    "\n",
    "sort_index = numpy.argsort(fpr_array)\n",
    "tpr_array = tpr_array[sort_index]\n",
    "fpr_array = fpr_array[sort_index]\n",
    "threshold_array = threshold_array[sort_index]"
   ]
  },
  {
   "cell_type": "code",
   "execution_count": 259,
   "id": "cd739bdf-8e3c-4f0a-b476-cd7a40051dde",
   "metadata": {},
   "outputs": [
    {
     "data": {
      "image/png": "[encoded data removed]",
      "text/plain": [
       "<Figure size 640x480 with 1 Axes>"
      ]
     },
     "metadata": {},
     "output_type": "display_data"
    }
   ],
   "source": [
    "from sklearn.metrics import RocCurveDisplay\n",
    "\n",
    "X = data_train[decision_tree_columns].copy()\n",
    "Y = data_train['loan_status'].copy()\n",
    "\n",
    "roc_curve_display = RocCurveDisplay.from_estimator(clf, X, Y)"
   ]
  },
  {
   "cell_type": "code",
   "execution_count": 257,
   "id": "4c434751-d91b-4842-8977-47e09605cd8f",
   "metadata": {},
   "outputs": [
    {
     "name": "stderr",
     "output_type": "stream",
     "text": [
      "/home/edward/Jupyter/venv/lib/python3.12/site-packages/sklearn/metrics/_plot/roc_curve.py:189: UserWarning: No artists with labels found to put in legend.  Note that artists whose label start with an underscore are ignored when legend() is called with no argument.\n",
      "  self.ax_.legend(loc=\"lower right\")\n"
     ]
    },
    {
     "data": {
      "text/plain": [
       "<sklearn.metrics._plot.roc_curve.RocCurveDisplay at 0x7a0beb50dc10>"
      ]
     },
     "execution_count": 257,
     "metadata": {},
     "output_type": "execute_result"
    },
    {
     "data": {
      "image/png": "[encoded data removed]",
      "text/plain": [
       "<Figure size 640x480 with 1 Axes>"
      ]
     },
     "metadata": {},
     "output_type": "display_data"
    }
   ],
   "source": [
    "roc_curve_display.plot()"
   ]
  },
  {
   "cell_type": "code",
   "execution_count": 260,
   "id": "70424370-2099-4192-8b56-50f1b87500c5",
   "metadata": {},
   "outputs": [
    {
     "data": {
      "text/plain": [
       "np.float64(0.906276650969632)"
      ]
     },
     "execution_count": 260,
     "metadata": {},
     "output_type": "execute_result"
    }
   ],
   "source": [
    "numpy.trapezoid(tpr_array, x=fpr_array)"
   ]
  },
  {
   "cell_type": "code",
   "execution_count": 261,
   "id": "69483cd8-9797-46d6-87a0-8812cea60bc5",
   "metadata": {},
   "outputs": [
    {
     "data": {
      "text/plain": [
       "np.float64(0.906276650969632)"
      ]
     },
     "execution_count": 261,
     "metadata": {},
     "output_type": "execute_result"
    }
   ],
   "source": [
    "from sklearn.metrics import auc\n",
    "\n",
    "roc_auc = auc(fpr_array, tpr_array)\n",
    "roc_auc"
   ]
  },
  {
   "cell_type": "code",
   "execution_count": 262,
   "id": "21f6e198-b0b2-409c-ae18-f08a41cfe46b",
   "metadata": {},
   "outputs": [],
   "source": [
    "from sklearn.metrics import roc_curve\n",
    "\n",
    "(roc_curve_fpr, roc_curve_tpr, roc_curve_threshold) = roc_curve(\n",
    "    test_data['loan_status'],\n",
    "    decision_tree_model_predict_proba(clf, test_data, decision_tree_columns),\n",
    ")"
   ]
  },
  {
   "cell_type": "code",
   "execution_count": 263,
   "id": "332a42a1-389f-47d1-aea0-e13c8923a43d",
   "metadata": {},
   "outputs": [
    {
     "data": {
      "text/plain": [
       "(np.float64(0.0), np.float64(0.0))"
      ]
     },
     "execution_count": 263,
     "metadata": {},
     "output_type": "execute_result"
    }
   ],
   "source": [
    "roc_curve_fpr[0], roc_curve_tpr[0]"
   ]
  },
  {
   "cell_type": "code",
   "execution_count": 264,
   "id": "03d652df-24e2-4081-b50b-d9bc737f9db9",
   "metadata": {},
   "outputs": [
    {
     "data": {
      "text/plain": [
       "(np.float64(0.004143646408839779), np.float64(0.6241610738255033))"
      ]
     },
     "execution_count": 264,
     "metadata": {},
     "output_type": "execute_result"
    }
   ],
   "source": [
    "roc_curve_fpr[1], roc_curve_tpr[1]"
   ]
  },
  {
   "cell_type": "code",
   "execution_count": 265,
   "id": "e4a60536-2fdb-41f0-b228-7d02de94a63f",
   "metadata": {},
   "outputs": [
    {
     "data": {
      "text/plain": [
       "(np.float64(0.19475138121546962), np.float64(0.8657718120805369))"
      ]
     },
     "execution_count": 265,
     "metadata": {},
     "output_type": "execute_result"
    }
   ],
   "source": [
    "roc_curve_fpr[-2], roc_curve_tpr[-2]"
   ]
  },
  {
   "cell_type": "code",
   "execution_count": 266,
   "id": "c380aff8-5a7b-4f9e-aa89-4b22817852d7",
   "metadata": {},
   "outputs": [
    {
     "data": {
      "text/plain": [
       "(np.float64(1.0), np.float64(1.0))"
      ]
     },
     "execution_count": 266,
     "metadata": {},
     "output_type": "execute_result"
    }
   ],
   "source": [
    "roc_curve_fpr[-1], roc_curve_tpr[-1]"
   ]
  },
  {
   "cell_type": "code",
   "execution_count": 208,
   "id": "fd230ed8-7820-4b74-ab8d-032f48b8f1c7",
   "metadata": {},
   "outputs": [],
   "source": [
    "roc_curve_tpr = numpy.append(roc_curve_tpr, [1.0])\n",
    "roc_curve_fpr = numpy.append(roc_curve_fpr, [1.0])"
   ]
  },
  {
   "cell_type": "code",
   "execution_count": 213,
   "id": "710a0d5e-8427-4e9f-a969-7cc91141e322",
   "metadata": {},
   "outputs": [],
   "source": [
    "roc_curve_fpr[-2] = roc_curve_fpr[-3]"
   ]
  },
  {
   "cell_type": "code",
   "execution_count": 267,
   "id": "ea6712ea-ee13-4882-8214-f7cf05ca1abd",
   "metadata": {},
   "outputs": [
    {
     "data": {
      "text/plain": [
       "np.float64(0.9063508101894768)"
      ]
     },
     "execution_count": 267,
     "metadata": {},
     "output_type": "execute_result"
    }
   ],
   "source": [
    "from sklearn.metrics import auc\n",
    "\n",
    "roc_auc = auc(roc_curve_fpr, roc_curve_tpr)\n",
    "roc_auc"
   ]
  },
  {
   "cell_type": "code",
   "execution_count": 268,
   "id": "e5cbb7b2-98be-40fc-bc42-6206401234bb",
   "metadata": {},
   "outputs": [
    {
     "data": {
      "image/png": "[encoded data removed]",
      "text/plain": [
       "<Figure size 640x480 with 1 Axes>"
      ]
     },
     "metadata": {},
     "output_type": "display_data"
    }
   ],
   "source": [
    "plt.figure()\n",
    "\n",
    "plt.plot([0.0, 1.0], [0.0, 1.0], color='tab:red')\n",
    "plt.step(\n",
    "    roc_curve_fpr,\n",
    "    roc_curve_tpr,\n",
    "    where='post',\n",
    ")\n",
    "\n",
    "plt.xlabel('false positive rate')\n",
    "plt.ylabel('true positive rate')\n",
    "\n",
    "plt.xlim(0.0, 1.0)\n",
    "plt.ylim(0.0, 1.0)\n",
    "\n",
    "None"
   ]
  },
  {
   "cell_type": "code",
   "execution_count": 269,
   "id": "37a32ee7-7c45-4f63-8864-a4e2e29449f4",
   "metadata": {},
   "outputs": [
    {
     "data": {
      "image/png": "[encoded data removed]",
      "text/plain": [
       "<Figure size 640x480 with 1 Axes>"
      ]
     },
     "metadata": {},
     "output_type": "display_data"
    }
   ],
   "source": [
    "plt.figure()\n",
    "\n",
    "plt.plot([0.0, 1.0], [0.0, 1.0], color='tab:red')\n",
    "plt.step(\n",
    "    fpr_array,\n",
    "    tpr_array,\n",
    "    where='post',\n",
    ")\n",
    "\n",
    "plt.xlabel('false positive rate')\n",
    "plt.ylabel('true positive rate')\n",
    "\n",
    "plt.xlim(0.0, 1.0)\n",
    "plt.ylim(0.0, 1.0)\n",
    "\n",
    "None"
   ]
  },
  {
   "cell_type": "code",
   "execution_count": 270,
   "id": "633c7cdb-9544-474c-8622-17b5eb620599",
   "metadata": {},
   "outputs": [],
   "source": [
    "data_predict = decision_tree_model_predict(\n",
    "    clf,\n",
    "    data_test_copy,\n",
    "    decision_tree_columns,\n",
    "    decision_tree_columns_with_id,\n",
    ")"
   ]
  },
  {
   "cell_type": "code",
   "execution_count": 273,
   "id": "410aee33-ec21-4587-945f-d895dcc8bb25",
   "metadata": {},
   "outputs": [
    {
     "data": {
      "image/png": "[encoded data removed]",
      "text/plain": [
       "<Figure size 640x480 with 1 Axes>"
      ]
     },
     "metadata": {},
     "output_type": "display_data"
    }
   ],
   "source": [
    "plt.figure()\n",
    "plt.hist(data_predict['loan_status'], bins=100)\n",
    "plt.yscale('log')\n",
    "\n",
    "plt.xlabel('predict_proba')\n",
    "plt.ylabel('frequency')\n",
    "\n",
    "None"
   ]
  },
  {
   "cell_type": "code",
   "execution_count": 34,
   "id": "fba5bf79-bf21-4a9b-90df-48553470057e",
   "metadata": {},
   "outputs": [
    {
     "data": {
      "text/html": [
       "<div>\n",
       "<style scoped>\n",
       "    .dataframe tbody tr th:only-of-type {\n",
       "        vertical-align: middle;\n",
       "    }\n",
       "\n",
       "    .dataframe tbody tr th {\n",
       "        vertical-align: top;\n",
       "    }\n",
       "\n",
       "    .dataframe thead th {\n",
       "        text-align: right;\n",
       "    }\n",
       "</style>\n",
       "<table border=\"1\" class=\"dataframe\">\n",
       "  <thead>\n",
       "    <tr style=\"text-align: right;\">\n",
       "      <th></th>\n",
       "      <th>id</th>\n",
       "      <th>loan_status</th>\n",
       "    </tr>\n",
       "  </thead>\n",
       "  <tbody>\n",
       "    <tr>\n",
       "      <th>0</th>\n",
       "      <td>58645</td>\n",
       "      <td>1.000000</td>\n",
       "    </tr>\n",
       "    <tr>\n",
       "      <th>1</th>\n",
       "      <td>58646</td>\n",
       "      <td>0.000000</td>\n",
       "    </tr>\n",
       "    <tr>\n",
       "      <th>2</th>\n",
       "      <td>58647</td>\n",
       "      <td>0.481481</td>\n",
       "    </tr>\n",
       "    <tr>\n",
       "      <th>3</th>\n",
       "      <td>58648</td>\n",
       "      <td>0.000000</td>\n",
       "    </tr>\n",
       "    <tr>\n",
       "      <th>4</th>\n",
       "      <td>58649</td>\n",
       "      <td>0.000000</td>\n",
       "    </tr>\n",
       "    <tr>\n",
       "      <th>...</th>\n",
       "      <td>...</td>\n",
       "      <td>...</td>\n",
       "    </tr>\n",
       "    <tr>\n",
       "      <th>39093</th>\n",
       "      <td>97738</td>\n",
       "      <td>0.125000</td>\n",
       "    </tr>\n",
       "    <tr>\n",
       "      <th>39094</th>\n",
       "      <td>97739</td>\n",
       "      <td>0.000000</td>\n",
       "    </tr>\n",
       "    <tr>\n",
       "      <th>39095</th>\n",
       "      <td>97740</td>\n",
       "      <td>0.000000</td>\n",
       "    </tr>\n",
       "    <tr>\n",
       "      <th>39096</th>\n",
       "      <td>97741</td>\n",
       "      <td>0.000000</td>\n",
       "    </tr>\n",
       "    <tr>\n",
       "      <th>39097</th>\n",
       "      <td>97742</td>\n",
       "      <td>0.750000</td>\n",
       "    </tr>\n",
       "  </tbody>\n",
       "</table>\n",
       "<p>39098 rows × 2 columns</p>\n",
       "</div>"
      ],
      "text/plain": [
       "          id  loan_status\n",
       "0      58645     1.000000\n",
       "1      58646     0.000000\n",
       "2      58647     0.481481\n",
       "3      58648     0.000000\n",
       "4      58649     0.000000\n",
       "...      ...          ...\n",
       "39093  97738     0.125000\n",
       "39094  97739     0.000000\n",
       "39095  97740     0.000000\n",
       "39096  97741     0.000000\n",
       "39097  97742     0.750000\n",
       "\n",
       "[39098 rows x 2 columns]"
      ]
     },
     "execution_count": 34,
     "metadata": {},
     "output_type": "execute_result"
    }
   ],
   "source": [
    "data_predict[['id', 'loan_status']]"
   ]
  },
  {
   "cell_type": "code",
   "execution_count": 95,
   "id": "9669b881-7190-4890-8332-3649c6a5a886",
   "metadata": {},
   "outputs": [],
   "source": [
    "threshold_list = []\n",
    "accuracy_list = []\n",
    "\n",
    "for threshold in numpy.linspace(0.0 - 1.0/1000.0, 1.0 + 1.0/1000.0, 1000 + 2):\n",
    "\n",
    "    accuracy = decision_tree_model_test_threshold(\n",
    "        clf,\n",
    "        test_data,\n",
    "        decision_tree_columns,\n",
    "        threshold,\n",
    "    )\n",
    "\n",
    "    threshold_list.append(threshold)\n",
    "    accuracy_list.append(accuracy)"
   ]
  },
  {
   "cell_type": "code",
   "execution_count": 89,
   "id": "41de36db-128a-4851-baf5-972f0707ae1a",
   "metadata": {},
   "outputs": [
    {
     "data": {
      "text/plain": [
       "np.float64(0.18213058419243985)"
      ]
     },
     "execution_count": 89,
     "metadata": {},
     "output_type": "execute_result"
    }
   ],
   "source": [
    "threshold = -0.00001\n",
    "\n",
    "X_test = test_data[decision_tree_columns].copy()\n",
    "\n",
    "proba = clf.predict_proba(X_test)[:, 1]\n",
    "Z_test = (proba) > threshold\n",
    "X_test['loan_status_predict'] = Z_test\n",
    "X_test['loan_status'] = test_data['loan_status']\n",
    "accuracy = (X_test['loan_status'] == X_test['loan_status_predict']).sum() / len(X_test)\n",
    "    \n",
    "accuracy"
   ]
  },
  {
   "cell_type": "code",
   "execution_count": 69,
   "id": "b1911e01-0eb6-4dad-aed0-58010dc7d6b5",
   "metadata": {},
   "outputs": [
    {
     "data": {
      "text/plain": [
       "np.float64(0.8178694158075601)"
      ]
     },
     "execution_count": 69,
     "metadata": {},
     "output_type": "execute_result"
    }
   ],
   "source": [
    "accuracy = (X_test['loan_status'] == 0).sum() / len(X_test)\n",
    "accuracy"
   ]
  },
  {
   "cell_type": "code",
   "execution_count": 74,
   "id": "a0409f8f-34a0-4447-88bc-8ae0d635b1af",
   "metadata": {},
   "outputs": [
    {
     "data": {
      "text/plain": [
       "np.float64(0.18213058419243985)"
      ]
     },
     "execution_count": 74,
     "metadata": {},
     "output_type": "execute_result"
    }
   ],
   "source": [
    "accuracy = (X_test['loan_status'] == 1).sum() / len(X_test)\n",
    "accuracy"
   ]
  },
  {
   "cell_type": "code",
   "execution_count": 57,
   "id": "6194d8d4-cfea-4b2d-918e-42ad3fa73e76",
   "metadata": {},
   "outputs": [],
   "source": [
    "threshold = 0.0"
   ]
  },
  {
   "cell_type": "code",
   "execution_count": null,
   "id": "d5a4c691-2473-4785-9ebe-2662a812773a",
   "metadata": {},
   "outputs": [],
   "source": []
  },
  {
   "cell_type": "code",
   "execution_count": null,
   "id": "0e765a59-121a-40ee-b821-375a5bb45868",
   "metadata": {},
   "outputs": [],
   "source": []
  },
  {
   "cell_type": "code",
   "execution_count": null,
   "id": "9f4cf623-9100-4735-b979-15d47c5566c0",
   "metadata": {},
   "outputs": [],
   "source": []
  },
  {
   "cell_type": "code",
   "execution_count": 81,
   "id": "cacb9d23-307a-45de-94cc-249fc76c2d56",
   "metadata": {},
   "outputs": [
    {
     "data": {
      "text/plain": [
       "np.float64(1.0)"
      ]
     },
     "execution_count": 81,
     "metadata": {},
     "output_type": "execute_result"
    }
   ],
   "source": [
    "threshold_list[-1]"
   ]
  },
  {
   "cell_type": "code",
   "execution_count": 82,
   "id": "17126734-7802-4def-94dd-45509da4c65f",
   "metadata": {},
   "outputs": [
    {
     "data": {
      "text/plain": [
       "np.float64(0.8178694158075601)"
      ]
     },
     "execution_count": 82,
     "metadata": {},
     "output_type": "execute_result"
    }
   ],
   "source": [
    "accuracy_list[-1]"
   ]
  },
  {
   "cell_type": "code",
   "execution_count": 37,
   "id": "add1b713-7673-4169-88a8-2b247adffb76",
   "metadata": {},
   "outputs": [
    {
     "data": {
      "text/plain": [
       "np.int64(590)"
      ]
     },
     "execution_count": 37,
     "metadata": {},
     "output_type": "execute_result"
    }
   ],
   "source": [
    "(clf.predict_proba(X_test[decision_tree_columns])[:, 1] <= 0).sum()"
   ]
  },
  {
   "cell_type": "code",
   "execution_count": 38,
   "id": "54d1b3f5-02dc-410b-a379-987c57c54aed",
   "metadata": {},
   "outputs": [
    {
     "data": {
      "text/plain": [
       "np.int64(109)"
      ]
     },
     "execution_count": 38,
     "metadata": {},
     "output_type": "execute_result"
    }
   ],
   "source": [
    "(clf.predict_proba(X_test[decision_tree_columns])[:, 1] >= 1).sum()"
   ]
  },
  {
   "cell_type": "code",
   "execution_count": 39,
   "id": "c2ebd6d4-2502-4ae1-a511-8debb729304f",
   "metadata": {},
   "outputs": [
    {
     "data": {
      "text/plain": [
       "873"
      ]
     },
     "execution_count": 39,
     "metadata": {},
     "output_type": "execute_result"
    }
   ],
   "source": [
    "len(clf.predict_proba(X_test[decision_tree_columns])[:, 1])"
   ]
  },
  {
   "cell_type": "code",
   "execution_count": 41,
   "id": "85e1eec0-a096-4210-a528-d4c17f498f79",
   "metadata": {},
   "outputs": [
    {
     "data": {
      "text/plain": [
       "0.0693384223918575"
      ]
     },
     "execution_count": 41,
     "metadata": {},
     "output_type": "execute_result"
    }
   ],
   "source": [
    "109 / (590 + 109 + 873)"
   ]
  },
  {
   "cell_type": "code",
   "execution_count": 96,
   "id": "49590270-34c7-463d-a601-40054471c9f0",
   "metadata": {},
   "outputs": [
    {
     "data": {
      "image/png": "[encoded data removed]",
      "text/plain": [
       "<Figure size 640x480 with 1 Axes>"
      ]
     },
     "metadata": {},
     "output_type": "display_data"
    }
   ],
   "source": [
    "plt.figure()\n",
    "\n",
    "plt.plot(\n",
    "    threshold_list,\n",
    "    accuracy_list,\n",
    "    linewidth=2,\n",
    ")\n",
    "\n",
    "plt.ylabel('accuracy')\n",
    "plt.xlabel('probability categorization threshold')\n",
    "\n",
    "None"
   ]
  },
  {
   "cell_type": "markdown",
   "id": "dc398a80-d6c5-42c6-bee8-3f7fae4bda68",
   "metadata": {},
   "source": [
    "# Decision Tree Model - Max Depth"
   ]
  },
  {
   "cell_type": "code",
   "execution_count": 104,
   "id": "4080a869-252b-4d6e-8854-8c5455dc2169",
   "metadata": {},
   "outputs": [
    {
     "data": {
      "text/html": [
       "<div>\n",
       "<style scoped>\n",
       "    .dataframe tbody tr th:only-of-type {\n",
       "        vertical-align: middle;\n",
       "    }\n",
       "\n",
       "    .dataframe tbody tr th {\n",
       "        vertical-align: top;\n",
       "    }\n",
       "\n",
       "    .dataframe thead th {\n",
       "        text-align: right;\n",
       "    }\n",
       "</style>\n",
       "<table border=\"1\" class=\"dataframe\">\n",
       "  <thead>\n",
       "    <tr style=\"text-align: right;\">\n",
       "      <th></th>\n",
       "      <th>max_depth</th>\n",
       "      <th>min_samples_split</th>\n",
       "      <th>max_leaf_nodes</th>\n",
       "      <th>min_samples_leaf</th>\n",
       "      <th>min_impurity_decrease</th>\n",
       "      <th>accuracy_in_sample</th>\n",
       "      <th>accuracy_out_of_sample</th>\n",
       "    </tr>\n",
       "  </thead>\n",
       "  <tbody>\n",
       "    <tr>\n",
       "      <th>0</th>\n",
       "      <td>1.0</td>\n",
       "      <td>2</td>\n",
       "      <td>none</td>\n",
       "      <td>1</td>\n",
       "      <td>0.0</td>\n",
       "      <td>0.870407</td>\n",
       "      <td>0.872852</td>\n",
       "    </tr>\n",
       "    <tr>\n",
       "      <th>1</th>\n",
       "      <td>1.0</td>\n",
       "      <td>2</td>\n",
       "      <td>none</td>\n",
       "      <td>1</td>\n",
       "      <td>0.0</td>\n",
       "      <td>0.870534</td>\n",
       "      <td>0.860252</td>\n",
       "    </tr>\n",
       "    <tr>\n",
       "      <th>2</th>\n",
       "      <td>1.0</td>\n",
       "      <td>2</td>\n",
       "      <td>none</td>\n",
       "      <td>1</td>\n",
       "      <td>0.0</td>\n",
       "      <td>0.870580</td>\n",
       "      <td>0.855670</td>\n",
       "    </tr>\n",
       "    <tr>\n",
       "      <th>3</th>\n",
       "      <td>1.0</td>\n",
       "      <td>2</td>\n",
       "      <td>none</td>\n",
       "      <td>1</td>\n",
       "      <td>0.0</td>\n",
       "      <td>0.870441</td>\n",
       "      <td>0.869416</td>\n",
       "    </tr>\n",
       "    <tr>\n",
       "      <th>4</th>\n",
       "      <td>1.0</td>\n",
       "      <td>2</td>\n",
       "      <td>none</td>\n",
       "      <td>1</td>\n",
       "      <td>0.0</td>\n",
       "      <td>0.870499</td>\n",
       "      <td>0.863688</td>\n",
       "    </tr>\n",
       "    <tr>\n",
       "      <th>...</th>\n",
       "      <td>...</td>\n",
       "      <td>...</td>\n",
       "      <td>...</td>\n",
       "      <td>...</td>\n",
       "      <td>...</td>\n",
       "      <td>...</td>\n",
       "      <td>...</td>\n",
       "    </tr>\n",
       "    <tr>\n",
       "      <th>1895</th>\n",
       "      <td>none</td>\n",
       "      <td>2</td>\n",
       "      <td>none</td>\n",
       "      <td>1</td>\n",
       "      <td>0.0</td>\n",
       "      <td>0.999977</td>\n",
       "      <td>0.902523</td>\n",
       "    </tr>\n",
       "    <tr>\n",
       "      <th>1896</th>\n",
       "      <td>none</td>\n",
       "      <td>2</td>\n",
       "      <td>none</td>\n",
       "      <td>1</td>\n",
       "      <td>0.0</td>\n",
       "      <td>0.999977</td>\n",
       "      <td>0.925459</td>\n",
       "    </tr>\n",
       "    <tr>\n",
       "      <th>1897</th>\n",
       "      <td>none</td>\n",
       "      <td>2</td>\n",
       "      <td>none</td>\n",
       "      <td>1</td>\n",
       "      <td>0.0</td>\n",
       "      <td>0.999977</td>\n",
       "      <td>0.913991</td>\n",
       "    </tr>\n",
       "    <tr>\n",
       "      <th>1898</th>\n",
       "      <td>none</td>\n",
       "      <td>2</td>\n",
       "      <td>none</td>\n",
       "      <td>1</td>\n",
       "      <td>0.0</td>\n",
       "      <td>0.999977</td>\n",
       "      <td>0.917431</td>\n",
       "    </tr>\n",
       "    <tr>\n",
       "      <th>1899</th>\n",
       "      <td>none</td>\n",
       "      <td>2</td>\n",
       "      <td>none</td>\n",
       "      <td>1</td>\n",
       "      <td>0.0</td>\n",
       "      <td>0.999977</td>\n",
       "      <td>0.904817</td>\n",
       "    </tr>\n",
       "  </tbody>\n",
       "</table>\n",
       "<p>1900 rows × 7 columns</p>\n",
       "</div>"
      ],
      "text/plain": [
       "     max_depth  min_samples_split max_leaf_nodes  min_samples_leaf  \\\n",
       "0          1.0                  2           none                 1   \n",
       "1          1.0                  2           none                 1   \n",
       "2          1.0                  2           none                 1   \n",
       "3          1.0                  2           none                 1   \n",
       "4          1.0                  2           none                 1   \n",
       "...        ...                ...            ...               ...   \n",
       "1895      none                  2           none                 1   \n",
       "1896      none                  2           none                 1   \n",
       "1897      none                  2           none                 1   \n",
       "1898      none                  2           none                 1   \n",
       "1899      none                  2           none                 1   \n",
       "\n",
       "      min_impurity_decrease  accuracy_in_sample  accuracy_out_of_sample  \n",
       "0                       0.0            0.870407                0.872852  \n",
       "1                       0.0            0.870534                0.860252  \n",
       "2                       0.0            0.870580                0.855670  \n",
       "3                       0.0            0.870441                0.869416  \n",
       "4                       0.0            0.870499                0.863688  \n",
       "...                     ...                 ...                     ...  \n",
       "1895                    0.0            0.999977                0.902523  \n",
       "1896                    0.0            0.999977                0.925459  \n",
       "1897                    0.0            0.999977                0.913991  \n",
       "1898                    0.0            0.999977                0.917431  \n",
       "1899                    0.0            0.999977                0.904817  \n",
       "\n",
       "[1900 rows x 7 columns]"
      ]
     },
     "execution_count": 104,
     "metadata": {},
     "output_type": "execute_result"
    }
   ],
   "source": [
    "df = pandas.read_csv(filename, index_col=0)\n",
    "df"
   ]
  },
  {
   "cell_type": "code",
   "execution_count": 123,
   "id": "864ee9c0-8bd8-4f2c-ae36-1cde4e39ceb2",
   "metadata": {},
   "outputs": [
    {
     "name": "stdout",
     "output_type": "stream",
     "text": [
      "processing max_depth=1\n",
      "processing max_depth=2\n",
      "processing max_depth=3\n",
      "processing max_depth=4\n",
      "processing max_depth=5\n",
      "processing max_depth=6\n",
      "processing max_depth=7\n",
      "processing max_depth=8\n",
      "processing max_depth=9\n",
      "processing max_depth=10\n",
      "processing max_depth=12\n",
      "processing max_depth=14\n",
      "processing max_depth=16\n",
      "processing max_depth=18\n",
      "processing max_depth=20\n",
      "processing max_depth=25\n",
      "processing max_depth=30\n",
      "processing max_depth=35\n",
      "processing max_depth=40\n",
      "processing max_depth=50\n",
      "processing max_depth=60\n",
      "processing max_depth=70\n",
      "processing max_depth=80\n",
      "processing max_depth=90\n",
      "processing max_depth=100\n",
      "done\n"
     ]
    }
   ],
   "source": [
    "max_depth = None\n",
    "min_samples_split = 2\n",
    "max_leaf_nodes = None\n",
    "min_samples_leaf = 1\n",
    "min_impurity_decrease = 0.0\n",
    "\n",
    "accuracy_in_sample_list = []\n",
    "accuracy_out_of_sample_list = []\n",
    "max_depth_list = []\n",
    "min_samples_split_list = []\n",
    "max_leaf_nodes_list = []\n",
    "min_samples_leaf_list = []\n",
    "min_impurity_decrease_list = []\n",
    "\n",
    "max_depth_list_input = [\n",
    "    1, 2, 3, 4, 5, 6, 7, 8, 9, 10,\n",
    "    12, 14, 16, 18, 20,\n",
    "    25, 30, 35, 40, 50, 60, 70, 80, 90, 100,\n",
    "]\n",
    "min_samples_split_list_input = [2, 3, 4, 5, 7, 10, 20]\n",
    "max_leaf_nodes_list_input = [2, 4, 8, 16, 32]\n",
    "min_samples_leaf_list_input = [1, 2, 4, 8, 16, 32]\n",
    "min_impurity_decrease_list_input = [0.0, 0.001, 0.01, 0.1]\n",
    "\n",
    "filename = f'decision_tree_model_by_max_depth.csv'\n",
    "\n",
    "df = None\n",
    "\n",
    "for max_depth in max_depth_list_input:\n",
    "    print(f'processing max_depth={max_depth}')\n",
    "\n",
    "    # read data from file\n",
    "    if df is None:\n",
    "        try:\n",
    "            df = pandas.read_csv(filename, index_col=0)\n",
    "        except:\n",
    "            pass\n",
    "\n",
    "        if df is not None:\n",
    "            accuracy_in_sample_list = df['accuracy_in_sample'].to_numpy().tolist()\n",
    "            accuracy_out_of_sample_list = df['accuracy_out_of_sample'].to_numpy().tolist()\n",
    "            max_depth_list = df['max_depth'].to_numpy().tolist()\n",
    "            min_samples_split_list = df['min_samples_split'].to_numpy().tolist()\n",
    "            max_leaf_nodes_list = df['max_leaf_nodes'].to_numpy().tolist()\n",
    "            min_samples_leaf_list = df['min_samples_leaf'].to_numpy().tolist()\n",
    "            min_impurity_decrease_list = df['min_impurity_decrease'].to_numpy().tolist()\n",
    "    \n",
    "    for i in range(k):\n",
    "        test_index = folds[i]\n",
    "        train_index = numpy.concatenate([folds[j] for j in range(k) if j != i])\n",
    "            \n",
    "        training_data = all_training_data.loc[train_index]\n",
    "        test_data = all_training_data.loc[test_index]\n",
    "        \n",
    "        (\n",
    "            clf,\n",
    "            feature_importances,\n",
    "            accuracy_in_sample,\n",
    "        ) = decision_tree_model_train(\n",
    "            training_data,\n",
    "            decision_tree_columns,\n",
    "            max_depth,\n",
    "            min_samples_split,\n",
    "            max_leaf_nodes,\n",
    "            min_samples_leaf,\n",
    "            min_impurity_decrease,\n",
    "        )\n",
    "        \n",
    "        accuracy_out_of_sample = decision_tree_model_test(\n",
    "            clf,\n",
    "            test_data,\n",
    "            decision_tree_columns,\n",
    "        )\n",
    "    \n",
    "        accuracy_in_sample_list.append(accuracy_in_sample)\n",
    "        accuracy_out_of_sample_list.append(accuracy_out_of_sample)\n",
    "        max_depth_list.append(max_depth)\n",
    "        min_samples_split_list.append(min_samples_split)\n",
    "        max_leaf_nodes_list.append(max_leaf_nodes)\n",
    "        min_samples_leaf_list.append(min_samples_leaf)\n",
    "        min_impurity_decrease_list.append(min_impurity_decrease)\n",
    "        \n",
    "        #data_predict = decision_tree_model_predict(\n",
    "        #    clf,\n",
    "        #    data_test_copy,\n",
    "        #    decision_tree_columns,\n",
    "        #    decision_tree_columns_with_id,\n",
    "        #)\n",
    "        \n",
    "        #decision_tree_model_predict_write_to_csv(\n",
    "        #    data_predict,\n",
    "        #    f'decision_tree_model_one_hot_encoder_2_clean_code-2-max_depth_none.csv'\n",
    "        #)\n",
    "\n",
    "    # write data to file\n",
    "    df = pandas.DataFrame(\n",
    "        {\n",
    "            'max_depth': max_depth_list,\n",
    "            'min_samples_split': min_samples_split_list,\n",
    "            'max_leaf_nodes': max_leaf_nodes_list,\n",
    "            'min_samples_leaf': min_samples_leaf_list,\n",
    "            'min_impurity_decrease': min_impurity_decrease_list,\n",
    "            'accuracy_in_sample': accuracy_in_sample_list,\n",
    "            'accuracy_out_of_sample': accuracy_out_of_sample_list,\n",
    "            #'public_score': public_score_list,\n",
    "            #'private_score': private_score_list,\n",
    "        }\n",
    "    )\n",
    "    df['max_depth'] = df['max_depth'].astype(object)\n",
    "    df['max_leaf_nodes'] = df['max_leaf_nodes'].astype(object)\n",
    "    df.loc[df['max_depth'].isna(), 'max_depth'] = 'none'\n",
    "    df.loc[df['max_leaf_nodes'].isna(), 'max_leaf_nodes'] = 'none'\n",
    "    df.to_csv(filename, index=True)\n",
    "\n",
    "print(f'done')"
   ]
  },
  {
   "cell_type": "code",
   "execution_count": 124,
   "id": "d6cc5440-76c3-4317-848c-e08ee9385ba3",
   "metadata": {},
   "outputs": [],
   "source": [
    "df = pandas.DataFrame(\n",
    "    {\n",
    "        'max_depth': max_depth_list,\n",
    "        'min_samples_split': min_samples_split_list,\n",
    "        'max_leaf_nodes': max_leaf_nodes_list,\n",
    "        'min_samples_leaf': min_samples_leaf_list,\n",
    "        'min_impurity_decrease': min_impurity_decrease_list,\n",
    "        'accuracy_in_sample': accuracy_in_sample_list,\n",
    "        'accuracy_out_of_sample': accuracy_out_of_sample_list,\n",
    "        #'public_score': public_score_list,\n",
    "        #'private_score': private_score_list,\n",
    "    }\n",
    ")"
   ]
  },
  {
   "cell_type": "code",
   "execution_count": 118,
   "id": "47fdc491-228e-4eb4-8c6b-9bdc1c4ae24a",
   "metadata": {},
   "outputs": [],
   "source": [
    "df.loc[df['max_depth'].isna(), 'max_depth'] = 'none'\n",
    "df.loc[df['max_leaf_nodes'].isna(), 'max_leaf_nodes'] = 'none'"
   ]
  },
  {
   "cell_type": "code",
   "execution_count": 119,
   "id": "50bd3d5a-deff-45d6-bea5-6c6e23c49923",
   "metadata": {},
   "outputs": [],
   "source": [
    "df.loc[df['max_depth'] == 'none', 'max_depth'] = 100 # number of features\n",
    "df['max_depth'] = df['max_depth'].astype(float)\n",
    "df['max_depth'] = df['max_depth'].astype(int)"
   ]
  },
  {
   "cell_type": "code",
   "execution_count": 125,
   "id": "9cd059aa-3a62-47b8-ad1f-f9dc516b0ba4",
   "metadata": {},
   "outputs": [
    {
     "data": {
      "text/html": [
       "<div>\n",
       "<style scoped>\n",
       "    .dataframe tbody tr th:only-of-type {\n",
       "        vertical-align: middle;\n",
       "    }\n",
       "\n",
       "    .dataframe tbody tr th {\n",
       "        vertical-align: top;\n",
       "    }\n",
       "\n",
       "    .dataframe thead th {\n",
       "        text-align: right;\n",
       "    }\n",
       "</style>\n",
       "<table border=\"1\" class=\"dataframe\">\n",
       "  <thead>\n",
       "    <tr style=\"text-align: right;\">\n",
       "      <th></th>\n",
       "      <th>max_depth</th>\n",
       "      <th>min_samples_split</th>\n",
       "      <th>max_leaf_nodes</th>\n",
       "      <th>min_samples_leaf</th>\n",
       "      <th>min_impurity_decrease</th>\n",
       "      <th>accuracy_in_sample</th>\n",
       "      <th>accuracy_out_of_sample</th>\n",
       "    </tr>\n",
       "  </thead>\n",
       "  <tbody>\n",
       "    <tr>\n",
       "      <th>0</th>\n",
       "      <td>1</td>\n",
       "      <td>2</td>\n",
       "      <td>None</td>\n",
       "      <td>1</td>\n",
       "      <td>0.0</td>\n",
       "      <td>0.870407</td>\n",
       "      <td>0.872852</td>\n",
       "    </tr>\n",
       "    <tr>\n",
       "      <th>1</th>\n",
       "      <td>1</td>\n",
       "      <td>2</td>\n",
       "      <td>None</td>\n",
       "      <td>1</td>\n",
       "      <td>0.0</td>\n",
       "      <td>0.870534</td>\n",
       "      <td>0.860252</td>\n",
       "    </tr>\n",
       "    <tr>\n",
       "      <th>2</th>\n",
       "      <td>1</td>\n",
       "      <td>2</td>\n",
       "      <td>None</td>\n",
       "      <td>1</td>\n",
       "      <td>0.0</td>\n",
       "      <td>0.870580</td>\n",
       "      <td>0.855670</td>\n",
       "    </tr>\n",
       "    <tr>\n",
       "      <th>3</th>\n",
       "      <td>1</td>\n",
       "      <td>2</td>\n",
       "      <td>None</td>\n",
       "      <td>1</td>\n",
       "      <td>0.0</td>\n",
       "      <td>0.870441</td>\n",
       "      <td>0.869416</td>\n",
       "    </tr>\n",
       "    <tr>\n",
       "      <th>4</th>\n",
       "      <td>1</td>\n",
       "      <td>2</td>\n",
       "      <td>None</td>\n",
       "      <td>1</td>\n",
       "      <td>0.0</td>\n",
       "      <td>0.870499</td>\n",
       "      <td>0.863688</td>\n",
       "    </tr>\n",
       "    <tr>\n",
       "      <th>...</th>\n",
       "      <td>...</td>\n",
       "      <td>...</td>\n",
       "      <td>...</td>\n",
       "      <td>...</td>\n",
       "      <td>...</td>\n",
       "      <td>...</td>\n",
       "      <td>...</td>\n",
       "    </tr>\n",
       "    <tr>\n",
       "      <th>2495</th>\n",
       "      <td>100</td>\n",
       "      <td>2</td>\n",
       "      <td>None</td>\n",
       "      <td>1</td>\n",
       "      <td>0.0</td>\n",
       "      <td>0.999977</td>\n",
       "      <td>0.903670</td>\n",
       "    </tr>\n",
       "    <tr>\n",
       "      <th>2496</th>\n",
       "      <td>100</td>\n",
       "      <td>2</td>\n",
       "      <td>None</td>\n",
       "      <td>1</td>\n",
       "      <td>0.0</td>\n",
       "      <td>0.999977</td>\n",
       "      <td>0.920872</td>\n",
       "    </tr>\n",
       "    <tr>\n",
       "      <th>2497</th>\n",
       "      <td>100</td>\n",
       "      <td>2</td>\n",
       "      <td>None</td>\n",
       "      <td>1</td>\n",
       "      <td>0.0</td>\n",
       "      <td>0.999977</td>\n",
       "      <td>0.924312</td>\n",
       "    </tr>\n",
       "    <tr>\n",
       "      <th>2498</th>\n",
       "      <td>100</td>\n",
       "      <td>2</td>\n",
       "      <td>None</td>\n",
       "      <td>1</td>\n",
       "      <td>0.0</td>\n",
       "      <td>0.999977</td>\n",
       "      <td>0.917431</td>\n",
       "    </tr>\n",
       "    <tr>\n",
       "      <th>2499</th>\n",
       "      <td>100</td>\n",
       "      <td>2</td>\n",
       "      <td>None</td>\n",
       "      <td>1</td>\n",
       "      <td>0.0</td>\n",
       "      <td>0.999977</td>\n",
       "      <td>0.908257</td>\n",
       "    </tr>\n",
       "  </tbody>\n",
       "</table>\n",
       "<p>2500 rows × 7 columns</p>\n",
       "</div>"
      ],
      "text/plain": [
       "      max_depth  min_samples_split max_leaf_nodes  min_samples_leaf  \\\n",
       "0             1                  2           None                 1   \n",
       "1             1                  2           None                 1   \n",
       "2             1                  2           None                 1   \n",
       "3             1                  2           None                 1   \n",
       "4             1                  2           None                 1   \n",
       "...         ...                ...            ...               ...   \n",
       "2495        100                  2           None                 1   \n",
       "2496        100                  2           None                 1   \n",
       "2497        100                  2           None                 1   \n",
       "2498        100                  2           None                 1   \n",
       "2499        100                  2           None                 1   \n",
       "\n",
       "      min_impurity_decrease  accuracy_in_sample  accuracy_out_of_sample  \n",
       "0                       0.0            0.870407                0.872852  \n",
       "1                       0.0            0.870534                0.860252  \n",
       "2                       0.0            0.870580                0.855670  \n",
       "3                       0.0            0.870441                0.869416  \n",
       "4                       0.0            0.870499                0.863688  \n",
       "...                     ...                 ...                     ...  \n",
       "2495                    0.0            0.999977                0.903670  \n",
       "2496                    0.0            0.999977                0.920872  \n",
       "2497                    0.0            0.999977                0.924312  \n",
       "2498                    0.0            0.999977                0.917431  \n",
       "2499                    0.0            0.999977                0.908257  \n",
       "\n",
       "[2500 rows x 7 columns]"
      ]
     },
     "execution_count": 125,
     "metadata": {},
     "output_type": "execute_result"
    }
   ],
   "source": [
    "df"
   ]
  },
  {
   "cell_type": "markdown",
   "id": "13afdcb9-5c05-412b-bba0-54ab0602c646",
   "metadata": {},
   "source": [
    "# Aggregate data for line graphs"
   ]
  },
  {
   "cell_type": "code",
   "execution_count": 88,
   "id": "b3bd3f87-7bde-4c77-87d5-68f86bc5c1a5",
   "metadata": {},
   "outputs": [],
   "source": [
    "aggregation_spec = {\n",
    "    f'{input_column}': [\n",
    "        (f'{input_column}_mean', 'mean'),\n",
    "        (f'{input_column}_median', 'median'),\n",
    "        (f'{input_column}_min', 'min'),\n",
    "        (f'{input_column}_max', 'max'),\n",
    "        (f'{input_column}_q1', lambda x: x.quantile(0.25)),\n",
    "        (f'{input_column}_q3', lambda x: x.quantile(0.75)),\n",
    "    ]\n",
    "    for input_column in [\n",
    "        'accuracy_in_sample',\n",
    "        'accuracy_out_of_sample',\n",
    "        #'oob_score',\n",
    "        #'public_score',\n",
    "        #'private_score',\n",
    "    ]\n",
    "}"
   ]
  },
  {
   "cell_type": "code",
   "execution_count": 90,
   "id": "9bbcfdd1-7dd5-44da-b14e-9a385ae6065d",
   "metadata": {},
   "outputs": [],
   "source": [
    "df_aggregated = df.groupby(\n",
    "    by=['max_depth', 'min_samples_split', 'max_leaf_nodes', 'min_samples_leaf', 'min_impurity_decrease']\n",
    ").aggregate(\n",
    "    aggregation_spec\n",
    ")\n",
    "\n",
    "df_aggregated.columns = [column[1] for column in df_aggregated.columns]\n",
    "\n",
    "df_aggregated.reset_index(inplace=True)"
   ]
  },
  {
   "cell_type": "code",
   "execution_count": 94,
   "id": "4b82bff2-d603-408f-855b-f405c6e184f2",
   "metadata": {},
   "outputs": [],
   "source": [
    "df_aggregated.loc[df_aggregated['max_depth'] == 'none', 'max_depth'] = 19 # number of features\n",
    "df_aggregated['max_depth'] = df_aggregated['max_depth'].astype(int)"
   ]
  },
  {
   "cell_type": "code",
   "execution_count": 95,
   "id": "c4e1ac06-f39a-4ce8-9333-b0412bc4975a",
   "metadata": {},
   "outputs": [
    {
     "data": {
      "text/html": [
       "<div>\n",
       "<style scoped>\n",
       "    .dataframe tbody tr th:only-of-type {\n",
       "        vertical-align: middle;\n",
       "    }\n",
       "\n",
       "    .dataframe tbody tr th {\n",
       "        vertical-align: top;\n",
       "    }\n",
       "\n",
       "    .dataframe thead th {\n",
       "        text-align: right;\n",
       "    }\n",
       "</style>\n",
       "<table border=\"1\" class=\"dataframe\">\n",
       "  <thead>\n",
       "    <tr style=\"text-align: right;\">\n",
       "      <th></th>\n",
       "      <th>max_depth</th>\n",
       "      <th>min_samples_split</th>\n",
       "      <th>max_leaf_nodes</th>\n",
       "      <th>min_samples_leaf</th>\n",
       "      <th>min_impurity_decrease</th>\n",
       "      <th>accuracy_in_sample_mean</th>\n",
       "      <th>accuracy_in_sample_median</th>\n",
       "      <th>accuracy_in_sample_min</th>\n",
       "      <th>accuracy_in_sample_max</th>\n",
       "      <th>accuracy_in_sample_q1</th>\n",
       "      <th>accuracy_in_sample_q3</th>\n",
       "      <th>accuracy_out_of_sample_mean</th>\n",
       "      <th>accuracy_out_of_sample_median</th>\n",
       "      <th>accuracy_out_of_sample_min</th>\n",
       "      <th>accuracy_out_of_sample_max</th>\n",
       "      <th>accuracy_out_of_sample_q1</th>\n",
       "      <th>accuracy_out_of_sample_q3</th>\n",
       "    </tr>\n",
       "  </thead>\n",
       "  <tbody>\n",
       "    <tr>\n",
       "      <th>0</th>\n",
       "      <td>1</td>\n",
       "      <td>2</td>\n",
       "      <td>none</td>\n",
       "      <td>1</td>\n",
       "      <td>0.0</td>\n",
       "      <td>0.870431</td>\n",
       "      <td>0.870430</td>\n",
       "      <td>0.870164</td>\n",
       "      <td>0.870673</td>\n",
       "      <td>0.870346</td>\n",
       "      <td>0.870522</td>\n",
       "      <td>0.870431</td>\n",
       "      <td>0.870487</td>\n",
       "      <td>0.846506</td>\n",
       "      <td>0.896907</td>\n",
       "      <td>0.861397</td>\n",
       "      <td>0.878866</td>\n",
       "    </tr>\n",
       "    <tr>\n",
       "      <th>1</th>\n",
       "      <td>2</td>\n",
       "      <td>2</td>\n",
       "      <td>none</td>\n",
       "      <td>1</td>\n",
       "      <td>0.0</td>\n",
       "      <td>0.903075</td>\n",
       "      <td>0.903068</td>\n",
       "      <td>0.902871</td>\n",
       "      <td>0.903440</td>\n",
       "      <td>0.903000</td>\n",
       "      <td>0.903141</td>\n",
       "      <td>0.903075</td>\n",
       "      <td>0.903780</td>\n",
       "      <td>0.866972</td>\n",
       "      <td>0.923253</td>\n",
       "      <td>0.896532</td>\n",
       "      <td>0.910576</td>\n",
       "    </tr>\n",
       "    <tr>\n",
       "      <th>2</th>\n",
       "      <td>3</td>\n",
       "      <td>2</td>\n",
       "      <td>none</td>\n",
       "      <td>1</td>\n",
       "      <td>0.0</td>\n",
       "      <td>0.912780</td>\n",
       "      <td>0.912779</td>\n",
       "      <td>0.912524</td>\n",
       "      <td>0.912987</td>\n",
       "      <td>0.912721</td>\n",
       "      <td>0.912848</td>\n",
       "      <td>0.912780</td>\n",
       "      <td>0.912944</td>\n",
       "      <td>0.892325</td>\n",
       "      <td>0.938144</td>\n",
       "      <td>0.906044</td>\n",
       "      <td>0.918671</td>\n",
       "    </tr>\n",
       "    <tr>\n",
       "      <th>3</th>\n",
       "      <td>4</td>\n",
       "      <td>2</td>\n",
       "      <td>none</td>\n",
       "      <td>1</td>\n",
       "      <td>0.0</td>\n",
       "      <td>0.927297</td>\n",
       "      <td>0.927305</td>\n",
       "      <td>0.927015</td>\n",
       "      <td>0.927548</td>\n",
       "      <td>0.927244</td>\n",
       "      <td>0.927362</td>\n",
       "      <td>0.927275</td>\n",
       "      <td>0.926690</td>\n",
       "      <td>0.903670</td>\n",
       "      <td>0.948454</td>\n",
       "      <td>0.921821</td>\n",
       "      <td>0.932417</td>\n",
       "    </tr>\n",
       "    <tr>\n",
       "      <th>4</th>\n",
       "      <td>5</td>\n",
       "      <td>2</td>\n",
       "      <td>none</td>\n",
       "      <td>1</td>\n",
       "      <td>0.0</td>\n",
       "      <td>0.940171</td>\n",
       "      <td>0.940203</td>\n",
       "      <td>0.939538</td>\n",
       "      <td>0.940418</td>\n",
       "      <td>0.940140</td>\n",
       "      <td>0.940255</td>\n",
       "      <td>0.940062</td>\n",
       "      <td>0.940435</td>\n",
       "      <td>0.919725</td>\n",
       "      <td>0.958763</td>\n",
       "      <td>0.935512</td>\n",
       "      <td>0.946163</td>\n",
       "    </tr>\n",
       "    <tr>\n",
       "      <th>5</th>\n",
       "      <td>6</td>\n",
       "      <td>2</td>\n",
       "      <td>none</td>\n",
       "      <td>1</td>\n",
       "      <td>0.0</td>\n",
       "      <td>0.943389</td>\n",
       "      <td>0.943398</td>\n",
       "      <td>0.943033</td>\n",
       "      <td>0.943647</td>\n",
       "      <td>0.943343</td>\n",
       "      <td>0.943450</td>\n",
       "      <td>0.943144</td>\n",
       "      <td>0.943807</td>\n",
       "      <td>0.920872</td>\n",
       "      <td>0.959908</td>\n",
       "      <td>0.936999</td>\n",
       "      <td>0.949556</td>\n",
       "    </tr>\n",
       "    <tr>\n",
       "      <th>6</th>\n",
       "      <td>7</td>\n",
       "      <td>2</td>\n",
       "      <td>none</td>\n",
       "      <td>1</td>\n",
       "      <td>0.0</td>\n",
       "      <td>0.944475</td>\n",
       "      <td>0.944399</td>\n",
       "      <td>0.944190</td>\n",
       "      <td>0.945197</td>\n",
       "      <td>0.944361</td>\n",
       "      <td>0.944471</td>\n",
       "      <td>0.943855</td>\n",
       "      <td>0.943807</td>\n",
       "      <td>0.924312</td>\n",
       "      <td>0.959908</td>\n",
       "      <td>0.939290</td>\n",
       "      <td>0.949556</td>\n",
       "    </tr>\n",
       "    <tr>\n",
       "      <th>7</th>\n",
       "      <td>8</td>\n",
       "      <td>2</td>\n",
       "      <td>none</td>\n",
       "      <td>1</td>\n",
       "      <td>0.0</td>\n",
       "      <td>0.946191</td>\n",
       "      <td>0.946199</td>\n",
       "      <td>0.945846</td>\n",
       "      <td>0.946483</td>\n",
       "      <td>0.946118</td>\n",
       "      <td>0.946262</td>\n",
       "      <td>0.944955</td>\n",
       "      <td>0.945017</td>\n",
       "      <td>0.925459</td>\n",
       "      <td>0.959908</td>\n",
       "      <td>0.940418</td>\n",
       "      <td>0.949599</td>\n",
       "    </tr>\n",
       "    <tr>\n",
       "      <th>8</th>\n",
       "      <td>9</td>\n",
       "      <td>2</td>\n",
       "      <td>none</td>\n",
       "      <td>1</td>\n",
       "      <td>0.0</td>\n",
       "      <td>0.947237</td>\n",
       "      <td>0.947211</td>\n",
       "      <td>0.946690</td>\n",
       "      <td>0.947987</td>\n",
       "      <td>0.947119</td>\n",
       "      <td>0.947316</td>\n",
       "      <td>0.944851</td>\n",
       "      <td>0.944986</td>\n",
       "      <td>0.925459</td>\n",
       "      <td>0.959908</td>\n",
       "      <td>0.940435</td>\n",
       "      <td>0.949599</td>\n",
       "    </tr>\n",
       "    <tr>\n",
       "      <th>9</th>\n",
       "      <td>10</td>\n",
       "      <td>2</td>\n",
       "      <td>none</td>\n",
       "      <td>1</td>\n",
       "      <td>0.0</td>\n",
       "      <td>0.948580</td>\n",
       "      <td>0.948565</td>\n",
       "      <td>0.948334</td>\n",
       "      <td>0.949052</td>\n",
       "      <td>0.948505</td>\n",
       "      <td>0.948638</td>\n",
       "      <td>0.944107</td>\n",
       "      <td>0.944413</td>\n",
       "      <td>0.922018</td>\n",
       "      <td>0.959908</td>\n",
       "      <td>0.939290</td>\n",
       "      <td>0.948726</td>\n",
       "    </tr>\n",
       "    <tr>\n",
       "      <th>10</th>\n",
       "      <td>11</td>\n",
       "      <td>2</td>\n",
       "      <td>none</td>\n",
       "      <td>1</td>\n",
       "      <td>0.0</td>\n",
       "      <td>0.950355</td>\n",
       "      <td>0.950348</td>\n",
       "      <td>0.949862</td>\n",
       "      <td>0.950858</td>\n",
       "      <td>0.950241</td>\n",
       "      <td>0.950464</td>\n",
       "      <td>0.943247</td>\n",
       "      <td>0.942726</td>\n",
       "      <td>0.922018</td>\n",
       "      <td>0.957617</td>\n",
       "      <td>0.938951</td>\n",
       "      <td>0.948454</td>\n",
       "    </tr>\n",
       "    <tr>\n",
       "      <th>11</th>\n",
       "      <td>12</td>\n",
       "      <td>2</td>\n",
       "      <td>none</td>\n",
       "      <td>1</td>\n",
       "      <td>0.0</td>\n",
       "      <td>0.952132</td>\n",
       "      <td>0.952153</td>\n",
       "      <td>0.951668</td>\n",
       "      <td>0.952524</td>\n",
       "      <td>0.952061</td>\n",
       "      <td>0.952234</td>\n",
       "      <td>0.942422</td>\n",
       "      <td>0.942661</td>\n",
       "      <td>0.919725</td>\n",
       "      <td>0.959908</td>\n",
       "      <td>0.938073</td>\n",
       "      <td>0.947580</td>\n",
       "    </tr>\n",
       "    <tr>\n",
       "      <th>12</th>\n",
       "      <td>13</td>\n",
       "      <td>2</td>\n",
       "      <td>none</td>\n",
       "      <td>1</td>\n",
       "      <td>0.0</td>\n",
       "      <td>0.954493</td>\n",
       "      <td>0.954480</td>\n",
       "      <td>0.954006</td>\n",
       "      <td>0.954908</td>\n",
       "      <td>0.954364</td>\n",
       "      <td>0.954621</td>\n",
       "      <td>0.941655</td>\n",
       "      <td>0.941581</td>\n",
       "      <td>0.917431</td>\n",
       "      <td>0.958763</td>\n",
       "      <td>0.936999</td>\n",
       "      <td>0.946434</td>\n",
       "    </tr>\n",
       "    <tr>\n",
       "      <th>13</th>\n",
       "      <td>14</td>\n",
       "      <td>2</td>\n",
       "      <td>none</td>\n",
       "      <td>1</td>\n",
       "      <td>0.0</td>\n",
       "      <td>0.957116</td>\n",
       "      <td>0.957073</td>\n",
       "      <td>0.956551</td>\n",
       "      <td>0.957836</td>\n",
       "      <td>0.956968</td>\n",
       "      <td>0.957257</td>\n",
       "      <td>0.940383</td>\n",
       "      <td>0.941581</td>\n",
       "      <td>0.920872</td>\n",
       "      <td>0.957617</td>\n",
       "      <td>0.935512</td>\n",
       "      <td>0.945017</td>\n",
       "    </tr>\n",
       "    <tr>\n",
       "      <th>14</th>\n",
       "      <td>15</td>\n",
       "      <td>2</td>\n",
       "      <td>none</td>\n",
       "      <td>1</td>\n",
       "      <td>0.0</td>\n",
       "      <td>0.960110</td>\n",
       "      <td>0.960070</td>\n",
       "      <td>0.959352</td>\n",
       "      <td>0.961007</td>\n",
       "      <td>0.959905</td>\n",
       "      <td>0.960316</td>\n",
       "      <td>0.938905</td>\n",
       "      <td>0.938144</td>\n",
       "      <td>0.916284</td>\n",
       "      <td>0.957617</td>\n",
       "      <td>0.934365</td>\n",
       "      <td>0.944142</td>\n",
       "    </tr>\n",
       "    <tr>\n",
       "      <th>15</th>\n",
       "      <td>16</td>\n",
       "      <td>2</td>\n",
       "      <td>none</td>\n",
       "      <td>1</td>\n",
       "      <td>0.0</td>\n",
       "      <td>0.963193</td>\n",
       "      <td>0.963207</td>\n",
       "      <td>0.961992</td>\n",
       "      <td>0.964225</td>\n",
       "      <td>0.962938</td>\n",
       "      <td>0.963426</td>\n",
       "      <td>0.936968</td>\n",
       "      <td>0.936426</td>\n",
       "      <td>0.916284</td>\n",
       "      <td>0.955326</td>\n",
       "      <td>0.932072</td>\n",
       "      <td>0.942677</td>\n",
       "    </tr>\n",
       "    <tr>\n",
       "      <th>16</th>\n",
       "      <td>17</td>\n",
       "      <td>2</td>\n",
       "      <td>none</td>\n",
       "      <td>1</td>\n",
       "      <td>0.0</td>\n",
       "      <td>0.966820</td>\n",
       "      <td>0.966876</td>\n",
       "      <td>0.965452</td>\n",
       "      <td>0.967848</td>\n",
       "      <td>0.966548</td>\n",
       "      <td>0.967147</td>\n",
       "      <td>0.935272</td>\n",
       "      <td>0.935853</td>\n",
       "      <td>0.910550</td>\n",
       "      <td>0.949599</td>\n",
       "      <td>0.931252</td>\n",
       "      <td>0.940435</td>\n",
       "    </tr>\n",
       "    <tr>\n",
       "      <th>17</th>\n",
       "      <td>18</td>\n",
       "      <td>2</td>\n",
       "      <td>none</td>\n",
       "      <td>1</td>\n",
       "      <td>0.0</td>\n",
       "      <td>0.970324</td>\n",
       "      <td>0.970377</td>\n",
       "      <td>0.968357</td>\n",
       "      <td>0.971412</td>\n",
       "      <td>0.969998</td>\n",
       "      <td>0.970718</td>\n",
       "      <td>0.932855</td>\n",
       "      <td>0.933486</td>\n",
       "      <td>0.909404</td>\n",
       "      <td>0.948454</td>\n",
       "      <td>0.927835</td>\n",
       "      <td>0.936999</td>\n",
       "    </tr>\n",
       "    <tr>\n",
       "      <th>18</th>\n",
       "      <td>19</td>\n",
       "      <td>2</td>\n",
       "      <td>none</td>\n",
       "      <td>1</td>\n",
       "      <td>0.0</td>\n",
       "      <td>0.999977</td>\n",
       "      <td>0.999977</td>\n",
       "      <td>0.999977</td>\n",
       "      <td>0.999988</td>\n",
       "      <td>0.999977</td>\n",
       "      <td>0.999977</td>\n",
       "      <td>0.913066</td>\n",
       "      <td>0.912944</td>\n",
       "      <td>0.888889</td>\n",
       "      <td>0.939290</td>\n",
       "      <td>0.906850</td>\n",
       "      <td>0.918958</td>\n",
       "    </tr>\n",
       "  </tbody>\n",
       "</table>\n",
       "</div>"
      ],
      "text/plain": [
       "    max_depth  min_samples_split max_leaf_nodes  min_samples_leaf  \\\n",
       "0           1                  2           none                 1   \n",
       "1           2                  2           none                 1   \n",
       "2           3                  2           none                 1   \n",
       "3           4                  2           none                 1   \n",
       "4           5                  2           none                 1   \n",
       "5           6                  2           none                 1   \n",
       "6           7                  2           none                 1   \n",
       "7           8                  2           none                 1   \n",
       "8           9                  2           none                 1   \n",
       "9          10                  2           none                 1   \n",
       "10         11                  2           none                 1   \n",
       "11         12                  2           none                 1   \n",
       "12         13                  2           none                 1   \n",
       "13         14                  2           none                 1   \n",
       "14         15                  2           none                 1   \n",
       "15         16                  2           none                 1   \n",
       "16         17                  2           none                 1   \n",
       "17         18                  2           none                 1   \n",
       "18         19                  2           none                 1   \n",
       "\n",
       "    min_impurity_decrease  accuracy_in_sample_mean  accuracy_in_sample_median  \\\n",
       "0                     0.0                 0.870431                   0.870430   \n",
       "1                     0.0                 0.903075                   0.903068   \n",
       "2                     0.0                 0.912780                   0.912779   \n",
       "3                     0.0                 0.927297                   0.927305   \n",
       "4                     0.0                 0.940171                   0.940203   \n",
       "5                     0.0                 0.943389                   0.943398   \n",
       "6                     0.0                 0.944475                   0.944399   \n",
       "7                     0.0                 0.946191                   0.946199   \n",
       "8                     0.0                 0.947237                   0.947211   \n",
       "9                     0.0                 0.948580                   0.948565   \n",
       "10                    0.0                 0.950355                   0.950348   \n",
       "11                    0.0                 0.952132                   0.952153   \n",
       "12                    0.0                 0.954493                   0.954480   \n",
       "13                    0.0                 0.957116                   0.957073   \n",
       "14                    0.0                 0.960110                   0.960070   \n",
       "15                    0.0                 0.963193                   0.963207   \n",
       "16                    0.0                 0.966820                   0.966876   \n",
       "17                    0.0                 0.970324                   0.970377   \n",
       "18                    0.0                 0.999977                   0.999977   \n",
       "\n",
       "    accuracy_in_sample_min  accuracy_in_sample_max  accuracy_in_sample_q1  \\\n",
       "0                 0.870164                0.870673               0.870346   \n",
       "1                 0.902871                0.903440               0.903000   \n",
       "2                 0.912524                0.912987               0.912721   \n",
       "3                 0.927015                0.927548               0.927244   \n",
       "4                 0.939538                0.940418               0.940140   \n",
       "5                 0.943033                0.943647               0.943343   \n",
       "6                 0.944190                0.945197               0.944361   \n",
       "7                 0.945846                0.946483               0.946118   \n",
       "8                 0.946690                0.947987               0.947119   \n",
       "9                 0.948334                0.949052               0.948505   \n",
       "10                0.949862                0.950858               0.950241   \n",
       "11                0.951668                0.952524               0.952061   \n",
       "12                0.954006                0.954908               0.954364   \n",
       "13                0.956551                0.957836               0.956968   \n",
       "14                0.959352                0.961007               0.959905   \n",
       "15                0.961992                0.964225               0.962938   \n",
       "16                0.965452                0.967848               0.966548   \n",
       "17                0.968357                0.971412               0.969998   \n",
       "18                0.999977                0.999988               0.999977   \n",
       "\n",
       "    accuracy_in_sample_q3  accuracy_out_of_sample_mean  \\\n",
       "0                0.870522                     0.870431   \n",
       "1                0.903141                     0.903075   \n",
       "2                0.912848                     0.912780   \n",
       "3                0.927362                     0.927275   \n",
       "4                0.940255                     0.940062   \n",
       "5                0.943450                     0.943144   \n",
       "6                0.944471                     0.943855   \n",
       "7                0.946262                     0.944955   \n",
       "8                0.947316                     0.944851   \n",
       "9                0.948638                     0.944107   \n",
       "10               0.950464                     0.943247   \n",
       "11               0.952234                     0.942422   \n",
       "12               0.954621                     0.941655   \n",
       "13               0.957257                     0.940383   \n",
       "14               0.960316                     0.938905   \n",
       "15               0.963426                     0.936968   \n",
       "16               0.967147                     0.935272   \n",
       "17               0.970718                     0.932855   \n",
       "18               0.999977                     0.913066   \n",
       "\n",
       "    accuracy_out_of_sample_median  accuracy_out_of_sample_min  \\\n",
       "0                        0.870487                    0.846506   \n",
       "1                        0.903780                    0.866972   \n",
       "2                        0.912944                    0.892325   \n",
       "3                        0.926690                    0.903670   \n",
       "4                        0.940435                    0.919725   \n",
       "5                        0.943807                    0.920872   \n",
       "6                        0.943807                    0.924312   \n",
       "7                        0.945017                    0.925459   \n",
       "8                        0.944986                    0.925459   \n",
       "9                        0.944413                    0.922018   \n",
       "10                       0.942726                    0.922018   \n",
       "11                       0.942661                    0.919725   \n",
       "12                       0.941581                    0.917431   \n",
       "13                       0.941581                    0.920872   \n",
       "14                       0.938144                    0.916284   \n",
       "15                       0.936426                    0.916284   \n",
       "16                       0.935853                    0.910550   \n",
       "17                       0.933486                    0.909404   \n",
       "18                       0.912944                    0.888889   \n",
       "\n",
       "    accuracy_out_of_sample_max  accuracy_out_of_sample_q1  \\\n",
       "0                     0.896907                   0.861397   \n",
       "1                     0.923253                   0.896532   \n",
       "2                     0.938144                   0.906044   \n",
       "3                     0.948454                   0.921821   \n",
       "4                     0.958763                   0.935512   \n",
       "5                     0.959908                   0.936999   \n",
       "6                     0.959908                   0.939290   \n",
       "7                     0.959908                   0.940418   \n",
       "8                     0.959908                   0.940435   \n",
       "9                     0.959908                   0.939290   \n",
       "10                    0.957617                   0.938951   \n",
       "11                    0.959908                   0.938073   \n",
       "12                    0.958763                   0.936999   \n",
       "13                    0.957617                   0.935512   \n",
       "14                    0.957617                   0.934365   \n",
       "15                    0.955326                   0.932072   \n",
       "16                    0.949599                   0.931252   \n",
       "17                    0.948454                   0.927835   \n",
       "18                    0.939290                   0.906850   \n",
       "\n",
       "    accuracy_out_of_sample_q3  \n",
       "0                    0.878866  \n",
       "1                    0.910576  \n",
       "2                    0.918671  \n",
       "3                    0.932417  \n",
       "4                    0.946163  \n",
       "5                    0.949556  \n",
       "6                    0.949556  \n",
       "7                    0.949599  \n",
       "8                    0.949599  \n",
       "9                    0.948726  \n",
       "10                   0.948454  \n",
       "11                   0.947580  \n",
       "12                   0.946434  \n",
       "13                   0.945017  \n",
       "14                   0.944142  \n",
       "15                   0.942677  \n",
       "16                   0.940435  \n",
       "17                   0.936999  \n",
       "18                   0.918958  "
      ]
     },
     "execution_count": 95,
     "metadata": {},
     "output_type": "execute_result"
    }
   ],
   "source": [
    "df_aggregated"
   ]
  },
  {
   "cell_type": "markdown",
   "id": "25e78310-8638-4f1d-aede-2ae9009dddf4",
   "metadata": {},
   "source": [
    "# Plot in sample accuracy"
   ]
  },
  {
   "cell_type": "code",
   "execution_count": 276,
   "id": "8c06a25d-e720-4b44-bb86-bcd279bc760d",
   "metadata": {},
   "outputs": [],
   "source": [
    "filename = f'decision_tree_model_by_max_depth.csv'\n",
    "df = pandas.read_csv(filename, index_col=0)"
   ]
  },
  {
   "cell_type": "code",
   "execution_count": 277,
   "id": "d099e584-2169-4639-89e3-d0199841373f",
   "metadata": {},
   "outputs": [
    {
     "data": {
      "image/png": "[encoded data removed]",
      "text/plain": [
       "<Figure size 640x480 with 1 Axes>"
      ]
     },
     "metadata": {},
     "output_type": "display_data"
    }
   ],
   "source": [
    "plt.figure()\n",
    "\n",
    "df_select = df #df[df['min_samples_split'] == 2]\n",
    "\n",
    "positions = []\n",
    "x = []\n",
    "\n",
    "for max_depth_ in sorted(df_select['max_depth'].unique()):\n",
    "    x.append(\n",
    "        df[df['max_depth'] == max_depth_]['accuracy_in_sample']\n",
    "    )\n",
    "    positions.append(\n",
    "        max_depth_\n",
    "    )\n",
    "\n",
    "plt.boxplot(\n",
    "    x,\n",
    "    positions=positions,\n",
    "    orientation='vertical',\n",
    "    meanline=True,\n",
    "    showmeans=True,\n",
    "    widths=[0.1 * position for position in positions],\n",
    ")\n",
    "plt.xscale('log')\n",
    "plt.xlim(xmin=0.9, xmax=110)\n",
    "plt.xlabel('max depth')\n",
    "plt.ylabel('in sample accuracy')\n",
    "\n",
    "plt.savefig('decision_tree_model_by_max_depth-accuracy_in_sample.png')\n",
    "plt.savefig('decision_tree_model_by_max_depth-accuracy_in_sample.pdf')\n",
    "\n",
    "None"
   ]
  },
  {
   "cell_type": "markdown",
   "id": "a6a8832e-b22f-48d0-bc2f-391a2a7c6514",
   "metadata": {},
   "source": [
    "# Plot out of sample accuracy"
   ]
  },
  {
   "cell_type": "code",
   "execution_count": 278,
   "id": "ca586371-2fe1-4e1d-b1eb-b95b7b73f67a",
   "metadata": {},
   "outputs": [
    {
     "name": "stdout",
     "output_type": "stream",
     "text": [
      "[  1   2   3   4   5   6   7   8   9  10  12  14  16  18  20  25  30  35\n",
      "  40  50  60  70  80  90 100]\n"
     ]
    },
    {
     "data": {
      "image/png": "[encoded data removed]",
      "text/plain": [
       "<Figure size 640x480 with 1 Axes>"
      ]
     },
     "metadata": {},
     "output_type": "display_data"
    }
   ],
   "source": [
    "plt.figure()\n",
    "\n",
    "df_select = df #df[df['min_samples_split'] == 2]\n",
    "\n",
    "positions = []\n",
    "x = []\n",
    "\n",
    "for max_depth_ in sorted(df_select['max_depth'].unique()):\n",
    "\n",
    "    # if max_depth_ not in [1, 2, 3, 4, 5, 6, 7, 8, 9,\n",
    "    #                      10, 20, 30, 40, 50, 60, 70, 80, 90,\n",
    "    #                     100, 200]:\n",
    "    #     pass #continue\n",
    "    \n",
    "    x.append(\n",
    "        df[df['max_depth'] == max_depth_]['accuracy_out_of_sample']\n",
    "    )\n",
    "    positions.append(\n",
    "        max_depth_\n",
    "    )\n",
    "\n",
    "plt.boxplot(\n",
    "    x,\n",
    "    positions=positions,\n",
    "    orientation='vertical',\n",
    "    meanline=True,\n",
    "    showmeans=True,\n",
    "    widths=[0.1 * position for position in positions],\n",
    ")\n",
    "plt.xscale('log')\n",
    "plt.xlim(xmin=0.8, xmax=110)\n",
    "plt.xlabel('max depth')\n",
    "plt.ylabel('out of sample accuracy')\n",
    "\n",
    "plt.savefig('decision_tree_model_by_max_depth-accuracy_out_of_sample.png')\n",
    "plt.savefig('decision_tree_model_by_max_depth-accuracy_out_of_sample.pdf')\n",
    "\n",
    "print(numpy.array(positions))\n",
    "\n",
    "None"
   ]
  },
  {
   "cell_type": "code",
   "execution_count": 270,
   "id": "ed2ff031-b9d6-4e1b-9956-7172108bc385",
   "metadata": {},
   "outputs": [],
   "source": [
    "# make prediction\n",
    "\n",
    "max_depth = 100\n",
    "min_samples_split = 2\n",
    "max_leaf_nodes = None\n",
    "min_samples_leaf = 1\n",
    "min_impurity_decrease = 0.0\n",
    "\n",
    "# find best performing k\n",
    "k_list = []\n",
    "accuracy_in_sample_list = []\n",
    "accuracy_out_of_sample_list = []\n",
    "\n",
    "for i in range(k):\n",
    "    test_index = folds[i]\n",
    "    train_index = numpy.concatenate([folds[j] for j in range(k) if j != i])\n",
    "        \n",
    "    training_data = all_training_data.loc[train_index]\n",
    "    test_data = all_training_data.loc[test_index]\n",
    "    \n",
    "    (\n",
    "        clf,\n",
    "        feature_importances,\n",
    "        accuracy_in_sample,\n",
    "    ) = decision_tree_model_train(\n",
    "        training_data,\n",
    "        decision_tree_columns,\n",
    "        max_depth,\n",
    "        min_samples_split,\n",
    "        max_leaf_nodes,\n",
    "        min_samples_leaf,\n",
    "        min_impurity_decrease,\n",
    "    )\n",
    "    \n",
    "    accuracy_out_of_sample = decision_tree_model_test(\n",
    "        clf,\n",
    "        test_data,\n",
    "        decision_tree_columns,\n",
    "    )\n",
    "\n",
    "    k_list.append(i)\n",
    "    accuracy_in_sample_list.append(accuracy_in_sample)\n",
    "    accuracy_out_of_sample_list.append(accuracy_out_of_sample)\n",
    "    \n",
    "    #data_predict = decision_tree_model_predict(\n",
    "    #    clf,\n",
    "    #    data_test_copy,\n",
    "    #    decision_tree_columns,\n",
    "    #    decision_tree_columns_with_id,\n",
    "    #)\n",
    "    \n",
    "    #decision_tree_model_predict_write_to_csv(\n",
    "    #    data_predict,\n",
    "    #    f'decision_tree_model_one_hot_encoder_2_clean_code-2-max_depth_none.csv'\n",
    "    #)"
   ]
  },
  {
   "cell_type": "code",
   "execution_count": 271,
   "id": "60dfbebb-cdf7-479a-91f5-c7211f3967d6",
   "metadata": {},
   "outputs": [],
   "source": [
    "df = pandas.DataFrame(\n",
    "    {\n",
    "        'k': k_list,\n",
    "        'accuracy_in_sample': accuracy_in_sample_list,\n",
    "        'accuracy_out_of_sample': accuracy_out_of_sample_list,\n",
    "    }\n",
    ")"
   ]
  },
  {
   "cell_type": "code",
   "execution_count": 272,
   "id": "9e35165b-26a8-4ca8-8dc4-848744b3731c",
   "metadata": {},
   "outputs": [
    {
     "data": {
      "text/html": [
       "<div>\n",
       "<style scoped>\n",
       "    .dataframe tbody tr th:only-of-type {\n",
       "        vertical-align: middle;\n",
       "    }\n",
       "\n",
       "    .dataframe tbody tr th {\n",
       "        vertical-align: top;\n",
       "    }\n",
       "\n",
       "    .dataframe thead th {\n",
       "        text-align: right;\n",
       "    }\n",
       "</style>\n",
       "<table border=\"1\" class=\"dataframe\">\n",
       "  <thead>\n",
       "    <tr style=\"text-align: right;\">\n",
       "      <th></th>\n",
       "      <th>k</th>\n",
       "      <th>accuracy_in_sample</th>\n",
       "      <th>accuracy_out_of_sample</th>\n",
       "    </tr>\n",
       "  </thead>\n",
       "  <tbody>\n",
       "    <tr>\n",
       "      <th>27</th>\n",
       "      <td>27</td>\n",
       "      <td>0.999977</td>\n",
       "      <td>0.890034</td>\n",
       "    </tr>\n",
       "    <tr>\n",
       "      <th>36</th>\n",
       "      <td>36</td>\n",
       "      <td>0.999977</td>\n",
       "      <td>0.894616</td>\n",
       "    </tr>\n",
       "    <tr>\n",
       "      <th>84</th>\n",
       "      <td>84</td>\n",
       "      <td>0.999977</td>\n",
       "      <td>0.895642</td>\n",
       "    </tr>\n",
       "    <tr>\n",
       "      <th>1</th>\n",
       "      <td>1</td>\n",
       "      <td>0.999977</td>\n",
       "      <td>0.895762</td>\n",
       "    </tr>\n",
       "    <tr>\n",
       "      <th>62</th>\n",
       "      <td>62</td>\n",
       "      <td>0.999977</td>\n",
       "      <td>0.896907</td>\n",
       "    </tr>\n",
       "    <tr>\n",
       "      <th>...</th>\n",
       "      <td>...</td>\n",
       "      <td>...</td>\n",
       "      <td>...</td>\n",
       "    </tr>\n",
       "    <tr>\n",
       "      <th>70</th>\n",
       "      <td>70</td>\n",
       "      <td>0.999977</td>\n",
       "      <td>0.928981</td>\n",
       "    </tr>\n",
       "    <tr>\n",
       "      <th>22</th>\n",
       "      <td>22</td>\n",
       "      <td>0.999977</td>\n",
       "      <td>0.930126</td>\n",
       "    </tr>\n",
       "    <tr>\n",
       "      <th>6</th>\n",
       "      <td>6</td>\n",
       "      <td>0.999977</td>\n",
       "      <td>0.932417</td>\n",
       "    </tr>\n",
       "    <tr>\n",
       "      <th>54</th>\n",
       "      <td>54</td>\n",
       "      <td>0.999988</td>\n",
       "      <td>0.933562</td>\n",
       "    </tr>\n",
       "    <tr>\n",
       "      <th>43</th>\n",
       "      <td>43</td>\n",
       "      <td>0.999977</td>\n",
       "      <td>0.940435</td>\n",
       "    </tr>\n",
       "  </tbody>\n",
       "</table>\n",
       "<p>100 rows × 3 columns</p>\n",
       "</div>"
      ],
      "text/plain": [
       "     k  accuracy_in_sample  accuracy_out_of_sample\n",
       "27  27            0.999977                0.890034\n",
       "36  36            0.999977                0.894616\n",
       "84  84            0.999977                0.895642\n",
       "1    1            0.999977                0.895762\n",
       "62  62            0.999977                0.896907\n",
       "..  ..                 ...                     ...\n",
       "70  70            0.999977                0.928981\n",
       "22  22            0.999977                0.930126\n",
       "6    6            0.999977                0.932417\n",
       "54  54            0.999988                0.933562\n",
       "43  43            0.999977                0.940435\n",
       "\n",
       "[100 rows x 3 columns]"
      ]
     },
     "execution_count": 272,
     "metadata": {},
     "output_type": "execute_result"
    }
   ],
   "source": [
    "df.sort_values(by=['accuracy_out_of_sample'])"
   ]
  },
  {
   "cell_type": "code",
   "execution_count": 273,
   "id": "f2245d2a-01ae-48b7-8d66-ce63ab49709b",
   "metadata": {},
   "outputs": [],
   "source": [
    "# predict using k = 43\n",
    "\n",
    "max_depth = 100\n",
    "min_samples_split = 2\n",
    "max_leaf_nodes = None\n",
    "min_samples_leaf = 1\n",
    "min_impurity_decrease = 0.0\n",
    "\n",
    "k = 43\n",
    "i = k\n",
    "\n",
    "test_index = folds[i]\n",
    "train_index = numpy.concatenate([folds[j] for j in range(k) if j != i])\n",
    "    \n",
    "training_data = all_training_data.loc[train_index]\n",
    "test_data = all_training_data.loc[test_index]\n",
    "\n",
    "(\n",
    "    clf,\n",
    "    feature_importances,\n",
    "    accuracy_in_sample,\n",
    ") = decision_tree_model_train(\n",
    "    training_data,\n",
    "    decision_tree_columns,\n",
    "    max_depth,\n",
    "    min_samples_split,\n",
    "    max_leaf_nodes,\n",
    "    min_samples_leaf,\n",
    "    min_impurity_decrease,\n",
    ")\n",
    "\n",
    "accuracy_out_of_sample = decision_tree_model_test(\n",
    "    clf,\n",
    "    test_data,\n",
    "    decision_tree_columns,\n",
    ")\n",
    "\n",
    "data_predict = decision_tree_model_predict(\n",
    "    clf,\n",
    "    data_test_copy,\n",
    "    decision_tree_columns,\n",
    "    decision_tree_columns_with_id,\n",
    ")\n",
    "\n",
    "decision_tree_model_predict_write_to_csv(\n",
    "    data_predict,\n",
    "    f'decision_tree_model_one_hot_encoder_2_clean_code-2-max_depth_100_k_43.csv'\n",
    ")"
   ]
  },
  {
   "cell_type": "code",
   "execution_count": null,
   "id": "b6d333d3-1798-404a-9b25-77a2c848b025",
   "metadata": {},
   "outputs": [],
   "source": [
    "# result, above performs badly, 0.84"
   ]
  },
  {
   "cell_type": "markdown",
   "id": "9e08f556-0acd-409c-af78-e85e84f991e9",
   "metadata": {},
   "source": [
    "# Decision Tree Model - Max Depth set to None, constrain Min Samples Split"
   ]
  },
  {
   "cell_type": "code",
   "execution_count": 149,
   "id": "dfd15d87-db28-42ee-a041-d521bb628b62",
   "metadata": {},
   "outputs": [
    {
     "name": "stdout",
     "output_type": "stream",
     "text": [
      "processing min_samples_split=600\n",
      "processing min_samples_split=700\n",
      "processing min_samples_split=800\n",
      "processing min_samples_split=900\n",
      "processing min_samples_split=1000\n",
      "processing min_samples_split=2000\n",
      "processing min_samples_split=3000\n",
      "processing min_samples_split=4000\n",
      "processing min_samples_split=5000\n",
      "done\n"
     ]
    }
   ],
   "source": [
    "max_depth = None\n",
    "min_samples_split = 2\n",
    "max_leaf_nodes = None\n",
    "min_samples_leaf = 1\n",
    "min_impurity_decrease = 0.0\n",
    "\n",
    "accuracy_in_sample_list = []\n",
    "accuracy_out_of_sample_list = []\n",
    "max_depth_list = []\n",
    "min_samples_split_list = []\n",
    "max_leaf_nodes_list = []\n",
    "min_samples_leaf_list = []\n",
    "min_impurity_decrease_list = []\n",
    "\n",
    "max_depth_list_input = [None]\n",
    "min_samples_split_list_input = [2, 3, 4, 5, 7, 10, 20]\n",
    "min_samples_split_list_input = [15, 25, 30, 40, 50]\n",
    "min_samples_split_list_input = [60, 70, 80, 90, 100]\n",
    "min_samples_split_list_input = [150, 200, 300, 400, 500]\n",
    "min_samples_split_list_input = [600, 700, 800, 900, 1000, 2000, 3000, 4000, 5000]\n",
    "max_leaf_nodes_list_input = [2, 4, 8, 16, 32]\n",
    "min_samples_leaf_list_input = [1, 2, 4, 8, 16, 32]\n",
    "min_impurity_decrease_list_input = [0.0, 0.001, 0.01, 0.1]\n",
    "\n",
    "filename = f'decision_tree_model_by_min_samples_split.csv'\n",
    "\n",
    "df = None\n",
    "\n",
    "for min_samples_split in min_samples_split_list_input:\n",
    "    print(f'processing min_samples_split={min_samples_split}')\n",
    "\n",
    "    # read data from file\n",
    "    if df is None:\n",
    "        try:\n",
    "            df = pandas.read_csv(filename, index_col=0)\n",
    "        except:\n",
    "            pass\n",
    "\n",
    "        if df is not None:\n",
    "            accuracy_in_sample_list = df['accuracy_in_sample'].to_numpy().tolist()\n",
    "            accuracy_out_of_sample_list = df['accuracy_out_of_sample'].to_numpy().tolist()\n",
    "            max_depth_list = df['max_depth'].to_numpy().tolist()\n",
    "            min_samples_split_list = df['min_samples_split'].to_numpy().tolist()\n",
    "            max_leaf_nodes_list = df['max_leaf_nodes'].to_numpy().tolist()\n",
    "            min_samples_leaf_list = df['min_samples_leaf'].to_numpy().tolist()\n",
    "            min_impurity_decrease_list = df['min_impurity_decrease'].to_numpy().tolist()\n",
    "    \n",
    "    for i in range(k):\n",
    "        test_index = folds[i]\n",
    "        train_index = numpy.concatenate([folds[j] for j in range(k) if j != i])\n",
    "            \n",
    "        training_data = all_training_data.loc[train_index]\n",
    "        test_data = all_training_data.loc[test_index]\n",
    "        \n",
    "        (\n",
    "            clf,\n",
    "            feature_importances,\n",
    "            accuracy_in_sample,\n",
    "        ) = decision_tree_model_train(\n",
    "            training_data,\n",
    "            decision_tree_columns,\n",
    "            max_depth,\n",
    "            min_samples_split,\n",
    "            max_leaf_nodes,\n",
    "            min_samples_leaf,\n",
    "            min_impurity_decrease,\n",
    "        )\n",
    "        \n",
    "        accuracy_out_of_sample = decision_tree_model_test(\n",
    "            clf,\n",
    "            test_data,\n",
    "            decision_tree_columns,\n",
    "        )\n",
    "    \n",
    "        accuracy_in_sample_list.append(accuracy_in_sample)\n",
    "        accuracy_out_of_sample_list.append(accuracy_out_of_sample)\n",
    "        max_depth_list.append(max_depth)\n",
    "        min_samples_split_list.append(min_samples_split)\n",
    "        max_leaf_nodes_list.append(max_leaf_nodes)\n",
    "        min_samples_leaf_list.append(min_samples_leaf)\n",
    "        min_impurity_decrease_list.append(min_impurity_decrease)\n",
    "\n",
    "    # write data to file\n",
    "    df = pandas.DataFrame(\n",
    "        {\n",
    "            'max_depth': max_depth_list,\n",
    "            'min_samples_split': min_samples_split_list,\n",
    "            'max_leaf_nodes': max_leaf_nodes_list,\n",
    "            'min_samples_leaf': min_samples_leaf_list,\n",
    "            'min_impurity_decrease': min_impurity_decrease_list,\n",
    "            'accuracy_in_sample': accuracy_in_sample_list,\n",
    "            'accuracy_out_of_sample': accuracy_out_of_sample_list,\n",
    "            #'public_score': public_score_list,\n",
    "            #'private_score': private_score_list,\n",
    "        }\n",
    "    )\n",
    "    df['max_depth'] = df['max_depth'].astype(object)\n",
    "    df['max_leaf_nodes'] = df['max_leaf_nodes'].astype(object)\n",
    "    df.loc[df['max_depth'].isna(), 'max_depth'] = 'none'\n",
    "    df.loc[df['max_leaf_nodes'].isna(), 'max_leaf_nodes'] = 'none'\n",
    "    df.to_csv(filename, index=True)\n",
    "\n",
    "print(f'done')"
   ]
  },
  {
   "cell_type": "code",
   "execution_count": 170,
   "id": "7352c609-9784-42b3-96ac-8c9019d8e091",
   "metadata": {},
   "outputs": [],
   "source": [
    "filename = f'decision_tree_model_by_min_samples_split.csv'\n",
    "df = pandas.read_csv(filename, index_col=0)"
   ]
  },
  {
   "cell_type": "code",
   "execution_count": 171,
   "id": "34e87538-5c61-4047-895d-abe2ae949b58",
   "metadata": {},
   "outputs": [
    {
     "data": {
      "image/png": "[encoded data removed]",
      "text/plain": [
       "<Figure size 640x480 with 1 Axes>"
      ]
     },
     "metadata": {},
     "output_type": "display_data"
    }
   ],
   "source": [
    "plt.figure()\n",
    "\n",
    "df_select = df #df[df['min_samples_split'] == 2]\n",
    "\n",
    "positions = []\n",
    "x = []\n",
    "\n",
    "for min_samples_split_ in sorted(df_select['min_samples_split'].unique()):\n",
    "    x.append(\n",
    "        df[df['min_samples_split'] == min_samples_split_]['accuracy_in_sample']\n",
    "    )\n",
    "    positions.append(\n",
    "        min_samples_split_\n",
    "    )\n",
    "\n",
    "plt.boxplot(\n",
    "    x,\n",
    "    positions=positions,\n",
    "    orientation='vertical',\n",
    "    meanline=True,\n",
    "    showmeans=True,\n",
    "    widths=[0.1 * position for position in positions],\n",
    ")\n",
    "plt.xscale('log')\n",
    "plt.xlim(xmin=1, xmax=6000)\n",
    "plt.xlabel('min samples split')\n",
    "plt.ylabel('in sample accuracy')\n",
    "\n",
    "None"
   ]
  },
  {
   "cell_type": "code",
   "execution_count": 174,
   "id": "ab9add4b-a52a-47ad-ad90-0ccfea6d6203",
   "metadata": {},
   "outputs": [
    {
     "data": {
      "image/png": "[encoded data removed]",
      "text/plain": [
       "<Figure size 640x480 with 1 Axes>"
      ]
     },
     "metadata": {},
     "output_type": "display_data"
    }
   ],
   "source": [
    "plt.figure()\n",
    "\n",
    "df_select = df #df[df['min_samples_split'] == 2]\n",
    "\n",
    "positions = []\n",
    "x = []\n",
    "\n",
    "for min_samples_split_ in sorted(df_select['min_samples_split'].unique()):\n",
    "\n",
    "    # if not min_samples_split_ in [1, 2, 3, 4, 5, 6, 7, 8, 9,\n",
    "    #                               10, 20, 30, 40, 50, 60, 70, 80, 90,\n",
    "    #                               100, 200, 300, 400, 500, 600, 700, 800, 900,\n",
    "    #                               1000, 2000, 3000, 4000, 5000, 6000, 7000, 8000, 9000,\n",
    "    #                               10000]:\n",
    "    #     continue\n",
    "    \n",
    "    x.append(\n",
    "        df[df['min_samples_split'] == min_samples_split_]['accuracy_out_of_sample']\n",
    "    )\n",
    "    positions.append(\n",
    "        min_samples_split_\n",
    "    )\n",
    "\n",
    "plt.boxplot(\n",
    "    x,\n",
    "    positions=positions,\n",
    "    orientation='vertical',\n",
    "    meanline=True,\n",
    "    showmeans=True,\n",
    "    widths=[0.1 * position for position in positions],\n",
    ")\n",
    "plt.xscale('log')\n",
    "plt.xlim(xmin=1, xmax=6000)\n",
    "plt.xlabel('min samples split')\n",
    "plt.ylabel('out of sample accuracy')\n",
    "\n",
    "None"
   ]
  },
  {
   "cell_type": "markdown",
   "id": "bc5f89e2-5929-4c57-8636-dd6cb3ca7554",
   "metadata": {},
   "source": [
    "# Decision Tree Model - Max Depth set to None, constrain Max Leaf Nodes"
   ]
  },
  {
   "cell_type": "code",
   "execution_count": 181,
   "id": "a7a4cdb6-e416-4843-9454-b27256664f36",
   "metadata": {},
   "outputs": [
    {
     "name": "stdout",
     "output_type": "stream",
     "text": [
      "processing max_leaf_nodes=1024\n",
      "processing max_leaf_nodes=2048\n",
      "processing max_leaf_nodes=4096\n",
      "processing max_leaf_nodes=8192\n",
      "done\n"
     ]
    }
   ],
   "source": [
    "max_depth = None\n",
    "min_samples_split = 2\n",
    "max_leaf_nodes = None\n",
    "min_samples_leaf = 1\n",
    "min_impurity_decrease = 0.0\n",
    "\n",
    "accuracy_in_sample_list = []\n",
    "accuracy_out_of_sample_list = []\n",
    "max_depth_list = []\n",
    "min_samples_split_list = []\n",
    "max_leaf_nodes_list = []\n",
    "min_samples_leaf_list = []\n",
    "min_impurity_decrease_list = []\n",
    "\n",
    "max_depth_list_input = [None]\n",
    "min_samples_split_list_input = [2]\n",
    "max_leaf_nodes_list_input = [2, 4, 8, 16, 32]\n",
    "max_leaf_nodes_list_input = [64, 128, 256, 512]\n",
    "max_leaf_nodes_list_input = [1024, 1024 * 2, 1024 * 4, 1024 * 8]\n",
    "min_samples_leaf_list_input = [1, 2, 4, 8, 16, 32]\n",
    "min_impurity_decrease_list_input = [0.0, 0.001, 0.01, 0.1]\n",
    "\n",
    "filename = f'decision_tree_model_by_max_leaf_nodes.csv'\n",
    "\n",
    "df = None\n",
    "\n",
    "for max_leaf_nodes in max_leaf_nodes_list_input:\n",
    "    print(f'processing max_leaf_nodes={max_leaf_nodes}')\n",
    "\n",
    "    # read data from file\n",
    "    if df is None:\n",
    "        try:\n",
    "            df = pandas.read_csv(filename, index_col=0)\n",
    "        except:\n",
    "            pass\n",
    "\n",
    "        if df is not None:\n",
    "            accuracy_in_sample_list = df['accuracy_in_sample'].to_numpy().tolist()\n",
    "            accuracy_out_of_sample_list = df['accuracy_out_of_sample'].to_numpy().tolist()\n",
    "            max_depth_list = df['max_depth'].to_numpy().tolist()\n",
    "            min_samples_split_list = df['min_samples_split'].to_numpy().tolist()\n",
    "            max_leaf_nodes_list = df['max_leaf_nodes'].to_numpy().tolist()\n",
    "            min_samples_leaf_list = df['min_samples_leaf'].to_numpy().tolist()\n",
    "            min_impurity_decrease_list = df['min_impurity_decrease'].to_numpy().tolist()\n",
    "    \n",
    "    for i in range(k):\n",
    "        test_index = folds[i]\n",
    "        train_index = numpy.concatenate([folds[j] for j in range(k) if j != i])\n",
    "            \n",
    "        training_data = all_training_data.loc[train_index]\n",
    "        test_data = all_training_data.loc[test_index]\n",
    "        \n",
    "        (\n",
    "            clf,\n",
    "            feature_importances,\n",
    "            accuracy_in_sample,\n",
    "        ) = decision_tree_model_train(\n",
    "            training_data,\n",
    "            decision_tree_columns,\n",
    "            max_depth,\n",
    "            min_samples_split,\n",
    "            max_leaf_nodes,\n",
    "            min_samples_leaf,\n",
    "            min_impurity_decrease,\n",
    "        )\n",
    "        \n",
    "        accuracy_out_of_sample = decision_tree_model_test(\n",
    "            clf,\n",
    "            test_data,\n",
    "            decision_tree_columns,\n",
    "        )\n",
    "    \n",
    "        accuracy_in_sample_list.append(accuracy_in_sample)\n",
    "        accuracy_out_of_sample_list.append(accuracy_out_of_sample)\n",
    "        max_depth_list.append(max_depth)\n",
    "        min_samples_split_list.append(min_samples_split)\n",
    "        max_leaf_nodes_list.append(max_leaf_nodes)\n",
    "        min_samples_leaf_list.append(min_samples_leaf)\n",
    "        min_impurity_decrease_list.append(min_impurity_decrease)\n",
    "\n",
    "    # write data to file\n",
    "    df = pandas.DataFrame(\n",
    "        {\n",
    "            'max_depth': max_depth_list,\n",
    "            'min_samples_split': min_samples_split_list,\n",
    "            'max_leaf_nodes': max_leaf_nodes_list,\n",
    "            'min_samples_leaf': min_samples_leaf_list,\n",
    "            'min_impurity_decrease': min_impurity_decrease_list,\n",
    "            'accuracy_in_sample': accuracy_in_sample_list,\n",
    "            'accuracy_out_of_sample': accuracy_out_of_sample_list,\n",
    "            #'public_score': public_score_list,\n",
    "            #'private_score': private_score_list,\n",
    "        }\n",
    "    )\n",
    "    df['max_depth'] = df['max_depth'].astype(object)\n",
    "    df['max_leaf_nodes'] = df['max_leaf_nodes'].astype(object)\n",
    "    df.loc[df['max_depth'].isna(), 'max_depth'] = 'none'\n",
    "    df.loc[df['max_leaf_nodes'].isna(), 'max_leaf_nodes'] = 'none'\n",
    "    df.to_csv(filename, index=True)\n",
    "\n",
    "print(f'done')"
   ]
  },
  {
   "cell_type": "code",
   "execution_count": 197,
   "id": "b8460748-51b1-47e0-a61e-a4a145949ee2",
   "metadata": {},
   "outputs": [],
   "source": [
    "filename = f'decision_tree_model_by_max_leaf_nodes.csv'\n",
    "df = pandas.read_csv(filename, index_col=0)"
   ]
  },
  {
   "cell_type": "code",
   "execution_count": 198,
   "id": "5cd4e3c2-f8c4-4080-928a-806ea22497f5",
   "metadata": {},
   "outputs": [
    {
     "data": {
      "image/png": "[encoded data removed]",
      "text/plain": [
       "<Figure size 640x480 with 1 Axes>"
      ]
     },
     "metadata": {},
     "output_type": "display_data"
    }
   ],
   "source": [
    "plt.figure()\n",
    "\n",
    "df_select = df #df[df['min_samples_split'] == 2]\n",
    "\n",
    "positions = []\n",
    "x = []\n",
    "\n",
    "for max_leaf_nodes_ in sorted(df_select['max_leaf_nodes'].unique()):\n",
    "    x.append(\n",
    "        df[df['max_leaf_nodes'] == max_leaf_nodes_]['accuracy_in_sample']\n",
    "    )\n",
    "    positions.append(\n",
    "        max_leaf_nodes_\n",
    "    )\n",
    "\n",
    "plt.boxplot(\n",
    "    x,\n",
    "    positions=positions,\n",
    "    orientation='vertical',\n",
    "    meanline=True,\n",
    "    showmeans=True,\n",
    "    widths=[0.2 * position for position in positions],\n",
    ")\n",
    "plt.xscale('log')\n",
    "plt.xlim(xmin=1, xmax=10000)\n",
    "plt.xlabel('max_leaf_nodes')\n",
    "plt.ylabel('in sample accuracy')\n",
    "\n",
    "None"
   ]
  },
  {
   "cell_type": "code",
   "execution_count": 199,
   "id": "0b15ade4-7883-46d0-bfee-ca18ca9ef1e1",
   "metadata": {},
   "outputs": [
    {
     "data": {
      "image/png": "[encoded data removed]",
      "text/plain": [
       "<Figure size 640x480 with 1 Axes>"
      ]
     },
     "metadata": {},
     "output_type": "display_data"
    }
   ],
   "source": [
    "plt.figure()\n",
    "\n",
    "df_select = df #df[df['min_samples_split'] == 2]\n",
    "\n",
    "positions = []\n",
    "x = []\n",
    "\n",
    "for max_leaf_nodes_ in sorted(df_select['max_leaf_nodes'].unique()):\n",
    "    x.append(\n",
    "        df[df['max_leaf_nodes'] == max_leaf_nodes_]['accuracy_out_of_sample']\n",
    "    )\n",
    "    positions.append(\n",
    "        max_leaf_nodes_\n",
    "    )\n",
    "\n",
    "plt.boxplot(\n",
    "    x,\n",
    "    positions=positions,\n",
    "    orientation='vertical',\n",
    "    meanline=True,\n",
    "    showmeans=True,\n",
    "    widths=[0.2 * position for position in positions],\n",
    ")\n",
    "plt.xscale('log')\n",
    "plt.xlim(xmin=1, xmax=10000)\n",
    "plt.xlabel('max_leaf_nodes')\n",
    "plt.ylabel('out of sample accuracy')\n",
    "\n",
    "None"
   ]
  },
  {
   "cell_type": "markdown",
   "id": "6a0bfd15-dbcf-431a-90c2-341cacb176b4",
   "metadata": {},
   "source": [
    "# Decision Tree Model - Max Depth set to None, constrain Min Samples Leaf"
   ]
  },
  {
   "cell_type": "code",
   "execution_count": 193,
   "id": "c3dfcc6b-2465-40ef-82f5-fdef13909876",
   "metadata": {},
   "outputs": [
    {
     "name": "stdout",
     "output_type": "stream",
     "text": [
      "processing min_samples_leaf=1024\n",
      "processing min_samples_leaf=2048\n",
      "processing min_samples_leaf=4096\n",
      "processing min_samples_leaf=8192\n",
      "done\n"
     ]
    }
   ],
   "source": [
    "max_depth = None\n",
    "min_samples_split = 2\n",
    "max_leaf_nodes = None\n",
    "min_samples_leaf = 1\n",
    "min_impurity_decrease = 0.0\n",
    "\n",
    "accuracy_in_sample_list = []\n",
    "accuracy_out_of_sample_list = []\n",
    "max_depth_list = []\n",
    "min_samples_split_list = []\n",
    "max_leaf_nodes_list = []\n",
    "min_samples_leaf_list = []\n",
    "min_impurity_decrease_list = []\n",
    "\n",
    "max_depth_list_input = [None]\n",
    "min_samples_split_list_input = [2]\n",
    "max_leaf_nodes_list_input = [None]\n",
    "min_samples_leaf_list_input = [1, 2, 4, 8, 16, 32, 64, 128, 256, 512]\n",
    "min_samples_leaf_list_input = [1024, 2048, 4096, 8192]\n",
    "min_impurity_decrease_list_input = [0.0, 0.001, 0.01, 0.1]\n",
    "\n",
    "filename = f'decision_tree_model_by_min_samples_leaf.csv'\n",
    "\n",
    "df = None\n",
    "\n",
    "for min_samples_leaf in min_samples_leaf_list_input:\n",
    "    print(f'processing min_samples_leaf={min_samples_leaf}')\n",
    "\n",
    "    # read data from file\n",
    "    if df is None:\n",
    "        try:\n",
    "            df = pandas.read_csv(filename, index_col=0)\n",
    "        except:\n",
    "            pass\n",
    "\n",
    "        if df is not None:\n",
    "            accuracy_in_sample_list = df['accuracy_in_sample'].to_numpy().tolist()\n",
    "            accuracy_out_of_sample_list = df['accuracy_out_of_sample'].to_numpy().tolist()\n",
    "            max_depth_list = df['max_depth'].to_numpy().tolist()\n",
    "            min_samples_split_list = df['min_samples_split'].to_numpy().tolist()\n",
    "            max_leaf_nodes_list = df['max_leaf_nodes'].to_numpy().tolist()\n",
    "            min_samples_leaf_list = df['min_samples_leaf'].to_numpy().tolist()\n",
    "            min_impurity_decrease_list = df['min_impurity_decrease'].to_numpy().tolist()\n",
    "    \n",
    "    for i in range(k):\n",
    "        test_index = folds[i]\n",
    "        train_index = numpy.concatenate([folds[j] for j in range(k) if j != i])\n",
    "            \n",
    "        training_data = all_training_data.loc[train_index]\n",
    "        test_data = all_training_data.loc[test_index]\n",
    "        \n",
    "        (\n",
    "            clf,\n",
    "            feature_importances,\n",
    "            accuracy_in_sample,\n",
    "        ) = decision_tree_model_train(\n",
    "            training_data,\n",
    "            decision_tree_columns,\n",
    "            max_depth,\n",
    "            min_samples_split,\n",
    "            max_leaf_nodes,\n",
    "            min_samples_leaf,\n",
    "            min_impurity_decrease,\n",
    "        )\n",
    "        \n",
    "        accuracy_out_of_sample = decision_tree_model_test(\n",
    "            clf,\n",
    "            test_data,\n",
    "            decision_tree_columns,\n",
    "        )\n",
    "    \n",
    "        accuracy_in_sample_list.append(accuracy_in_sample)\n",
    "        accuracy_out_of_sample_list.append(accuracy_out_of_sample)\n",
    "        max_depth_list.append(max_depth)\n",
    "        min_samples_split_list.append(min_samples_split)\n",
    "        max_leaf_nodes_list.append(max_leaf_nodes)\n",
    "        min_samples_leaf_list.append(min_samples_leaf)\n",
    "        min_impurity_decrease_list.append(min_impurity_decrease)\n",
    "\n",
    "    # write data to file\n",
    "    df = pandas.DataFrame(\n",
    "        {\n",
    "            'max_depth': max_depth_list,\n",
    "            'min_samples_split': min_samples_split_list,\n",
    "            'max_leaf_nodes': max_leaf_nodes_list,\n",
    "            'min_samples_leaf': min_samples_leaf_list,\n",
    "            'min_impurity_decrease': min_impurity_decrease_list,\n",
    "            'accuracy_in_sample': accuracy_in_sample_list,\n",
    "            'accuracy_out_of_sample': accuracy_out_of_sample_list,\n",
    "            #'public_score': public_score_list,\n",
    "            #'private_score': private_score_list,\n",
    "        }\n",
    "    )\n",
    "    df['max_depth'] = df['max_depth'].astype(object)\n",
    "    df['max_leaf_nodes'] = df['max_leaf_nodes'].astype(object)\n",
    "    df.loc[df['max_depth'].isna(), 'max_depth'] = 'none'\n",
    "    df.loc[df['max_leaf_nodes'].isna(), 'max_leaf_nodes'] = 'none'\n",
    "    df.to_csv(filename, index=True)\n",
    "\n",
    "print(f'done')"
   ]
  },
  {
   "cell_type": "code",
   "execution_count": 201,
   "id": "ac0ddf7b-67de-4558-8393-cd3db363ab43",
   "metadata": {},
   "outputs": [],
   "source": [
    "filename = f'decision_tree_model_by_min_samples_leaf.csv'\n",
    "df = pandas.read_csv(filename, index_col=0)"
   ]
  },
  {
   "cell_type": "code",
   "execution_count": 202,
   "id": "9c4cdff6-7cda-466a-81d3-51b0af65df85",
   "metadata": {},
   "outputs": [
    {
     "data": {
      "image/png": "[encoded data removed]",
      "text/plain": [
       "<Figure size 640x480 with 1 Axes>"
      ]
     },
     "metadata": {},
     "output_type": "display_data"
    }
   ],
   "source": [
    "plt.figure()\n",
    "\n",
    "df_select = df #df[df['min_samples_split'] == 2]\n",
    "\n",
    "positions = []\n",
    "x = []\n",
    "\n",
    "for min_samples_leaf_ in sorted(df_select['min_samples_leaf'].unique()):\n",
    "    x.append(\n",
    "        df[df['min_samples_leaf'] == min_samples_leaf_]['accuracy_in_sample']\n",
    "    )\n",
    "    positions.append(\n",
    "        min_samples_leaf_\n",
    "    )\n",
    "\n",
    "plt.boxplot(\n",
    "    x,\n",
    "    positions=positions,\n",
    "    orientation='vertical',\n",
    "    meanline=True,\n",
    "    showmeans=True,\n",
    "    widths=[0.2 * position for position in positions],\n",
    ")\n",
    "plt.xscale('log')\n",
    "plt.xlim(xmin=0.5, xmax=10000)\n",
    "plt.xlabel('min_samples_leaf')\n",
    "plt.ylabel('in sample accuracy')\n",
    "\n",
    "None"
   ]
  },
  {
   "cell_type": "code",
   "execution_count": 203,
   "id": "9b288af5-4098-490d-98e8-467b6e1b62a2",
   "metadata": {},
   "outputs": [
    {
     "data": {
      "image/png": "[encoded data removed]",
      "text/plain": [
       "<Figure size 640x480 with 1 Axes>"
      ]
     },
     "metadata": {},
     "output_type": "display_data"
    }
   ],
   "source": [
    "plt.figure()\n",
    "\n",
    "df_select = df #df[df['min_samples_split'] == 2]\n",
    "\n",
    "positions = []\n",
    "x = []\n",
    "\n",
    "for min_samples_leaf_ in sorted(df_select['min_samples_leaf'].unique()):\n",
    "    x.append(\n",
    "        df[df['min_samples_leaf'] == min_samples_leaf_]['accuracy_out_of_sample']\n",
    "    )\n",
    "    positions.append(\n",
    "        min_samples_leaf_\n",
    "    )\n",
    "\n",
    "plt.boxplot(\n",
    "    x,\n",
    "    positions=positions,\n",
    "    orientation='vertical',\n",
    "    meanline=True,\n",
    "    showmeans=True,\n",
    "    widths=[0.2 * position for position in positions],\n",
    ")\n",
    "plt.xscale('log')\n",
    "plt.xlim(xmin=0.5, xmax=10000)\n",
    "plt.xlabel('min_samples_leaf')\n",
    "plt.ylabel('out of sample accuracy')\n",
    "\n",
    "None"
   ]
  },
  {
   "cell_type": "markdown",
   "id": "d7016d81-c54b-4d44-b238-7e8c279d4709",
   "metadata": {},
   "source": [
    "# Decision Tree Model - Max Depth set to None, constrain Min Impurity Decrease"
   ]
  },
  {
   "cell_type": "code",
   "execution_count": 252,
   "id": "26615a82-fdfa-419e-86de-7d4580fb64e5",
   "metadata": {},
   "outputs": [
    {
     "name": "stdout",
     "output_type": "stream",
     "text": [
      "processing min_impurity_decrease=0.008\n",
      "processing min_impurity_decrease=0.009\n",
      "done\n"
     ]
    }
   ],
   "source": [
    "max_depth = None\n",
    "min_samples_split = 2\n",
    "max_leaf_nodes = None\n",
    "min_samples_leaf = 1\n",
    "min_impurity_decrease = 0.0\n",
    "\n",
    "accuracy_in_sample_list = []\n",
    "accuracy_out_of_sample_list = []\n",
    "max_depth_list = []\n",
    "min_samples_split_list = []\n",
    "max_leaf_nodes_list = []\n",
    "min_samples_leaf_list = []\n",
    "min_impurity_decrease_list = []\n",
    "\n",
    "max_depth_list_input = [None]\n",
    "min_samples_split_list_input = [2]\n",
    "max_leaf_nodes_list_input = [None]\n",
    "min_samples_leaf_list_input = [1]\n",
    "#min_impurity_decrease_list_input = [0.0, 0.001, 0.01, 0.1]\n",
    "#min_impurity_decrease_list_input = [1e-4, 1e-5, 1e-6]\n",
    "#min_impurity_decrease_list_input = [5.0e-3, 5.0e-4, 5.0e-5, 5.0e-6]\n",
    "#min_impurity_decrease_list_input = [2.0e-3, 2.0e-4, 2.0e-5, 2.0e-6]\n",
    "min_impurity_decrease_list_input = [7.0e-5]\n",
    "min_impurity_decrease_list_input = [3.0e-5, 4.0e-5]\n",
    "min_impurity_decrease_list_input = [7.0e-3]\n",
    "min_impurity_decrease_list_input = [8.0e-3, 9.0e-3]\n",
    "\n",
    "filename = f'decision_tree_model_by_min_impurity_decrease.csv'\n",
    "\n",
    "df = None\n",
    "\n",
    "for min_impurity_decrease in min_impurity_decrease_list_input:\n",
    "    print(f'processing min_impurity_decrease={min_impurity_decrease}')\n",
    "\n",
    "    # read data from file\n",
    "    if df is None:\n",
    "        try:\n",
    "            df = pandas.read_csv(filename, index_col=0)\n",
    "        except:\n",
    "            pass\n",
    "\n",
    "        if df is not None:\n",
    "            accuracy_in_sample_list = df['accuracy_in_sample'].to_numpy().tolist()\n",
    "            accuracy_out_of_sample_list = df['accuracy_out_of_sample'].to_numpy().tolist()\n",
    "            max_depth_list = df['max_depth'].to_numpy().tolist()\n",
    "            min_samples_split_list = df['min_samples_split'].to_numpy().tolist()\n",
    "            max_leaf_nodes_list = df['max_leaf_nodes'].to_numpy().tolist()\n",
    "            min_samples_leaf_list = df['min_samples_leaf'].to_numpy().tolist()\n",
    "            min_impurity_decrease_list = df['min_impurity_decrease'].to_numpy().tolist()\n",
    "    \n",
    "    for i in range(k):\n",
    "        test_index = folds[i]\n",
    "        train_index = numpy.concatenate([folds[j] for j in range(k) if j != i])\n",
    "            \n",
    "        training_data = all_training_data.loc[train_index]\n",
    "        test_data = all_training_data.loc[test_index]\n",
    "        \n",
    "        (\n",
    "            clf,\n",
    "            feature_importances,\n",
    "            accuracy_in_sample,\n",
    "        ) = decision_tree_model_train(\n",
    "            training_data,\n",
    "            decision_tree_columns,\n",
    "            max_depth,\n",
    "            min_samples_split,\n",
    "            max_leaf_nodes,\n",
    "            min_samples_leaf,\n",
    "            min_impurity_decrease,\n",
    "        )\n",
    "        \n",
    "        accuracy_out_of_sample = decision_tree_model_test(\n",
    "            clf,\n",
    "            test_data,\n",
    "            decision_tree_columns,\n",
    "        )\n",
    "    \n",
    "        accuracy_in_sample_list.append(accuracy_in_sample)\n",
    "        accuracy_out_of_sample_list.append(accuracy_out_of_sample)\n",
    "        max_depth_list.append(max_depth)\n",
    "        min_samples_split_list.append(min_samples_split)\n",
    "        max_leaf_nodes_list.append(max_leaf_nodes)\n",
    "        min_samples_leaf_list.append(min_samples_leaf)\n",
    "        min_impurity_decrease_list.append(min_impurity_decrease)\n",
    "\n",
    "    # write data to file\n",
    "    df = pandas.DataFrame(\n",
    "        {\n",
    "            'max_depth': max_depth_list,\n",
    "            'min_samples_split': min_samples_split_list,\n",
    "            'max_leaf_nodes': max_leaf_nodes_list,\n",
    "            'min_samples_leaf': min_samples_leaf_list,\n",
    "            'min_impurity_decrease': min_impurity_decrease_list,\n",
    "            'accuracy_in_sample': accuracy_in_sample_list,\n",
    "            'accuracy_out_of_sample': accuracy_out_of_sample_list,\n",
    "            #'public_score': public_score_list,\n",
    "            #'private_score': private_score_list,\n",
    "        }\n",
    "    )\n",
    "    df['max_depth'] = df['max_depth'].astype(object)\n",
    "    df['max_leaf_nodes'] = df['max_leaf_nodes'].astype(object)\n",
    "    df.loc[df['max_depth'].isna(), 'max_depth'] = 'none'\n",
    "    df.loc[df['max_leaf_nodes'].isna(), 'max_leaf_nodes'] = 'none'\n",
    "    df.to_csv(filename, index=True)\n",
    "\n",
    "print(f'done')"
   ]
  },
  {
   "cell_type": "code",
   "execution_count": 253,
   "id": "5ae80301-4f73-4364-95e5-cb01390efbfa",
   "metadata": {},
   "outputs": [],
   "source": [
    "filename = f'decision_tree_model_by_min_impurity_decrease.csv'\n",
    "df = pandas.read_csv(filename, index_col=0)"
   ]
  },
  {
   "cell_type": "code",
   "execution_count": 257,
   "id": "523510cd-feca-4838-9452-9886bfe5c537",
   "metadata": {},
   "outputs": [
    {
     "data": {
      "image/png": "[encoded data removed]",
      "text/plain": [
       "<Figure size 640x480 with 1 Axes>"
      ]
     },
     "metadata": {},
     "output_type": "display_data"
    }
   ],
   "source": [
    "plt.figure()\n",
    "\n",
    "df_select = df #df[df['min_samples_split'] == 2]\n",
    "\n",
    "positions = []\n",
    "x = []\n",
    "\n",
    "for min_impurity_decrease_ in sorted(df_select['min_impurity_decrease'].unique()):\n",
    "\n",
    "    if min_impurity_decrease_ in [8.0e-3, 9.0e-3]:\n",
    "        continue\n",
    "        \n",
    "    x.append(\n",
    "        df[df['min_impurity_decrease'] == min_impurity_decrease_]['accuracy_in_sample']\n",
    "    )\n",
    "    positions.append(\n",
    "        min_impurity_decrease_\n",
    "    )\n",
    "\n",
    "plt.boxplot(\n",
    "    x,\n",
    "    positions=positions,\n",
    "    orientation='vertical',\n",
    "    meanline=True,\n",
    "    showmeans=True,\n",
    "    widths=[0.2 * position for position in positions],\n",
    ")\n",
    "plt.xscale('log')\n",
    "plt.xlim(xmin=1e-7, xmax=1.0)\n",
    "plt.xlabel('min_impurity_decrease')\n",
    "plt.ylabel('in sample accuracy')\n",
    "\n",
    "None"
   ]
  },
  {
   "cell_type": "code",
   "execution_count": 258,
   "id": "57d6effa-5730-46c8-905e-b7ac119992ef",
   "metadata": {},
   "outputs": [
    {
     "data": {
      "image/png": "[encoded data removed]",
      "text/plain": [
       "<Figure size 640x480 with 1 Axes>"
      ]
     },
     "metadata": {},
     "output_type": "display_data"
    }
   ],
   "source": [
    "plt.figure()\n",
    "\n",
    "df_select = df #df[df['min_samples_split'] == 2]\n",
    "\n",
    "positions = []\n",
    "x = []\n",
    "\n",
    "for min_impurity_decrease_ in sorted(df_select['min_impurity_decrease'].unique()):\n",
    "\n",
    "    if min_impurity_decrease_ in [8.0e-3, 9.0e-3]:\n",
    "        continue\n",
    "    \n",
    "    x.append(\n",
    "        df[df['min_impurity_decrease'] == min_impurity_decrease_]['accuracy_out_of_sample']\n",
    "    )\n",
    "    positions.append(\n",
    "        min_impurity_decrease_\n",
    "    )\n",
    "\n",
    "plt.boxplot(\n",
    "    x,\n",
    "    positions=positions,\n",
    "    orientation='vertical',\n",
    "    meanline=True,\n",
    "    showmeans=True,\n",
    "    widths=[0.2 * position for position in positions],\n",
    ")\n",
    "plt.xscale('log')\n",
    "plt.xlim(xmin=1e-7, xmax=1.0)\n",
    "plt.xlabel('min_impurity_decrease')\n",
    "plt.ylabel('out of sample accuracy')\n",
    "\n",
    "# plt.scatter(\n",
    "#     [7.0e-4, 7.0e-3],\n",
    "#     [0.94, 0.92],\n",
    "#     color='red',\n",
    "#     sizes=[100, 100],\n",
    "# )\n",
    "\n",
    "# plt.plot(\n",
    "#     [10e-5, 10e-5],\n",
    "#     [0.85, 0.95],\n",
    "#     color='red',\n",
    "#     linewidth=2,\n",
    "# )\n",
    "\n",
    "None"
   ]
  },
  {
   "cell_type": "markdown",
   "id": "823cf70e-6609-4063-9215-35f23fff2046",
   "metadata": {},
   "source": [
    "# older code"
   ]
  },
  {
   "cell_type": "code",
   "execution_count": 87,
   "id": "1a90d0cd-7334-4bb1-b3c0-81c8beacbae8",
   "metadata": {},
   "outputs": [
    {
     "data": {
      "text/plain": [
       "(np.float64(0.8701635397738452), np.float64(0.9999884260598836))"
      ]
     },
     "execution_count": 87,
     "metadata": {},
     "output_type": "execute_result"
    }
   ],
   "source": [
    "df['accuracy_in_sample'].min(), df['accuracy_in_sample'].max()"
   ]
  },
  {
   "cell_type": "code",
   "execution_count": 76,
   "id": "9b66dddf-e33d-4a06-bbca-30430a759753",
   "metadata": {},
   "outputs": [
    {
     "data": {
      "image/png": "[encoded data removed]",
      "text/plain": [
       "<Figure size 640x480 with 1 Axes>"
      ]
     },
     "metadata": {},
     "output_type": "display_data"
    }
   ],
   "source": [
    "plt.figure()\n",
    "plt.hist(df['accuracy_in_sample'])\n",
    "None"
   ]
  },
  {
   "cell_type": "code",
   "execution_count": 75,
   "id": "f3152d10-6a7e-4b0b-90f0-6eec38619b50",
   "metadata": {},
   "outputs": [
    {
     "data": {
      "image/png": "[encoded data removed]",
      "text/plain": [
       "<Figure size 640x480 with 1 Axes>"
      ]
     },
     "metadata": {},
     "output_type": "display_data"
    }
   ],
   "source": [
    "plt.figure()\n",
    "plt.hist(df['accuracy_out_of_sample'], bins=25)\n",
    "None"
   ]
  },
  {
   "cell_type": "markdown",
   "id": "56dbc16d-d374-4313-9a55-ba288fa796af",
   "metadata": {},
   "source": [
    "# Decision Tree Model - Max Depth 6"
   ]
  },
  {
   "cell_type": "markdown",
   "id": "d8ef09ab-9d32-4030-8de5-3a46840318f5",
   "metadata": {},
   "source": [
    "### Original dataset\n",
    "\n",
    "- Use training portion of original dataset for training\n",
    "- Use testing portion of original dataset for testing"
   ]
  },
  {
   "cell_type": "code",
   "execution_count": 98,
   "id": "4fcd5225-f2fe-4b04-947d-bc819ae6cc1a",
   "metadata": {},
   "outputs": [],
   "source": [
    "(\n",
    "    clf,\n",
    "    feature_importances,\n",
    "    accuracy_in_sample,\n",
    ") = decision_tree_model_train(\n",
    "    data_copy_train, #data_copy,\n",
    "    decision_tree_columns,\n",
    "    6,\n",
    ")\n",
    "\n",
    "accuracy_out_of_sample = decision_tree_model_test(\n",
    "    clf,\n",
    "    data_copy_test, #data_train_copy,\n",
    "    decision_tree_columns,\n",
    ")"
   ]
  },
  {
   "cell_type": "code",
   "execution_count": 99,
   "id": "98335d03-89a5-4b0d-ab1b-9df705843176",
   "metadata": {},
   "outputs": [
    {
     "data": {
      "text/plain": [
       "np.float64(0.9272777777777778)"
      ]
     },
     "execution_count": 99,
     "metadata": {},
     "output_type": "execute_result"
    }
   ],
   "source": [
    "accuracy_in_sample"
   ]
  },
  {
   "cell_type": "code",
   "execution_count": 100,
   "id": "bb1ad889-eef4-4bb0-abbe-abbe68140fa6",
   "metadata": {},
   "outputs": [
    {
     "data": {
      "text/plain": [
       "np.float64(0.9294582392776524)"
      ]
     },
     "execution_count": 100,
     "metadata": {},
     "output_type": "execute_result"
    }
   ],
   "source": [
    "accuracy_out_of_sample"
   ]
  },
  {
   "cell_type": "code",
   "execution_count": 101,
   "id": "0bef7ffb-41c1-451d-b365-d5b1f7b29ba8",
   "metadata": {},
   "outputs": [
    {
     "data": {
      "text/plain": [
       "loan_percent_income               0.289242\n",
       "loan_grade_numerical              0.251810\n",
       "person_home_ownership_RENT        0.206551\n",
       "person_income                     0.102668\n",
       "person_emp_length                 0.036395\n",
       "person_home_ownership_OWN         0.029262\n",
       "loan_intent_MEDICAL               0.028611\n",
       "loan_intent_DEBTCONSOLIDATION     0.025695\n",
       "loan_intent_HOMEIMPROVEMENT       0.012539\n",
       "loan_int_rate                     0.009110\n",
       "loan_intent_VENTURE               0.004524\n",
       "person_home_ownership_MORTGAGE    0.002440\n",
       "cb_person_cred_hist_length        0.001154\n",
       "dtype: float64"
      ]
     },
     "execution_count": 101,
     "metadata": {},
     "output_type": "execute_result"
    }
   ],
   "source": [
    "feature_importances"
   ]
  },
  {
   "cell_type": "markdown",
   "id": "0716827a-10b3-4388-8002-aa2ee733ede7",
   "metadata": {},
   "source": [
    "### Original dataset for training, Kaggle competition dataset for testing\n",
    "\n",
    "- Use training portion of original dataset for training\n",
    "- Use Kaggle competition training dataset for testing"
   ]
  },
  {
   "cell_type": "code",
   "execution_count": 102,
   "id": "3a951313-e644-4eb5-ad70-dc391b425927",
   "metadata": {},
   "outputs": [],
   "source": [
    "(\n",
    "    clf,\n",
    "    feature_importances,\n",
    "    accuracy_in_sample,\n",
    ") = decision_tree_model_train(\n",
    "    data_copy_train, #data_copy,\n",
    "    decision_tree_columns,\n",
    "    6,\n",
    ")\n",
    "\n",
    "accuracy_out_of_sample = decision_tree_model_test(\n",
    "    clf,\n",
    "    data_train_copy, #data_train_copy,\n",
    "    decision_tree_columns,\n",
    ")"
   ]
  },
  {
   "cell_type": "code",
   "execution_count": 103,
   "id": "8e7cce00-3492-4764-8598-c05a537edbc6",
   "metadata": {},
   "outputs": [
    {
     "data": {
      "text/plain": [
       "np.float64(0.9272777777777778)"
      ]
     },
     "execution_count": 103,
     "metadata": {},
     "output_type": "execute_result"
    }
   ],
   "source": [
    "accuracy_in_sample"
   ]
  },
  {
   "cell_type": "code",
   "execution_count": 104,
   "id": "8e5e9a3f-cab1-459f-99fb-02bac5cdd2ea",
   "metadata": {},
   "outputs": [
    {
     "data": {
      "text/plain": [
       "np.float64(0.9494415551197886)"
      ]
     },
     "execution_count": 104,
     "metadata": {},
     "output_type": "execute_result"
    }
   ],
   "source": [
    "accuracy_out_of_sample"
   ]
  },
  {
   "cell_type": "code",
   "execution_count": 105,
   "id": "07acca65-49f7-4ab4-af07-859c97d89552",
   "metadata": {},
   "outputs": [
    {
     "data": {
      "text/plain": [
       "loan_percent_income               0.289242\n",
       "loan_grade_numerical              0.251810\n",
       "person_home_ownership_RENT        0.206551\n",
       "person_income                     0.102668\n",
       "person_emp_length                 0.036395\n",
       "person_home_ownership_OWN         0.029262\n",
       "loan_intent_MEDICAL               0.028611\n",
       "loan_intent_DEBTCONSOLIDATION     0.025695\n",
       "loan_intent_HOMEIMPROVEMENT       0.012539\n",
       "loan_int_rate                     0.009110\n",
       "loan_intent_VENTURE               0.004524\n",
       "person_home_ownership_MORTGAGE    0.002440\n",
       "cb_person_cred_hist_length        0.001154\n",
       "dtype: float64"
      ]
     },
     "execution_count": 105,
     "metadata": {},
     "output_type": "execute_result"
    }
   ],
   "source": [
    "feature_importances"
   ]
  },
  {
   "cell_type": "markdown",
   "id": "a894bd33-1102-4772-bfe6-e41269e5325a",
   "metadata": {},
   "source": [
    "### Original dataset for training, Kaggle competition test dataset for submission creation\n",
    "\n",
    "- Use training portion of original dataset for training\n",
    "- Use Kaggle competition test dataset for prediction"
   ]
  },
  {
   "cell_type": "code",
   "execution_count": 108,
   "id": "73ae2f93-c335-48fc-af14-4d0fd69993c2",
   "metadata": {},
   "outputs": [],
   "source": [
    "(\n",
    "    clf,\n",
    "    feature_importances,\n",
    "    accuracy_in_sample,\n",
    ") = decision_tree_model_train(\n",
    "    data_copy_train, #data_copy,\n",
    "    decision_tree_columns,\n",
    "    6,\n",
    ")"
   ]
  },
  {
   "cell_type": "code",
   "execution_count": 109,
   "id": "64e8a437-0e54-465b-bb3d-ef6154b3301e",
   "metadata": {},
   "outputs": [
    {
     "data": {
      "text/plain": [
       "np.float64(0.9272777777777778)"
      ]
     },
     "execution_count": 109,
     "metadata": {},
     "output_type": "execute_result"
    }
   ],
   "source": [
    "accuracy_in_sample"
   ]
  },
  {
   "cell_type": "code",
   "execution_count": 110,
   "id": "65fd1c2f-3bb4-48b5-ac84-538aefd163a2",
   "metadata": {},
   "outputs": [
    {
     "data": {
      "text/plain": [
       "loan_percent_income               0.289242\n",
       "loan_grade_numerical              0.251810\n",
       "person_home_ownership_RENT        0.206551\n",
       "person_income                     0.102668\n",
       "person_emp_length                 0.036395\n",
       "person_home_ownership_OWN         0.029262\n",
       "loan_intent_MEDICAL               0.028611\n",
       "loan_intent_DEBTCONSOLIDATION     0.025695\n",
       "loan_intent_HOMEIMPROVEMENT       0.012539\n",
       "loan_int_rate                     0.009110\n",
       "loan_intent_VENTURE               0.004524\n",
       "person_home_ownership_MORTGAGE    0.002440\n",
       "cb_person_cred_hist_length        0.001154\n",
       "dtype: float64"
      ]
     },
     "execution_count": 110,
     "metadata": {},
     "output_type": "execute_result"
    }
   ],
   "source": [
    "feature_importances"
   ]
  },
  {
   "cell_type": "code",
   "execution_count": 107,
   "id": "60e4a191-c415-4e3d-8c58-e7393c401025",
   "metadata": {},
   "outputs": [],
   "source": [
    "data_predict = decision_tree_model_predict(\n",
    "    clf,\n",
    "    data_test_copy,\n",
    "    decision_tree_columns,\n",
    "    decision_tree_columns_with_id,\n",
    ")\n",
    "\n",
    "decision_tree_model_predict_write_to_csv(\n",
    "    data_predict,\n",
    "    f'decision_tree_model_one_hot_2_clean_code_maxdepth_6.csv'\n",
    ")"
   ]
  },
  {
   "cell_type": "markdown",
   "id": "23f93d19-319c-439d-b6a2-0264f6686008",
   "metadata": {},
   "source": [
    "### Repeat of above, but use full length dataset for training\n",
    "\n",
    "- Use entire original dataset for training\n",
    "- Use Kaggle competition test dataset for prediction"
   ]
  },
  {
   "cell_type": "code",
   "execution_count": 112,
   "id": "768faee7-6bd7-40fe-b5f4-ae62504acab6",
   "metadata": {},
   "outputs": [],
   "source": [
    "(\n",
    "    clf,\n",
    "    feature_importances,\n",
    "    accuracy_in_sample,\n",
    ") = decision_tree_model_train(\n",
    "    data_copy,\n",
    "    decision_tree_columns,\n",
    "    6,\n",
    ")"
   ]
  },
  {
   "cell_type": "code",
   "execution_count": 114,
   "id": "165a26e8-a729-42b0-bff7-7e3e6b511488",
   "metadata": {},
   "outputs": [],
   "source": [
    "data_predict = decision_tree_model_predict(\n",
    "    clf,\n",
    "    data_test_copy,\n",
    "    decision_tree_columns,\n",
    "    decision_tree_columns_with_id,\n",
    ")\n",
    "\n",
    "decision_tree_model_predict_write_to_csv(\n",
    "    data_predict,\n",
    "    f'decision_tree_model_one_hot_2_clean_code_maxdepth_6_full_training_dataset.csv'\n",
    ")"
   ]
  },
  {
   "cell_type": "markdown",
   "id": "6da9aea0-d52b-4347-9de9-8a445acdb234",
   "metadata": {},
   "source": [
    "# Decision Tree Model with more detailed regularization"
   ]
  },
  {
   "cell_type": "code",
   "execution_count": 132,
   "id": "a5f17d96-fe18-4f5a-b5fe-13ca3528cbc8",
   "metadata": {},
   "outputs": [],
   "source": [
    "(\n",
    "    clf,\n",
    "    feature_importances,\n",
    "    accuracy_in_sample,\n",
    ") = decision_tree_model_train(\n",
    "    data_copy,\n",
    "    decision_tree_columns,\n",
    "    None,\n",
    "    30,\n",
    "    4,\n",
    ")\n",
    "\n",
    "accuracy_out_of_sample = decision_tree_model_test(\n",
    "    clf,\n",
    "    data_train_copy,\n",
    "    decision_tree_columns,\n",
    ")"
   ]
  },
  {
   "cell_type": "code",
   "execution_count": 133,
   "id": "97825def-a709-45e5-8fa4-60114b8cf867",
   "metadata": {},
   "outputs": [
    {
     "data": {
      "text/plain": [
       "np.float64(0.9453059513830679)"
      ]
     },
     "execution_count": 133,
     "metadata": {},
     "output_type": "execute_result"
    }
   ],
   "source": [
    "accuracy_in_sample"
   ]
  },
  {
   "cell_type": "code",
   "execution_count": 134,
   "id": "ae1a0180-3be8-4b9f-b77a-fb21bb0eee59",
   "metadata": {},
   "outputs": [
    {
     "data": {
      "text/plain": [
       "np.float64(0.9427402165572513)"
      ]
     },
     "execution_count": 134,
     "metadata": {},
     "output_type": "execute_result"
    }
   ],
   "source": [
    "accuracy_out_of_sample"
   ]
  },
  {
   "cell_type": "code",
   "execution_count": 135,
   "id": "a21c90b0-f5ae-461f-9659-30e5185ffaef",
   "metadata": {},
   "outputs": [],
   "source": [
    "data_predict = decision_tree_model_predict(\n",
    "    clf,\n",
    "    data_test_copy,\n",
    "    decision_tree_columns,\n",
    "    decision_tree_columns_with_id,\n",
    ")\n",
    "\n",
    "decision_tree_model_predict_write_to_csv(\n",
    "    data_predict,\n",
    "    f'decision_tree_model_one_hot_2_clean_code_maxdepth_None_minsamplesplit_30_minsamplenode_4_full_training_dataset.csv'\n",
    ")"
   ]
  },
  {
   "cell_type": "code",
   "execution_count": 131,
   "id": "05b9c16a-25d6-4741-94e9-3d942bfadf8c",
   "metadata": {},
   "outputs": [
    {
     "data": {
      "text/plain": [
       "(np.float64(0.9429309863090248), np.float64(0.9386989513172479))"
      ]
     },
     "execution_count": 131,
     "metadata": {},
     "output_type": "execute_result"
    }
   ],
   "source": [
    "(\n",
    "    clf,\n",
    "    feature_importances,\n",
    "    accuracy_in_sample,\n",
    ") = decision_tree_model_train(\n",
    "    data_copy,\n",
    "    decision_tree_columns,\n",
    "    None,\n",
    "    2,\n",
    "    10,\n",
    ")\n",
    "\n",
    "accuracy_out_of_sample = decision_tree_model_test(\n",
    "    clf,\n",
    "    data_train_copy,\n",
    "    decision_tree_columns,\n",
    ")\n",
    "\n",
    "(accuracy_in_sample, accuracy_out_of_sample)"
   ]
  }
 ],
 "metadata": {
  "kernelspec": {
   "display_name": "Python 3 (ipykernel)",
   "language": "python",
   "name": "python3"
  },
  "language_info": {
   "codemirror_mode": {
    "name": "ipython",
    "version": 3
   },
   "file_extension": ".py",
   "mimetype": "text/x-python",
   "name": "python",
   "nbconvert_exporter": "python",
   "pygments_lexer": "ipython3",
   "version": "3.12.7"
  }
 },
 "nbformat": 4,
 "nbformat_minor": 5
}
