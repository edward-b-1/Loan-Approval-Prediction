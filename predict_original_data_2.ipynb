{
 "cells": [
  {
   "cell_type": "code",
   "execution_count": 1,
   "id": "9ad59752-8037-4f41-8307-05a9d0fc1ede",
   "metadata": {},
   "outputs": [],
   "source": [
    "%load_ext autoreload\n",
    "%autoreload 2"
   ]
  },
  {
   "cell_type": "code",
   "execution_count": 2,
   "id": "54b61366-4a01-471c-aabd-97382c7e23ab",
   "metadata": {},
   "outputs": [],
   "source": [
    "import pandas\n",
    "import numpy\n",
    "import matplotlib.pyplot as plt\n",
    "import itertools\n",
    "import sklearn\n",
    "from sklearn.metrics import log_loss\n",
    "from sklearn import preprocessing"
   ]
  },
  {
   "cell_type": "code",
   "execution_count": 3,
   "id": "3a196137-8e30-471a-ac5d-de1ebfc84d1f",
   "metadata": {},
   "outputs": [],
   "source": [
    "import loan_approval_lib\n",
    "from loan_approval_lib import logspace, linspace"
   ]
  },
  {
   "cell_type": "code",
   "execution_count": 4,
   "id": "70338345-05f2-4b62-9974-25225166e46c",
   "metadata": {},
   "outputs": [],
   "source": [
    "data = loan_approval_lib.load_original_data()"
   ]
  },
  {
   "cell_type": "code",
   "execution_count": 5,
   "id": "dbc299f9-a466-4ed1-b970-395ef6167da3",
   "metadata": {},
   "outputs": [
    {
     "name": "stdout",
     "output_type": "stream",
     "text": [
      "cb_person_cred_hist_length\n",
      "cb_person_default_on_file\n",
      "loan_amnt\n",
      "loan_grade\n",
      "loan_int_rate\n",
      "loan_intent\n",
      "loan_percent_income\n",
      "loan_status\n",
      "person_age\n",
      "person_emp_length\n",
      "person_home_ownership\n",
      "person_income\n"
     ]
    }
   ],
   "source": [
    "for col in sorted(data.columns):\n",
    "    print(col)"
   ]
  },
  {
   "cell_type": "code",
   "execution_count": 14,
   "id": "9f0238c8-e0de-4286-a3e2-e905c198405c",
   "metadata": {},
   "outputs": [
    {
     "data": {
      "text/html": [
       "<div>\n",
       "<style scoped>\n",
       "    .dataframe tbody tr th:only-of-type {\n",
       "        vertical-align: middle;\n",
       "    }\n",
       "\n",
       "    .dataframe tbody tr th {\n",
       "        vertical-align: top;\n",
       "    }\n",
       "\n",
       "    .dataframe thead th {\n",
       "        text-align: right;\n",
       "    }\n",
       "</style>\n",
       "<table border=\"1\" class=\"dataframe\">\n",
       "  <thead>\n",
       "    <tr style=\"text-align: right;\">\n",
       "      <th></th>\n",
       "      <th>person_age</th>\n",
       "      <th>person_income</th>\n",
       "      <th>person_home_ownership</th>\n",
       "      <th>person_emp_length</th>\n",
       "      <th>loan_intent</th>\n",
       "      <th>loan_grade</th>\n",
       "      <th>loan_amnt</th>\n",
       "      <th>loan_int_rate</th>\n",
       "      <th>loan_percent_income</th>\n",
       "      <th>cb_person_default_on_file</th>\n",
       "      <th>cb_person_cred_hist_length</th>\n",
       "      <th>loan_status</th>\n",
       "    </tr>\n",
       "  </thead>\n",
       "  <tbody>\n",
       "    <tr>\n",
       "      <th>1</th>\n",
       "      <td>21</td>\n",
       "      <td>9600</td>\n",
       "      <td>OWN</td>\n",
       "      <td>5.0</td>\n",
       "      <td>EDUCATION</td>\n",
       "      <td>B</td>\n",
       "      <td>1000</td>\n",
       "      <td>11.14</td>\n",
       "      <td>0.10</td>\n",
       "      <td>N</td>\n",
       "      <td>2</td>\n",
       "      <td>0</td>\n",
       "    </tr>\n",
       "    <tr>\n",
       "      <th>2</th>\n",
       "      <td>25</td>\n",
       "      <td>9600</td>\n",
       "      <td>MORTGAGE</td>\n",
       "      <td>1.0</td>\n",
       "      <td>MEDICAL</td>\n",
       "      <td>C</td>\n",
       "      <td>5500</td>\n",
       "      <td>12.87</td>\n",
       "      <td>0.57</td>\n",
       "      <td>N</td>\n",
       "      <td>3</td>\n",
       "      <td>1</td>\n",
       "    </tr>\n",
       "    <tr>\n",
       "      <th>3</th>\n",
       "      <td>23</td>\n",
       "      <td>65500</td>\n",
       "      <td>RENT</td>\n",
       "      <td>4.0</td>\n",
       "      <td>MEDICAL</td>\n",
       "      <td>C</td>\n",
       "      <td>35000</td>\n",
       "      <td>15.23</td>\n",
       "      <td>0.53</td>\n",
       "      <td>N</td>\n",
       "      <td>2</td>\n",
       "      <td>1</td>\n",
       "    </tr>\n",
       "    <tr>\n",
       "      <th>4</th>\n",
       "      <td>24</td>\n",
       "      <td>54400</td>\n",
       "      <td>RENT</td>\n",
       "      <td>8.0</td>\n",
       "      <td>MEDICAL</td>\n",
       "      <td>C</td>\n",
       "      <td>35000</td>\n",
       "      <td>14.27</td>\n",
       "      <td>0.55</td>\n",
       "      <td>Y</td>\n",
       "      <td>4</td>\n",
       "      <td>1</td>\n",
       "    </tr>\n",
       "    <tr>\n",
       "      <th>5</th>\n",
       "      <td>21</td>\n",
       "      <td>9900</td>\n",
       "      <td>OWN</td>\n",
       "      <td>2.0</td>\n",
       "      <td>VENTURE</td>\n",
       "      <td>A</td>\n",
       "      <td>2500</td>\n",
       "      <td>7.14</td>\n",
       "      <td>0.25</td>\n",
       "      <td>N</td>\n",
       "      <td>2</td>\n",
       "      <td>1</td>\n",
       "    </tr>\n",
       "    <tr>\n",
       "      <th>...</th>\n",
       "      <td>...</td>\n",
       "      <td>...</td>\n",
       "      <td>...</td>\n",
       "      <td>...</td>\n",
       "      <td>...</td>\n",
       "      <td>...</td>\n",
       "      <td>...</td>\n",
       "      <td>...</td>\n",
       "      <td>...</td>\n",
       "      <td>...</td>\n",
       "      <td>...</td>\n",
       "      <td>...</td>\n",
       "    </tr>\n",
       "    <tr>\n",
       "      <th>32576</th>\n",
       "      <td>57</td>\n",
       "      <td>53000</td>\n",
       "      <td>MORTGAGE</td>\n",
       "      <td>1.0</td>\n",
       "      <td>PERSONAL</td>\n",
       "      <td>C</td>\n",
       "      <td>5800</td>\n",
       "      <td>13.16</td>\n",
       "      <td>0.11</td>\n",
       "      <td>N</td>\n",
       "      <td>30</td>\n",
       "      <td>0</td>\n",
       "    </tr>\n",
       "    <tr>\n",
       "      <th>32577</th>\n",
       "      <td>54</td>\n",
       "      <td>120000</td>\n",
       "      <td>MORTGAGE</td>\n",
       "      <td>4.0</td>\n",
       "      <td>PERSONAL</td>\n",
       "      <td>A</td>\n",
       "      <td>17625</td>\n",
       "      <td>7.49</td>\n",
       "      <td>0.15</td>\n",
       "      <td>N</td>\n",
       "      <td>19</td>\n",
       "      <td>0</td>\n",
       "    </tr>\n",
       "    <tr>\n",
       "      <th>32578</th>\n",
       "      <td>65</td>\n",
       "      <td>76000</td>\n",
       "      <td>RENT</td>\n",
       "      <td>3.0</td>\n",
       "      <td>HOMEIMPROVEMENT</td>\n",
       "      <td>B</td>\n",
       "      <td>35000</td>\n",
       "      <td>10.99</td>\n",
       "      <td>0.46</td>\n",
       "      <td>N</td>\n",
       "      <td>28</td>\n",
       "      <td>1</td>\n",
       "    </tr>\n",
       "    <tr>\n",
       "      <th>32579</th>\n",
       "      <td>56</td>\n",
       "      <td>150000</td>\n",
       "      <td>MORTGAGE</td>\n",
       "      <td>5.0</td>\n",
       "      <td>PERSONAL</td>\n",
       "      <td>B</td>\n",
       "      <td>15000</td>\n",
       "      <td>11.48</td>\n",
       "      <td>0.10</td>\n",
       "      <td>N</td>\n",
       "      <td>26</td>\n",
       "      <td>0</td>\n",
       "    </tr>\n",
       "    <tr>\n",
       "      <th>32580</th>\n",
       "      <td>66</td>\n",
       "      <td>42000</td>\n",
       "      <td>RENT</td>\n",
       "      <td>2.0</td>\n",
       "      <td>MEDICAL</td>\n",
       "      <td>B</td>\n",
       "      <td>6475</td>\n",
       "      <td>9.99</td>\n",
       "      <td>0.15</td>\n",
       "      <td>N</td>\n",
       "      <td>30</td>\n",
       "      <td>0</td>\n",
       "    </tr>\n",
       "  </tbody>\n",
       "</table>\n",
       "<p>28632 rows × 12 columns</p>\n",
       "</div>"
      ],
      "text/plain": [
       "       person_age  person_income person_home_ownership  person_emp_length  \\\n",
       "1              21           9600                   OWN                5.0   \n",
       "2              25           9600              MORTGAGE                1.0   \n",
       "3              23          65500                  RENT                4.0   \n",
       "4              24          54400                  RENT                8.0   \n",
       "5              21           9900                   OWN                2.0   \n",
       "...           ...            ...                   ...                ...   \n",
       "32576          57          53000              MORTGAGE                1.0   \n",
       "32577          54         120000              MORTGAGE                4.0   \n",
       "32578          65          76000                  RENT                3.0   \n",
       "32579          56         150000              MORTGAGE                5.0   \n",
       "32580          66          42000                  RENT                2.0   \n",
       "\n",
       "           loan_intent loan_grade  loan_amnt  loan_int_rate  \\\n",
       "1            EDUCATION          B       1000          11.14   \n",
       "2              MEDICAL          C       5500          12.87   \n",
       "3              MEDICAL          C      35000          15.23   \n",
       "4              MEDICAL          C      35000          14.27   \n",
       "5              VENTURE          A       2500           7.14   \n",
       "...                ...        ...        ...            ...   \n",
       "32576         PERSONAL          C       5800          13.16   \n",
       "32577         PERSONAL          A      17625           7.49   \n",
       "32578  HOMEIMPROVEMENT          B      35000          10.99   \n",
       "32579         PERSONAL          B      15000          11.48   \n",
       "32580          MEDICAL          B       6475           9.99   \n",
       "\n",
       "       loan_percent_income cb_person_default_on_file  \\\n",
       "1                     0.10                         N   \n",
       "2                     0.57                         N   \n",
       "3                     0.53                         N   \n",
       "4                     0.55                         Y   \n",
       "5                     0.25                         N   \n",
       "...                    ...                       ...   \n",
       "32576                 0.11                         N   \n",
       "32577                 0.15                         N   \n",
       "32578                 0.46                         N   \n",
       "32579                 0.10                         N   \n",
       "32580                 0.15                         N   \n",
       "\n",
       "       cb_person_cred_hist_length  loan_status  \n",
       "1                               2            0  \n",
       "2                               3            1  \n",
       "3                               2            1  \n",
       "4                               4            1  \n",
       "5                               2            1  \n",
       "...                           ...          ...  \n",
       "32576                          30            0  \n",
       "32577                          19            0  \n",
       "32578                          28            1  \n",
       "32579                          26            0  \n",
       "32580                          30            0  \n",
       "\n",
       "[28632 rows x 12 columns]"
      ]
     },
     "execution_count": 14,
     "metadata": {},
     "output_type": "execute_result"
    }
   ],
   "source": [
    "data"
   ]
  },
  {
   "cell_type": "code",
   "execution_count": 15,
   "id": "363a52fa-fa8e-4409-ae73-64648fd680a2",
   "metadata": {},
   "outputs": [],
   "source": [
    "data_test = loan_approval_lib.load_data()['test']"
   ]
  },
  {
   "cell_type": "code",
   "execution_count": 16,
   "id": "967da0eb-2706-4294-8197-77e52d7b8950",
   "metadata": {},
   "outputs": [
    {
     "name": "stdout",
     "output_type": "stream",
     "text": [
      "cb_person_cred_hist_length\n",
      "cb_person_default_on_file\n",
      "id\n",
      "loan_amnt\n",
      "loan_grade\n",
      "loan_int_rate\n",
      "loan_intent\n",
      "loan_percent_income\n",
      "person_age\n",
      "person_emp_length\n",
      "person_home_ownership\n",
      "person_income\n"
     ]
    }
   ],
   "source": [
    "for col in sorted(data_test.columns):\n",
    "    print(col)"
   ]
  },
  {
   "cell_type": "code",
   "execution_count": 17,
   "id": "a633b58c-fd2a-496c-9afc-962bd04c0485",
   "metadata": {},
   "outputs": [
    {
     "data": {
      "text/html": [
       "<div>\n",
       "<style scoped>\n",
       "    .dataframe tbody tr th:only-of-type {\n",
       "        vertical-align: middle;\n",
       "    }\n",
       "\n",
       "    .dataframe tbody tr th {\n",
       "        vertical-align: top;\n",
       "    }\n",
       "\n",
       "    .dataframe thead th {\n",
       "        text-align: right;\n",
       "    }\n",
       "</style>\n",
       "<table border=\"1\" class=\"dataframe\">\n",
       "  <thead>\n",
       "    <tr style=\"text-align: right;\">\n",
       "      <th></th>\n",
       "      <th>id</th>\n",
       "      <th>person_age</th>\n",
       "      <th>person_income</th>\n",
       "      <th>person_home_ownership</th>\n",
       "      <th>person_emp_length</th>\n",
       "      <th>loan_intent</th>\n",
       "      <th>loan_grade</th>\n",
       "      <th>loan_amnt</th>\n",
       "      <th>loan_int_rate</th>\n",
       "      <th>loan_percent_income</th>\n",
       "      <th>cb_person_default_on_file</th>\n",
       "      <th>cb_person_cred_hist_length</th>\n",
       "    </tr>\n",
       "  </thead>\n",
       "  <tbody>\n",
       "    <tr>\n",
       "      <th>0</th>\n",
       "      <td>58645</td>\n",
       "      <td>23</td>\n",
       "      <td>69000</td>\n",
       "      <td>RENT</td>\n",
       "      <td>3.0</td>\n",
       "      <td>HOMEIMPROVEMENT</td>\n",
       "      <td>F</td>\n",
       "      <td>25000</td>\n",
       "      <td>15.76</td>\n",
       "      <td>0.36</td>\n",
       "      <td>N</td>\n",
       "      <td>2</td>\n",
       "    </tr>\n",
       "    <tr>\n",
       "      <th>1</th>\n",
       "      <td>58646</td>\n",
       "      <td>26</td>\n",
       "      <td>96000</td>\n",
       "      <td>MORTGAGE</td>\n",
       "      <td>6.0</td>\n",
       "      <td>PERSONAL</td>\n",
       "      <td>C</td>\n",
       "      <td>10000</td>\n",
       "      <td>12.68</td>\n",
       "      <td>0.10</td>\n",
       "      <td>Y</td>\n",
       "      <td>4</td>\n",
       "    </tr>\n",
       "    <tr>\n",
       "      <th>2</th>\n",
       "      <td>58647</td>\n",
       "      <td>26</td>\n",
       "      <td>30000</td>\n",
       "      <td>RENT</td>\n",
       "      <td>5.0</td>\n",
       "      <td>VENTURE</td>\n",
       "      <td>E</td>\n",
       "      <td>4000</td>\n",
       "      <td>17.19</td>\n",
       "      <td>0.13</td>\n",
       "      <td>Y</td>\n",
       "      <td>2</td>\n",
       "    </tr>\n",
       "    <tr>\n",
       "      <th>3</th>\n",
       "      <td>58648</td>\n",
       "      <td>33</td>\n",
       "      <td>50000</td>\n",
       "      <td>RENT</td>\n",
       "      <td>4.0</td>\n",
       "      <td>DEBTCONSOLIDATION</td>\n",
       "      <td>A</td>\n",
       "      <td>7000</td>\n",
       "      <td>8.90</td>\n",
       "      <td>0.14</td>\n",
       "      <td>N</td>\n",
       "      <td>7</td>\n",
       "    </tr>\n",
       "    <tr>\n",
       "      <th>4</th>\n",
       "      <td>58649</td>\n",
       "      <td>26</td>\n",
       "      <td>102000</td>\n",
       "      <td>MORTGAGE</td>\n",
       "      <td>8.0</td>\n",
       "      <td>HOMEIMPROVEMENT</td>\n",
       "      <td>D</td>\n",
       "      <td>15000</td>\n",
       "      <td>16.32</td>\n",
       "      <td>0.15</td>\n",
       "      <td>Y</td>\n",
       "      <td>4</td>\n",
       "    </tr>\n",
       "    <tr>\n",
       "      <th>...</th>\n",
       "      <td>...</td>\n",
       "      <td>...</td>\n",
       "      <td>...</td>\n",
       "      <td>...</td>\n",
       "      <td>...</td>\n",
       "      <td>...</td>\n",
       "      <td>...</td>\n",
       "      <td>...</td>\n",
       "      <td>...</td>\n",
       "      <td>...</td>\n",
       "      <td>...</td>\n",
       "      <td>...</td>\n",
       "    </tr>\n",
       "    <tr>\n",
       "      <th>39093</th>\n",
       "      <td>97738</td>\n",
       "      <td>22</td>\n",
       "      <td>31200</td>\n",
       "      <td>MORTGAGE</td>\n",
       "      <td>2.0</td>\n",
       "      <td>DEBTCONSOLIDATION</td>\n",
       "      <td>B</td>\n",
       "      <td>3000</td>\n",
       "      <td>10.37</td>\n",
       "      <td>0.10</td>\n",
       "      <td>N</td>\n",
       "      <td>4</td>\n",
       "    </tr>\n",
       "    <tr>\n",
       "      <th>39094</th>\n",
       "      <td>97739</td>\n",
       "      <td>22</td>\n",
       "      <td>48000</td>\n",
       "      <td>MORTGAGE</td>\n",
       "      <td>6.0</td>\n",
       "      <td>EDUCATION</td>\n",
       "      <td>A</td>\n",
       "      <td>7000</td>\n",
       "      <td>6.03</td>\n",
       "      <td>0.15</td>\n",
       "      <td>N</td>\n",
       "      <td>3</td>\n",
       "    </tr>\n",
       "    <tr>\n",
       "      <th>39095</th>\n",
       "      <td>97740</td>\n",
       "      <td>51</td>\n",
       "      <td>60000</td>\n",
       "      <td>MORTGAGE</td>\n",
       "      <td>0.0</td>\n",
       "      <td>PERSONAL</td>\n",
       "      <td>A</td>\n",
       "      <td>15000</td>\n",
       "      <td>7.51</td>\n",
       "      <td>0.25</td>\n",
       "      <td>N</td>\n",
       "      <td>25</td>\n",
       "    </tr>\n",
       "    <tr>\n",
       "      <th>39096</th>\n",
       "      <td>97741</td>\n",
       "      <td>22</td>\n",
       "      <td>36000</td>\n",
       "      <td>MORTGAGE</td>\n",
       "      <td>4.0</td>\n",
       "      <td>PERSONAL</td>\n",
       "      <td>D</td>\n",
       "      <td>14000</td>\n",
       "      <td>15.62</td>\n",
       "      <td>0.39</td>\n",
       "      <td>Y</td>\n",
       "      <td>4</td>\n",
       "    </tr>\n",
       "    <tr>\n",
       "      <th>39097</th>\n",
       "      <td>97742</td>\n",
       "      <td>31</td>\n",
       "      <td>45000</td>\n",
       "      <td>RENT</td>\n",
       "      <td>6.0</td>\n",
       "      <td>DEBTCONSOLIDATION</td>\n",
       "      <td>B</td>\n",
       "      <td>19450</td>\n",
       "      <td>9.91</td>\n",
       "      <td>0.44</td>\n",
       "      <td>N</td>\n",
       "      <td>9</td>\n",
       "    </tr>\n",
       "  </tbody>\n",
       "</table>\n",
       "<p>39098 rows × 12 columns</p>\n",
       "</div>"
      ],
      "text/plain": [
       "          id  person_age  person_income person_home_ownership  \\\n",
       "0      58645          23          69000                  RENT   \n",
       "1      58646          26          96000              MORTGAGE   \n",
       "2      58647          26          30000                  RENT   \n",
       "3      58648          33          50000                  RENT   \n",
       "4      58649          26         102000              MORTGAGE   \n",
       "...      ...         ...            ...                   ...   \n",
       "39093  97738          22          31200              MORTGAGE   \n",
       "39094  97739          22          48000              MORTGAGE   \n",
       "39095  97740          51          60000              MORTGAGE   \n",
       "39096  97741          22          36000              MORTGAGE   \n",
       "39097  97742          31          45000                  RENT   \n",
       "\n",
       "       person_emp_length        loan_intent loan_grade  loan_amnt  \\\n",
       "0                    3.0    HOMEIMPROVEMENT          F      25000   \n",
       "1                    6.0           PERSONAL          C      10000   \n",
       "2                    5.0            VENTURE          E       4000   \n",
       "3                    4.0  DEBTCONSOLIDATION          A       7000   \n",
       "4                    8.0    HOMEIMPROVEMENT          D      15000   \n",
       "...                  ...                ...        ...        ...   \n",
       "39093                2.0  DEBTCONSOLIDATION          B       3000   \n",
       "39094                6.0          EDUCATION          A       7000   \n",
       "39095                0.0           PERSONAL          A      15000   \n",
       "39096                4.0           PERSONAL          D      14000   \n",
       "39097                6.0  DEBTCONSOLIDATION          B      19450   \n",
       "\n",
       "       loan_int_rate  loan_percent_income cb_person_default_on_file  \\\n",
       "0              15.76                 0.36                         N   \n",
       "1              12.68                 0.10                         Y   \n",
       "2              17.19                 0.13                         Y   \n",
       "3               8.90                 0.14                         N   \n",
       "4              16.32                 0.15                         Y   \n",
       "...              ...                  ...                       ...   \n",
       "39093          10.37                 0.10                         N   \n",
       "39094           6.03                 0.15                         N   \n",
       "39095           7.51                 0.25                         N   \n",
       "39096          15.62                 0.39                         Y   \n",
       "39097           9.91                 0.44                         N   \n",
       "\n",
       "       cb_person_cred_hist_length  \n",
       "0                               2  \n",
       "1                               4  \n",
       "2                               2  \n",
       "3                               7  \n",
       "4                               4  \n",
       "...                           ...  \n",
       "39093                           4  \n",
       "39094                           3  \n",
       "39095                          25  \n",
       "39096                           4  \n",
       "39097                           9  \n",
       "\n",
       "[39098 rows x 12 columns]"
      ]
     },
     "execution_count": 17,
     "metadata": {},
     "output_type": "execute_result"
    }
   ],
   "source": [
    "data_test"
   ]
  },
  {
   "cell_type": "code",
   "execution_count": 18,
   "id": "d0b7925d-7569-40f4-be0c-754c47c0fa6e",
   "metadata": {},
   "outputs": [],
   "source": [
    "data_train = loan_approval_lib.load_data()['train']"
   ]
  },
  {
   "cell_type": "code",
   "execution_count": 19,
   "id": "822b5b70-4642-4316-b5f2-df3c7cbc7173",
   "metadata": {},
   "outputs": [
    {
     "name": "stdout",
     "output_type": "stream",
     "text": [
      "cb_person_cred_hist_length\n",
      "cb_person_default_on_file\n",
      "id\n",
      "loan_amnt\n",
      "loan_grade\n",
      "loan_int_rate\n",
      "loan_intent\n",
      "loan_percent_income\n",
      "loan_status\n",
      "person_age\n",
      "person_emp_length\n",
      "person_home_ownership\n",
      "person_income\n"
     ]
    }
   ],
   "source": [
    "for col in sorted(data_train.columns):\n",
    "    print(col)"
   ]
  },
  {
   "cell_type": "code",
   "execution_count": 20,
   "id": "c8064f62-0a64-4827-962c-0bb4f6825628",
   "metadata": {},
   "outputs": [
    {
     "data": {
      "text/html": [
       "<div>\n",
       "<style scoped>\n",
       "    .dataframe tbody tr th:only-of-type {\n",
       "        vertical-align: middle;\n",
       "    }\n",
       "\n",
       "    .dataframe tbody tr th {\n",
       "        vertical-align: top;\n",
       "    }\n",
       "\n",
       "    .dataframe thead th {\n",
       "        text-align: right;\n",
       "    }\n",
       "</style>\n",
       "<table border=\"1\" class=\"dataframe\">\n",
       "  <thead>\n",
       "    <tr style=\"text-align: right;\">\n",
       "      <th></th>\n",
       "      <th>id</th>\n",
       "      <th>person_age</th>\n",
       "      <th>person_income</th>\n",
       "      <th>person_home_ownership</th>\n",
       "      <th>person_emp_length</th>\n",
       "      <th>loan_intent</th>\n",
       "      <th>loan_grade</th>\n",
       "      <th>loan_amnt</th>\n",
       "      <th>loan_int_rate</th>\n",
       "      <th>loan_percent_income</th>\n",
       "      <th>cb_person_default_on_file</th>\n",
       "      <th>cb_person_cred_hist_length</th>\n",
       "      <th>loan_status</th>\n",
       "    </tr>\n",
       "  </thead>\n",
       "  <tbody>\n",
       "    <tr>\n",
       "      <th>0</th>\n",
       "      <td>0</td>\n",
       "      <td>37</td>\n",
       "      <td>35000</td>\n",
       "      <td>RENT</td>\n",
       "      <td>0.0</td>\n",
       "      <td>EDUCATION</td>\n",
       "      <td>B</td>\n",
       "      <td>6000</td>\n",
       "      <td>11.49</td>\n",
       "      <td>0.17</td>\n",
       "      <td>N</td>\n",
       "      <td>14</td>\n",
       "      <td>0</td>\n",
       "    </tr>\n",
       "    <tr>\n",
       "      <th>1</th>\n",
       "      <td>1</td>\n",
       "      <td>22</td>\n",
       "      <td>56000</td>\n",
       "      <td>OWN</td>\n",
       "      <td>6.0</td>\n",
       "      <td>MEDICAL</td>\n",
       "      <td>C</td>\n",
       "      <td>4000</td>\n",
       "      <td>13.35</td>\n",
       "      <td>0.07</td>\n",
       "      <td>N</td>\n",
       "      <td>2</td>\n",
       "      <td>0</td>\n",
       "    </tr>\n",
       "    <tr>\n",
       "      <th>2</th>\n",
       "      <td>2</td>\n",
       "      <td>29</td>\n",
       "      <td>28800</td>\n",
       "      <td>OWN</td>\n",
       "      <td>8.0</td>\n",
       "      <td>PERSONAL</td>\n",
       "      <td>A</td>\n",
       "      <td>6000</td>\n",
       "      <td>8.90</td>\n",
       "      <td>0.21</td>\n",
       "      <td>N</td>\n",
       "      <td>10</td>\n",
       "      <td>0</td>\n",
       "    </tr>\n",
       "    <tr>\n",
       "      <th>3</th>\n",
       "      <td>3</td>\n",
       "      <td>30</td>\n",
       "      <td>70000</td>\n",
       "      <td>RENT</td>\n",
       "      <td>14.0</td>\n",
       "      <td>VENTURE</td>\n",
       "      <td>B</td>\n",
       "      <td>12000</td>\n",
       "      <td>11.11</td>\n",
       "      <td>0.17</td>\n",
       "      <td>N</td>\n",
       "      <td>5</td>\n",
       "      <td>0</td>\n",
       "    </tr>\n",
       "    <tr>\n",
       "      <th>4</th>\n",
       "      <td>4</td>\n",
       "      <td>22</td>\n",
       "      <td>60000</td>\n",
       "      <td>RENT</td>\n",
       "      <td>2.0</td>\n",
       "      <td>MEDICAL</td>\n",
       "      <td>A</td>\n",
       "      <td>6000</td>\n",
       "      <td>6.92</td>\n",
       "      <td>0.10</td>\n",
       "      <td>N</td>\n",
       "      <td>3</td>\n",
       "      <td>0</td>\n",
       "    </tr>\n",
       "    <tr>\n",
       "      <th>...</th>\n",
       "      <td>...</td>\n",
       "      <td>...</td>\n",
       "      <td>...</td>\n",
       "      <td>...</td>\n",
       "      <td>...</td>\n",
       "      <td>...</td>\n",
       "      <td>...</td>\n",
       "      <td>...</td>\n",
       "      <td>...</td>\n",
       "      <td>...</td>\n",
       "      <td>...</td>\n",
       "      <td>...</td>\n",
       "      <td>...</td>\n",
       "    </tr>\n",
       "    <tr>\n",
       "      <th>58640</th>\n",
       "      <td>58640</td>\n",
       "      <td>34</td>\n",
       "      <td>120000</td>\n",
       "      <td>MORTGAGE</td>\n",
       "      <td>5.0</td>\n",
       "      <td>EDUCATION</td>\n",
       "      <td>D</td>\n",
       "      <td>25000</td>\n",
       "      <td>15.95</td>\n",
       "      <td>0.21</td>\n",
       "      <td>Y</td>\n",
       "      <td>10</td>\n",
       "      <td>0</td>\n",
       "    </tr>\n",
       "    <tr>\n",
       "      <th>58641</th>\n",
       "      <td>58641</td>\n",
       "      <td>28</td>\n",
       "      <td>28800</td>\n",
       "      <td>RENT</td>\n",
       "      <td>0.0</td>\n",
       "      <td>MEDICAL</td>\n",
       "      <td>C</td>\n",
       "      <td>10000</td>\n",
       "      <td>12.73</td>\n",
       "      <td>0.35</td>\n",
       "      <td>N</td>\n",
       "      <td>8</td>\n",
       "      <td>1</td>\n",
       "    </tr>\n",
       "    <tr>\n",
       "      <th>58642</th>\n",
       "      <td>58642</td>\n",
       "      <td>23</td>\n",
       "      <td>44000</td>\n",
       "      <td>RENT</td>\n",
       "      <td>7.0</td>\n",
       "      <td>EDUCATION</td>\n",
       "      <td>D</td>\n",
       "      <td>6800</td>\n",
       "      <td>16.00</td>\n",
       "      <td>0.15</td>\n",
       "      <td>N</td>\n",
       "      <td>2</td>\n",
       "      <td>1</td>\n",
       "    </tr>\n",
       "    <tr>\n",
       "      <th>58643</th>\n",
       "      <td>58643</td>\n",
       "      <td>22</td>\n",
       "      <td>30000</td>\n",
       "      <td>RENT</td>\n",
       "      <td>2.0</td>\n",
       "      <td>EDUCATION</td>\n",
       "      <td>A</td>\n",
       "      <td>5000</td>\n",
       "      <td>8.90</td>\n",
       "      <td>0.17</td>\n",
       "      <td>N</td>\n",
       "      <td>3</td>\n",
       "      <td>0</td>\n",
       "    </tr>\n",
       "    <tr>\n",
       "      <th>58644</th>\n",
       "      <td>58644</td>\n",
       "      <td>31</td>\n",
       "      <td>75000</td>\n",
       "      <td>MORTGAGE</td>\n",
       "      <td>2.0</td>\n",
       "      <td>VENTURE</td>\n",
       "      <td>B</td>\n",
       "      <td>15000</td>\n",
       "      <td>11.11</td>\n",
       "      <td>0.20</td>\n",
       "      <td>N</td>\n",
       "      <td>5</td>\n",
       "      <td>0</td>\n",
       "    </tr>\n",
       "  </tbody>\n",
       "</table>\n",
       "<p>58645 rows × 13 columns</p>\n",
       "</div>"
      ],
      "text/plain": [
       "          id  person_age  person_income person_home_ownership  \\\n",
       "0          0          37          35000                  RENT   \n",
       "1          1          22          56000                   OWN   \n",
       "2          2          29          28800                   OWN   \n",
       "3          3          30          70000                  RENT   \n",
       "4          4          22          60000                  RENT   \n",
       "...      ...         ...            ...                   ...   \n",
       "58640  58640          34         120000              MORTGAGE   \n",
       "58641  58641          28          28800                  RENT   \n",
       "58642  58642          23          44000                  RENT   \n",
       "58643  58643          22          30000                  RENT   \n",
       "58644  58644          31          75000              MORTGAGE   \n",
       "\n",
       "       person_emp_length loan_intent loan_grade  loan_amnt  loan_int_rate  \\\n",
       "0                    0.0   EDUCATION          B       6000          11.49   \n",
       "1                    6.0     MEDICAL          C       4000          13.35   \n",
       "2                    8.0    PERSONAL          A       6000           8.90   \n",
       "3                   14.0     VENTURE          B      12000          11.11   \n",
       "4                    2.0     MEDICAL          A       6000           6.92   \n",
       "...                  ...         ...        ...        ...            ...   \n",
       "58640                5.0   EDUCATION          D      25000          15.95   \n",
       "58641                0.0     MEDICAL          C      10000          12.73   \n",
       "58642                7.0   EDUCATION          D       6800          16.00   \n",
       "58643                2.0   EDUCATION          A       5000           8.90   \n",
       "58644                2.0     VENTURE          B      15000          11.11   \n",
       "\n",
       "       loan_percent_income cb_person_default_on_file  \\\n",
       "0                     0.17                         N   \n",
       "1                     0.07                         N   \n",
       "2                     0.21                         N   \n",
       "3                     0.17                         N   \n",
       "4                     0.10                         N   \n",
       "...                    ...                       ...   \n",
       "58640                 0.21                         Y   \n",
       "58641                 0.35                         N   \n",
       "58642                 0.15                         N   \n",
       "58643                 0.17                         N   \n",
       "58644                 0.20                         N   \n",
       "\n",
       "       cb_person_cred_hist_length  loan_status  \n",
       "0                              14            0  \n",
       "1                               2            0  \n",
       "2                              10            0  \n",
       "3                               5            0  \n",
       "4                               3            0  \n",
       "...                           ...          ...  \n",
       "58640                          10            0  \n",
       "58641                           8            1  \n",
       "58642                           2            1  \n",
       "58643                           3            0  \n",
       "58644                           5            0  \n",
       "\n",
       "[58645 rows x 13 columns]"
      ]
     },
     "execution_count": 20,
     "metadata": {},
     "output_type": "execute_result"
    }
   ],
   "source": [
    "data_train"
   ]
  },
  {
   "cell_type": "markdown",
   "id": "ef9d6ea5-deec-4c74-8602-456a61071149",
   "metadata": {},
   "source": [
    "# Data Cleaning - For now simply remove spurious values and NaNs\n",
    "\n",
    "- Revisit this later. Might be able to keep some rows of useful data by replacing NaN values with the mean\n",
    "- TODO: Does the TEST data contain any NaN?"
   ]
  },
  {
   "cell_type": "code",
   "execution_count": 6,
   "id": "63262cf8-8192-481a-a724-1b3661b6bfbf",
   "metadata": {},
   "outputs": [
    {
     "data": {
      "text/html": [
       "<div>\n",
       "<style scoped>\n",
       "    .dataframe tbody tr th:only-of-type {\n",
       "        vertical-align: middle;\n",
       "    }\n",
       "\n",
       "    .dataframe tbody tr th {\n",
       "        vertical-align: top;\n",
       "    }\n",
       "\n",
       "    .dataframe thead th {\n",
       "        text-align: right;\n",
       "    }\n",
       "</style>\n",
       "<table border=\"1\" class=\"dataframe\">\n",
       "  <thead>\n",
       "    <tr style=\"text-align: right;\">\n",
       "      <th></th>\n",
       "      <th>person_age</th>\n",
       "      <th>person_income</th>\n",
       "      <th>person_home_ownership</th>\n",
       "      <th>person_emp_length</th>\n",
       "      <th>loan_intent</th>\n",
       "      <th>loan_grade</th>\n",
       "      <th>loan_amnt</th>\n",
       "      <th>loan_int_rate</th>\n",
       "      <th>loan_percent_income</th>\n",
       "      <th>cb_person_default_on_file</th>\n",
       "      <th>cb_person_cred_hist_length</th>\n",
       "      <th>loan_status</th>\n",
       "    </tr>\n",
       "  </thead>\n",
       "  <tbody>\n",
       "    <tr>\n",
       "      <th>81</th>\n",
       "      <td>144</td>\n",
       "      <td>250000</td>\n",
       "      <td>RENT</td>\n",
       "      <td>4.0</td>\n",
       "      <td>VENTURE</td>\n",
       "      <td>C</td>\n",
       "      <td>4800</td>\n",
       "      <td>13.57</td>\n",
       "      <td>0.02</td>\n",
       "      <td>N</td>\n",
       "      <td>3</td>\n",
       "      <td>0</td>\n",
       "    </tr>\n",
       "    <tr>\n",
       "      <th>183</th>\n",
       "      <td>144</td>\n",
       "      <td>200000</td>\n",
       "      <td>MORTGAGE</td>\n",
       "      <td>4.0</td>\n",
       "      <td>EDUCATION</td>\n",
       "      <td>B</td>\n",
       "      <td>6000</td>\n",
       "      <td>11.86</td>\n",
       "      <td>0.03</td>\n",
       "      <td>N</td>\n",
       "      <td>2</td>\n",
       "      <td>0</td>\n",
       "    </tr>\n",
       "    <tr>\n",
       "      <th>575</th>\n",
       "      <td>123</td>\n",
       "      <td>80004</td>\n",
       "      <td>RENT</td>\n",
       "      <td>2.0</td>\n",
       "      <td>EDUCATION</td>\n",
       "      <td>B</td>\n",
       "      <td>20400</td>\n",
       "      <td>10.25</td>\n",
       "      <td>0.25</td>\n",
       "      <td>N</td>\n",
       "      <td>3</td>\n",
       "      <td>0</td>\n",
       "    </tr>\n",
       "    <tr>\n",
       "      <th>747</th>\n",
       "      <td>123</td>\n",
       "      <td>78000</td>\n",
       "      <td>RENT</td>\n",
       "      <td>7.0</td>\n",
       "      <td>VENTURE</td>\n",
       "      <td>B</td>\n",
       "      <td>20000</td>\n",
       "      <td>NaN</td>\n",
       "      <td>0.26</td>\n",
       "      <td>N</td>\n",
       "      <td>4</td>\n",
       "      <td>0</td>\n",
       "    </tr>\n",
       "    <tr>\n",
       "      <th>32297</th>\n",
       "      <td>144</td>\n",
       "      <td>6000000</td>\n",
       "      <td>MORTGAGE</td>\n",
       "      <td>12.0</td>\n",
       "      <td>PERSONAL</td>\n",
       "      <td>C</td>\n",
       "      <td>5000</td>\n",
       "      <td>12.73</td>\n",
       "      <td>0.00</td>\n",
       "      <td>N</td>\n",
       "      <td>25</td>\n",
       "      <td>0</td>\n",
       "    </tr>\n",
       "  </tbody>\n",
       "</table>\n",
       "</div>"
      ],
      "text/plain": [
       "       person_age  person_income person_home_ownership  person_emp_length  \\\n",
       "81            144         250000                  RENT                4.0   \n",
       "183           144         200000              MORTGAGE                4.0   \n",
       "575           123          80004                  RENT                2.0   \n",
       "747           123          78000                  RENT                7.0   \n",
       "32297         144        6000000              MORTGAGE               12.0   \n",
       "\n",
       "      loan_intent loan_grade  loan_amnt  loan_int_rate  loan_percent_income  \\\n",
       "81        VENTURE          C       4800          13.57                 0.02   \n",
       "183     EDUCATION          B       6000          11.86                 0.03   \n",
       "575     EDUCATION          B      20400          10.25                 0.25   \n",
       "747       VENTURE          B      20000            NaN                 0.26   \n",
       "32297    PERSONAL          C       5000          12.73                 0.00   \n",
       "\n",
       "      cb_person_default_on_file  cb_person_cred_hist_length  loan_status  \n",
       "81                            N                           3            0  \n",
       "183                           N                           2            0  \n",
       "575                           N                           3            0  \n",
       "747                           N                           4            0  \n",
       "32297                         N                          25            0  "
      ]
     },
     "execution_count": 6,
     "metadata": {},
     "output_type": "execute_result"
    }
   ],
   "source": [
    "data[data['person_age'] > 100]"
   ]
  },
  {
   "cell_type": "code",
   "execution_count": 7,
   "id": "db3a3990-e6fa-470e-8f22-1cfd874293f8",
   "metadata": {},
   "outputs": [
    {
     "data": {
      "text/html": [
       "<div>\n",
       "<style scoped>\n",
       "    .dataframe tbody tr th:only-of-type {\n",
       "        vertical-align: middle;\n",
       "    }\n",
       "\n",
       "    .dataframe tbody tr th {\n",
       "        vertical-align: top;\n",
       "    }\n",
       "\n",
       "    .dataframe thead th {\n",
       "        text-align: right;\n",
       "    }\n",
       "</style>\n",
       "<table border=\"1\" class=\"dataframe\">\n",
       "  <thead>\n",
       "    <tr style=\"text-align: right;\">\n",
       "      <th></th>\n",
       "      <th>person_age</th>\n",
       "      <th>person_income</th>\n",
       "      <th>person_home_ownership</th>\n",
       "      <th>person_emp_length</th>\n",
       "      <th>loan_intent</th>\n",
       "      <th>loan_grade</th>\n",
       "      <th>loan_amnt</th>\n",
       "      <th>loan_int_rate</th>\n",
       "      <th>loan_percent_income</th>\n",
       "      <th>cb_person_default_on_file</th>\n",
       "      <th>cb_person_cred_hist_length</th>\n",
       "      <th>loan_status</th>\n",
       "    </tr>\n",
       "  </thead>\n",
       "  <tbody>\n",
       "  </tbody>\n",
       "</table>\n",
       "</div>"
      ],
      "text/plain": [
       "Empty DataFrame\n",
       "Columns: [person_age, person_income, person_home_ownership, person_emp_length, loan_intent, loan_grade, loan_amnt, loan_int_rate, loan_percent_income, cb_person_default_on_file, cb_person_cred_hist_length, loan_status]\n",
       "Index: []"
      ]
     },
     "execution_count": 7,
     "metadata": {},
     "output_type": "execute_result"
    }
   ],
   "source": [
    "data[data['person_age'] < 18]"
   ]
  },
  {
   "cell_type": "code",
   "execution_count": 8,
   "id": "e820127b-f773-40b8-b209-8f8495343f07",
   "metadata": {},
   "outputs": [
    {
     "data": {
      "text/html": [
       "<div>\n",
       "<style scoped>\n",
       "    .dataframe tbody tr th:only-of-type {\n",
       "        vertical-align: middle;\n",
       "    }\n",
       "\n",
       "    .dataframe tbody tr th {\n",
       "        vertical-align: top;\n",
       "    }\n",
       "\n",
       "    .dataframe thead th {\n",
       "        text-align: right;\n",
       "    }\n",
       "</style>\n",
       "<table border=\"1\" class=\"dataframe\">\n",
       "  <thead>\n",
       "    <tr style=\"text-align: right;\">\n",
       "      <th></th>\n",
       "      <th>person_age</th>\n",
       "      <th>person_income</th>\n",
       "      <th>person_home_ownership</th>\n",
       "      <th>person_emp_length</th>\n",
       "      <th>loan_intent</th>\n",
       "      <th>loan_grade</th>\n",
       "      <th>loan_amnt</th>\n",
       "      <th>loan_int_rate</th>\n",
       "      <th>loan_percent_income</th>\n",
       "      <th>cb_person_default_on_file</th>\n",
       "      <th>cb_person_cred_hist_length</th>\n",
       "      <th>loan_status</th>\n",
       "    </tr>\n",
       "  </thead>\n",
       "  <tbody>\n",
       "    <tr>\n",
       "      <th>0</th>\n",
       "      <td>22</td>\n",
       "      <td>59000</td>\n",
       "      <td>RENT</td>\n",
       "      <td>123.0</td>\n",
       "      <td>PERSONAL</td>\n",
       "      <td>D</td>\n",
       "      <td>35000</td>\n",
       "      <td>16.02</td>\n",
       "      <td>0.59</td>\n",
       "      <td>Y</td>\n",
       "      <td>3</td>\n",
       "      <td>1</td>\n",
       "    </tr>\n",
       "    <tr>\n",
       "      <th>210</th>\n",
       "      <td>21</td>\n",
       "      <td>192000</td>\n",
       "      <td>MORTGAGE</td>\n",
       "      <td>123.0</td>\n",
       "      <td>VENTURE</td>\n",
       "      <td>A</td>\n",
       "      <td>20000</td>\n",
       "      <td>6.54</td>\n",
       "      <td>0.10</td>\n",
       "      <td>N</td>\n",
       "      <td>4</td>\n",
       "      <td>0</td>\n",
       "    </tr>\n",
       "  </tbody>\n",
       "</table>\n",
       "</div>"
      ],
      "text/plain": [
       "     person_age  person_income person_home_ownership  person_emp_length  \\\n",
       "0            22          59000                  RENT              123.0   \n",
       "210          21         192000              MORTGAGE              123.0   \n",
       "\n",
       "    loan_intent loan_grade  loan_amnt  loan_int_rate  loan_percent_income  \\\n",
       "0      PERSONAL          D      35000          16.02                 0.59   \n",
       "210     VENTURE          A      20000           6.54                 0.10   \n",
       "\n",
       "    cb_person_default_on_file  cb_person_cred_hist_length  loan_status  \n",
       "0                           Y                           3            1  \n",
       "210                         N                           4            0  "
      ]
     },
     "execution_count": 8,
     "metadata": {},
     "output_type": "execute_result"
    }
   ],
   "source": [
    "data[data['person_emp_length'] > 100]"
   ]
  },
  {
   "cell_type": "code",
   "execution_count": 9,
   "id": "6a909ed1-2845-46ef-ae13-50666dea8b41",
   "metadata": {},
   "outputs": [
    {
     "data": {
      "text/html": [
       "<div>\n",
       "<style scoped>\n",
       "    .dataframe tbody tr th:only-of-type {\n",
       "        vertical-align: middle;\n",
       "    }\n",
       "\n",
       "    .dataframe tbody tr th {\n",
       "        vertical-align: top;\n",
       "    }\n",
       "\n",
       "    .dataframe thead th {\n",
       "        text-align: right;\n",
       "    }\n",
       "</style>\n",
       "<table border=\"1\" class=\"dataframe\">\n",
       "  <thead>\n",
       "    <tr style=\"text-align: right;\">\n",
       "      <th></th>\n",
       "      <th>person_age</th>\n",
       "      <th>person_income</th>\n",
       "      <th>person_home_ownership</th>\n",
       "      <th>person_emp_length</th>\n",
       "      <th>loan_intent</th>\n",
       "      <th>loan_grade</th>\n",
       "      <th>loan_amnt</th>\n",
       "      <th>loan_int_rate</th>\n",
       "      <th>loan_percent_income</th>\n",
       "      <th>cb_person_default_on_file</th>\n",
       "      <th>cb_person_cred_hist_length</th>\n",
       "      <th>loan_status</th>\n",
       "    </tr>\n",
       "  </thead>\n",
       "  <tbody>\n",
       "  </tbody>\n",
       "</table>\n",
       "</div>"
      ],
      "text/plain": [
       "Empty DataFrame\n",
       "Columns: [person_age, person_income, person_home_ownership, person_emp_length, loan_intent, loan_grade, loan_amnt, loan_int_rate, loan_percent_income, cb_person_default_on_file, cb_person_cred_hist_length, loan_status]\n",
       "Index: []"
      ]
     },
     "execution_count": 9,
     "metadata": {},
     "output_type": "execute_result"
    }
   ],
   "source": [
    "data[data['person_emp_length'] < 0]"
   ]
  },
  {
   "cell_type": "code",
   "execution_count": 10,
   "id": "04f95457-947c-48ec-b4c8-c3adab7b2db3",
   "metadata": {},
   "outputs": [
    {
     "name": "stdout",
     "output_type": "stream",
     "text": [
      "column person_age, number of removed rows: 5\n",
      "column person_income, number of removed rows: 0\n",
      "column person_emp_length, number of removed rows: 897\n",
      "column loan_amnt, number of removed rows: 0\n",
      "column loan_int_rate, number of removed rows: 3047\n",
      "column loan_percent_income, number of removed rows: 0\n",
      "column cb_person_default_on_file, number of removed rows: 0\n"
     ]
    }
   ],
   "source": [
    "columns = [\n",
    "    'person_age',\n",
    "    'person_income',\n",
    "    'person_emp_length',\n",
    "    'loan_amnt',\n",
    "    'loan_int_rate',\n",
    "    'loan_percent_income',\n",
    "    'cb_person_default_on_file'\n",
    "]\n",
    "\n",
    "for column in columns:\n",
    "    row_count_1 = len(data)\n",
    "\n",
    "    if column == 'person_age':\n",
    "        data = data[data['person_age'] <= 100]\n",
    "\n",
    "    if column == 'person_emp_length':\n",
    "        data = data[data['person_emp_length'] <= 100]\n",
    "\n",
    "    data = data[data[column].isna() == False]\n",
    "    \n",
    "    row_count_2 = len(data)\n",
    "    row_count_diff = row_count_1 - row_count_2\n",
    "    print(f'column {column}, number of removed rows: {row_count_diff}')\n",
    "    "
   ]
  },
  {
   "cell_type": "code",
   "execution_count": 11,
   "id": "9cd160c5-5602-4502-bfd4-a7fc20b7f7ac",
   "metadata": {},
   "outputs": [
    {
     "data": {
      "text/plain": [
       "28632"
      ]
     },
     "execution_count": 11,
     "metadata": {},
     "output_type": "execute_result"
    }
   ],
   "source": [
    "len(data)"
   ]
  },
  {
   "cell_type": "code",
   "execution_count": 21,
   "id": "b4562754-9cbd-4704-aca0-6eeaf8265c15",
   "metadata": {},
   "outputs": [
    {
     "data": {
      "text/html": [
       "<div>\n",
       "<style scoped>\n",
       "    .dataframe tbody tr th:only-of-type {\n",
       "        vertical-align: middle;\n",
       "    }\n",
       "\n",
       "    .dataframe tbody tr th {\n",
       "        vertical-align: top;\n",
       "    }\n",
       "\n",
       "    .dataframe thead th {\n",
       "        text-align: right;\n",
       "    }\n",
       "</style>\n",
       "<table border=\"1\" class=\"dataframe\">\n",
       "  <thead>\n",
       "    <tr style=\"text-align: right;\">\n",
       "      <th></th>\n",
       "      <th>id</th>\n",
       "      <th>person_age</th>\n",
       "      <th>person_income</th>\n",
       "      <th>person_home_ownership</th>\n",
       "      <th>person_emp_length</th>\n",
       "      <th>loan_intent</th>\n",
       "      <th>loan_grade</th>\n",
       "      <th>loan_amnt</th>\n",
       "      <th>loan_int_rate</th>\n",
       "      <th>loan_percent_income</th>\n",
       "      <th>cb_person_default_on_file</th>\n",
       "      <th>cb_person_cred_hist_length</th>\n",
       "    </tr>\n",
       "  </thead>\n",
       "  <tbody>\n",
       "  </tbody>\n",
       "</table>\n",
       "</div>"
      ],
      "text/plain": [
       "Empty DataFrame\n",
       "Columns: [id, person_age, person_income, person_home_ownership, person_emp_length, loan_intent, loan_grade, loan_amnt, loan_int_rate, loan_percent_income, cb_person_default_on_file, cb_person_cred_hist_length]\n",
       "Index: []"
      ]
     },
     "execution_count": 21,
     "metadata": {},
     "output_type": "execute_result"
    }
   ],
   "source": [
    "data_test[data_test['loan_int_rate'].isna()]"
   ]
  },
  {
   "cell_type": "code",
   "execution_count": 22,
   "id": "845c954d-ff9e-4d00-8b2e-a752bb113fdf",
   "metadata": {},
   "outputs": [
    {
     "data": {
      "text/html": [
       "<div>\n",
       "<style scoped>\n",
       "    .dataframe tbody tr th:only-of-type {\n",
       "        vertical-align: middle;\n",
       "    }\n",
       "\n",
       "    .dataframe tbody tr th {\n",
       "        vertical-align: top;\n",
       "    }\n",
       "\n",
       "    .dataframe thead th {\n",
       "        text-align: right;\n",
       "    }\n",
       "</style>\n",
       "<table border=\"1\" class=\"dataframe\">\n",
       "  <thead>\n",
       "    <tr style=\"text-align: right;\">\n",
       "      <th></th>\n",
       "      <th>id</th>\n",
       "      <th>person_age</th>\n",
       "      <th>person_income</th>\n",
       "      <th>person_home_ownership</th>\n",
       "      <th>person_emp_length</th>\n",
       "      <th>loan_intent</th>\n",
       "      <th>loan_grade</th>\n",
       "      <th>loan_amnt</th>\n",
       "      <th>loan_int_rate</th>\n",
       "      <th>loan_percent_income</th>\n",
       "      <th>cb_person_default_on_file</th>\n",
       "      <th>cb_person_cred_hist_length</th>\n",
       "    </tr>\n",
       "  </thead>\n",
       "  <tbody>\n",
       "  </tbody>\n",
       "</table>\n",
       "</div>"
      ],
      "text/plain": [
       "Empty DataFrame\n",
       "Columns: [id, person_age, person_income, person_home_ownership, person_emp_length, loan_intent, loan_grade, loan_amnt, loan_int_rate, loan_percent_income, cb_person_default_on_file, cb_person_cred_hist_length]\n",
       "Index: []"
      ]
     },
     "execution_count": 22,
     "metadata": {},
     "output_type": "execute_result"
    }
   ],
   "source": [
    "data_test[data_test['loan_percent_income'].isna()]"
   ]
  },
  {
   "cell_type": "markdown",
   "id": "bc5e3aec-f6d7-44cf-9289-edb12930367c",
   "metadata": {},
   "source": [
    "# Numerical Columns\n",
    "\n",
    "- person_income\n",
    "- loan_amnt\n",
    "- loan_int_rate\n",
    "- loan_percent_income\n",
    "\n",
    "# Integer Numerical Columns\n",
    "\n",
    "Columns with small number of unique integer values. These may behave somewhat like categorical labels.\n",
    "\n",
    "- person_age\n",
    "- person_emp_length\n",
    "- cb_person_cred_hist_length"
   ]
  },
  {
   "cell_type": "markdown",
   "id": "dc2cf2ed-c5bb-471d-b11c-687e770306fd",
   "metadata": {},
   "source": [
    "# Integer Columns - Low number of unique values\n",
    "\n",
    "- `person_age` has 58 unique values\n",
    "- `person_emp_length` has 37 unique values\n",
    "- `cb_person_cred_hist_length` has 29 unique values"
   ]
  },
  {
   "cell_type": "code",
   "execution_count": 31,
   "id": "5308da38-ab7a-4316-8ad9-7b6947412ddb",
   "metadata": {},
   "outputs": [
    {
     "data": {
      "text/plain": [
       "58"
      ]
     },
     "execution_count": 31,
     "metadata": {},
     "output_type": "execute_result"
    }
   ],
   "source": [
    "len(data['person_age'].unique())"
   ]
  },
  {
   "cell_type": "code",
   "execution_count": 37,
   "id": "1bafaaae-a09b-4ad0-a091-f4e3e5bca07e",
   "metadata": {},
   "outputs": [
    {
     "data": {
      "text/plain": [
       "array([  0.,   1.,   2.,   3.,   4.,   5.,   6.,   7.,   8.,   9.,  10.,\n",
       "        11.,  12.,  13.,  14.,  15.,  16.,  17.,  18.,  19.,  20.,  21.,\n",
       "        22.,  23.,  24.,  25.,  26.,  27.,  28.,  29.,  30.,  31.,  34.,\n",
       "        38.,  41., 123.,  nan])"
      ]
     },
     "execution_count": 37,
     "metadata": {},
     "output_type": "execute_result"
    }
   ],
   "source": [
    "tmp = data['person_emp_length'].unique()\n",
    "tmp.sort()\n",
    "tmp"
   ]
  },
  {
   "cell_type": "code",
   "execution_count": 43,
   "id": "26ffbaf9-ab06-406f-a14d-5126276b0daa",
   "metadata": {},
   "outputs": [
    {
     "data": {
      "text/plain": [
       "37"
      ]
     },
     "execution_count": 43,
     "metadata": {},
     "output_type": "execute_result"
    }
   ],
   "source": [
    "len(tmp)"
   ]
  },
  {
   "cell_type": "code",
   "execution_count": 46,
   "id": "d1a9926e-e153-43b4-82f0-5aa033dd6468",
   "metadata": {},
   "outputs": [
    {
     "data": {
      "text/plain": [
       "29"
      ]
     },
     "execution_count": 46,
     "metadata": {},
     "output_type": "execute_result"
    }
   ],
   "source": [
    "len(data['cb_person_cred_hist_length'].unique())"
   ]
  },
  {
   "cell_type": "code",
   "execution_count": 38,
   "id": "f103bb8f-fd75-4460-9776-9197b0a3e7fe",
   "metadata": {},
   "outputs": [
    {
     "data": {
      "text/plain": [
       "3834"
      ]
     },
     "execution_count": 38,
     "metadata": {},
     "output_type": "execute_result"
    }
   ],
   "source": [
    "len(data['person_income'].unique())"
   ]
  },
  {
   "cell_type": "code",
   "execution_count": 39,
   "id": "bacb71b1-43e8-4a2f-bf32-aa15f1c53366",
   "metadata": {},
   "outputs": [
    {
     "data": {
      "text/plain": [
       "np.int64(4000)"
      ]
     },
     "execution_count": 39,
     "metadata": {},
     "output_type": "execute_result"
    }
   ],
   "source": [
    "data['person_income'].min()"
   ]
  },
  {
   "cell_type": "code",
   "execution_count": 40,
   "id": "988c02b4-b342-4610-818b-0e287bcfecc6",
   "metadata": {},
   "outputs": [
    {
     "data": {
      "text/plain": [
       "np.int64(2039784)"
      ]
     },
     "execution_count": 40,
     "metadata": {},
     "output_type": "execute_result"
    }
   ],
   "source": [
    "data['person_income'].max()"
   ]
  },
  {
   "cell_type": "code",
   "execution_count": 43,
   "id": "dd44ac5f-43af-455d-8d96-9f496f248c61",
   "metadata": {},
   "outputs": [
    {
     "data": {
      "text/plain": [
       "728"
      ]
     },
     "execution_count": 43,
     "metadata": {},
     "output_type": "execute_result"
    }
   ],
   "source": [
    "len(data['loan_amnt'].unique())"
   ]
  },
  {
   "cell_type": "code",
   "execution_count": 37,
   "id": "32922398-0c67-455c-a913-b54355d41743",
   "metadata": {},
   "outputs": [
    {
     "data": {
      "text/plain": [
       "array(['OWN', 'MORTGAGE', 'RENT', 'OTHER'], dtype=object)"
      ]
     },
     "execution_count": 37,
     "metadata": {},
     "output_type": "execute_result"
    }
   ],
   "source": [
    "data['person_home_ownership'].unique()"
   ]
  },
  {
   "cell_type": "code",
   "execution_count": 47,
   "id": "6527133b-8f09-4ad4-9b43-b6e99aa4e80e",
   "metadata": {},
   "outputs": [
    {
     "data": {
      "text/plain": [
       "array(['EDUCATION', 'MEDICAL', 'VENTURE', 'PERSONAL', 'HOMEIMPROVEMENT',\n",
       "       'DEBTCONSOLIDATION'], dtype=object)"
      ]
     },
     "execution_count": 47,
     "metadata": {},
     "output_type": "execute_result"
    }
   ],
   "source": [
    "data['loan_intent'].unique()"
   ]
  },
  {
   "cell_type": "code",
   "execution_count": 51,
   "id": "ff4effa3-4ff5-4259-b9fe-dd50848ff702",
   "metadata": {},
   "outputs": [
    {
     "data": {
      "text/plain": [
       "['A', 'B', 'C', 'D', 'E', 'F', 'G']"
      ]
     },
     "execution_count": 51,
     "metadata": {},
     "output_type": "execute_result"
    }
   ],
   "source": [
    "sorted(data['loan_grade'].unique())"
   ]
  },
  {
   "cell_type": "markdown",
   "id": "695f6bf0-16fe-44ca-9470-93137bbea2ea",
   "metadata": {},
   "source": [
    "# Integer Columns - High number of unique values\n",
    "\n",
    "- `person_income` has 4130 unique values\n",
    "- `loan_amnt` has 349 unique values\n",
    "- `loan_int_rate` has 349 unique values\n",
    "- `loan_percent_income` has 77 unique values, likely due to 2 dp rounding"
   ]
  },
  {
   "cell_type": "code",
   "execution_count": 50,
   "id": "29c3a098-870c-4c94-8f5a-f62e7328e046",
   "metadata": {},
   "outputs": [
    {
     "data": {
      "text/plain": [
       "4130"
      ]
     },
     "execution_count": 50,
     "metadata": {},
     "output_type": "execute_result"
    }
   ],
   "source": [
    "len(data['person_income'].unique())"
   ]
  },
  {
   "cell_type": "code",
   "execution_count": 52,
   "id": "c7e798f1-2c84-4c37-989b-7de221af00c0",
   "metadata": {},
   "outputs": [
    {
     "data": {
      "text/plain": [
       "749"
      ]
     },
     "execution_count": 52,
     "metadata": {},
     "output_type": "execute_result"
    }
   ],
   "source": [
    "len(data['loan_amnt'].unique())"
   ]
  },
  {
   "cell_type": "code",
   "execution_count": 55,
   "id": "afded286-567a-4b6d-b682-6698a57ab772",
   "metadata": {},
   "outputs": [
    {
     "data": {
      "text/plain": [
       "349"
      ]
     },
     "execution_count": 55,
     "metadata": {},
     "output_type": "execute_result"
    }
   ],
   "source": [
    "len(data['loan_int_rate'].unique())"
   ]
  },
  {
   "cell_type": "code",
   "execution_count": 56,
   "id": "91918e8a-55c1-4b25-bb8f-a25339bfd14d",
   "metadata": {},
   "outputs": [
    {
     "data": {
      "text/plain": [
       "77"
      ]
     },
     "execution_count": 56,
     "metadata": {},
     "output_type": "execute_result"
    }
   ],
   "source": [
    "len(data['loan_percent_income'].unique()) # rounded to 2 dp, so sort of a high number of unique values..."
   ]
  },
  {
   "cell_type": "code",
   "execution_count": 44,
   "id": "8fb0335b-8628-4899-8815-fea638701e13",
   "metadata": {},
   "outputs": [
    {
     "data": {
      "text/plain": [
       "348"
      ]
     },
     "execution_count": 44,
     "metadata": {},
     "output_type": "execute_result"
    }
   ],
   "source": [
    "len(data['loan_int_rate'].unique())"
   ]
  },
  {
   "cell_type": "code",
   "execution_count": 45,
   "id": "429c6a7b-f957-4745-944f-55b52896f420",
   "metadata": {},
   "outputs": [
    {
     "data": {
      "text/plain": [
       "array([0.1 , 0.57, 0.53, 0.55, 0.25, 0.45, 0.44, 0.42, 0.16, 0.41, 0.37,\n",
       "       0.32, 0.3 , 0.06, 0.29, 0.31, 0.22, 0.52, 0.14, 0.49, 0.13, 0.5 ,\n",
       "       0.35, 0.17, 0.27, 0.33, 0.08, 0.03, 0.21, 0.63, 0.47, 0.4 , 0.07,\n",
       "       0.38, 0.34, 0.04, 0.23, 0.11, 0.43, 0.51, 0.28, 0.19, 0.39, 0.09,\n",
       "       0.05, 0.15, 0.59, 0.18, 0.6 , 0.01, 0.48, 0.12, 0.54, 0.56, 0.46,\n",
       "       0.36, 0.24, 0.02, 0.26, 0.2 , 0.72, 0.64, 0.69, 0.77, 0.61, 0.83,\n",
       "       0.65, 0.67, 0.58, 0.71, 0.68, 0.7 , 0.66, 0.  , 0.76, 0.62, 0.78])"
      ]
     },
     "execution_count": 45,
     "metadata": {},
     "output_type": "execute_result"
    }
   ],
   "source": [
    "data['loan_percent_income'].unique()"
   ]
  },
  {
   "cell_type": "code",
   "execution_count": 46,
   "id": "ab913856-713c-46d1-889c-a69c65ac0322",
   "metadata": {},
   "outputs": [
    {
     "data": {
      "text/plain": [
       "77"
      ]
     },
     "execution_count": 46,
     "metadata": {},
     "output_type": "execute_result"
    }
   ],
   "source": [
    "len(data['loan_percent_income'].unique())"
   ]
  },
  {
   "cell_type": "markdown",
   "id": "34cc99cf-aa9a-4524-af39-25a2c5313d74",
   "metadata": {},
   "source": [
    "# Person Employment Length - Spurious Values"
   ]
  },
  {
   "cell_type": "code",
   "execution_count": 23,
   "id": "b6ffbd2b-ecbf-4796-9546-47bc609a5b25",
   "metadata": {},
   "outputs": [
    {
     "data": {
      "text/html": [
       "<div>\n",
       "<style scoped>\n",
       "    .dataframe tbody tr th:only-of-type {\n",
       "        vertical-align: middle;\n",
       "    }\n",
       "\n",
       "    .dataframe tbody tr th {\n",
       "        vertical-align: top;\n",
       "    }\n",
       "\n",
       "    .dataframe thead th {\n",
       "        text-align: right;\n",
       "    }\n",
       "</style>\n",
       "<table border=\"1\" class=\"dataframe\">\n",
       "  <thead>\n",
       "    <tr style=\"text-align: right;\">\n",
       "      <th></th>\n",
       "      <th>person_age</th>\n",
       "      <th>person_income</th>\n",
       "      <th>person_home_ownership</th>\n",
       "      <th>person_emp_length</th>\n",
       "      <th>loan_intent</th>\n",
       "      <th>loan_grade</th>\n",
       "      <th>loan_amnt</th>\n",
       "      <th>loan_int_rate</th>\n",
       "      <th>loan_percent_income</th>\n",
       "      <th>cb_person_default_on_file</th>\n",
       "      <th>cb_person_cred_hist_length</th>\n",
       "      <th>loan_status</th>\n",
       "    </tr>\n",
       "  </thead>\n",
       "  <tbody>\n",
       "  </tbody>\n",
       "</table>\n",
       "</div>"
      ],
      "text/plain": [
       "Empty DataFrame\n",
       "Columns: [person_age, person_income, person_home_ownership, person_emp_length, loan_intent, loan_grade, loan_amnt, loan_int_rate, loan_percent_income, cb_person_default_on_file, cb_person_cred_hist_length, loan_status]\n",
       "Index: []"
      ]
     },
     "execution_count": 23,
     "metadata": {},
     "output_type": "execute_result"
    }
   ],
   "source": [
    "data[data['person_emp_length'] > 100]"
   ]
  },
  {
   "cell_type": "code",
   "execution_count": 24,
   "id": "a1c69c53-5350-4e0a-ae86-a5ca1ec4ec23",
   "metadata": {},
   "outputs": [
    {
     "data": {
      "text/html": [
       "<div>\n",
       "<style scoped>\n",
       "    .dataframe tbody tr th:only-of-type {\n",
       "        vertical-align: middle;\n",
       "    }\n",
       "\n",
       "    .dataframe tbody tr th {\n",
       "        vertical-align: top;\n",
       "    }\n",
       "\n",
       "    .dataframe thead th {\n",
       "        text-align: right;\n",
       "    }\n",
       "</style>\n",
       "<table border=\"1\" class=\"dataframe\">\n",
       "  <thead>\n",
       "    <tr style=\"text-align: right;\">\n",
       "      <th></th>\n",
       "      <th>person_age</th>\n",
       "      <th>person_income</th>\n",
       "      <th>person_home_ownership</th>\n",
       "      <th>person_emp_length</th>\n",
       "      <th>loan_intent</th>\n",
       "      <th>loan_grade</th>\n",
       "      <th>loan_amnt</th>\n",
       "      <th>loan_int_rate</th>\n",
       "      <th>loan_percent_income</th>\n",
       "      <th>cb_person_default_on_file</th>\n",
       "      <th>cb_person_cred_hist_length</th>\n",
       "      <th>loan_status</th>\n",
       "    </tr>\n",
       "  </thead>\n",
       "  <tbody>\n",
       "  </tbody>\n",
       "</table>\n",
       "</div>"
      ],
      "text/plain": [
       "Empty DataFrame\n",
       "Columns: [person_age, person_income, person_home_ownership, person_emp_length, loan_intent, loan_grade, loan_amnt, loan_int_rate, loan_percent_income, cb_person_default_on_file, cb_person_cred_hist_length, loan_status]\n",
       "Index: []"
      ]
     },
     "execution_count": 24,
     "metadata": {},
     "output_type": "execute_result"
    }
   ],
   "source": [
    "data[data['person_emp_length'] < 0]"
   ]
  },
  {
   "cell_type": "code",
   "execution_count": 23,
   "id": "c9b360f4-449d-48b6-bffe-bad121cfd11d",
   "metadata": {},
   "outputs": [],
   "source": [
    "data = data[data['person_emp_length'] <= 100]"
   ]
  },
  {
   "cell_type": "code",
   "execution_count": 31,
   "id": "6510f2d9-aac6-42a1-b59b-d5f0068da1aa",
   "metadata": {},
   "outputs": [
    {
     "data": {
      "text/plain": [
       "31684"
      ]
     },
     "execution_count": 31,
     "metadata": {},
     "output_type": "execute_result"
    }
   ],
   "source": [
    "len(data)"
   ]
  },
  {
   "cell_type": "code",
   "execution_count": 32,
   "id": "e3d8fa20-699d-414a-ab7b-1a133eb5cf7e",
   "metadata": {},
   "outputs": [
    {
     "data": {
      "text/plain": [
       "32581"
      ]
     },
     "execution_count": 32,
     "metadata": {},
     "output_type": "execute_result"
    }
   ],
   "source": [
    "len(loan_approval_lib.load_original_data())"
   ]
  },
  {
   "cell_type": "code",
   "execution_count": 35,
   "id": "f6f51886-b8c1-416d-99d9-2552fdb2bb28",
   "metadata": {
    "scrolled": true
   },
   "outputs": [],
   "source": [
    "data_tmp_1 = loan_approval_lib.load_original_data()\n",
    "data_tmp_2 = loan_approval_lib.load_original_data()"
   ]
  },
  {
   "cell_type": "code",
   "execution_count": 36,
   "id": "56314e86-f7d7-4053-9e8d-6003ef5a0c7f",
   "metadata": {},
   "outputs": [
    {
     "data": {
      "text/html": [
       "<div>\n",
       "<style scoped>\n",
       "    .dataframe tbody tr th:only-of-type {\n",
       "        vertical-align: middle;\n",
       "    }\n",
       "\n",
       "    .dataframe tbody tr th {\n",
       "        vertical-align: top;\n",
       "    }\n",
       "\n",
       "    .dataframe thead th {\n",
       "        text-align: right;\n",
       "    }\n",
       "</style>\n",
       "<table border=\"1\" class=\"dataframe\">\n",
       "  <thead>\n",
       "    <tr style=\"text-align: right;\">\n",
       "      <th></th>\n",
       "      <th>person_age</th>\n",
       "      <th>person_income</th>\n",
       "      <th>person_home_ownership</th>\n",
       "      <th>person_emp_length</th>\n",
       "      <th>loan_intent</th>\n",
       "      <th>loan_grade</th>\n",
       "      <th>loan_amnt</th>\n",
       "      <th>loan_int_rate</th>\n",
       "      <th>loan_percent_income</th>\n",
       "      <th>cb_person_default_on_file</th>\n",
       "      <th>cb_person_cred_hist_length</th>\n",
       "      <th>loan_status</th>\n",
       "    </tr>\n",
       "  </thead>\n",
       "  <tbody>\n",
       "    <tr>\n",
       "      <th>0</th>\n",
       "      <td>22</td>\n",
       "      <td>59000</td>\n",
       "      <td>RENT</td>\n",
       "      <td>123.0</td>\n",
       "      <td>PERSONAL</td>\n",
       "      <td>D</td>\n",
       "      <td>35000</td>\n",
       "      <td>16.02</td>\n",
       "      <td>0.59</td>\n",
       "      <td>Y</td>\n",
       "      <td>3</td>\n",
       "      <td>1</td>\n",
       "    </tr>\n",
       "    <tr>\n",
       "      <th>210</th>\n",
       "      <td>21</td>\n",
       "      <td>192000</td>\n",
       "      <td>MORTGAGE</td>\n",
       "      <td>123.0</td>\n",
       "      <td>VENTURE</td>\n",
       "      <td>A</td>\n",
       "      <td>20000</td>\n",
       "      <td>6.54</td>\n",
       "      <td>0.10</td>\n",
       "      <td>N</td>\n",
       "      <td>4</td>\n",
       "      <td>0</td>\n",
       "    </tr>\n",
       "  </tbody>\n",
       "</table>\n",
       "</div>"
      ],
      "text/plain": [
       "     person_age  person_income person_home_ownership  person_emp_length  \\\n",
       "0            22          59000                  RENT              123.0   \n",
       "210          21         192000              MORTGAGE              123.0   \n",
       "\n",
       "    loan_intent loan_grade  loan_amnt  loan_int_rate  loan_percent_income  \\\n",
       "0      PERSONAL          D      35000          16.02                 0.59   \n",
       "210     VENTURE          A      20000           6.54                 0.10   \n",
       "\n",
       "    cb_person_default_on_file  cb_person_cred_hist_length  loan_status  \n",
       "0                           Y                           3            1  \n",
       "210                         N                           4            0  "
      ]
     },
     "execution_count": 36,
     "metadata": {},
     "output_type": "execute_result"
    }
   ],
   "source": [
    "data_tmp_1[data_tmp_1['person_emp_length'] > 100]"
   ]
  },
  {
   "cell_type": "code",
   "execution_count": 37,
   "id": "68192821-a2f8-40e3-81ff-8d5ee841416d",
   "metadata": {},
   "outputs": [
    {
     "data": {
      "text/plain": [
       "2"
      ]
     },
     "execution_count": 37,
     "metadata": {},
     "output_type": "execute_result"
    }
   ],
   "source": [
    "len(data_tmp_1[data_tmp_1['person_emp_length'] > 100])"
   ]
  },
  {
   "cell_type": "code",
   "execution_count": 40,
   "id": "c546a327-c29c-465a-8829-a3f02cbd652d",
   "metadata": {},
   "outputs": [
    {
     "data": {
      "text/plain": [
       "31684"
      ]
     },
     "execution_count": 40,
     "metadata": {},
     "output_type": "execute_result"
    }
   ],
   "source": [
    "len(data_tmp_2[data_tmp_2['person_emp_length'] <= 100])"
   ]
  },
  {
   "cell_type": "code",
   "execution_count": 43,
   "id": "05352118-48f7-4bd5-8b0d-87721cb49247",
   "metadata": {},
   "outputs": [],
   "source": [
    "data_tmp_2 = data_tmp_2[data_tmp_2['person_emp_length'] <= 100]"
   ]
  },
  {
   "cell_type": "code",
   "execution_count": 44,
   "id": "7269c211-3aec-418b-851c-10b15f4aee92",
   "metadata": {},
   "outputs": [
    {
     "name": "stdout",
     "output_type": "stream",
     "text": [
      "32581 31684 897\n"
     ]
    }
   ],
   "source": [
    "print(len(data_tmp_1), len(data_tmp_2), len(data_tmp_1) - len(data_tmp_2))"
   ]
  },
  {
   "cell_type": "code",
   "execution_count": 45,
   "id": "ce04ac4a-d53f-40e4-a91b-2dbe4d9f6f33",
   "metadata": {},
   "outputs": [
    {
     "data": {
      "text/html": [
       "<div>\n",
       "<style scoped>\n",
       "    .dataframe tbody tr th:only-of-type {\n",
       "        vertical-align: middle;\n",
       "    }\n",
       "\n",
       "    .dataframe tbody tr th {\n",
       "        vertical-align: top;\n",
       "    }\n",
       "\n",
       "    .dataframe thead th {\n",
       "        text-align: right;\n",
       "    }\n",
       "</style>\n",
       "<table border=\"1\" class=\"dataframe\">\n",
       "  <thead>\n",
       "    <tr style=\"text-align: right;\">\n",
       "      <th></th>\n",
       "      <th>person_age</th>\n",
       "      <th>person_income</th>\n",
       "      <th>person_home_ownership</th>\n",
       "      <th>person_emp_length</th>\n",
       "      <th>loan_intent</th>\n",
       "      <th>loan_grade</th>\n",
       "      <th>loan_amnt</th>\n",
       "      <th>loan_int_rate</th>\n",
       "      <th>loan_percent_income</th>\n",
       "      <th>cb_person_default_on_file</th>\n",
       "      <th>cb_person_cred_hist_length</th>\n",
       "      <th>loan_status</th>\n",
       "    </tr>\n",
       "  </thead>\n",
       "  <tbody>\n",
       "    <tr>\n",
       "      <th>32576</th>\n",
       "      <td>57</td>\n",
       "      <td>53000</td>\n",
       "      <td>MORTGAGE</td>\n",
       "      <td>1.0</td>\n",
       "      <td>PERSONAL</td>\n",
       "      <td>C</td>\n",
       "      <td>5800</td>\n",
       "      <td>13.16</td>\n",
       "      <td>0.11</td>\n",
       "      <td>N</td>\n",
       "      <td>30</td>\n",
       "      <td>0</td>\n",
       "    </tr>\n",
       "    <tr>\n",
       "      <th>32577</th>\n",
       "      <td>54</td>\n",
       "      <td>120000</td>\n",
       "      <td>MORTGAGE</td>\n",
       "      <td>4.0</td>\n",
       "      <td>PERSONAL</td>\n",
       "      <td>A</td>\n",
       "      <td>17625</td>\n",
       "      <td>7.49</td>\n",
       "      <td>0.15</td>\n",
       "      <td>N</td>\n",
       "      <td>19</td>\n",
       "      <td>0</td>\n",
       "    </tr>\n",
       "    <tr>\n",
       "      <th>32578</th>\n",
       "      <td>65</td>\n",
       "      <td>76000</td>\n",
       "      <td>RENT</td>\n",
       "      <td>3.0</td>\n",
       "      <td>HOMEIMPROVEMENT</td>\n",
       "      <td>B</td>\n",
       "      <td>35000</td>\n",
       "      <td>10.99</td>\n",
       "      <td>0.46</td>\n",
       "      <td>N</td>\n",
       "      <td>28</td>\n",
       "      <td>1</td>\n",
       "    </tr>\n",
       "    <tr>\n",
       "      <th>32579</th>\n",
       "      <td>56</td>\n",
       "      <td>150000</td>\n",
       "      <td>MORTGAGE</td>\n",
       "      <td>5.0</td>\n",
       "      <td>PERSONAL</td>\n",
       "      <td>B</td>\n",
       "      <td>15000</td>\n",
       "      <td>11.48</td>\n",
       "      <td>0.10</td>\n",
       "      <td>N</td>\n",
       "      <td>26</td>\n",
       "      <td>0</td>\n",
       "    </tr>\n",
       "    <tr>\n",
       "      <th>32580</th>\n",
       "      <td>66</td>\n",
       "      <td>42000</td>\n",
       "      <td>RENT</td>\n",
       "      <td>2.0</td>\n",
       "      <td>MEDICAL</td>\n",
       "      <td>B</td>\n",
       "      <td>6475</td>\n",
       "      <td>9.99</td>\n",
       "      <td>0.15</td>\n",
       "      <td>N</td>\n",
       "      <td>30</td>\n",
       "      <td>0</td>\n",
       "    </tr>\n",
       "  </tbody>\n",
       "</table>\n",
       "</div>"
      ],
      "text/plain": [
       "       person_age  person_income person_home_ownership  person_emp_length  \\\n",
       "32576          57          53000              MORTGAGE                1.0   \n",
       "32577          54         120000              MORTGAGE                4.0   \n",
       "32578          65          76000                  RENT                3.0   \n",
       "32579          56         150000              MORTGAGE                5.0   \n",
       "32580          66          42000                  RENT                2.0   \n",
       "\n",
       "           loan_intent loan_grade  loan_amnt  loan_int_rate  \\\n",
       "32576         PERSONAL          C       5800          13.16   \n",
       "32577         PERSONAL          A      17625           7.49   \n",
       "32578  HOMEIMPROVEMENT          B      35000          10.99   \n",
       "32579         PERSONAL          B      15000          11.48   \n",
       "32580          MEDICAL          B       6475           9.99   \n",
       "\n",
       "       loan_percent_income cb_person_default_on_file  \\\n",
       "32576                 0.11                         N   \n",
       "32577                 0.15                         N   \n",
       "32578                 0.46                         N   \n",
       "32579                 0.10                         N   \n",
       "32580                 0.15                         N   \n",
       "\n",
       "       cb_person_cred_hist_length  loan_status  \n",
       "32576                          30            0  \n",
       "32577                          19            0  \n",
       "32578                          28            1  \n",
       "32579                          26            0  \n",
       "32580                          30            0  "
      ]
     },
     "execution_count": 45,
     "metadata": {},
     "output_type": "execute_result"
    }
   ],
   "source": [
    "data_tmp_2.tail()"
   ]
  },
  {
   "cell_type": "code",
   "execution_count": 46,
   "id": "37d8573a-5468-461b-8458-d5745a9c6018",
   "metadata": {},
   "outputs": [
    {
     "data": {
      "text/html": [
       "<div>\n",
       "<style scoped>\n",
       "    .dataframe tbody tr th:only-of-type {\n",
       "        vertical-align: middle;\n",
       "    }\n",
       "\n",
       "    .dataframe tbody tr th {\n",
       "        vertical-align: top;\n",
       "    }\n",
       "\n",
       "    .dataframe thead th {\n",
       "        text-align: right;\n",
       "    }\n",
       "</style>\n",
       "<table border=\"1\" class=\"dataframe\">\n",
       "  <thead>\n",
       "    <tr style=\"text-align: right;\">\n",
       "      <th></th>\n",
       "      <th>person_age</th>\n",
       "      <th>person_income</th>\n",
       "      <th>person_home_ownership</th>\n",
       "      <th>person_emp_length</th>\n",
       "      <th>loan_intent</th>\n",
       "      <th>loan_grade</th>\n",
       "      <th>loan_amnt</th>\n",
       "      <th>loan_int_rate</th>\n",
       "      <th>loan_percent_income</th>\n",
       "      <th>cb_person_default_on_file</th>\n",
       "      <th>cb_person_cred_hist_length</th>\n",
       "      <th>loan_status</th>\n",
       "    </tr>\n",
       "  </thead>\n",
       "  <tbody>\n",
       "    <tr>\n",
       "      <th>32576</th>\n",
       "      <td>57</td>\n",
       "      <td>53000</td>\n",
       "      <td>MORTGAGE</td>\n",
       "      <td>1.0</td>\n",
       "      <td>PERSONAL</td>\n",
       "      <td>C</td>\n",
       "      <td>5800</td>\n",
       "      <td>13.16</td>\n",
       "      <td>0.11</td>\n",
       "      <td>N</td>\n",
       "      <td>30</td>\n",
       "      <td>0</td>\n",
       "    </tr>\n",
       "    <tr>\n",
       "      <th>32577</th>\n",
       "      <td>54</td>\n",
       "      <td>120000</td>\n",
       "      <td>MORTGAGE</td>\n",
       "      <td>4.0</td>\n",
       "      <td>PERSONAL</td>\n",
       "      <td>A</td>\n",
       "      <td>17625</td>\n",
       "      <td>7.49</td>\n",
       "      <td>0.15</td>\n",
       "      <td>N</td>\n",
       "      <td>19</td>\n",
       "      <td>0</td>\n",
       "    </tr>\n",
       "    <tr>\n",
       "      <th>32578</th>\n",
       "      <td>65</td>\n",
       "      <td>76000</td>\n",
       "      <td>RENT</td>\n",
       "      <td>3.0</td>\n",
       "      <td>HOMEIMPROVEMENT</td>\n",
       "      <td>B</td>\n",
       "      <td>35000</td>\n",
       "      <td>10.99</td>\n",
       "      <td>0.46</td>\n",
       "      <td>N</td>\n",
       "      <td>28</td>\n",
       "      <td>1</td>\n",
       "    </tr>\n",
       "    <tr>\n",
       "      <th>32579</th>\n",
       "      <td>56</td>\n",
       "      <td>150000</td>\n",
       "      <td>MORTGAGE</td>\n",
       "      <td>5.0</td>\n",
       "      <td>PERSONAL</td>\n",
       "      <td>B</td>\n",
       "      <td>15000</td>\n",
       "      <td>11.48</td>\n",
       "      <td>0.10</td>\n",
       "      <td>N</td>\n",
       "      <td>26</td>\n",
       "      <td>0</td>\n",
       "    </tr>\n",
       "    <tr>\n",
       "      <th>32580</th>\n",
       "      <td>66</td>\n",
       "      <td>42000</td>\n",
       "      <td>RENT</td>\n",
       "      <td>2.0</td>\n",
       "      <td>MEDICAL</td>\n",
       "      <td>B</td>\n",
       "      <td>6475</td>\n",
       "      <td>9.99</td>\n",
       "      <td>0.15</td>\n",
       "      <td>N</td>\n",
       "      <td>30</td>\n",
       "      <td>0</td>\n",
       "    </tr>\n",
       "  </tbody>\n",
       "</table>\n",
       "</div>"
      ],
      "text/plain": [
       "       person_age  person_income person_home_ownership  person_emp_length  \\\n",
       "32576          57          53000              MORTGAGE                1.0   \n",
       "32577          54         120000              MORTGAGE                4.0   \n",
       "32578          65          76000                  RENT                3.0   \n",
       "32579          56         150000              MORTGAGE                5.0   \n",
       "32580          66          42000                  RENT                2.0   \n",
       "\n",
       "           loan_intent loan_grade  loan_amnt  loan_int_rate  \\\n",
       "32576         PERSONAL          C       5800          13.16   \n",
       "32577         PERSONAL          A      17625           7.49   \n",
       "32578  HOMEIMPROVEMENT          B      35000          10.99   \n",
       "32579         PERSONAL          B      15000          11.48   \n",
       "32580          MEDICAL          B       6475           9.99   \n",
       "\n",
       "       loan_percent_income cb_person_default_on_file  \\\n",
       "32576                 0.11                         N   \n",
       "32577                 0.15                         N   \n",
       "32578                 0.46                         N   \n",
       "32579                 0.10                         N   \n",
       "32580                 0.15                         N   \n",
       "\n",
       "       cb_person_cred_hist_length  loan_status  \n",
       "32576                          30            0  \n",
       "32577                          19            0  \n",
       "32578                          28            1  \n",
       "32579                          26            0  \n",
       "32580                          30            0  "
      ]
     },
     "execution_count": 46,
     "metadata": {},
     "output_type": "execute_result"
    }
   ],
   "source": [
    "data_tmp_1.tail()"
   ]
  },
  {
   "cell_type": "code",
   "execution_count": 47,
   "id": "a8eb81ed-af4d-4d7a-bf57-f38670f9fe46",
   "metadata": {},
   "outputs": [],
   "source": [
    "data_tmp_1.to_csv('data_tmp_1.csv')\n",
    "data_tmp_2.to_csv('data_tmp_2.csv')"
   ]
  },
  {
   "cell_type": "markdown",
   "id": "fa2524b5-5753-4aa1-9183-3ec191e4de22",
   "metadata": {},
   "source": [
    "# Person Age - Spurious Values"
   ]
  },
  {
   "cell_type": "code",
   "execution_count": 25,
   "id": "3b95c4b0-7a15-4e8d-a88b-99643a881a6a",
   "metadata": {},
   "outputs": [
    {
     "data": {
      "text/html": [
       "<div>\n",
       "<style scoped>\n",
       "    .dataframe tbody tr th:only-of-type {\n",
       "        vertical-align: middle;\n",
       "    }\n",
       "\n",
       "    .dataframe tbody tr th {\n",
       "        vertical-align: top;\n",
       "    }\n",
       "\n",
       "    .dataframe thead th {\n",
       "        text-align: right;\n",
       "    }\n",
       "</style>\n",
       "<table border=\"1\" class=\"dataframe\">\n",
       "  <thead>\n",
       "    <tr style=\"text-align: right;\">\n",
       "      <th></th>\n",
       "      <th>person_age</th>\n",
       "      <th>person_income</th>\n",
       "      <th>person_home_ownership</th>\n",
       "      <th>person_emp_length</th>\n",
       "      <th>loan_intent</th>\n",
       "      <th>loan_grade</th>\n",
       "      <th>loan_amnt</th>\n",
       "      <th>loan_int_rate</th>\n",
       "      <th>loan_percent_income</th>\n",
       "      <th>cb_person_default_on_file</th>\n",
       "      <th>cb_person_cred_hist_length</th>\n",
       "      <th>loan_status</th>\n",
       "    </tr>\n",
       "  </thead>\n",
       "  <tbody>\n",
       "  </tbody>\n",
       "</table>\n",
       "</div>"
      ],
      "text/plain": [
       "Empty DataFrame\n",
       "Columns: [person_age, person_income, person_home_ownership, person_emp_length, loan_intent, loan_grade, loan_amnt, loan_int_rate, loan_percent_income, cb_person_default_on_file, cb_person_cred_hist_length, loan_status]\n",
       "Index: []"
      ]
     },
     "execution_count": 25,
     "metadata": {},
     "output_type": "execute_result"
    }
   ],
   "source": [
    "data[data['person_age'] > 100]"
   ]
  },
  {
   "cell_type": "code",
   "execution_count": 26,
   "id": "43961ffe-9d47-4ac8-b6cc-1d92cb589f18",
   "metadata": {},
   "outputs": [
    {
     "data": {
      "text/html": [
       "<div>\n",
       "<style scoped>\n",
       "    .dataframe tbody tr th:only-of-type {\n",
       "        vertical-align: middle;\n",
       "    }\n",
       "\n",
       "    .dataframe tbody tr th {\n",
       "        vertical-align: top;\n",
       "    }\n",
       "\n",
       "    .dataframe thead th {\n",
       "        text-align: right;\n",
       "    }\n",
       "</style>\n",
       "<table border=\"1\" class=\"dataframe\">\n",
       "  <thead>\n",
       "    <tr style=\"text-align: right;\">\n",
       "      <th></th>\n",
       "      <th>person_age</th>\n",
       "      <th>person_income</th>\n",
       "      <th>person_home_ownership</th>\n",
       "      <th>person_emp_length</th>\n",
       "      <th>loan_intent</th>\n",
       "      <th>loan_grade</th>\n",
       "      <th>loan_amnt</th>\n",
       "      <th>loan_int_rate</th>\n",
       "      <th>loan_percent_income</th>\n",
       "      <th>cb_person_default_on_file</th>\n",
       "      <th>cb_person_cred_hist_length</th>\n",
       "      <th>loan_status</th>\n",
       "    </tr>\n",
       "  </thead>\n",
       "  <tbody>\n",
       "  </tbody>\n",
       "</table>\n",
       "</div>"
      ],
      "text/plain": [
       "Empty DataFrame\n",
       "Columns: [person_age, person_income, person_home_ownership, person_emp_length, loan_intent, loan_grade, loan_amnt, loan_int_rate, loan_percent_income, cb_person_default_on_file, cb_person_cred_hist_length, loan_status]\n",
       "Index: []"
      ]
     },
     "execution_count": 26,
     "metadata": {},
     "output_type": "execute_result"
    }
   ],
   "source": [
    "data[data['person_age'] < 18]"
   ]
  },
  {
   "cell_type": "code",
   "execution_count": 69,
   "id": "37c46618-edfd-475f-bf4b-494eeddacfb3",
   "metadata": {},
   "outputs": [],
   "source": [
    "data = data[data['person_age'] <= 100]"
   ]
  },
  {
   "cell_type": "markdown",
   "id": "c6357063-16f6-49c4-8b5d-49c3d9900e46",
   "metadata": {},
   "source": [
    "# Perform Logistic Regression for all Numerical Columns"
   ]
  },
  {
   "cell_type": "markdown",
   "id": "662a10ca-11a6-4a56-9325-77d373c69987",
   "metadata": {},
   "source": [
    "## Person Age"
   ]
  },
  {
   "cell_type": "code",
   "execution_count": 78,
   "id": "d3d55baf-40a2-4bd5-8f8b-e0b3ea68127d",
   "metadata": {},
   "outputs": [
    {
     "name": "stdout",
     "output_type": "stream",
     "text": [
      "clf score: 0.7845575933583762\n",
      "20 94\n"
     ]
    },
    {
     "data": {
      "image/png": "[encoded data removed]",
      "text/plain": [
       "<Figure size 640x480 with 1 Axes>"
      ]
     },
     "metadata": {},
     "output_type": "display_data"
    }
   ],
   "source": [
    "column = 'person_age'\n",
    "\n",
    "x = data[column].to_numpy().reshape(-1, 1)\n",
    "y = data['loan_status'].to_numpy()\n",
    "\n",
    "model = sklearn.linear_model.LogisticRegression()\n",
    "clf = model.fit(x, y)\n",
    "\n",
    "print(f'clf score: {clf.score(x, y)}')\n",
    "\n",
    "x_min = x.min()\n",
    "x_max = x.max()\n",
    "print(x_min, x_max)\n",
    "xx = numpy.linspace(x_min, x_max, 100)\n",
    "#xx = numpy.linspace(-500, 500, 100)\n",
    "\n",
    "plt.plot(\n",
    "    xx,\n",
    "    clf.predict_proba(xx.reshape(-1, 1))[:, 1],\n",
    "    color='tab:green',\n",
    "    linewidth=2,\n",
    ")\n",
    "plt.xlabel(column)\n",
    "plt.ylabel('reject probability')\n",
    "None"
   ]
  },
  {
   "cell_type": "markdown",
   "id": "219b7a19-1963-41d3-8ae0-7a6f34c7e90a",
   "metadata": {},
   "source": [
    "## Person Income"
   ]
  },
  {
   "cell_type": "code",
   "execution_count": 79,
   "id": "4781fe3b-8516-4d54-93d5-4eb48c341a70",
   "metadata": {},
   "outputs": [
    {
     "name": "stdout",
     "output_type": "stream",
     "text": [
      "clf score: 0.7845575933583762\n",
      "4000 2039784\n"
     ]
    },
    {
     "data": {
      "image/png": "[encoded data removed]",
      "text/plain": [
       "<Figure size 640x480 with 1 Axes>"
      ]
     },
     "metadata": {},
     "output_type": "display_data"
    }
   ],
   "source": [
    "column = 'person_income'\n",
    "\n",
    "x = data[column].to_numpy().reshape(-1, 1)\n",
    "y = data['loan_status'].to_numpy()\n",
    "\n",
    "model = sklearn.linear_model.LogisticRegression()\n",
    "clf = model.fit(x, y)\n",
    "\n",
    "print(f'clf score: {clf.score(x, y)}')\n",
    "\n",
    "x_min = x.min()\n",
    "x_max = x.max()\n",
    "print(x_min, x_max)\n",
    "xx = numpy.linspace(x_min, x_max, 100)\n",
    "#xx = numpy.linspace(-500, 500, 100)\n",
    "\n",
    "plt.plot(\n",
    "    xx,\n",
    "    clf.predict_proba(xx.reshape(-1, 1))[:, 1],\n",
    "    color='tab:green',\n",
    "    linewidth=2,\n",
    ")\n",
    "plt.xlabel(column)\n",
    "plt.ylabel('reject probability')\n",
    "None"
   ]
  },
  {
   "cell_type": "markdown",
   "id": "51866c74-2fe6-4014-9c77-f845f8e56b6f",
   "metadata": {},
   "source": [
    "## Person Employment Length"
   ]
  },
  {
   "cell_type": "code",
   "execution_count": 73,
   "id": "ba774fab-a8e8-4597-af43-65d15f2b7914",
   "metadata": {},
   "outputs": [
    {
     "name": "stdout",
     "output_type": "stream",
     "text": [
      "clf score: 0.7845575933583762\n",
      "0.0 41.0\n"
     ]
    },
    {
     "data": {
      "image/png": "[encoded data removed]",
      "text/plain": [
       "<Figure size 640x480 with 1 Axes>"
      ]
     },
     "metadata": {},
     "output_type": "display_data"
    }
   ],
   "source": [
    "column = 'person_emp_length'\n",
    "\n",
    "x = data[column].to_numpy().reshape(-1, 1)\n",
    "y = data['loan_status'].to_numpy()\n",
    "\n",
    "model = sklearn.linear_model.LogisticRegression()\n",
    "clf = model.fit(x, y)\n",
    "\n",
    "print(f'clf score: {clf.score(x, y)}')\n",
    "\n",
    "x_min = x.min()\n",
    "x_max = x.max()\n",
    "print(x_min, x_max)\n",
    "xx = numpy.linspace(x_min, x_max, 100)\n",
    "#xx = numpy.linspace(-500, 500, 100)\n",
    "\n",
    "plt.plot(\n",
    "    xx,\n",
    "    clf.predict_proba(xx.reshape(-1, 1))[:, 1],\n",
    "    color='tab:green',\n",
    "    linewidth=2,\n",
    ")\n",
    "plt.xlabel(column)\n",
    "plt.ylabel('reject probability')\n",
    "None"
   ]
  },
  {
   "cell_type": "markdown",
   "id": "a944511e-3127-44e9-925e-130a0c4503bb",
   "metadata": {},
   "source": [
    "## Loan Amount"
   ]
  },
  {
   "cell_type": "code",
   "execution_count": 81,
   "id": "4f0787ba-4035-498c-9eb4-125ab04c455f",
   "metadata": {},
   "outputs": [
    {
     "name": "stdout",
     "output_type": "stream",
     "text": [
      "clf score: 0.7845575933583762\n",
      "500 35000\n"
     ]
    },
    {
     "data": {
      "image/png": "[encoded data removed]",
      "text/plain": [
       "<Figure size 640x480 with 1 Axes>"
      ]
     },
     "metadata": {},
     "output_type": "display_data"
    }
   ],
   "source": [
    "column = 'loan_amnt'\n",
    "\n",
    "x = data[column].to_numpy().reshape(-1, 1)\n",
    "y = data['loan_status'].to_numpy()\n",
    "\n",
    "model = sklearn.linear_model.LogisticRegression()\n",
    "clf = model.fit(x, y)\n",
    "\n",
    "print(f'clf score: {clf.score(x, y)}')\n",
    "\n",
    "x_min = x.min()\n",
    "x_max = x.max()\n",
    "print(x_min, x_max)\n",
    "xx = numpy.linspace(x_min, x_max, 100)\n",
    "#xx = numpy.linspace(-500, 500, 100)\n",
    "\n",
    "plt.plot(\n",
    "    xx,\n",
    "    clf.predict_proba(xx.reshape(-1, 1))[:, 1],\n",
    "    color='tab:green',\n",
    "    linewidth=2,\n",
    ")\n",
    "plt.xlabel(column)\n",
    "plt.ylabel('reject probability')\n",
    "None"
   ]
  },
  {
   "cell_type": "markdown",
   "id": "361e7221-1eea-454d-a53f-1166b227a107",
   "metadata": {},
   "source": [
    "## Loan Interest Rate"
   ]
  },
  {
   "cell_type": "code",
   "execution_count": 83,
   "id": "457f484d-0305-4d4c-88c7-73852108dc2a",
   "metadata": {},
   "outputs": [
    {
     "name": "stdout",
     "output_type": "stream",
     "text": [
      "clf score: 0.7969055602123498\n",
      "5.42 23.22\n"
     ]
    },
    {
     "data": {
      "image/png": "[encoded data removed]",
      "text/plain": [
       "<Figure size 640x480 with 1 Axes>"
      ]
     },
     "metadata": {},
     "output_type": "display_data"
    }
   ],
   "source": [
    "column = 'loan_int_rate'\n",
    "\n",
    "x = data[data[column].isna() == False][column].to_numpy().reshape(-1, 1)\n",
    "y = data[data[column].isna() == False]['loan_status'].to_numpy()\n",
    "\n",
    "model = sklearn.linear_model.LogisticRegression()\n",
    "clf = model.fit(x, y)\n",
    "\n",
    "print(f'clf score: {clf.score(x, y)}')\n",
    "\n",
    "x_min = x.min()\n",
    "x_max = x.max()\n",
    "print(x_min, x_max)\n",
    "xx = numpy.linspace(x_min, x_max, 100)\n",
    "#xx = numpy.linspace(-500, 500, 100)\n",
    "\n",
    "plt.plot(\n",
    "    xx,\n",
    "    clf.predict_proba(xx.reshape(-1, 1))[:, 1],\n",
    "    color='tab:green',\n",
    "    linewidth=2,\n",
    ")\n",
    "plt.xlabel(column)\n",
    "plt.ylabel('reject probability')\n",
    "None"
   ]
  },
  {
   "cell_type": "markdown",
   "id": "56b32c76-ac2e-405c-b0bf-5ac23caa973e",
   "metadata": {},
   "source": [
    "## Loan Percentage of Income"
   ]
  },
  {
   "cell_type": "code",
   "execution_count": 27,
   "id": "4f3662c8-1d90-4dcc-9f9b-9592cb718840",
   "metadata": {},
   "outputs": [
    {
     "name": "stdout",
     "output_type": "stream",
     "text": [
      "clf score: 0.8147177982676725\n",
      "0.0 0.83\n"
     ]
    },
    {
     "data": {
      "image/png": "[encoded data removed]",
      "text/plain": [
       "<Figure size 640x480 with 1 Axes>"
      ]
     },
     "metadata": {},
     "output_type": "display_data"
    }
   ],
   "source": [
    "column = 'loan_percent_income'\n",
    "\n",
    "x = data[column].to_numpy().reshape(-1, 1)\n",
    "y = data['loan_status'].to_numpy()\n",
    "\n",
    "model = sklearn.linear_model.LogisticRegression()\n",
    "clf = model.fit(x, y)\n",
    "\n",
    "print(f'clf score: {clf.score(x, y)}')\n",
    "\n",
    "x_min = x.min()\n",
    "x_max = x.max()\n",
    "print(x_min, x_max)\n",
    "xx = numpy.linspace(x_min, x_max, 100)\n",
    "#xx = numpy.linspace(-500, 500, 100)\n",
    "\n",
    "plt.plot(\n",
    "    xx,\n",
    "    clf.predict_proba(xx.reshape(-1, 1))[:, 1],\n",
    "    color='tab:green',\n",
    "    linewidth=2,\n",
    ")\n",
    "plt.xlabel(column)\n",
    "plt.ylabel('reject probability')\n",
    "None"
   ]
  },
  {
   "cell_type": "code",
   "execution_count": 29,
   "id": "2c56cdaf-d4cb-412e-bdbc-15c4d2cae76e",
   "metadata": {},
   "outputs": [
    {
     "data": {
      "text/plain": [
       "0.45477245694918267"
      ]
     },
     "execution_count": 29,
     "metadata": {},
     "output_type": "execute_result"
    }
   ],
   "source": [
    "# Save LL value for comparison later\n",
    "y_predict_proba = clf.predict_proba(x)\n",
    "log_loss_value_model_1 = log_loss(y, y_predict_proba)\n",
    "log_loss_value_model_1"
   ]
  },
  {
   "cell_type": "markdown",
   "id": "aab198da-323e-4dbd-bdc4-6ad641f57a39",
   "metadata": {},
   "source": [
    "## Credit History Length"
   ]
  },
  {
   "cell_type": "code",
   "execution_count": 85,
   "id": "2304a6c5-1397-48fe-a7e7-9ff88b28bbe7",
   "metadata": {},
   "outputs": [
    {
     "name": "stdout",
     "output_type": "stream",
     "text": [
      "clf score: 0.7845575933583762\n",
      "2 30\n"
     ]
    },
    {
     "data": {
      "image/png": "[encoded data removed]",
      "text/plain": [
       "<Figure size 640x480 with 1 Axes>"
      ]
     },
     "metadata": {},
     "output_type": "display_data"
    }
   ],
   "source": [
    "column = 'cb_person_cred_hist_length'\n",
    "\n",
    "x = data[column].to_numpy().reshape(-1, 1)\n",
    "y = data['loan_status'].to_numpy()\n",
    "\n",
    "model = sklearn.linear_model.LogisticRegression()\n",
    "clf = model.fit(x, y)\n",
    "\n",
    "print(f'clf score: {clf.score(x, y)}')\n",
    "\n",
    "x_min = x.min()\n",
    "x_max = x.max()\n",
    "print(x_min, x_max)\n",
    "xx = numpy.linspace(x_min, x_max, 100)\n",
    "#xx = numpy.linspace(-500, 500, 100)\n",
    "\n",
    "plt.plot(\n",
    "    xx,\n",
    "    clf.predict_proba(xx.reshape(-1, 1))[:, 1],\n",
    "    color='tab:green',\n",
    "    linewidth=2,\n",
    ")\n",
    "plt.xlabel(column)\n",
    "plt.ylabel('reject probability')\n",
    "None\n"
   ]
  },
  {
   "cell_type": "markdown",
   "id": "73d8caee-ead8-44b6-b9d6-befa8ac8b510",
   "metadata": {},
   "source": [
    "# Combine All Factors into Multidimensional Logistic Regression"
   ]
  },
  {
   "cell_type": "code",
   "execution_count": 102,
   "id": "74b22508-a632-4bdf-a7f6-f17e4c44cc35",
   "metadata": {},
   "outputs": [
    {
     "name": "stdout",
     "output_type": "stream",
     "text": [
      "[2.77306733e+01 6.64900992e+04 4.78206383e+00 9.65996244e+03\n",
      " 1.10397014e+01 1.69610152e-01 5.80921115e+00]\n",
      "[6.21332855e+00 5.27679606e+04 4.03488438e+00 6.33426058e+03\n",
      " 3.07012202e+00 1.06267212e-01 4.05964586e+00]\n",
      "clf score: 0.8310237065563938\n"
     ]
    }
   ],
   "source": [
    "# Collect input data arrays\n",
    "x_person_age = data['person_age'].to_numpy().reshape(-1, 1)\n",
    "x_person_income = data['person_income'].to_numpy().reshape(-1, 1)\n",
    "x_person_emp_length = data['person_emp_length'].to_numpy().reshape(-1, 1)\n",
    "x_loan_amnt = data['loan_amnt'].to_numpy().reshape(-1, 1)\n",
    "x_loan_int_rate = data['loan_int_rate'].to_numpy().reshape(-1, 1)\n",
    "x_loan_percent_income = data['loan_percent_income'].to_numpy().reshape(-1, 1)\n",
    "x_cb_person_cred_hist_length = data['cb_person_cred_hist_length'].to_numpy().reshape(-1, 1)\n",
    "\n",
    "# Remove NaN values by replacing with mean value\n",
    "x_loan_int_rate_no_nan = x_loan_int_rate[numpy.isfinite(x_loan_int_rate)]\n",
    "#print(f'l: {len(x_loan_int_rate_no_nan)}, {len(x_loan_int_rate)}')\n",
    "x_loan_int_rate_mean = x_loan_int_rate_no_nan.mean()\n",
    "#print(f'mean: {x_loan_int_rate_mean}')\n",
    "x_loan_int_rate[numpy.isnan(x_loan_int_rate)] = x_loan_int_rate_mean\n",
    "#print(x_loan_int_rate)\n",
    "\n",
    "x = numpy.concatenate([x_person_age, x_person_income, x_person_emp_length, x_loan_amnt, x_loan_int_rate, x_loan_percent_income, x_cb_person_cred_hist_length], axis=1)\n",
    "#print(x.shape)\n",
    "\n",
    "scaler = preprocessing.StandardScaler().fit(x)\n",
    "\n",
    "#print(scaler.mean_)\n",
    "#print(scaler.scale_)\n",
    "\n",
    "x_scaled = scaler.transform(x)\n",
    "\n",
    "y = data['loan_status'].to_numpy()\n",
    "#print(y.shape)\n",
    "\n",
    "model = sklearn.linear_model.LogisticRegression()\n",
    "clf = model.fit(x_scaled, y)\n",
    "\n",
    "print(f'clf score: {clf.score(x_scaled, y)}')"
   ]
  },
  {
   "cell_type": "markdown",
   "id": "a109ef16-e773-461d-ac57-5802e929a2dc",
   "metadata": {},
   "source": [
    "## Perform Prediction"
   ]
  },
  {
   "cell_type": "code",
   "execution_count": 103,
   "id": "d3b74a45-d018-40b4-acb8-9bd6e67bc0c0",
   "metadata": {},
   "outputs": [],
   "source": [
    "# Collect input data arrays\n",
    "x1_person_age = data_test['person_age'].to_numpy().reshape(-1, 1)\n",
    "x1_person_income = data_test['person_income'].to_numpy().reshape(-1, 1)\n",
    "x1_person_emp_length = data_test['person_emp_length'].to_numpy().reshape(-1, 1)\n",
    "x1_loan_amnt = data_test['loan_amnt'].to_numpy().reshape(-1, 1)\n",
    "x1_loan_int_rate = data_test['loan_int_rate'].to_numpy().reshape(-1, 1)\n",
    "x1_loan_percent_income = data_test['loan_percent_income'].to_numpy().reshape(-1, 1)\n",
    "x1_cb_person_cred_hist_length = data_test['cb_person_cred_hist_length'].to_numpy().reshape(-1, 1)\n",
    "\n",
    "# Remove NaN values by replacing with mean value\n",
    "x1_loan_int_rate_no_nan = x1_loan_int_rate[numpy.isfinite(x1_loan_int_rate)]\n",
    "x1_loan_int_rate_mean = x1_loan_int_rate_no_nan.mean()\n",
    "x1_loan_int_rate[numpy.isnan(x1_loan_int_rate)] = x1_loan_int_rate_mean\n",
    "\n",
    "x1 = numpy.concatenate([x1_person_age, x1_person_income, x1_person_emp_length, x1_loan_amnt, x1_loan_int_rate, x1_loan_percent_income, x1_cb_person_cred_hist_length], axis=1)\n",
    "\n",
    "x1_scaled = scaler.transform(x1)\n",
    "\n",
    "y1 = clf.predict_proba(x1)\n",
    "\n",
    "data_test_predict_logistic_all = pandas.DataFrame(\n",
    "    {\n",
    "        'id': data_test['id'],\n",
    "        'loan_status': y1[:, 1],\n",
    "    }\n",
    ")\n",
    "\n",
    "data_test_predict_logistic_all[['id', 'loan_status']].to_csv('data_test_predict_original_2-logistic_all.csv', index=False)"
   ]
  },
  {
   "cell_type": "code",
   "execution_count": null,
   "id": "b4ef4ad7-a86e-4989-a007-2ddf186253d6",
   "metadata": {},
   "outputs": [],
   "source": [
    "# TODO: all the output values are nonsensical. re-run with less columns..."
   ]
  },
  {
   "cell_type": "markdown",
   "id": "fa620e44-03c1-4d0b-8e91-ef8855f7c3f8",
   "metadata": {},
   "source": [
    "# Combine 2 best predictors"
   ]
  },
  {
   "cell_type": "markdown",
   "id": "8db5f3e6-4654-4a79-83a1-e67952dba395",
   "metadata": {},
   "source": [
    "## Find the best predictors"
   ]
  },
  {
   "cell_type": "code",
   "execution_count": 82,
   "id": "feb3e3ee-503d-4210-b307-2ea444892e5d",
   "metadata": {},
   "outputs": [
    {
     "data": {
      "text/plain": [
       "(22430, 6202, 0)"
      ]
     },
     "execution_count": 82,
     "metadata": {},
     "output_type": "execute_result"
    }
   ],
   "source": [
    "len(data[data['loan_status'] == 0]), len(data[data['loan_status'] == 1]), len(data[~data['loan_status'].isin([0, 1])])"
   ]
  },
  {
   "cell_type": "code",
   "execution_count": 85,
   "id": "068a7612-18fe-4802-bbd0-38680b91fed6",
   "metadata": {},
   "outputs": [
    {
     "data": {
      "text/plain": [
       "0.7833892148644873"
      ]
     },
     "execution_count": 85,
     "metadata": {},
     "output_type": "execute_result"
    }
   ],
   "source": [
    "count_loan_status_0 = len(data[data['loan_status'] == 0])\n",
    "count_loan_status_1 = len(data[data['loan_status'] == 1])\n",
    "base_accuracy = count_loan_status_0 / (count_loan_status_0 + count_loan_status_1)\n",
    "base_accuracy"
   ]
  },
  {
   "cell_type": "code",
   "execution_count": 86,
   "id": "a6c40199-deca-4e5e-af82-94ebf10c33f8",
   "metadata": {},
   "outputs": [
    {
     "name": "stdout",
     "output_type": "stream",
     "text": [
      "column: person_age\n",
      "clf score - base_accuracy: 0.0\n",
      "x range: 20, 84\n",
      "column: person_income\n",
      "clf score - base_accuracy: 0.0\n",
      "x range: 4000, 2039784\n",
      "column: person_emp_length\n",
      "clf score - base_accuracy: 0.0\n",
      "x range: 0.0, 41.0\n",
      "column: loan_amnt\n",
      "clf score - base_accuracy: 0.0\n",
      "x range: 500, 35000\n",
      "column: loan_int_rate\n",
      "clf score - base_accuracy: 0.013516345347862502\n",
      "x range: 5.42, 23.22\n",
      "column: loan_percent_income\n",
      "clf score - base_accuracy: 0.03132858340318523\n",
      "x range: 0.0, 0.83\n",
      "column: cb_person_cred_hist_length\n",
      "clf score - base_accuracy: 0.0\n",
      "x range: 2, 30\n"
     ]
    },
    {
     "data": {
      "image/png": "[encoded data removed]",
      "text/plain": [
       "<Figure size 640x480 with 1 Axes>"
      ]
     },
     "metadata": {},
     "output_type": "display_data"
    },
    {
     "data": {
      "image/png": "[encoded data removed]",
      "text/plain": [
       "<Figure size 640x480 with 1 Axes>"
      ]
     },
     "metadata": {},
     "output_type": "display_data"
    },
    {
     "data": {
      "image/png": "[encoded data removed]",
      "text/plain": [
       "<Figure size 640x480 with 1 Axes>"
      ]
     },
     "metadata": {},
     "output_type": "display_data"
    },
    {
     "data": {
      "image/png": "[encoded data removed]",
      "text/plain": [
       "<Figure size 640x480 with 1 Axes>"
      ]
     },
     "metadata": {},
     "output_type": "display_data"
    },
    {
     "data": {
      "image/png": "[encoded data removed]",
      "text/plain": [
       "<Figure size 640x480 with 1 Axes>"
      ]
     },
     "metadata": {},
     "output_type": "display_data"
    },
    {
     "data": {
      "image/png": "[encoded data removed]",
      "text/plain": [
       "<Figure size 640x480 with 1 Axes>"
      ]
     },
     "metadata": {},
     "output_type": "display_data"
    },
    {
     "data": {
      "image/png": "[encoded data removed]",
      "text/plain": [
       "<Figure size 640x480 with 1 Axes>"
      ]
     },
     "metadata": {},
     "output_type": "display_data"
    }
   ],
   "source": [
    "columns = [\n",
    "    'person_age',\n",
    "    'person_income',\n",
    "    'person_emp_length',\n",
    "    'loan_amnt',\n",
    "    'loan_int_rate',\n",
    "    'loan_percent_income',\n",
    "    'cb_person_cred_hist_length',\n",
    "]\n",
    "\n",
    "x_dict = {}\n",
    "y_dict = {}\n",
    "clf_dict = {}\n",
    "\n",
    "for column in columns:\n",
    "    print(f'column: {column}')\n",
    "    x_dict[column] = data[column].to_numpy().reshape(-1, 1)\n",
    "    y_dict[column] = data['loan_status'].to_numpy()\n",
    "\n",
    "    model = sklearn.linear_model.LogisticRegression()\n",
    "    clf_dict[column] = model.fit(x_dict[column], y_dict[column])\n",
    "\n",
    "    print(f'clf score - base_accuracy: {clf_dict[column].score(x_dict[column], y_dict[column]) - base_accuracy}')\n",
    "\n",
    "    x_min = x_dict[column].min()\n",
    "    x_max = x_dict[column].max()\n",
    "    print(f'x range: {x_min}, {x_max}')\n",
    "    xx = numpy.linspace(x_min, x_max, 100)\n",
    "    #xx = numpy.linspace(-500, 500, 100)\n",
    "\n",
    "    plt.figure()\n",
    "    plt.plot(\n",
    "        xx,\n",
    "        clf_dict[column].predict_proba(xx.reshape(-1, 1))[:, 1],\n",
    "        color='tab:green',\n",
    "        linewidth=2,\n",
    "    )\n",
    "    plt.xlabel(column)\n",
    "    plt.ylabel('reject probability')\n",
    "\n",
    "None"
   ]
  },
  {
   "cell_type": "markdown",
   "id": "7e8fe0ed-b614-4d20-8ff3-829943801114",
   "metadata": {},
   "source": [
    "## Run analysis"
   ]
  },
  {
   "cell_type": "code",
   "execution_count": 30,
   "id": "cf34c795-a75e-4036-9b8b-b69707549cd1",
   "metadata": {},
   "outputs": [
    {
     "name": "stdout",
     "output_type": "stream",
     "text": [
      "clf score: 0.8233445096395641\n"
     ]
    }
   ],
   "source": [
    "# Collect input data arrays\n",
    "x_person_age = data['person_age'].to_numpy().reshape(-1, 1)\n",
    "x_person_income = data['person_income'].to_numpy().reshape(-1, 1)\n",
    "x_person_emp_length = data['person_emp_length'].to_numpy().reshape(-1, 1)\n",
    "x_loan_amnt = data['loan_amnt'].to_numpy().reshape(-1, 1)\n",
    "x_loan_int_rate = data['loan_int_rate'].to_numpy().reshape(-1, 1)\n",
    "x_loan_percent_income = data['loan_percent_income'].to_numpy().reshape(-1, 1)\n",
    "x_cb_person_cred_hist_length = data['cb_person_cred_hist_length'].to_numpy().reshape(-1, 1)\n",
    "\n",
    "# Remove NaN values by replacing with mean value\n",
    "x_loan_int_rate_no_nan = x_loan_int_rate[numpy.isfinite(x_loan_int_rate)]\n",
    "#print(f'l: {len(x_loan_int_rate_no_nan)}, {len(x_loan_int_rate)}')\n",
    "x_loan_int_rate_mean = x_loan_int_rate_no_nan.mean()\n",
    "#print(f'mean: {x_loan_int_rate_mean}')\n",
    "x_loan_int_rate[numpy.isnan(x_loan_int_rate)] = x_loan_int_rate_mean\n",
    "#print(x_loan_int_rate)\n",
    "\n",
    "x = numpy.concatenate([x_loan_int_rate, x_loan_percent_income], axis=1)\n",
    "#print(x.shape)\n",
    "\n",
    "scaler = preprocessing.StandardScaler().fit(x)\n",
    "\n",
    "#print(scaler.mean_)\n",
    "#print(scaler.scale_)\n",
    "\n",
    "x_scaled = scaler.transform(x)\n",
    "\n",
    "y = data['loan_status'].to_numpy()\n",
    "#print(y.shape)\n",
    "\n",
    "model = sklearn.linear_model.LogisticRegression()\n",
    "clf = model.fit(x_scaled, y)\n",
    "\n",
    "print(f'clf score: {clf.score(x_scaled, y)}')"
   ]
  },
  {
   "cell_type": "code",
   "execution_count": 31,
   "id": "09326b4d-41f8-48f2-b4a4-d888c315b62b",
   "metadata": {},
   "outputs": [
    {
     "name": "stdout",
     "output_type": "stream",
     "text": [
      "x range: 4.0, 25.0\n",
      "y range: 0.0, 1.0\n"
     ]
    },
    {
     "data": {
      "image/png": "[encoded data removed]",
      "text/plain": [
       "<Figure size 640x480 with 2 Axes>"
      ]
     },
     "metadata": {},
     "output_type": "display_data"
    }
   ],
   "source": [
    "x_min = 4.0 #x_loan_int_rate.min()\n",
    "x_max = 25.0 #x_loan_int_rate.max()\n",
    "\n",
    "y_min = 0.0 #x_loan_percent_income.min()\n",
    "y_max = 1.0 #x_loan_percent_income.max()\n",
    "\n",
    "print(f'x range: {x_min}, {x_max}')\n",
    "print(f'y range: {y_min}, {y_max}')\n",
    "xx = numpy.linspace(x_min, x_max, 100)\n",
    "yy = numpy.linspace(y_min, y_max, 100)\n",
    "\n",
    "meshgrid_x, meshgrid_y = numpy.meshgrid(xx, yy)\n",
    "xxyy = numpy.column_stack((meshgrid_x.flatten(), meshgrid_y.flatten()))\n",
    "xxyy_scaled = scaler.transform(xxyy)\n",
    "zz = clf.predict_proba(xxyy_scaled)[:, 1]\n",
    "zz = zz.reshape(meshgrid_x.shape)\n",
    "\n",
    "plt.pcolormesh(meshgrid_x, meshgrid_y, zz)\n",
    "plt.colorbar(label='reject probability')\n",
    "plt.xlabel('loan_int_rate')\n",
    "plt.ylabel('loan_percent_income')\n",
    "None"
   ]
  },
  {
   "cell_type": "code",
   "execution_count": 32,
   "id": "328ff517-825b-451c-9a82-9950356565b2",
   "metadata": {},
   "outputs": [],
   "source": [
    "x1 = numpy.concat(\n",
    "    [\n",
    "        data_test['loan_int_rate'].to_numpy().reshape(-1, 1),\n",
    "        data_test['loan_percent_income'].to_numpy().reshape(-1, 1),\n",
    "    ],\n",
    "    axis=1,\n",
    ")\n",
    "x1_scaled = scaler.transform(x1)\n",
    "y1 = clf.predict_proba(x1_scaled)\n",
    "\n",
    "data_predict = pandas.DataFrame(\n",
    "    {\n",
    "        'id': data_test['id'],\n",
    "        'loan_status': y1[:, 1],\n",
    "    }\n",
    ")"
   ]
  },
  {
   "cell_type": "code",
   "execution_count": 116,
   "id": "a0b15c18-9381-470e-ba7f-1d8d0d23ced3",
   "metadata": {},
   "outputs": [],
   "source": [
    "data_predict.to_csv('data_test_predict_original_2-logistic_loan_int_rate_loan_percent_income.csv', index=False)"
   ]
  },
  {
   "cell_type": "markdown",
   "id": "35246a81-70ac-49af-b76d-00c685d4df9b",
   "metadata": {},
   "source": [
    "# Calculate Log Likelihood"
   ]
  },
  {
   "cell_type": "code",
   "execution_count": 34,
   "id": "b2ec3625-ba3f-445c-802a-25e99ef2552a",
   "metadata": {},
   "outputs": [
    {
     "data": {
      "text/plain": [
       "0.40104117523060107"
      ]
     },
     "execution_count": 34,
     "metadata": {},
     "output_type": "execute_result"
    }
   ],
   "source": [
    "y_predict_proba = clf.predict_proba(x_scaled)\n",
    "log_loss_value_model_2 = log_loss(y, y_predict_proba)\n",
    "log_loss_value_model_2"
   ]
  },
  {
   "cell_type": "code",
   "execution_count": 35,
   "id": "a6216eb7-c149-4b58-9db0-0e80b2f5de56",
   "metadata": {},
   "outputs": [
    {
     "data": {
      "text/plain": [
       "1.0904550861016347"
      ]
     },
     "execution_count": 35,
     "metadata": {},
     "output_type": "execute_result"
    }
   ],
   "source": [
    "AIC_model_1 = 2 * 1 - 2 * log_loss_value_model_1\n",
    "AIC_model_1"
   ]
  },
  {
   "cell_type": "code",
   "execution_count": 36,
   "id": "a224c30b-d153-470c-888f-eafc12ff46f6",
   "metadata": {},
   "outputs": [
    {
     "data": {
      "text/plain": [
       "3.1979176495387978"
      ]
     },
     "execution_count": 36,
     "metadata": {},
     "output_type": "execute_result"
    }
   ],
   "source": [
    "AIC_model_2 = 2 * 2 - 2 * log_loss_value_model_2\n",
    "AIC_model_2"
   ]
  },
  {
   "cell_type": "markdown",
   "id": "5602d3dd-66b5-454e-838f-d0fee6a7285d",
   "metadata": {},
   "source": [
    "# Compare the above LL value with the value from the model with 1 less parameter\n",
    "\n",
    "- Since model 1, the 1 parameter model, has a smaller AIC value, this is the preferred model\n",
    "- The Log-Likelihood values of both models are approximatly equal\n",
    "- Adding an additional parameter adds an additional penalty term of 3\n",
    "- Since the Log-Likelihood values are smaller than 1, the penalty term dominates\n",
    "- From this, the conclusion is that a single parameter model is preferred"
   ]
  },
  {
   "cell_type": "code",
   "execution_count": null,
   "id": "db34808a-df5d-487f-8be1-86eac929f67a",
   "metadata": {},
   "outputs": [],
   "source": []
  }
 ],
 "metadata": {
  "kernelspec": {
   "display_name": "Python 3 (ipykernel)",
   "language": "python",
   "name": "python3"
  },
  "language_info": {
   "codemirror_mode": {
    "name": "ipython",
    "version": 3
   },
   "file_extension": ".py",
   "mimetype": "text/x-python",
   "name": "python",
   "nbconvert_exporter": "python",
   "pygments_lexer": "ipython3",
   "version": "3.12.7"
  }
 },
 "nbformat": 4,
 "nbformat_minor": 5
}
