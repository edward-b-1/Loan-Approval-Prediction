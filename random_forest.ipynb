{
 "cells": [
  {
   "cell_type": "markdown",
   "id": "be0a1d31-0831-4afc-9977-03d37c8967cd",
   "metadata": {},
   "source": [
    "# Random Forest Model"
   ]
  },
  {
   "cell_type": "code",
   "execution_count": 1,
   "id": "39525f39-782e-4151-a57c-71541746f3c8",
   "metadata": {},
   "outputs": [],
   "source": [
    "%load_ext autoreload\n",
    "%autoreload 2"
   ]
  },
  {
   "cell_type": "code",
   "execution_count": 2,
   "id": "23d0d52b-ab0a-4679-83b5-a69f476befef",
   "metadata": {},
   "outputs": [],
   "source": [
    "import math\n",
    "import pandas\n",
    "import numpy\n",
    "import itertools\n",
    "import matplotlib.pyplot as plt\n",
    "import sklearn\n",
    "from sklearn import tree\n",
    "from sklearn import ensemble\n",
    "from sklearn.metrics import log_loss\n",
    "from sklearn.preprocessing import OrdinalEncoder\n",
    "from sklearn.preprocessing import OneHotEncoder\n",
    "from sklearn.naive_bayes import CategoricalNB"
   ]
  },
  {
   "cell_type": "code",
   "execution_count": 3,
   "id": "8894622e-5c4b-4e87-8cdc-fc7d481131c5",
   "metadata": {},
   "outputs": [],
   "source": [
    "import loan_approval_lib\n",
    "from loan_approval_lib import logspace, linspace"
   ]
  },
  {
   "cell_type": "code",
   "execution_count": 4,
   "id": "94626a76-1b9a-4d79-8d5e-7ee6bb5280de",
   "metadata": {},
   "outputs": [],
   "source": [
    "from loan_approval_lib.standard_data_processing import data_cleaning_algorithm\n",
    "from loan_approval_lib.standard_data_processing import create_loan_grade_numerical_from_loan_grade\n",
    "from loan_approval_lib.standard_data_processing import create_person_home_ownership_one_hot_encoder\n",
    "from loan_approval_lib.standard_data_processing import create_person_home_ownership_one_hot\n",
    "from loan_approval_lib.standard_data_processing import create_loan_intent_one_hot_encoder\n",
    "from loan_approval_lib.standard_data_processing import create_loan_intent_one_hot\n",
    "from loan_approval_lib.standard_data_processing import map_cb_person_default_on_file\n",
    "from loan_approval_lib.standard_data_processing import create_decision_tree_columns\n",
    "from loan_approval_lib.standard_data_processing import create_decision_tree_columns_with_id\n",
    "from loan_approval_lib.standard_data_processing import create_dataframe_copy_and_drop_columns\n",
    "from loan_approval_lib.standard_data_processing import create_decision_tree_columns\n",
    "from loan_approval_lib.standard_data_processing import create_decision_tree_columns_with_id"
   ]
  },
  {
   "cell_type": "code",
   "execution_count": 5,
   "id": "2ba61c91-3038-4bd4-b252-48177a53baec",
   "metadata": {},
   "outputs": [],
   "source": [
    "data = loan_approval_lib.load_original_data()"
   ]
  },
  {
   "cell_type": "code",
   "execution_count": 6,
   "id": "9ef82b2e-3727-4e2b-96c3-6925340d35fe",
   "metadata": {},
   "outputs": [],
   "source": [
    "data_train = loan_approval_lib.load_data_train()"
   ]
  },
  {
   "cell_type": "code",
   "execution_count": 7,
   "id": "dfb4df89-aca7-41a4-bc6f-7202fe838678",
   "metadata": {},
   "outputs": [],
   "source": [
    "data_test = loan_approval_lib.load_data_test()"
   ]
  },
  {
   "cell_type": "markdown",
   "id": "5ad8ade1-61cb-4496-9163-4d1755f0514d",
   "metadata": {},
   "source": [
    "# Data Cleaning, Data Preprocessing"
   ]
  },
  {
   "cell_type": "code",
   "execution_count": 8,
   "id": "1f850b7e-498e-4566-8d82-59b85fbd35a5",
   "metadata": {},
   "outputs": [
    {
     "name": "stdout",
     "output_type": "stream",
     "text": [
      "column person_age, number of removed rows: 5\n",
      "column person_income, number of removed rows: 0\n",
      "column person_emp_length, number of removed rows: 897\n",
      "column loan_amnt, number of removed rows: 0\n",
      "column loan_int_rate, number of removed rows: 3047\n",
      "column loan_percent_income, number of removed rows: 0\n",
      "column cb_person_default_on_file, number of removed rows: 0\n"
     ]
    }
   ],
   "source": [
    "data = data_cleaning_algorithm(data)"
   ]
  },
  {
   "cell_type": "code",
   "execution_count": 9,
   "id": "d0b07d04-341f-4fd7-ae3c-eda234f89f9c",
   "metadata": {},
   "outputs": [
    {
     "name": "stdout",
     "output_type": "stream",
     "text": [
      "column person_age, number of removed rows: 1\n",
      "column person_income, number of removed rows: 0\n",
      "column person_emp_length, number of removed rows: 2\n",
      "column loan_amnt, number of removed rows: 0\n",
      "column loan_int_rate, number of removed rows: 0\n",
      "column loan_percent_income, number of removed rows: 0\n",
      "column cb_person_default_on_file, number of removed rows: 0\n"
     ]
    }
   ],
   "source": [
    "data_train = data_cleaning_algorithm(data_train)"
   ]
  },
  {
   "cell_type": "code",
   "execution_count": 10,
   "id": "f23b192b-32a9-4067-a217-cbdeac3bc253",
   "metadata": {},
   "outputs": [
    {
     "name": "stdout",
     "output_type": "stream",
     "text": [
      "column person_age, number of removed rows: 0\n",
      "column person_income, number of removed rows: 0\n",
      "column person_emp_length, number of removed rows: 0\n",
      "column loan_amnt, number of removed rows: 0\n",
      "column loan_int_rate, number of removed rows: 0\n",
      "column loan_percent_income, number of removed rows: 0\n",
      "column cb_person_default_on_file, number of removed rows: 0\n"
     ]
    }
   ],
   "source": [
    "data_cleaning_algorithm(data_test)\n",
    "None"
   ]
  },
  {
   "cell_type": "code",
   "execution_count": 10,
   "id": "5d3964d8-90b8-4dcc-8d62-e3fc4cb6760d",
   "metadata": {},
   "outputs": [],
   "source": [
    "# Loan Grade\n",
    "\n",
    "create_loan_grade_numerical_from_loan_grade(data, data_train, data_test)"
   ]
  },
  {
   "cell_type": "code",
   "execution_count": 11,
   "id": "63055258-e2d8-4de9-8238-63a96590d512",
   "metadata": {},
   "outputs": [],
   "source": [
    "# Person Home Ownership\n",
    "\n",
    "encoder = create_person_home_ownership_one_hot_encoder(data)\n",
    "\n",
    "data = create_person_home_ownership_one_hot(encoder, data)\n",
    "data_train = create_person_home_ownership_one_hot(encoder, data_train)\n",
    "data_test = create_person_home_ownership_one_hot(encoder, data_test)"
   ]
  },
  {
   "cell_type": "code",
   "execution_count": 12,
   "id": "34e392f6-5f10-4608-9ea1-e5e733e438f1",
   "metadata": {},
   "outputs": [],
   "source": [
    "# Loan Intent\n",
    "\n",
    "encoder = create_loan_intent_one_hot_encoder(data)\n",
    "\n",
    "data = create_loan_intent_one_hot(encoder, data)\n",
    "data_train = create_loan_intent_one_hot(encoder, data_train)\n",
    "data_test = create_loan_intent_one_hot(encoder, data_test)"
   ]
  },
  {
   "cell_type": "code",
   "execution_count": 13,
   "id": "4078c821-4dea-43d1-80f1-0d393c77db48",
   "metadata": {},
   "outputs": [],
   "source": [
    "# Default On File\n",
    "\n",
    "data = map_cb_person_default_on_file(data)\n",
    "data_train = map_cb_person_default_on_file(data_train)\n",
    "data_test = map_cb_person_default_on_file(data_test)"
   ]
  },
  {
   "cell_type": "markdown",
   "id": "a448c73d-4eb0-41a8-9ca6-4c72a136b9d9",
   "metadata": {},
   "source": [
    "# Choose Columns for Tree Model, Copy DataFrame and Drop Unused Columns"
   ]
  },
  {
   "cell_type": "code",
   "execution_count": 14,
   "id": "a27e4135-341c-4f43-935f-76cdc3d7f3dd",
   "metadata": {},
   "outputs": [],
   "source": [
    "decision_tree_columns = create_decision_tree_columns()\n",
    "decision_tree_columns_with_id = create_decision_tree_columns_with_id()"
   ]
  },
  {
   "cell_type": "code",
   "execution_count": 15,
   "id": "1bc9a7a5-3e17-426b-87e5-f4e6ee1838a9",
   "metadata": {},
   "outputs": [],
   "source": [
    "data_copy = create_dataframe_copy_and_drop_columns(data)\n",
    "data_train_copy = create_dataframe_copy_and_drop_columns(data_train)\n",
    "data_test_copy = create_dataframe_copy_and_drop_columns(data_test)"
   ]
  },
  {
   "cell_type": "markdown",
   "id": "e523524b-9828-4ab9-8e99-a96533c26a9b",
   "metadata": {},
   "source": [
    "# Random Forest Model"
   ]
  },
  {
   "cell_type": "code",
   "execution_count": 40,
   "id": "48d8fe9f-2fc5-41f3-90b7-a31d246b0a68",
   "metadata": {},
   "outputs": [],
   "source": [
    "def random_forest_model_train(\n",
    "    data_train,\n",
    "    decision_tree_columns,\n",
    "    n_estimators,\n",
    "    max_features,\n",
    "    max_depth,\n",
    "    min_samples_split,\n",
    "    min_samples_leaf,\n",
    "    bootstrap,\n",
    "    n_jobs,\n",
    "):\n",
    "\n",
    "    X = data_train[decision_tree_columns].copy()\n",
    "    Y = data_train['loan_status'].copy()\n",
    "    \n",
    "    clf = ensemble.RandomForestClassifier(\n",
    "        n_estimators=n_estimators,\n",
    "        criterion='entropy',\n",
    "        max_features=max_features,\n",
    "        max_depth=max_depth,\n",
    "        min_samples_split=min_samples_split,\n",
    "        min_samples_leaf=min_samples_leaf,\n",
    "        bootstrap=bootstrap,\n",
    "        n_jobs=n_jobs,\n",
    "        oob_score=True,\n",
    "        \n",
    "    )\n",
    "    clf.fit(X, Y)\n",
    "    \n",
    "    Z = clf.predict(X)\n",
    "    X['loan_status_predict'] = Z\n",
    "    X['loan_status'] = data_train['loan_status']\n",
    "    accuracy_in_sample = (X['loan_status'] == X['loan_status_predict']).sum() / len(X)\n",
    "    \n",
    "    return (clf, accuracy_in_sample)"
   ]
  },
  {
   "cell_type": "code",
   "execution_count": 17,
   "id": "2b186396-645e-470b-8d27-32ea5cd0407b",
   "metadata": {},
   "outputs": [],
   "source": [
    "def random_forest_model_test(\n",
    "    clf,\n",
    "    data_test,\n",
    "    decision_tree_columns,\n",
    "):\n",
    "\n",
    "    X_test = data_test[decision_tree_columns].copy()\n",
    "\n",
    "    Z_test = clf.predict(X_test)\n",
    "    X_test['loan_status_predict'] = Z_test\n",
    "    X_test['loan_status'] = data_test['loan_status']\n",
    "    accuracy_out_of_sample = (X_test['loan_status'] == X_test['loan_status_predict']).sum() / len(X_test)\n",
    "    \n",
    "    return accuracy_out_of_sample"
   ]
  },
  {
   "cell_type": "code",
   "execution_count": 18,
   "id": "8d833b54-c6f8-4158-b8cc-c63bb16f5a2d",
   "metadata": {},
   "outputs": [],
   "source": [
    "def random_forest_model_predict(\n",
    "    clf,\n",
    "    data_predict,\n",
    "    decision_tree_columns,\n",
    "    decision_tree_columns_with_id,\n",
    "):\n",
    "    \n",
    "    X_predict = data_predict[decision_tree_columns_with_id].copy()\n",
    "\n",
    "    Z_predict = clf.predict_proba(X_predict[decision_tree_columns])\n",
    "    X_predict['loan_status'] = Z_predict[:, 1]\n",
    "\n",
    "    return X_predict"
   ]
  },
  {
   "cell_type": "code",
   "execution_count": 19,
   "id": "98f4a966-5999-4a18-b479-05a6005b86af",
   "metadata": {},
   "outputs": [],
   "source": [
    "def random_forest_model_predict_write_to_csv(\n",
    "    data_predict,\n",
    "    filename,\n",
    "):\n",
    "    data_predict[['id', 'loan_status']].to_csv(filename, index=False)"
   ]
  },
  {
   "cell_type": "code",
   "execution_count": 66,
   "id": "64231a90-cc25-4673-a907-4ae570a33f8b",
   "metadata": {},
   "outputs": [],
   "source": [
    "# Usage\n",
    "\n",
    "(\n",
    "    clf,\n",
    "    accuracy_in_sample,\n",
    ") = random_forest_model_train(\n",
    "    data_copy,\n",
    "    decision_tree_columns,\n",
    "    1000, # n_estimators\n",
    "    'sqrt', # max_features\n",
    "    None, # max_depth\n",
    "    10, # min_samples_split\n",
    "    2, # min_samples_leaf\n",
    "    True, # bootstrap\n",
    "    8, # n_jobs\n",
    ")\n",
    "\n",
    "accuracy_out_of_sample = random_forest_model_test(\n",
    "    clf,\n",
    "    data_train_copy,\n",
    "    decision_tree_columns,\n",
    ")\n",
    "\n",
    "data_predict = random_forest_model_predict(\n",
    "    clf,\n",
    "    data_test_copy,\n",
    "    decision_tree_columns,\n",
    "    decision_tree_columns_with_id,\n",
    ")\n",
    "\n",
    "random_forest_model_predict_write_to_csv(\n",
    "    data_predict,\n",
    "    f'random_forest_model_2.csv'\n",
    ")"
   ]
  },
  {
   "cell_type": "code",
   "execution_count": 67,
   "id": "833019ee-2966-4854-a28f-f86e015c2323",
   "metadata": {},
   "outputs": [
    {
     "data": {
      "text/plain": [
       "np.float64(0.9465632858340318)"
      ]
     },
     "execution_count": 67,
     "metadata": {},
     "output_type": "execute_result"
    }
   ],
   "source": [
    "accuracy_in_sample"
   ]
  },
  {
   "cell_type": "code",
   "execution_count": 68,
   "id": "97ec2251-6dff-40be-8f77-b30279b843a7",
   "metadata": {},
   "outputs": [
    {
     "data": {
      "text/plain": [
       "np.float64(0.9520163696819848)"
      ]
     },
     "execution_count": 68,
     "metadata": {},
     "output_type": "execute_result"
    }
   ],
   "source": [
    "accuracy_out_of_sample"
   ]
  },
  {
   "cell_type": "code",
   "execution_count": 72,
   "id": "fa06d969-d657-4df4-8d9b-d302d79b7713",
   "metadata": {},
   "outputs": [],
   "source": [
    "(\n",
    "    clf,\n",
    "    accuracy_in_sample,\n",
    ") = random_forest_model_train(\n",
    "    data_copy,\n",
    "    decision_tree_columns,\n",
    "    1000, # n_estimators\n",
    "    None, # max_features\n",
    "    None, # max_depth\n",
    "    10, # min_samples_split\n",
    "    2, # min_samples_leaf\n",
    "    True, # bootstrap\n",
    "    8, # n_jobs\n",
    ")\n",
    "\n",
    "accuracy_out_of_sample = random_forest_model_test(\n",
    "    clf,\n",
    "    data_train_copy,\n",
    "    decision_tree_columns,\n",
    ")\n",
    "\n",
    "data_predict = random_forest_model_predict(\n",
    "    clf,\n",
    "    data_test_copy,\n",
    "    decision_tree_columns,\n",
    "    decision_tree_columns_with_id,\n",
    ")\n",
    "\n",
    "random_forest_model_predict_write_to_csv(\n",
    "    data_predict,\n",
    "    f'random_forest_model_4.csv'\n",
    ")"
   ]
  },
  {
   "cell_type": "code",
   "execution_count": 73,
   "id": "f4ea891f-4116-4015-bd9e-7fe5a128a9fd",
   "metadata": {},
   "outputs": [
    {
     "data": {
      "text/plain": [
       "np.float64(0.9628387817826208)"
      ]
     },
     "execution_count": 73,
     "metadata": {},
     "output_type": "execute_result"
    }
   ],
   "source": [
    "accuracy_in_sample"
   ]
  },
  {
   "cell_type": "code",
   "execution_count": 74,
   "id": "16759603-ea3f-49c8-83dd-650b36a092a1",
   "metadata": {},
   "outputs": [
    {
     "data": {
      "text/plain": [
       "np.float64(0.9518799556654446)"
      ]
     },
     "execution_count": 74,
     "metadata": {},
     "output_type": "execute_result"
    }
   ],
   "source": [
    "accuracy_out_of_sample"
   ]
  },
  {
   "cell_type": "markdown",
   "id": "2ae72329-751b-4cb1-9602-2ed5d21a5e64",
   "metadata": {},
   "source": [
    "# Optimization using choice of dataset"
   ]
  },
  {
   "cell_type": "code",
   "execution_count": 20,
   "id": "bf5321af-c3b8-4262-8783-bd1fb0f3f00d",
   "metadata": {},
   "outputs": [
    {
     "data": {
      "text/plain": [
       "(28632, 58645, 39098)"
      ]
     },
     "execution_count": 20,
     "metadata": {},
     "output_type": "execute_result"
    }
   ],
   "source": [
    "len(data_copy), len(data_train_copy), len(data_test_copy)"
   ]
  },
  {
   "cell_type": "code",
   "execution_count": 21,
   "id": "5c158e29-733d-4389-ba3e-5ebedcae342f",
   "metadata": {},
   "outputs": [
    {
     "data": {
      "text/plain": [
       "(True, True, False)"
      ]
     },
     "execution_count": 21,
     "metadata": {},
     "output_type": "execute_result"
    }
   ],
   "source": [
    "'loan_status' in data_copy.columns, 'loan_status' in data_train_copy.columns, 'loan_status' in data_test_copy"
   ]
  },
  {
   "cell_type": "code",
   "execution_count": 41,
   "id": "ea6c83ec-c70b-4991-88d1-5ef1e4cd2607",
   "metadata": {},
   "outputs": [],
   "source": [
    "# base case: train model on data_copy, which has 28632 rows\n",
    "\n",
    "(\n",
    "    clf,\n",
    "    accuracy_in_sample,\n",
    ") = random_forest_model_train(\n",
    "    data_copy,\n",
    "    decision_tree_columns,\n",
    "    1000, # n_estimators\n",
    "    None, # max_features\n",
    "    None, # max_depth\n",
    "    10, # min_samples_split\n",
    "    2, # min_samples_leaf\n",
    "    True, # bootstrap\n",
    "    8, # n_jobs\n",
    ")\n",
    "\n",
    "accuracy_out_of_sample = random_forest_model_test(\n",
    "    clf,\n",
    "    data_train_copy,\n",
    "    decision_tree_columns,\n",
    ")\n",
    "\n",
    "data_predict = random_forest_model_predict(\n",
    "    clf,\n",
    "    data_test_copy,\n",
    "    decision_tree_columns,\n",
    "    decision_tree_columns_with_id,\n",
    ")\n",
    "\n",
    "# random_forest_model_predict_write_to_csv(\n",
    "#     data_predict,\n",
    "#     f'random_forest_model_4.csv'\n",
    "# )"
   ]
  },
  {
   "cell_type": "code",
   "execution_count": 42,
   "id": "b2b9fe5a-e7a3-4610-9721-e2f9e94677fa",
   "metadata": {},
   "outputs": [
    {
     "data": {
      "text/plain": [
       "np.float64(0.9631531153953619)"
      ]
     },
     "execution_count": 42,
     "metadata": {},
     "output_type": "execute_result"
    }
   ],
   "source": [
    "accuracy_in_sample"
   ]
  },
  {
   "cell_type": "code",
   "execution_count": 43,
   "id": "6652e22f-6b03-4624-8eeb-c4caaf17afd8",
   "metadata": {},
   "outputs": [
    {
     "data": {
      "text/plain": [
       "np.float64(0.9519822661778498)"
      ]
     },
     "execution_count": 43,
     "metadata": {},
     "output_type": "execute_result"
    }
   ],
   "source": [
    "accuracy_out_of_sample"
   ]
  },
  {
   "cell_type": "code",
   "execution_count": null,
   "id": "6f8426b5-3954-4d40-90d2-f8bd3e8edd33",
   "metadata": {},
   "outputs": [],
   "source": [
    "# public: 0.94414, private: 0.94603"
   ]
  },
  {
   "cell_type": "code",
   "execution_count": 33,
   "id": "5092f270-f500-43da-b272-7515ed2a6b2f",
   "metadata": {},
   "outputs": [],
   "source": [
    "# second case: train model on data_train_copy, which has 58645 rows\n",
    "\n",
    "(\n",
    "    clf,\n",
    "    accuracy_in_sample,\n",
    ") = random_forest_model_train(\n",
    "    data_train_copy,\n",
    "    decision_tree_columns,\n",
    "    1000, # n_estimators\n",
    "    None, # max_features\n",
    "    None, # max_depth\n",
    "    10, # min_samples_split\n",
    "    2, # min_samples_leaf\n",
    "    True, # bootstrap\n",
    "    8, # n_jobs\n",
    ")\n",
    "\n",
    "accuracy_out_of_sample = random_forest_model_test(\n",
    "    clf,\n",
    "    data_copy, # might as well use the other dataset for training validation\n",
    "    decision_tree_columns,\n",
    ")\n",
    "\n",
    "data_predict = random_forest_model_predict(\n",
    "    clf,\n",
    "    data_test_copy,\n",
    "    decision_tree_columns,\n",
    "    decision_tree_columns_with_id,\n",
    ")\n",
    "\n",
    "random_forest_model_predict_write_to_csv(\n",
    "    data_predict,\n",
    "    f'random_forest_model_5.csv'\n",
    ")"
   ]
  },
  {
   "cell_type": "code",
   "execution_count": 34,
   "id": "f256b532-6739-4bf3-bab9-0f8e3b777829",
   "metadata": {},
   "outputs": [
    {
     "data": {
      "text/plain": [
       "np.float64(0.9673799982948248)"
      ]
     },
     "execution_count": 34,
     "metadata": {},
     "output_type": "execute_result"
    }
   ],
   "source": [
    "accuracy_in_sample"
   ]
  },
  {
   "cell_type": "code",
   "execution_count": 35,
   "id": "f21fa86a-e0e5-4581-bb4e-377c3e3881d5",
   "metadata": {},
   "outputs": [
    {
     "data": {
      "text/plain": [
       "np.float64(0.9235820061469684)"
      ]
     },
     "execution_count": 35,
     "metadata": {},
     "output_type": "execute_result"
    }
   ],
   "source": [
    "accuracy_out_of_sample"
   ]
  },
  {
   "cell_type": "code",
   "execution_count": null,
   "id": "fa8a1b8d-b05d-42e3-bdc2-51abcd80ea52",
   "metadata": {},
   "outputs": [],
   "source": [
    "# public: 0.94815, private: 0.94833"
   ]
  },
  {
   "cell_type": "code",
   "execution_count": 44,
   "id": "5d9efaba-c700-4283-a76e-f782ebdfc89c",
   "metadata": {},
   "outputs": [],
   "source": [
    "# final case: train model on both datasets (`data_copy` and `data_train_copy`), which has 28632 + 58645 = 87277 rows\n",
    "\n",
    "both_data_copy = pandas.concat(\n",
    "    [data_copy, data_train_copy],\n",
    "    axis=0,\n",
    ")\n",
    "both_data_copy.reset_index(inplace=True, drop=True)\n",
    "\n",
    "(\n",
    "    clf,\n",
    "    accuracy_in_sample,\n",
    ") = random_forest_model_train(\n",
    "    both_data_copy,\n",
    "    decision_tree_columns,\n",
    "    1000, # n_estimators\n",
    "    None, # max_features\n",
    "    None, # max_depth\n",
    "    10, # min_samples_split\n",
    "    2, # min_samples_leaf\n",
    "    True, # bootstrap\n",
    "    8, # n_jobs\n",
    ")\n",
    "\n",
    "# can't produce an out of sample test, because all data has been used for training\n",
    "# accuracy_out_of_sample = random_forest_model_test(\n",
    "#     clf,\n",
    "#     data_copy,\n",
    "#     decision_tree_columns,\n",
    "# )\n",
    "\n",
    "data_predict = random_forest_model_predict(\n",
    "    clf,\n",
    "    data_test_copy,\n",
    "    decision_tree_columns,\n",
    "    decision_tree_columns_with_id,\n",
    ")\n",
    "\n",
    "random_forest_model_predict_write_to_csv(\n",
    "    data_predict,\n",
    "    f'random_forest_model_6.csv'\n",
    ")"
   ]
  },
  {
   "cell_type": "code",
   "execution_count": 45,
   "id": "be986d59-3348-4e60-848b-6d6b2c123d19",
   "metadata": {},
   "outputs": [
    {
     "data": {
      "text/plain": [
       "np.float64(0.9673682642620621)"
      ]
     },
     "execution_count": 45,
     "metadata": {},
     "output_type": "execute_result"
    }
   ],
   "source": [
    "accuracy_in_sample"
   ]
  },
  {
   "cell_type": "code",
   "execution_count": null,
   "id": "e82a8d15-2dbf-43c4-91bf-e6af92160827",
   "metadata": {},
   "outputs": [],
   "source": [
    "# public: 0.95235, 0.95495\n",
    "\n",
    "# 0.95494 is 1744 / 3810"
   ]
  },
  {
   "cell_type": "code",
   "execution_count": 49,
   "id": "5736e004-db8e-496c-a3b5-8d57141bd7fa",
   "metadata": {},
   "outputs": [
    {
     "data": {
      "text/plain": [
       "True"
      ]
     },
     "execution_count": 49,
     "metadata": {},
     "output_type": "execute_result"
    }
   ],
   "source": [
    "# oob score\n",
    "clf.oob_score"
   ]
  },
  {
   "cell_type": "code",
   "execution_count": 50,
   "id": "7c95f5c9-7a94-4392-988c-e5caea0b6955",
   "metadata": {},
   "outputs": [
    {
     "data": {
      "text/plain": [
       "0.9473629936867675"
      ]
     },
     "execution_count": 50,
     "metadata": {},
     "output_type": "execute_result"
    }
   ],
   "source": [
    "clf.oob_score_"
   ]
  },
  {
   "cell_type": "code",
   "execution_count": null,
   "id": "1125f79b-f1f0-4d04-96cd-160b262814ac",
   "metadata": {},
   "outputs": [],
   "source": []
  }
 ],
 "metadata": {
  "kernelspec": {
   "display_name": "Python 3 (ipykernel)",
   "language": "python",
   "name": "python3"
  },
  "language_info": {
   "codemirror_mode": {
    "name": "ipython",
    "version": 3
   },
   "file_extension": ".py",
   "mimetype": "text/x-python",
   "name": "python",
   "nbconvert_exporter": "python",
   "pygments_lexer": "ipython3",
   "version": "3.12.7"
  }
 },
 "nbformat": 4,
 "nbformat_minor": 5
}
