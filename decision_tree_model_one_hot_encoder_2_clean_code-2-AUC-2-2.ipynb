{
 "cells": [
  {
   "cell_type": "markdown",
   "id": "c2d42acd-bf5b-4651-9aec-da70a79dc8fc",
   "metadata": {},
   "source": [
    "# Decision Tree Model with One Hot Encoder for Categorical Variables\n",
    "\n",
    "- Clean code version\n",
    "- This version produced to produce a better tree diagram figure\n",
    "- Also added state space search for meta parameter tuning\n",
    "\n",
    "AUC: First test if optimizing for a threshold other than 0.5 produces a better accuracy, given that the default prediction should be about 0.78.\n",
    "\n",
    "- Result: Might be slightly better, but difficult to tell from the numbers\n",
    "\n",
    "Now that I have a function to calculate AUC, plot AUC as a function of the parameters\n",
    "\n",
    "Using this Notebook to produce figures for document"
   ]
  },
  {
   "cell_type": "code",
   "execution_count": 1,
   "id": "b9f96723-0f0e-4d60-9d0d-3c3991811d08",
   "metadata": {},
   "outputs": [],
   "source": [
    "%load_ext autoreload\n",
    "%autoreload 2"
   ]
  },
  {
   "cell_type": "code",
   "execution_count": 2,
   "id": "4b773ab0-b64c-419c-bd8b-f293c6b1116e",
   "metadata": {},
   "outputs": [],
   "source": [
    "import math\n",
    "import pandas\n",
    "import numpy\n",
    "import itertools\n",
    "import matplotlib.pyplot as plt\n",
    "import sklearn\n",
    "from sklearn import tree\n",
    "from sklearn.metrics import log_loss\n",
    "from sklearn.metrics import roc_curve\n",
    "from sklearn.metrics import auc\n",
    "from sklearn.preprocessing import OrdinalEncoder\n",
    "from sklearn.preprocessing import OneHotEncoder\n",
    "from sklearn.naive_bayes import CategoricalNB"
   ]
  },
  {
   "cell_type": "code",
   "execution_count": 3,
   "id": "326d9b5b-9405-40d5-8250-bc4ce0456168",
   "metadata": {},
   "outputs": [],
   "source": [
    "import loan_approval_lib\n",
    "from loan_approval_lib import logspace, linspace"
   ]
  },
  {
   "cell_type": "code",
   "execution_count": 4,
   "id": "4af1089e-4caa-474c-89c0-96fc59a6d9ec",
   "metadata": {},
   "outputs": [],
   "source": [
    "from loan_approval_lib.standard_data_processing import data_cleaning_algorithm\n",
    "from loan_approval_lib.standard_data_processing import create_loan_grade_numerical_from_loan_grade\n",
    "from loan_approval_lib.standard_data_processing import create_person_home_ownership_one_hot_encoder\n",
    "from loan_approval_lib.standard_data_processing import create_person_home_ownership_one_hot\n",
    "from loan_approval_lib.standard_data_processing import create_loan_intent_one_hot_encoder\n",
    "from loan_approval_lib.standard_data_processing import create_loan_intent_one_hot\n",
    "from loan_approval_lib.standard_data_processing import map_cb_person_default_on_file\n",
    "from loan_approval_lib.standard_data_processing import create_decision_tree_columns\n",
    "from loan_approval_lib.standard_data_processing import create_decision_tree_columns_with_id\n",
    "from loan_approval_lib.standard_data_processing import create_dataframe_copy_and_drop_columns\n",
    "from loan_approval_lib.standard_data_processing import create_decision_tree_columns\n",
    "from loan_approval_lib.standard_data_processing import create_decision_tree_columns_with_id"
   ]
  },
  {
   "cell_type": "code",
   "execution_count": 5,
   "id": "007cf335-7def-4213-bc9a-ce31a635f0f0",
   "metadata": {},
   "outputs": [],
   "source": [
    "data = loan_approval_lib.load_original_data()"
   ]
  },
  {
   "cell_type": "code",
   "execution_count": 6,
   "id": "82e3c7a1-c1e6-4273-bcf0-6b6a1cdef01b",
   "metadata": {},
   "outputs": [],
   "source": [
    "data_train = loan_approval_lib.load_data_train()"
   ]
  },
  {
   "cell_type": "code",
   "execution_count": 7,
   "id": "7c044ae4-5dba-405a-af64-1f0a40b131ae",
   "metadata": {},
   "outputs": [],
   "source": [
    "data_test = loan_approval_lib.load_data_test()"
   ]
  },
  {
   "cell_type": "markdown",
   "id": "0ffd51d3-37be-485a-be69-9a45a52e9f04",
   "metadata": {},
   "source": [
    "# Data Cleaning"
   ]
  },
  {
   "cell_type": "code",
   "execution_count": 8,
   "id": "3fa25427-b0c3-49d7-96b2-7dd205ae8f7c",
   "metadata": {},
   "outputs": [
    {
     "name": "stdout",
     "output_type": "stream",
     "text": [
      "column person_age, number of removed rows: 5\n",
      "column person_income, number of removed rows: 0\n",
      "column person_emp_length, number of removed rows: 897\n",
      "column loan_amnt, number of removed rows: 0\n",
      "column loan_int_rate, number of removed rows: 3047\n",
      "column loan_percent_income, number of removed rows: 0\n",
      "column cb_person_default_on_file, number of removed rows: 0\n"
     ]
    }
   ],
   "source": [
    "data = data_cleaning_algorithm(data)"
   ]
  },
  {
   "cell_type": "code",
   "execution_count": 9,
   "id": "2b1e0d94-9c21-4c0e-a20d-77e42e4fae0b",
   "metadata": {},
   "outputs": [
    {
     "name": "stdout",
     "output_type": "stream",
     "text": [
      "column person_age, number of removed rows: 1\n",
      "column person_income, number of removed rows: 0\n",
      "column person_emp_length, number of removed rows: 2\n",
      "column loan_amnt, number of removed rows: 0\n",
      "column loan_int_rate, number of removed rows: 0\n",
      "column loan_percent_income, number of removed rows: 0\n",
      "column cb_person_default_on_file, number of removed rows: 0\n"
     ]
    }
   ],
   "source": [
    "data_train = data_cleaning_algorithm(data_train)"
   ]
  },
  {
   "cell_type": "code",
   "execution_count": 10,
   "id": "e921cb86-97c8-46b3-8b05-e8b3e3322c70",
   "metadata": {},
   "outputs": [
    {
     "name": "stdout",
     "output_type": "stream",
     "text": [
      "column person_age, number of removed rows: 0\n",
      "column person_income, number of removed rows: 0\n",
      "column person_emp_length, number of removed rows: 0\n",
      "column loan_amnt, number of removed rows: 0\n",
      "column loan_int_rate, number of removed rows: 0\n",
      "column loan_percent_income, number of removed rows: 0\n",
      "column cb_person_default_on_file, number of removed rows: 0\n"
     ]
    }
   ],
   "source": [
    "data_cleaning_algorithm(data_test)\n",
    "None"
   ]
  },
  {
   "cell_type": "code",
   "execution_count": 11,
   "id": "4fcaef1d-c92e-4d89-a07f-8c1a735075b6",
   "metadata": {},
   "outputs": [],
   "source": [
    "# Loan Grade\n",
    "\n",
    "create_loan_grade_numerical_from_loan_grade(data, data_train, data_test)"
   ]
  },
  {
   "cell_type": "code",
   "execution_count": 12,
   "id": "6acb7539-12e6-440a-8725-eb990b6211c6",
   "metadata": {},
   "outputs": [],
   "source": [
    "# Person Home Ownership\n",
    "\n",
    "encoder = create_person_home_ownership_one_hot_encoder(data)\n",
    "\n",
    "data = create_person_home_ownership_one_hot(encoder, data)\n",
    "data_train = create_person_home_ownership_one_hot(encoder, data_train)\n",
    "data_test = create_person_home_ownership_one_hot(encoder, data_test)"
   ]
  },
  {
   "cell_type": "code",
   "execution_count": 13,
   "id": "4d5be8ac-8f18-4e22-ad31-21d2ec2b5e27",
   "metadata": {},
   "outputs": [],
   "source": [
    "# Loan Intent\n",
    "\n",
    "encoder = create_loan_intent_one_hot_encoder(data)\n",
    "\n",
    "data = create_loan_intent_one_hot(encoder, data)\n",
    "data_train = create_loan_intent_one_hot(encoder, data_train)\n",
    "data_test = create_loan_intent_one_hot(encoder, data_test)"
   ]
  },
  {
   "cell_type": "code",
   "execution_count": 14,
   "id": "6d3135f9-ca31-4fc3-90fb-752c8bc63602",
   "metadata": {},
   "outputs": [],
   "source": [
    "# Default On File\n",
    "\n",
    "data = map_cb_person_default_on_file(data)\n",
    "data_train = map_cb_person_default_on_file(data_train)\n",
    "data_test = map_cb_person_default_on_file(data_test)"
   ]
  },
  {
   "cell_type": "markdown",
   "id": "c14943f5-25e7-4202-84de-346af9babdcc",
   "metadata": {},
   "source": [
    "# Choose Columns for Tree Model, Copy DataFrame and Drop Unused Columns"
   ]
  },
  {
   "cell_type": "code",
   "execution_count": 15,
   "id": "f6884c59-63b4-45ec-bbb8-dc0d6ce3904e",
   "metadata": {},
   "outputs": [],
   "source": [
    "decision_tree_columns = create_decision_tree_columns()\n",
    "decision_tree_columns_with_id = create_decision_tree_columns_with_id()"
   ]
  },
  {
   "cell_type": "code",
   "execution_count": 16,
   "id": "ff9e469c-1555-42eb-9065-1ea19fd017ea",
   "metadata": {},
   "outputs": [],
   "source": [
    "data_copy = create_dataframe_copy_and_drop_columns(data)\n",
    "data_train_copy = create_dataframe_copy_and_drop_columns(data_train)\n",
    "data_test_copy = create_dataframe_copy_and_drop_columns(data_test)"
   ]
  },
  {
   "cell_type": "markdown",
   "id": "806ecbc0-bb9c-4e24-a60e-70110fd06b33",
   "metadata": {},
   "source": [
    "# Optimize Choice of Dataset"
   ]
  },
  {
   "cell_type": "code",
   "execution_count": 17,
   "id": "0bfbd3d3-d18f-49c7-9af6-7692861deda2",
   "metadata": {},
   "outputs": [],
   "source": [
    "all_training_data = pandas.concat(\n",
    "    [data_copy, data_train_copy],\n",
    "    axis=0,\n",
    ")\n",
    "all_training_data.reset_index(inplace=True, drop=True)"
   ]
  },
  {
   "cell_type": "code",
   "execution_count": 18,
   "id": "d467ef8e-5070-4ecf-876b-184b34d8d23a",
   "metadata": {},
   "outputs": [],
   "source": [
    "permutation = numpy.random.permutation(all_training_data.index)"
   ]
  },
  {
   "cell_type": "code",
   "execution_count": 19,
   "id": "44268f67-e1b0-4952-a600-ccb2d547b528",
   "metadata": {},
   "outputs": [
    {
     "data": {
      "text/plain": [
       "87274"
      ]
     },
     "execution_count": 19,
     "metadata": {},
     "output_type": "execute_result"
    }
   ],
   "source": [
    "n_samples = len(all_training_data)\n",
    "n_samples"
   ]
  },
  {
   "cell_type": "code",
   "execution_count": 20,
   "id": "c40ebd76-ee1a-486b-9a48-6223f379a77f",
   "metadata": {},
   "outputs": [],
   "source": [
    "k = 100"
   ]
  },
  {
   "cell_type": "code",
   "execution_count": 21,
   "id": "2c668708-425d-4c4f-acc0-a596dbf309dc",
   "metadata": {},
   "outputs": [
    {
     "data": {
      "text/plain": [
       "array([872, 872, 872, 872, 872, 872, 872, 872, 872, 872, 872, 872, 872,\n",
       "       872, 872, 872, 872, 872, 872, 872, 872, 872, 872, 872, 872, 872,\n",
       "       872, 872, 872, 872, 872, 872, 872, 872, 872, 872, 872, 872, 872,\n",
       "       872, 872, 872, 872, 872, 872, 872, 872, 872, 872, 872, 872, 872,\n",
       "       872, 872, 872, 872, 872, 872, 872, 872, 872, 872, 872, 872, 872,\n",
       "       872, 872, 872, 872, 872, 872, 872, 872, 872, 872, 872, 872, 872,\n",
       "       872, 872, 872, 872, 872, 872, 872, 872, 872, 872, 872, 872, 872,\n",
       "       872, 872, 872, 872, 872, 872, 872, 872, 872])"
      ]
     },
     "execution_count": 21,
     "metadata": {},
     "output_type": "execute_result"
    }
   ],
   "source": [
    "fold_sizes = numpy.full(k, n_samples // k, dtype=int)\n",
    "fold_sizes"
   ]
  },
  {
   "cell_type": "code",
   "execution_count": 22,
   "id": "7869917e-efe9-46c5-8b5b-5a234e464e4d",
   "metadata": {},
   "outputs": [
    {
     "data": {
      "text/plain": [
       "array([873, 873, 873, 873, 873, 873, 873, 873, 873, 873, 873, 873, 873,\n",
       "       873, 873, 873, 873, 873, 873, 873, 873, 873, 873, 873, 873, 873,\n",
       "       873, 873, 873, 873, 873, 873, 873, 873, 873, 873, 873, 873, 873,\n",
       "       873, 873, 873, 873, 873, 873, 873, 873, 873, 873, 873, 873, 873,\n",
       "       873, 873, 873, 873, 873, 873, 873, 873, 873, 873, 873, 873, 873,\n",
       "       873, 873, 873, 873, 873, 873, 873, 873, 873, 872, 872, 872, 872,\n",
       "       872, 872, 872, 872, 872, 872, 872, 872, 872, 872, 872, 872, 872,\n",
       "       872, 872, 872, 872, 872, 872, 872, 872, 872])"
      ]
     },
     "execution_count": 22,
     "metadata": {},
     "output_type": "execute_result"
    }
   ],
   "source": [
    "fold_sizes[:n_samples % k] += 1\n",
    "fold_sizes"
   ]
  },
  {
   "cell_type": "code",
   "execution_count": 23,
   "id": "ed65af4e-5fce-4513-877f-54bb665186d0",
   "metadata": {},
   "outputs": [],
   "source": [
    "index = 0\n",
    "folds = []\n",
    "for fold_size in fold_sizes:\n",
    "    start = index\n",
    "    stop = index + fold_size\n",
    "    folds.append(permutation[start:stop])\n",
    "    index = stop"
   ]
  },
  {
   "cell_type": "markdown",
   "id": "f19a2d8b-d69f-44da-b060-023e3a18d314",
   "metadata": {},
   "source": [
    "# Decision Tree Model"
   ]
  },
  {
   "cell_type": "code",
   "execution_count": 24,
   "id": "10f9423d-75cf-4d07-bec2-0e68e4bbed20",
   "metadata": {},
   "outputs": [],
   "source": [
    "def decision_tree_model_train(\n",
    "    data_train,\n",
    "    decision_tree_columns,\n",
    "    max_depth,\n",
    "    min_samples_split,\n",
    "    max_leaf_nodes,\n",
    "    min_samples_leaf,\n",
    "    min_impurity_decrease,\n",
    "):\n",
    "    \n",
    "    X = data_train[decision_tree_columns].copy()\n",
    "    Y = data_train['loan_status'].copy()\n",
    "    \n",
    "    clf = tree.DecisionTreeClassifier(\n",
    "        criterion='entropy',\n",
    "        max_depth=max_depth,\n",
    "        min_samples_split=min_samples_split,\n",
    "        min_samples_leaf=min_samples_leaf,\n",
    "        max_features=None,\n",
    "        max_leaf_nodes=max_leaf_nodes,\n",
    "        min_impurity_decrease=min_impurity_decrease,\n",
    "    )\n",
    "    clf = clf.fit(X, Y)\n",
    "\n",
    "    feature_importances = pandas.Series(clf.feature_importances_, index=X.columns).sort_values(ascending=False)\n",
    "    feature_importances = feature_importances[feature_importances > 0]\n",
    "\n",
    "    Z = clf.predict(X)\n",
    "    X['loan_status_predict'] = Z\n",
    "    X['loan_status'] = data_train['loan_status']\n",
    "    accuracy_in_sample = (X['loan_status'] == X['loan_status_predict']).sum() / len(X)\n",
    "\n",
    "    return (clf, feature_importances, accuracy_in_sample)"
   ]
  },
  {
   "cell_type": "code",
   "execution_count": 25,
   "id": "063f22e3-7f40-4616-b2ed-f3215a9af4a2",
   "metadata": {},
   "outputs": [],
   "source": [
    "def decision_tree_model_test(\n",
    "    clf,\n",
    "    data_test,\n",
    "    decision_tree_columns,\n",
    "):\n",
    "\n",
    "    X_test = data_test[decision_tree_columns].copy()\n",
    "    \n",
    "    Z_test = clf.predict(X_test)\n",
    "    X_test['loan_status_predict'] = Z_test\n",
    "    X_test['loan_status'] = data_test['loan_status']\n",
    "    accuracy_out_of_sample = (X_test['loan_status'] == X_test['loan_status_predict']).sum() / len(X_test)\n",
    "    \n",
    "    return accuracy_out_of_sample"
   ]
  },
  {
   "cell_type": "code",
   "execution_count": 26,
   "id": "57e44ac2-c8b7-4fdc-b96d-e44b0e13178f",
   "metadata": {},
   "outputs": [],
   "source": [
    "def decision_tree_model_predict_proba(\n",
    "    clf,\n",
    "    data_test,\n",
    "    decision_tree_columns,\n",
    "):\n",
    "    \n",
    "    X_test = data_test[decision_tree_columns].copy()\n",
    "    \n",
    "    Z_test = clf.predict_proba(X_test)[:, 1]\n",
    "\n",
    "    return Z_test"
   ]
  },
  {
   "cell_type": "code",
   "execution_count": 27,
   "id": "fceabde4-2e6e-4e35-b4e4-efaca0713fb7",
   "metadata": {},
   "outputs": [],
   "source": [
    "def decision_tree_model_test_threshold(\n",
    "    clf,\n",
    "    data_test,\n",
    "    decision_tree_columns,\n",
    "    threshold,\n",
    "):\n",
    "\n",
    "    X_test = data_test[decision_tree_columns].copy()\n",
    "\n",
    "    Z_test = (clf.predict_proba(X_test)[:, 1]) > threshold\n",
    "    X_test['loan_status_predict'] = Z_test\n",
    "    X_test['loan_status'] = data_test['loan_status']\n",
    "    accuracy = (X_test['loan_status'] == X_test['loan_status_predict']).sum() / len(X_test)\n",
    "    \n",
    "    return accuracy"
   ]
  },
  {
   "cell_type": "code",
   "execution_count": 28,
   "id": "9bb912ae-bdb6-456d-a57d-5aaa6a6c7ba9",
   "metadata": {},
   "outputs": [],
   "source": [
    "def decision_tree_model_test_TPR_FPR(\n",
    "    clf,\n",
    "    data_test,\n",
    "    decision_tree_columns,\n",
    "    threshold,\n",
    "):\n",
    "\n",
    "    X_test = data_test[decision_tree_columns].copy()\n",
    "\n",
    "    Z_test = (clf.predict_proba(X_test)[:, 1]) > threshold\n",
    "    X_test['loan_status_predict'] = Z_test\n",
    "    X_test['loan_status'] = data_test['loan_status']\n",
    "\n",
    "    true_positive  = len(X_test[(X_test['loan_status'] == 1) & (X_test['loan_status_predict'] == 1)]) # positive, same -> true\n",
    "    false_positive = len(X_test[(X_test['loan_status'] == 0) & (X_test['loan_status_predict'] == 1)]) # positive, different -> false\n",
    "    true_negative  = len(X_test[(X_test['loan_status'] == 0) & (X_test['loan_status_predict'] == 0)]) # negative, same -> true\n",
    "    false_negative = len(X_test[(X_test['loan_status'] == 1) & (X_test['loan_status_predict'] == 0)]) # negative, different -> false\n",
    "\n",
    "    tpr = true_positive / (true_positive + false_negative)\n",
    "    fpr = false_positive / (false_positive + true_negative)\n",
    "\n",
    "    return (tpr, fpr)"
   ]
  },
  {
   "cell_type": "code",
   "execution_count": 29,
   "id": "96723f1d-2870-44d6-8917-b880cf0a3a61",
   "metadata": {},
   "outputs": [],
   "source": [
    "def decision_tree_model_test_AUC(\n",
    "    clf,\n",
    "    data_test,\n",
    "    decision_tree_columns,\n",
    "):\n",
    "    # create threshold array\n",
    "    # this code creates `threshold_array`, and it is sorted in ascending order\n",
    "    \n",
    "    data_predict = decision_tree_model_predict(\n",
    "        clf,\n",
    "        data_test,\n",
    "        decision_tree_columns,\n",
    "        decision_tree_columns_with_id,\n",
    "    )\n",
    "    \n",
    "    threshold_array = numpy.concatenate(\n",
    "        (\n",
    "            numpy.array([-numpy.inf]),\n",
    "            numpy.unique(data_predict['loan_status']),\n",
    "            numpy.array([1.1]),\n",
    "        )\n",
    "    )\n",
    "\n",
    "    # use threshold array to calculate TPR and FPR\n",
    "    count = len(threshold_array)\n",
    "\n",
    "    tpr_array = numpy.zeros(shape=(count,), dtype=float)\n",
    "    fpr_array = numpy.zeros(shape=(count,), dtype=float)\n",
    "    \n",
    "    for i, threshold in enumerate(threshold_array):\n",
    "        (tpr, fpr) = decision_tree_model_test_TPR_FPR(\n",
    "            clf,\n",
    "            test_data,\n",
    "            decision_tree_columns,\n",
    "            threshold,\n",
    "        )\n",
    "    \n",
    "        threshold_array[i] = threshold\n",
    "        tpr_array[i] = tpr\n",
    "        fpr_array[i] = fpr\n",
    "    \n",
    "    sort_index = numpy.argsort(fpr_array)\n",
    "    tpr_array = tpr_array[sort_index]\n",
    "    fpr_array = fpr_array[sort_index]\n",
    "    threshold_array = threshold_array[sort_index]\n",
    "\n",
    "    # calculate threshold array, TPR and FPR\n",
    "    # (roc_curve_fpr, roc_curve_tpr, roc_curve_threshold) = roc_curve(\n",
    "    #     test_data['loan_status'],\n",
    "    #     decision_tree_model_predict_proba(clf, test_data, decision_tree_columns),\n",
    "    # )\n",
    "    # may not include the -inf and +inf bounds?\n",
    "\n",
    "    # use TPR and FPR to calculate AUC\n",
    "    roc_auc = auc(fpr_array, tpr_array)\n",
    "    #roc_auc = auc(roc_curve_fpr, roc_curve_tpr)\n",
    "    \n",
    "    return roc_auc"
   ]
  },
  {
   "cell_type": "code",
   "execution_count": 30,
   "id": "a0f07780-5a1b-438a-9423-1e0e72e19e88",
   "metadata": {},
   "outputs": [],
   "source": [
    "def decision_tree_model_predict(\n",
    "    clf,\n",
    "    data_predict,\n",
    "    decision_tree_columns,\n",
    "    decision_tree_columns_with_id,\n",
    "):\n",
    "    \n",
    "    X_predict = data_predict[decision_tree_columns_with_id].copy()\n",
    "\n",
    "    Z_predict = clf.predict_proba(X_predict[decision_tree_columns])\n",
    "    X_predict['loan_status'] = Z_predict[:, 1]\n",
    "\n",
    "    return X_predict"
   ]
  },
  {
   "cell_type": "code",
   "execution_count": 31,
   "id": "730405ff-0469-466e-af48-5be3695d390d",
   "metadata": {},
   "outputs": [],
   "source": [
    "def decision_tree_model_predict_write_to_csv(\n",
    "    data_predict,\n",
    "    filename,\n",
    "):\n",
    "    data_predict[['id', 'loan_status']].to_csv(filename, index=False)"
   ]
  },
  {
   "cell_type": "markdown",
   "id": "7246e95d-5913-4de1-bf9f-1bd4bfc44f5b",
   "metadata": {},
   "source": [
    "# Optimize on all data - produce ROC curve\n",
    "\n",
    "- Train original good performing model, min samples split 30, min samples leaf 4\n",
    "- Train using slightly worse model where max depth was optimized to 100"
   ]
  },
  {
   "cell_type": "code",
   "execution_count": 83,
   "id": "cb24f407-6b25-464b-abc7-6e1fff4c9521",
   "metadata": {},
   "outputs": [],
   "source": [
    "# train with everything\n",
    "\n",
    "max_depth = None #100\n",
    "min_samples_split = 30 #2\n",
    "max_leaf_nodes = None\n",
    "min_samples_leaf = 4 #1\n",
    "min_impurity_decrease = 0.0\n",
    "\n",
    "i = 0\n",
    "\n",
    "test_index = folds[i]\n",
    "train_index = numpy.concatenate([folds[j] for j in range(k) if j != i])\n",
    "            \n",
    "training_data = all_training_data.loc[train_index]\n",
    "test_data = all_training_data.loc[test_index]\n",
    "\n",
    "(\n",
    "    clf,\n",
    "    feature_importances,\n",
    "    accuracy_in_sample,\n",
    ") = decision_tree_model_train(\n",
    "    training_data,\n",
    "    decision_tree_columns,\n",
    "    max_depth,\n",
    "    min_samples_split,\n",
    "    max_leaf_nodes,\n",
    "    min_samples_leaf,\n",
    "    min_impurity_decrease,\n",
    ")\n",
    "\n",
    "accuracy_out_of_sample = decision_tree_model_test(\n",
    "    clf,\n",
    "    test_data,\n",
    "    decision_tree_columns,\n",
    ")\n",
    "\n",
    "(tpr, fpr) = decision_tree_model_test_TPR_FPR(\n",
    "    clf,\n",
    "    test_data,\n",
    "    decision_tree_columns,\n",
    "    0.5,\n",
    ")\n",
    "\n",
    "# data_predict = decision_tree_model_predict(\n",
    "#     clf,\n",
    "#     data_test_copy,\n",
    "#     decision_tree_columns,\n",
    "#     decision_tree_columns_with_id,\n",
    "# )\n",
    "\n",
    "#decision_tree_model_predict_write_to_csv(\n",
    "#    data_predict,\n",
    "#    f'decision_tree_model_one_hot_encoder_2_clean_code-2-max_depth_100_all_training_data.csv'\n",
    "#)"
   ]
  },
  {
   "cell_type": "code",
   "execution_count": 109,
   "id": "b21d2648-badd-46b5-a4de-b1cbbc90a6f8",
   "metadata": {},
   "outputs": [],
   "source": [
    "# train with everything\n",
    "\n",
    "max_depth = 100\n",
    "min_samples_split = 2\n",
    "max_leaf_nodes = None\n",
    "min_samples_leaf = 1\n",
    "min_impurity_decrease = 0.0\n",
    "\n",
    "i = 0\n",
    "\n",
    "test_index = folds[i]\n",
    "train_index = numpy.concatenate([folds[j] for j in range(k) if j != i])\n",
    "            \n",
    "training_data = all_training_data.loc[train_index]\n",
    "test_data = all_training_data.loc[test_index]\n",
    "\n",
    "(\n",
    "    clf,\n",
    "    feature_importances,\n",
    "    accuracy_in_sample,\n",
    ") = decision_tree_model_train(\n",
    "    training_data,\n",
    "    decision_tree_columns,\n",
    "    max_depth,\n",
    "    min_samples_split,\n",
    "    max_leaf_nodes,\n",
    "    min_samples_leaf,\n",
    "    min_impurity_decrease,\n",
    ")\n",
    "\n",
    "accuracy_out_of_sample = decision_tree_model_test(\n",
    "    clf,\n",
    "    test_data,\n",
    "    decision_tree_columns,\n",
    ")\n",
    "\n",
    "(tpr, fpr) = decision_tree_model_test_TPR_FPR(\n",
    "    clf,\n",
    "    test_data,\n",
    "    decision_tree_columns,\n",
    "    0.5,\n",
    ")\n",
    "\n",
    "# data_predict = decision_tree_model_predict(\n",
    "#     clf,\n",
    "#     data_test_copy,\n",
    "#     decision_tree_columns,\n",
    "#     decision_tree_columns_with_id,\n",
    "# )\n",
    "\n",
    "#decision_tree_model_predict_write_to_csv(\n",
    "#    data_predict,\n",
    "#    f'decision_tree_model_one_hot_encoder_2_clean_code-2-max_depth_100_all_training_data.csv'\n",
    "#)"
   ]
  },
  {
   "cell_type": "code",
   "execution_count": 84,
   "id": "ad132423-8370-435b-a2ee-4fe9f2d7bed2",
   "metadata": {},
   "outputs": [
    {
     "data": {
      "text/plain": [
       "np.float64(0.909070889261745)"
      ]
     },
     "execution_count": 84,
     "metadata": {},
     "output_type": "execute_result"
    }
   ],
   "source": [
    "# test AUC calculation\n",
    "# looks good\n",
    "\n",
    "decision_tree_model_test_AUC(\n",
    "    clf,\n",
    "    test_data,\n",
    "    decision_tree_columns,\n",
    ")"
   ]
  },
  {
   "cell_type": "code",
   "execution_count": 32,
   "id": "6c17dd36-2460-4b45-aa59-c3c084efdece",
   "metadata": {},
   "outputs": [
    {
     "data": {
      "text/plain": [
       "np.float64(0.9541903450191549)"
      ]
     },
     "execution_count": 32,
     "metadata": {},
     "output_type": "execute_result"
    }
   ],
   "source": [
    "accuracy_in_sample"
   ]
  },
  {
   "cell_type": "code",
   "execution_count": 33,
   "id": "74b0fba0-0768-42b3-993c-202da167a079",
   "metadata": {},
   "outputs": [
    {
     "data": {
      "text/plain": [
       "np.float64(0.9415807560137457)"
      ]
     },
     "execution_count": 33,
     "metadata": {},
     "output_type": "execute_result"
    }
   ],
   "source": [
    "accuracy_out_of_sample"
   ]
  },
  {
   "cell_type": "code",
   "execution_count": 34,
   "id": "7e71cd33-2035-4f4f-be33-e63605259e40",
   "metadata": {},
   "outputs": [
    {
     "data": {
      "text/plain": [
       "0.703125"
      ]
     },
     "execution_count": 34,
     "metadata": {},
     "output_type": "execute_result"
    }
   ],
   "source": [
    "tpr"
   ]
  },
  {
   "cell_type": "code",
   "execution_count": 35,
   "id": "a2e5578c-541e-4bcf-a5c1-55e947004d56",
   "metadata": {},
   "outputs": [
    {
     "data": {
      "text/plain": [
       "0.0174496644295302"
      ]
     },
     "execution_count": 35,
     "metadata": {},
     "output_type": "execute_result"
    }
   ],
   "source": [
    "fpr"
   ]
  },
  {
   "cell_type": "code",
   "execution_count": 66,
   "id": "228b974c-1583-4c4b-ada7-89e9832f9f4b",
   "metadata": {},
   "outputs": [],
   "source": [
    "# this code creates `threshold_array`, and it is sorted in ascending order\n",
    "\n",
    "data_predict = decision_tree_model_predict(\n",
    "    clf,\n",
    "    data_test_copy,\n",
    "    decision_tree_columns,\n",
    "    decision_tree_columns_with_id,\n",
    ")\n",
    "\n",
    "threshold_array = numpy.concatenate(\n",
    "    (\n",
    "        numpy.array([-numpy.inf]),\n",
    "        numpy.unique(data_predict['loan_status']),\n",
    "        numpy.array([1.1]),\n",
    "    )\n",
    ")"
   ]
  },
  {
   "cell_type": "code",
   "execution_count": 47,
   "id": "7584f8f9-dc78-40f8-8bd1-35338cdcec46",
   "metadata": {},
   "outputs": [
    {
     "data": {
      "text/plain": [
       "202"
      ]
     },
     "execution_count": 47,
     "metadata": {},
     "output_type": "execute_result"
    }
   ],
   "source": [
    "len(threshold_array)"
   ]
  },
  {
   "cell_type": "code",
   "execution_count": null,
   "id": "9719169e-3f38-45f6-9d8b-9cbf7df1aa70",
   "metadata": {},
   "outputs": [],
   "source": [
    "# this code creates TPR and FPR for calculation of AUC"
   ]
  },
  {
   "cell_type": "code",
   "execution_count": 48,
   "id": "66ab0e5e-3c53-4af9-b04c-7f4ff011f11b",
   "metadata": {},
   "outputs": [],
   "source": [
    "count = len(threshold_array)\n",
    "\n",
    "tpr_array = numpy.zeros(shape=(count,), dtype=float)\n",
    "fpr_array = numpy.zeros(shape=(count,), dtype=float)\n",
    "\n",
    "for i, threshold in enumerate(threshold_array):\n",
    "    (tpr, fpr) = decision_tree_model_test_TPR_FPR(\n",
    "        clf,\n",
    "        test_data,\n",
    "        decision_tree_columns,\n",
    "        threshold,\n",
    "    )\n",
    "\n",
    "    threshold_array[i] = threshold\n",
    "    tpr_array[i] = tpr\n",
    "    fpr_array[i] = fpr\n",
    "\n",
    "sort_index = numpy.argsort(fpr_array)\n",
    "tpr_array = tpr_array[sort_index]\n",
    "fpr_array = fpr_array[sort_index]\n",
    "threshold_array = threshold_array[sort_index]"
   ]
  },
  {
   "cell_type": "code",
   "execution_count": 52,
   "id": "cd739bdf-8e3c-4f0a-b476-cd7a40051dde",
   "metadata": {},
   "outputs": [
    {
     "data": {
      "image/png": "[encoded data removed]",
      "text/plain": [
       "<Figure size 640x480 with 1 Axes>"
      ]
     },
     "metadata": {},
     "output_type": "display_data"
    }
   ],
   "source": [
    "from sklearn.metrics import RocCurveDisplay\n",
    "\n",
    "X = data_train[decision_tree_columns].copy()\n",
    "Y = data_train['loan_status'].copy()\n",
    "\n",
    "roc_curve_display = RocCurveDisplay.from_estimator(clf, X, Y)"
   ]
  },
  {
   "cell_type": "code",
   "execution_count": 49,
   "id": "70424370-2099-4192-8b56-50f1b87500c5",
   "metadata": {},
   "outputs": [
    {
     "data": {
      "text/plain": [
       "np.float64(0.9090132130872485)"
      ]
     },
     "execution_count": 49,
     "metadata": {},
     "output_type": "execute_result"
    }
   ],
   "source": [
    "numpy.trapezoid(tpr_array, x=fpr_array)"
   ]
  },
  {
   "cell_type": "code",
   "execution_count": 50,
   "id": "69483cd8-9797-46d6-87a0-8812cea60bc5",
   "metadata": {},
   "outputs": [
    {
     "data": {
      "text/plain": [
       "np.float64(0.9090132130872485)"
      ]
     },
     "execution_count": 50,
     "metadata": {},
     "output_type": "execute_result"
    }
   ],
   "source": [
    "roc_auc = auc(fpr_array, tpr_array)\n",
    "roc_auc"
   ]
  },
  {
   "cell_type": "code",
   "execution_count": 75,
   "id": "21f6e198-b0b2-409c-ae18-f08a41cfe46b",
   "metadata": {},
   "outputs": [],
   "source": [
    "(roc_curve_fpr, roc_curve_tpr, roc_curve_threshold) = roc_curve(\n",
    "    test_data['loan_status'],\n",
    "    decision_tree_model_predict_proba(clf, test_data, decision_tree_columns),\n",
    ")"
   ]
  },
  {
   "cell_type": "code",
   "execution_count": 76,
   "id": "332a42a1-389f-47d1-aea0-e13c8923a43d",
   "metadata": {},
   "outputs": [
    {
     "data": {
      "text/plain": [
       "(np.float64(0.0), np.float64(0.0))"
      ]
     },
     "execution_count": 76,
     "metadata": {},
     "output_type": "execute_result"
    }
   ],
   "source": [
    "roc_curve_fpr[0], roc_curve_tpr[0]"
   ]
  },
  {
   "cell_type": "code",
   "execution_count": 77,
   "id": "03d652df-24e2-4081-b50b-d9bc737f9db9",
   "metadata": {},
   "outputs": [
    {
     "data": {
      "text/plain": [
       "(np.float64(0.0013422818791946308), np.float64(0.5390625))"
      ]
     },
     "execution_count": 77,
     "metadata": {},
     "output_type": "execute_result"
    }
   ],
   "source": [
    "roc_curve_fpr[1], roc_curve_tpr[1]"
   ]
  },
  {
   "cell_type": "code",
   "execution_count": 78,
   "id": "e4a60536-2fdb-41f0-b228-7d02de94a63f",
   "metadata": {},
   "outputs": [
    {
     "data": {
      "text/plain": [
       "(np.float64(0.18791946308724833), np.float64(0.8671875))"
      ]
     },
     "execution_count": 78,
     "metadata": {},
     "output_type": "execute_result"
    }
   ],
   "source": [
    "roc_curve_fpr[-2], roc_curve_tpr[-2]"
   ]
  },
  {
   "cell_type": "code",
   "execution_count": 79,
   "id": "c380aff8-5a7b-4f9e-aa89-4b22817852d7",
   "metadata": {},
   "outputs": [
    {
     "data": {
      "text/plain": [
       "(np.float64(1.0), np.float64(1.0))"
      ]
     },
     "execution_count": 79,
     "metadata": {},
     "output_type": "execute_result"
    }
   ],
   "source": [
    "roc_curve_fpr[-1], roc_curve_tpr[-1]"
   ]
  },
  {
   "cell_type": "code",
   "execution_count": 80,
   "id": "ea6712ea-ee13-4882-8214-f7cf05ca1abd",
   "metadata": {},
   "outputs": [
    {
     "data": {
      "text/plain": [
       "np.float64(0.9090551593959733)"
      ]
     },
     "execution_count": 80,
     "metadata": {},
     "output_type": "execute_result"
    }
   ],
   "source": [
    "roc_auc = auc(roc_curve_fpr, roc_curve_tpr)\n",
    "roc_auc"
   ]
  },
  {
   "cell_type": "code",
   "execution_count": null,
   "id": "5db59362-974c-4494-ac00-7fa5e2d0c124",
   "metadata": {},
   "outputs": [],
   "source": [
    "# this figure uses the values calculated from sklearn's `roc_curve`"
   ]
  },
  {
   "cell_type": "code",
   "execution_count": 81,
   "id": "e5cbb7b2-98be-40fc-bc42-6206401234bb",
   "metadata": {},
   "outputs": [
    {
     "data": {
      "image/png": "[encoded data removed]",
      "text/plain": [
       "<Figure size 640x480 with 1 Axes>"
      ]
     },
     "metadata": {},
     "output_type": "display_data"
    }
   ],
   "source": [
    "plt.figure()\n",
    "\n",
    "plt.plot([0.0, 1.0], [0.0, 1.0], color='tab:red')\n",
    "plt.step(\n",
    "    roc_curve_fpr,\n",
    "    roc_curve_tpr,\n",
    "    where='post',\n",
    ")\n",
    "\n",
    "plt.xlabel('false positive rate')\n",
    "plt.ylabel('true positive rate')\n",
    "\n",
    "plt.xlim(0.0, 1.0)\n",
    "plt.ylim(0.0, 1.0)\n",
    "\n",
    "None"
   ]
  },
  {
   "cell_type": "code",
   "execution_count": null,
   "id": "e194ca96-262a-40da-b1a9-0c3a1870d331",
   "metadata": {},
   "outputs": [],
   "source": [
    "# this figure uses the manually calculated `fpr_array` and `tpr_array`"
   ]
  },
  {
   "cell_type": "code",
   "execution_count": 51,
   "id": "37a32ee7-7c45-4f63-8864-a4e2e29449f4",
   "metadata": {},
   "outputs": [
    {
     "data": {
      "image/png": "[encoded data removed]",
      "text/plain": [
       "<Figure size 640x480 with 1 Axes>"
      ]
     },
     "metadata": {},
     "output_type": "display_data"
    }
   ],
   "source": [
    "plt.figure()\n",
    "\n",
    "plt.plot([0.0, 1.0], [0.0, 1.0], color='tab:red')\n",
    "plt.step(\n",
    "    fpr_array,\n",
    "    tpr_array,\n",
    "    where='post',\n",
    ")\n",
    "\n",
    "plt.xlabel('false positive rate')\n",
    "plt.ylabel('true positive rate')\n",
    "\n",
    "plt.xlim(0.0, 1.0)\n",
    "plt.ylim(0.0, 1.0)\n",
    "\n",
    "None"
   ]
  },
  {
   "cell_type": "markdown",
   "id": "8356b86d-f32a-42db-87b1-a179b92bd3a3",
   "metadata": {},
   "source": [
    "# Plot the distribution of `predict_proba` values"
   ]
  },
  {
   "cell_type": "code",
   "execution_count": 270,
   "id": "633c7cdb-9544-474c-8622-17b5eb620599",
   "metadata": {},
   "outputs": [],
   "source": [
    "data_predict = decision_tree_model_predict(\n",
    "    clf,\n",
    "    data_test_copy,\n",
    "    decision_tree_columns,\n",
    "    decision_tree_columns_with_id,\n",
    ")"
   ]
  },
  {
   "cell_type": "code",
   "execution_count": 60,
   "id": "410aee33-ec21-4587-945f-d895dcc8bb25",
   "metadata": {},
   "outputs": [
    {
     "data": {
      "image/png": "[encoded data removed]",
      "text/plain": [
       "<Figure size 640x480 with 1 Axes>"
      ]
     },
     "metadata": {},
     "output_type": "display_data"
    }
   ],
   "source": [
    "plt.figure()\n",
    "plt.hist(data_predict['loan_status'], bins=100)\n",
    "plt.yscale('log')\n",
    "\n",
    "plt.xlabel('predict_proba')\n",
    "plt.ylabel('frequency')\n",
    "\n",
    "None"
   ]
  },
  {
   "cell_type": "code",
   "execution_count": 68,
   "id": "df0ed556-1e9f-45f5-9d4c-b9987ce35d3e",
   "metadata": {},
   "outputs": [],
   "source": [
    "# this code creates `threshold_array`, and it is sorted in ascending order\n",
    "\n",
    "data_predict = decision_tree_model_predict(\n",
    "    clf,\n",
    "    data_test_copy,\n",
    "    decision_tree_columns,\n",
    "    decision_tree_columns_with_id,\n",
    ")\n",
    "\n",
    "threshold_array = numpy.concatenate(\n",
    "    (\n",
    "        numpy.array([-numpy.inf]),\n",
    "        numpy.unique(data_predict['loan_status']),\n",
    "        numpy.array([1.1]),\n",
    "    )\n",
    ")"
   ]
  },
  {
   "cell_type": "code",
   "execution_count": 70,
   "id": "8033e4ee-6c54-4417-acb3-bfe78c15d4ee",
   "metadata": {},
   "outputs": [],
   "source": [
    "count = len(threshold_array)\n",
    "\n",
    "accuracy_array = numpy.zeros(shape=(count,), dtype=float)\n",
    "\n",
    "for i, threshold in enumerate(threshold_array):\n",
    "    accuracy = decision_tree_model_test_threshold(\n",
    "        clf,\n",
    "        test_data,\n",
    "        decision_tree_columns,\n",
    "        threshold,\n",
    "    )\n",
    "\n",
    "    threshold_array[i] = threshold\n",
    "    accuracy_array[i] = accuracy"
   ]
  },
  {
   "cell_type": "code",
   "execution_count": 73,
   "id": "49590270-34c7-463d-a601-40054471c9f0",
   "metadata": {},
   "outputs": [
    {
     "data": {
      "image/png": "[encoded data removed]",
      "text/plain": [
       "<Figure size 640x480 with 1 Axes>"
      ]
     },
     "metadata": {},
     "output_type": "display_data"
    }
   ],
   "source": [
    "plt.figure()\n",
    "\n",
    "plt.plot(\n",
    "    threshold_array,\n",
    "    accuracy_array,\n",
    "    linewidth=2,\n",
    ")\n",
    "\n",
    "plt.ylabel('accuracy')\n",
    "plt.xlabel('probability categorization threshold')\n",
    "plt.xlim(0.0, 1.0)\n",
    "\n",
    "None"
   ]
  },
  {
   "cell_type": "markdown",
   "id": "dc398a80-d6c5-42c6-bee8-3f7fae4bda68",
   "metadata": {},
   "source": [
    "# Decision Tree Model - Max Depth"
   ]
  },
  {
   "cell_type": "code",
   "execution_count": 46,
   "id": "864ee9c0-8bd8-4f2c-ae36-1cde4e39ceb2",
   "metadata": {},
   "outputs": [
    {
     "name": "stdout",
     "output_type": "stream",
     "text": [
      "processing max_depth=1\n",
      "processing max_depth=2\n",
      "processing max_depth=3\n",
      "processing max_depth=4\n",
      "processing max_depth=5\n",
      "processing max_depth=6\n",
      "processing max_depth=7\n",
      "processing max_depth=8\n",
      "processing max_depth=9\n",
      "processing max_depth=10\n",
      "processing max_depth=12\n",
      "processing max_depth=14\n",
      "processing max_depth=16\n",
      "processing max_depth=18\n",
      "processing max_depth=20\n",
      "processing max_depth=25\n",
      "processing max_depth=30\n",
      "processing max_depth=35\n",
      "processing max_depth=40\n",
      "processing max_depth=50\n",
      "processing max_depth=60\n",
      "processing max_depth=70\n",
      "processing max_depth=80\n",
      "processing max_depth=90\n",
      "processing max_depth=100\n",
      "done\n"
     ]
    }
   ],
   "source": [
    "max_depth = None\n",
    "min_samples_split = 2\n",
    "max_leaf_nodes = None\n",
    "min_samples_leaf = 1\n",
    "min_impurity_decrease = 0.0\n",
    "\n",
    "accuracy_in_sample_list = []\n",
    "accuracy_out_of_sample_list = []\n",
    "auc_list = []\n",
    "tpr_list = []\n",
    "fpr_list = []\n",
    "threshold_list = []\n",
    "max_depth_list = []\n",
    "min_samples_split_list = []\n",
    "max_leaf_nodes_list = []\n",
    "min_samples_leaf_list = []\n",
    "min_impurity_decrease_list = []\n",
    "\n",
    "max_depth_list_input = [\n",
    "    1, 2, 3, 4, 5, 6, 7, 8, 9, 10,\n",
    "    12, 14, 16, 18, 20,\n",
    "    25, 30, 35, 40, 50, 60, 70, 80, 90, 100,\n",
    "]\n",
    "min_samples_split_list_input = [2, 3, 4, 5, 7, 10, 20]\n",
    "max_leaf_nodes_list_input = [2, 4, 8, 16, 32]\n",
    "min_samples_leaf_list_input = [1, 2, 4, 8, 16, 32]\n",
    "min_impurity_decrease_list_input = [0.0, 0.001, 0.01, 0.1]\n",
    "\n",
    "filename = f'decision_tree_model_by_max_depth_AUC.csv'\n",
    "\n",
    "df = None\n",
    "\n",
    "for max_depth in max_depth_list_input:\n",
    "    print(f'processing max_depth={max_depth}')\n",
    "\n",
    "    # read data from file\n",
    "    if df is None:\n",
    "        try:\n",
    "            df = pandas.read_csv(filename, index_col=0)\n",
    "        except:\n",
    "            pass\n",
    "\n",
    "        if df is not None:\n",
    "            accuracy_in_sample_list = df['accuracy_in_sample'].to_numpy().tolist()\n",
    "            accuracy_out_of_sample_list = df['accuracy_out_of_sample'].to_numpy().tolist()\n",
    "            auc_list = df['auc'].to_numpy().tolist()\n",
    "            max_depth_list = df['max_depth'].to_numpy().tolist()\n",
    "            min_samples_split_list = df['min_samples_split'].to_numpy().tolist()\n",
    "            max_leaf_nodes_list = df['max_leaf_nodes'].to_numpy().tolist()\n",
    "            min_samples_leaf_list = df['min_samples_leaf'].to_numpy().tolist()\n",
    "            min_impurity_decrease_list = df['min_impurity_decrease'].to_numpy().tolist()\n",
    "    \n",
    "    for i in range(k):\n",
    "        test_index = folds[i]\n",
    "        train_index = numpy.concatenate([folds[j] for j in range(k) if j != i])\n",
    "            \n",
    "        training_data = all_training_data.loc[train_index]\n",
    "        test_data = all_training_data.loc[test_index]\n",
    "        \n",
    "        (\n",
    "            clf,\n",
    "            feature_importances,\n",
    "            accuracy_in_sample,\n",
    "        ) = decision_tree_model_train(\n",
    "            training_data,\n",
    "            decision_tree_columns,\n",
    "            max_depth,\n",
    "            min_samples_split,\n",
    "            max_leaf_nodes,\n",
    "            min_samples_leaf,\n",
    "            min_impurity_decrease,\n",
    "        )\n",
    "        \n",
    "        accuracy_out_of_sample = decision_tree_model_test(\n",
    "            clf,\n",
    "            test_data,\n",
    "            decision_tree_columns,\n",
    "        )\n",
    "\n",
    "        (roc_curve_fpr, roc_curve_tpr, roc_curve_threshold) = roc_curve(\n",
    "            test_data['loan_status'],\n",
    "            decision_tree_model_predict_proba(clf, test_data, decision_tree_columns),\n",
    "        )\n",
    "\n",
    "        #auc_ = decision_tree_model_test_AUC(\n",
    "        #    clf,\n",
    "        #    test_data,\n",
    "        #    decision_tree_columns,\n",
    "        #)\n",
    "\n",
    "        auc_ = auc(roc_curve_fpr, roc_curve_tpr)\n",
    "    \n",
    "        accuracy_in_sample_list.append(accuracy_in_sample)\n",
    "        accuracy_out_of_sample_list.append(accuracy_out_of_sample)\n",
    "        auc_list.append(auc_)\n",
    "        tpr_list.append(roc_curve_tpr)\n",
    "        fpr_list.append(roc_curve_fpr)\n",
    "        threshold_list.append(roc_curve_threshold)\n",
    "        max_depth_list.append(max_depth)\n",
    "        min_samples_split_list.append(min_samples_split)\n",
    "        max_leaf_nodes_list.append(max_leaf_nodes)\n",
    "        min_samples_leaf_list.append(min_samples_leaf)\n",
    "        min_impurity_decrease_list.append(min_impurity_decrease)\n",
    "        \n",
    "        #data_predict = decision_tree_model_predict(\n",
    "        #    clf,\n",
    "        #    data_test_copy,\n",
    "        #    decision_tree_columns,\n",
    "        #    decision_tree_columns_with_id,\n",
    "        #)\n",
    "        \n",
    "        #decision_tree_model_predict_write_to_csv(\n",
    "        #    data_predict,\n",
    "        #    f'decision_tree_model_one_hot_encoder_2_clean_code-2-max_depth_none.csv'\n",
    "        #)\n",
    "\n",
    "    # write data to file\n",
    "    df = pandas.DataFrame(\n",
    "        {\n",
    "            'max_depth': max_depth_list,\n",
    "            'min_samples_split': min_samples_split_list,\n",
    "            'max_leaf_nodes': max_leaf_nodes_list,\n",
    "            'min_samples_leaf': min_samples_leaf_list,\n",
    "            'min_impurity_decrease': min_impurity_decrease_list,\n",
    "            'accuracy_in_sample': accuracy_in_sample_list,\n",
    "            'accuracy_out_of_sample': accuracy_out_of_sample_list,\n",
    "            'auc': auc_list,\n",
    "            #'public_score': public_score_list,\n",
    "            #'private_score': private_score_list,\n",
    "        }\n",
    "    )\n",
    "    df['max_depth'] = df['max_depth'].astype(object)\n",
    "    df['max_leaf_nodes'] = df['max_leaf_nodes'].astype(object)\n",
    "    df.loc[df['max_depth'].isna(), 'max_depth'] = 'none'\n",
    "    df.loc[df['max_leaf_nodes'].isna(), 'max_leaf_nodes'] = 'none'\n",
    "    df.to_csv(filename, index=True)\n",
    "\n",
    "print(f'done')"
   ]
  },
  {
   "cell_type": "code",
   "execution_count": 47,
   "id": "d6cc5440-76c3-4317-848c-e08ee9385ba3",
   "metadata": {},
   "outputs": [],
   "source": [
    "df = pandas.DataFrame(\n",
    "    {\n",
    "        'max_depth': max_depth_list,\n",
    "        'min_samples_split': min_samples_split_list,\n",
    "        'max_leaf_nodes': max_leaf_nodes_list,\n",
    "        'min_samples_leaf': min_samples_leaf_list,\n",
    "        'min_impurity_decrease': min_impurity_decrease_list,\n",
    "        'accuracy_in_sample': accuracy_in_sample_list,\n",
    "        'accuracy_out_of_sample': accuracy_out_of_sample_list,\n",
    "        'auc': auc_list,\n",
    "        #'public_score': public_score_list,\n",
    "        #'private_score': private_score_list,\n",
    "    }\n",
    ")"
   ]
  },
  {
   "cell_type": "code",
   "execution_count": 49,
   "id": "47fdc491-228e-4eb4-8c6b-9bdc1c4ae24a",
   "metadata": {},
   "outputs": [
    {
     "name": "stderr",
     "output_type": "stream",
     "text": [
      "/tmp/ipykernel_51795/2554244916.py:1: FutureWarning: Setting an item of incompatible dtype is deprecated and will raise an error in a future version of pandas. Value 'none' has dtype incompatible with int64, please explicitly cast to a compatible dtype first.\n",
      "  df.loc[df['max_depth'].isna(), 'max_depth'] = 'none'\n"
     ]
    }
   ],
   "source": [
    "df.loc[df['max_depth'].isna(), 'max_depth'] = 'none'\n",
    "df.loc[df['max_leaf_nodes'].isna(), 'max_leaf_nodes'] = 'none'"
   ]
  },
  {
   "cell_type": "code",
   "execution_count": 50,
   "id": "5db46613-559d-4007-a0ba-92bce4fab310",
   "metadata": {},
   "outputs": [
    {
     "data": {
      "text/html": [
       "<div>\n",
       "<style scoped>\n",
       "    .dataframe tbody tr th:only-of-type {\n",
       "        vertical-align: middle;\n",
       "    }\n",
       "\n",
       "    .dataframe tbody tr th {\n",
       "        vertical-align: top;\n",
       "    }\n",
       "\n",
       "    .dataframe thead th {\n",
       "        text-align: right;\n",
       "    }\n",
       "</style>\n",
       "<table border=\"1\" class=\"dataframe\">\n",
       "  <thead>\n",
       "    <tr style=\"text-align: right;\">\n",
       "      <th></th>\n",
       "      <th>max_depth</th>\n",
       "      <th>min_samples_split</th>\n",
       "      <th>max_leaf_nodes</th>\n",
       "      <th>min_samples_leaf</th>\n",
       "      <th>min_impurity_decrease</th>\n",
       "      <th>accuracy_in_sample</th>\n",
       "      <th>accuracy_out_of_sample</th>\n",
       "      <th>auc</th>\n",
       "    </tr>\n",
       "  </thead>\n",
       "  <tbody>\n",
       "    <tr>\n",
       "      <th>0</th>\n",
       "      <td>1</td>\n",
       "      <td>2</td>\n",
       "      <td>none</td>\n",
       "      <td>1</td>\n",
       "      <td>0.0</td>\n",
       "      <td>0.870268</td>\n",
       "      <td>0.886598</td>\n",
       "      <td>0.697394</td>\n",
       "    </tr>\n",
       "    <tr>\n",
       "      <th>1</th>\n",
       "      <td>1</td>\n",
       "      <td>2</td>\n",
       "      <td>none</td>\n",
       "      <td>1</td>\n",
       "      <td>0.0</td>\n",
       "      <td>0.870488</td>\n",
       "      <td>0.864834</td>\n",
       "      <td>0.675261</td>\n",
       "    </tr>\n",
       "    <tr>\n",
       "      <th>2</th>\n",
       "      <td>1</td>\n",
       "      <td>2</td>\n",
       "      <td>none</td>\n",
       "      <td>1</td>\n",
       "      <td>0.0</td>\n",
       "      <td>0.870430</td>\n",
       "      <td>0.870561</td>\n",
       "      <td>0.681552</td>\n",
       "    </tr>\n",
       "    <tr>\n",
       "      <th>3</th>\n",
       "      <td>1</td>\n",
       "      <td>2</td>\n",
       "      <td>none</td>\n",
       "      <td>1</td>\n",
       "      <td>0.0</td>\n",
       "      <td>0.870453</td>\n",
       "      <td>0.868270</td>\n",
       "      <td>0.691815</td>\n",
       "    </tr>\n",
       "    <tr>\n",
       "      <th>4</th>\n",
       "      <td>1</td>\n",
       "      <td>2</td>\n",
       "      <td>none</td>\n",
       "      <td>1</td>\n",
       "      <td>0.0</td>\n",
       "      <td>0.870418</td>\n",
       "      <td>0.871707</td>\n",
       "      <td>0.675396</td>\n",
       "    </tr>\n",
       "    <tr>\n",
       "      <th>...</th>\n",
       "      <td>...</td>\n",
       "      <td>...</td>\n",
       "      <td>...</td>\n",
       "      <td>...</td>\n",
       "      <td>...</td>\n",
       "      <td>...</td>\n",
       "      <td>...</td>\n",
       "      <td>...</td>\n",
       "    </tr>\n",
       "    <tr>\n",
       "      <th>9595</th>\n",
       "      <td>100</td>\n",
       "      <td>2</td>\n",
       "      <td>none</td>\n",
       "      <td>1</td>\n",
       "      <td>0.0</td>\n",
       "      <td>0.999977</td>\n",
       "      <td>0.897936</td>\n",
       "      <td>0.840656</td>\n",
       "    </tr>\n",
       "    <tr>\n",
       "      <th>9596</th>\n",
       "      <td>100</td>\n",
       "      <td>2</td>\n",
       "      <td>none</td>\n",
       "      <td>1</td>\n",
       "      <td>0.0</td>\n",
       "      <td>0.999977</td>\n",
       "      <td>0.905963</td>\n",
       "      <td>0.832290</td>\n",
       "    </tr>\n",
       "    <tr>\n",
       "      <th>9597</th>\n",
       "      <td>100</td>\n",
       "      <td>2</td>\n",
       "      <td>none</td>\n",
       "      <td>1</td>\n",
       "      <td>0.0</td>\n",
       "      <td>0.999977</td>\n",
       "      <td>0.911697</td>\n",
       "      <td>0.844855</td>\n",
       "    </tr>\n",
       "    <tr>\n",
       "      <th>9598</th>\n",
       "      <td>100</td>\n",
       "      <td>2</td>\n",
       "      <td>none</td>\n",
       "      <td>1</td>\n",
       "      <td>0.0</td>\n",
       "      <td>0.999988</td>\n",
       "      <td>0.919725</td>\n",
       "      <td>0.850560</td>\n",
       "    </tr>\n",
       "    <tr>\n",
       "      <th>9599</th>\n",
       "      <td>100</td>\n",
       "      <td>2</td>\n",
       "      <td>none</td>\n",
       "      <td>1</td>\n",
       "      <td>0.0</td>\n",
       "      <td>0.999988</td>\n",
       "      <td>0.909404</td>\n",
       "      <td>0.826965</td>\n",
       "    </tr>\n",
       "  </tbody>\n",
       "</table>\n",
       "<p>9600 rows × 8 columns</p>\n",
       "</div>"
      ],
      "text/plain": [
       "     max_depth  min_samples_split max_leaf_nodes  min_samples_leaf  \\\n",
       "0            1                  2           none                 1   \n",
       "1            1                  2           none                 1   \n",
       "2            1                  2           none                 1   \n",
       "3            1                  2           none                 1   \n",
       "4            1                  2           none                 1   \n",
       "...        ...                ...            ...               ...   \n",
       "9595       100                  2           none                 1   \n",
       "9596       100                  2           none                 1   \n",
       "9597       100                  2           none                 1   \n",
       "9598       100                  2           none                 1   \n",
       "9599       100                  2           none                 1   \n",
       "\n",
       "      min_impurity_decrease  accuracy_in_sample  accuracy_out_of_sample  \\\n",
       "0                       0.0            0.870268                0.886598   \n",
       "1                       0.0            0.870488                0.864834   \n",
       "2                       0.0            0.870430                0.870561   \n",
       "3                       0.0            0.870453                0.868270   \n",
       "4                       0.0            0.870418                0.871707   \n",
       "...                     ...                 ...                     ...   \n",
       "9595                    0.0            0.999977                0.897936   \n",
       "9596                    0.0            0.999977                0.905963   \n",
       "9597                    0.0            0.999977                0.911697   \n",
       "9598                    0.0            0.999988                0.919725   \n",
       "9599                    0.0            0.999988                0.909404   \n",
       "\n",
       "           auc  \n",
       "0     0.697394  \n",
       "1     0.675261  \n",
       "2     0.681552  \n",
       "3     0.691815  \n",
       "4     0.675396  \n",
       "...        ...  \n",
       "9595  0.840656  \n",
       "9596  0.832290  \n",
       "9597  0.844855  \n",
       "9598  0.850560  \n",
       "9599  0.826965  \n",
       "\n",
       "[9600 rows x 8 columns]"
      ]
     },
     "execution_count": 50,
     "metadata": {},
     "output_type": "execute_result"
    }
   ],
   "source": [
    "df"
   ]
  },
  {
   "cell_type": "code",
   "execution_count": 119,
   "id": "50bd3d5a-deff-45d6-bea5-6c6e23c49923",
   "metadata": {},
   "outputs": [],
   "source": [
    "df.loc[df['max_depth'] == 'none', 'max_depth'] = 100 # number of features\n",
    "df['max_depth'] = df['max_depth'].astype(float)\n",
    "df['max_depth'] = df['max_depth'].astype(int)"
   ]
  },
  {
   "cell_type": "code",
   "execution_count": 55,
   "id": "40a27eab-644b-4926-b3ad-663f15c4e5c9",
   "metadata": {},
   "outputs": [],
   "source": [
    "filename = f'decision_tree_model_by_max_depth_AUC_publication.csv'\n",
    "df.to_csv(filename, index=True)"
   ]
  },
  {
   "cell_type": "markdown",
   "id": "13afdcb9-5c05-412b-bba0-54ab0602c646",
   "metadata": {},
   "source": [
    "# Aggregate data for line graphs"
   ]
  },
  {
   "cell_type": "code",
   "execution_count": 36,
   "id": "b3bd3f87-7bde-4c77-87d5-68f86bc5c1a5",
   "metadata": {},
   "outputs": [],
   "source": [
    "aggregation_spec = {\n",
    "    f'{input_column}': [\n",
    "        (f'{input_column}_mean', 'mean'),\n",
    "        (f'{input_column}_median', 'median'),\n",
    "        (f'{input_column}_min', 'min'),\n",
    "        (f'{input_column}_max', 'max'),\n",
    "        (f'{input_column}_q1', lambda x: x.quantile(0.25)),\n",
    "        (f'{input_column}_q3', lambda x: x.quantile(0.75)),\n",
    "    ]\n",
    "    for input_column in [\n",
    "        'accuracy_in_sample',\n",
    "        'accuracy_out_of_sample',\n",
    "        'auc',\n",
    "        #'oob_score',\n",
    "        #'public_score',\n",
    "        #'private_score',\n",
    "    ]\n",
    "}"
   ]
  },
  {
   "cell_type": "code",
   "execution_count": 56,
   "id": "9bbcfdd1-7dd5-44da-b14e-9a385ae6065d",
   "metadata": {},
   "outputs": [],
   "source": [
    "df_aggregated = df.groupby(\n",
    "    by=['max_depth', 'min_samples_split', 'max_leaf_nodes', 'min_samples_leaf', 'min_impurity_decrease']\n",
    ").aggregate(\n",
    "    aggregation_spec\n",
    ")\n",
    "\n",
    "df_aggregated.columns = [column[1] for column in df_aggregated.columns]\n",
    "\n",
    "df_aggregated.reset_index(inplace=True)"
   ]
  },
  {
   "cell_type": "code",
   "execution_count": 94,
   "id": "4b82bff2-d603-408f-855b-f405c6e184f2",
   "metadata": {},
   "outputs": [],
   "source": [
    "# TODO: don't think I need this anymore\n",
    "#df_aggregated.loc[df_aggregated['max_depth'] == 'none', 'max_depth'] = 19 # number of features\n",
    "#df_aggregated['max_depth'] = df_aggregated['max_depth'].astype(int)"
   ]
  },
  {
   "cell_type": "code",
   "execution_count": 57,
   "id": "c4e1ac06-f39a-4ce8-9333-b0412bc4975a",
   "metadata": {},
   "outputs": [
    {
     "data": {
      "text/html": [
       "<div>\n",
       "<style scoped>\n",
       "    .dataframe tbody tr th:only-of-type {\n",
       "        vertical-align: middle;\n",
       "    }\n",
       "\n",
       "    .dataframe tbody tr th {\n",
       "        vertical-align: top;\n",
       "    }\n",
       "\n",
       "    .dataframe thead th {\n",
       "        text-align: right;\n",
       "    }\n",
       "</style>\n",
       "<table border=\"1\" class=\"dataframe\">\n",
       "  <thead>\n",
       "    <tr style=\"text-align: right;\">\n",
       "      <th></th>\n",
       "      <th>max_depth</th>\n",
       "      <th>min_samples_split</th>\n",
       "      <th>max_leaf_nodes</th>\n",
       "      <th>min_samples_leaf</th>\n",
       "      <th>min_impurity_decrease</th>\n",
       "      <th>accuracy_in_sample_mean</th>\n",
       "      <th>accuracy_in_sample_median</th>\n",
       "      <th>accuracy_in_sample_min</th>\n",
       "      <th>accuracy_in_sample_max</th>\n",
       "      <th>accuracy_in_sample_q1</th>\n",
       "      <th>...</th>\n",
       "      <th>accuracy_out_of_sample_min</th>\n",
       "      <th>accuracy_out_of_sample_max</th>\n",
       "      <th>accuracy_out_of_sample_q1</th>\n",
       "      <th>accuracy_out_of_sample_q3</th>\n",
       "      <th>auc_mean</th>\n",
       "      <th>auc_median</th>\n",
       "      <th>auc_min</th>\n",
       "      <th>auc_max</th>\n",
       "      <th>auc_q1</th>\n",
       "      <th>auc_q3</th>\n",
       "    </tr>\n",
       "  </thead>\n",
       "  <tbody>\n",
       "    <tr>\n",
       "      <th>0</th>\n",
       "      <td>1</td>\n",
       "      <td>2</td>\n",
       "      <td>none</td>\n",
       "      <td>1</td>\n",
       "      <td>0.0</td>\n",
       "      <td>0.870431</td>\n",
       "      <td>0.870430</td>\n",
       "      <td>0.870187</td>\n",
       "      <td>0.870742</td>\n",
       "      <td>0.870350</td>\n",
       "      <td>...</td>\n",
       "      <td>0.839633</td>\n",
       "      <td>0.894616</td>\n",
       "      <td>0.862543</td>\n",
       "      <td>0.878475</td>\n",
       "      <td>0.677221</td>\n",
       "      <td>0.677089</td>\n",
       "      <td>0.617335</td>\n",
       "      <td>0.738279</td>\n",
       "      <td>0.661874</td>\n",
       "      <td>0.691486</td>\n",
       "    </tr>\n",
       "    <tr>\n",
       "      <th>1</th>\n",
       "      <td>2</td>\n",
       "      <td>2</td>\n",
       "      <td>none</td>\n",
       "      <td>1</td>\n",
       "      <td>0.0</td>\n",
       "      <td>0.903075</td>\n",
       "      <td>0.903080</td>\n",
       "      <td>0.902790</td>\n",
       "      <td>0.903324</td>\n",
       "      <td>0.903019</td>\n",
       "      <td>...</td>\n",
       "      <td>0.878440</td>\n",
       "      <td>0.931271</td>\n",
       "      <td>0.896907</td>\n",
       "      <td>0.908622</td>\n",
       "      <td>0.839832</td>\n",
       "      <td>0.839487</td>\n",
       "      <td>0.791431</td>\n",
       "      <td>0.893411</td>\n",
       "      <td>0.827413</td>\n",
       "      <td>0.852530</td>\n",
       "    </tr>\n",
       "    <tr>\n",
       "      <th>2</th>\n",
       "      <td>3</td>\n",
       "      <td>2</td>\n",
       "      <td>none</td>\n",
       "      <td>1</td>\n",
       "      <td>0.0</td>\n",
       "      <td>0.912780</td>\n",
       "      <td>0.912779</td>\n",
       "      <td>0.912570</td>\n",
       "      <td>0.913104</td>\n",
       "      <td>0.912721</td>\n",
       "      <td>...</td>\n",
       "      <td>0.880734</td>\n",
       "      <td>0.933562</td>\n",
       "      <td>0.906850</td>\n",
       "      <td>0.918671</td>\n",
       "      <td>0.875345</td>\n",
       "      <td>0.876023</td>\n",
       "      <td>0.831291</td>\n",
       "      <td>0.918825</td>\n",
       "      <td>0.862757</td>\n",
       "      <td>0.886244</td>\n",
       "    </tr>\n",
       "    <tr>\n",
       "      <th>3</th>\n",
       "      <td>4</td>\n",
       "      <td>2</td>\n",
       "      <td>none</td>\n",
       "      <td>1</td>\n",
       "      <td>0.0</td>\n",
       "      <td>0.927288</td>\n",
       "      <td>0.927293</td>\n",
       "      <td>0.927015</td>\n",
       "      <td>0.927560</td>\n",
       "      <td>0.927223</td>\n",
       "      <td>...</td>\n",
       "      <td>0.902523</td>\n",
       "      <td>0.948454</td>\n",
       "      <td>0.922018</td>\n",
       "      <td>0.933562</td>\n",
       "      <td>0.898200</td>\n",
       "      <td>0.898727</td>\n",
       "      <td>0.850858</td>\n",
       "      <td>0.939096</td>\n",
       "      <td>0.887984</td>\n",
       "      <td>0.908415</td>\n",
       "    </tr>\n",
       "    <tr>\n",
       "      <th>4</th>\n",
       "      <td>5</td>\n",
       "      <td>2</td>\n",
       "      <td>none</td>\n",
       "      <td>1</td>\n",
       "      <td>0.0</td>\n",
       "      <td>0.940142</td>\n",
       "      <td>0.940198</td>\n",
       "      <td>0.939527</td>\n",
       "      <td>0.940394</td>\n",
       "      <td>0.940117</td>\n",
       "      <td>...</td>\n",
       "      <td>0.922018</td>\n",
       "      <td>0.962156</td>\n",
       "      <td>0.934708</td>\n",
       "      <td>0.945017</td>\n",
       "      <td>0.908428</td>\n",
       "      <td>0.908699</td>\n",
       "      <td>0.863154</td>\n",
       "      <td>0.949162</td>\n",
       "      <td>0.898269</td>\n",
       "      <td>0.918727</td>\n",
       "    </tr>\n",
       "    <tr>\n",
       "      <th>5</th>\n",
       "      <td>6</td>\n",
       "      <td>2</td>\n",
       "      <td>none</td>\n",
       "      <td>1</td>\n",
       "      <td>0.0</td>\n",
       "      <td>0.943386</td>\n",
       "      <td>0.943398</td>\n",
       "      <td>0.943010</td>\n",
       "      <td>0.943601</td>\n",
       "      <td>0.943322</td>\n",
       "      <td>...</td>\n",
       "      <td>0.924312</td>\n",
       "      <td>0.963345</td>\n",
       "      <td>0.938144</td>\n",
       "      <td>0.948454</td>\n",
       "      <td>0.914076</td>\n",
       "      <td>0.914102</td>\n",
       "      <td>0.870466</td>\n",
       "      <td>0.957473</td>\n",
       "      <td>0.904257</td>\n",
       "      <td>0.923225</td>\n",
       "    </tr>\n",
       "    <tr>\n",
       "      <th>6</th>\n",
       "      <td>7</td>\n",
       "      <td>2</td>\n",
       "      <td>none</td>\n",
       "      <td>1</td>\n",
       "      <td>0.0</td>\n",
       "      <td>0.944461</td>\n",
       "      <td>0.944399</td>\n",
       "      <td>0.944109</td>\n",
       "      <td>0.945198</td>\n",
       "      <td>0.944341</td>\n",
       "      <td>...</td>\n",
       "      <td>0.922018</td>\n",
       "      <td>0.967927</td>\n",
       "      <td>0.938144</td>\n",
       "      <td>0.948454</td>\n",
       "      <td>0.920009</td>\n",
       "      <td>0.919496</td>\n",
       "      <td>0.879059</td>\n",
       "      <td>0.966044</td>\n",
       "      <td>0.910459</td>\n",
       "      <td>0.928629</td>\n",
       "    </tr>\n",
       "    <tr>\n",
       "      <th>7</th>\n",
       "      <td>8</td>\n",
       "      <td>2</td>\n",
       "      <td>none</td>\n",
       "      <td>1</td>\n",
       "      <td>0.0</td>\n",
       "      <td>0.946200</td>\n",
       "      <td>0.946216</td>\n",
       "      <td>0.945869</td>\n",
       "      <td>0.946459</td>\n",
       "      <td>0.946135</td>\n",
       "      <td>...</td>\n",
       "      <td>0.924312</td>\n",
       "      <td>0.965636</td>\n",
       "      <td>0.940367</td>\n",
       "      <td>0.950745</td>\n",
       "      <td>0.922294</td>\n",
       "      <td>0.921586</td>\n",
       "      <td>0.884606</td>\n",
       "      <td>0.966872</td>\n",
       "      <td>0.913428</td>\n",
       "      <td>0.931585</td>\n",
       "    </tr>\n",
       "    <tr>\n",
       "      <th>8</th>\n",
       "      <td>9</td>\n",
       "      <td>2</td>\n",
       "      <td>none</td>\n",
       "      <td>1</td>\n",
       "      <td>0.0</td>\n",
       "      <td>0.947255</td>\n",
       "      <td>0.947258</td>\n",
       "      <td>0.946737</td>\n",
       "      <td>0.947802</td>\n",
       "      <td>0.947142</td>\n",
       "      <td>...</td>\n",
       "      <td>0.924312</td>\n",
       "      <td>0.965636</td>\n",
       "      <td>0.940367</td>\n",
       "      <td>0.950688</td>\n",
       "      <td>0.925089</td>\n",
       "      <td>0.924969</td>\n",
       "      <td>0.880673</td>\n",
       "      <td>0.957002</td>\n",
       "      <td>0.915480</td>\n",
       "      <td>0.935252</td>\n",
       "    </tr>\n",
       "    <tr>\n",
       "      <th>9</th>\n",
       "      <td>10</td>\n",
       "      <td>2</td>\n",
       "      <td>none</td>\n",
       "      <td>1</td>\n",
       "      <td>0.0</td>\n",
       "      <td>0.948599</td>\n",
       "      <td>0.948589</td>\n",
       "      <td>0.948276</td>\n",
       "      <td>0.949052</td>\n",
       "      <td>0.948516</td>\n",
       "      <td>...</td>\n",
       "      <td>0.922018</td>\n",
       "      <td>0.964490</td>\n",
       "      <td>0.939290</td>\n",
       "      <td>0.949541</td>\n",
       "      <td>0.924139</td>\n",
       "      <td>0.924356</td>\n",
       "      <td>0.882043</td>\n",
       "      <td>0.958027</td>\n",
       "      <td>0.914989</td>\n",
       "      <td>0.933617</td>\n",
       "    </tr>\n",
       "    <tr>\n",
       "      <th>10</th>\n",
       "      <td>12</td>\n",
       "      <td>2</td>\n",
       "      <td>none</td>\n",
       "      <td>1</td>\n",
       "      <td>0.0</td>\n",
       "      <td>0.952127</td>\n",
       "      <td>0.952119</td>\n",
       "      <td>0.951633</td>\n",
       "      <td>0.952594</td>\n",
       "      <td>0.952014</td>\n",
       "      <td>...</td>\n",
       "      <td>0.922018</td>\n",
       "      <td>0.964450</td>\n",
       "      <td>0.938144</td>\n",
       "      <td>0.947308</td>\n",
       "      <td>0.915449</td>\n",
       "      <td>0.914729</td>\n",
       "      <td>0.872916</td>\n",
       "      <td>0.961761</td>\n",
       "      <td>0.904968</td>\n",
       "      <td>0.926567</td>\n",
       "    </tr>\n",
       "    <tr>\n",
       "      <th>11</th>\n",
       "      <td>14</td>\n",
       "      <td>2</td>\n",
       "      <td>none</td>\n",
       "      <td>1</td>\n",
       "      <td>0.0</td>\n",
       "      <td>0.957101</td>\n",
       "      <td>0.957107</td>\n",
       "      <td>0.956540</td>\n",
       "      <td>0.957987</td>\n",
       "      <td>0.956933</td>\n",
       "      <td>...</td>\n",
       "      <td>0.918578</td>\n",
       "      <td>0.959862</td>\n",
       "      <td>0.934708</td>\n",
       "      <td>0.945017</td>\n",
       "      <td>0.904898</td>\n",
       "      <td>0.904162</td>\n",
       "      <td>0.856323</td>\n",
       "      <td>0.948727</td>\n",
       "      <td>0.893530</td>\n",
       "      <td>0.916514</td>\n",
       "    </tr>\n",
       "    <tr>\n",
       "      <th>12</th>\n",
       "      <td>16</td>\n",
       "      <td>2</td>\n",
       "      <td>none</td>\n",
       "      <td>1</td>\n",
       "      <td>0.0</td>\n",
       "      <td>0.963170</td>\n",
       "      <td>0.963195</td>\n",
       "      <td>0.962037</td>\n",
       "      <td>0.964098</td>\n",
       "      <td>0.962891</td>\n",
       "      <td>...</td>\n",
       "      <td>0.915138</td>\n",
       "      <td>0.961009</td>\n",
       "      <td>0.931271</td>\n",
       "      <td>0.942661</td>\n",
       "      <td>0.893515</td>\n",
       "      <td>0.893528</td>\n",
       "      <td>0.832559</td>\n",
       "      <td>0.937891</td>\n",
       "      <td>0.881940</td>\n",
       "      <td>0.907489</td>\n",
       "    </tr>\n",
       "    <tr>\n",
       "      <th>13</th>\n",
       "      <td>18</td>\n",
       "      <td>2</td>\n",
       "      <td>none</td>\n",
       "      <td>1</td>\n",
       "      <td>0.0</td>\n",
       "      <td>0.970330</td>\n",
       "      <td>0.970348</td>\n",
       "      <td>0.968658</td>\n",
       "      <td>0.971343</td>\n",
       "      <td>0.970058</td>\n",
       "      <td>...</td>\n",
       "      <td>0.909507</td>\n",
       "      <td>0.959862</td>\n",
       "      <td>0.926690</td>\n",
       "      <td>0.938144</td>\n",
       "      <td>0.881107</td>\n",
       "      <td>0.880937</td>\n",
       "      <td>0.823208</td>\n",
       "      <td>0.930759</td>\n",
       "      <td>0.867551</td>\n",
       "      <td>0.894647</td>\n",
       "    </tr>\n",
       "    <tr>\n",
       "      <th>14</th>\n",
       "      <td>20</td>\n",
       "      <td>2</td>\n",
       "      <td>none</td>\n",
       "      <td>1</td>\n",
       "      <td>0.0</td>\n",
       "      <td>0.977361</td>\n",
       "      <td>0.977385</td>\n",
       "      <td>0.976123</td>\n",
       "      <td>0.978785</td>\n",
       "      <td>0.977049</td>\n",
       "      <td>...</td>\n",
       "      <td>0.903780</td>\n",
       "      <td>0.954181</td>\n",
       "      <td>0.923165</td>\n",
       "      <td>0.933562</td>\n",
       "      <td>0.871035</td>\n",
       "      <td>0.872291</td>\n",
       "      <td>0.817936</td>\n",
       "      <td>0.926640</td>\n",
       "      <td>0.856832</td>\n",
       "      <td>0.884635</td>\n",
       "    </tr>\n",
       "    <tr>\n",
       "      <th>15</th>\n",
       "      <td>25</td>\n",
       "      <td>2</td>\n",
       "      <td>none</td>\n",
       "      <td>1</td>\n",
       "      <td>0.0</td>\n",
       "      <td>0.991482</td>\n",
       "      <td>0.991493</td>\n",
       "      <td>0.990197</td>\n",
       "      <td>0.993079</td>\n",
       "      <td>0.991134</td>\n",
       "      <td>...</td>\n",
       "      <td>0.891180</td>\n",
       "      <td>0.946163</td>\n",
       "      <td>0.912944</td>\n",
       "      <td>0.925544</td>\n",
       "      <td>0.853449</td>\n",
       "      <td>0.852741</td>\n",
       "      <td>0.795932</td>\n",
       "      <td>0.905595</td>\n",
       "      <td>0.840025</td>\n",
       "      <td>0.866355</td>\n",
       "    </tr>\n",
       "    <tr>\n",
       "      <th>16</th>\n",
       "      <td>30</td>\n",
       "      <td>2</td>\n",
       "      <td>none</td>\n",
       "      <td>1</td>\n",
       "      <td>0.0</td>\n",
       "      <td>0.997714</td>\n",
       "      <td>0.997720</td>\n",
       "      <td>0.996829</td>\n",
       "      <td>0.998646</td>\n",
       "      <td>0.997520</td>\n",
       "      <td>...</td>\n",
       "      <td>0.888889</td>\n",
       "      <td>0.942726</td>\n",
       "      <td>0.908362</td>\n",
       "      <td>0.920962</td>\n",
       "      <td>0.847960</td>\n",
       "      <td>0.848287</td>\n",
       "      <td>0.796732</td>\n",
       "      <td>0.899487</td>\n",
       "      <td>0.836018</td>\n",
       "      <td>0.860496</td>\n",
       "    </tr>\n",
       "    <tr>\n",
       "      <th>17</th>\n",
       "      <td>35</td>\n",
       "      <td>2</td>\n",
       "      <td>none</td>\n",
       "      <td>1</td>\n",
       "      <td>0.0</td>\n",
       "      <td>0.999454</td>\n",
       "      <td>0.999468</td>\n",
       "      <td>0.998866</td>\n",
       "      <td>0.999907</td>\n",
       "      <td>0.999352</td>\n",
       "      <td>...</td>\n",
       "      <td>0.888889</td>\n",
       "      <td>0.941581</td>\n",
       "      <td>0.908257</td>\n",
       "      <td>0.919725</td>\n",
       "      <td>0.847355</td>\n",
       "      <td>0.846614</td>\n",
       "      <td>0.797959</td>\n",
       "      <td>0.902127</td>\n",
       "      <td>0.834696</td>\n",
       "      <td>0.859486</td>\n",
       "    </tr>\n",
       "    <tr>\n",
       "      <th>18</th>\n",
       "      <td>40</td>\n",
       "      <td>2</td>\n",
       "      <td>none</td>\n",
       "      <td>1</td>\n",
       "      <td>0.0</td>\n",
       "      <td>0.999867</td>\n",
       "      <td>0.999884</td>\n",
       "      <td>0.999641</td>\n",
       "      <td>0.999977</td>\n",
       "      <td>0.999826</td>\n",
       "      <td>...</td>\n",
       "      <td>0.888761</td>\n",
       "      <td>0.943872</td>\n",
       "      <td>0.908257</td>\n",
       "      <td>0.919817</td>\n",
       "      <td>0.847846</td>\n",
       "      <td>0.846609</td>\n",
       "      <td>0.794806</td>\n",
       "      <td>0.904232</td>\n",
       "      <td>0.837244</td>\n",
       "      <td>0.859209</td>\n",
       "    </tr>\n",
       "    <tr>\n",
       "      <th>19</th>\n",
       "      <td>50</td>\n",
       "      <td>2</td>\n",
       "      <td>none</td>\n",
       "      <td>1</td>\n",
       "      <td>0.0</td>\n",
       "      <td>0.999976</td>\n",
       "      <td>0.999977</td>\n",
       "      <td>0.999919</td>\n",
       "      <td>0.999988</td>\n",
       "      <td>0.999977</td>\n",
       "      <td>...</td>\n",
       "      <td>0.885452</td>\n",
       "      <td>0.941581</td>\n",
       "      <td>0.907216</td>\n",
       "      <td>0.918671</td>\n",
       "      <td>0.847682</td>\n",
       "      <td>0.848148</td>\n",
       "      <td>0.797518</td>\n",
       "      <td>0.898648</td>\n",
       "      <td>0.835770</td>\n",
       "      <td>0.859572</td>\n",
       "    </tr>\n",
       "    <tr>\n",
       "      <th>20</th>\n",
       "      <td>60</td>\n",
       "      <td>2</td>\n",
       "      <td>none</td>\n",
       "      <td>1</td>\n",
       "      <td>0.0</td>\n",
       "      <td>0.999977</td>\n",
       "      <td>0.999977</td>\n",
       "      <td>0.999977</td>\n",
       "      <td>0.999988</td>\n",
       "      <td>0.999977</td>\n",
       "      <td>...</td>\n",
       "      <td>0.893349</td>\n",
       "      <td>0.940435</td>\n",
       "      <td>0.907216</td>\n",
       "      <td>0.919817</td>\n",
       "      <td>0.848178</td>\n",
       "      <td>0.848257</td>\n",
       "      <td>0.800277</td>\n",
       "      <td>0.900260</td>\n",
       "      <td>0.836680</td>\n",
       "      <td>0.859811</td>\n",
       "    </tr>\n",
       "    <tr>\n",
       "      <th>21</th>\n",
       "      <td>70</td>\n",
       "      <td>2</td>\n",
       "      <td>none</td>\n",
       "      <td>1</td>\n",
       "      <td>0.0</td>\n",
       "      <td>0.999977</td>\n",
       "      <td>0.999977</td>\n",
       "      <td>0.999977</td>\n",
       "      <td>0.999988</td>\n",
       "      <td>0.999977</td>\n",
       "      <td>...</td>\n",
       "      <td>0.877434</td>\n",
       "      <td>0.942726</td>\n",
       "      <td>0.906071</td>\n",
       "      <td>0.918935</td>\n",
       "      <td>0.847241</td>\n",
       "      <td>0.846561</td>\n",
       "      <td>0.797281</td>\n",
       "      <td>0.903657</td>\n",
       "      <td>0.834805</td>\n",
       "      <td>0.860388</td>\n",
       "    </tr>\n",
       "    <tr>\n",
       "      <th>22</th>\n",
       "      <td>80</td>\n",
       "      <td>2</td>\n",
       "      <td>none</td>\n",
       "      <td>1</td>\n",
       "      <td>0.0</td>\n",
       "      <td>0.999977</td>\n",
       "      <td>0.999977</td>\n",
       "      <td>0.999977</td>\n",
       "      <td>0.999988</td>\n",
       "      <td>0.999977</td>\n",
       "      <td>...</td>\n",
       "      <td>0.887743</td>\n",
       "      <td>0.940435</td>\n",
       "      <td>0.906850</td>\n",
       "      <td>0.918671</td>\n",
       "      <td>0.847552</td>\n",
       "      <td>0.846737</td>\n",
       "      <td>0.801593</td>\n",
       "      <td>0.899328</td>\n",
       "      <td>0.836782</td>\n",
       "      <td>0.860242</td>\n",
       "    </tr>\n",
       "    <tr>\n",
       "      <th>23</th>\n",
       "      <td>90</td>\n",
       "      <td>2</td>\n",
       "      <td>none</td>\n",
       "      <td>1</td>\n",
       "      <td>0.0</td>\n",
       "      <td>0.999977</td>\n",
       "      <td>0.999977</td>\n",
       "      <td>0.999977</td>\n",
       "      <td>0.999988</td>\n",
       "      <td>0.999977</td>\n",
       "      <td>...</td>\n",
       "      <td>0.891055</td>\n",
       "      <td>0.940435</td>\n",
       "      <td>0.907216</td>\n",
       "      <td>0.919725</td>\n",
       "      <td>0.847926</td>\n",
       "      <td>0.847389</td>\n",
       "      <td>0.801656</td>\n",
       "      <td>0.908238</td>\n",
       "      <td>0.836473</td>\n",
       "      <td>0.861232</td>\n",
       "    </tr>\n",
       "    <tr>\n",
       "      <th>24</th>\n",
       "      <td>100</td>\n",
       "      <td>2</td>\n",
       "      <td>none</td>\n",
       "      <td>1</td>\n",
       "      <td>0.0</td>\n",
       "      <td>0.999977</td>\n",
       "      <td>0.999977</td>\n",
       "      <td>0.999977</td>\n",
       "      <td>0.999988</td>\n",
       "      <td>0.999977</td>\n",
       "      <td>...</td>\n",
       "      <td>0.886598</td>\n",
       "      <td>0.939290</td>\n",
       "      <td>0.906071</td>\n",
       "      <td>0.918935</td>\n",
       "      <td>0.847265</td>\n",
       "      <td>0.847030</td>\n",
       "      <td>0.795496</td>\n",
       "      <td>0.899047</td>\n",
       "      <td>0.835451</td>\n",
       "      <td>0.859158</td>\n",
       "    </tr>\n",
       "  </tbody>\n",
       "</table>\n",
       "<p>25 rows × 23 columns</p>\n",
       "</div>"
      ],
      "text/plain": [
       "    max_depth  min_samples_split max_leaf_nodes  min_samples_leaf  \\\n",
       "0           1                  2           none                 1   \n",
       "1           2                  2           none                 1   \n",
       "2           3                  2           none                 1   \n",
       "3           4                  2           none                 1   \n",
       "4           5                  2           none                 1   \n",
       "5           6                  2           none                 1   \n",
       "6           7                  2           none                 1   \n",
       "7           8                  2           none                 1   \n",
       "8           9                  2           none                 1   \n",
       "9          10                  2           none                 1   \n",
       "10         12                  2           none                 1   \n",
       "11         14                  2           none                 1   \n",
       "12         16                  2           none                 1   \n",
       "13         18                  2           none                 1   \n",
       "14         20                  2           none                 1   \n",
       "15         25                  2           none                 1   \n",
       "16         30                  2           none                 1   \n",
       "17         35                  2           none                 1   \n",
       "18         40                  2           none                 1   \n",
       "19         50                  2           none                 1   \n",
       "20         60                  2           none                 1   \n",
       "21         70                  2           none                 1   \n",
       "22         80                  2           none                 1   \n",
       "23         90                  2           none                 1   \n",
       "24        100                  2           none                 1   \n",
       "\n",
       "    min_impurity_decrease  accuracy_in_sample_mean  accuracy_in_sample_median  \\\n",
       "0                     0.0                 0.870431                   0.870430   \n",
       "1                     0.0                 0.903075                   0.903080   \n",
       "2                     0.0                 0.912780                   0.912779   \n",
       "3                     0.0                 0.927288                   0.927293   \n",
       "4                     0.0                 0.940142                   0.940198   \n",
       "5                     0.0                 0.943386                   0.943398   \n",
       "6                     0.0                 0.944461                   0.944399   \n",
       "7                     0.0                 0.946200                   0.946216   \n",
       "8                     0.0                 0.947255                   0.947258   \n",
       "9                     0.0                 0.948599                   0.948589   \n",
       "10                    0.0                 0.952127                   0.952119   \n",
       "11                    0.0                 0.957101                   0.957107   \n",
       "12                    0.0                 0.963170                   0.963195   \n",
       "13                    0.0                 0.970330                   0.970348   \n",
       "14                    0.0                 0.977361                   0.977385   \n",
       "15                    0.0                 0.991482                   0.991493   \n",
       "16                    0.0                 0.997714                   0.997720   \n",
       "17                    0.0                 0.999454                   0.999468   \n",
       "18                    0.0                 0.999867                   0.999884   \n",
       "19                    0.0                 0.999976                   0.999977   \n",
       "20                    0.0                 0.999977                   0.999977   \n",
       "21                    0.0                 0.999977                   0.999977   \n",
       "22                    0.0                 0.999977                   0.999977   \n",
       "23                    0.0                 0.999977                   0.999977   \n",
       "24                    0.0                 0.999977                   0.999977   \n",
       "\n",
       "    accuracy_in_sample_min  accuracy_in_sample_max  accuracy_in_sample_q1  \\\n",
       "0                 0.870187                0.870742               0.870350   \n",
       "1                 0.902790                0.903324               0.903019   \n",
       "2                 0.912570                0.913104               0.912721   \n",
       "3                 0.927015                0.927560               0.927223   \n",
       "4                 0.939527                0.940394               0.940117   \n",
       "5                 0.943010                0.943601               0.943322   \n",
       "6                 0.944109                0.945198               0.944341   \n",
       "7                 0.945869                0.946459               0.946135   \n",
       "8                 0.946737                0.947802               0.947142   \n",
       "9                 0.948276                0.949052               0.948516   \n",
       "10                0.951633                0.952594               0.952014   \n",
       "11                0.956540                0.957987               0.956933   \n",
       "12                0.962037                0.964098               0.962891   \n",
       "13                0.968658                0.971343               0.970058   \n",
       "14                0.976123                0.978785               0.977049   \n",
       "15                0.990197                0.993079               0.991134   \n",
       "16                0.996829                0.998646               0.997520   \n",
       "17                0.998866                0.999907               0.999352   \n",
       "18                0.999641                0.999977               0.999826   \n",
       "19                0.999919                0.999988               0.999977   \n",
       "20                0.999977                0.999988               0.999977   \n",
       "21                0.999977                0.999988               0.999977   \n",
       "22                0.999977                0.999988               0.999977   \n",
       "23                0.999977                0.999988               0.999977   \n",
       "24                0.999977                0.999988               0.999977   \n",
       "\n",
       "    ...  accuracy_out_of_sample_min  accuracy_out_of_sample_max  \\\n",
       "0   ...                    0.839633                    0.894616   \n",
       "1   ...                    0.878440                    0.931271   \n",
       "2   ...                    0.880734                    0.933562   \n",
       "3   ...                    0.902523                    0.948454   \n",
       "4   ...                    0.922018                    0.962156   \n",
       "5   ...                    0.924312                    0.963345   \n",
       "6   ...                    0.922018                    0.967927   \n",
       "7   ...                    0.924312                    0.965636   \n",
       "8   ...                    0.924312                    0.965636   \n",
       "9   ...                    0.922018                    0.964490   \n",
       "10  ...                    0.922018                    0.964450   \n",
       "11  ...                    0.918578                    0.959862   \n",
       "12  ...                    0.915138                    0.961009   \n",
       "13  ...                    0.909507                    0.959862   \n",
       "14  ...                    0.903780                    0.954181   \n",
       "15  ...                    0.891180                    0.946163   \n",
       "16  ...                    0.888889                    0.942726   \n",
       "17  ...                    0.888889                    0.941581   \n",
       "18  ...                    0.888761                    0.943872   \n",
       "19  ...                    0.885452                    0.941581   \n",
       "20  ...                    0.893349                    0.940435   \n",
       "21  ...                    0.877434                    0.942726   \n",
       "22  ...                    0.887743                    0.940435   \n",
       "23  ...                    0.891055                    0.940435   \n",
       "24  ...                    0.886598                    0.939290   \n",
       "\n",
       "    accuracy_out_of_sample_q1  accuracy_out_of_sample_q3  auc_mean  \\\n",
       "0                    0.862543                   0.878475  0.677221   \n",
       "1                    0.896907                   0.908622  0.839832   \n",
       "2                    0.906850                   0.918671  0.875345   \n",
       "3                    0.922018                   0.933562  0.898200   \n",
       "4                    0.934708                   0.945017  0.908428   \n",
       "5                    0.938144                   0.948454  0.914076   \n",
       "6                    0.938144                   0.948454  0.920009   \n",
       "7                    0.940367                   0.950745  0.922294   \n",
       "8                    0.940367                   0.950688  0.925089   \n",
       "9                    0.939290                   0.949541  0.924139   \n",
       "10                   0.938144                   0.947308  0.915449   \n",
       "11                   0.934708                   0.945017  0.904898   \n",
       "12                   0.931271                   0.942661  0.893515   \n",
       "13                   0.926690                   0.938144  0.881107   \n",
       "14                   0.923165                   0.933562  0.871035   \n",
       "15                   0.912944                   0.925544  0.853449   \n",
       "16                   0.908362                   0.920962  0.847960   \n",
       "17                   0.908257                   0.919725  0.847355   \n",
       "18                   0.908257                   0.919817  0.847846   \n",
       "19                   0.907216                   0.918671  0.847682   \n",
       "20                   0.907216                   0.919817  0.848178   \n",
       "21                   0.906071                   0.918935  0.847241   \n",
       "22                   0.906850                   0.918671  0.847552   \n",
       "23                   0.907216                   0.919725  0.847926   \n",
       "24                   0.906071                   0.918935  0.847265   \n",
       "\n",
       "    auc_median   auc_min   auc_max    auc_q1    auc_q3  \n",
       "0     0.677089  0.617335  0.738279  0.661874  0.691486  \n",
       "1     0.839487  0.791431  0.893411  0.827413  0.852530  \n",
       "2     0.876023  0.831291  0.918825  0.862757  0.886244  \n",
       "3     0.898727  0.850858  0.939096  0.887984  0.908415  \n",
       "4     0.908699  0.863154  0.949162  0.898269  0.918727  \n",
       "5     0.914102  0.870466  0.957473  0.904257  0.923225  \n",
       "6     0.919496  0.879059  0.966044  0.910459  0.928629  \n",
       "7     0.921586  0.884606  0.966872  0.913428  0.931585  \n",
       "8     0.924969  0.880673  0.957002  0.915480  0.935252  \n",
       "9     0.924356  0.882043  0.958027  0.914989  0.933617  \n",
       "10    0.914729  0.872916  0.961761  0.904968  0.926567  \n",
       "11    0.904162  0.856323  0.948727  0.893530  0.916514  \n",
       "12    0.893528  0.832559  0.937891  0.881940  0.907489  \n",
       "13    0.880937  0.823208  0.930759  0.867551  0.894647  \n",
       "14    0.872291  0.817936  0.926640  0.856832  0.884635  \n",
       "15    0.852741  0.795932  0.905595  0.840025  0.866355  \n",
       "16    0.848287  0.796732  0.899487  0.836018  0.860496  \n",
       "17    0.846614  0.797959  0.902127  0.834696  0.859486  \n",
       "18    0.846609  0.794806  0.904232  0.837244  0.859209  \n",
       "19    0.848148  0.797518  0.898648  0.835770  0.859572  \n",
       "20    0.848257  0.800277  0.900260  0.836680  0.859811  \n",
       "21    0.846561  0.797281  0.903657  0.834805  0.860388  \n",
       "22    0.846737  0.801593  0.899328  0.836782  0.860242  \n",
       "23    0.847389  0.801656  0.908238  0.836473  0.861232  \n",
       "24    0.847030  0.795496  0.899047  0.835451  0.859158  \n",
       "\n",
       "[25 rows x 23 columns]"
      ]
     },
     "execution_count": 57,
     "metadata": {},
     "output_type": "execute_result"
    }
   ],
   "source": [
    "df_aggregated"
   ]
  },
  {
   "cell_type": "markdown",
   "id": "25e78310-8638-4f1d-aede-2ae9009dddf4",
   "metadata": {},
   "source": [
    "# Plot in sample accuracy"
   ]
  },
  {
   "cell_type": "code",
   "execution_count": null,
   "id": "8c06a25d-e720-4b44-bb86-bcd279bc760d",
   "metadata": {},
   "outputs": [],
   "source": [
    "filename = f'decision_tree_model_by_max_depth_AUC_publication.csv'\n",
    "df = pandas.read_csv(filename, index_col=0)"
   ]
  },
  {
   "cell_type": "code",
   "execution_count": 58,
   "id": "d099e584-2169-4639-89e3-d0199841373f",
   "metadata": {},
   "outputs": [
    {
     "data": {
      "image/png": "[encoded data removed]",
      "text/plain": [
       "<Figure size 640x480 with 1 Axes>"
      ]
     },
     "metadata": {},
     "output_type": "display_data"
    }
   ],
   "source": [
    "plt.figure()\n",
    "\n",
    "df_select = df #df[df['min_samples_split'] == 2]\n",
    "\n",
    "positions = []\n",
    "x = []\n",
    "\n",
    "for max_depth_ in sorted(df_select['max_depth'].unique()):\n",
    "    x.append(\n",
    "        df[df['max_depth'] == max_depth_]['accuracy_in_sample']\n",
    "    )\n",
    "    positions.append(\n",
    "        max_depth_\n",
    "    )\n",
    "\n",
    "plt.boxplot(\n",
    "    x,\n",
    "    positions=positions,\n",
    "    orientation='vertical',\n",
    "    meanline=True,\n",
    "    showmeans=True,\n",
    "    widths=[0.1 * position for position in positions],\n",
    ")\n",
    "plt.xscale('log')\n",
    "plt.xlim(xmin=0.9, xmax=110)\n",
    "plt.xlabel('max depth')\n",
    "plt.ylabel('in sample accuracy')\n",
    "\n",
    "plt.grid()\n",
    "\n",
    "plt.savefig('decision_tree_model_by_max_depth-accuracy_in_sample_publication.png')\n",
    "plt.savefig('decision_tree_model_by_max_depth-accuracy_in_sample_publication.pdf')\n",
    "\n",
    "None"
   ]
  },
  {
   "cell_type": "markdown",
   "id": "a6a8832e-b22f-48d0-bc2f-391a2a7c6514",
   "metadata": {},
   "source": [
    "# Plot out of sample accuracy"
   ]
  },
  {
   "cell_type": "code",
   "execution_count": 59,
   "id": "ca586371-2fe1-4e1d-b1eb-b95b7b73f67a",
   "metadata": {},
   "outputs": [
    {
     "data": {
      "image/png": "[encoded data removed]",
      "text/plain": [
       "<Figure size 640x480 with 1 Axes>"
      ]
     },
     "metadata": {},
     "output_type": "display_data"
    }
   ],
   "source": [
    "plt.figure()\n",
    "\n",
    "df_select = df #df[df['min_samples_split'] == 2]\n",
    "\n",
    "positions = []\n",
    "x = []\n",
    "\n",
    "for max_depth_ in sorted(df_select['max_depth'].unique()):\n",
    "    x.append(\n",
    "        df[df['max_depth'] == max_depth_]['accuracy_out_of_sample']\n",
    "    )\n",
    "    positions.append(\n",
    "        max_depth_\n",
    "    )\n",
    "\n",
    "plt.boxplot(\n",
    "    x,\n",
    "    positions=positions,\n",
    "    orientation='vertical',\n",
    "    meanline=True,\n",
    "    showmeans=True,\n",
    "    widths=[0.1 * position for position in positions],\n",
    ")\n",
    "plt.xscale('log')\n",
    "plt.xlim(xmin=0.8, xmax=110)\n",
    "plt.xlabel('max depth')\n",
    "plt.ylabel('out of sample accuracy')\n",
    "\n",
    "plt.grid()\n",
    "\n",
    "plt.savefig('decision_tree_model_by_max_depth-accuracy_out_of_sample_publication.png')\n",
    "plt.savefig('decision_tree_model_by_max_depth-accuracy_out_of_sample_publication.pdf')\n",
    "\n",
    "None"
   ]
  },
  {
   "cell_type": "code",
   "execution_count": 60,
   "id": "129872bb-2d7c-4320-92f4-557123af7a5f",
   "metadata": {},
   "outputs": [
    {
     "data": {
      "image/png": "[encoded data removed]",
      "text/plain": [
       "<Figure size 640x480 with 1 Axes>"
      ]
     },
     "metadata": {},
     "output_type": "display_data"
    }
   ],
   "source": [
    "plt.figure()\n",
    "\n",
    "df_select = df #df[df['min_samples_split'] == 2]\n",
    "\n",
    "positions = []\n",
    "x = []\n",
    "\n",
    "for max_depth_ in sorted(df_select['max_depth'].unique()):\n",
    "    x.append(\n",
    "        df[df['max_depth'] == max_depth_]['auc']\n",
    "    )\n",
    "    positions.append(\n",
    "        max_depth_\n",
    "    )\n",
    "\n",
    "plt.boxplot(\n",
    "    x,\n",
    "    positions=positions,\n",
    "    orientation='vertical',\n",
    "    meanline=True,\n",
    "    showmeans=True,\n",
    "    widths=[0.1 * position for position in positions],\n",
    ")\n",
    "plt.xscale('log')\n",
    "plt.xlim(xmin=0.8, xmax=110)\n",
    "plt.xlabel('max depth')\n",
    "plt.ylabel('AUC')\n",
    "\n",
    "plt.grid()\n",
    "\n",
    "plt.savefig('decision_tree_model_by_max_depth-AUC_publication.png')\n",
    "plt.savefig('decision_tree_model_by_max_depth-AUC_publication.pdf')\n",
    "\n",
    "None"
   ]
  },
  {
   "cell_type": "markdown",
   "id": "e13d6066-5ad9-4a4a-8b67-34dbe7e4c5c7",
   "metadata": {},
   "source": [
    "# Plot ROC"
   ]
  },
  {
   "cell_type": "code",
   "execution_count": 52,
   "id": "aefd4f5b-5a53-4a9b-9064-a329b0bf95e4",
   "metadata": {},
   "outputs": [],
   "source": [
    "roc_auc = -1000"
   ]
  },
  {
   "cell_type": "code",
   "execution_count": null,
   "id": "61f6e766-8cf1-4940-a95a-8b6a38725691",
   "metadata": {},
   "outputs": [],
   "source": []
  },
  {
   "cell_type": "code",
   "execution_count": 77,
   "id": "ab8d0cf9-e205-49de-a7d9-067f163436bf",
   "metadata": {},
   "outputs": [
    {
     "data": {
      "text/plain": [
       "[1,\n",
       " 2,\n",
       " 3,\n",
       " 4,\n",
       " 5,\n",
       " 6,\n",
       " 7,\n",
       " 8,\n",
       " 9,\n",
       " 10,\n",
       " 12,\n",
       " 14,\n",
       " 16,\n",
       " 18,\n",
       " 20,\n",
       " 25,\n",
       " 30,\n",
       " 35,\n",
       " 40,\n",
       " 50,\n",
       " 60,\n",
       " 70,\n",
       " 80,\n",
       " 90,\n",
       " 100]"
      ]
     },
     "execution_count": 77,
     "metadata": {},
     "output_type": "execute_result"
    }
   ],
   "source": [
    "max_depth_list_input"
   ]
  },
  {
   "cell_type": "code",
   "execution_count": 98,
   "id": "4e9d3b04-c495-4dcb-8422-ff0785073cca",
   "metadata": {},
   "outputs": [
    {
     "data": {
      "image/png": "[encoded data removed]",
      "text/plain": [
       "<Figure size 640x480 with 1 Axes>"
      ]
     },
     "metadata": {},
     "output_type": "display_data"
    }
   ],
   "source": [
    "plt.figure()\n",
    "\n",
    "plt.plot([0.0, 1.0], [0.0, 1.0], color='grey', linewidth=1)\n",
    "for ii in [0, 1, 2, 4, 9, 11, 14, 24]:\n",
    "    jj = 100 * ii\n",
    "    max_depth_ = max_depth_list_input[ii]\n",
    "    #auc_ = df[df['max_depth'] == max_depth_]['auc']\n",
    "    auc_ = auc_list[jj]\n",
    "    if max_depth_ == 10:\n",
    "        plt.step(fpr_list[jj], tpr_list[jj], where='post', linewidth=2, linestyle='solid',\n",
    "                 label=f'{max_depth_} (AUC={auc_:.2f})')\n",
    "    else:\n",
    "        plt.step(fpr_list[jj], tpr_list[jj], where='post', linewidth=2, linestyle='dashed',\n",
    "                 label=f'{max_depth_} (AUC={auc_:.2f})')\n",
    "#plt.fill_between(\n",
    "#    roc_curve_fpr,\n",
    "#    roc_curve_tpr,\n",
    "#    alpha=0.2,\n",
    "#)\n",
    "\n",
    "plt.xlabel('false positive rate')\n",
    "plt.ylabel('true positive rate')\n",
    "\n",
    "plt.xlim(0.0, 1.0)\n",
    "plt.ylim(0.0, 1.0)\n",
    "\n",
    "#plt.text(\n",
    "#    0.60,\n",
    "#    0.95,\n",
    "#    f'AUC = {roc_auc:.2f}',\n",
    "#    transform=plt.gca().transAxes,\n",
    "#    fontsize=12,\n",
    "#    verticalalignment='top',\n",
    "#)\n",
    "\n",
    "plt.legend(title='max_depth')\n",
    "\n",
    "plt.savefig('decision_tree_model_by_max_depth-ROC_curves_multi_publication.png')\n",
    "plt.savefig('decision_tree_model_by_max_depth-ROC_curves_mulit_publication.pdf')\n",
    "\n",
    "None"
   ]
  },
  {
   "cell_type": "code",
   "execution_count": 72,
   "id": "1f780670-0385-443d-aaec-bde29b606c77",
   "metadata": {},
   "outputs": [],
   "source": [
    "i = 0\n",
    "\n",
    "test_index = folds[i]\n",
    "train_index = numpy.concatenate([folds[j] for j in range(k) if j != i])\n",
    "    \n",
    "training_data = all_training_data.loc[train_index]\n",
    "test_data = all_training_data.loc[test_index]\n",
    "\n",
    "(\n",
    "    clf,\n",
    "    feature_importances,\n",
    "    accuracy_in_sample,\n",
    ") = decision_tree_model_train(\n",
    "    training_data,\n",
    "    decision_tree_columns,\n",
    "    10,\n",
    "    2,\n",
    "    None,\n",
    "    1,\n",
    "    0.0,\n",
    ")"
   ]
  },
  {
   "cell_type": "code",
   "execution_count": 73,
   "id": "75af95d7-64b4-4219-97c9-d4880dd591fd",
   "metadata": {},
   "outputs": [
    {
     "data": {
      "text/plain": [
       "9619     0\n",
       "37236    0\n",
       "27652    0\n",
       "44510    1\n",
       "5568     0\n",
       "        ..\n",
       "76730    0\n",
       "69996    1\n",
       "31558    1\n",
       "9115     0\n",
       "13335    1\n",
       "Name: loan_status, Length: 873, dtype: int64"
      ]
     },
     "execution_count": 73,
     "metadata": {},
     "output_type": "execute_result"
    }
   ],
   "source": [
    "test_data['loan_status']"
   ]
  },
  {
   "cell_type": "code",
   "execution_count": null,
   "id": "ea66555a-c84a-4c9d-a1d9-8d9a868f5ad0",
   "metadata": {},
   "outputs": [],
   "source": [
    "decision_tree_model_predict_proba(clf, test_data, decision_tree_columns)"
   ]
  },
  {
   "cell_type": "code",
   "execution_count": 74,
   "id": "aa107f03-18e9-480f-8272-f4608c2558a0",
   "metadata": {},
   "outputs": [],
   "source": [
    "(roc_curve_fpr, roc_curve_tpr, roc_curve_threshold) = roc_curve(\n",
    "    test_data['loan_status'],\n",
    "    decision_tree_model_predict_proba(clf, test_data, decision_tree_columns),\n",
    ")"
   ]
  },
  {
   "cell_type": "code",
   "execution_count": 75,
   "id": "3cb0c1f2-a360-4a42-beb8-a91c7af2f5c7",
   "metadata": {},
   "outputs": [
    {
     "data": {
      "image/png": "[encoded data removed]",
      "text/plain": [
       "<Figure size 640x480 with 1 Axes>"
      ]
     },
     "metadata": {},
     "output_type": "display_data"
    }
   ],
   "source": [
    "plt.figure()\n",
    "\n",
    "plt.plot([0.0, 1.0], [0.0, 1.0], color='grey', linewidth=1)\n",
    "plt.step(roc_curve_fpr, roc_curve_tpr, where='post', linewidth=2,)\n",
    "#plt.fill_between(\n",
    "#    roc_curve_fpr,\n",
    "#    roc_curve_tpr,\n",
    "#    alpha=0.2,\n",
    "#)\n",
    "\n",
    "plt.xlabel('false positive rate')\n",
    "plt.ylabel('true positive rate')\n",
    "\n",
    "plt.xlim(0.0, 1.0)\n",
    "plt.ylim(0.0, 1.0)\n",
    "\n",
    "plt.text(\n",
    "    0.60,\n",
    "    0.95,\n",
    "    f'AUC = {roc_auc:.2f}',\n",
    "    transform=plt.gca().transAxes,\n",
    "    fontsize=12,\n",
    "    verticalalignment='top',\n",
    ")\n",
    "\n",
    "#plt.savefig('decision_tree_model_by_max_depth-ROC_curves_multi_publication.png')\n",
    "#plt.savefig('decision_tree_model_by_max_depth-ROC_curves_mulit_publication.pdf')\n",
    "\n",
    "None"
   ]
  },
  {
   "cell_type": "code",
   "execution_count": 45,
   "id": "9b217066-6fd6-43f5-b1f8-d9139b22e489",
   "metadata": {},
   "outputs": [],
   "source": [
    "# older..."
   ]
  },
  {
   "cell_type": "code",
   "execution_count": 119,
   "id": "ed2ff031-b9d6-4e1b-9956-7172108bc385",
   "metadata": {},
   "outputs": [],
   "source": [
    "# make prediction\n",
    "\n",
    "max_depth = 10\n",
    "min_samples_split = 2\n",
    "max_leaf_nodes = None\n",
    "min_samples_leaf = 1\n",
    "min_impurity_decrease = 0.0\n",
    "\n",
    "auc_list = []\n",
    "    \n",
    "for i in range(k):\n",
    "    test_index = folds[i]\n",
    "    train_index = numpy.concatenate([folds[j] for j in range(k) if j != i])\n",
    "\n",
    "    training_data = all_training_data.loc[train_index]\n",
    "    test_data = all_training_data.loc[test_index]\n",
    "    #training_data = all_training_data\n",
    "    #test_data = all_training_data\n",
    "    \n",
    "    (\n",
    "        clf,\n",
    "        feature_importances,\n",
    "        accuracy_in_sample,\n",
    "    ) = decision_tree_model_train(\n",
    "        training_data,\n",
    "        decision_tree_columns,\n",
    "        max_depth,\n",
    "        min_samples_split,\n",
    "        max_leaf_nodes,\n",
    "        min_samples_leaf,\n",
    "        min_impurity_decrease,\n",
    "    )\n",
    "    \n",
    "    accuracy_out_of_sample = decision_tree_model_test(\n",
    "        clf,\n",
    "        test_data,\n",
    "        decision_tree_columns,\n",
    "    )\n",
    "    \n",
    "    auc_ = decision_tree_model_test_AUC(\n",
    "        clf,\n",
    "        test_data,\n",
    "        decision_tree_columns,\n",
    "    )\n",
    "    auc_list.append(auc_)\n",
    "    \n",
    "    #data_predict = decision_tree_model_predict(\n",
    "    #    clf,\n",
    "    #    data_test_copy,\n",
    "    #    decision_tree_columns,\n",
    "    #    decision_tree_columns_with_id,\n",
    "    #)\n",
    "    \n",
    "    #decision_tree_model_predict_write_to_csv(\n",
    "    #    data_predict,\n",
    "    #    f'decision_tree_model_one_hot_encoder_2_clean_code-2-AUC-2-max_depth_10.csv'\n",
    "    #)\n",
    "    #\n",
    "    #auc_"
   ]
  },
  {
   "cell_type": "code",
   "execution_count": 120,
   "id": "d006d726-c178-46f5-910b-032f035826cd",
   "metadata": {},
   "outputs": [
    {
     "data": {
      "image/png": "[encoded data removed]",
      "text/plain": [
       "<Figure size 640x480 with 1 Axes>"
      ]
     },
     "metadata": {},
     "output_type": "display_data"
    }
   ],
   "source": [
    "plt.figure()\n",
    "\n",
    "plt.hist(auc_list)\n",
    "\n",
    "None"
   ]
  }
 ],
 "metadata": {
  "kernelspec": {
   "display_name": "Python 3 (ipykernel)",
   "language": "python",
   "name": "python3"
  },
  "language_info": {
   "codemirror_mode": {
    "name": "ipython",
    "version": 3
   },
   "file_extension": ".py",
   "mimetype": "text/x-python",
   "name": "python",
   "nbconvert_exporter": "python",
   "pygments_lexer": "ipython3",
   "version": "3.12.7"
  }
 },
 "nbformat": 4,
 "nbformat_minor": 5
}
