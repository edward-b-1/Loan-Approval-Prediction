{
 "cells": [
  {
   "cell_type": "markdown",
   "id": "fafef8dd-6a7c-44fd-b1ff-57f437585258",
   "metadata": {},
   "source": [
    "# Categorical Naive Bayes 2\n",
    "\n",
    "- Same as Categorical Naive Bayes, but with different combinations of predictors"
   ]
  },
  {
   "cell_type": "code",
   "execution_count": 5,
   "id": "14b8cdec-1147-4aa6-898f-b46d737de0ba",
   "metadata": {},
   "outputs": [],
   "source": [
    "%load_ext autoreload\n",
    "%autoreload 2"
   ]
  },
  {
   "cell_type": "code",
   "execution_count": 6,
   "id": "f2b94913-16c5-4635-9402-dcfaab3a91fe",
   "metadata": {},
   "outputs": [],
   "source": [
    "import pandas\n",
    "import numpy\n",
    "import matplotlib.pyplot as plt\n",
    "import itertools\n",
    "import sklearn\n",
    "from sklearn.metrics import log_loss"
   ]
  },
  {
   "cell_type": "code",
   "execution_count": 7,
   "id": "03d6eadf-3a42-43c2-9e44-789bcaf006c1",
   "metadata": {},
   "outputs": [],
   "source": [
    "import loan_approval_lib\n",
    "from loan_approval_lib import logspace, linspace"
   ]
  },
  {
   "cell_type": "code",
   "execution_count": 8,
   "id": "e73a3dfa-5568-4605-92a6-0dd22b6c99fd",
   "metadata": {},
   "outputs": [],
   "source": [
    "from sklearn.preprocessing import OrdinalEncoder\n",
    "from sklearn.naive_bayes import CategoricalNB"
   ]
  },
  {
   "cell_type": "code",
   "execution_count": 9,
   "id": "0e2d89ed-a1d1-40f4-b369-c69a97415231",
   "metadata": {},
   "outputs": [],
   "source": [
    "import itertools"
   ]
  },
  {
   "cell_type": "code",
   "execution_count": 10,
   "id": "fad1f090-2bf1-4bf9-b3a4-f4c4a726a9f2",
   "metadata": {},
   "outputs": [],
   "source": [
    "data = loan_approval_lib.load_original_data()"
   ]
  },
  {
   "cell_type": "code",
   "execution_count": 11,
   "id": "cf232b56-3a14-4b2c-a64c-803dbf441a17",
   "metadata": {},
   "outputs": [
    {
     "data": {
      "text/html": [
       "<div>\n",
       "<style scoped>\n",
       "    .dataframe tbody tr th:only-of-type {\n",
       "        vertical-align: middle;\n",
       "    }\n",
       "\n",
       "    .dataframe tbody tr th {\n",
       "        vertical-align: top;\n",
       "    }\n",
       "\n",
       "    .dataframe thead th {\n",
       "        text-align: right;\n",
       "    }\n",
       "</style>\n",
       "<table border=\"1\" class=\"dataframe\">\n",
       "  <thead>\n",
       "    <tr style=\"text-align: right;\">\n",
       "      <th></th>\n",
       "      <th>person_age</th>\n",
       "      <th>person_income</th>\n",
       "      <th>person_home_ownership</th>\n",
       "      <th>person_emp_length</th>\n",
       "      <th>loan_intent</th>\n",
       "      <th>loan_grade</th>\n",
       "      <th>loan_amnt</th>\n",
       "      <th>loan_int_rate</th>\n",
       "      <th>loan_percent_income</th>\n",
       "      <th>cb_person_default_on_file</th>\n",
       "      <th>cb_person_cred_hist_length</th>\n",
       "      <th>loan_status</th>\n",
       "    </tr>\n",
       "  </thead>\n",
       "  <tbody>\n",
       "    <tr>\n",
       "      <th>0</th>\n",
       "      <td>22</td>\n",
       "      <td>59000</td>\n",
       "      <td>RENT</td>\n",
       "      <td>123.0</td>\n",
       "      <td>PERSONAL</td>\n",
       "      <td>D</td>\n",
       "      <td>35000</td>\n",
       "      <td>16.02</td>\n",
       "      <td>0.59</td>\n",
       "      <td>Y</td>\n",
       "      <td>3</td>\n",
       "      <td>1</td>\n",
       "    </tr>\n",
       "    <tr>\n",
       "      <th>1</th>\n",
       "      <td>21</td>\n",
       "      <td>9600</td>\n",
       "      <td>OWN</td>\n",
       "      <td>5.0</td>\n",
       "      <td>EDUCATION</td>\n",
       "      <td>B</td>\n",
       "      <td>1000</td>\n",
       "      <td>11.14</td>\n",
       "      <td>0.10</td>\n",
       "      <td>N</td>\n",
       "      <td>2</td>\n",
       "      <td>0</td>\n",
       "    </tr>\n",
       "    <tr>\n",
       "      <th>2</th>\n",
       "      <td>25</td>\n",
       "      <td>9600</td>\n",
       "      <td>MORTGAGE</td>\n",
       "      <td>1.0</td>\n",
       "      <td>MEDICAL</td>\n",
       "      <td>C</td>\n",
       "      <td>5500</td>\n",
       "      <td>12.87</td>\n",
       "      <td>0.57</td>\n",
       "      <td>N</td>\n",
       "      <td>3</td>\n",
       "      <td>1</td>\n",
       "    </tr>\n",
       "    <tr>\n",
       "      <th>3</th>\n",
       "      <td>23</td>\n",
       "      <td>65500</td>\n",
       "      <td>RENT</td>\n",
       "      <td>4.0</td>\n",
       "      <td>MEDICAL</td>\n",
       "      <td>C</td>\n",
       "      <td>35000</td>\n",
       "      <td>15.23</td>\n",
       "      <td>0.53</td>\n",
       "      <td>N</td>\n",
       "      <td>2</td>\n",
       "      <td>1</td>\n",
       "    </tr>\n",
       "    <tr>\n",
       "      <th>4</th>\n",
       "      <td>24</td>\n",
       "      <td>54400</td>\n",
       "      <td>RENT</td>\n",
       "      <td>8.0</td>\n",
       "      <td>MEDICAL</td>\n",
       "      <td>C</td>\n",
       "      <td>35000</td>\n",
       "      <td>14.27</td>\n",
       "      <td>0.55</td>\n",
       "      <td>Y</td>\n",
       "      <td>4</td>\n",
       "      <td>1</td>\n",
       "    </tr>\n",
       "    <tr>\n",
       "      <th>...</th>\n",
       "      <td>...</td>\n",
       "      <td>...</td>\n",
       "      <td>...</td>\n",
       "      <td>...</td>\n",
       "      <td>...</td>\n",
       "      <td>...</td>\n",
       "      <td>...</td>\n",
       "      <td>...</td>\n",
       "      <td>...</td>\n",
       "      <td>...</td>\n",
       "      <td>...</td>\n",
       "      <td>...</td>\n",
       "    </tr>\n",
       "    <tr>\n",
       "      <th>32576</th>\n",
       "      <td>57</td>\n",
       "      <td>53000</td>\n",
       "      <td>MORTGAGE</td>\n",
       "      <td>1.0</td>\n",
       "      <td>PERSONAL</td>\n",
       "      <td>C</td>\n",
       "      <td>5800</td>\n",
       "      <td>13.16</td>\n",
       "      <td>0.11</td>\n",
       "      <td>N</td>\n",
       "      <td>30</td>\n",
       "      <td>0</td>\n",
       "    </tr>\n",
       "    <tr>\n",
       "      <th>32577</th>\n",
       "      <td>54</td>\n",
       "      <td>120000</td>\n",
       "      <td>MORTGAGE</td>\n",
       "      <td>4.0</td>\n",
       "      <td>PERSONAL</td>\n",
       "      <td>A</td>\n",
       "      <td>17625</td>\n",
       "      <td>7.49</td>\n",
       "      <td>0.15</td>\n",
       "      <td>N</td>\n",
       "      <td>19</td>\n",
       "      <td>0</td>\n",
       "    </tr>\n",
       "    <tr>\n",
       "      <th>32578</th>\n",
       "      <td>65</td>\n",
       "      <td>76000</td>\n",
       "      <td>RENT</td>\n",
       "      <td>3.0</td>\n",
       "      <td>HOMEIMPROVEMENT</td>\n",
       "      <td>B</td>\n",
       "      <td>35000</td>\n",
       "      <td>10.99</td>\n",
       "      <td>0.46</td>\n",
       "      <td>N</td>\n",
       "      <td>28</td>\n",
       "      <td>1</td>\n",
       "    </tr>\n",
       "    <tr>\n",
       "      <th>32579</th>\n",
       "      <td>56</td>\n",
       "      <td>150000</td>\n",
       "      <td>MORTGAGE</td>\n",
       "      <td>5.0</td>\n",
       "      <td>PERSONAL</td>\n",
       "      <td>B</td>\n",
       "      <td>15000</td>\n",
       "      <td>11.48</td>\n",
       "      <td>0.10</td>\n",
       "      <td>N</td>\n",
       "      <td>26</td>\n",
       "      <td>0</td>\n",
       "    </tr>\n",
       "    <tr>\n",
       "      <th>32580</th>\n",
       "      <td>66</td>\n",
       "      <td>42000</td>\n",
       "      <td>RENT</td>\n",
       "      <td>2.0</td>\n",
       "      <td>MEDICAL</td>\n",
       "      <td>B</td>\n",
       "      <td>6475</td>\n",
       "      <td>9.99</td>\n",
       "      <td>0.15</td>\n",
       "      <td>N</td>\n",
       "      <td>30</td>\n",
       "      <td>0</td>\n",
       "    </tr>\n",
       "  </tbody>\n",
       "</table>\n",
       "<p>32581 rows × 12 columns</p>\n",
       "</div>"
      ],
      "text/plain": [
       "       person_age  person_income person_home_ownership  person_emp_length  \\\n",
       "0              22          59000                  RENT              123.0   \n",
       "1              21           9600                   OWN                5.0   \n",
       "2              25           9600              MORTGAGE                1.0   \n",
       "3              23          65500                  RENT                4.0   \n",
       "4              24          54400                  RENT                8.0   \n",
       "...           ...            ...                   ...                ...   \n",
       "32576          57          53000              MORTGAGE                1.0   \n",
       "32577          54         120000              MORTGAGE                4.0   \n",
       "32578          65          76000                  RENT                3.0   \n",
       "32579          56         150000              MORTGAGE                5.0   \n",
       "32580          66          42000                  RENT                2.0   \n",
       "\n",
       "           loan_intent loan_grade  loan_amnt  loan_int_rate  \\\n",
       "0             PERSONAL          D      35000          16.02   \n",
       "1            EDUCATION          B       1000          11.14   \n",
       "2              MEDICAL          C       5500          12.87   \n",
       "3              MEDICAL          C      35000          15.23   \n",
       "4              MEDICAL          C      35000          14.27   \n",
       "...                ...        ...        ...            ...   \n",
       "32576         PERSONAL          C       5800          13.16   \n",
       "32577         PERSONAL          A      17625           7.49   \n",
       "32578  HOMEIMPROVEMENT          B      35000          10.99   \n",
       "32579         PERSONAL          B      15000          11.48   \n",
       "32580          MEDICAL          B       6475           9.99   \n",
       "\n",
       "       loan_percent_income cb_person_default_on_file  \\\n",
       "0                     0.59                         Y   \n",
       "1                     0.10                         N   \n",
       "2                     0.57                         N   \n",
       "3                     0.53                         N   \n",
       "4                     0.55                         Y   \n",
       "...                    ...                       ...   \n",
       "32576                 0.11                         N   \n",
       "32577                 0.15                         N   \n",
       "32578                 0.46                         N   \n",
       "32579                 0.10                         N   \n",
       "32580                 0.15                         N   \n",
       "\n",
       "       cb_person_cred_hist_length  loan_status  \n",
       "0                               3            1  \n",
       "1                               2            0  \n",
       "2                               3            1  \n",
       "3                               2            1  \n",
       "4                               4            1  \n",
       "...                           ...          ...  \n",
       "32576                          30            0  \n",
       "32577                          19            0  \n",
       "32578                          28            1  \n",
       "32579                          26            0  \n",
       "32580                          30            0  \n",
       "\n",
       "[32581 rows x 12 columns]"
      ]
     },
     "execution_count": 11,
     "metadata": {},
     "output_type": "execute_result"
    }
   ],
   "source": [
    "data"
   ]
  },
  {
   "cell_type": "code",
   "execution_count": 12,
   "id": "29f9852d-ea10-4a95-ae93-b4f9e6c2f668",
   "metadata": {},
   "outputs": [],
   "source": [
    "data_test = loan_approval_lib.load_data()['test']"
   ]
  },
  {
   "cell_type": "code",
   "execution_count": 13,
   "id": "401f6661-c147-49dc-8901-779b82d5b6e3",
   "metadata": {},
   "outputs": [
    {
     "data": {
      "text/html": [
       "<div>\n",
       "<style scoped>\n",
       "    .dataframe tbody tr th:only-of-type {\n",
       "        vertical-align: middle;\n",
       "    }\n",
       "\n",
       "    .dataframe tbody tr th {\n",
       "        vertical-align: top;\n",
       "    }\n",
       "\n",
       "    .dataframe thead th {\n",
       "        text-align: right;\n",
       "    }\n",
       "</style>\n",
       "<table border=\"1\" class=\"dataframe\">\n",
       "  <thead>\n",
       "    <tr style=\"text-align: right;\">\n",
       "      <th></th>\n",
       "      <th>id</th>\n",
       "      <th>person_age</th>\n",
       "      <th>person_income</th>\n",
       "      <th>person_home_ownership</th>\n",
       "      <th>person_emp_length</th>\n",
       "      <th>loan_intent</th>\n",
       "      <th>loan_grade</th>\n",
       "      <th>loan_amnt</th>\n",
       "      <th>loan_int_rate</th>\n",
       "      <th>loan_percent_income</th>\n",
       "      <th>cb_person_default_on_file</th>\n",
       "      <th>cb_person_cred_hist_length</th>\n",
       "    </tr>\n",
       "  </thead>\n",
       "  <tbody>\n",
       "    <tr>\n",
       "      <th>0</th>\n",
       "      <td>58645</td>\n",
       "      <td>23</td>\n",
       "      <td>69000</td>\n",
       "      <td>RENT</td>\n",
       "      <td>3.0</td>\n",
       "      <td>HOMEIMPROVEMENT</td>\n",
       "      <td>F</td>\n",
       "      <td>25000</td>\n",
       "      <td>15.76</td>\n",
       "      <td>0.36</td>\n",
       "      <td>N</td>\n",
       "      <td>2</td>\n",
       "    </tr>\n",
       "    <tr>\n",
       "      <th>1</th>\n",
       "      <td>58646</td>\n",
       "      <td>26</td>\n",
       "      <td>96000</td>\n",
       "      <td>MORTGAGE</td>\n",
       "      <td>6.0</td>\n",
       "      <td>PERSONAL</td>\n",
       "      <td>C</td>\n",
       "      <td>10000</td>\n",
       "      <td>12.68</td>\n",
       "      <td>0.10</td>\n",
       "      <td>Y</td>\n",
       "      <td>4</td>\n",
       "    </tr>\n",
       "    <tr>\n",
       "      <th>2</th>\n",
       "      <td>58647</td>\n",
       "      <td>26</td>\n",
       "      <td>30000</td>\n",
       "      <td>RENT</td>\n",
       "      <td>5.0</td>\n",
       "      <td>VENTURE</td>\n",
       "      <td>E</td>\n",
       "      <td>4000</td>\n",
       "      <td>17.19</td>\n",
       "      <td>0.13</td>\n",
       "      <td>Y</td>\n",
       "      <td>2</td>\n",
       "    </tr>\n",
       "    <tr>\n",
       "      <th>3</th>\n",
       "      <td>58648</td>\n",
       "      <td>33</td>\n",
       "      <td>50000</td>\n",
       "      <td>RENT</td>\n",
       "      <td>4.0</td>\n",
       "      <td>DEBTCONSOLIDATION</td>\n",
       "      <td>A</td>\n",
       "      <td>7000</td>\n",
       "      <td>8.90</td>\n",
       "      <td>0.14</td>\n",
       "      <td>N</td>\n",
       "      <td>7</td>\n",
       "    </tr>\n",
       "    <tr>\n",
       "      <th>4</th>\n",
       "      <td>58649</td>\n",
       "      <td>26</td>\n",
       "      <td>102000</td>\n",
       "      <td>MORTGAGE</td>\n",
       "      <td>8.0</td>\n",
       "      <td>HOMEIMPROVEMENT</td>\n",
       "      <td>D</td>\n",
       "      <td>15000</td>\n",
       "      <td>16.32</td>\n",
       "      <td>0.15</td>\n",
       "      <td>Y</td>\n",
       "      <td>4</td>\n",
       "    </tr>\n",
       "    <tr>\n",
       "      <th>...</th>\n",
       "      <td>...</td>\n",
       "      <td>...</td>\n",
       "      <td>...</td>\n",
       "      <td>...</td>\n",
       "      <td>...</td>\n",
       "      <td>...</td>\n",
       "      <td>...</td>\n",
       "      <td>...</td>\n",
       "      <td>...</td>\n",
       "      <td>...</td>\n",
       "      <td>...</td>\n",
       "      <td>...</td>\n",
       "    </tr>\n",
       "    <tr>\n",
       "      <th>39093</th>\n",
       "      <td>97738</td>\n",
       "      <td>22</td>\n",
       "      <td>31200</td>\n",
       "      <td>MORTGAGE</td>\n",
       "      <td>2.0</td>\n",
       "      <td>DEBTCONSOLIDATION</td>\n",
       "      <td>B</td>\n",
       "      <td>3000</td>\n",
       "      <td>10.37</td>\n",
       "      <td>0.10</td>\n",
       "      <td>N</td>\n",
       "      <td>4</td>\n",
       "    </tr>\n",
       "    <tr>\n",
       "      <th>39094</th>\n",
       "      <td>97739</td>\n",
       "      <td>22</td>\n",
       "      <td>48000</td>\n",
       "      <td>MORTGAGE</td>\n",
       "      <td>6.0</td>\n",
       "      <td>EDUCATION</td>\n",
       "      <td>A</td>\n",
       "      <td>7000</td>\n",
       "      <td>6.03</td>\n",
       "      <td>0.15</td>\n",
       "      <td>N</td>\n",
       "      <td>3</td>\n",
       "    </tr>\n",
       "    <tr>\n",
       "      <th>39095</th>\n",
       "      <td>97740</td>\n",
       "      <td>51</td>\n",
       "      <td>60000</td>\n",
       "      <td>MORTGAGE</td>\n",
       "      <td>0.0</td>\n",
       "      <td>PERSONAL</td>\n",
       "      <td>A</td>\n",
       "      <td>15000</td>\n",
       "      <td>7.51</td>\n",
       "      <td>0.25</td>\n",
       "      <td>N</td>\n",
       "      <td>25</td>\n",
       "    </tr>\n",
       "    <tr>\n",
       "      <th>39096</th>\n",
       "      <td>97741</td>\n",
       "      <td>22</td>\n",
       "      <td>36000</td>\n",
       "      <td>MORTGAGE</td>\n",
       "      <td>4.0</td>\n",
       "      <td>PERSONAL</td>\n",
       "      <td>D</td>\n",
       "      <td>14000</td>\n",
       "      <td>15.62</td>\n",
       "      <td>0.39</td>\n",
       "      <td>Y</td>\n",
       "      <td>4</td>\n",
       "    </tr>\n",
       "    <tr>\n",
       "      <th>39097</th>\n",
       "      <td>97742</td>\n",
       "      <td>31</td>\n",
       "      <td>45000</td>\n",
       "      <td>RENT</td>\n",
       "      <td>6.0</td>\n",
       "      <td>DEBTCONSOLIDATION</td>\n",
       "      <td>B</td>\n",
       "      <td>19450</td>\n",
       "      <td>9.91</td>\n",
       "      <td>0.44</td>\n",
       "      <td>N</td>\n",
       "      <td>9</td>\n",
       "    </tr>\n",
       "  </tbody>\n",
       "</table>\n",
       "<p>39098 rows × 12 columns</p>\n",
       "</div>"
      ],
      "text/plain": [
       "          id  person_age  person_income person_home_ownership  \\\n",
       "0      58645          23          69000                  RENT   \n",
       "1      58646          26          96000              MORTGAGE   \n",
       "2      58647          26          30000                  RENT   \n",
       "3      58648          33          50000                  RENT   \n",
       "4      58649          26         102000              MORTGAGE   \n",
       "...      ...         ...            ...                   ...   \n",
       "39093  97738          22          31200              MORTGAGE   \n",
       "39094  97739          22          48000              MORTGAGE   \n",
       "39095  97740          51          60000              MORTGAGE   \n",
       "39096  97741          22          36000              MORTGAGE   \n",
       "39097  97742          31          45000                  RENT   \n",
       "\n",
       "       person_emp_length        loan_intent loan_grade  loan_amnt  \\\n",
       "0                    3.0    HOMEIMPROVEMENT          F      25000   \n",
       "1                    6.0           PERSONAL          C      10000   \n",
       "2                    5.0            VENTURE          E       4000   \n",
       "3                    4.0  DEBTCONSOLIDATION          A       7000   \n",
       "4                    8.0    HOMEIMPROVEMENT          D      15000   \n",
       "...                  ...                ...        ...        ...   \n",
       "39093                2.0  DEBTCONSOLIDATION          B       3000   \n",
       "39094                6.0          EDUCATION          A       7000   \n",
       "39095                0.0           PERSONAL          A      15000   \n",
       "39096                4.0           PERSONAL          D      14000   \n",
       "39097                6.0  DEBTCONSOLIDATION          B      19450   \n",
       "\n",
       "       loan_int_rate  loan_percent_income cb_person_default_on_file  \\\n",
       "0              15.76                 0.36                         N   \n",
       "1              12.68                 0.10                         Y   \n",
       "2              17.19                 0.13                         Y   \n",
       "3               8.90                 0.14                         N   \n",
       "4              16.32                 0.15                         Y   \n",
       "...              ...                  ...                       ...   \n",
       "39093          10.37                 0.10                         N   \n",
       "39094           6.03                 0.15                         N   \n",
       "39095           7.51                 0.25                         N   \n",
       "39096          15.62                 0.39                         Y   \n",
       "39097           9.91                 0.44                         N   \n",
       "\n",
       "       cb_person_cred_hist_length  \n",
       "0                               2  \n",
       "1                               4  \n",
       "2                               2  \n",
       "3                               7  \n",
       "4                               4  \n",
       "...                           ...  \n",
       "39093                           4  \n",
       "39094                           3  \n",
       "39095                          25  \n",
       "39096                           4  \n",
       "39097                           9  \n",
       "\n",
       "[39098 rows x 12 columns]"
      ]
     },
     "execution_count": 13,
     "metadata": {},
     "output_type": "execute_result"
    }
   ],
   "source": [
    "data_test"
   ]
  },
  {
   "cell_type": "markdown",
   "id": "6b6e2546-8013-4a60-b1e7-553b1b842152",
   "metadata": {},
   "source": [
    "# Categorical NB Classifier"
   ]
  },
  {
   "cell_type": "code",
   "execution_count": 40,
   "id": "3baaee10-03ca-4923-8b04-7fae18ce755c",
   "metadata": {},
   "outputs": [
    {
     "data": {
      "text/plain": [
       "15"
      ]
     },
     "execution_count": 40,
     "metadata": {},
     "output_type": "execute_result"
    }
   ],
   "source": [
    "categorical_predictors = ['person_home_ownership', 'loan_intent', 'loan_grade', 'cb_person_default_on_file']\n",
    "categorical_predictor_combinations = []\n",
    "\n",
    "for count in range(1, len(categorical_predictors) + 1):\n",
    "    for combination in itertools.combinations(categorical_predictors, count):\n",
    "        categorical_predictor_combinations.append(list(combination))\n",
    "\n",
    "#for combination in categorical_predictor_combinations:\n",
    "#    print(len(combination), '  ', combination)\n",
    "\n",
    "data_categorical = [\n",
    "    data[categorical_predictor_combination].copy() for categorical_predictor_combination in categorical_predictor_combinations\n",
    "]\n",
    "\n",
    "len(data_categorical)"
   ]
  },
  {
   "cell_type": "code",
   "execution_count": 41,
   "id": "497a7c69-10a6-4f30-b451-a9bc4aa3ccc1",
   "metadata": {},
   "outputs": [
    {
     "name": "stdout",
     "output_type": "stream",
     "text": [
      "person_home_ownership: P = 0.7818360394094718\n",
      "loan_intent: P = 0.7818360394094718\n",
      "loan_grade: P = 0.815444584266904\n",
      "cb_person_default_on_file: P = 0.7818360394094718\n",
      "person_home_ownership, loan_intent: P = 0.7818360394094718\n",
      "person_home_ownership, loan_grade: P = 0.826555354347626\n",
      "person_home_ownership, cb_person_default_on_file: P = 0.7755133359933704\n",
      "loan_intent, loan_grade: P = 0.8189742487953101\n",
      "loan_intent, cb_person_default_on_file: P = 0.7818360394094718\n",
      "loan_grade, cb_person_default_on_file: P = 0.815444584266904\n",
      "person_home_ownership, loan_intent, loan_grade: P = 0.8360701022068077\n",
      "person_home_ownership, loan_intent, cb_person_default_on_file: P = 0.7860409441085295\n",
      "person_home_ownership, loan_grade, cb_person_default_on_file: P = 0.82462171204076\n",
      "loan_intent, loan_grade, cb_person_default_on_file: P = 0.8199871090512876\n",
      "person_home_ownership, loan_intent, loan_grade, cb_person_default_on_file: P = 0.8114852214480832\n"
     ]
    }
   ],
   "source": [
    "for dataset in data_categorical:\n",
    "\n",
    "    data_categorical_columns = dataset.columns\n",
    "\n",
    "    encoder = OrdinalEncoder()\n",
    "    encoder.fit(dataset.to_numpy())\n",
    "    dataset_encoded = encoder.transform(dataset.to_numpy())\n",
    "    X = dataset_encoded\n",
    "    \n",
    "    dataset['loan_status'] = data['loan_status']\n",
    "    y = dataset['loan_status']\n",
    "\n",
    "    clf = CategoricalNB()\n",
    "    clf.fit(X, y)\n",
    "    dataset['loan_status_predict'] = clf.predict(dataset_encoded)\n",
    "    \n",
    "    P = (dataset['loan_status'] == dataset['loan_status_predict']).sum() / len(dataset)\n",
    "\n",
    "    print(f'{', '.join(data_categorical_columns)}: P = {P}')"
   ]
  },
  {
   "cell_type": "code",
   "execution_count": 106,
   "id": "44a0874b-19b7-40c1-beb4-faf4a38770fe",
   "metadata": {},
   "outputs": [
    {
     "name": "stdout",
     "output_type": "stream",
     "text": [
      "('MORTGAGE', np.int64(0))\n",
      "      person_home_ownership  loan_status\n",
      "15                 MORTGAGE            0\n",
      "34                 MORTGAGE            0\n",
      "42                 MORTGAGE            0\n",
      "45                 MORTGAGE            0\n",
      "46                 MORTGAGE            0\n",
      "...                     ...          ...\n",
      "32569              MORTGAGE            0\n",
      "32573              MORTGAGE            0\n",
      "32576              MORTGAGE            0\n",
      "32577              MORTGAGE            0\n",
      "32579              MORTGAGE            0\n",
      "\n",
      "[11754 rows x 2 columns]\n"
     ]
    },
    {
     "data": {
      "text/html": [
       "<div>\n",
       "<style scoped>\n",
       "    .dataframe tbody tr th:only-of-type {\n",
       "        vertical-align: middle;\n",
       "    }\n",
       "\n",
       "    .dataframe tbody tr th {\n",
       "        vertical-align: top;\n",
       "    }\n",
       "\n",
       "    .dataframe thead th {\n",
       "        text-align: right;\n",
       "    }\n",
       "</style>\n",
       "<table border=\"1\" class=\"dataframe\">\n",
       "  <thead>\n",
       "    <tr style=\"text-align: right;\">\n",
       "      <th></th>\n",
       "      <th>person_home_ownership</th>\n",
       "      <th>loan_status</th>\n",
       "    </tr>\n",
       "  </thead>\n",
       "  <tbody>\n",
       "    <tr>\n",
       "      <th>0</th>\n",
       "      <td>MORTGAGE</td>\n",
       "      <td>0</td>\n",
       "    </tr>\n",
       "    <tr>\n",
       "      <th>1</th>\n",
       "      <td>MORTGAGE</td>\n",
       "      <td>1</td>\n",
       "    </tr>\n",
       "    <tr>\n",
       "      <th>2</th>\n",
       "      <td>OTHER</td>\n",
       "      <td>0</td>\n",
       "    </tr>\n",
       "    <tr>\n",
       "      <th>3</th>\n",
       "      <td>OTHER</td>\n",
       "      <td>1</td>\n",
       "    </tr>\n",
       "    <tr>\n",
       "      <th>4</th>\n",
       "      <td>OWN</td>\n",
       "      <td>0</td>\n",
       "    </tr>\n",
       "    <tr>\n",
       "      <th>5</th>\n",
       "      <td>OWN</td>\n",
       "      <td>1</td>\n",
       "    </tr>\n",
       "    <tr>\n",
       "      <th>6</th>\n",
       "      <td>RENT</td>\n",
       "      <td>0</td>\n",
       "    </tr>\n",
       "    <tr>\n",
       "      <th>7</th>\n",
       "      <td>RENT</td>\n",
       "      <td>1</td>\n",
       "    </tr>\n",
       "  </tbody>\n",
       "</table>\n",
       "</div>"
      ],
      "text/plain": [
       "  person_home_ownership  loan_status\n",
       "0              MORTGAGE            0\n",
       "1              MORTGAGE            1\n",
       "2                 OTHER            0\n",
       "3                 OTHER            1\n",
       "4                   OWN            0\n",
       "5                   OWN            1\n",
       "6                  RENT            0\n",
       "7                  RENT            1"
      ]
     },
     "execution_count": 106,
     "metadata": {},
     "output_type": "execute_result"
    }
   ],
   "source": [
    "# testing - home ownership\n",
    "data_tmp = data[['person_home_ownership', 'loan_status']].copy()\n",
    "\n",
    "for key, df in data_tmp.groupby(by=['person_home_ownership', 'loan_status']):\n",
    "    print(key)\n",
    "    print(df)\n",
    "    break\n",
    "\n",
    "data_tmp.groupby(['person_home_ownership', 'loan_status']).count().reset_index()"
   ]
  },
  {
   "cell_type": "code",
   "execution_count": 42,
   "id": "be2ad4dc-393e-4f74-b18f-3332f479c9a3",
   "metadata": {},
   "outputs": [
    {
     "name": "stdout",
     "output_type": "stream",
     "text": [
      "person_home_ownership, loan_intent: P = 0.7818360394094718\n"
     ]
    }
   ],
   "source": [
    "# testing\n",
    "\n",
    "#categorical_predictors = ['person_home_ownership', 'loan_intent', 'loan_grade', 'cb_person_default_on_file']\n",
    "categorical_predictors = ['person_home_ownership', 'loan_intent']\n",
    "\n",
    "data_categorical = data[categorical_predictors].copy()\n",
    "\n",
    "dataset = data_categorical\n",
    "\n",
    "encoder = OrdinalEncoder()\n",
    "encoder.fit(dataset.to_numpy())\n",
    "dataset_encoded = encoder.transform(dataset.to_numpy())\n",
    "X = dataset_encoded\n",
    "\n",
    "data_categorical['loan_status'] = data['loan_status']\n",
    "y = dataset['loan_status']\n",
    "\n",
    "clf = CategoricalNB()\n",
    "clf.fit(X, y)\n",
    "dataset['loan_status_predict'] = clf.predict(dataset_encoded)\n",
    "P = (dataset['loan_status'] == dataset['loan_status_predict']).sum() / len(dataset)\n",
    "\n",
    "print(f'{', '.join(categorical_predictors)}: P = {P}')"
   ]
  },
  {
   "cell_type": "code",
   "execution_count": 44,
   "id": "5cc4e18b-d24a-4e8c-a262-3af7b67218b5",
   "metadata": {},
   "outputs": [
    {
     "data": {
      "text/html": [
       "<div>\n",
       "<style scoped>\n",
       "    .dataframe tbody tr th:only-of-type {\n",
       "        vertical-align: middle;\n",
       "    }\n",
       "\n",
       "    .dataframe tbody tr th {\n",
       "        vertical-align: top;\n",
       "    }\n",
       "\n",
       "    .dataframe thead th {\n",
       "        text-align: right;\n",
       "    }\n",
       "</style>\n",
       "<table border=\"1\" class=\"dataframe\">\n",
       "  <thead>\n",
       "    <tr style=\"text-align: right;\">\n",
       "      <th></th>\n",
       "      <th>person_home_ownership</th>\n",
       "      <th>loan_intent</th>\n",
       "      <th>loan_status</th>\n",
       "    </tr>\n",
       "  </thead>\n",
       "  <tbody>\n",
       "    <tr>\n",
       "      <th>0</th>\n",
       "      <td>RENT</td>\n",
       "      <td>PERSONAL</td>\n",
       "      <td>1</td>\n",
       "    </tr>\n",
       "    <tr>\n",
       "      <th>1</th>\n",
       "      <td>OWN</td>\n",
       "      <td>EDUCATION</td>\n",
       "      <td>0</td>\n",
       "    </tr>\n",
       "    <tr>\n",
       "      <th>2</th>\n",
       "      <td>MORTGAGE</td>\n",
       "      <td>MEDICAL</td>\n",
       "      <td>1</td>\n",
       "    </tr>\n",
       "    <tr>\n",
       "      <th>3</th>\n",
       "      <td>RENT</td>\n",
       "      <td>MEDICAL</td>\n",
       "      <td>1</td>\n",
       "    </tr>\n",
       "    <tr>\n",
       "      <th>4</th>\n",
       "      <td>RENT</td>\n",
       "      <td>MEDICAL</td>\n",
       "      <td>1</td>\n",
       "    </tr>\n",
       "    <tr>\n",
       "      <th>...</th>\n",
       "      <td>...</td>\n",
       "      <td>...</td>\n",
       "      <td>...</td>\n",
       "    </tr>\n",
       "    <tr>\n",
       "      <th>32576</th>\n",
       "      <td>MORTGAGE</td>\n",
       "      <td>PERSONAL</td>\n",
       "      <td>0</td>\n",
       "    </tr>\n",
       "    <tr>\n",
       "      <th>32577</th>\n",
       "      <td>MORTGAGE</td>\n",
       "      <td>PERSONAL</td>\n",
       "      <td>0</td>\n",
       "    </tr>\n",
       "    <tr>\n",
       "      <th>32578</th>\n",
       "      <td>RENT</td>\n",
       "      <td>HOMEIMPROVEMENT</td>\n",
       "      <td>1</td>\n",
       "    </tr>\n",
       "    <tr>\n",
       "      <th>32579</th>\n",
       "      <td>MORTGAGE</td>\n",
       "      <td>PERSONAL</td>\n",
       "      <td>0</td>\n",
       "    </tr>\n",
       "    <tr>\n",
       "      <th>32580</th>\n",
       "      <td>RENT</td>\n",
       "      <td>MEDICAL</td>\n",
       "      <td>0</td>\n",
       "    </tr>\n",
       "  </tbody>\n",
       "</table>\n",
       "<p>32581 rows × 3 columns</p>\n",
       "</div>"
      ],
      "text/plain": [
       "      person_home_ownership      loan_intent  loan_status\n",
       "0                      RENT         PERSONAL            1\n",
       "1                       OWN        EDUCATION            0\n",
       "2                  MORTGAGE          MEDICAL            1\n",
       "3                      RENT          MEDICAL            1\n",
       "4                      RENT          MEDICAL            1\n",
       "...                     ...              ...          ...\n",
       "32576              MORTGAGE         PERSONAL            0\n",
       "32577              MORTGAGE         PERSONAL            0\n",
       "32578                  RENT  HOMEIMPROVEMENT            1\n",
       "32579              MORTGAGE         PERSONAL            0\n",
       "32580                  RENT          MEDICAL            0\n",
       "\n",
       "[32581 rows x 3 columns]"
      ]
     },
     "execution_count": 44,
     "metadata": {},
     "output_type": "execute_result"
    }
   ],
   "source": [
    "# verification\n",
    "\n",
    "categorical_predictors = ['person_home_ownership', 'loan_intent']\n",
    "\n",
    "data_categorical = data[categorical_predictors].copy()\n",
    "data_categorical['loan_status'] = data['loan_status']\n",
    "data_categorical"
   ]
  },
  {
   "cell_type": "code",
   "execution_count": 57,
   "id": "047bf07a-2f9d-498f-94eb-e923434629d8",
   "metadata": {},
   "outputs": [],
   "source": [
    "data_categorical_approve = data_categorical[data_categorical['loan_status'] == 0]\n",
    "data_categorical_reject = data_categorical[data_categorical['loan_status'] == 1]"
   ]
  },
  {
   "cell_type": "code",
   "execution_count": 58,
   "id": "b485751a-3793-409d-aba2-417623db250e",
   "metadata": {},
   "outputs": [
    {
     "data": {
      "text/plain": [
       "'MORTGAGE, OTHER, OWN, RENT'"
      ]
     },
     "execution_count": 58,
     "metadata": {},
     "output_type": "execute_result"
    }
   ],
   "source": [
    "', '.join(sorted(data_categorical['person_home_ownership'].unique().tolist()))"
   ]
  },
  {
   "cell_type": "code",
   "execution_count": 59,
   "id": "69ef9a10-1e53-408c-bd41-d259c22e5833",
   "metadata": {},
   "outputs": [
    {
     "data": {
      "text/plain": [
       "'DEBTCONSOLIDATION, EDUCATION, HOMEIMPROVEMENT, MEDICAL, PERSONAL, VENTURE'"
      ]
     },
     "execution_count": 59,
     "metadata": {},
     "output_type": "execute_result"
    }
   ],
   "source": [
    "', '.join(sorted(data_categorical['loan_intent'].unique().tolist()))"
   ]
  },
  {
   "cell_type": "code",
   "execution_count": 63,
   "id": "67460956-824b-401a-8798-b6e44251c75d",
   "metadata": {},
   "outputs": [
    {
     "data": {
      "text/plain": [
       "1864"
      ]
     },
     "execution_count": 63,
     "metadata": {},
     "output_type": "execute_result"
    }
   ],
   "source": [
    "count1 = len(\n",
    "    data_categorical_approve[\n",
    "        (data_categorical_approve['person_home_ownership'] == 'MORTGAGE') &\n",
    "        (data_categorical_approve['loan_intent'] == 'DEBTCONSOLIDATION')\n",
    "    ]\n",
    ")\n",
    "count1"
   ]
  },
  {
   "cell_type": "code",
   "execution_count": 64,
   "id": "131db347-8f5b-430a-99ef-1cc56212e302",
   "metadata": {},
   "outputs": [
    {
     "data": {
      "text/plain": [
       "448"
      ]
     },
     "execution_count": 64,
     "metadata": {},
     "output_type": "execute_result"
    }
   ],
   "source": [
    "count2 = len(\n",
    "    data_categorical_reject[\n",
    "        (data_categorical_reject['person_home_ownership'] == 'MORTGAGE') &\n",
    "        (data_categorical_reject['loan_intent'] == 'DEBTCONSOLIDATION')\n",
    "    ]\n",
    ")\n",
    "count2"
   ]
  },
  {
   "cell_type": "code",
   "execution_count": 76,
   "id": "b4359c7f-1a43-4a0a-8629-d80d1d239f85",
   "metadata": {},
   "outputs": [
    {
     "data": {
      "text/plain": [
       "0.19377162629757785"
      ]
     },
     "execution_count": 76,
     "metadata": {},
     "output_type": "execute_result"
    }
   ],
   "source": [
    "P = (count2) / (count1 + count2)\n",
    "P"
   ]
  },
  {
   "cell_type": "code",
   "execution_count": 83,
   "id": "8df33647-75c6-41fb-a261-c78be22ea3f3",
   "metadata": {},
   "outputs": [
    {
     "data": {
      "text/plain": [
       "13444"
      ]
     },
     "execution_count": 83,
     "metadata": {},
     "output_type": "execute_result"
    }
   ],
   "source": [
    "count_mortgage = len(\n",
    "    data_categorical[\n",
    "        data_categorical['person_home_ownership'] == 'MORTGAGE'\n",
    "    ]\n",
    ")\n",
    "count_mortgage"
   ]
  },
  {
   "cell_type": "code",
   "execution_count": 84,
   "id": "59c86e0e-f0f7-44f1-aa53-132afa799b4d",
   "metadata": {},
   "outputs": [
    {
     "data": {
      "text/plain": [
       "5212"
      ]
     },
     "execution_count": 84,
     "metadata": {},
     "output_type": "execute_result"
    }
   ],
   "source": [
    "count_debtconsolidation = len(\n",
    "    data_categorical[\n",
    "        data_categorical['loan_intent'] == 'DEBTCONSOLIDATION'\n",
    "    ]\n",
    ")\n",
    "count_debtconsolidation"
   ]
  },
  {
   "cell_type": "code",
   "execution_count": 88,
   "id": "a3fe911d-767b-4828-b136-22f8da3ceefd",
   "metadata": {},
   "outputs": [
    {
     "data": {
      "text/plain": [
       "32581"
      ]
     },
     "execution_count": 88,
     "metadata": {},
     "output_type": "execute_result"
    }
   ],
   "source": [
    "count_data = len(data_categorical)\n",
    "count_data"
   ]
  },
  {
   "cell_type": "code",
   "execution_count": 86,
   "id": "adfb4315-ca95-4b87-a7c1-4e73bfe692dc",
   "metadata": {},
   "outputs": [
    {
     "data": {
      "text/plain": [
       "0.412633129738191"
      ]
     },
     "execution_count": 86,
     "metadata": {},
     "output_type": "execute_result"
    }
   ],
   "source": [
    "P_mortgage = count_mortgage / count_data\n",
    "P_mortgage"
   ]
  },
  {
   "cell_type": "code",
   "execution_count": 87,
   "id": "9e5c373a-7f71-4a03-b855-f65bd57dcb32",
   "metadata": {},
   "outputs": [
    {
     "data": {
      "text/plain": [
       "0.15997053497437155"
      ]
     },
     "execution_count": 87,
     "metadata": {},
     "output_type": "execute_result"
    }
   ],
   "source": [
    "P_debtconsolidation = count_debtconsolidation / count_data\n",
    "P_debtconsolidation"
   ]
  },
  {
   "cell_type": "code",
   "execution_count": null,
   "id": "1093f48b-d27b-4aa6-ba0a-d536528e67db",
   "metadata": {},
   "outputs": [],
   "source": [
    "count_mortgage_given_accept = len(data_categorical[data_categorical['loan_status']])\n",
    "count_mortgage_given_accept"
   ]
  },
  {
   "cell_type": "code",
   "execution_count": null,
   "id": "435586ea-c2f5-4a16-aff4-4b25a68b1fb3",
   "metadata": {},
   "outputs": [],
   "source": [
    "count_debtconsolidation_given_accept = \n",
    "count_debtconsolidation_given_accept"
   ]
  },
  {
   "cell_type": "code",
   "execution_count": 90,
   "id": "93411ef8-5d17-4693-bb5e-61eb2dee3969",
   "metadata": {},
   "outputs": [
    {
     "data": {
      "text/plain": [
       "25473"
      ]
     },
     "execution_count": 90,
     "metadata": {},
     "output_type": "execute_result"
    }
   ],
   "source": [
    "count_accept = len(data_categorical[data_categorical['loan_status'] == 0])\n",
    "count_accept"
   ]
  },
  {
   "cell_type": "code",
   "execution_count": null,
   "id": "4893ee6d-0902-42ac-bc91-9eb69b557645",
   "metadata": {},
   "outputs": [],
   "source": [
    "P_mortgage_given_accept = count_mortgage_given_accept / count_accept\n",
    "P_mortgage_given_accept"
   ]
  },
  {
   "cell_type": "code",
   "execution_count": null,
   "id": "e24b9eb8-8bf6-4c4f-b4fd-b2675a8a3d22",
   "metadata": {},
   "outputs": [],
   "source": [
    "P_debtconsolidation_given_accept = count_debtconsolidation_given_accept / count_accept\n",
    "P_debtconsolidation_given_accept"
   ]
  },
  {
   "cell_type": "code",
   "execution_count": null,
   "id": "e6119ba2-20cd-47bd-97ab-9899360cc33e",
   "metadata": {},
   "outputs": [],
   "source": [
    "P_mortgage_and_debtconsolidation_given_accept = P_mortgage_given_accept * P_debtconsolidation_given_accept\n",
    "P_mortgage_and_debtconsolidation_given_accept"
   ]
  },
  {
   "cell_type": "code",
   "execution_count": null,
   "id": "1320157d-d1a5-43d5-a3ff-bf71a484bd8d",
   "metadata": {},
   "outputs": [],
   "source": [
    "P_accept_given_mortgage_and_debtconsolidation = P_mortgage_and_debtconsolidation_given_accept / (P_mortgage_and_debtconsolidation * P_accept)\n",
    "P_accept_given_mortgage_and_debtconsolidation"
   ]
  },
  {
   "cell_type": "code",
   "execution_count": 73,
   "id": "5226af9a-5107-45d1-a480-6cbbbd621888",
   "metadata": {},
   "outputs": [
    {
     "name": "stdout",
     "output_type": "stream",
     "text": [
      "person_home_ownership, loan_intent: P = 0.7818360394094718\n",
      "[['MORTGAGE' 'DEBTCONSOLIDATION']]\n",
      "[[0. 0.]]\n",
      "[0]\n",
      "[[0.82901424 0.17098576]]\n"
     ]
    }
   ],
   "source": [
    "# testing how it works\n",
    "data_mytest = pandas.DataFrame(\n",
    "    {\n",
    "        'person_home_ownership': ['MORTGAGE'],\n",
    "        'loan_intent': ['DEBTCONSOLIDATION'],\n",
    "    }\n",
    ")\n",
    "\n",
    "data_categorical_ = data[['person_home_ownership', 'loan_intent']].copy()\n",
    "\n",
    "dataset_ = data_categorical_\n",
    "columns_ = dataset_.columns\n",
    "\n",
    "encoder = OrdinalEncoder()\n",
    "encoder.fit(dataset_.to_numpy())\n",
    "dataset_encoded_ = encoder.transform(dataset_.to_numpy())\n",
    "X = dataset_encoded_\n",
    "\n",
    "dataset_['loan_status'] = data['loan_status']\n",
    "y = dataset_['loan_status']\n",
    "\n",
    "clf = CategoricalNB()\n",
    "clf.fit(X, y)\n",
    "dataset_['loan_status_predict'] = clf.predict(dataset_encoded_)\n",
    "\n",
    "P = (dataset_['loan_status'] == dataset_['loan_status_predict']).sum() / len(dataset_)\n",
    "\n",
    "print(f'{', '.join(columns_)}: P = {P}')\n",
    "\n",
    "data_mytest_encoded = encoder.transform(data_mytest.to_numpy())\n",
    "print(data_mytest)\n",
    "print(data_mytest_encoded)\n",
    "print(clf.predict(data_mytest_encoded))\n",
    "print(clf.predict_proba(data_mytest_encoded))"
   ]
  },
  {
   "cell_type": "code",
   "execution_count": null,
   "id": "de2b95ce-9084-4cf9-b30a-cf2c65b2d34b",
   "metadata": {},
   "outputs": [],
   "source": []
  }
 ],
 "metadata": {
  "kernelspec": {
   "display_name": "Python 3 (ipykernel)",
   "language": "python",
   "name": "python3"
  },
  "language_info": {
   "codemirror_mode": {
    "name": "ipython",
    "version": 3
   },
   "file_extension": ".py",
   "mimetype": "text/x-python",
   "name": "python",
   "nbconvert_exporter": "python",
   "pygments_lexer": "ipython3",
   "version": "3.12.7"
  }
 },
 "nbformat": 4,
 "nbformat_minor": 5
}
