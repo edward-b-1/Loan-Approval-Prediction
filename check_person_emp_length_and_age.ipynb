{
 "cells": [
  {
   "cell_type": "markdown",
   "id": "51b5c8ea-3ec3-4319-b1de-3f1591fd344a",
   "metadata": {},
   "source": [
    "# Check Person Employment Length and Person Age"
   ]
  },
  {
   "cell_type": "code",
   "execution_count": 1,
   "id": "0a2056ad-250e-4abf-9df0-a3e462353599",
   "metadata": {},
   "outputs": [
    {
     "name": "stdout",
     "output_type": "stream",
     "text": [
      "The history saving thread hit an unexpected error (OperationalError('attempt to write a readonly database')).History will not be written to the database.\n"
     ]
    }
   ],
   "source": [
    "%load_ext autoreload\n",
    "%autoreload 2"
   ]
  },
  {
   "cell_type": "code",
   "execution_count": 2,
   "id": "b41e57e0-548c-4406-be8a-2b5511ee0b83",
   "metadata": {},
   "outputs": [],
   "source": [
    "import pandas\n",
    "import numpy\n",
    "import matplotlib.pyplot as plt\n",
    "import itertools\n",
    "import sklearn\n",
    "from sklearn.metrics import log_loss\n",
    "from sklearn import preprocessing"
   ]
  },
  {
   "cell_type": "code",
   "execution_count": 3,
   "id": "9c388b5b-920c-43a1-a499-eb0ea1b5a2c5",
   "metadata": {},
   "outputs": [],
   "source": [
    "import loan_approval_lib\n",
    "from loan_approval_lib import logspace, linspace"
   ]
  },
  {
   "cell_type": "code",
   "execution_count": 4,
   "id": "89680ed7-f9f8-4224-b109-605bfbc875ba",
   "metadata": {},
   "outputs": [],
   "source": [
    "data = loan_approval_lib.load_original_data()"
   ]
  },
  {
   "cell_type": "markdown",
   "id": "6222caee-6b21-4579-9a09-bddb9dbba7fa",
   "metadata": {},
   "source": [
    "# Data Cleaning"
   ]
  },
  {
   "cell_type": "code",
   "execution_count": 6,
   "id": "a771c01e-b936-439f-ae6a-811b926ff0d8",
   "metadata": {},
   "outputs": [
    {
     "name": "stdout",
     "output_type": "stream",
     "text": [
      "column person_age, number of removed rows: 5\n",
      "column person_income, number of removed rows: 0\n",
      "column person_emp_length, number of removed rows: 897\n",
      "column loan_amnt, number of removed rows: 0\n",
      "column loan_int_rate, number of removed rows: 3047\n",
      "column loan_percent_income, number of removed rows: 0\n",
      "column cb_person_default_on_file, number of removed rows: 0\n"
     ]
    }
   ],
   "source": [
    "columns = [\n",
    "    'person_age',\n",
    "    'person_income',\n",
    "    'person_emp_length',\n",
    "    'loan_amnt',\n",
    "    'loan_int_rate',\n",
    "    'loan_percent_income',\n",
    "    'cb_person_default_on_file'\n",
    "]\n",
    "\n",
    "for column in columns:\n",
    "    row_count_1 = len(data)\n",
    "\n",
    "    if column == 'person_age':\n",
    "        data = data[data['person_age'] <= 100]\n",
    "\n",
    "    if column == 'person_emp_length':\n",
    "        data = data[data['person_emp_length'] <= 100]\n",
    "\n",
    "    data = data[data[column].isna() == False]\n",
    "    \n",
    "    row_count_2 = len(data)\n",
    "    row_count_diff = row_count_1 - row_count_2\n",
    "    print(f'column {column}, number of removed rows: {row_count_diff}')\n",
    "    "
   ]
  },
  {
   "cell_type": "markdown",
   "id": "cd8134f7-4401-4535-b009-7c3bc49b6982",
   "metadata": {},
   "source": [
    "# Look for outliers where employment length is large compared to age"
   ]
  },
  {
   "cell_type": "code",
   "execution_count": 12,
   "id": "6aab9159-72dc-4000-b3da-38fb67b0329d",
   "metadata": {},
   "outputs": [],
   "source": [
    "data['person_age_sub_person_emp_length'] = data['person_age'] - data['person_emp_length']"
   ]
  },
  {
   "cell_type": "code",
   "execution_count": 13,
   "id": "e24365f6-d2ff-419b-b950-31e3526b1615",
   "metadata": {},
   "outputs": [],
   "source": [
    "data_loan_status_deny = data[data['loan_status'] == 1]\n",
    "data_loan_status_approve = data[data['loan_status'] == 0]"
   ]
  },
  {
   "cell_type": "code",
   "execution_count": 14,
   "id": "84f7d36e-a0d1-4fa8-a33c-fff7924dd60b",
   "metadata": {},
   "outputs": [
    {
     "data": {
      "image/png": "[encoded data removed]",
      "text/plain": [
       "<Figure size 640x480 with 1 Axes>"
      ]
     },
     "metadata": {},
     "output_type": "display_data"
    }
   ],
   "source": [
    "column = 'person_age_sub_person_emp_length'\n",
    "\n",
    "data_deny = data_loan_status_deny[column]\n",
    "data_accept = data_loan_status_approve[column]\n",
    "\n",
    "plt.hist(\n",
    "    data_deny,\n",
    "    bins=50, #numpy.linspace(0, 30, 30), #logspace(data_train_loan_status_deny[column]),\n",
    "    histtype='step',\n",
    "    density=True,\n",
    "    label='deny',\n",
    "    linewidth=2,\n",
    ")\n",
    "plt.hist(\n",
    "    data_accept,\n",
    "    bins=50, #numpy.linspace(0, 30, 30), #logspace(data_train_loan_status_accept[column]),\n",
    "    histtype='step',\n",
    "    density=True,\n",
    "    label='approve',\n",
    "    linewidth=2,\n",
    ")\n",
    "#plt.xlim(left=0, right=30)\n",
    "plt.xlabel('credit history length')\n",
    "#plt.xscale('log')\n",
    "plt.legend()\n",
    "None"
   ]
  }
 ],
 "metadata": {
  "kernelspec": {
   "display_name": "Python 3 (ipykernel)",
   "language": "python",
   "name": "python3"
  },
  "language_info": {
   "codemirror_mode": {
    "name": "ipython",
    "version": 3
   },
   "file_extension": ".py",
   "mimetype": "text/x-python",
   "name": "python",
   "nbconvert_exporter": "python",
   "pygments_lexer": "ipython3",
   "version": "3.12.7"
  }
 },
 "nbformat": 4,
 "nbformat_minor": 5
}
