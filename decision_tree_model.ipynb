{
 "cells": [
  {
   "cell_type": "markdown",
   "id": "e4814517-f198-4a51-b505-f407cd359947",
   "metadata": {},
   "source": [
    "# Decision Tree Predictor\n",
    "\n",
    "- Decision Tree\n",
    "- Categorical variables are transformed into a \"vote\", which is either -1 or 1 depending on the variable value"
   ]
  },
  {
   "cell_type": "code",
   "execution_count": 1,
   "id": "447918ec-47e1-41fe-aa0d-7a9834cc1a80",
   "metadata": {},
   "outputs": [],
   "source": [
    "%load_ext autoreload\n",
    "%autoreload 2"
   ]
  },
  {
   "cell_type": "code",
   "execution_count": 2,
   "id": "2df9def7-4c53-42a7-8d8c-65400c3a7648",
   "metadata": {},
   "outputs": [],
   "source": [
    "import math\n",
    "import pandas\n",
    "import numpy\n",
    "import itertools\n",
    "import matplotlib.pyplot as plt\n",
    "import sklearn\n",
    "from sklearn import tree\n",
    "from sklearn.metrics import log_loss\n",
    "from sklearn.preprocessing import OrdinalEncoder\n",
    "from sklearn.naive_bayes import CategoricalNB"
   ]
  },
  {
   "cell_type": "code",
   "execution_count": 3,
   "id": "56f58295-1796-4305-a1e3-2e75b536c8f6",
   "metadata": {},
   "outputs": [],
   "source": [
    "import loan_approval_lib\n",
    "from loan_approval_lib import logspace, linspace"
   ]
  },
  {
   "cell_type": "code",
   "execution_count": 4,
   "id": "7b5f0cd3-e1ae-4504-bf9c-2978bce85170",
   "metadata": {},
   "outputs": [],
   "source": [
    "data = loan_approval_lib.load_original_data()"
   ]
  },
  {
   "cell_type": "code",
   "execution_count": 5,
   "id": "451aa01b-8045-453d-9119-1f7a35c1d501",
   "metadata": {},
   "outputs": [
    {
     "data": {
      "text/html": [
       "<div>\n",
       "<style scoped>\n",
       "    .dataframe tbody tr th:only-of-type {\n",
       "        vertical-align: middle;\n",
       "    }\n",
       "\n",
       "    .dataframe tbody tr th {\n",
       "        vertical-align: top;\n",
       "    }\n",
       "\n",
       "    .dataframe thead th {\n",
       "        text-align: right;\n",
       "    }\n",
       "</style>\n",
       "<table border=\"1\" class=\"dataframe\">\n",
       "  <thead>\n",
       "    <tr style=\"text-align: right;\">\n",
       "      <th></th>\n",
       "      <th>person_age</th>\n",
       "      <th>person_income</th>\n",
       "      <th>person_home_ownership</th>\n",
       "      <th>person_emp_length</th>\n",
       "      <th>loan_intent</th>\n",
       "      <th>loan_grade</th>\n",
       "      <th>loan_amnt</th>\n",
       "      <th>loan_int_rate</th>\n",
       "      <th>loan_percent_income</th>\n",
       "      <th>cb_person_default_on_file</th>\n",
       "      <th>cb_person_cred_hist_length</th>\n",
       "      <th>loan_status</th>\n",
       "    </tr>\n",
       "  </thead>\n",
       "  <tbody>\n",
       "    <tr>\n",
       "      <th>0</th>\n",
       "      <td>22</td>\n",
       "      <td>59000</td>\n",
       "      <td>RENT</td>\n",
       "      <td>123.0</td>\n",
       "      <td>PERSONAL</td>\n",
       "      <td>D</td>\n",
       "      <td>35000</td>\n",
       "      <td>16.02</td>\n",
       "      <td>0.59</td>\n",
       "      <td>Y</td>\n",
       "      <td>3</td>\n",
       "      <td>1</td>\n",
       "    </tr>\n",
       "    <tr>\n",
       "      <th>1</th>\n",
       "      <td>21</td>\n",
       "      <td>9600</td>\n",
       "      <td>OWN</td>\n",
       "      <td>5.0</td>\n",
       "      <td>EDUCATION</td>\n",
       "      <td>B</td>\n",
       "      <td>1000</td>\n",
       "      <td>11.14</td>\n",
       "      <td>0.10</td>\n",
       "      <td>N</td>\n",
       "      <td>2</td>\n",
       "      <td>0</td>\n",
       "    </tr>\n",
       "    <tr>\n",
       "      <th>2</th>\n",
       "      <td>25</td>\n",
       "      <td>9600</td>\n",
       "      <td>MORTGAGE</td>\n",
       "      <td>1.0</td>\n",
       "      <td>MEDICAL</td>\n",
       "      <td>C</td>\n",
       "      <td>5500</td>\n",
       "      <td>12.87</td>\n",
       "      <td>0.57</td>\n",
       "      <td>N</td>\n",
       "      <td>3</td>\n",
       "      <td>1</td>\n",
       "    </tr>\n",
       "    <tr>\n",
       "      <th>3</th>\n",
       "      <td>23</td>\n",
       "      <td>65500</td>\n",
       "      <td>RENT</td>\n",
       "      <td>4.0</td>\n",
       "      <td>MEDICAL</td>\n",
       "      <td>C</td>\n",
       "      <td>35000</td>\n",
       "      <td>15.23</td>\n",
       "      <td>0.53</td>\n",
       "      <td>N</td>\n",
       "      <td>2</td>\n",
       "      <td>1</td>\n",
       "    </tr>\n",
       "    <tr>\n",
       "      <th>4</th>\n",
       "      <td>24</td>\n",
       "      <td>54400</td>\n",
       "      <td>RENT</td>\n",
       "      <td>8.0</td>\n",
       "      <td>MEDICAL</td>\n",
       "      <td>C</td>\n",
       "      <td>35000</td>\n",
       "      <td>14.27</td>\n",
       "      <td>0.55</td>\n",
       "      <td>Y</td>\n",
       "      <td>4</td>\n",
       "      <td>1</td>\n",
       "    </tr>\n",
       "    <tr>\n",
       "      <th>...</th>\n",
       "      <td>...</td>\n",
       "      <td>...</td>\n",
       "      <td>...</td>\n",
       "      <td>...</td>\n",
       "      <td>...</td>\n",
       "      <td>...</td>\n",
       "      <td>...</td>\n",
       "      <td>...</td>\n",
       "      <td>...</td>\n",
       "      <td>...</td>\n",
       "      <td>...</td>\n",
       "      <td>...</td>\n",
       "    </tr>\n",
       "    <tr>\n",
       "      <th>32576</th>\n",
       "      <td>57</td>\n",
       "      <td>53000</td>\n",
       "      <td>MORTGAGE</td>\n",
       "      <td>1.0</td>\n",
       "      <td>PERSONAL</td>\n",
       "      <td>C</td>\n",
       "      <td>5800</td>\n",
       "      <td>13.16</td>\n",
       "      <td>0.11</td>\n",
       "      <td>N</td>\n",
       "      <td>30</td>\n",
       "      <td>0</td>\n",
       "    </tr>\n",
       "    <tr>\n",
       "      <th>32577</th>\n",
       "      <td>54</td>\n",
       "      <td>120000</td>\n",
       "      <td>MORTGAGE</td>\n",
       "      <td>4.0</td>\n",
       "      <td>PERSONAL</td>\n",
       "      <td>A</td>\n",
       "      <td>17625</td>\n",
       "      <td>7.49</td>\n",
       "      <td>0.15</td>\n",
       "      <td>N</td>\n",
       "      <td>19</td>\n",
       "      <td>0</td>\n",
       "    </tr>\n",
       "    <tr>\n",
       "      <th>32578</th>\n",
       "      <td>65</td>\n",
       "      <td>76000</td>\n",
       "      <td>RENT</td>\n",
       "      <td>3.0</td>\n",
       "      <td>HOMEIMPROVEMENT</td>\n",
       "      <td>B</td>\n",
       "      <td>35000</td>\n",
       "      <td>10.99</td>\n",
       "      <td>0.46</td>\n",
       "      <td>N</td>\n",
       "      <td>28</td>\n",
       "      <td>1</td>\n",
       "    </tr>\n",
       "    <tr>\n",
       "      <th>32579</th>\n",
       "      <td>56</td>\n",
       "      <td>150000</td>\n",
       "      <td>MORTGAGE</td>\n",
       "      <td>5.0</td>\n",
       "      <td>PERSONAL</td>\n",
       "      <td>B</td>\n",
       "      <td>15000</td>\n",
       "      <td>11.48</td>\n",
       "      <td>0.10</td>\n",
       "      <td>N</td>\n",
       "      <td>26</td>\n",
       "      <td>0</td>\n",
       "    </tr>\n",
       "    <tr>\n",
       "      <th>32580</th>\n",
       "      <td>66</td>\n",
       "      <td>42000</td>\n",
       "      <td>RENT</td>\n",
       "      <td>2.0</td>\n",
       "      <td>MEDICAL</td>\n",
       "      <td>B</td>\n",
       "      <td>6475</td>\n",
       "      <td>9.99</td>\n",
       "      <td>0.15</td>\n",
       "      <td>N</td>\n",
       "      <td>30</td>\n",
       "      <td>0</td>\n",
       "    </tr>\n",
       "  </tbody>\n",
       "</table>\n",
       "<p>32581 rows × 12 columns</p>\n",
       "</div>"
      ],
      "text/plain": [
       "       person_age  person_income person_home_ownership  person_emp_length  \\\n",
       "0              22          59000                  RENT              123.0   \n",
       "1              21           9600                   OWN                5.0   \n",
       "2              25           9600              MORTGAGE                1.0   \n",
       "3              23          65500                  RENT                4.0   \n",
       "4              24          54400                  RENT                8.0   \n",
       "...           ...            ...                   ...                ...   \n",
       "32576          57          53000              MORTGAGE                1.0   \n",
       "32577          54         120000              MORTGAGE                4.0   \n",
       "32578          65          76000                  RENT                3.0   \n",
       "32579          56         150000              MORTGAGE                5.0   \n",
       "32580          66          42000                  RENT                2.0   \n",
       "\n",
       "           loan_intent loan_grade  loan_amnt  loan_int_rate  \\\n",
       "0             PERSONAL          D      35000          16.02   \n",
       "1            EDUCATION          B       1000          11.14   \n",
       "2              MEDICAL          C       5500          12.87   \n",
       "3              MEDICAL          C      35000          15.23   \n",
       "4              MEDICAL          C      35000          14.27   \n",
       "...                ...        ...        ...            ...   \n",
       "32576         PERSONAL          C       5800          13.16   \n",
       "32577         PERSONAL          A      17625           7.49   \n",
       "32578  HOMEIMPROVEMENT          B      35000          10.99   \n",
       "32579         PERSONAL          B      15000          11.48   \n",
       "32580          MEDICAL          B       6475           9.99   \n",
       "\n",
       "       loan_percent_income cb_person_default_on_file  \\\n",
       "0                     0.59                         Y   \n",
       "1                     0.10                         N   \n",
       "2                     0.57                         N   \n",
       "3                     0.53                         N   \n",
       "4                     0.55                         Y   \n",
       "...                    ...                       ...   \n",
       "32576                 0.11                         N   \n",
       "32577                 0.15                         N   \n",
       "32578                 0.46                         N   \n",
       "32579                 0.10                         N   \n",
       "32580                 0.15                         N   \n",
       "\n",
       "       cb_person_cred_hist_length  loan_status  \n",
       "0                               3            1  \n",
       "1                               2            0  \n",
       "2                               3            1  \n",
       "3                               2            1  \n",
       "4                               4            1  \n",
       "...                           ...          ...  \n",
       "32576                          30            0  \n",
       "32577                          19            0  \n",
       "32578                          28            1  \n",
       "32579                          26            0  \n",
       "32580                          30            0  \n",
       "\n",
       "[32581 rows x 12 columns]"
      ]
     },
     "execution_count": 5,
     "metadata": {},
     "output_type": "execute_result"
    }
   ],
   "source": [
    "data"
   ]
  },
  {
   "cell_type": "markdown",
   "id": "727bf96e-0142-406e-97d5-540aa2ea123c",
   "metadata": {},
   "source": [
    "# Data Cleaning"
   ]
  },
  {
   "cell_type": "code",
   "execution_count": 6,
   "id": "8bcb0d96-7cc2-407f-878c-d5e1aa54d396",
   "metadata": {},
   "outputs": [
    {
     "name": "stdout",
     "output_type": "stream",
     "text": [
      "column person_age, number of removed rows: 5\n",
      "column person_income, number of removed rows: 0\n",
      "column person_emp_length, number of removed rows: 897\n",
      "column loan_amnt, number of removed rows: 0\n",
      "column loan_int_rate, number of removed rows: 3047\n",
      "column loan_percent_income, number of removed rows: 0\n",
      "column cb_person_default_on_file, number of removed rows: 0\n"
     ]
    }
   ],
   "source": [
    "columns = [\n",
    "    'person_age',\n",
    "    'person_income',\n",
    "    'person_emp_length',\n",
    "    'loan_amnt',\n",
    "    'loan_int_rate',\n",
    "    'loan_percent_income',\n",
    "    'cb_person_default_on_file'\n",
    "]\n",
    "\n",
    "for column in columns:\n",
    "    row_count_1 = len(data)\n",
    "\n",
    "    if column == 'person_age':\n",
    "        data = data[data['person_age'] <= 100]\n",
    "\n",
    "    if column == 'person_emp_length':\n",
    "        data = data[data['person_emp_length'] <= 100]\n",
    "\n",
    "    data = data[data[column].isna() == False]\n",
    "    \n",
    "    row_count_2 = len(data)\n",
    "    row_count_diff = row_count_1 - row_count_2\n",
    "    print(f'column {column}, number of removed rows: {row_count_diff}')\n"
   ]
  },
  {
   "cell_type": "markdown",
   "id": "2f919588-304b-4d7c-b9cd-1d4a74b5a33f",
   "metadata": {},
   "source": [
    "# Loan Grade"
   ]
  },
  {
   "cell_type": "code",
   "execution_count": 7,
   "id": "91642bbc-7817-4fb6-a368-c419167ab1d9",
   "metadata": {},
   "outputs": [],
   "source": [
    "loan_grades = list(sorted(data['loan_grade'].unique()))\n",
    "\n",
    "data['loan_grade_vote'] = 0\n",
    "\n",
    "for loan_grade in loan_grades:\n",
    "    data.loc[data['loan_grade'] == loan_grade, 'loan_grade_vote'] = -1 if loan_grade <= 'C' else 1\n",
    "\n",
    "data['loan_grade_predict'] = data['loan_grade_vote'].map(lambda x: 0 if x == -1 else 1)"
   ]
  },
  {
   "cell_type": "code",
   "execution_count": 8,
   "id": "2628648a-d66a-4c89-ad74-dd35e6ee46ad",
   "metadata": {},
   "outputs": [
    {
     "data": {
      "text/plain": [
       "np.float64(0.8180008382229673)"
      ]
     },
     "execution_count": 8,
     "metadata": {},
     "output_type": "execute_result"
    }
   ],
   "source": [
    "(data['loan_status'] == data['loan_grade_predict']).sum() / len(data)"
   ]
  },
  {
   "cell_type": "markdown",
   "id": "0fd8b2cf-45a9-4a48-8a86-1e8bd23aaf4b",
   "metadata": {},
   "source": [
    "# Person Home Ownership"
   ]
  },
  {
   "cell_type": "code",
   "execution_count": 10,
   "id": "71fe8cb0-fa38-4645-a3b4-2a397b06eb33",
   "metadata": {},
   "outputs": [],
   "source": [
    "data.loc[data['person_home_ownership'] == 'OWN', 'person_home_ownership_vote'] = -1\n",
    "data.loc[data['person_home_ownership'] == 'MORTGAGE', 'person_home_ownership_vote'] = -1\n",
    "data.loc[data['person_home_ownership'] == 'RENT', 'person_home_ownership_vote'] = 1\n",
    "data.loc[data['person_home_ownership'] == 'OTHER', 'person_home_ownership_vote'] = 1\n",
    "\n",
    "data['person_home_ownership_predict'] = data['person_home_ownership_vote'].map(lambda x: 0 if x == -1 else 1)"
   ]
  },
  {
   "cell_type": "code",
   "execution_count": 11,
   "id": "3989f1c5-a98f-4f67-aa3c-6f3fbc731b3d",
   "metadata": {},
   "outputs": [
    {
     "data": {
      "text/plain": [
       "np.float64(0.5912964515227718)"
      ]
     },
     "execution_count": 11,
     "metadata": {},
     "output_type": "execute_result"
    }
   ],
   "source": [
    "(data['loan_status'] == data['person_home_ownership_predict']).sum() / len(data)"
   ]
  },
  {
   "cell_type": "markdown",
   "id": "4437df94-d513-42a4-a10a-60293572d198",
   "metadata": {},
   "source": [
    "# Loan Intent"
   ]
  },
  {
   "cell_type": "code",
   "execution_count": 13,
   "id": "e5219039-5649-4c67-98bd-dedbfefc22c4",
   "metadata": {},
   "outputs": [],
   "source": [
    "data.loc[data['loan_intent'] == 'DEBTCONSOLIDATION', 'loan_intent_vote'] = 1\n",
    "data.loc[data['loan_intent'] == 'EDUCATION', 'loan_intent_vote'] = -1\n",
    "data.loc[data['loan_intent'] == 'HOMEIMPROVEMENT', 'loan_intent_vote'] = 1\n",
    "data.loc[data['loan_intent'] == 'MEDICAL', 'loan_intent_vote'] = 1\n",
    "data.loc[data['loan_intent'] == 'PERSONAL', 'loan_intent_vote'] = -1\n",
    "data.loc[data['loan_intent'] == 'VENTURE', 'loan_intent_vote'] = -1\n",
    "\n",
    "data['loan_intent_predict'] = data['loan_intent_vote'].map(lambda x: 0 if x == -1 else 1)"
   ]
  },
  {
   "cell_type": "code",
   "execution_count": 14,
   "id": "c01e8fb8-8e2e-4e60-8f96-928c6434d63c",
   "metadata": {},
   "outputs": [
    {
     "data": {
      "text/plain": [
       "np.float64(0.5745319921765857)"
      ]
     },
     "execution_count": 14,
     "metadata": {},
     "output_type": "execute_result"
    }
   ],
   "source": [
    "(data['loan_status'] == data['loan_intent_predict']).sum() / len(data)"
   ]
  },
  {
   "cell_type": "markdown",
   "id": "90f5f5a0-c035-4136-85f7-d3f89952e14f",
   "metadata": {},
   "source": [
    "# Default on File"
   ]
  },
  {
   "cell_type": "code",
   "execution_count": 15,
   "id": "1ba5461c-aa7a-4534-9676-291f4d230029",
   "metadata": {},
   "outputs": [],
   "source": [
    "data.loc[data['cb_person_default_on_file'] == 'Y', 'cb_person_default_on_file_vote'] = 1\n",
    "data.loc[data['cb_person_default_on_file'] == 'N', 'cb_person_default_on_file_vote'] = -1\n",
    "\n",
    "data['cb_person_default_on_file_predict'] = data['cb_person_default_on_file_vote'].map(lambda x: 0 if x == -1 else 1)"
   ]
  },
  {
   "cell_type": "code",
   "execution_count": 16,
   "id": "4b1dcc25-bca3-4ea9-9333-09074513717b",
   "metadata": {},
   "outputs": [
    {
     "data": {
      "text/plain": [
       "np.float64(0.739731768650461)"
      ]
     },
     "execution_count": 16,
     "metadata": {},
     "output_type": "execute_result"
    }
   ],
   "source": [
    "(data['loan_status'] == data['cb_person_default_on_file_predict']).sum() / len(data)"
   ]
  },
  {
   "cell_type": "markdown",
   "id": "842c2919-99af-4f4b-bd1f-f94f2d48825c",
   "metadata": {},
   "source": [
    "# Choose Columns for Tree Model"
   ]
  },
  {
   "cell_type": "code",
   "execution_count": 18,
   "id": "5043e7a1-4f9c-43f1-8015-bfc305a633b6",
   "metadata": {},
   "outputs": [
    {
     "name": "stdout",
     "output_type": "stream",
     "text": [
      "person_age\n",
      "person_income\n",
      "person_home_ownership\n",
      "person_emp_length\n",
      "loan_intent\n",
      "loan_grade\n",
      "loan_amnt\n",
      "loan_int_rate\n",
      "loan_percent_income\n",
      "cb_person_default_on_file\n",
      "cb_person_cred_hist_length\n",
      "loan_status\n",
      "loan_grade_vote\n",
      "loan_grade_predict\n",
      "person_home_ownership_vote\n",
      "person_home_ownership_predict\n",
      "loan_intent_vote\n",
      "loan_intent_predict\n",
      "cb_person_default_on_file_vote\n",
      "cb_person_default_on_file_predict\n"
     ]
    }
   ],
   "source": [
    "for column in data.columns:\n",
    "    print(column)"
   ]
  },
  {
   "cell_type": "code",
   "execution_count": 23,
   "id": "29463592-e99d-4eae-b580-e3d3addd77bf",
   "metadata": {},
   "outputs": [
    {
     "name": "stdout",
     "output_type": "stream",
     "text": [
      "loan_grade_vote\n",
      "person_home_ownership_vote\n",
      "loan_intent_vote\n",
      "cb_person_default_on_file_vote\n",
      "person_age\n",
      "person_income\n",
      "person_emp_length\n",
      "loan_amnt\n",
      "loan_int_rate\n",
      "loan_percent_income\n",
      "cb_person_cred_hist_length\n"
     ]
    }
   ],
   "source": [
    "decision_tree_columns = [\n",
    "    column for column in data.columns if column.endswith('_vote') and column != 'loan_status_vote'\n",
    "]\n",
    "\n",
    "list(\n",
    "    map(\n",
    "        decision_tree_columns.append,\n",
    "        [\n",
    "            'person_age',\n",
    "            'person_income',\n",
    "            'person_emp_length',\n",
    "            'loan_amnt',\n",
    "            'loan_int_rate',\n",
    "            'loan_percent_income',\n",
    "            'cb_person_cred_hist_length',\n",
    "        ],\n",
    "    )\n",
    ")\n",
    "\n",
    "for column in decision_tree_columns:\n",
    "    print(column)"
   ]
  },
  {
   "cell_type": "code",
   "execution_count": 25,
   "id": "8ce99ed5-a204-4399-9e78-2085b85fdc3f",
   "metadata": {},
   "outputs": [],
   "source": [
    "X = data[decision_tree_columns].copy()\n",
    "Y = data['loan_status'].copy()"
   ]
  },
  {
   "cell_type": "markdown",
   "id": "aae18c22-0a0f-4b43-8db9-15f64fd3a3b0",
   "metadata": {},
   "source": [
    "# Run Decision Tree Model - No Max Depth"
   ]
  },
  {
   "cell_type": "code",
   "execution_count": 26,
   "id": "00b368ee-0c74-4cda-b59d-9c61a3be4a31",
   "metadata": {},
   "outputs": [],
   "source": [
    "clf = tree.DecisionTreeClassifier(criterion='entropy')\n",
    "clf = clf.fit(X, Y)"
   ]
  },
  {
   "cell_type": "code",
   "execution_count": 27,
   "id": "bbc7a133-fed2-4c40-bf9c-83d235b14d4a",
   "metadata": {},
   "outputs": [],
   "source": [
    "Z = clf.predict(X)"
   ]
  },
  {
   "cell_type": "code",
   "execution_count": 28,
   "id": "ef20e7c2-1782-48c5-a2d0-1a2738a8ed51",
   "metadata": {},
   "outputs": [],
   "source": [
    "data['loan_status_tree_predict'] = Z"
   ]
  },
  {
   "cell_type": "code",
   "execution_count": 29,
   "id": "dd842fd6-74a5-4eb3-841f-069325baa247",
   "metadata": {},
   "outputs": [
    {
     "data": {
      "text/plain": [
       "np.float64(0.9999301480860575)"
      ]
     },
     "execution_count": 29,
     "metadata": {},
     "output_type": "execute_result"
    }
   ],
   "source": [
    "(data['loan_status'] == data['loan_status_tree_predict']).sum() / len(data)"
   ]
  },
  {
   "cell_type": "code",
   "execution_count": 30,
   "id": "444ce1a9-45b7-4d65-9752-692e16a111b5",
   "metadata": {},
   "outputs": [
    {
     "name": "stdout",
     "output_type": "stream",
     "text": [
      "loan_percent_income               0.209283\n",
      "person_income                     0.165178\n",
      "loan_grade_vote                   0.150188\n",
      "person_home_ownership_vote        0.125556\n",
      "loan_int_rate                     0.093362\n",
      "person_emp_length                 0.069803\n",
      "person_age                        0.058625\n",
      "loan_amnt                         0.054860\n",
      "cb_person_cred_hist_length        0.036704\n",
      "loan_intent_vote                  0.030520\n",
      "cb_person_default_on_file_vote    0.005921\n",
      "dtype: float64\n"
     ]
    }
   ],
   "source": [
    "feature_importances = pandas.Series(clf.feature_importances_, index=X.columns)\n",
    "print(feature_importances.sort_values(ascending=False))"
   ]
  },
  {
   "cell_type": "code",
   "execution_count": 45,
   "id": "65a4dbf1-1d90-4228-bf25-2fa3eed9fbc8",
   "metadata": {},
   "outputs": [
    {
     "name": "stdout",
     "output_type": "stream",
     "text": [
      "index=0 column=loan_grade_vote\n",
      "index=1 column=person_home_ownership_vote\n",
      "index=2 column=loan_intent_vote\n",
      "index=3 column=cb_person_default_on_file_vote\n",
      "index=4 column=person_age\n",
      "index=5 column=person_income\n",
      "index=6 column=person_emp_length\n",
      "index=7 column=loan_amnt\n",
      "index=8 column=loan_int_rate\n",
      "index=9 column=loan_percent_income\n",
      "index=10 column=cb_person_cred_hist_length\n"
     ]
    }
   ],
   "source": [
    "for index, column in enumerate(decision_tree_columns):\n",
    "    print(f'index={index} column={column}')"
   ]
  },
  {
   "cell_type": "markdown",
   "id": "b9a33b52-5318-4cc8-95b6-bf54deeaa5b7",
   "metadata": {},
   "source": [
    "# Decision Tree Model - Max Depth 1"
   ]
  },
  {
   "cell_type": "code",
   "execution_count": 32,
   "id": "8395d9b6-ce22-4256-aeda-da0a6826d21f",
   "metadata": {},
   "outputs": [],
   "source": [
    "clf = tree.DecisionTreeClassifier(criterion='entropy', max_depth=1)\n",
    "clf = clf.fit(X, Y)"
   ]
  },
  {
   "cell_type": "code",
   "execution_count": 33,
   "id": "7a71550d-22d1-4fba-8156-fd08897ef228",
   "metadata": {},
   "outputs": [],
   "source": [
    "Z = clf.predict(X)"
   ]
  },
  {
   "cell_type": "code",
   "execution_count": 34,
   "id": "786d68ba-dbab-4ee0-8b68-2f802717527d",
   "metadata": {},
   "outputs": [],
   "source": [
    "data['loan_status_tree_predict'] = Z"
   ]
  },
  {
   "cell_type": "code",
   "execution_count": 35,
   "id": "4e98c99c-5fe3-48c5-908b-462d55888ae5",
   "metadata": {},
   "outputs": [
    {
     "data": {
      "text/plain": [
       "np.float64(0.8317267393126572)"
      ]
     },
     "execution_count": 35,
     "metadata": {},
     "output_type": "execute_result"
    }
   ],
   "source": [
    "(data['loan_status'] == data['loan_status_tree_predict']).sum() / len(data)"
   ]
  },
  {
   "cell_type": "code",
   "execution_count": 36,
   "id": "db37c5e6-f5ac-40a4-b3a5-a335a7b8e31a",
   "metadata": {},
   "outputs": [
    {
     "data": {
      "image/png": "[encoded data removed]",
      "text/plain": [
       "<Figure size 600x400 with 1 Axes>"
      ]
     },
     "metadata": {},
     "output_type": "display_data"
    }
   ],
   "source": [
    "width = 6\n",
    "height = 4\n",
    "plt.figure(figsize=(width, height))\n",
    "\n",
    "#tree_plot_max_depth = 6\n",
    "tree.plot_tree(clf) #, max_depth=tree_plot_max_depth)\n",
    "\n",
    "plt.savefig('tree-max-depth-numerical-1.pdf')\n",
    "plt.savefig('tree-max-depth-numerical-1.png')\n",
    "plt.show()"
   ]
  },
  {
   "cell_type": "code",
   "execution_count": 37,
   "id": "fa0e0177-8350-4bf3-9131-cffc2e986624",
   "metadata": {},
   "outputs": [
    {
     "name": "stdout",
     "output_type": "stream",
     "text": [
      "loan_percent_income               1.0\n",
      "person_home_ownership_vote        0.0\n",
      "loan_grade_vote                   0.0\n",
      "loan_intent_vote                  0.0\n",
      "cb_person_default_on_file_vote    0.0\n",
      "person_income                     0.0\n",
      "person_age                        0.0\n",
      "person_emp_length                 0.0\n",
      "loan_amnt                         0.0\n",
      "loan_int_rate                     0.0\n",
      "cb_person_cred_hist_length        0.0\n",
      "dtype: float64\n"
     ]
    }
   ],
   "source": [
    "feature_importances = pandas.Series(clf.feature_importances_, index=X.columns)\n",
    "print(feature_importances.sort_values(ascending=False))"
   ]
  },
  {
   "cell_type": "markdown",
   "id": "a776b245-d8be-4ef9-a253-0b45877d3591",
   "metadata": {},
   "source": [
    "# Decision Tree Model - Max Depth 2"
   ]
  },
  {
   "cell_type": "code",
   "execution_count": 38,
   "id": "9445ebd3-bc60-4bc6-9fa5-63e7af813697",
   "metadata": {},
   "outputs": [],
   "source": [
    "clf = tree.DecisionTreeClassifier(criterion='entropy', max_depth=2)\n",
    "clf = clf.fit(X, Y)"
   ]
  },
  {
   "cell_type": "code",
   "execution_count": 39,
   "id": "3ba20383-cc9b-4a90-be88-81da584bc662",
   "metadata": {},
   "outputs": [],
   "source": [
    "Z = clf.predict(X)"
   ]
  },
  {
   "cell_type": "code",
   "execution_count": 40,
   "id": "4a647ae7-1b67-48ea-81e3-6102cd7e4992",
   "metadata": {},
   "outputs": [],
   "source": [
    "data['loan_status_tree_predict'] = Z"
   ]
  },
  {
   "cell_type": "code",
   "execution_count": 41,
   "id": "1f691ef5-4d1c-4c51-8d17-52e3a6cc2fcb",
   "metadata": {},
   "outputs": [
    {
     "data": {
      "text/plain": [
       "np.float64(0.8731139983235541)"
      ]
     },
     "execution_count": 41,
     "metadata": {},
     "output_type": "execute_result"
    }
   ],
   "source": [
    "(data['loan_status'] == data['loan_status_tree_predict']).sum() / len(data)"
   ]
  },
  {
   "cell_type": "code",
   "execution_count": 42,
   "id": "2b6a64ab-71cf-4742-aa57-ecda4baddccd",
   "metadata": {},
   "outputs": [
    {
     "data": {
      "image/png": "[encoded data removed]",
      "text/plain": [
       "<Figure size 600x400 with 1 Axes>"
      ]
     },
     "metadata": {},
     "output_type": "display_data"
    }
   ],
   "source": [
    "width = 6\n",
    "height = 4\n",
    "plt.figure(figsize=(width, height))\n",
    "\n",
    "#tree_plot_max_depth = 6\n",
    "tree.plot_tree(clf) #, max_depth=tree_plot_max_depth)\n",
    "\n",
    "plt.savefig('tree-max-depth-numerical-2.pdf')\n",
    "plt.savefig('tree-max-depth-numerical-2.png')\n",
    "plt.show()"
   ]
  },
  {
   "cell_type": "code",
   "execution_count": 43,
   "id": "cc88a5eb-e539-42fb-b479-bd02c67bd5bd",
   "metadata": {},
   "outputs": [
    {
     "name": "stdout",
     "output_type": "stream",
     "text": [
      "loan_grade_vote                   0.382805\n",
      "loan_percent_income               0.382253\n",
      "person_home_ownership_vote        0.234942\n",
      "loan_intent_vote                  0.000000\n",
      "cb_person_default_on_file_vote    0.000000\n",
      "person_income                     0.000000\n",
      "person_age                        0.000000\n",
      "person_emp_length                 0.000000\n",
      "loan_amnt                         0.000000\n",
      "loan_int_rate                     0.000000\n",
      "cb_person_cred_hist_length        0.000000\n",
      "dtype: float64\n"
     ]
    }
   ],
   "source": [
    "feature_importances = pandas.Series(clf.feature_importances_, index=X.columns)\n",
    "print(feature_importances.sort_values(ascending=False))"
   ]
  },
  {
   "cell_type": "code",
   "execution_count": 44,
   "id": "d5664bdc-3871-4afc-936e-345f53928494",
   "metadata": {},
   "outputs": [
    {
     "name": "stdout",
     "output_type": "stream",
     "text": [
      "index=0 column=loan_grade_vote\n",
      "index=1 column=person_home_ownership_vote\n",
      "index=2 column=loan_intent_vote\n",
      "index=3 column=cb_person_default_on_file_vote\n",
      "index=4 column=person_age\n",
      "index=5 column=person_income\n",
      "index=6 column=person_emp_length\n",
      "index=7 column=loan_amnt\n",
      "index=8 column=loan_int_rate\n",
      "index=9 column=loan_percent_income\n",
      "index=10 column=cb_person_cred_hist_length\n"
     ]
    }
   ],
   "source": [
    "for index, column in enumerate(decision_tree_columns):\n",
    "    print(f'index={index} column={column}')"
   ]
  },
  {
   "cell_type": "code",
   "execution_count": null,
   "id": "8207ebce-e98e-4787-9385-6d91278c9c8a",
   "metadata": {},
   "outputs": [],
   "source": []
  }
 ],
 "metadata": {
  "kernelspec": {
   "display_name": "Python 3 (ipykernel)",
   "language": "python",
   "name": "python3"
  },
  "language_info": {
   "codemirror_mode": {
    "name": "ipython",
    "version": 3
   },
   "file_extension": ".py",
   "mimetype": "text/x-python",
   "name": "python",
   "nbconvert_exporter": "python",
   "pygments_lexer": "ipython3",
   "version": "3.12.7"
  }
 },
 "nbformat": 4,
 "nbformat_minor": 5
}
