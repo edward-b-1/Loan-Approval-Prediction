{
 "cells": [
  {
   "cell_type": "code",
   "execution_count": 1,
   "id": "246a3a4f-1a95-423b-beb7-fe9b4c92d183",
   "metadata": {},
   "outputs": [],
   "source": [
    "%load_ext autoreload\n",
    "%autoreload 2"
   ]
  },
  {
   "cell_type": "code",
   "execution_count": 196,
   "id": "a4fa5ade-4486-411e-a497-d3a08a6b8527",
   "metadata": {},
   "outputs": [],
   "source": [
    "import pandas\n",
    "import numpy\n",
    "import matplotlib.pyplot as plt\n",
    "import itertools\n",
    "import sklearn\n",
    "from sklearn.metrics import log_loss"
   ]
  },
  {
   "cell_type": "code",
   "execution_count": 3,
   "id": "7306be46-86d9-41be-8338-f80a2eb0ea77",
   "metadata": {},
   "outputs": [],
   "source": [
    "import loan_approval_lib\n",
    "from loan_approval_lib import logspace, linspace"
   ]
  },
  {
   "cell_type": "code",
   "execution_count": 4,
   "id": "6ccc0d14-dc58-4999-8eff-8e39f874baed",
   "metadata": {},
   "outputs": [],
   "source": [
    "data = loan_approval_lib.load_original_data()"
   ]
  },
  {
   "cell_type": "code",
   "execution_count": 5,
   "id": "985d21cb-0701-43ec-b2d9-a129d94f3e66",
   "metadata": {},
   "outputs": [
    {
     "data": {
      "text/html": [
       "<div>\n",
       "<style scoped>\n",
       "    .dataframe tbody tr th:only-of-type {\n",
       "        vertical-align: middle;\n",
       "    }\n",
       "\n",
       "    .dataframe tbody tr th {\n",
       "        vertical-align: top;\n",
       "    }\n",
       "\n",
       "    .dataframe thead th {\n",
       "        text-align: right;\n",
       "    }\n",
       "</style>\n",
       "<table border=\"1\" class=\"dataframe\">\n",
       "  <thead>\n",
       "    <tr style=\"text-align: right;\">\n",
       "      <th></th>\n",
       "      <th>person_age</th>\n",
       "      <th>person_income</th>\n",
       "      <th>person_home_ownership</th>\n",
       "      <th>person_emp_length</th>\n",
       "      <th>loan_intent</th>\n",
       "      <th>loan_grade</th>\n",
       "      <th>loan_amnt</th>\n",
       "      <th>loan_int_rate</th>\n",
       "      <th>loan_status</th>\n",
       "      <th>loan_percent_income</th>\n",
       "      <th>cb_person_default_on_file</th>\n",
       "      <th>cb_person_cred_hist_length</th>\n",
       "    </tr>\n",
       "  </thead>\n",
       "  <tbody>\n",
       "    <tr>\n",
       "      <th>0</th>\n",
       "      <td>22</td>\n",
       "      <td>59000</td>\n",
       "      <td>RENT</td>\n",
       "      <td>123.0</td>\n",
       "      <td>PERSONAL</td>\n",
       "      <td>D</td>\n",
       "      <td>35000</td>\n",
       "      <td>16.02</td>\n",
       "      <td>1</td>\n",
       "      <td>0.59</td>\n",
       "      <td>Y</td>\n",
       "      <td>3</td>\n",
       "    </tr>\n",
       "    <tr>\n",
       "      <th>1</th>\n",
       "      <td>21</td>\n",
       "      <td>9600</td>\n",
       "      <td>OWN</td>\n",
       "      <td>5.0</td>\n",
       "      <td>EDUCATION</td>\n",
       "      <td>B</td>\n",
       "      <td>1000</td>\n",
       "      <td>11.14</td>\n",
       "      <td>0</td>\n",
       "      <td>0.10</td>\n",
       "      <td>N</td>\n",
       "      <td>2</td>\n",
       "    </tr>\n",
       "    <tr>\n",
       "      <th>2</th>\n",
       "      <td>25</td>\n",
       "      <td>9600</td>\n",
       "      <td>MORTGAGE</td>\n",
       "      <td>1.0</td>\n",
       "      <td>MEDICAL</td>\n",
       "      <td>C</td>\n",
       "      <td>5500</td>\n",
       "      <td>12.87</td>\n",
       "      <td>1</td>\n",
       "      <td>0.57</td>\n",
       "      <td>N</td>\n",
       "      <td>3</td>\n",
       "    </tr>\n",
       "    <tr>\n",
       "      <th>3</th>\n",
       "      <td>23</td>\n",
       "      <td>65500</td>\n",
       "      <td>RENT</td>\n",
       "      <td>4.0</td>\n",
       "      <td>MEDICAL</td>\n",
       "      <td>C</td>\n",
       "      <td>35000</td>\n",
       "      <td>15.23</td>\n",
       "      <td>1</td>\n",
       "      <td>0.53</td>\n",
       "      <td>N</td>\n",
       "      <td>2</td>\n",
       "    </tr>\n",
       "    <tr>\n",
       "      <th>4</th>\n",
       "      <td>24</td>\n",
       "      <td>54400</td>\n",
       "      <td>RENT</td>\n",
       "      <td>8.0</td>\n",
       "      <td>MEDICAL</td>\n",
       "      <td>C</td>\n",
       "      <td>35000</td>\n",
       "      <td>14.27</td>\n",
       "      <td>1</td>\n",
       "      <td>0.55</td>\n",
       "      <td>Y</td>\n",
       "      <td>4</td>\n",
       "    </tr>\n",
       "    <tr>\n",
       "      <th>...</th>\n",
       "      <td>...</td>\n",
       "      <td>...</td>\n",
       "      <td>...</td>\n",
       "      <td>...</td>\n",
       "      <td>...</td>\n",
       "      <td>...</td>\n",
       "      <td>...</td>\n",
       "      <td>...</td>\n",
       "      <td>...</td>\n",
       "      <td>...</td>\n",
       "      <td>...</td>\n",
       "      <td>...</td>\n",
       "    </tr>\n",
       "    <tr>\n",
       "      <th>32576</th>\n",
       "      <td>57</td>\n",
       "      <td>53000</td>\n",
       "      <td>MORTGAGE</td>\n",
       "      <td>1.0</td>\n",
       "      <td>PERSONAL</td>\n",
       "      <td>C</td>\n",
       "      <td>5800</td>\n",
       "      <td>13.16</td>\n",
       "      <td>0</td>\n",
       "      <td>0.11</td>\n",
       "      <td>N</td>\n",
       "      <td>30</td>\n",
       "    </tr>\n",
       "    <tr>\n",
       "      <th>32577</th>\n",
       "      <td>54</td>\n",
       "      <td>120000</td>\n",
       "      <td>MORTGAGE</td>\n",
       "      <td>4.0</td>\n",
       "      <td>PERSONAL</td>\n",
       "      <td>A</td>\n",
       "      <td>17625</td>\n",
       "      <td>7.49</td>\n",
       "      <td>0</td>\n",
       "      <td>0.15</td>\n",
       "      <td>N</td>\n",
       "      <td>19</td>\n",
       "    </tr>\n",
       "    <tr>\n",
       "      <th>32578</th>\n",
       "      <td>65</td>\n",
       "      <td>76000</td>\n",
       "      <td>RENT</td>\n",
       "      <td>3.0</td>\n",
       "      <td>HOMEIMPROVEMENT</td>\n",
       "      <td>B</td>\n",
       "      <td>35000</td>\n",
       "      <td>10.99</td>\n",
       "      <td>1</td>\n",
       "      <td>0.46</td>\n",
       "      <td>N</td>\n",
       "      <td>28</td>\n",
       "    </tr>\n",
       "    <tr>\n",
       "      <th>32579</th>\n",
       "      <td>56</td>\n",
       "      <td>150000</td>\n",
       "      <td>MORTGAGE</td>\n",
       "      <td>5.0</td>\n",
       "      <td>PERSONAL</td>\n",
       "      <td>B</td>\n",
       "      <td>15000</td>\n",
       "      <td>11.48</td>\n",
       "      <td>0</td>\n",
       "      <td>0.10</td>\n",
       "      <td>N</td>\n",
       "      <td>26</td>\n",
       "    </tr>\n",
       "    <tr>\n",
       "      <th>32580</th>\n",
       "      <td>66</td>\n",
       "      <td>42000</td>\n",
       "      <td>RENT</td>\n",
       "      <td>2.0</td>\n",
       "      <td>MEDICAL</td>\n",
       "      <td>B</td>\n",
       "      <td>6475</td>\n",
       "      <td>9.99</td>\n",
       "      <td>0</td>\n",
       "      <td>0.15</td>\n",
       "      <td>N</td>\n",
       "      <td>30</td>\n",
       "    </tr>\n",
       "  </tbody>\n",
       "</table>\n",
       "<p>32581 rows × 12 columns</p>\n",
       "</div>"
      ],
      "text/plain": [
       "       person_age  person_income person_home_ownership  person_emp_length  \\\n",
       "0              22          59000                  RENT              123.0   \n",
       "1              21           9600                   OWN                5.0   \n",
       "2              25           9600              MORTGAGE                1.0   \n",
       "3              23          65500                  RENT                4.0   \n",
       "4              24          54400                  RENT                8.0   \n",
       "...           ...            ...                   ...                ...   \n",
       "32576          57          53000              MORTGAGE                1.0   \n",
       "32577          54         120000              MORTGAGE                4.0   \n",
       "32578          65          76000                  RENT                3.0   \n",
       "32579          56         150000              MORTGAGE                5.0   \n",
       "32580          66          42000                  RENT                2.0   \n",
       "\n",
       "           loan_intent loan_grade  loan_amnt  loan_int_rate  loan_status  \\\n",
       "0             PERSONAL          D      35000          16.02            1   \n",
       "1            EDUCATION          B       1000          11.14            0   \n",
       "2              MEDICAL          C       5500          12.87            1   \n",
       "3              MEDICAL          C      35000          15.23            1   \n",
       "4              MEDICAL          C      35000          14.27            1   \n",
       "...                ...        ...        ...            ...          ...   \n",
       "32576         PERSONAL          C       5800          13.16            0   \n",
       "32577         PERSONAL          A      17625           7.49            0   \n",
       "32578  HOMEIMPROVEMENT          B      35000          10.99            1   \n",
       "32579         PERSONAL          B      15000          11.48            0   \n",
       "32580          MEDICAL          B       6475           9.99            0   \n",
       "\n",
       "       loan_percent_income cb_person_default_on_file  \\\n",
       "0                     0.59                         Y   \n",
       "1                     0.10                         N   \n",
       "2                     0.57                         N   \n",
       "3                     0.53                         N   \n",
       "4                     0.55                         Y   \n",
       "...                    ...                       ...   \n",
       "32576                 0.11                         N   \n",
       "32577                 0.15                         N   \n",
       "32578                 0.46                         N   \n",
       "32579                 0.10                         N   \n",
       "32580                 0.15                         N   \n",
       "\n",
       "       cb_person_cred_hist_length  \n",
       "0                               3  \n",
       "1                               2  \n",
       "2                               3  \n",
       "3                               2  \n",
       "4                               4  \n",
       "...                           ...  \n",
       "32576                          30  \n",
       "32577                          19  \n",
       "32578                          28  \n",
       "32579                          26  \n",
       "32580                          30  \n",
       "\n",
       "[32581 rows x 12 columns]"
      ]
     },
     "execution_count": 5,
     "metadata": {},
     "output_type": "execute_result"
    }
   ],
   "source": [
    "data"
   ]
  },
  {
   "cell_type": "code",
   "execution_count": 6,
   "id": "240f5656-81c5-4336-aa56-1f6e1edc04a1",
   "metadata": {},
   "outputs": [
    {
     "data": {
      "text/plain": [
       "32581"
      ]
     },
     "execution_count": 6,
     "metadata": {},
     "output_type": "execute_result"
    }
   ],
   "source": [
    "len(data)"
   ]
  },
  {
   "cell_type": "markdown",
   "id": "d1a87137-87d9-4835-9994-a9c3793148d9",
   "metadata": {},
   "source": [
    "Load test dataset from competition (synthetic) dataset"
   ]
  },
  {
   "cell_type": "code",
   "execution_count": 146,
   "id": "efeacc61-8189-4b1a-a427-cac1a1e9fbb9",
   "metadata": {},
   "outputs": [],
   "source": [
    "data_test = loan_approval_lib.load_data()['test']"
   ]
  },
  {
   "cell_type": "code",
   "execution_count": 147,
   "id": "67d203e5-f2c9-41d3-9390-d39e81c486c6",
   "metadata": {},
   "outputs": [
    {
     "data": {
      "text/html": [
       "<div>\n",
       "<style scoped>\n",
       "    .dataframe tbody tr th:only-of-type {\n",
       "        vertical-align: middle;\n",
       "    }\n",
       "\n",
       "    .dataframe tbody tr th {\n",
       "        vertical-align: top;\n",
       "    }\n",
       "\n",
       "    .dataframe thead th {\n",
       "        text-align: right;\n",
       "    }\n",
       "</style>\n",
       "<table border=\"1\" class=\"dataframe\">\n",
       "  <thead>\n",
       "    <tr style=\"text-align: right;\">\n",
       "      <th></th>\n",
       "      <th>id</th>\n",
       "      <th>person_age</th>\n",
       "      <th>person_income</th>\n",
       "      <th>person_home_ownership</th>\n",
       "      <th>person_emp_length</th>\n",
       "      <th>loan_intent</th>\n",
       "      <th>loan_grade</th>\n",
       "      <th>loan_amnt</th>\n",
       "      <th>loan_int_rate</th>\n",
       "      <th>loan_percent_income</th>\n",
       "      <th>cb_person_default_on_file</th>\n",
       "      <th>cb_person_cred_hist_length</th>\n",
       "    </tr>\n",
       "  </thead>\n",
       "  <tbody>\n",
       "    <tr>\n",
       "      <th>0</th>\n",
       "      <td>58645</td>\n",
       "      <td>23</td>\n",
       "      <td>69000</td>\n",
       "      <td>RENT</td>\n",
       "      <td>3.0</td>\n",
       "      <td>HOMEIMPROVEMENT</td>\n",
       "      <td>F</td>\n",
       "      <td>25000</td>\n",
       "      <td>15.76</td>\n",
       "      <td>0.36</td>\n",
       "      <td>N</td>\n",
       "      <td>2</td>\n",
       "    </tr>\n",
       "    <tr>\n",
       "      <th>1</th>\n",
       "      <td>58646</td>\n",
       "      <td>26</td>\n",
       "      <td>96000</td>\n",
       "      <td>MORTGAGE</td>\n",
       "      <td>6.0</td>\n",
       "      <td>PERSONAL</td>\n",
       "      <td>C</td>\n",
       "      <td>10000</td>\n",
       "      <td>12.68</td>\n",
       "      <td>0.10</td>\n",
       "      <td>Y</td>\n",
       "      <td>4</td>\n",
       "    </tr>\n",
       "    <tr>\n",
       "      <th>2</th>\n",
       "      <td>58647</td>\n",
       "      <td>26</td>\n",
       "      <td>30000</td>\n",
       "      <td>RENT</td>\n",
       "      <td>5.0</td>\n",
       "      <td>VENTURE</td>\n",
       "      <td>E</td>\n",
       "      <td>4000</td>\n",
       "      <td>17.19</td>\n",
       "      <td>0.13</td>\n",
       "      <td>Y</td>\n",
       "      <td>2</td>\n",
       "    </tr>\n",
       "    <tr>\n",
       "      <th>3</th>\n",
       "      <td>58648</td>\n",
       "      <td>33</td>\n",
       "      <td>50000</td>\n",
       "      <td>RENT</td>\n",
       "      <td>4.0</td>\n",
       "      <td>DEBTCONSOLIDATION</td>\n",
       "      <td>A</td>\n",
       "      <td>7000</td>\n",
       "      <td>8.90</td>\n",
       "      <td>0.14</td>\n",
       "      <td>N</td>\n",
       "      <td>7</td>\n",
       "    </tr>\n",
       "    <tr>\n",
       "      <th>4</th>\n",
       "      <td>58649</td>\n",
       "      <td>26</td>\n",
       "      <td>102000</td>\n",
       "      <td>MORTGAGE</td>\n",
       "      <td>8.0</td>\n",
       "      <td>HOMEIMPROVEMENT</td>\n",
       "      <td>D</td>\n",
       "      <td>15000</td>\n",
       "      <td>16.32</td>\n",
       "      <td>0.15</td>\n",
       "      <td>Y</td>\n",
       "      <td>4</td>\n",
       "    </tr>\n",
       "    <tr>\n",
       "      <th>...</th>\n",
       "      <td>...</td>\n",
       "      <td>...</td>\n",
       "      <td>...</td>\n",
       "      <td>...</td>\n",
       "      <td>...</td>\n",
       "      <td>...</td>\n",
       "      <td>...</td>\n",
       "      <td>...</td>\n",
       "      <td>...</td>\n",
       "      <td>...</td>\n",
       "      <td>...</td>\n",
       "      <td>...</td>\n",
       "    </tr>\n",
       "    <tr>\n",
       "      <th>39093</th>\n",
       "      <td>97738</td>\n",
       "      <td>22</td>\n",
       "      <td>31200</td>\n",
       "      <td>MORTGAGE</td>\n",
       "      <td>2.0</td>\n",
       "      <td>DEBTCONSOLIDATION</td>\n",
       "      <td>B</td>\n",
       "      <td>3000</td>\n",
       "      <td>10.37</td>\n",
       "      <td>0.10</td>\n",
       "      <td>N</td>\n",
       "      <td>4</td>\n",
       "    </tr>\n",
       "    <tr>\n",
       "      <th>39094</th>\n",
       "      <td>97739</td>\n",
       "      <td>22</td>\n",
       "      <td>48000</td>\n",
       "      <td>MORTGAGE</td>\n",
       "      <td>6.0</td>\n",
       "      <td>EDUCATION</td>\n",
       "      <td>A</td>\n",
       "      <td>7000</td>\n",
       "      <td>6.03</td>\n",
       "      <td>0.15</td>\n",
       "      <td>N</td>\n",
       "      <td>3</td>\n",
       "    </tr>\n",
       "    <tr>\n",
       "      <th>39095</th>\n",
       "      <td>97740</td>\n",
       "      <td>51</td>\n",
       "      <td>60000</td>\n",
       "      <td>MORTGAGE</td>\n",
       "      <td>0.0</td>\n",
       "      <td>PERSONAL</td>\n",
       "      <td>A</td>\n",
       "      <td>15000</td>\n",
       "      <td>7.51</td>\n",
       "      <td>0.25</td>\n",
       "      <td>N</td>\n",
       "      <td>25</td>\n",
       "    </tr>\n",
       "    <tr>\n",
       "      <th>39096</th>\n",
       "      <td>97741</td>\n",
       "      <td>22</td>\n",
       "      <td>36000</td>\n",
       "      <td>MORTGAGE</td>\n",
       "      <td>4.0</td>\n",
       "      <td>PERSONAL</td>\n",
       "      <td>D</td>\n",
       "      <td>14000</td>\n",
       "      <td>15.62</td>\n",
       "      <td>0.39</td>\n",
       "      <td>Y</td>\n",
       "      <td>4</td>\n",
       "    </tr>\n",
       "    <tr>\n",
       "      <th>39097</th>\n",
       "      <td>97742</td>\n",
       "      <td>31</td>\n",
       "      <td>45000</td>\n",
       "      <td>RENT</td>\n",
       "      <td>6.0</td>\n",
       "      <td>DEBTCONSOLIDATION</td>\n",
       "      <td>B</td>\n",
       "      <td>19450</td>\n",
       "      <td>9.91</td>\n",
       "      <td>0.44</td>\n",
       "      <td>N</td>\n",
       "      <td>9</td>\n",
       "    </tr>\n",
       "  </tbody>\n",
       "</table>\n",
       "<p>39098 rows × 12 columns</p>\n",
       "</div>"
      ],
      "text/plain": [
       "          id  person_age  person_income person_home_ownership  \\\n",
       "0      58645          23          69000                  RENT   \n",
       "1      58646          26          96000              MORTGAGE   \n",
       "2      58647          26          30000                  RENT   \n",
       "3      58648          33          50000                  RENT   \n",
       "4      58649          26         102000              MORTGAGE   \n",
       "...      ...         ...            ...                   ...   \n",
       "39093  97738          22          31200              MORTGAGE   \n",
       "39094  97739          22          48000              MORTGAGE   \n",
       "39095  97740          51          60000              MORTGAGE   \n",
       "39096  97741          22          36000              MORTGAGE   \n",
       "39097  97742          31          45000                  RENT   \n",
       "\n",
       "       person_emp_length        loan_intent loan_grade  loan_amnt  \\\n",
       "0                    3.0    HOMEIMPROVEMENT          F      25000   \n",
       "1                    6.0           PERSONAL          C      10000   \n",
       "2                    5.0            VENTURE          E       4000   \n",
       "3                    4.0  DEBTCONSOLIDATION          A       7000   \n",
       "4                    8.0    HOMEIMPROVEMENT          D      15000   \n",
       "...                  ...                ...        ...        ...   \n",
       "39093                2.0  DEBTCONSOLIDATION          B       3000   \n",
       "39094                6.0          EDUCATION          A       7000   \n",
       "39095                0.0           PERSONAL          A      15000   \n",
       "39096                4.0           PERSONAL          D      14000   \n",
       "39097                6.0  DEBTCONSOLIDATION          B      19450   \n",
       "\n",
       "       loan_int_rate  loan_percent_income cb_person_default_on_file  \\\n",
       "0              15.76                 0.36                         N   \n",
       "1              12.68                 0.10                         Y   \n",
       "2              17.19                 0.13                         Y   \n",
       "3               8.90                 0.14                         N   \n",
       "4              16.32                 0.15                         Y   \n",
       "...              ...                  ...                       ...   \n",
       "39093          10.37                 0.10                         N   \n",
       "39094           6.03                 0.15                         N   \n",
       "39095           7.51                 0.25                         N   \n",
       "39096          15.62                 0.39                         Y   \n",
       "39097           9.91                 0.44                         N   \n",
       "\n",
       "       cb_person_cred_hist_length  \n",
       "0                               2  \n",
       "1                               4  \n",
       "2                               2  \n",
       "3                               7  \n",
       "4                               4  \n",
       "...                           ...  \n",
       "39093                           4  \n",
       "39094                           3  \n",
       "39095                          25  \n",
       "39096                           4  \n",
       "39097                           9  \n",
       "\n",
       "[39098 rows x 12 columns]"
      ]
     },
     "execution_count": 147,
     "metadata": {},
     "output_type": "execute_result"
    }
   ],
   "source": [
    "data_test"
   ]
  },
  {
   "cell_type": "code",
   "execution_count": 7,
   "id": "f86aaa98-26ae-4388-b154-c91f8dfd0fb2",
   "metadata": {},
   "outputs": [],
   "source": [
    "data_loan_status_deny = data[data['loan_status'] == 1]\n",
    "data_loan_status_approve = data[data['loan_status'] == 0]"
   ]
  },
  {
   "cell_type": "markdown",
   "id": "e30de00b-5662-4741-9449-c65369167bdf",
   "metadata": {},
   "source": [
    "# Plot Credit History"
   ]
  },
  {
   "cell_type": "code",
   "execution_count": 25,
   "id": "17b56fcb-cb5f-4698-b67a-db9f7e85ce4a",
   "metadata": {},
   "outputs": [
    {
     "data": {
      "text/plain": [
       "(np.int64(2), np.int64(30))"
      ]
     },
     "execution_count": 25,
     "metadata": {},
     "output_type": "execute_result"
    }
   ],
   "source": [
    "column = 'cb_person_cred_hist_length'\n",
    "\n",
    "data_loan_status_deny[column].min(), data_loan_status_deny[column].max()"
   ]
  },
  {
   "cell_type": "code",
   "execution_count": 26,
   "id": "6f59e132-d885-4922-b50a-4cecb2d89fee",
   "metadata": {},
   "outputs": [
    {
     "data": {
      "text/plain": [
       "(np.int64(2), np.int64(30))"
      ]
     },
     "execution_count": 26,
     "metadata": {},
     "output_type": "execute_result"
    }
   ],
   "source": [
    "column = 'cb_person_cred_hist_length'\n",
    "\n",
    "data_loan_status_approve[column].min(), data_loan_status_approve[column].max()"
   ]
  },
  {
   "cell_type": "code",
   "execution_count": 32,
   "id": "6e635c68-d6ee-416e-a8eb-3b4cdcf31564",
   "metadata": {},
   "outputs": [
    {
     "data": {
      "image/png": "[encoded data removed]",
      "text/plain": [
       "<Figure size 640x480 with 1 Axes>"
      ]
     },
     "metadata": {},
     "output_type": "display_data"
    }
   ],
   "source": [
    "column = 'cb_person_cred_hist_length'\n",
    "\n",
    "h_data_deny = data_loan_status_deny[column]\n",
    "h_data_accept = data_loan_status_approve[column]\n",
    "\n",
    "_ = plt.hist(\n",
    "    h_data_deny,\n",
    "    bins=numpy.linspace(0, 30, 30), #logspace(data_train_loan_status_deny[column]),\n",
    "    histtype='step',\n",
    "    density=True,\n",
    "    label='deny',\n",
    ")\n",
    "_ = plt.hist(\n",
    "    h_data_accept,\n",
    "    bins=numpy.linspace(0, 30, 30), #logspace(data_train_loan_status_accept[column]),\n",
    "    histtype='step',\n",
    "    density=True,\n",
    "    label='approve',\n",
    ")\n",
    "plt.xlim(left=0, right=30)\n",
    "plt.xlabel('credit history length')\n",
    "#plt.xscale('log')\n",
    "plt.legend()\n",
    "None\n",
    "#plt.yscale('log')"
   ]
  },
  {
   "cell_type": "code",
   "execution_count": 18,
   "id": "f8c67c02-4375-4f35-bef9-6df480fa98c6",
   "metadata": {},
   "outputs": [
    {
     "data": {
      "image/png": "[encoded data removed]",
      "text/plain": [
       "<Figure size 640x480 with 1 Axes>"
      ]
     },
     "metadata": {},
     "output_type": "display_data"
    }
   ],
   "source": [
    "plt.figure()\n",
    "_ = plt.hist(\n",
    "    [data_loan_status_deny[column], data_loan_status_approve[column]],\n",
    "    stacked=True,\n",
    "    bins=100,\n",
    ")"
   ]
  },
  {
   "cell_type": "markdown",
   "id": "04b75069-542f-4e65-b037-2de4179e54c9",
   "metadata": {},
   "source": [
    "# Plot person age"
   ]
  },
  {
   "cell_type": "code",
   "execution_count": 36,
   "id": "aebb2b0e-d342-4724-8ebb-6a2b5dab7d84",
   "metadata": {},
   "outputs": [
    {
     "data": {
      "image/png": "[encoded data removed]",
      "text/plain": [
       "<Figure size 640x480 with 1 Axes>"
      ]
     },
     "metadata": {},
     "output_type": "display_data"
    }
   ],
   "source": [
    "column = 'person_age'\n",
    "\n",
    "h_data_deny = data_loan_status_deny[column]\n",
    "h_data_accept = data_loan_status_approve[column]\n",
    "\n",
    "_ = plt.hist(\n",
    "    h_data_deny,\n",
    "    bins=numpy.linspace(0, 150, 100), #logspace(data_train_loan_status_deny[column]),\n",
    "    histtype='step',\n",
    "    density=True,\n",
    "    label='deny',\n",
    ")\n",
    "_ = plt.hist(\n",
    "    h_data_accept,\n",
    "    bins=numpy.linspace(0, 150, 100), #logspace(data_train_loan_status_accept[column]),\n",
    "    histtype='step',\n",
    "    density=True,\n",
    "    label='approve',\n",
    ")\n",
    "plt.xlabel('age')\n",
    "plt.xlim(left=0, right=150)\n",
    "#plt.xscale('log')\n",
    "plt.legend()\n",
    "None\n",
    "#plt.yscale('log')"
   ]
  },
  {
   "cell_type": "markdown",
   "id": "37ceeec4-ec9c-45f7-a009-e560bd1d2f6d",
   "metadata": {},
   "source": [
    "# Income"
   ]
  },
  {
   "cell_type": "code",
   "execution_count": 44,
   "id": "d70935f5-0cf8-4368-af3c-ba523e037f09",
   "metadata": {},
   "outputs": [
    {
     "data": {
      "image/png": "[encoded data removed]",
      "text/plain": [
       "<Figure size 640x480 with 1 Axes>"
      ]
     },
     "metadata": {},
     "output_type": "display_data"
    }
   ],
   "source": [
    "column = 'person_income'\n",
    "\n",
    "h_data_deny = data_loan_status_deny[column]\n",
    "h_data_accept = data_loan_status_approve[column]\n",
    "\n",
    "max_ = max(h_data_accept.max(), h_data_deny.max())\n",
    "\n",
    "_ = plt.hist(\n",
    "    h_data_deny,\n",
    "    bins=numpy.linspace(0, max_, 100), #logspace(data_train_loan_status_deny[column]),\n",
    "    histtype='step',\n",
    "    density=True,\n",
    "    label='deny',\n",
    ")\n",
    "_ = plt.hist(\n",
    "    h_data_accept,\n",
    "    bins=numpy.linspace(0, max_, 100), #logspace(data_train_loan_status_accept[column]),\n",
    "    histtype='step',\n",
    "    density=True,\n",
    "    label='approve',\n",
    ")\n",
    "plt.xlabel('income')\n",
    "plt.xlim(left=0)\n",
    "plt.yscale('log')\n",
    "plt.legend()\n",
    "None\n",
    "#plt.yscale('log')"
   ]
  },
  {
   "cell_type": "code",
   "execution_count": 46,
   "id": "7119b08e-c647-4ec8-a125-1640308a836a",
   "metadata": {},
   "outputs": [
    {
     "data": {
      "image/png": "[encoded data removed]",
      "text/plain": [
       "<Figure size 640x480 with 1 Axes>"
      ]
     },
     "metadata": {},
     "output_type": "display_data"
    }
   ],
   "source": [
    "column = 'person_income'\n",
    "\n",
    "h_data_deny = data_loan_status_deny[column]\n",
    "h_data_accept = data_loan_status_approve[column]\n",
    "\n",
    "max_ = 2.0e5\n",
    "\n",
    "_ = plt.hist(\n",
    "    h_data_deny,\n",
    "    bins=numpy.linspace(0, max_, 100), #logspace(data_train_loan_status_deny[column]),\n",
    "    histtype='step',\n",
    "    density=True,\n",
    "    label='deny',\n",
    ")\n",
    "_ = plt.hist(\n",
    "    h_data_accept,\n",
    "    bins=numpy.linspace(0, max_, 100), #logspace(data_train_loan_status_accept[column]),\n",
    "    histtype='step',\n",
    "    density=True,\n",
    "    label='approve',\n",
    ")\n",
    "plt.xlabel('income')\n",
    "plt.xlim(left=0)\n",
    "plt.yscale('log')\n",
    "plt.legend()\n",
    "None\n",
    "#plt.yscale('log')"
   ]
  },
  {
   "cell_type": "markdown",
   "id": "2365b1fa-9302-4336-a8d8-51f3fd0c4dd6",
   "metadata": {},
   "source": [
    "# Loan Percentage of Income"
   ]
  },
  {
   "cell_type": "code",
   "execution_count": 48,
   "id": "6986a09b-0298-4ec8-a209-5842c5b04275",
   "metadata": {},
   "outputs": [
    {
     "data": {
      "image/png": "[encoded data removed]",
      "text/plain": [
       "<Figure size 640x480 with 1 Axes>"
      ]
     },
     "metadata": {},
     "output_type": "display_data"
    }
   ],
   "source": [
    "column = 'loan_percent_income'\n",
    "\n",
    "h_data_deny = data_loan_status_deny[column]\n",
    "h_data_approve = data_loan_status_approve[column]\n",
    "\n",
    "max_ = 1.0 #max(h_data_accept.max(), h_data_deny.max())\n",
    "\n",
    "_ = plt.hist(\n",
    "    h_data_deny,\n",
    "    bins=numpy.linspace(0, max_, 100), #logspace(data_train_loan_status_deny[column]),\n",
    "    histtype='step',\n",
    "    density=True,\n",
    "    label='deny',\n",
    ")\n",
    "_ = plt.hist(\n",
    "    h_data_approve,\n",
    "    bins=numpy.linspace(0, max_, 100), #logspace(data_train_loan_status_accept[column]),\n",
    "    histtype='step',\n",
    "    density=True,\n",
    "    label='approve',\n",
    ")\n",
    "plt.xlabel('percent income')\n",
    "plt.xlim(left=0)\n",
    "plt.yscale('log')\n",
    "plt.legend()\n",
    "None\n",
    "#plt.yscale('log')"
   ]
  },
  {
   "cell_type": "code",
   "execution_count": 56,
   "id": "4761aab1-72a4-4383-bff2-9481ad6a4a59",
   "metadata": {},
   "outputs": [],
   "source": [
    "column = 'loan_percent_income'\n",
    "\n",
    "h_data_deny = data_loan_status_deny[column]\n",
    "h_data_approve = data_loan_status_approve[column]\n",
    "\n",
    "hist_data_deny, _ = numpy.histogram(\n",
    "    h_data_deny,\n",
    "    numpy.linspace(0, 1, 100),\n",
    "    density=True,\n",
    ")\n",
    "\n",
    "hist_data_approve, bins = numpy.histogram(\n",
    "    h_data_approve,\n",
    "    numpy.linspace(0, 1, 100),\n",
    "    density=True,\n",
    ")   "
   ]
  },
  {
   "cell_type": "code",
   "execution_count": 150,
   "id": "5935f23f-3caa-4d2c-8ca7-5feac45759c2",
   "metadata": {},
   "outputs": [
    {
     "data": {
      "image/png": "[encoded data removed]",
      "text/plain": [
       "<Figure size 640x480 with 1 Axes>"
      ]
     },
     "metadata": {},
     "output_type": "display_data"
    }
   ],
   "source": [
    "plt.step(\n",
    "    bins[:-1],\n",
    "    hist_data_deny,\n",
    "    label='deny',\n",
    ")\n",
    "plt.step(\n",
    "    bins[:-1],\n",
    "    hist_data_approve,\n",
    "    label='approve',\n",
    ")\n",
    "plt.yscale('log')\n",
    "plt.xlabel('loan percent income')\n",
    "plt.legend()\n",
    "None"
   ]
  },
  {
   "cell_type": "code",
   "execution_count": 63,
   "id": "1673e827-8ec1-404b-b926-d53f9b37f930",
   "metadata": {},
   "outputs": [
    {
     "name": "stderr",
     "output_type": "stream",
     "text": [
      "/tmp/ipykernel_134359/1893349480.py:1: RuntimeWarning: invalid value encountered in divide\n",
      "  hist_data_model = hist_data_approve / (hist_data_approve + hist_data_deny)\n"
     ]
    }
   ],
   "source": [
    "hist_data_model = hist_data_approve / (hist_data_approve + hist_data_deny)"
   ]
  },
  {
   "cell_type": "code",
   "execution_count": 69,
   "id": "8238ce57-aa00-4606-8c22-da2773e731c7",
   "metadata": {},
   "outputs": [],
   "source": [
    "hist_data_model = numpy.nan_to_num(hist_data_model)"
   ]
  },
  {
   "cell_type": "code",
   "execution_count": 70,
   "id": "ff961c82-3cb0-48f4-9978-1d883869c0da",
   "metadata": {},
   "outputs": [
    {
     "data": {
      "text/plain": [
       "array([0.83002476, 0.74023248, 0.72398421, 0.66560656, 0.71674956,\n",
       "       0.69268028, 0.67818293, 0.625113  , 0.6664292 , 0.65558277,\n",
       "       0.6549471 , 0.67360931, 0.67433157, 0.60843357, 0.6646645 ,\n",
       "       0.57346402, 0.56991543, 0.54860948, 0.51271499, 0.59157503,\n",
       "       0.53670267, 0.49969006, 0.54066905, 0.54409408, 0.55771933,\n",
       "       0.40713225, 0.44928039, 0.42359052, 0.49581902, 0.46681503,\n",
       "       0.11315364, 0.11795867, 0.10856008, 0.09316081, 0.15294125,\n",
       "       0.11085638, 0.12243773, 0.08903998, 0.13229503, 0.10366553,\n",
       "       0.06908585, 0.07784435, 0.10305781, 0.13239655, 0.10449607,\n",
       "       0.11033455, 0.07383899, 0.10976348, 0.07969712, 0.0996915 ,\n",
       "       0.10207857, 0.02629389, 0.06746329, 0.07383899, 0.10040895,\n",
       "       0.04444   , 0.03007213, 0.1568489 , 0.04693143, 0.21816396,\n",
       "       0.        , 0.        , 0.07724576, 0.06521101, 0.21816396,\n",
       "       0.        , 0.        , 0.12243773, 0.21816396, 0.12243773,\n",
       "       0.12243773, 0.        , 0.        , 0.        , 0.        ,\n",
       "       0.        , 0.        , 0.        , 0.        , 0.        ,\n",
       "       0.        , 0.        , 1.        , 0.        , 0.        ,\n",
       "       0.        , 0.        , 0.        , 0.        , 0.        ,\n",
       "       0.        , 0.        , 0.        , 0.        , 0.        ,\n",
       "       0.        , 0.        , 0.        , 0.        ])"
      ]
     },
     "execution_count": 70,
     "metadata": {},
     "output_type": "execute_result"
    }
   ],
   "source": [
    "hist_data_model"
   ]
  },
  {
   "cell_type": "code",
   "execution_count": 84,
   "id": "806b8596-c618-4258-a567-5661f9885a2f",
   "metadata": {},
   "outputs": [
    {
     "data": {
      "text/plain": [
       "array([0.1, 0.1, 0.1, 0.1, 0.1, 0.1, 0.1, 0.1, 0.1, 0.1])"
      ]
     },
     "execution_count": 84,
     "metadata": {},
     "output_type": "execute_result"
    }
   ],
   "source": [
    "window_size = 10\n",
    "w = numpy.ones(window_size) / window_size\n",
    "w"
   ]
  },
  {
   "cell_type": "code",
   "execution_count": 120,
   "id": "47558dfb-0325-4992-9075-89964b7b0f4e",
   "metadata": {},
   "outputs": [
    {
     "data": {
      "text/plain": [
       "array([0.83002476, 0.83002476, 0.83002476, 0.83002476, 0.83002476,\n",
       "       0.83002476, 0.83002476, 0.83002476, 0.83002476, 0.83002476,\n",
       "       0.74023248, 0.72398421, 0.66560656, 0.71674956, 0.69268028,\n",
       "       0.67818293, 0.625113  , 0.6664292 , 0.65558277, 0.6549471 ,\n",
       "       0.67360931, 0.67433157, 0.60843357, 0.6646645 , 0.57346402,\n",
       "       0.56991543, 0.54860948, 0.51271499, 0.59157503, 0.53670267,\n",
       "       0.49969006, 0.54066905, 0.54409408, 0.55771933, 0.40713225,\n",
       "       0.44928039, 0.42359052, 0.49581902, 0.46681503, 0.11315364,\n",
       "       0.11795867, 0.10856008, 0.09316081, 0.15294125, 0.11085638,\n",
       "       0.12243773, 0.08903998, 0.13229503, 0.10366553, 0.06908585,\n",
       "       0.07784435, 0.10305781, 0.13239655, 0.10449607, 0.11033455,\n",
       "       0.07383899, 0.10976348, 0.07969712, 0.0996915 , 0.10207857,\n",
       "       0.02629389, 0.06746329, 0.07383899, 0.10040895, 0.04444   ,\n",
       "       0.03007213, 0.1568489 , 0.04693143, 0.21816396, 0.        ,\n",
       "       0.        , 0.07724576, 0.06521101, 0.21816396, 0.        ,\n",
       "       0.        , 0.12243773, 0.21816396, 0.12243773, 0.12243773,\n",
       "       0.        , 0.        , 0.        , 0.        , 0.        ,\n",
       "       0.        , 0.        , 0.        , 0.        , 0.        ,\n",
       "       0.        , 1.        , 0.        , 0.        , 0.        ,\n",
       "       0.        , 0.        , 0.        , 0.        , 0.        ,\n",
       "       0.        , 0.        , 0.        , 0.        , 0.        ,\n",
       "       0.        , 0.        , 0.        ])"
      ]
     },
     "execution_count": 120,
     "metadata": {},
     "output_type": "execute_result"
    }
   ],
   "source": [
    "hist_data_model_pad = numpy.pad(hist_data_model, (window_size-1, 0), mode='edge')\n",
    "hist_data_model_pad"
   ]
  },
  {
   "cell_type": "code",
   "execution_count": 121,
   "id": "8c49fa70-5ff5-4e9f-bb8d-0f256c91629f",
   "metadata": {},
   "outputs": [
    {
     "data": {
      "text/plain": [
       "108"
      ]
     },
     "execution_count": 121,
     "metadata": {},
     "output_type": "execute_result"
    }
   ],
   "source": [
    "len(hist_data_model_pad)"
   ]
  },
  {
   "cell_type": "code",
   "execution_count": 122,
   "id": "67058fc1-f71e-449d-8dcd-6071a914f177",
   "metadata": {},
   "outputs": [],
   "source": [
    "hist_data_model_pad[80:] = 0"
   ]
  },
  {
   "cell_type": "code",
   "execution_count": 142,
   "id": "72d73950-19e9-4b3a-b91e-c859699a9bed",
   "metadata": {},
   "outputs": [
    {
     "data": {
      "text/plain": [
       "99"
      ]
     },
     "execution_count": 142,
     "metadata": {},
     "output_type": "execute_result"
    }
   ],
   "source": [
    "hist_data_model_smooth = numpy.convolve(hist_data_model_pad, w, mode='valid')\n",
    "hist_data_model_smooth = numpy.roll(hist_data_model_smooth, -(window_size-1)//2)\n",
    "hist_data_model_smooth[80:] = 0\n",
    "len(hist_data_model_smooth)"
   ]
  },
  {
   "cell_type": "code",
   "execution_count": 143,
   "id": "7f190e7f-7497-43f6-bfd0-66298f63e300",
   "metadata": {},
   "outputs": [
    {
     "data": {
      "text/plain": [
       "99"
      ]
     },
     "execution_count": 143,
     "metadata": {},
     "output_type": "execute_result"
    }
   ],
   "source": [
    "len(hist_data_model)"
   ]
  },
  {
   "cell_type": "code",
   "execution_count": 237,
   "id": "e4cbb070-c0ec-49f4-b881-680518e4ae12",
   "metadata": {},
   "outputs": [
    {
     "data": {
      "image/png": "[encoded data removed]",
      "text/plain": [
       "<Figure size 640x480 with 1 Axes>"
      ]
     },
     "metadata": {},
     "output_type": "display_data"
    }
   ],
   "source": [
    "plt.step(\n",
    "    bins[:-1],\n",
    "    hist_data_model,\n",
    "    label='unfiltered',\n",
    ")\n",
    "plt.step(\n",
    "    bins[:-1],\n",
    "    hist_data_model_smooth,\n",
    "    label='moving average',\n",
    ")\n",
    "_ = plt.legend()\n",
    "_ = plt.xlabel('loan_percent_income')\n",
    "_ = plt.ylabel('approve probability')"
   ]
  },
  {
   "cell_type": "markdown",
   "id": "5009342f-6bc2-452c-9403-94fa79405712",
   "metadata": {},
   "source": [
    "This is the total number of events distribution"
   ]
  },
  {
   "cell_type": "code",
   "execution_count": 221,
   "id": "45783ca8-12fa-4bf6-8841-9d36d44d1719",
   "metadata": {},
   "outputs": [
    {
     "data": {
      "image/png": "[encoded data removed]",
      "text/plain": [
       "<Figure size 640x480 with 1 Axes>"
      ]
     },
     "metadata": {},
     "output_type": "display_data"
    }
   ],
   "source": [
    "_ = plt.step(\n",
    "    bins[:-1],\n",
    "    hist_data_approve + hist_data_deny,\n",
    ")"
   ]
  },
  {
   "cell_type": "markdown",
   "id": "2446edcf-0b5e-469b-bc8e-94d4dd1fec51",
   "metadata": {},
   "source": [
    "#### Use the smooth data to predict output"
   ]
  },
  {
   "cell_type": "code",
   "execution_count": 153,
   "id": "2d1e4c5d-1373-491d-a4fa-9bc0d7d65077",
   "metadata": {},
   "outputs": [
    {
     "data": {
      "text/plain": [
       "array([0.76893769, 0.7537535 , 0.73326233, 0.71690277, 0.69945857,\n",
       "       0.68195081, 0.67528849, 0.67032323, 0.66460593, 0.65939742,\n",
       "       0.6474758 , 0.63664905, 0.6289987 , 0.61362727, 0.6072265 ,\n",
       "       0.59540206, 0.57801013, 0.56464388, 0.55820993, 0.54751541,\n",
       "       0.53088224, 0.51881873, 0.50631684, 0.50462724, 0.49215124,\n",
       "       0.44979634, 0.4116232 , 0.3684123 , 0.32331897, 0.28284117,\n",
       "       0.25321358, 0.22052931, 0.18707426, 0.15072186, 0.11440691,\n",
       "       0.11000013, 0.1059887 , 0.10543847, 0.10936205, 0.10451753,\n",
       "       0.10446535, 0.09960547, 0.10167782, 0.09641803, 0.09602063,\n",
       "       0.0993199 , 0.09416485, 0.0906054 , 0.08474965, 0.08434093,\n",
       "       0.07775148, 0.07337479, 0.07808333, 0.07480677, 0.08665401,\n",
       "       0.07644616, 0.07381677, 0.07479501, 0.07393221, 0.08570772,\n",
       "       0.08126372, 0.0782565 , 0.07481538, 0.09193864, 0.08236601,\n",
       "       0.09460979, 0.09460979, 0.08688521, 0.08036411, 0.05854772,\n",
       "       0.05854772, 0.05854772, 0.04630394, 0.02448755, 0.01224377,\n",
       "       0.        , 0.        , 0.        , 0.        , 0.        ,\n",
       "       0.        , 0.        , 0.        , 0.        , 0.        ,\n",
       "       0.        , 0.        , 0.        , 0.        , 0.        ,\n",
       "       0.        , 0.        , 0.        , 0.        , 0.        ,\n",
       "       0.        , 0.        , 0.        , 0.        ])"
      ]
     },
     "execution_count": 153,
     "metadata": {},
     "output_type": "execute_result"
    }
   ],
   "source": [
    "hist_data_model_smooth"
   ]
  },
  {
   "cell_type": "code",
   "execution_count": 152,
   "id": "2992a0bb-352c-4476-a5a9-7611beee2857",
   "metadata": {},
   "outputs": [
    {
     "data": {
      "text/plain": [
       "0        0.36\n",
       "1        0.10\n",
       "2        0.13\n",
       "3        0.14\n",
       "4        0.15\n",
       "         ... \n",
       "39093    0.10\n",
       "39094    0.15\n",
       "39095    0.25\n",
       "39096    0.39\n",
       "39097    0.44\n",
       "Name: loan_percent_income, Length: 39098, dtype: float64"
      ]
     },
     "execution_count": 152,
     "metadata": {},
     "output_type": "execute_result"
    }
   ],
   "source": [
    "data_test['loan_percent_income']"
   ]
  },
  {
   "cell_type": "code",
   "execution_count": 159,
   "id": "0472a2a4-9426-4ac4-83d6-b6de7e893372",
   "metadata": {},
   "outputs": [],
   "source": [
    "import copy\n",
    "data_test_predict = copy.copy(data_test[['id', 'loan_percent_income']])"
   ]
  },
  {
   "cell_type": "code",
   "execution_count": 224,
   "id": "51e88ef6-e20a-42b3-af7d-518a41dccecc",
   "metadata": {},
   "outputs": [],
   "source": [
    "data_test_predict['loan_status'] = numpy.interp(\n",
    "    data_test_predict['loan_percent_income'].to_numpy(),\n",
    "    bins[:-1],\n",
    "    hist_data_model_smooth,\n",
    ")"
   ]
  },
  {
   "cell_type": "code",
   "execution_count": 225,
   "id": "0138b7ba-c838-4489-be26-482a2616344a",
   "metadata": {},
   "outputs": [
    {
     "data": {
      "text/html": [
       "<div>\n",
       "<style scoped>\n",
       "    .dataframe tbody tr th:only-of-type {\n",
       "        vertical-align: middle;\n",
       "    }\n",
       "\n",
       "    .dataframe tbody tr th {\n",
       "        vertical-align: top;\n",
       "    }\n",
       "\n",
       "    .dataframe thead th {\n",
       "        text-align: right;\n",
       "    }\n",
       "</style>\n",
       "<table border=\"1\" class=\"dataframe\">\n",
       "  <thead>\n",
       "    <tr style=\"text-align: right;\">\n",
       "      <th></th>\n",
       "      <th>id</th>\n",
       "      <th>loan_status</th>\n",
       "      <th>loan_percent_income</th>\n",
       "    </tr>\n",
       "  </thead>\n",
       "  <tbody>\n",
       "    <tr>\n",
       "      <th>39063</th>\n",
       "      <td>97708</td>\n",
       "      <td>0.768938</td>\n",
       "      <td>0.00</td>\n",
       "    </tr>\n",
       "    <tr>\n",
       "      <th>13981</th>\n",
       "      <td>72626</td>\n",
       "      <td>0.768938</td>\n",
       "      <td>0.00</td>\n",
       "    </tr>\n",
       "    <tr>\n",
       "      <th>34007</th>\n",
       "      <td>92652</td>\n",
       "      <td>0.768938</td>\n",
       "      <td>0.00</td>\n",
       "    </tr>\n",
       "    <tr>\n",
       "      <th>36960</th>\n",
       "      <td>95605</td>\n",
       "      <td>0.768938</td>\n",
       "      <td>0.00</td>\n",
       "    </tr>\n",
       "    <tr>\n",
       "      <th>24983</th>\n",
       "      <td>83628</td>\n",
       "      <td>0.753905</td>\n",
       "      <td>0.01</td>\n",
       "    </tr>\n",
       "    <tr>\n",
       "      <th>...</th>\n",
       "      <td>...</td>\n",
       "      <td>...</td>\n",
       "      <td>...</td>\n",
       "    </tr>\n",
       "    <tr>\n",
       "      <th>7541</th>\n",
       "      <td>66186</td>\n",
       "      <td>0.078760</td>\n",
       "      <td>0.59</td>\n",
       "    </tr>\n",
       "    <tr>\n",
       "      <th>32520</th>\n",
       "      <td>91165</td>\n",
       "      <td>0.083930</td>\n",
       "      <td>0.60</td>\n",
       "    </tr>\n",
       "    <tr>\n",
       "      <th>26342</th>\n",
       "      <td>84987</td>\n",
       "      <td>0.081151</td>\n",
       "      <td>0.63</td>\n",
       "    </tr>\n",
       "    <tr>\n",
       "      <th>30659</th>\n",
       "      <td>89304</td>\n",
       "      <td>0.081151</td>\n",
       "      <td>0.63</td>\n",
       "    </tr>\n",
       "    <tr>\n",
       "      <th>24697</th>\n",
       "      <td>83342</td>\n",
       "      <td>0.040414</td>\n",
       "      <td>0.73</td>\n",
       "    </tr>\n",
       "  </tbody>\n",
       "</table>\n",
       "<p>39098 rows × 3 columns</p>\n",
       "</div>"
      ],
      "text/plain": [
       "          id  loan_status  loan_percent_income\n",
       "39063  97708     0.768938                 0.00\n",
       "13981  72626     0.768938                 0.00\n",
       "34007  92652     0.768938                 0.00\n",
       "36960  95605     0.768938                 0.00\n",
       "24983  83628     0.753905                 0.01\n",
       "...      ...          ...                  ...\n",
       "7541   66186     0.078760                 0.59\n",
       "32520  91165     0.083930                 0.60\n",
       "26342  84987     0.081151                 0.63\n",
       "30659  89304     0.081151                 0.63\n",
       "24697  83342     0.040414                 0.73\n",
       "\n",
       "[39098 rows x 3 columns]"
      ]
     },
     "execution_count": 225,
     "metadata": {},
     "output_type": "execute_result"
    }
   ],
   "source": [
    "data_test_predict.sort_values('loan_percent_income')"
   ]
  },
  {
   "cell_type": "code",
   "execution_count": 226,
   "id": "5f1a28ec-45d1-42cb-8300-8066cb1b85c7",
   "metadata": {},
   "outputs": [
    {
     "data": {
      "image/png": "[encoded data removed]",
      "text/plain": [
       "<Figure size 640x480 with 1 Axes>"
      ]
     },
     "metadata": {},
     "output_type": "display_data"
    }
   ],
   "source": [
    "_ = plt.scatter(\n",
    "    data_test_predict['loan_percent_income'],\n",
    "    data_test_predict['loan_status'],\n",
    "    s=1,\n",
    ")\n",
    "_ = plt.xlabel('loan_percent_income')\n",
    "_ = plt.ylabel('loan_status')"
   ]
  },
  {
   "cell_type": "markdown",
   "id": "5d1facd0-6113-4647-92b1-6ca52d9c123b",
   "metadata": {},
   "source": [
    "Check that the model is producing sensible values. Show the histogram of inputs and scatter plot of outputs."
   ]
  },
  {
   "cell_type": "code",
   "execution_count": 244,
   "id": "71e31ae1-3e56-413a-b427-da1b5a813906",
   "metadata": {},
   "outputs": [
    {
     "data": {
      "text/plain": [
       "array([0.   , 0.01 , 0.02 , 0.03 , 0.04 , 0.05 , 0.06 , 0.07 , 0.08 ,\n",
       "       0.09 , 0.1  , 0.11 , 0.12 , 0.13 , 0.14 , 0.15 , 0.16 , 0.17 ,\n",
       "       0.18 , 0.19 , 0.2  , 0.21 , 0.22 , 0.23 , 0.24 , 0.25 , 0.26 ,\n",
       "       0.27 , 0.28 , 0.29 , 0.3  , 0.31 , 0.32 , 0.33 , 0.34 , 0.35 ,\n",
       "       0.36 , 0.37 , 0.38 , 0.39 , 0.4  , 0.41 , 0.42 , 0.43 , 0.44 ,\n",
       "       0.45 , 0.46 , 0.47 , 0.48 , 0.49 , 0.496, 0.5  , 0.51 , 0.52 ,\n",
       "       0.53 , 0.54 , 0.55 , 0.57 , 0.58 , 0.59 , 0.6  , 0.63 , 0.73 ])"
      ]
     },
     "execution_count": 244,
     "metadata": {},
     "output_type": "execute_result"
    }
   ],
   "source": [
    "numpy.sort(data_test_predict['loan_percent_income'].unique())"
   ]
  },
  {
   "cell_type": "code",
   "execution_count": 252,
   "id": "96c47255-5b36-493d-b592-d7b2263609d7",
   "metadata": {},
   "outputs": [
    {
     "data": {
      "image/png": "[encoded data removed]",
      "text/plain": [
       "<Figure size 640x480 with 2 Axes>"
      ]
     },
     "metadata": {},
     "output_type": "display_data"
    }
   ],
   "source": [
    "_ = plt.hist(\n",
    "    data_test_predict['loan_percent_income'],\n",
    "    bins=numpy.linspace(0,1,100),\n",
    "    histtype='step',\n",
    "    linewidth=2,\n",
    ")\n",
    "_ = plt.yscale('log')\n",
    "_ = plt.twinx()\n",
    "_ = plt.scatter(\n",
    "    data_test_predict['loan_percent_income'],\n",
    "    data_test_predict['loan_status'],\n",
    "    color='tab:orange',\n",
    ")\n",
    "_ = plt.xlim(xmin=0, xmax=0.8)"
   ]
  },
  {
   "cell_type": "markdown",
   "id": "01289669-101d-47ea-b55c-d6a3370c254e",
   "metadata": {},
   "source": [
    "When producing the output, need to predict the probability of loan reject"
   ]
  },
  {
   "cell_type": "code",
   "execution_count": 241,
   "id": "3eaf5e85-de4c-4d61-8f4e-77769e76995a",
   "metadata": {},
   "outputs": [
    {
     "data": {
      "text/html": [
       "<div>\n",
       "<style scoped>\n",
       "    .dataframe tbody tr th:only-of-type {\n",
       "        vertical-align: middle;\n",
       "    }\n",
       "\n",
       "    .dataframe tbody tr th {\n",
       "        vertical-align: top;\n",
       "    }\n",
       "\n",
       "    .dataframe thead th {\n",
       "        text-align: right;\n",
       "    }\n",
       "</style>\n",
       "<table border=\"1\" class=\"dataframe\">\n",
       "  <thead>\n",
       "    <tr style=\"text-align: right;\">\n",
       "      <th></th>\n",
       "      <th>id</th>\n",
       "      <th>loan_status_p_approve</th>\n",
       "      <th>loan_percent_income</th>\n",
       "      <th>loan_status</th>\n",
       "    </tr>\n",
       "  </thead>\n",
       "  <tbody>\n",
       "    <tr>\n",
       "      <th>0</th>\n",
       "      <td>58645</td>\n",
       "      <td>0.107433</td>\n",
       "      <td>0.36</td>\n",
       "      <td>0.892567</td>\n",
       "    </tr>\n",
       "    <tr>\n",
       "      <th>1</th>\n",
       "      <td>58646</td>\n",
       "      <td>0.648668</td>\n",
       "      <td>0.10</td>\n",
       "      <td>0.351332</td>\n",
       "    </tr>\n",
       "    <tr>\n",
       "      <th>2</th>\n",
       "      <td>58647</td>\n",
       "      <td>0.615626</td>\n",
       "      <td>0.13</td>\n",
       "      <td>0.384374</td>\n",
       "    </tr>\n",
       "    <tr>\n",
       "      <th>3</th>\n",
       "      <td>58648</td>\n",
       "      <td>0.608123</td>\n",
       "      <td>0.14</td>\n",
       "      <td>0.391877</td>\n",
       "    </tr>\n",
       "    <tr>\n",
       "      <th>4</th>\n",
       "      <td>58649</td>\n",
       "      <td>0.597176</td>\n",
       "      <td>0.15</td>\n",
       "      <td>0.402824</td>\n",
       "    </tr>\n",
       "    <tr>\n",
       "      <th>...</th>\n",
       "      <td>...</td>\n",
       "      <td>...</td>\n",
       "      <td>...</td>\n",
       "      <td>...</td>\n",
       "    </tr>\n",
       "    <tr>\n",
       "      <th>39093</th>\n",
       "      <td>97738</td>\n",
       "      <td>0.648668</td>\n",
       "      <td>0.10</td>\n",
       "      <td>0.351332</td>\n",
       "    </tr>\n",
       "    <tr>\n",
       "      <th>39094</th>\n",
       "      <td>97739</td>\n",
       "      <td>0.597176</td>\n",
       "      <td>0.15</td>\n",
       "      <td>0.402824</td>\n",
       "    </tr>\n",
       "    <tr>\n",
       "      <th>39095</th>\n",
       "      <td>97740</td>\n",
       "      <td>0.460385</td>\n",
       "      <td>0.25</td>\n",
       "      <td>0.539615</td>\n",
       "    </tr>\n",
       "    <tr>\n",
       "      <th>39096</th>\n",
       "      <td>97741</td>\n",
       "      <td>0.106407</td>\n",
       "      <td>0.39</td>\n",
       "      <td>0.893593</td>\n",
       "    </tr>\n",
       "    <tr>\n",
       "      <th>39097</th>\n",
       "      <td>97742</td>\n",
       "      <td>0.096195</td>\n",
       "      <td>0.44</td>\n",
       "      <td>0.903805</td>\n",
       "    </tr>\n",
       "  </tbody>\n",
       "</table>\n",
       "<p>39098 rows × 4 columns</p>\n",
       "</div>"
      ],
      "text/plain": [
       "          id  loan_status_p_approve  loan_percent_income  loan_status\n",
       "0      58645               0.107433                 0.36     0.892567\n",
       "1      58646               0.648668                 0.10     0.351332\n",
       "2      58647               0.615626                 0.13     0.384374\n",
       "3      58648               0.608123                 0.14     0.391877\n",
       "4      58649               0.597176                 0.15     0.402824\n",
       "...      ...                    ...                  ...          ...\n",
       "39093  97738               0.648668                 0.10     0.351332\n",
       "39094  97739               0.597176                 0.15     0.402824\n",
       "39095  97740               0.460385                 0.25     0.539615\n",
       "39096  97741               0.106407                 0.39     0.893593\n",
       "39097  97742               0.096195                 0.44     0.903805\n",
       "\n",
       "[39098 rows x 4 columns]"
      ]
     },
     "execution_count": 241,
     "metadata": {},
     "output_type": "execute_result"
    }
   ],
   "source": [
    "tmp = copy.copy(data_test_predict)\n",
    "tmp['loan_status_inverse'] = 1.0 - tmp['loan_status']\n",
    "tmp.rename(\n",
    "    columns={\n",
    "        'loan_status': 'loan_status_p_approve',\n",
    "        'loan_status_inverse': 'loan_status',\n",
    "    },\n",
    "    inplace=True,\n",
    ")\n",
    "\n",
    "tmp[['id', 'loan_status']].to_csv('data_test_predict_original_1.csv', index=False)\n",
    "\n",
    "tmp"
   ]
  },
  {
   "cell_type": "markdown",
   "id": "984bc6b0-72b7-41d3-9c9d-a146f3e1e57d",
   "metadata": {},
   "source": [
    "Test the interpolation function"
   ]
  },
  {
   "cell_type": "code",
   "execution_count": 229,
   "id": "2ed8b3da-cf96-4c54-96e1-fe42f69f1f34",
   "metadata": {},
   "outputs": [
    {
     "data": {
      "text/plain": [
       "array([0.64866796, 0.08104621, 0.        ])"
      ]
     },
     "execution_count": 229,
     "metadata": {},
     "output_type": "execute_result"
    }
   ],
   "source": [
    "numpy.interp(\n",
    "    [0.1, 0.5, 0.9],\n",
    "    bins[:-1],\n",
    "    hist_data_model_smooth,\n",
    ")"
   ]
  },
  {
   "cell_type": "markdown",
   "id": "e90ecfeb-36c7-45f8-8df5-8900c5eb2884",
   "metadata": {},
   "source": [
    "# Logistic Regression"
   ]
  },
  {
   "cell_type": "code",
   "execution_count": 230,
   "id": "9179161d-6135-4b29-9543-e1f7d90a568e",
   "metadata": {},
   "outputs": [],
   "source": [
    "x = data['loan_percent_income'].to_numpy().reshape(-1, 1)\n",
    "y = data['loan_status'].to_numpy()"
   ]
  },
  {
   "cell_type": "code",
   "execution_count": 231,
   "id": "4cee0fd8-8971-48cd-8143-b62b97224287",
   "metadata": {},
   "outputs": [],
   "source": [
    "model = sklearn.linear_model.LogisticRegression()\n",
    "clf = model.fit(x, y)"
   ]
  },
  {
   "cell_type": "code",
   "execution_count": 232,
   "id": "6c8e58e8-336c-4e29-a780-e4e4177ae70e",
   "metadata": {},
   "outputs": [
    {
     "data": {
      "text/plain": [
       "0.8127743163193272"
      ]
     },
     "execution_count": 232,
     "metadata": {},
     "output_type": "execute_result"
    }
   ],
   "source": [
    "clf.score(x, y)"
   ]
  },
  {
   "cell_type": "code",
   "execution_count": 233,
   "id": "14874276-bd87-43eb-b828-77a2eafb9277",
   "metadata": {},
   "outputs": [
    {
     "data": {
      "text/plain": [
       "(39098, 2)"
      ]
     },
     "execution_count": 233,
     "metadata": {},
     "output_type": "execute_result"
    }
   ],
   "source": [
    "x1 = data_test['loan_percent_income'].to_numpy().reshape(-1, 1)\n",
    "y1 = clf.predict_proba(x1)\n",
    "\n",
    "y1.shape"
   ]
  },
  {
   "cell_type": "code",
   "execution_count": 260,
   "id": "9cee0023-988a-43f8-ba80-04780ba0c073",
   "metadata": {},
   "outputs": [
    {
     "data": {
      "text/plain": [
       "(array([[8.22079623]]), array([-2.85403675]))"
      ]
     },
     "execution_count": 260,
     "metadata": {},
     "output_type": "execute_result"
    }
   ],
   "source": [
    "clf.coef_, clf.intercept_"
   ]
  },
  {
   "cell_type": "code",
   "execution_count": 270,
   "id": "f940cd31-1858-4d4a-8e1f-cea4caf13201",
   "metadata": {},
   "outputs": [
    {
     "data": {
      "image/png": "[encoded data removed]",
      "text/plain": [
       "<Figure size 640x480 with 2 Axes>"
      ]
     },
     "metadata": {},
     "output_type": "display_data"
    }
   ],
   "source": [
    "_ = plt.hist(\n",
    "    data_test_predict['loan_percent_income'],\n",
    "    bins=numpy.linspace(0,1,100),\n",
    "    histtype='step',\n",
    "    linewidth=2,\n",
    ")\n",
    "_ = plt.xlabel('loan percent income')\n",
    "_ = plt.ylabel('frequency')\n",
    "_ = plt.yscale('log')\n",
    "_ = plt.twinx()\n",
    "_ = plt.scatter(\n",
    "    data_test_predict['loan_percent_income'],\n",
    "    data_test_predict['loan_status'],\n",
    "    color='tab:orange',\n",
    ")\n",
    "_ = plt.plot(\n",
    "    numpy.linspace(0,1,100),\n",
    "    1-clf.predict_proba(numpy.linspace(0,1,100).reshape(-1,1))[:,1],\n",
    "    color='tab:green',\n",
    ")\n",
    "_ = plt.ylabel('accept probability')\n",
    "_ = plt.xlim(xmin=0, xmax=0.8)\n",
    "_ = plt.ylim(ymin=0, ymax=1)"
   ]
  },
  {
   "cell_type": "code",
   "execution_count": 235,
   "id": "da1e03d3-a98d-40d0-83b3-5504369413ce",
   "metadata": {},
   "outputs": [
    {
     "data": {
      "text/html": [
       "<div>\n",
       "<style scoped>\n",
       "    .dataframe tbody tr th:only-of-type {\n",
       "        vertical-align: middle;\n",
       "    }\n",
       "\n",
       "    .dataframe tbody tr th {\n",
       "        vertical-align: top;\n",
       "    }\n",
       "\n",
       "    .dataframe thead th {\n",
       "        text-align: right;\n",
       "    }\n",
       "</style>\n",
       "<table border=\"1\" class=\"dataframe\">\n",
       "  <thead>\n",
       "    <tr style=\"text-align: right;\">\n",
       "      <th></th>\n",
       "      <th>id</th>\n",
       "      <th>loan_status</th>\n",
       "      <th>loan_percent_income</th>\n",
       "    </tr>\n",
       "  </thead>\n",
       "  <tbody>\n",
       "    <tr>\n",
       "      <th>39063</th>\n",
       "      <td>97708</td>\n",
       "      <td>0.054473</td>\n",
       "      <td>0.00</td>\n",
       "    </tr>\n",
       "    <tr>\n",
       "      <th>13981</th>\n",
       "      <td>72626</td>\n",
       "      <td>0.054473</td>\n",
       "      <td>0.00</td>\n",
       "    </tr>\n",
       "    <tr>\n",
       "      <th>34007</th>\n",
       "      <td>92652</td>\n",
       "      <td>0.054473</td>\n",
       "      <td>0.00</td>\n",
       "    </tr>\n",
       "    <tr>\n",
       "      <th>36960</th>\n",
       "      <td>95605</td>\n",
       "      <td>0.054473</td>\n",
       "      <td>0.00</td>\n",
       "    </tr>\n",
       "    <tr>\n",
       "      <th>24983</th>\n",
       "      <td>83628</td>\n",
       "      <td>0.058866</td>\n",
       "      <td>0.01</td>\n",
       "    </tr>\n",
       "    <tr>\n",
       "      <th>...</th>\n",
       "      <td>...</td>\n",
       "      <td>...</td>\n",
       "      <td>...</td>\n",
       "    </tr>\n",
       "    <tr>\n",
       "      <th>7541</th>\n",
       "      <td>66186</td>\n",
       "      <td>0.880401</td>\n",
       "      <td>0.59</td>\n",
       "    </tr>\n",
       "    <tr>\n",
       "      <th>32520</th>\n",
       "      <td>91165</td>\n",
       "      <td>0.888790</td>\n",
       "      <td>0.60</td>\n",
       "    </tr>\n",
       "    <tr>\n",
       "      <th>26342</th>\n",
       "      <td>84987</td>\n",
       "      <td>0.910932</td>\n",
       "      <td>0.63</td>\n",
       "    </tr>\n",
       "    <tr>\n",
       "      <th>30659</th>\n",
       "      <td>89304</td>\n",
       "      <td>0.910932</td>\n",
       "      <td>0.63</td>\n",
       "    </tr>\n",
       "    <tr>\n",
       "      <th>24697</th>\n",
       "      <td>83342</td>\n",
       "      <td>0.958796</td>\n",
       "      <td>0.73</td>\n",
       "    </tr>\n",
       "  </tbody>\n",
       "</table>\n",
       "<p>39098 rows × 3 columns</p>\n",
       "</div>"
      ],
      "text/plain": [
       "          id  loan_status  loan_percent_income\n",
       "39063  97708     0.054473                 0.00\n",
       "13981  72626     0.054473                 0.00\n",
       "34007  92652     0.054473                 0.00\n",
       "36960  95605     0.054473                 0.00\n",
       "24983  83628     0.058866                 0.01\n",
       "...      ...          ...                  ...\n",
       "7541   66186     0.880401                 0.59\n",
       "32520  91165     0.888790                 0.60\n",
       "26342  84987     0.910932                 0.63\n",
       "30659  89304     0.910932                 0.63\n",
       "24697  83342     0.958796                 0.73\n",
       "\n",
       "[39098 rows x 3 columns]"
      ]
     },
     "execution_count": 235,
     "metadata": {},
     "output_type": "execute_result"
    }
   ],
   "source": [
    "data_test_predict_logistic = pandas.DataFrame(\n",
    "    {\n",
    "        'id': data_test['id'],\n",
    "        'loan_status': y1[:, 1],\n",
    "        'loan_percent_income': x1[:, 0],\n",
    "    }\n",
    ")\n",
    "data_test_predict_logistic.sort_values('loan_percent_income')"
   ]
  },
  {
   "cell_type": "code",
   "execution_count": 236,
   "id": "a9f73e55-97e3-4ac6-b003-be488c71b72d",
   "metadata": {},
   "outputs": [],
   "source": [
    "data_test_predict_logistic[['id', 'loan_status']].to_csv('data_test_predict_original_1-logistic.csv', index=False)"
   ]
  },
  {
   "cell_type": "markdown",
   "id": "713b24e6-8a47-4d87-9b01-bf2d3a977da1",
   "metadata": {},
   "source": [
    "### Check the `loan_percent_income` column\n",
    "\n",
    "- It is identical to the loan amount divided by income, in almost all cases. There are a few rows where the values differ. ~ 1000 / 32000"
   ]
  },
  {
   "cell_type": "code",
   "execution_count": 177,
   "id": "334f5d94-8910-4d69-a9e1-512a6c11001d",
   "metadata": {},
   "outputs": [
    {
     "data": {
      "text/html": [
       "<div>\n",
       "<style scoped>\n",
       "    .dataframe tbody tr th:only-of-type {\n",
       "        vertical-align: middle;\n",
       "    }\n",
       "\n",
       "    .dataframe tbody tr th {\n",
       "        vertical-align: top;\n",
       "    }\n",
       "\n",
       "    .dataframe thead th {\n",
       "        text-align: right;\n",
       "    }\n",
       "</style>\n",
       "<table border=\"1\" class=\"dataframe\">\n",
       "  <thead>\n",
       "    <tr style=\"text-align: right;\">\n",
       "      <th></th>\n",
       "      <th>person_income</th>\n",
       "      <th>loan_amnt</th>\n",
       "      <th>loan_percent_income</th>\n",
       "    </tr>\n",
       "  </thead>\n",
       "  <tbody>\n",
       "    <tr>\n",
       "      <th>0</th>\n",
       "      <td>59000</td>\n",
       "      <td>35000</td>\n",
       "      <td>0.59</td>\n",
       "    </tr>\n",
       "    <tr>\n",
       "      <th>1</th>\n",
       "      <td>9600</td>\n",
       "      <td>1000</td>\n",
       "      <td>0.10</td>\n",
       "    </tr>\n",
       "    <tr>\n",
       "      <th>2</th>\n",
       "      <td>9600</td>\n",
       "      <td>5500</td>\n",
       "      <td>0.57</td>\n",
       "    </tr>\n",
       "    <tr>\n",
       "      <th>3</th>\n",
       "      <td>65500</td>\n",
       "      <td>35000</td>\n",
       "      <td>0.53</td>\n",
       "    </tr>\n",
       "    <tr>\n",
       "      <th>4</th>\n",
       "      <td>54400</td>\n",
       "      <td>35000</td>\n",
       "      <td>0.55</td>\n",
       "    </tr>\n",
       "    <tr>\n",
       "      <th>...</th>\n",
       "      <td>...</td>\n",
       "      <td>...</td>\n",
       "      <td>...</td>\n",
       "    </tr>\n",
       "    <tr>\n",
       "      <th>32576</th>\n",
       "      <td>53000</td>\n",
       "      <td>5800</td>\n",
       "      <td>0.11</td>\n",
       "    </tr>\n",
       "    <tr>\n",
       "      <th>32577</th>\n",
       "      <td>120000</td>\n",
       "      <td>17625</td>\n",
       "      <td>0.15</td>\n",
       "    </tr>\n",
       "    <tr>\n",
       "      <th>32578</th>\n",
       "      <td>76000</td>\n",
       "      <td>35000</td>\n",
       "      <td>0.46</td>\n",
       "    </tr>\n",
       "    <tr>\n",
       "      <th>32579</th>\n",
       "      <td>150000</td>\n",
       "      <td>15000</td>\n",
       "      <td>0.10</td>\n",
       "    </tr>\n",
       "    <tr>\n",
       "      <th>32580</th>\n",
       "      <td>42000</td>\n",
       "      <td>6475</td>\n",
       "      <td>0.15</td>\n",
       "    </tr>\n",
       "  </tbody>\n",
       "</table>\n",
       "<p>32581 rows × 3 columns</p>\n",
       "</div>"
      ],
      "text/plain": [
       "       person_income  loan_amnt  loan_percent_income\n",
       "0              59000      35000                 0.59\n",
       "1               9600       1000                 0.10\n",
       "2               9600       5500                 0.57\n",
       "3              65500      35000                 0.53\n",
       "4              54400      35000                 0.55\n",
       "...              ...        ...                  ...\n",
       "32576          53000       5800                 0.11\n",
       "32577         120000      17625                 0.15\n",
       "32578          76000      35000                 0.46\n",
       "32579         150000      15000                 0.10\n",
       "32580          42000       6475                 0.15\n",
       "\n",
       "[32581 rows x 3 columns]"
      ]
     },
     "execution_count": 177,
     "metadata": {},
     "output_type": "execute_result"
    }
   ],
   "source": [
    "data[['person_income', 'loan_amnt', 'loan_percent_income']]"
   ]
  },
  {
   "cell_type": "code",
   "execution_count": 183,
   "id": "57805df7-7de3-435d-87e2-656bd5657f99",
   "metadata": {},
   "outputs": [
    {
     "data": {
      "text/html": [
       "<div>\n",
       "<style scoped>\n",
       "    .dataframe tbody tr th:only-of-type {\n",
       "        vertical-align: middle;\n",
       "    }\n",
       "\n",
       "    .dataframe tbody tr th {\n",
       "        vertical-align: top;\n",
       "    }\n",
       "\n",
       "    .dataframe thead th {\n",
       "        text-align: right;\n",
       "    }\n",
       "</style>\n",
       "<table border=\"1\" class=\"dataframe\">\n",
       "  <thead>\n",
       "    <tr style=\"text-align: right;\">\n",
       "      <th></th>\n",
       "      <th>0</th>\n",
       "    </tr>\n",
       "  </thead>\n",
       "  <tbody>\n",
       "    <tr>\n",
       "      <th>0</th>\n",
       "      <td>0.593220</td>\n",
       "    </tr>\n",
       "    <tr>\n",
       "      <th>1</th>\n",
       "      <td>0.104167</td>\n",
       "    </tr>\n",
       "    <tr>\n",
       "      <th>2</th>\n",
       "      <td>0.572917</td>\n",
       "    </tr>\n",
       "    <tr>\n",
       "      <th>3</th>\n",
       "      <td>0.534351</td>\n",
       "    </tr>\n",
       "    <tr>\n",
       "      <th>4</th>\n",
       "      <td>0.643382</td>\n",
       "    </tr>\n",
       "    <tr>\n",
       "      <th>...</th>\n",
       "      <td>...</td>\n",
       "    </tr>\n",
       "    <tr>\n",
       "      <th>32576</th>\n",
       "      <td>0.109434</td>\n",
       "    </tr>\n",
       "    <tr>\n",
       "      <th>32577</th>\n",
       "      <td>0.146875</td>\n",
       "    </tr>\n",
       "    <tr>\n",
       "      <th>32578</th>\n",
       "      <td>0.460526</td>\n",
       "    </tr>\n",
       "    <tr>\n",
       "      <th>32579</th>\n",
       "      <td>0.100000</td>\n",
       "    </tr>\n",
       "    <tr>\n",
       "      <th>32580</th>\n",
       "      <td>0.154167</td>\n",
       "    </tr>\n",
       "  </tbody>\n",
       "</table>\n",
       "<p>32581 rows × 1 columns</p>\n",
       "</div>"
      ],
      "text/plain": [
       "              0\n",
       "0      0.593220\n",
       "1      0.104167\n",
       "2      0.572917\n",
       "3      0.534351\n",
       "4      0.643382\n",
       "...         ...\n",
       "32576  0.109434\n",
       "32577  0.146875\n",
       "32578  0.460526\n",
       "32579  0.100000\n",
       "32580  0.154167\n",
       "\n",
       "[32581 rows x 1 columns]"
      ]
     },
     "execution_count": 183,
     "metadata": {},
     "output_type": "execute_result"
    }
   ],
   "source": [
    "pandas.DataFrame(data['loan_amnt'] / data['person_income'])"
   ]
  },
  {
   "cell_type": "code",
   "execution_count": 193,
   "id": "4e930a42-655f-4ad8-8287-463ac63d9294",
   "metadata": {
    "scrolled": true
   },
   "outputs": [
    {
     "data": {
      "text/html": [
       "<div>\n",
       "<style scoped>\n",
       "    .dataframe tbody tr th:only-of-type {\n",
       "        vertical-align: middle;\n",
       "    }\n",
       "\n",
       "    .dataframe tbody tr th {\n",
       "        vertical-align: top;\n",
       "    }\n",
       "\n",
       "    .dataframe thead th {\n",
       "        text-align: right;\n",
       "    }\n",
       "</style>\n",
       "<table border=\"1\" class=\"dataframe\">\n",
       "  <thead>\n",
       "    <tr style=\"text-align: right;\">\n",
       "      <th></th>\n",
       "      <th>person_income</th>\n",
       "      <th>loan_amnt</th>\n",
       "      <th>loan_percent_income</th>\n",
       "      <th>0</th>\n",
       "      <th>diff</th>\n",
       "    </tr>\n",
       "  </thead>\n",
       "  <tbody>\n",
       "    <tr>\n",
       "      <th>4</th>\n",
       "      <td>54400</td>\n",
       "      <td>35000</td>\n",
       "      <td>0.55</td>\n",
       "      <td>0.64</td>\n",
       "      <td>-0.09</td>\n",
       "    </tr>\n",
       "    <tr>\n",
       "      <th>17</th>\n",
       "      <td>92111</td>\n",
       "      <td>35000</td>\n",
       "      <td>0.32</td>\n",
       "      <td>0.38</td>\n",
       "      <td>-0.06</td>\n",
       "    </tr>\n",
       "    <tr>\n",
       "      <th>36</th>\n",
       "      <td>48000</td>\n",
       "      <td>30000</td>\n",
       "      <td>0.63</td>\n",
       "      <td>0.62</td>\n",
       "      <td>0.01</td>\n",
       "    </tr>\n",
       "    <tr>\n",
       "      <th>40</th>\n",
       "      <td>62050</td>\n",
       "      <td>30000</td>\n",
       "      <td>0.41</td>\n",
       "      <td>0.48</td>\n",
       "      <td>-0.07</td>\n",
       "    </tr>\n",
       "    <tr>\n",
       "      <th>48</th>\n",
       "      <td>66300</td>\n",
       "      <td>30000</td>\n",
       "      <td>0.38</td>\n",
       "      <td>0.45</td>\n",
       "      <td>-0.07</td>\n",
       "    </tr>\n",
       "    <tr>\n",
       "      <th>...</th>\n",
       "      <td>...</td>\n",
       "      <td>...</td>\n",
       "      <td>...</td>\n",
       "      <td>...</td>\n",
       "      <td>...</td>\n",
       "    </tr>\n",
       "    <tr>\n",
       "      <th>32480</th>\n",
       "      <td>62050</td>\n",
       "      <td>25000</td>\n",
       "      <td>0.34</td>\n",
       "      <td>0.40</td>\n",
       "      <td>-0.06</td>\n",
       "    </tr>\n",
       "    <tr>\n",
       "      <th>32485</th>\n",
       "      <td>24000</td>\n",
       "      <td>3000</td>\n",
       "      <td>0.13</td>\n",
       "      <td>0.12</td>\n",
       "      <td>0.01</td>\n",
       "    </tr>\n",
       "    <tr>\n",
       "      <th>32542</th>\n",
       "      <td>200000</td>\n",
       "      <td>3000</td>\n",
       "      <td>0.01</td>\n",
       "      <td>0.02</td>\n",
       "      <td>-0.01</td>\n",
       "    </tr>\n",
       "    <tr>\n",
       "      <th>32555</th>\n",
       "      <td>80000</td>\n",
       "      <td>18000</td>\n",
       "      <td>0.23</td>\n",
       "      <td>0.22</td>\n",
       "      <td>0.01</td>\n",
       "    </tr>\n",
       "    <tr>\n",
       "      <th>32569</th>\n",
       "      <td>60000</td>\n",
       "      <td>7500</td>\n",
       "      <td>0.13</td>\n",
       "      <td>0.12</td>\n",
       "      <td>0.01</td>\n",
       "    </tr>\n",
       "  </tbody>\n",
       "</table>\n",
       "<p>1010 rows × 5 columns</p>\n",
       "</div>"
      ],
      "text/plain": [
       "       person_income  loan_amnt  loan_percent_income     0  diff\n",
       "4              54400      35000                 0.55  0.64 -0.09\n",
       "17             92111      35000                 0.32  0.38 -0.06\n",
       "36             48000      30000                 0.63  0.62  0.01\n",
       "40             62050      30000                 0.41  0.48 -0.07\n",
       "48             66300      30000                 0.38  0.45 -0.07\n",
       "...              ...        ...                  ...   ...   ...\n",
       "32480          62050      25000                 0.34  0.40 -0.06\n",
       "32485          24000       3000                 0.13  0.12  0.01\n",
       "32542         200000       3000                 0.01  0.02 -0.01\n",
       "32555          80000      18000                 0.23  0.22  0.01\n",
       "32569          60000       7500                 0.13  0.12  0.01\n",
       "\n",
       "[1010 rows x 5 columns]"
      ]
     },
     "execution_count": 193,
     "metadata": {},
     "output_type": "execute_result"
    }
   ],
   "source": [
    "tmp = pandas.concat(\n",
    "    [\n",
    "        data[['person_income', 'loan_amnt', 'loan_percent_income']],\n",
    "        pandas.DataFrame(data['loan_amnt'] / data['person_income']).round(decimals=2),\n",
    "    ],\n",
    "    axis=1,\n",
    ")\n",
    "tmp['diff'] = tmp['loan_percent_income'] - tmp[0]\n",
    "tmp[tmp['diff'] != 0]"
   ]
  },
  {
   "cell_type": "code",
   "execution_count": 194,
   "id": "a96ede06-d254-4936-8f54-a16f98ab67cf",
   "metadata": {},
   "outputs": [
    {
     "data": {
      "text/plain": [
       "1010"
      ]
     },
     "execution_count": 194,
     "metadata": {},
     "output_type": "execute_result"
    }
   ],
   "source": [
    "len(tmp[tmp['diff'] != 0])"
   ]
  },
  {
   "cell_type": "code",
   "execution_count": 195,
   "id": "0d1411c6-396f-4531-8c07-7ff90601b8a7",
   "metadata": {},
   "outputs": [
    {
     "data": {
      "text/plain": [
       "np.float64(0.010000000000000009)"
      ]
     },
     "execution_count": 195,
     "metadata": {},
     "output_type": "execute_result"
    }
   ],
   "source": [
    "tmp['diff'].max()"
   ]
  },
  {
   "cell_type": "markdown",
   "id": "7172790d-7da5-4477-92d8-2c6d70c63362",
   "metadata": {},
   "source": [
    "### Scatter Plot of `loan_percent_income` vs `loan_approval` for Train and Test Datasets"
   ]
  },
  {
   "cell_type": "code",
   "execution_count": 271,
   "id": "e2f358eb-d18c-4632-8c40-1e89715cab89",
   "metadata": {},
   "outputs": [
    {
     "data": {
      "image/png": "[encoded data removed]",
      "text/plain": [
       "<Figure size 640x480 with 1 Axes>"
      ]
     },
     "metadata": {},
     "output_type": "display_data"
    }
   ],
   "source": [
    "_ = plt.hist(\n",
    "    data[data['loan_status'] == 0]['loan_percent_income'],\n",
    "    histtype='step',\n",
    "    bins=numpy.linspace(0, 1, 100),\n",
    "    label='loan_status=0',\n",
    "    linewidth=2,\n",
    ")\n",
    "_ = plt.hist(\n",
    "    data[data['loan_status'] == 1]['loan_percent_income'],\n",
    "    histtype='step',\n",
    "    bins=numpy.linspace(0, 1, 100),\n",
    "    label='loan_status=1',\n",
    "    linewidth=2,\n",
    ")\n",
    "_ = plt.legend()\n",
    "_ = plt.xlabel('loan_percent_income')"
   ]
  },
  {
   "cell_type": "code",
   "execution_count": 209,
   "id": "cebbf771-5ab2-4ef8-affe-5916fec00b44",
   "metadata": {},
   "outputs": [],
   "source": [
    "data_train = loan_approval_lib.load_data()['train']"
   ]
  },
  {
   "cell_type": "code",
   "execution_count": 272,
   "id": "8e2f6c5a-992f-4a88-9723-6f7e8183e601",
   "metadata": {},
   "outputs": [
    {
     "data": {
      "image/png": "[encoded data removed]",
      "text/plain": [
       "<Figure size 640x480 with 1 Axes>"
      ]
     },
     "metadata": {},
     "output_type": "display_data"
    }
   ],
   "source": [
    "_ = plt.hist(\n",
    "    data_train[data_train['loan_status'] == 0]['loan_percent_income'],\n",
    "    histtype='step',\n",
    "    bins=numpy.linspace(0, 1, 100),\n",
    "    label='loan_status=0',\n",
    "    linewidth=2,\n",
    ")\n",
    "_ = plt.hist(\n",
    "    data_train[data_train['loan_status'] == 1]['loan_percent_income'],\n",
    "    histtype='step',\n",
    "    bins=numpy.linspace(0, 1, 100),\n",
    "    label='loan_status=1',\n",
    "    linewidth=2,\n",
    ")\n",
    "_ = plt.legend()\n",
    "_ = plt.xlabel('loan_percent_income')"
   ]
  },
  {
   "cell_type": "markdown",
   "id": "7d9ec9d2-6dea-425b-810b-ad8a0d0e5d37",
   "metadata": {},
   "source": [
    "# Loan Interest Rate"
   ]
  },
  {
   "cell_type": "code",
   "execution_count": 273,
   "id": "1e5f3cb6-231c-4461-91eb-49a655492557",
   "metadata": {},
   "outputs": [
    {
     "data": {
      "image/png": "[encoded data removed]",
      "text/plain": [
       "<Figure size 640x480 with 1 Axes>"
      ]
     },
     "metadata": {},
     "output_type": "display_data"
    }
   ],
   "source": [
    "column = 'loan_int_rate'\n",
    "\n",
    "h_data_deny = data_loan_status_deny[column]\n",
    "h_data_approve = data_loan_status_approve[column]\n",
    "\n",
    "max_ = max(h_data_accept.max(), h_data_deny.max())\n",
    "\n",
    "plt.hist(\n",
    "    h_data_deny,\n",
    "    bins=numpy.linspace(0, max_, 100), #logspace(data_train_loan_status_deny[column]),\n",
    "    histtype='step',\n",
    "    density=True,\n",
    "    label='deny',\n",
    "    linewidth=2,\n",
    ")\n",
    "plt.hist(\n",
    "    h_data_approve,\n",
    "    bins=numpy.linspace(0, max_, 100), #logspace(data_train_loan_status_accept[column]),\n",
    "    histtype='step',\n",
    "    density=True,\n",
    "    label='approve',\n",
    "    linewidth=2,\n",
    ")\n",
    "plt.xlabel('loan interest rate')\n",
    "plt.xlim(left=0)\n",
    "plt.yscale('log')\n",
    "plt.legend()\n",
    "None"
   ]
  },
  {
   "cell_type": "code",
   "execution_count": 279,
   "id": "96255650-0fae-4bac-a367-f9587309e43a",
   "metadata": {},
   "outputs": [
    {
     "data": {
      "text/plain": [
       "3116"
      ]
     },
     "execution_count": 279,
     "metadata": {},
     "output_type": "execute_result"
    }
   ],
   "source": [
    "numpy.count_nonzero(numpy.isnan(data['loan_int_rate'].to_numpy()))"
   ]
  },
  {
   "cell_type": "code",
   "execution_count": 282,
   "id": "1bbcae69-0aea-4269-b7c7-46c3a484e3e9",
   "metadata": {},
   "outputs": [
    {
     "data": {
      "text/html": [
       "<div>\n",
       "<style scoped>\n",
       "    .dataframe tbody tr th:only-of-type {\n",
       "        vertical-align: middle;\n",
       "    }\n",
       "\n",
       "    .dataframe tbody tr th {\n",
       "        vertical-align: top;\n",
       "    }\n",
       "\n",
       "    .dataframe thead th {\n",
       "        text-align: right;\n",
       "    }\n",
       "</style>\n",
       "<table border=\"1\" class=\"dataframe\">\n",
       "  <thead>\n",
       "    <tr style=\"text-align: right;\">\n",
       "      <th></th>\n",
       "      <th>person_age</th>\n",
       "      <th>person_income</th>\n",
       "      <th>person_home_ownership</th>\n",
       "      <th>person_emp_length</th>\n",
       "      <th>loan_intent</th>\n",
       "      <th>loan_grade</th>\n",
       "      <th>loan_amnt</th>\n",
       "      <th>loan_int_rate</th>\n",
       "      <th>loan_status</th>\n",
       "      <th>loan_percent_income</th>\n",
       "      <th>cb_person_default_on_file</th>\n",
       "      <th>cb_person_cred_hist_length</th>\n",
       "    </tr>\n",
       "  </thead>\n",
       "  <tbody>\n",
       "    <tr>\n",
       "      <th>57</th>\n",
       "      <td>23</td>\n",
       "      <td>277000</td>\n",
       "      <td>OWN</td>\n",
       "      <td>3.0</td>\n",
       "      <td>PERSONAL</td>\n",
       "      <td>A</td>\n",
       "      <td>35000</td>\n",
       "      <td>NaN</td>\n",
       "      <td>0</td>\n",
       "      <td>0.13</td>\n",
       "      <td>N</td>\n",
       "      <td>4</td>\n",
       "    </tr>\n",
       "    <tr>\n",
       "      <th>59</th>\n",
       "      <td>24</td>\n",
       "      <td>12000</td>\n",
       "      <td>OWN</td>\n",
       "      <td>2.0</td>\n",
       "      <td>VENTURE</td>\n",
       "      <td>E</td>\n",
       "      <td>1750</td>\n",
       "      <td>NaN</td>\n",
       "      <td>0</td>\n",
       "      <td>0.15</td>\n",
       "      <td>Y</td>\n",
       "      <td>3</td>\n",
       "    </tr>\n",
       "    <tr>\n",
       "      <th>90</th>\n",
       "      <td>22</td>\n",
       "      <td>240000</td>\n",
       "      <td>OWN</td>\n",
       "      <td>6.0</td>\n",
       "      <td>PERSONAL</td>\n",
       "      <td>B</td>\n",
       "      <td>25000</td>\n",
       "      <td>NaN</td>\n",
       "      <td>0</td>\n",
       "      <td>0.10</td>\n",
       "      <td>N</td>\n",
       "      <td>2</td>\n",
       "    </tr>\n",
       "    <tr>\n",
       "      <th>114</th>\n",
       "      <td>24</td>\n",
       "      <td>225000</td>\n",
       "      <td>RENT</td>\n",
       "      <td>0.0</td>\n",
       "      <td>MEDICAL</td>\n",
       "      <td>B</td>\n",
       "      <td>6000</td>\n",
       "      <td>NaN</td>\n",
       "      <td>0</td>\n",
       "      <td>0.03</td>\n",
       "      <td>N</td>\n",
       "      <td>4</td>\n",
       "    </tr>\n",
       "    <tr>\n",
       "      <th>174</th>\n",
       "      <td>23</td>\n",
       "      <td>200000</td>\n",
       "      <td>MORTGAGE</td>\n",
       "      <td>7.0</td>\n",
       "      <td>EDUCATION</td>\n",
       "      <td>A</td>\n",
       "      <td>28000</td>\n",
       "      <td>NaN</td>\n",
       "      <td>0</td>\n",
       "      <td>0.14</td>\n",
       "      <td>N</td>\n",
       "      <td>2</td>\n",
       "    </tr>\n",
       "    <tr>\n",
       "      <th>...</th>\n",
       "      <td>...</td>\n",
       "      <td>...</td>\n",
       "      <td>...</td>\n",
       "      <td>...</td>\n",
       "      <td>...</td>\n",
       "      <td>...</td>\n",
       "      <td>...</td>\n",
       "      <td>...</td>\n",
       "      <td>...</td>\n",
       "      <td>...</td>\n",
       "      <td>...</td>\n",
       "      <td>...</td>\n",
       "    </tr>\n",
       "    <tr>\n",
       "      <th>32546</th>\n",
       "      <td>60</td>\n",
       "      <td>1900000</td>\n",
       "      <td>MORTGAGE</td>\n",
       "      <td>5.0</td>\n",
       "      <td>PERSONAL</td>\n",
       "      <td>A</td>\n",
       "      <td>1500</td>\n",
       "      <td>NaN</td>\n",
       "      <td>0</td>\n",
       "      <td>0.00</td>\n",
       "      <td>N</td>\n",
       "      <td>21</td>\n",
       "    </tr>\n",
       "    <tr>\n",
       "      <th>32552</th>\n",
       "      <td>65</td>\n",
       "      <td>45900</td>\n",
       "      <td>RENT</td>\n",
       "      <td>2.0</td>\n",
       "      <td>EDUCATION</td>\n",
       "      <td>C</td>\n",
       "      <td>10000</td>\n",
       "      <td>NaN</td>\n",
       "      <td>0</td>\n",
       "      <td>0.22</td>\n",
       "      <td>Y</td>\n",
       "      <td>19</td>\n",
       "    </tr>\n",
       "    <tr>\n",
       "      <th>32553</th>\n",
       "      <td>54</td>\n",
       "      <td>20000</td>\n",
       "      <td>RENT</td>\n",
       "      <td>2.0</td>\n",
       "      <td>MEDICAL</td>\n",
       "      <td>C</td>\n",
       "      <td>5000</td>\n",
       "      <td>NaN</td>\n",
       "      <td>0</td>\n",
       "      <td>0.25</td>\n",
       "      <td>N</td>\n",
       "      <td>28</td>\n",
       "    </tr>\n",
       "    <tr>\n",
       "      <th>32569</th>\n",
       "      <td>51</td>\n",
       "      <td>60000</td>\n",
       "      <td>MORTGAGE</td>\n",
       "      <td>1.0</td>\n",
       "      <td>PERSONAL</td>\n",
       "      <td>A</td>\n",
       "      <td>7500</td>\n",
       "      <td>NaN</td>\n",
       "      <td>0</td>\n",
       "      <td>0.13</td>\n",
       "      <td>N</td>\n",
       "      <td>23</td>\n",
       "    </tr>\n",
       "    <tr>\n",
       "      <th>32570</th>\n",
       "      <td>58</td>\n",
       "      <td>72000</td>\n",
       "      <td>RENT</td>\n",
       "      <td>5.0</td>\n",
       "      <td>HOMEIMPROVEMENT</td>\n",
       "      <td>B</td>\n",
       "      <td>4500</td>\n",
       "      <td>NaN</td>\n",
       "      <td>0</td>\n",
       "      <td>0.06</td>\n",
       "      <td>N</td>\n",
       "      <td>23</td>\n",
       "    </tr>\n",
       "  </tbody>\n",
       "</table>\n",
       "<p>2472 rows × 12 columns</p>\n",
       "</div>"
      ],
      "text/plain": [
       "       person_age  person_income person_home_ownership  person_emp_length  \\\n",
       "57             23         277000                   OWN                3.0   \n",
       "59             24          12000                   OWN                2.0   \n",
       "90             22         240000                   OWN                6.0   \n",
       "114            24         225000                  RENT                0.0   \n",
       "174            23         200000              MORTGAGE                7.0   \n",
       "...           ...            ...                   ...                ...   \n",
       "32546          60        1900000              MORTGAGE                5.0   \n",
       "32552          65          45900                  RENT                2.0   \n",
       "32553          54          20000                  RENT                2.0   \n",
       "32569          51          60000              MORTGAGE                1.0   \n",
       "32570          58          72000                  RENT                5.0   \n",
       "\n",
       "           loan_intent loan_grade  loan_amnt  loan_int_rate  loan_status  \\\n",
       "57            PERSONAL          A      35000            NaN            0   \n",
       "59             VENTURE          E       1750            NaN            0   \n",
       "90            PERSONAL          B      25000            NaN            0   \n",
       "114            MEDICAL          B       6000            NaN            0   \n",
       "174          EDUCATION          A      28000            NaN            0   \n",
       "...                ...        ...        ...            ...          ...   \n",
       "32546         PERSONAL          A       1500            NaN            0   \n",
       "32552        EDUCATION          C      10000            NaN            0   \n",
       "32553          MEDICAL          C       5000            NaN            0   \n",
       "32569         PERSONAL          A       7500            NaN            0   \n",
       "32570  HOMEIMPROVEMENT          B       4500            NaN            0   \n",
       "\n",
       "       loan_percent_income cb_person_default_on_file  \\\n",
       "57                    0.13                         N   \n",
       "59                    0.15                         Y   \n",
       "90                    0.10                         N   \n",
       "114                   0.03                         N   \n",
       "174                   0.14                         N   \n",
       "...                    ...                       ...   \n",
       "32546                 0.00                         N   \n",
       "32552                 0.22                         Y   \n",
       "32553                 0.25                         N   \n",
       "32569                 0.13                         N   \n",
       "32570                 0.06                         N   \n",
       "\n",
       "       cb_person_cred_hist_length  \n",
       "57                              4  \n",
       "59                              3  \n",
       "90                              2  \n",
       "114                             4  \n",
       "174                             2  \n",
       "...                           ...  \n",
       "32546                          21  \n",
       "32552                          19  \n",
       "32553                          28  \n",
       "32569                          23  \n",
       "32570                          23  \n",
       "\n",
       "[2472 rows x 12 columns]"
      ]
     },
     "execution_count": 282,
     "metadata": {},
     "output_type": "execute_result"
    }
   ],
   "source": [
    "data[(data['loan_int_rate'].isna()) & (data['loan_status'] == 0)]"
   ]
  },
  {
   "cell_type": "code",
   "execution_count": 283,
   "id": "f4a666cf-65fc-4be3-91c4-4b522eebfbab",
   "metadata": {},
   "outputs": [
    {
     "data": {
      "text/html": [
       "<div>\n",
       "<style scoped>\n",
       "    .dataframe tbody tr th:only-of-type {\n",
       "        vertical-align: middle;\n",
       "    }\n",
       "\n",
       "    .dataframe tbody tr th {\n",
       "        vertical-align: top;\n",
       "    }\n",
       "\n",
       "    .dataframe thead th {\n",
       "        text-align: right;\n",
       "    }\n",
       "</style>\n",
       "<table border=\"1\" class=\"dataframe\">\n",
       "  <thead>\n",
       "    <tr style=\"text-align: right;\">\n",
       "      <th></th>\n",
       "      <th>person_age</th>\n",
       "      <th>person_income</th>\n",
       "      <th>person_home_ownership</th>\n",
       "      <th>person_emp_length</th>\n",
       "      <th>loan_intent</th>\n",
       "      <th>loan_grade</th>\n",
       "      <th>loan_amnt</th>\n",
       "      <th>loan_int_rate</th>\n",
       "      <th>loan_status</th>\n",
       "      <th>loan_percent_income</th>\n",
       "      <th>cb_person_default_on_file</th>\n",
       "      <th>cb_person_cred_hist_length</th>\n",
       "    </tr>\n",
       "  </thead>\n",
       "  <tbody>\n",
       "    <tr>\n",
       "      <th>39</th>\n",
       "      <td>23</td>\n",
       "      <td>71500</td>\n",
       "      <td>RENT</td>\n",
       "      <td>3.0</td>\n",
       "      <td>DEBTCONSOLIDATION</td>\n",
       "      <td>D</td>\n",
       "      <td>30000</td>\n",
       "      <td>NaN</td>\n",
       "      <td>1</td>\n",
       "      <td>0.42</td>\n",
       "      <td>N</td>\n",
       "      <td>4</td>\n",
       "    </tr>\n",
       "    <tr>\n",
       "      <th>50</th>\n",
       "      <td>24</td>\n",
       "      <td>78000</td>\n",
       "      <td>RENT</td>\n",
       "      <td>4.0</td>\n",
       "      <td>DEBTCONSOLIDATION</td>\n",
       "      <td>D</td>\n",
       "      <td>30000</td>\n",
       "      <td>NaN</td>\n",
       "      <td>1</td>\n",
       "      <td>0.38</td>\n",
       "      <td>Y</td>\n",
       "      <td>4</td>\n",
       "    </tr>\n",
       "    <tr>\n",
       "      <th>62</th>\n",
       "      <td>26</td>\n",
       "      <td>263000</td>\n",
       "      <td>MORTGAGE</td>\n",
       "      <td>0.0</td>\n",
       "      <td>EDUCATION</td>\n",
       "      <td>B</td>\n",
       "      <td>10000</td>\n",
       "      <td>NaN</td>\n",
       "      <td>1</td>\n",
       "      <td>0.04</td>\n",
       "      <td>N</td>\n",
       "      <td>4</td>\n",
       "    </tr>\n",
       "    <tr>\n",
       "      <th>70</th>\n",
       "      <td>25</td>\n",
       "      <td>12000</td>\n",
       "      <td>OWN</td>\n",
       "      <td>0.0</td>\n",
       "      <td>MEDICAL</td>\n",
       "      <td>C</td>\n",
       "      <td>3000</td>\n",
       "      <td>NaN</td>\n",
       "      <td>1</td>\n",
       "      <td>0.25</td>\n",
       "      <td>N</td>\n",
       "      <td>3</td>\n",
       "    </tr>\n",
       "    <tr>\n",
       "      <th>71</th>\n",
       "      <td>22</td>\n",
       "      <td>56950</td>\n",
       "      <td>RENT</td>\n",
       "      <td>6.0</td>\n",
       "      <td>MEDICAL</td>\n",
       "      <td>A</td>\n",
       "      <td>28000</td>\n",
       "      <td>NaN</td>\n",
       "      <td>1</td>\n",
       "      <td>0.49</td>\n",
       "      <td>N</td>\n",
       "      <td>2</td>\n",
       "    </tr>\n",
       "    <tr>\n",
       "      <th>...</th>\n",
       "      <td>...</td>\n",
       "      <td>...</td>\n",
       "      <td>...</td>\n",
       "      <td>...</td>\n",
       "      <td>...</td>\n",
       "      <td>...</td>\n",
       "      <td>...</td>\n",
       "      <td>...</td>\n",
       "      <td>...</td>\n",
       "      <td>...</td>\n",
       "      <td>...</td>\n",
       "      <td>...</td>\n",
       "    </tr>\n",
       "    <tr>\n",
       "      <th>32309</th>\n",
       "      <td>66</td>\n",
       "      <td>60000</td>\n",
       "      <td>RENT</td>\n",
       "      <td>4.0</td>\n",
       "      <td>MEDICAL</td>\n",
       "      <td>C</td>\n",
       "      <td>27050</td>\n",
       "      <td>NaN</td>\n",
       "      <td>1</td>\n",
       "      <td>0.45</td>\n",
       "      <td>Y</td>\n",
       "      <td>28</td>\n",
       "    </tr>\n",
       "    <tr>\n",
       "      <th>32337</th>\n",
       "      <td>52</td>\n",
       "      <td>15000</td>\n",
       "      <td>RENT</td>\n",
       "      <td>3.0</td>\n",
       "      <td>PERSONAL</td>\n",
       "      <td>B</td>\n",
       "      <td>1200</td>\n",
       "      <td>NaN</td>\n",
       "      <td>1</td>\n",
       "      <td>0.08</td>\n",
       "      <td>N</td>\n",
       "      <td>20</td>\n",
       "    </tr>\n",
       "    <tr>\n",
       "      <th>32487</th>\n",
       "      <td>55</td>\n",
       "      <td>78000</td>\n",
       "      <td>MORTGAGE</td>\n",
       "      <td>2.0</td>\n",
       "      <td>DEBTCONSOLIDATION</td>\n",
       "      <td>D</td>\n",
       "      <td>8000</td>\n",
       "      <td>NaN</td>\n",
       "      <td>1</td>\n",
       "      <td>0.10</td>\n",
       "      <td>N</td>\n",
       "      <td>29</td>\n",
       "    </tr>\n",
       "    <tr>\n",
       "      <th>32535</th>\n",
       "      <td>65</td>\n",
       "      <td>133000</td>\n",
       "      <td>MORTGAGE</td>\n",
       "      <td>2.0</td>\n",
       "      <td>DEBTCONSOLIDATION</td>\n",
       "      <td>E</td>\n",
       "      <td>18000</td>\n",
       "      <td>NaN</td>\n",
       "      <td>1</td>\n",
       "      <td>0.14</td>\n",
       "      <td>N</td>\n",
       "      <td>25</td>\n",
       "    </tr>\n",
       "    <tr>\n",
       "      <th>32547</th>\n",
       "      <td>53</td>\n",
       "      <td>4888</td>\n",
       "      <td>OWN</td>\n",
       "      <td>0.0</td>\n",
       "      <td>VENTURE</td>\n",
       "      <td>C</td>\n",
       "      <td>1400</td>\n",
       "      <td>NaN</td>\n",
       "      <td>1</td>\n",
       "      <td>0.29</td>\n",
       "      <td>Y</td>\n",
       "      <td>28</td>\n",
       "    </tr>\n",
       "  </tbody>\n",
       "</table>\n",
       "<p>644 rows × 12 columns</p>\n",
       "</div>"
      ],
      "text/plain": [
       "       person_age  person_income person_home_ownership  person_emp_length  \\\n",
       "39             23          71500                  RENT                3.0   \n",
       "50             24          78000                  RENT                4.0   \n",
       "62             26         263000              MORTGAGE                0.0   \n",
       "70             25          12000                   OWN                0.0   \n",
       "71             22          56950                  RENT                6.0   \n",
       "...           ...            ...                   ...                ...   \n",
       "32309          66          60000                  RENT                4.0   \n",
       "32337          52          15000                  RENT                3.0   \n",
       "32487          55          78000              MORTGAGE                2.0   \n",
       "32535          65         133000              MORTGAGE                2.0   \n",
       "32547          53           4888                   OWN                0.0   \n",
       "\n",
       "             loan_intent loan_grade  loan_amnt  loan_int_rate  loan_status  \\\n",
       "39     DEBTCONSOLIDATION          D      30000            NaN            1   \n",
       "50     DEBTCONSOLIDATION          D      30000            NaN            1   \n",
       "62             EDUCATION          B      10000            NaN            1   \n",
       "70               MEDICAL          C       3000            NaN            1   \n",
       "71               MEDICAL          A      28000            NaN            1   \n",
       "...                  ...        ...        ...            ...          ...   \n",
       "32309            MEDICAL          C      27050            NaN            1   \n",
       "32337           PERSONAL          B       1200            NaN            1   \n",
       "32487  DEBTCONSOLIDATION          D       8000            NaN            1   \n",
       "32535  DEBTCONSOLIDATION          E      18000            NaN            1   \n",
       "32547            VENTURE          C       1400            NaN            1   \n",
       "\n",
       "       loan_percent_income cb_person_default_on_file  \\\n",
       "39                    0.42                         N   \n",
       "50                    0.38                         Y   \n",
       "62                    0.04                         N   \n",
       "70                    0.25                         N   \n",
       "71                    0.49                         N   \n",
       "...                    ...                       ...   \n",
       "32309                 0.45                         Y   \n",
       "32337                 0.08                         N   \n",
       "32487                 0.10                         N   \n",
       "32535                 0.14                         N   \n",
       "32547                 0.29                         Y   \n",
       "\n",
       "       cb_person_cred_hist_length  \n",
       "39                              4  \n",
       "50                              4  \n",
       "62                              4  \n",
       "70                              3  \n",
       "71                              2  \n",
       "...                           ...  \n",
       "32309                          28  \n",
       "32337                          20  \n",
       "32487                          29  \n",
       "32535                          25  \n",
       "32547                          28  \n",
       "\n",
       "[644 rows x 12 columns]"
      ]
     },
     "execution_count": 283,
     "metadata": {},
     "output_type": "execute_result"
    }
   ],
   "source": [
    "data[(data['loan_int_rate'].isna()) & (data['loan_status'] == 1)]"
   ]
  },
  {
   "cell_type": "code",
   "execution_count": 281,
   "id": "39018fe9-2511-4e13-9956-6b7b3cc98b70",
   "metadata": {},
   "outputs": [],
   "source": [
    "data[data['loan_int_rate'].isna()].to_csv('data-loan_int_rate-isna.csv')"
   ]
  },
  {
   "cell_type": "code",
   "execution_count": 284,
   "id": "e25055b5-2c81-497b-93db-e5c701d62eb6",
   "metadata": {},
   "outputs": [
    {
     "data": {
      "text/plain": [
       "(29465, 32581)"
      ]
     },
     "execution_count": 284,
     "metadata": {},
     "output_type": "execute_result"
    }
   ],
   "source": [
    "data_no_nan = data[data['loan_int_rate'].isna() == False]\n",
    "len(data_no_nan), len(data)"
   ]
  },
  {
   "cell_type": "code",
   "execution_count": 286,
   "id": "451da4e8-26ac-44ad-acb1-f9b89148dbfe",
   "metadata": {},
   "outputs": [
    {
     "data": {
      "text/plain": [
       "0.7941965043271678"
      ]
     },
     "execution_count": 286,
     "metadata": {},
     "output_type": "execute_result"
    }
   ],
   "source": [
    "x = data_no_nan['loan_int_rate'].to_numpy().reshape(-1, 1)\n",
    "y = data_no_nan['loan_status'].to_numpy()\n",
    "model = sklearn.linear_model.LogisticRegression()\n",
    "clf = model.fit(x, y)\n",
    "clf.score(x, y)"
   ]
  },
  {
   "cell_type": "code",
   "execution_count": 293,
   "id": "69d30c62-ce45-4b6f-9367-e5b58d4046f4",
   "metadata": {},
   "outputs": [
    {
     "data": {
      "image/png": "[encoded data removed]",
      "text/plain": [
       "<Figure size 640x480 with 2 Axes>"
      ]
     },
     "metadata": {},
     "output_type": "display_data"
    }
   ],
   "source": [
    "column = 'loan_int_rate'\n",
    "\n",
    "h_data_deny = data_loan_status_deny[column]\n",
    "h_data_approve = data_loan_status_approve[column]\n",
    "\n",
    "max_ = max(h_data_accept.max(), h_data_deny.max())\n",
    "\n",
    "plt.hist(\n",
    "    h_data_deny,\n",
    "    bins=numpy.linspace(0, max_, 100), #logspace(data_train_loan_status_deny[column]),\n",
    "    histtype='step',\n",
    "    density=True,\n",
    "    label='deny',\n",
    "    linewidth=2,\n",
    ")\n",
    "plt.hist(\n",
    "    h_data_approve,\n",
    "    bins=numpy.linspace(0, max_, 100), #logspace(data_train_loan_status_accept[column]),\n",
    "    histtype='step',\n",
    "    density=True,\n",
    "    label='approve',\n",
    "    linewidth=2,\n",
    ")\n",
    "plt.legend()\n",
    "plt.xlabel('loan interest rate')\n",
    "plt.yscale('log')\n",
    "_ = plt.twinx()\n",
    "_ = plt.plot(\n",
    "    numpy.linspace(5,25,100),\n",
    "    1-clf.predict_proba(numpy.linspace(5,25,100).reshape(-1,1))[:,1],\n",
    "    color='tab:green',\n",
    "    label='logistic',\n",
    ")\n",
    "plt.xlim(xmin=0, xmax=25)\n",
    "plt.ylim(ymin=0, ymax=1)\n",
    "None"
   ]
  },
  {
   "cell_type": "code",
   "execution_count": 295,
   "id": "554520ea-b4aa-4582-8edf-da3352258c1f",
   "metadata": {},
   "outputs": [
    {
     "data": {
      "text/plain": [
       "((39098, 1), (39098, 2))"
      ]
     },
     "execution_count": 295,
     "metadata": {},
     "output_type": "execute_result"
    }
   ],
   "source": [
    "x1 = data_test['loan_int_rate'].to_numpy().reshape(-1, 1)\n",
    "y1 = clf.predict_proba(x1)\n",
    "\n",
    "x1.shape, y1.shape"
   ]
  },
  {
   "cell_type": "code",
   "execution_count": 301,
   "id": "0c3eb35c-13b5-4116-a283-9d392ace184b",
   "metadata": {},
   "outputs": [
    {
     "data": {
      "text/html": [
       "<div>\n",
       "<style scoped>\n",
       "    .dataframe tbody tr th:only-of-type {\n",
       "        vertical-align: middle;\n",
       "    }\n",
       "\n",
       "    .dataframe tbody tr th {\n",
       "        vertical-align: top;\n",
       "    }\n",
       "\n",
       "    .dataframe thead th {\n",
       "        text-align: right;\n",
       "    }\n",
       "</style>\n",
       "<table border=\"1\" class=\"dataframe\">\n",
       "  <thead>\n",
       "    <tr style=\"text-align: right;\">\n",
       "      <th></th>\n",
       "      <th>id</th>\n",
       "      <th>loan_status</th>\n",
       "    </tr>\n",
       "  </thead>\n",
       "  <tbody>\n",
       "    <tr>\n",
       "      <th>0</th>\n",
       "      <td>58645</td>\n",
       "      <td>0.455159</td>\n",
       "    </tr>\n",
       "    <tr>\n",
       "      <th>1</th>\n",
       "      <td>58646</td>\n",
       "      <td>0.265795</td>\n",
       "    </tr>\n",
       "    <tr>\n",
       "      <th>2</th>\n",
       "      <td>58647</td>\n",
       "      <td>0.551912</td>\n",
       "    </tr>\n",
       "    <tr>\n",
       "      <th>3</th>\n",
       "      <td>58648</td>\n",
       "      <td>0.114829</td>\n",
       "    </tr>\n",
       "    <tr>\n",
       "      <th>4</th>\n",
       "      <td>58649</td>\n",
       "      <td>0.493049</td>\n",
       "    </tr>\n",
       "    <tr>\n",
       "      <th>...</th>\n",
       "      <td>...</td>\n",
       "      <td>...</td>\n",
       "    </tr>\n",
       "    <tr>\n",
       "      <th>39093</th>\n",
       "      <td>97738</td>\n",
       "      <td>0.162026</td>\n",
       "    </tr>\n",
       "    <tr>\n",
       "      <th>39094</th>\n",
       "      <td>97739</td>\n",
       "      <td>0.056171</td>\n",
       "    </tr>\n",
       "    <tr>\n",
       "      <th>39095</th>\n",
       "      <td>97740</td>\n",
       "      <td>0.081682</td>\n",
       "    </tr>\n",
       "    <tr>\n",
       "      <th>39096</th>\n",
       "      <td>97741</td>\n",
       "      <td>0.445750</td>\n",
       "    </tr>\n",
       "    <tr>\n",
       "      <th>39097</th>\n",
       "      <td>97742</td>\n",
       "      <td>0.145777</td>\n",
       "    </tr>\n",
       "  </tbody>\n",
       "</table>\n",
       "<p>39098 rows × 2 columns</p>\n",
       "</div>"
      ],
      "text/plain": [
       "          id  loan_status\n",
       "0      58645     0.455159\n",
       "1      58646     0.265795\n",
       "2      58647     0.551912\n",
       "3      58648     0.114829\n",
       "4      58649     0.493049\n",
       "...      ...          ...\n",
       "39093  97738     0.162026\n",
       "39094  97739     0.056171\n",
       "39095  97740     0.081682\n",
       "39096  97741     0.445750\n",
       "39097  97742     0.145777\n",
       "\n",
       "[39098 rows x 2 columns]"
      ]
     },
     "execution_count": 301,
     "metadata": {},
     "output_type": "execute_result"
    }
   ],
   "source": [
    "data_test_predict = pandas.DataFrame(\n",
    "    {\n",
    "        'id': data_test['id'],\n",
    "        'loan_status': y1[:,1],\n",
    "    }\n",
    ")\n",
    "data_test_predict"
   ]
  },
  {
   "cell_type": "code",
   "execution_count": 302,
   "id": "76edd9a2-596c-4443-88b8-c0fc02b20e27",
   "metadata": {},
   "outputs": [],
   "source": [
    "data_test_predict.to_csv(\n",
    "    'data_test_predict_original_1-logistic-loan_interest_rate.csv',\n",
    "    index=False,\n",
    ")"
   ]
  },
  {
   "cell_type": "markdown",
   "id": "3ba159ec-e29e-4f8f-9dc5-4d2e2781990b",
   "metadata": {},
   "source": [
    "# Combine Loan Interest Rate and Loan Percent Income"
   ]
  },
  {
   "cell_type": "code",
   "execution_count": null,
   "id": "40c5d80a-8bbf-4c8b-8638-83a6f083e62f",
   "metadata": {},
   "outputs": [],
   "source": [
    "data_no_nan_loan_status_approve = data_no_nan[data_no_nan['loan_status'] == 0]\n",
    "data_no_nan_loan_status_deny = data_no_nan[data_no_nan['loan_status'] == 1]"
   ]
  },
  {
   "cell_type": "code",
   "execution_count": 337,
   "id": "5ca5e1c5-06cb-4022-8e6e-40db82cddc44",
   "metadata": {},
   "outputs": [
    {
     "data": {
      "image/png": "[encoded data removed]",
      "text/plain": [
       "<Figure size 640x480 with 2 Axes>"
      ]
     },
     "metadata": {},
     "output_type": "display_data"
    }
   ],
   "source": [
    "bins_x = numpy.linspace(0, 1, 25)\n",
    "bins_y = numpy.linspace(0, 25, 25)\n",
    "\n",
    "h_approve, h_x_edge, h_y_edge, _ = plt.hist2d(\n",
    "    data_no_nan_loan_status_approve['loan_percent_income'],\n",
    "    data_no_nan_loan_status_approve['loan_int_rate'],\n",
    "    bins=[bins_x, bins_y],\n",
    "    label='approve',\n",
    "    density=True,\n",
    ")\n",
    "plt.xlim(xmin=0, xmax=1)\n",
    "plt.ylim(ymin=0, ymax=25)\n",
    "plt.xlabel('loan_percent_income')\n",
    "plt.ylabel('loan_int_rate')\n",
    "plt.colorbar()\n",
    "None"
   ]
  },
  {
   "cell_type": "code",
   "execution_count": 335,
   "id": "e491f6b1-1d7e-434a-8f35-f2b2ed268c59",
   "metadata": {},
   "outputs": [
    {
     "data": {
      "image/png": "[encoded data removed]",
      "text/plain": [
       "<Figure size 640x480 with 2 Axes>"
      ]
     },
     "metadata": {},
     "output_type": "display_data"
    }
   ],
   "source": [
    "bins_x = numpy.linspace(0, 1, 25)\n",
    "bins_y = numpy.linspace(0, 25, 25)\n",
    "\n",
    "h_deny, _,_,_ = plt.hist2d(\n",
    "    data_no_nan_loan_status_deny['loan_percent_income'],\n",
    "    data_no_nan_loan_status_deny['loan_int_rate'],\n",
    "    bins=[bins_x, bins_y],\n",
    "    label='deny',\n",
    "    density=True,\n",
    ")\n",
    "plt.xlim(xmin=0, xmax=1)\n",
    "plt.ylim(ymin=0, ymax=25)\n",
    "plt.xlabel('loan_percent_income')\n",
    "plt.ylabel('loan_int_rate')\n",
    "plt.colorbar()\n",
    "None"
   ]
  },
  {
   "cell_type": "code",
   "execution_count": 416,
   "id": "86745c7f-81cc-46c8-bd0b-e1e0a08e28bf",
   "metadata": {},
   "outputs": [
    {
     "data": {
      "image/png": "[encoded data removed]",
      "text/plain": [
       "<Figure size 640x480 with 2 Axes>"
      ]
     },
     "metadata": {},
     "output_type": "display_data"
    }
   ],
   "source": [
    "h_diff = h_approve - h_deny\n",
    "\n",
    "plt.imshow(\n",
    "    h_diff.T,\n",
    "    origin='lower',\n",
    "    aspect='auto',\n",
    "    extent=[h_x_edge[0], h_x_edge[-1], h_y_edge[0], h_y_edge[-1]],\n",
    ")\n",
    "plt.xlabel('loan_percent_income')\n",
    "plt.ylabel('loan_int_rate')\n",
    "plt.xlim(xmin=0, xmax=1)\n",
    "plt.ylim(ymin=0, ymax=25)\n",
    "plt.colorbar()\n",
    "None"
   ]
  },
  {
   "cell_type": "code",
   "execution_count": 401,
   "id": "002130ab-b751-4798-ad0d-e5b10537045f",
   "metadata": {},
   "outputs": [
    {
     "data": {
      "text/plain": [
       "(24, 24)"
      ]
     },
     "execution_count": 401,
     "metadata": {},
     "output_type": "execute_result"
    }
   ],
   "source": [
    "h_diff.shape"
   ]
  },
  {
   "cell_type": "code",
   "execution_count": 424,
   "id": "07d4b993-2829-44c8-b5a1-fd2052c3ea52",
   "metadata": {},
   "outputs": [
    {
     "data": {
      "text/plain": [
       "0.8207704055659256"
      ]
     },
     "execution_count": 424,
     "metadata": {},
     "output_type": "execute_result"
    }
   ],
   "source": [
    "x = numpy.concat(\n",
    "    [\n",
    "        data_no_nan['loan_percent_income'].to_numpy().reshape(-1, 1),\n",
    "        data_no_nan['loan_int_rate'].to_numpy().reshape(-1, 1),\n",
    "    ],\n",
    "    axis=1,\n",
    ")\n",
    "\n",
    "y = data_no_nan['loan_status'].to_numpy()\n",
    "\n",
    "model = sklearn.linear_model.LogisticRegression()\n",
    "clf = model.fit(x, y)\n",
    "clf.score(x, y)"
   ]
  },
  {
   "cell_type": "code",
   "execution_count": 362,
   "id": "82ba7a75-74cd-42bf-a878-fc4fa154c1e0",
   "metadata": {},
   "outputs": [],
   "source": [
    "#bins_x = numpy.linspace(0, 1, 25)\n",
    "#bins_y = numpy.linspace(0, 25, 25)\n",
    "#bins_xy = numpy.concatenate([bins_x, bins_y], axis=1)\n",
    "\n",
    "xv, yv = numpy.meshgrid(\n",
    "    numpy.linspace(0, 1, 25),\n",
    "    numpy.linspace(0, 25, 25),\n",
    ")"
   ]
  },
  {
   "cell_type": "code",
   "execution_count": 383,
   "id": "9d26e2ab-87cd-4741-890c-87895f968c17",
   "metadata": {},
   "outputs": [
    {
     "data": {
      "text/plain": [
       "(array([[0., 1., 2., 3., 4.],\n",
       "        [0., 1., 2., 3., 4.],\n",
       "        [0., 1., 2., 3., 4.]]),\n",
       " array([[0. , 0. , 0. , 0. , 0. ],\n",
       "        [0.5, 0.5, 0.5, 0.5, 0.5],\n",
       "        [1. , 1. , 1. , 1. , 1. ]]))"
      ]
     },
     "execution_count": 383,
     "metadata": {},
     "output_type": "execute_result"
    }
   ],
   "source": [
    "numpy.meshgrid(numpy.linspace(0,4,5), numpy.linspace(0,1,3))"
   ]
  },
  {
   "cell_type": "code",
   "execution_count": 385,
   "id": "7f22b313-9eb2-49ce-a394-dbc7b5282b8d",
   "metadata": {},
   "outputs": [
    {
     "data": {
      "text/plain": [
       "array([[0.],\n",
       "       [1.],\n",
       "       [2.],\n",
       "       [3.],\n",
       "       [4.],\n",
       "       [0.],\n",
       "       [1.],\n",
       "       [2.],\n",
       "       [3.],\n",
       "       [4.],\n",
       "       [0.],\n",
       "       [1.],\n",
       "       [2.],\n",
       "       [3.],\n",
       "       [4.]])"
      ]
     },
     "execution_count": 385,
     "metadata": {},
     "output_type": "execute_result"
    }
   ],
   "source": [
    "numpy.meshgrid(numpy.linspace(0,4,5), numpy.linspace(0,1,3))[0].ravel().reshape(-1,1)"
   ]
  },
  {
   "cell_type": "code",
   "execution_count": 372,
   "id": "87a738e0-01cf-47e2-84d5-1901ef8c7171",
   "metadata": {},
   "outputs": [
    {
     "data": {
      "text/plain": [
       "(625, 2)"
      ]
     },
     "execution_count": 372,
     "metadata": {},
     "output_type": "execute_result"
    }
   ],
   "source": [
    "bins_xy = numpy.concatenate(\n",
    "    [xv.ravel().reshape(-1,1), yv.ravel().reshape(-1,1)],\n",
    "    axis=1,\n",
    ")\n",
    "bins_xy.shape"
   ]
  },
  {
   "cell_type": "code",
   "execution_count": 400,
   "id": "9088e060-1f2c-4676-bdf1-201fc19f59b4",
   "metadata": {},
   "outputs": [
    {
     "data": {
      "text/plain": [
       "(25, 25)"
      ]
     },
     "execution_count": 400,
     "metadata": {},
     "output_type": "execute_result"
    }
   ],
   "source": [
    "model_predict = clf.predict_proba(\n",
    "    bins_xy\n",
    ")[:,1].reshape(xv.shape)\n",
    "model_predict.shape"
   ]
  },
  {
   "cell_type": "code",
   "execution_count": 386,
   "id": "2d282944-b8b1-4bdb-878c-0b1c18ebb708",
   "metadata": {},
   "outputs": [
    {
     "data": {
      "text/plain": [
       "(25, 25)"
      ]
     },
     "execution_count": 386,
     "metadata": {},
     "output_type": "execute_result"
    }
   ],
   "source": [
    "xv.shape"
   ]
  },
  {
   "cell_type": "code",
   "execution_count": 387,
   "id": "36da0ef3-a797-44e6-b557-38774223cacf",
   "metadata": {},
   "outputs": [
    {
     "data": {
      "text/plain": [
       "(25, 25)"
      ]
     },
     "execution_count": 387,
     "metadata": {},
     "output_type": "execute_result"
    }
   ],
   "source": [
    "yv.shape"
   ]
  },
  {
   "cell_type": "code",
   "execution_count": 391,
   "id": "85b094f7-b769-44cb-b15e-2315bf0c5a27",
   "metadata": {},
   "outputs": [
    {
     "data": {
      "text/plain": [
       "numpy.ndarray"
      ]
     },
     "execution_count": 391,
     "metadata": {},
     "output_type": "execute_result"
    }
   ],
   "source": [
    "type(model_predict)"
   ]
  },
  {
   "cell_type": "code",
   "execution_count": 390,
   "id": "f48cb276-1477-49f7-9222-c9ffec6a290c",
   "metadata": {},
   "outputs": [
    {
     "data": {
      "text/plain": [
       "numpy.ndarray"
      ]
     },
     "execution_count": 390,
     "metadata": {},
     "output_type": "execute_result"
    }
   ],
   "source": [
    "type(xv)"
   ]
  },
  {
   "cell_type": "code",
   "execution_count": 389,
   "id": "05ba2dc2-5370-435a-ab25-abf463a365cd",
   "metadata": {},
   "outputs": [
    {
     "data": {
      "text/plain": [
       "numpy.ndarray"
      ]
     },
     "execution_count": 389,
     "metadata": {},
     "output_type": "execute_result"
    }
   ],
   "source": [
    "type(yv)"
   ]
  },
  {
   "cell_type": "code",
   "execution_count": 405,
   "id": "35a5cbe0-f49a-40ef-9c60-ab45d6ea3d1f",
   "metadata": {
    "scrolled": true
   },
   "outputs": [
    {
     "data": {
      "text/plain": [
       "array([[0.00200267, 0.00283688, 0.00401717, 0.00568573, 0.00804174,\n",
       "        0.01136286, 0.01603338, 0.0225798 , 0.03171298, 0.04437268,\n",
       "        0.06176372, 0.085362  , 0.11685362, 0.1579567 , 0.21007853,\n",
       "        0.27380672, 0.34834195, 0.4311215 , 0.51793766, 0.6036842 ,\n",
       "        0.68349888, 0.75379513, 0.81275549, 0.86021459, 0.89716664],\n",
       "       [0.00268598, 0.00380374, 0.00538413, 0.00761612, 0.01076337,\n",
       "        0.01519127, 0.02140134, 0.03007251, 0.04210582, 0.05866295,\n",
       "        0.08117902, 0.11131527, 0.15080288, 0.20112798, 0.26304514,\n",
       "        0.33600634, 0.41773359, 0.50424345, 0.59049997, 0.6715251 ,\n",
       "        0.7434827 , 0.8042714 , 0.85349325, 0.891999  , 0.92131743],\n",
       "       [0.00360161, 0.00509844, 0.00721286, 0.01019519, 0.01439274,\n",
       "        0.02028311, 0.02851441, 0.03994993, 0.05570861, 0.07718371,\n",
       "        0.10600789, 0.14391769, 0.19246585, 0.25255943, 0.32389044,\n",
       "        0.40446585, 0.49054287, 0.57718433, 0.65932412, 0.73289138,\n",
       "        0.79549962, 0.8465064 , 0.8866045 , 0.91725149, 0.94017453],\n",
       "       [0.00482784, 0.00683081, 0.0096567 , 0.01363561, 0.01922215,\n",
       "        0.02703478, 0.03790005, 0.05289469, 0.07336933, 0.10092483,\n",
       "        0.13729603, 0.18409082, 0.24235424, 0.31200614, 0.39133628,\n",
       "        0.47685648, 0.56375558, 0.64690824, 0.72202627, 0.7864391 ,\n",
       "        0.83924911, 0.88097651, 0.91299529, 0.93701643, 0.95473437],\n",
       "       [0.00646886, 0.0091464 , 0.01291779, 0.01821566, 0.0256299 ,\n",
       "        0.03595142, 0.05021534, 0.06972922, 0.09605932, 0.13093243,\n",
       "        0.17600079, 0.23243319, 0.30036417, 0.37836214, 0.46320476,\n",
       "        0.55023268, 0.63429085, 0.71089353, 0.77708965, 0.8317169 ,\n",
       "        0.87510853, 0.90854199, 0.93370336, 0.95230587, 0.96587936],\n",
       "       [0.00866282, 0.01223728, 0.01726095, 0.02429621, 0.03409943,\n",
       "        0.04766489, 0.06625679, 0.09140451, 0.12482111, 0.168193  ,\n",
       "        0.22279883, 0.28897415, 0.3655598 , 0.44960797, 0.53663513,\n",
       "        0.6214864 , 0.6995005 , 0.76745191, 0.82390581, 0.86899428,\n",
       "        0.90388476, 0.930229  , 0.94975394, 0.96402625, 0.97435401],\n",
       "       [0.0115922 , 0.01635544, 0.02303028, 0.03233964, 0.04523781,\n",
       "        0.06294558, 0.08695358, 0.11895599, 0.16066404, 0.21345277,\n",
       "        0.27784452, 0.35294469, 0.43608607, 0.52298289, 0.60851033,\n",
       "        0.68785563, 0.7575275 , 0.81581245, 0.86262769, 0.89901672,\n",
       "        0.92658688, 0.94707305, 0.96207646, 0.97294828, 0.9807657 ],\n",
       "       [0.01549668, 0.02182883, 0.03066778, 0.04292874, 0.05978926,\n",
       "        0.08269965, 0.11333078, 0.15340995, 0.20439565, 0.26698258,\n",
       "        0.34053126, 0.42265854, 0.50929621, 0.59537904, 0.67596854,\n",
       "        0.747319  , 0.80743405, 0.85600296, 0.89393107, 0.92277042,\n",
       "        0.94425751, 0.96002537, 0.97146775, 0.97970409, 0.98559812],\n",
       "       [0.02068873, 0.02907976, 0.0407325 , 0.05678162, 0.07863591,\n",
       "        0.10793898, 0.14642625, 0.19562726, 0.25639452, 0.32833288,\n",
       "        0.40934434, 0.49559559, 0.58210978, 0.66384999, 0.73683001,\n",
       "        0.79876854, 0.84911464, 0.88862102, 0.91877294, 0.94130148,\n",
       "        0.9578682 , 0.9699087 , 0.97858517, 0.98479909, 0.98922977],\n",
       "       [0.02757162, 0.03864409, 0.05391659, 0.07475558, 0.10277397,\n",
       "        0.139708  , 0.18714654, 0.24608539, 0.31636184, 0.39616176,\n",
       "        0.48190157, 0.56872057, 0.65151186, 0.72606522, 0.78981459,\n",
       "        0.84195764, 0.88307991, 0.91458771, 0.93819896, 0.95560001,\n",
       "        0.96826724, 0.97740598, 0.98395646, 0.98862991, 0.99195313],\n",
       "       [0.03665866, 0.05118828, 0.07105196, 0.09782901, 0.13324988,\n",
       "        0.17895168, 0.23605918, 0.30462932, 0.38312834, 0.46823469,\n",
       "        0.55523016, 0.63896717, 0.7150304 , 0.78057168, 0.83452732,\n",
       "        0.87730119, 0.91020791, 0.93494378, 0.95321567, 0.96653933,\n",
       "        0.97616344, 0.98306792, 0.98799704, 0.99150364, 0.99399204],\n",
       "       [0.04859094, 0.06751844, 0.09309728, 0.1270462 , 0.17104015,\n",
       "        0.22631885, 0.29314532, 0.37026078, 0.4546153 , 0.54165784,\n",
       "        0.62622997, 0.70373245, 0.77104014, 0.82681951, 0.8712785 ,\n",
       "        0.90562669, 0.93152965, 0.9507099 , 0.96472076, 0.97485433,\n",
       "        0.98213106, 0.9873294 , 0.99102928, 0.99365571, 0.99551666],\n",
       "       [0.06414852, 0.08857195, 0.121091  , 0.16340878, 0.21686632,\n",
       "        0.28191874, 0.35757488, 0.44106348, 0.52802343, 0.61331534,\n",
       "        0.69217941, 0.76122122, 0.81883062, 0.86500567, 0.9008372 ,\n",
       "        0.92795017, 0.94807722, 0.96280716, 0.97347528, 0.98114336,\n",
       "        0.98662512, 0.99052868, 0.99330069, 0.99526528, 0.99665569],\n",
       "       [0.08424615, 0.11537805, 0.1560538 , 0.20770261, 0.27095729,\n",
       "        0.34508545, 0.42759891, 0.51434708, 0.60023934, 0.68038047,\n",
       "        0.75111713, 0.81055764, 0.8584768 , 0.89583261, 0.92419878,\n",
       "        0.94531202, 0.96079398, 0.97202276, 0.98010217, 0.98588226,\n",
       "        0.99000043, 0.99292594, 0.99499988, 0.99646795, 0.99750607],\n",
       "       [0.10990092, 0.14897093, 0.19882781, 0.26026756, 0.33280626,\n",
       "        0.41424074, 0.5006492 , 0.5870189 , 0.66834597, 0.74073111,\n",
       "        0.80199822, 0.85168632, 0.8906061 , 0.92026885, 0.94240851,\n",
       "        0.9586765 , 0.97049312, 0.97900473, 0.98509876, 0.98944303,\n",
       "        0.99253039, 0.99471967, 0.99626971, 0.99736593, 0.99814061],\n",
       "       [0.14215537, 0.19024115, 0.24985503, 0.32075001, 0.40100753,\n",
       "        0.48695036, 0.57367179, 0.65608738, 0.73006744, 0.79315077,\n",
       "        0.84462898, 0.88515099, 0.91615366, 0.93936072, 0.95644984,\n",
       "        0.96888251, 0.97784812, 0.98427247, 0.98885491, 0.99211289,\n",
       "        0.99442385, 0.99606038, 0.99721795, 0.99803607, 0.99861393],\n",
       "       [0.18194111, 0.23972408, 0.30892828, 0.3879171 , 0.47327109,\n",
       "        0.56021649, 0.64361729, 0.71913147, 0.78401444, 0.83729998,\n",
       "        0.87946066, 0.91184642, 0.93616257, 0.95410895, 0.96718697,\n",
       "        0.97662931, 0.98340114, 0.98823442, 0.99167225, 0.99411156,\n",
       "        0.99583936, 0.99706168, 0.99792566, 0.99853596, 0.99896689],\n",
       "       [0.22987802, 0.29735153, 0.37498648, 0.45963183, 0.5466721 ,\n",
       "        0.63094939, 0.7079297 , 0.77458926, 0.82969497, 0.87352868,\n",
       "        0.90734029, 0.93280781, 0.9516486 , 0.96540234, 0.97534514,\n",
       "        0.98248239, 0.98757981, 0.99120722, 0.99378188, 0.99560599,\n",
       "        0.99689666, 0.99780905, 0.99845361, 0.99890875, 0.99923004],\n",
       "       [0.28602904, 0.3622318 , 0.44605277, 0.53305826, 0.61809839,\n",
       "        0.69646973, 0.76487613, 0.82181014, 0.86734881, 0.90262842,\n",
       "        0.92929007, 0.94906337, 0.96352431, 0.97399228, 0.98151374,\n",
       "        0.98688927, 0.99071646, 0.99343388, 0.99535959, 0.9967224 ,\n",
       "        0.9976859 , 0.99836663, 0.99884735, 0.9991867 , 0.9994262 ],\n",
       "       [0.34966824, 0.43255376, 0.51939501, 0.60507998, 0.68476035,\n",
       "        0.7548769 , 0.81364225, 0.86091505, 0.89770395, 0.92560286,\n",
       "        0.94634772, 0.9615484 , 0.97256728, 0.9804926 , 0.98616087,\n",
       "        0.99019858, 0.99306652, 0.99509945, 0.99653839, 0.99755585,\n",
       "        0.99827477, 0.99878249, 0.99914092, 0.99939389, 0.9995724 ],\n",
       "       [0.41915415, 0.50570269, 0.59191079, 0.67281145, 0.74459443,\n",
       "        0.80518871, 0.85422169, 0.89256009, 0.92173956, 0.9434959 ,\n",
       "        0.95946995, 0.97106652, 0.97941623, 0.98539261, 0.98965211,\n",
       "        0.99267877, 0.99482479, 0.99634408, 0.99741851, 0.99817776,\n",
       "        0.99871399, 0.99909256, 0.99935977, 0.99954833, 0.99968137],\n",
       "       [0.49200181, 0.57860829, 0.66063411, 0.7340326 , 0.79644763,\n",
       "        0.84726336, 0.88719007, 0.91769349, 0.94050203, 0.95728414,\n",
       "        0.96948624, 0.97828179, 0.98458236, 0.98907551, 0.99226951,\n",
       "        0.99453483, 0.99613892, 0.99727348, 0.99807529, 0.99864163,\n",
       "        0.99904149, 0.99932372, 0.99952289, 0.99966342, 0.99976257],\n",
       "       [0.5651907 , 0.64824049, 0.72319637, 0.7874179 , 0.84003509,\n",
       "        0.88158725, 0.91345788, 0.93736006, 0.95498598, 0.9678225 ,\n",
       "        0.97708629, 0.98372791, 0.98846715, 0.99183755, 0.99422872,\n",
       "        0.99592228, 0.99712031, 0.99796708, 0.99856522, 0.99898755,\n",
       "        0.99928565, 0.99949603, 0.99964447, 0.9997492 , 0.99982308],\n",
       "       [0.6356439 , 0.71209181, 0.7780992 , 0.83253236, 0.87574514,\n",
       "        0.9090259 , 0.9340638 , 0.95257031, 0.96607122, 0.97582661,\n",
       "        0.98282693, 0.98782534, 0.99138166, 0.99390556, 0.99569354,\n",
       "        0.99695857, 0.9978528 , 0.99848451, 0.99893057, 0.99924544,\n",
       "        0.99946765, 0.99962445, 0.99973507, 0.99981312, 0.99986818],\n",
       "       [0.70072611, 0.76849211, 0.82475115, 0.86965742, 0.90439071,\n",
       "        0.93060692, 0.95003178, 0.96422815, 0.97449948, 0.98187699,\n",
       "        0.98714827, 0.99090055, 0.99356443, 0.99545203, 0.99678778,\n",
       "        0.99773211, 0.99839927, 0.99887039, 0.99920296, 0.99943767,\n",
       "        0.9996033 , 0.99972015, 0.99980259, 0.99986075, 0.99990178]])"
      ]
     },
     "execution_count": 405,
     "metadata": {},
     "output_type": "execute_result"
    }
   ],
   "source": [
    "model_predict"
   ]
  },
  {
   "cell_type": "code",
   "execution_count": 409,
   "id": "21cec242-733b-44b5-abd4-e99675943617",
   "metadata": {},
   "outputs": [
    {
     "data": {
      "text/plain": [
       "(625, 2)"
      ]
     },
     "execution_count": 409,
     "metadata": {},
     "output_type": "execute_result"
    }
   ],
   "source": [
    "bins_xy.shape"
   ]
  },
  {
   "cell_type": "code",
   "execution_count": 414,
   "id": "ed6c64d4-ba06-4e3d-893a-3709752524b5",
   "metadata": {},
   "outputs": [
    {
     "data": {
      "image/png": "[encoded data removed]",
      "text/plain": [
       "<Figure size 640x480 with 2 Axes>"
      ]
     },
     "metadata": {},
     "output_type": "display_data"
    }
   ],
   "source": [
    "plt.imshow(\n",
    "    model_predict.T,\n",
    "    origin='lower',\n",
    "    aspect='auto',\n",
    "    extent=[0, 1, 0, 25],\n",
    "    label='logistic',\n",
    ")\n",
    "plt.xlabel('loan_percent_income')\n",
    "plt.ylabel('loan_int_rate')\n",
    "plt.colorbar()\n",
    "None"
   ]
  },
  {
   "cell_type": "code",
   "execution_count": 417,
   "id": "efbc5ca8-cd81-480d-846f-eb3ad987f240",
   "metadata": {},
   "outputs": [],
   "source": [
    "data_test_no_nan = data_test[data_test['loan_int_rate'].isna() == False]"
   ]
  },
  {
   "cell_type": "code",
   "execution_count": 420,
   "id": "b2102a98-d917-4abe-964c-4aa62e06cc4e",
   "metadata": {},
   "outputs": [],
   "source": [
    "x1 = numpy.concat(\n",
    "    [\n",
    "        data_test_no_nan['loan_percent_income'].to_numpy().reshape(-1, 1),\n",
    "        data_test_no_nan['loan_int_rate'].to_numpy().reshape(-1, 1),\n",
    "    ],\n",
    "    axis=1,\n",
    ")\n",
    "\n",
    "y1 = model.predict_proba(x1)"
   ]
  },
  {
   "cell_type": "code",
   "execution_count": 421,
   "id": "72a262c4-f218-4112-9749-2734e074ae6a",
   "metadata": {},
   "outputs": [
    {
     "data": {
      "text/html": [
       "<div>\n",
       "<style scoped>\n",
       "    .dataframe tbody tr th:only-of-type {\n",
       "        vertical-align: middle;\n",
       "    }\n",
       "\n",
       "    .dataframe tbody tr th {\n",
       "        vertical-align: top;\n",
       "    }\n",
       "\n",
       "    .dataframe thead th {\n",
       "        text-align: right;\n",
       "    }\n",
       "</style>\n",
       "<table border=\"1\" class=\"dataframe\">\n",
       "  <thead>\n",
       "    <tr style=\"text-align: right;\">\n",
       "      <th></th>\n",
       "      <th>id</th>\n",
       "      <th>loan_status</th>\n",
       "    </tr>\n",
       "  </thead>\n",
       "  <tbody>\n",
       "    <tr>\n",
       "      <th>0</th>\n",
       "      <td>58645</td>\n",
       "      <td>0.778423</td>\n",
       "    </tr>\n",
       "    <tr>\n",
       "      <th>1</th>\n",
       "      <td>58646</td>\n",
       "      <td>0.142868</td>\n",
       "    </tr>\n",
       "    <tr>\n",
       "      <th>2</th>\n",
       "      <td>58647</td>\n",
       "      <td>0.433802</td>\n",
       "    </tr>\n",
       "    <tr>\n",
       "      <th>3</th>\n",
       "      <td>58648</td>\n",
       "      <td>0.074169</td>\n",
       "    </tr>\n",
       "    <tr>\n",
       "      <th>4</th>\n",
       "      <td>58649</td>\n",
       "      <td>0.414700</td>\n",
       "    </tr>\n",
       "    <tr>\n",
       "      <th>...</th>\n",
       "      <td>...</td>\n",
       "      <td>...</td>\n",
       "    </tr>\n",
       "    <tr>\n",
       "      <th>39093</th>\n",
       "      <td>97738</td>\n",
       "      <td>0.079864</td>\n",
       "    </tr>\n",
       "    <tr>\n",
       "      <th>39094</th>\n",
       "      <td>97739</td>\n",
       "      <td>0.037280</td>\n",
       "    </tr>\n",
       "    <tr>\n",
       "      <th>39095</th>\n",
       "      <td>97740</td>\n",
       "      <td>0.119678</td>\n",
       "    </tr>\n",
       "    <tr>\n",
       "      <th>39096</th>\n",
       "      <td>97741</td>\n",
       "      <td>0.812795</td>\n",
       "    </tr>\n",
       "    <tr>\n",
       "      <th>39097</th>\n",
       "      <td>97742</td>\n",
       "      <td>0.568118</td>\n",
       "    </tr>\n",
       "  </tbody>\n",
       "</table>\n",
       "<p>39098 rows × 2 columns</p>\n",
       "</div>"
      ],
      "text/plain": [
       "          id  loan_status\n",
       "0      58645     0.778423\n",
       "1      58646     0.142868\n",
       "2      58647     0.433802\n",
       "3      58648     0.074169\n",
       "4      58649     0.414700\n",
       "...      ...          ...\n",
       "39093  97738     0.079864\n",
       "39094  97739     0.037280\n",
       "39095  97740     0.119678\n",
       "39096  97741     0.812795\n",
       "39097  97742     0.568118\n",
       "\n",
       "[39098 rows x 2 columns]"
      ]
     },
     "execution_count": 421,
     "metadata": {},
     "output_type": "execute_result"
    }
   ],
   "source": [
    "data_test_predict_loan_int_rate_percent_income = pandas.DataFrame(\n",
    "    {\n",
    "        'id': data_test_no_nan['id'],\n",
    "        'loan_status': y1[:,1],\n",
    "    }\n",
    ")\n",
    "data_test_predict_loan_int_rate_percent_income"
   ]
  },
  {
   "cell_type": "code",
   "execution_count": 423,
   "id": "10994c2a-dba7-4140-8b8c-c17366fdeb1c",
   "metadata": {},
   "outputs": [],
   "source": [
    "data_test_predict_loan_int_rate_percent_income.to_csv(\n",
    "    'data_test_predict_original_1-logistic-loan_int_rate_percent_income.csv',\n",
    "    index=False,\n",
    ")"
   ]
  },
  {
   "cell_type": "code",
   "execution_count": 427,
   "id": "91a3409e-6a17-4b43-878b-ce72073aaf28",
   "metadata": {},
   "outputs": [
    {
     "data": {
      "text/plain": [
       "0.4059149325499157"
      ]
     },
     "execution_count": 427,
     "metadata": {},
     "output_type": "execute_result"
    }
   ],
   "source": [
    "y_prob = clf.predict_proba(x)\n",
    "\n",
    "y_prob\n",
    "\n",
    "log_loss(\n",
    "    y,\n",
    "    y_prob,\n",
    ")"
   ]
  },
  {
   "cell_type": "code",
   "execution_count": null,
   "id": "76efbba8-ce32-4467-8332-288680ad19ce",
   "metadata": {},
   "outputs": [],
   "source": []
  }
 ],
 "metadata": {
  "kernelspec": {
   "display_name": "Python 3 (ipykernel)",
   "language": "python",
   "name": "python3"
  },
  "language_info": {
   "codemirror_mode": {
    "name": "ipython",
    "version": 3
   },
   "file_extension": ".py",
   "mimetype": "text/x-python",
   "name": "python",
   "nbconvert_exporter": "python",
   "pygments_lexer": "ipython3",
   "version": "3.12.7"
  }
 },
 "nbformat": 4,
 "nbformat_minor": 5
}
