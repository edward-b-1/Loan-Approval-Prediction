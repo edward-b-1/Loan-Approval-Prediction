{
 "cells": [
  {
   "cell_type": "code",
   "execution_count": 1,
   "id": "246a3a4f-1a95-423b-beb7-fe9b4c92d183",
   "metadata": {},
   "outputs": [],
   "source": [
    "%load_ext autoreload\n",
    "%autoreload 2"
   ]
  },
  {
   "cell_type": "code",
   "execution_count": 196,
   "id": "a4fa5ade-4486-411e-a497-d3a08a6b8527",
   "metadata": {},
   "outputs": [],
   "source": [
    "import pandas\n",
    "import numpy\n",
    "import matplotlib.pyplot as plt\n",
    "import itertools\n",
    "import sklearn"
   ]
  },
  {
   "cell_type": "code",
   "execution_count": 3,
   "id": "7306be46-86d9-41be-8338-f80a2eb0ea77",
   "metadata": {},
   "outputs": [],
   "source": [
    "import loan_approval_lib\n",
    "from loan_approval_lib import logspace, linspace"
   ]
  },
  {
   "cell_type": "code",
   "execution_count": 4,
   "id": "6ccc0d14-dc58-4999-8eff-8e39f874baed",
   "metadata": {},
   "outputs": [],
   "source": [
    "data = loan_approval_lib.load_original_data()"
   ]
  },
  {
   "cell_type": "code",
   "execution_count": 5,
   "id": "985d21cb-0701-43ec-b2d9-a129d94f3e66",
   "metadata": {},
   "outputs": [
    {
     "data": {
      "text/html": [
       "<div>\n",
       "<style scoped>\n",
       "    .dataframe tbody tr th:only-of-type {\n",
       "        vertical-align: middle;\n",
       "    }\n",
       "\n",
       "    .dataframe tbody tr th {\n",
       "        vertical-align: top;\n",
       "    }\n",
       "\n",
       "    .dataframe thead th {\n",
       "        text-align: right;\n",
       "    }\n",
       "</style>\n",
       "<table border=\"1\" class=\"dataframe\">\n",
       "  <thead>\n",
       "    <tr style=\"text-align: right;\">\n",
       "      <th></th>\n",
       "      <th>person_age</th>\n",
       "      <th>person_income</th>\n",
       "      <th>person_home_ownership</th>\n",
       "      <th>person_emp_length</th>\n",
       "      <th>loan_intent</th>\n",
       "      <th>loan_grade</th>\n",
       "      <th>loan_amnt</th>\n",
       "      <th>loan_int_rate</th>\n",
       "      <th>loan_status</th>\n",
       "      <th>loan_percent_income</th>\n",
       "      <th>cb_person_default_on_file</th>\n",
       "      <th>cb_person_cred_hist_length</th>\n",
       "    </tr>\n",
       "  </thead>\n",
       "  <tbody>\n",
       "    <tr>\n",
       "      <th>0</th>\n",
       "      <td>22</td>\n",
       "      <td>59000</td>\n",
       "      <td>RENT</td>\n",
       "      <td>123.0</td>\n",
       "      <td>PERSONAL</td>\n",
       "      <td>D</td>\n",
       "      <td>35000</td>\n",
       "      <td>16.02</td>\n",
       "      <td>1</td>\n",
       "      <td>0.59</td>\n",
       "      <td>Y</td>\n",
       "      <td>3</td>\n",
       "    </tr>\n",
       "    <tr>\n",
       "      <th>1</th>\n",
       "      <td>21</td>\n",
       "      <td>9600</td>\n",
       "      <td>OWN</td>\n",
       "      <td>5.0</td>\n",
       "      <td>EDUCATION</td>\n",
       "      <td>B</td>\n",
       "      <td>1000</td>\n",
       "      <td>11.14</td>\n",
       "      <td>0</td>\n",
       "      <td>0.10</td>\n",
       "      <td>N</td>\n",
       "      <td>2</td>\n",
       "    </tr>\n",
       "    <tr>\n",
       "      <th>2</th>\n",
       "      <td>25</td>\n",
       "      <td>9600</td>\n",
       "      <td>MORTGAGE</td>\n",
       "      <td>1.0</td>\n",
       "      <td>MEDICAL</td>\n",
       "      <td>C</td>\n",
       "      <td>5500</td>\n",
       "      <td>12.87</td>\n",
       "      <td>1</td>\n",
       "      <td>0.57</td>\n",
       "      <td>N</td>\n",
       "      <td>3</td>\n",
       "    </tr>\n",
       "    <tr>\n",
       "      <th>3</th>\n",
       "      <td>23</td>\n",
       "      <td>65500</td>\n",
       "      <td>RENT</td>\n",
       "      <td>4.0</td>\n",
       "      <td>MEDICAL</td>\n",
       "      <td>C</td>\n",
       "      <td>35000</td>\n",
       "      <td>15.23</td>\n",
       "      <td>1</td>\n",
       "      <td>0.53</td>\n",
       "      <td>N</td>\n",
       "      <td>2</td>\n",
       "    </tr>\n",
       "    <tr>\n",
       "      <th>4</th>\n",
       "      <td>24</td>\n",
       "      <td>54400</td>\n",
       "      <td>RENT</td>\n",
       "      <td>8.0</td>\n",
       "      <td>MEDICAL</td>\n",
       "      <td>C</td>\n",
       "      <td>35000</td>\n",
       "      <td>14.27</td>\n",
       "      <td>1</td>\n",
       "      <td>0.55</td>\n",
       "      <td>Y</td>\n",
       "      <td>4</td>\n",
       "    </tr>\n",
       "    <tr>\n",
       "      <th>...</th>\n",
       "      <td>...</td>\n",
       "      <td>...</td>\n",
       "      <td>...</td>\n",
       "      <td>...</td>\n",
       "      <td>...</td>\n",
       "      <td>...</td>\n",
       "      <td>...</td>\n",
       "      <td>...</td>\n",
       "      <td>...</td>\n",
       "      <td>...</td>\n",
       "      <td>...</td>\n",
       "      <td>...</td>\n",
       "    </tr>\n",
       "    <tr>\n",
       "      <th>32576</th>\n",
       "      <td>57</td>\n",
       "      <td>53000</td>\n",
       "      <td>MORTGAGE</td>\n",
       "      <td>1.0</td>\n",
       "      <td>PERSONAL</td>\n",
       "      <td>C</td>\n",
       "      <td>5800</td>\n",
       "      <td>13.16</td>\n",
       "      <td>0</td>\n",
       "      <td>0.11</td>\n",
       "      <td>N</td>\n",
       "      <td>30</td>\n",
       "    </tr>\n",
       "    <tr>\n",
       "      <th>32577</th>\n",
       "      <td>54</td>\n",
       "      <td>120000</td>\n",
       "      <td>MORTGAGE</td>\n",
       "      <td>4.0</td>\n",
       "      <td>PERSONAL</td>\n",
       "      <td>A</td>\n",
       "      <td>17625</td>\n",
       "      <td>7.49</td>\n",
       "      <td>0</td>\n",
       "      <td>0.15</td>\n",
       "      <td>N</td>\n",
       "      <td>19</td>\n",
       "    </tr>\n",
       "    <tr>\n",
       "      <th>32578</th>\n",
       "      <td>65</td>\n",
       "      <td>76000</td>\n",
       "      <td>RENT</td>\n",
       "      <td>3.0</td>\n",
       "      <td>HOMEIMPROVEMENT</td>\n",
       "      <td>B</td>\n",
       "      <td>35000</td>\n",
       "      <td>10.99</td>\n",
       "      <td>1</td>\n",
       "      <td>0.46</td>\n",
       "      <td>N</td>\n",
       "      <td>28</td>\n",
       "    </tr>\n",
       "    <tr>\n",
       "      <th>32579</th>\n",
       "      <td>56</td>\n",
       "      <td>150000</td>\n",
       "      <td>MORTGAGE</td>\n",
       "      <td>5.0</td>\n",
       "      <td>PERSONAL</td>\n",
       "      <td>B</td>\n",
       "      <td>15000</td>\n",
       "      <td>11.48</td>\n",
       "      <td>0</td>\n",
       "      <td>0.10</td>\n",
       "      <td>N</td>\n",
       "      <td>26</td>\n",
       "    </tr>\n",
       "    <tr>\n",
       "      <th>32580</th>\n",
       "      <td>66</td>\n",
       "      <td>42000</td>\n",
       "      <td>RENT</td>\n",
       "      <td>2.0</td>\n",
       "      <td>MEDICAL</td>\n",
       "      <td>B</td>\n",
       "      <td>6475</td>\n",
       "      <td>9.99</td>\n",
       "      <td>0</td>\n",
       "      <td>0.15</td>\n",
       "      <td>N</td>\n",
       "      <td>30</td>\n",
       "    </tr>\n",
       "  </tbody>\n",
       "</table>\n",
       "<p>32581 rows × 12 columns</p>\n",
       "</div>"
      ],
      "text/plain": [
       "       person_age  person_income person_home_ownership  person_emp_length  \\\n",
       "0              22          59000                  RENT              123.0   \n",
       "1              21           9600                   OWN                5.0   \n",
       "2              25           9600              MORTGAGE                1.0   \n",
       "3              23          65500                  RENT                4.0   \n",
       "4              24          54400                  RENT                8.0   \n",
       "...           ...            ...                   ...                ...   \n",
       "32576          57          53000              MORTGAGE                1.0   \n",
       "32577          54         120000              MORTGAGE                4.0   \n",
       "32578          65          76000                  RENT                3.0   \n",
       "32579          56         150000              MORTGAGE                5.0   \n",
       "32580          66          42000                  RENT                2.0   \n",
       "\n",
       "           loan_intent loan_grade  loan_amnt  loan_int_rate  loan_status  \\\n",
       "0             PERSONAL          D      35000          16.02            1   \n",
       "1            EDUCATION          B       1000          11.14            0   \n",
       "2              MEDICAL          C       5500          12.87            1   \n",
       "3              MEDICAL          C      35000          15.23            1   \n",
       "4              MEDICAL          C      35000          14.27            1   \n",
       "...                ...        ...        ...            ...          ...   \n",
       "32576         PERSONAL          C       5800          13.16            0   \n",
       "32577         PERSONAL          A      17625           7.49            0   \n",
       "32578  HOMEIMPROVEMENT          B      35000          10.99            1   \n",
       "32579         PERSONAL          B      15000          11.48            0   \n",
       "32580          MEDICAL          B       6475           9.99            0   \n",
       "\n",
       "       loan_percent_income cb_person_default_on_file  \\\n",
       "0                     0.59                         Y   \n",
       "1                     0.10                         N   \n",
       "2                     0.57                         N   \n",
       "3                     0.53                         N   \n",
       "4                     0.55                         Y   \n",
       "...                    ...                       ...   \n",
       "32576                 0.11                         N   \n",
       "32577                 0.15                         N   \n",
       "32578                 0.46                         N   \n",
       "32579                 0.10                         N   \n",
       "32580                 0.15                         N   \n",
       "\n",
       "       cb_person_cred_hist_length  \n",
       "0                               3  \n",
       "1                               2  \n",
       "2                               3  \n",
       "3                               2  \n",
       "4                               4  \n",
       "...                           ...  \n",
       "32576                          30  \n",
       "32577                          19  \n",
       "32578                          28  \n",
       "32579                          26  \n",
       "32580                          30  \n",
       "\n",
       "[32581 rows x 12 columns]"
      ]
     },
     "execution_count": 5,
     "metadata": {},
     "output_type": "execute_result"
    }
   ],
   "source": [
    "data"
   ]
  },
  {
   "cell_type": "code",
   "execution_count": 6,
   "id": "240f5656-81c5-4336-aa56-1f6e1edc04a1",
   "metadata": {},
   "outputs": [
    {
     "data": {
      "text/plain": [
       "32581"
      ]
     },
     "execution_count": 6,
     "metadata": {},
     "output_type": "execute_result"
    }
   ],
   "source": [
    "len(data)"
   ]
  },
  {
   "cell_type": "markdown",
   "id": "d1a87137-87d9-4835-9994-a9c3793148d9",
   "metadata": {},
   "source": [
    "Load test dataset from competition (synthetic) dataset"
   ]
  },
  {
   "cell_type": "code",
   "execution_count": 146,
   "id": "efeacc61-8189-4b1a-a427-cac1a1e9fbb9",
   "metadata": {},
   "outputs": [],
   "source": [
    "data_test = loan_approval_lib.load_data()['test']"
   ]
  },
  {
   "cell_type": "code",
   "execution_count": 147,
   "id": "67d203e5-f2c9-41d3-9390-d39e81c486c6",
   "metadata": {},
   "outputs": [
    {
     "data": {
      "text/html": [
       "<div>\n",
       "<style scoped>\n",
       "    .dataframe tbody tr th:only-of-type {\n",
       "        vertical-align: middle;\n",
       "    }\n",
       "\n",
       "    .dataframe tbody tr th {\n",
       "        vertical-align: top;\n",
       "    }\n",
       "\n",
       "    .dataframe thead th {\n",
       "        text-align: right;\n",
       "    }\n",
       "</style>\n",
       "<table border=\"1\" class=\"dataframe\">\n",
       "  <thead>\n",
       "    <tr style=\"text-align: right;\">\n",
       "      <th></th>\n",
       "      <th>id</th>\n",
       "      <th>person_age</th>\n",
       "      <th>person_income</th>\n",
       "      <th>person_home_ownership</th>\n",
       "      <th>person_emp_length</th>\n",
       "      <th>loan_intent</th>\n",
       "      <th>loan_grade</th>\n",
       "      <th>loan_amnt</th>\n",
       "      <th>loan_int_rate</th>\n",
       "      <th>loan_percent_income</th>\n",
       "      <th>cb_person_default_on_file</th>\n",
       "      <th>cb_person_cred_hist_length</th>\n",
       "    </tr>\n",
       "  </thead>\n",
       "  <tbody>\n",
       "    <tr>\n",
       "      <th>0</th>\n",
       "      <td>58645</td>\n",
       "      <td>23</td>\n",
       "      <td>69000</td>\n",
       "      <td>RENT</td>\n",
       "      <td>3.0</td>\n",
       "      <td>HOMEIMPROVEMENT</td>\n",
       "      <td>F</td>\n",
       "      <td>25000</td>\n",
       "      <td>15.76</td>\n",
       "      <td>0.36</td>\n",
       "      <td>N</td>\n",
       "      <td>2</td>\n",
       "    </tr>\n",
       "    <tr>\n",
       "      <th>1</th>\n",
       "      <td>58646</td>\n",
       "      <td>26</td>\n",
       "      <td>96000</td>\n",
       "      <td>MORTGAGE</td>\n",
       "      <td>6.0</td>\n",
       "      <td>PERSONAL</td>\n",
       "      <td>C</td>\n",
       "      <td>10000</td>\n",
       "      <td>12.68</td>\n",
       "      <td>0.10</td>\n",
       "      <td>Y</td>\n",
       "      <td>4</td>\n",
       "    </tr>\n",
       "    <tr>\n",
       "      <th>2</th>\n",
       "      <td>58647</td>\n",
       "      <td>26</td>\n",
       "      <td>30000</td>\n",
       "      <td>RENT</td>\n",
       "      <td>5.0</td>\n",
       "      <td>VENTURE</td>\n",
       "      <td>E</td>\n",
       "      <td>4000</td>\n",
       "      <td>17.19</td>\n",
       "      <td>0.13</td>\n",
       "      <td>Y</td>\n",
       "      <td>2</td>\n",
       "    </tr>\n",
       "    <tr>\n",
       "      <th>3</th>\n",
       "      <td>58648</td>\n",
       "      <td>33</td>\n",
       "      <td>50000</td>\n",
       "      <td>RENT</td>\n",
       "      <td>4.0</td>\n",
       "      <td>DEBTCONSOLIDATION</td>\n",
       "      <td>A</td>\n",
       "      <td>7000</td>\n",
       "      <td>8.90</td>\n",
       "      <td>0.14</td>\n",
       "      <td>N</td>\n",
       "      <td>7</td>\n",
       "    </tr>\n",
       "    <tr>\n",
       "      <th>4</th>\n",
       "      <td>58649</td>\n",
       "      <td>26</td>\n",
       "      <td>102000</td>\n",
       "      <td>MORTGAGE</td>\n",
       "      <td>8.0</td>\n",
       "      <td>HOMEIMPROVEMENT</td>\n",
       "      <td>D</td>\n",
       "      <td>15000</td>\n",
       "      <td>16.32</td>\n",
       "      <td>0.15</td>\n",
       "      <td>Y</td>\n",
       "      <td>4</td>\n",
       "    </tr>\n",
       "    <tr>\n",
       "      <th>...</th>\n",
       "      <td>...</td>\n",
       "      <td>...</td>\n",
       "      <td>...</td>\n",
       "      <td>...</td>\n",
       "      <td>...</td>\n",
       "      <td>...</td>\n",
       "      <td>...</td>\n",
       "      <td>...</td>\n",
       "      <td>...</td>\n",
       "      <td>...</td>\n",
       "      <td>...</td>\n",
       "      <td>...</td>\n",
       "    </tr>\n",
       "    <tr>\n",
       "      <th>39093</th>\n",
       "      <td>97738</td>\n",
       "      <td>22</td>\n",
       "      <td>31200</td>\n",
       "      <td>MORTGAGE</td>\n",
       "      <td>2.0</td>\n",
       "      <td>DEBTCONSOLIDATION</td>\n",
       "      <td>B</td>\n",
       "      <td>3000</td>\n",
       "      <td>10.37</td>\n",
       "      <td>0.10</td>\n",
       "      <td>N</td>\n",
       "      <td>4</td>\n",
       "    </tr>\n",
       "    <tr>\n",
       "      <th>39094</th>\n",
       "      <td>97739</td>\n",
       "      <td>22</td>\n",
       "      <td>48000</td>\n",
       "      <td>MORTGAGE</td>\n",
       "      <td>6.0</td>\n",
       "      <td>EDUCATION</td>\n",
       "      <td>A</td>\n",
       "      <td>7000</td>\n",
       "      <td>6.03</td>\n",
       "      <td>0.15</td>\n",
       "      <td>N</td>\n",
       "      <td>3</td>\n",
       "    </tr>\n",
       "    <tr>\n",
       "      <th>39095</th>\n",
       "      <td>97740</td>\n",
       "      <td>51</td>\n",
       "      <td>60000</td>\n",
       "      <td>MORTGAGE</td>\n",
       "      <td>0.0</td>\n",
       "      <td>PERSONAL</td>\n",
       "      <td>A</td>\n",
       "      <td>15000</td>\n",
       "      <td>7.51</td>\n",
       "      <td>0.25</td>\n",
       "      <td>N</td>\n",
       "      <td>25</td>\n",
       "    </tr>\n",
       "    <tr>\n",
       "      <th>39096</th>\n",
       "      <td>97741</td>\n",
       "      <td>22</td>\n",
       "      <td>36000</td>\n",
       "      <td>MORTGAGE</td>\n",
       "      <td>4.0</td>\n",
       "      <td>PERSONAL</td>\n",
       "      <td>D</td>\n",
       "      <td>14000</td>\n",
       "      <td>15.62</td>\n",
       "      <td>0.39</td>\n",
       "      <td>Y</td>\n",
       "      <td>4</td>\n",
       "    </tr>\n",
       "    <tr>\n",
       "      <th>39097</th>\n",
       "      <td>97742</td>\n",
       "      <td>31</td>\n",
       "      <td>45000</td>\n",
       "      <td>RENT</td>\n",
       "      <td>6.0</td>\n",
       "      <td>DEBTCONSOLIDATION</td>\n",
       "      <td>B</td>\n",
       "      <td>19450</td>\n",
       "      <td>9.91</td>\n",
       "      <td>0.44</td>\n",
       "      <td>N</td>\n",
       "      <td>9</td>\n",
       "    </tr>\n",
       "  </tbody>\n",
       "</table>\n",
       "<p>39098 rows × 12 columns</p>\n",
       "</div>"
      ],
      "text/plain": [
       "          id  person_age  person_income person_home_ownership  \\\n",
       "0      58645          23          69000                  RENT   \n",
       "1      58646          26          96000              MORTGAGE   \n",
       "2      58647          26          30000                  RENT   \n",
       "3      58648          33          50000                  RENT   \n",
       "4      58649          26         102000              MORTGAGE   \n",
       "...      ...         ...            ...                   ...   \n",
       "39093  97738          22          31200              MORTGAGE   \n",
       "39094  97739          22          48000              MORTGAGE   \n",
       "39095  97740          51          60000              MORTGAGE   \n",
       "39096  97741          22          36000              MORTGAGE   \n",
       "39097  97742          31          45000                  RENT   \n",
       "\n",
       "       person_emp_length        loan_intent loan_grade  loan_amnt  \\\n",
       "0                    3.0    HOMEIMPROVEMENT          F      25000   \n",
       "1                    6.0           PERSONAL          C      10000   \n",
       "2                    5.0            VENTURE          E       4000   \n",
       "3                    4.0  DEBTCONSOLIDATION          A       7000   \n",
       "4                    8.0    HOMEIMPROVEMENT          D      15000   \n",
       "...                  ...                ...        ...        ...   \n",
       "39093                2.0  DEBTCONSOLIDATION          B       3000   \n",
       "39094                6.0          EDUCATION          A       7000   \n",
       "39095                0.0           PERSONAL          A      15000   \n",
       "39096                4.0           PERSONAL          D      14000   \n",
       "39097                6.0  DEBTCONSOLIDATION          B      19450   \n",
       "\n",
       "       loan_int_rate  loan_percent_income cb_person_default_on_file  \\\n",
       "0              15.76                 0.36                         N   \n",
       "1              12.68                 0.10                         Y   \n",
       "2              17.19                 0.13                         Y   \n",
       "3               8.90                 0.14                         N   \n",
       "4              16.32                 0.15                         Y   \n",
       "...              ...                  ...                       ...   \n",
       "39093          10.37                 0.10                         N   \n",
       "39094           6.03                 0.15                         N   \n",
       "39095           7.51                 0.25                         N   \n",
       "39096          15.62                 0.39                         Y   \n",
       "39097           9.91                 0.44                         N   \n",
       "\n",
       "       cb_person_cred_hist_length  \n",
       "0                               2  \n",
       "1                               4  \n",
       "2                               2  \n",
       "3                               7  \n",
       "4                               4  \n",
       "...                           ...  \n",
       "39093                           4  \n",
       "39094                           3  \n",
       "39095                          25  \n",
       "39096                           4  \n",
       "39097                           9  \n",
       "\n",
       "[39098 rows x 12 columns]"
      ]
     },
     "execution_count": 147,
     "metadata": {},
     "output_type": "execute_result"
    }
   ],
   "source": [
    "data_test"
   ]
  },
  {
   "cell_type": "code",
   "execution_count": 7,
   "id": "f86aaa98-26ae-4388-b154-c91f8dfd0fb2",
   "metadata": {},
   "outputs": [],
   "source": [
    "data_loan_status_deny = data[data['loan_status'] == 1]\n",
    "data_loan_status_approve = data[data['loan_status'] == 0]"
   ]
  },
  {
   "cell_type": "markdown",
   "id": "e30de00b-5662-4741-9449-c65369167bdf",
   "metadata": {},
   "source": [
    "# Plot Credit History"
   ]
  },
  {
   "cell_type": "code",
   "execution_count": 25,
   "id": "17b56fcb-cb5f-4698-b67a-db9f7e85ce4a",
   "metadata": {},
   "outputs": [
    {
     "data": {
      "text/plain": [
       "(np.int64(2), np.int64(30))"
      ]
     },
     "execution_count": 25,
     "metadata": {},
     "output_type": "execute_result"
    }
   ],
   "source": [
    "column = 'cb_person_cred_hist_length'\n",
    "\n",
    "data_loan_status_deny[column].min(), data_loan_status_deny[column].max()"
   ]
  },
  {
   "cell_type": "code",
   "execution_count": 26,
   "id": "6f59e132-d885-4922-b50a-4cecb2d89fee",
   "metadata": {},
   "outputs": [
    {
     "data": {
      "text/plain": [
       "(np.int64(2), np.int64(30))"
      ]
     },
     "execution_count": 26,
     "metadata": {},
     "output_type": "execute_result"
    }
   ],
   "source": [
    "column = 'cb_person_cred_hist_length'\n",
    "\n",
    "data_loan_status_approve[column].min(), data_loan_status_approve[column].max()"
   ]
  },
  {
   "cell_type": "code",
   "execution_count": 32,
   "id": "6e635c68-d6ee-416e-a8eb-3b4cdcf31564",
   "metadata": {},
   "outputs": [
    {
     "data": {
      "image/png": "[encoded data removed]",
      "text/plain": [
       "<Figure size 640x480 with 1 Axes>"
      ]
     },
     "metadata": {},
     "output_type": "display_data"
    }
   ],
   "source": [
    "column = 'cb_person_cred_hist_length'\n",
    "\n",
    "h_data_deny = data_loan_status_deny[column]\n",
    "h_data_accept = data_loan_status_approve[column]\n",
    "\n",
    "_ = plt.hist(\n",
    "    h_data_deny,\n",
    "    bins=numpy.linspace(0, 30, 30), #logspace(data_train_loan_status_deny[column]),\n",
    "    histtype='step',\n",
    "    density=True,\n",
    "    label='deny',\n",
    ")\n",
    "_ = plt.hist(\n",
    "    h_data_accept,\n",
    "    bins=numpy.linspace(0, 30, 30), #logspace(data_train_loan_status_accept[column]),\n",
    "    histtype='step',\n",
    "    density=True,\n",
    "    label='approve',\n",
    ")\n",
    "plt.xlim(left=0, right=30)\n",
    "plt.xlabel('credit history length')\n",
    "#plt.xscale('log')\n",
    "plt.legend()\n",
    "None\n",
    "#plt.yscale('log')"
   ]
  },
  {
   "cell_type": "code",
   "execution_count": 18,
   "id": "f8c67c02-4375-4f35-bef9-6df480fa98c6",
   "metadata": {},
   "outputs": [
    {
     "data": {
      "image/png": "[encoded data removed]",
      "text/plain": [
       "<Figure size 640x480 with 1 Axes>"
      ]
     },
     "metadata": {},
     "output_type": "display_data"
    }
   ],
   "source": [
    "plt.figure()\n",
    "_ = plt.hist(\n",
    "    [data_loan_status_deny[column], data_loan_status_approve[column]],\n",
    "    stacked=True,\n",
    "    bins=100,\n",
    ")"
   ]
  },
  {
   "cell_type": "markdown",
   "id": "04b75069-542f-4e65-b037-2de4179e54c9",
   "metadata": {},
   "source": [
    "# Plot person age"
   ]
  },
  {
   "cell_type": "code",
   "execution_count": 36,
   "id": "aebb2b0e-d342-4724-8ebb-6a2b5dab7d84",
   "metadata": {},
   "outputs": [
    {
     "data": {
      "image/png": "[encoded data removed]",
      "text/plain": [
       "<Figure size 640x480 with 1 Axes>"
      ]
     },
     "metadata": {},
     "output_type": "display_data"
    }
   ],
   "source": [
    "column = 'person_age'\n",
    "\n",
    "h_data_deny = data_loan_status_deny[column]\n",
    "h_data_accept = data_loan_status_approve[column]\n",
    "\n",
    "_ = plt.hist(\n",
    "    h_data_deny,\n",
    "    bins=numpy.linspace(0, 150, 100), #logspace(data_train_loan_status_deny[column]),\n",
    "    histtype='step',\n",
    "    density=True,\n",
    "    label='deny',\n",
    ")\n",
    "_ = plt.hist(\n",
    "    h_data_accept,\n",
    "    bins=numpy.linspace(0, 150, 100), #logspace(data_train_loan_status_accept[column]),\n",
    "    histtype='step',\n",
    "    density=True,\n",
    "    label='approve',\n",
    ")\n",
    "plt.xlabel('age')\n",
    "plt.xlim(left=0, right=150)\n",
    "#plt.xscale('log')\n",
    "plt.legend()\n",
    "None\n",
    "#plt.yscale('log')"
   ]
  },
  {
   "cell_type": "markdown",
   "id": "37ceeec4-ec9c-45f7-a009-e560bd1d2f6d",
   "metadata": {},
   "source": [
    "# Income"
   ]
  },
  {
   "cell_type": "code",
   "execution_count": 44,
   "id": "d70935f5-0cf8-4368-af3c-ba523e037f09",
   "metadata": {},
   "outputs": [
    {
     "data": {
      "image/png": "[encoded data removed]",
      "text/plain": [
       "<Figure size 640x480 with 1 Axes>"
      ]
     },
     "metadata": {},
     "output_type": "display_data"
    }
   ],
   "source": [
    "column = 'person_income'\n",
    "\n",
    "h_data_deny = data_loan_status_deny[column]\n",
    "h_data_accept = data_loan_status_approve[column]\n",
    "\n",
    "max_ = max(h_data_accept.max(), h_data_deny.max())\n",
    "\n",
    "_ = plt.hist(\n",
    "    h_data_deny,\n",
    "    bins=numpy.linspace(0, max_, 100), #logspace(data_train_loan_status_deny[column]),\n",
    "    histtype='step',\n",
    "    density=True,\n",
    "    label='deny',\n",
    ")\n",
    "_ = plt.hist(\n",
    "    h_data_accept,\n",
    "    bins=numpy.linspace(0, max_, 100), #logspace(data_train_loan_status_accept[column]),\n",
    "    histtype='step',\n",
    "    density=True,\n",
    "    label='approve',\n",
    ")\n",
    "plt.xlabel('income')\n",
    "plt.xlim(left=0)\n",
    "plt.yscale('log')\n",
    "plt.legend()\n",
    "None\n",
    "#plt.yscale('log')"
   ]
  },
  {
   "cell_type": "code",
   "execution_count": 46,
   "id": "7119b08e-c647-4ec8-a125-1640308a836a",
   "metadata": {},
   "outputs": [
    {
     "data": {
      "image/png": "[encoded data removed]",
      "text/plain": [
       "<Figure size 640x480 with 1 Axes>"
      ]
     },
     "metadata": {},
     "output_type": "display_data"
    }
   ],
   "source": [
    "column = 'person_income'\n",
    "\n",
    "h_data_deny = data_loan_status_deny[column]\n",
    "h_data_accept = data_loan_status_approve[column]\n",
    "\n",
    "max_ = 2.0e5\n",
    "\n",
    "_ = plt.hist(\n",
    "    h_data_deny,\n",
    "    bins=numpy.linspace(0, max_, 100), #logspace(data_train_loan_status_deny[column]),\n",
    "    histtype='step',\n",
    "    density=True,\n",
    "    label='deny',\n",
    ")\n",
    "_ = plt.hist(\n",
    "    h_data_accept,\n",
    "    bins=numpy.linspace(0, max_, 100), #logspace(data_train_loan_status_accept[column]),\n",
    "    histtype='step',\n",
    "    density=True,\n",
    "    label='approve',\n",
    ")\n",
    "plt.xlabel('income')\n",
    "plt.xlim(left=0)\n",
    "plt.yscale('log')\n",
    "plt.legend()\n",
    "None\n",
    "#plt.yscale('log')"
   ]
  },
  {
   "cell_type": "markdown",
   "id": "2365b1fa-9302-4336-a8d8-51f3fd0c4dd6",
   "metadata": {},
   "source": [
    "# Loan Percentage of Income"
   ]
  },
  {
   "cell_type": "code",
   "execution_count": 48,
   "id": "6986a09b-0298-4ec8-a209-5842c5b04275",
   "metadata": {},
   "outputs": [
    {
     "data": {
      "image/png": "[encoded data removed]",
      "text/plain": [
       "<Figure size 640x480 with 1 Axes>"
      ]
     },
     "metadata": {},
     "output_type": "display_data"
    }
   ],
   "source": [
    "column = 'loan_percent_income'\n",
    "\n",
    "h_data_deny = data_loan_status_deny[column]\n",
    "h_data_approve = data_loan_status_approve[column]\n",
    "\n",
    "max_ = 1.0 #max(h_data_accept.max(), h_data_deny.max())\n",
    "\n",
    "_ = plt.hist(\n",
    "    h_data_deny,\n",
    "    bins=numpy.linspace(0, max_, 100), #logspace(data_train_loan_status_deny[column]),\n",
    "    histtype='step',\n",
    "    density=True,\n",
    "    label='deny',\n",
    ")\n",
    "_ = plt.hist(\n",
    "    h_data_approve,\n",
    "    bins=numpy.linspace(0, max_, 100), #logspace(data_train_loan_status_accept[column]),\n",
    "    histtype='step',\n",
    "    density=True,\n",
    "    label='approve',\n",
    ")\n",
    "plt.xlabel('percent income')\n",
    "plt.xlim(left=0)\n",
    "plt.yscale('log')\n",
    "plt.legend()\n",
    "None\n",
    "#plt.yscale('log')"
   ]
  },
  {
   "cell_type": "code",
   "execution_count": 56,
   "id": "4761aab1-72a4-4383-bff2-9481ad6a4a59",
   "metadata": {},
   "outputs": [],
   "source": [
    "column = 'loan_percent_income'\n",
    "\n",
    "h_data_deny = data_loan_status_deny[column]\n",
    "h_data_approve = data_loan_status_approve[column]\n",
    "\n",
    "hist_data_deny, _ = numpy.histogram(\n",
    "    h_data_deny,\n",
    "    numpy.linspace(0, 1, 100),\n",
    "    density=True,\n",
    ")\n",
    "\n",
    "hist_data_approve, bins = numpy.histogram(\n",
    "    h_data_approve,\n",
    "    numpy.linspace(0, 1, 100),\n",
    "    density=True,\n",
    ")   "
   ]
  },
  {
   "cell_type": "code",
   "execution_count": 150,
   "id": "5935f23f-3caa-4d2c-8ca7-5feac45759c2",
   "metadata": {},
   "outputs": [
    {
     "data": {
      "image/png": "[encoded data removed]",
      "text/plain": [
       "<Figure size 640x480 with 1 Axes>"
      ]
     },
     "metadata": {},
     "output_type": "display_data"
    }
   ],
   "source": [
    "plt.step(\n",
    "    bins[:-1],\n",
    "    hist_data_deny,\n",
    "    label='deny',\n",
    ")\n",
    "plt.step(\n",
    "    bins[:-1],\n",
    "    hist_data_approve,\n",
    "    label='approve',\n",
    ")\n",
    "plt.yscale('log')\n",
    "plt.xlabel('loan percent income')\n",
    "plt.legend()\n",
    "None"
   ]
  },
  {
   "cell_type": "code",
   "execution_count": 63,
   "id": "1673e827-8ec1-404b-b926-d53f9b37f930",
   "metadata": {},
   "outputs": [
    {
     "name": "stderr",
     "output_type": "stream",
     "text": [
      "/tmp/ipykernel_134359/1893349480.py:1: RuntimeWarning: invalid value encountered in divide\n",
      "  hist_data_model = hist_data_approve / (hist_data_approve + hist_data_deny)\n"
     ]
    }
   ],
   "source": [
    "hist_data_model = hist_data_approve / (hist_data_approve + hist_data_deny)"
   ]
  },
  {
   "cell_type": "code",
   "execution_count": 69,
   "id": "8238ce57-aa00-4606-8c22-da2773e731c7",
   "metadata": {},
   "outputs": [],
   "source": [
    "hist_data_model = numpy.nan_to_num(hist_data_model)"
   ]
  },
  {
   "cell_type": "code",
   "execution_count": 70,
   "id": "ff961c82-3cb0-48f4-9978-1d883869c0da",
   "metadata": {},
   "outputs": [
    {
     "data": {
      "text/plain": [
       "array([0.83002476, 0.74023248, 0.72398421, 0.66560656, 0.71674956,\n",
       "       0.69268028, 0.67818293, 0.625113  , 0.6664292 , 0.65558277,\n",
       "       0.6549471 , 0.67360931, 0.67433157, 0.60843357, 0.6646645 ,\n",
       "       0.57346402, 0.56991543, 0.54860948, 0.51271499, 0.59157503,\n",
       "       0.53670267, 0.49969006, 0.54066905, 0.54409408, 0.55771933,\n",
       "       0.40713225, 0.44928039, 0.42359052, 0.49581902, 0.46681503,\n",
       "       0.11315364, 0.11795867, 0.10856008, 0.09316081, 0.15294125,\n",
       "       0.11085638, 0.12243773, 0.08903998, 0.13229503, 0.10366553,\n",
       "       0.06908585, 0.07784435, 0.10305781, 0.13239655, 0.10449607,\n",
       "       0.11033455, 0.07383899, 0.10976348, 0.07969712, 0.0996915 ,\n",
       "       0.10207857, 0.02629389, 0.06746329, 0.07383899, 0.10040895,\n",
       "       0.04444   , 0.03007213, 0.1568489 , 0.04693143, 0.21816396,\n",
       "       0.        , 0.        , 0.07724576, 0.06521101, 0.21816396,\n",
       "       0.        , 0.        , 0.12243773, 0.21816396, 0.12243773,\n",
       "       0.12243773, 0.        , 0.        , 0.        , 0.        ,\n",
       "       0.        , 0.        , 0.        , 0.        , 0.        ,\n",
       "       0.        , 0.        , 1.        , 0.        , 0.        ,\n",
       "       0.        , 0.        , 0.        , 0.        , 0.        ,\n",
       "       0.        , 0.        , 0.        , 0.        , 0.        ,\n",
       "       0.        , 0.        , 0.        , 0.        ])"
      ]
     },
     "execution_count": 70,
     "metadata": {},
     "output_type": "execute_result"
    }
   ],
   "source": [
    "hist_data_model"
   ]
  },
  {
   "cell_type": "code",
   "execution_count": 84,
   "id": "806b8596-c618-4258-a567-5661f9885a2f",
   "metadata": {},
   "outputs": [
    {
     "data": {
      "text/plain": [
       "array([0.1, 0.1, 0.1, 0.1, 0.1, 0.1, 0.1, 0.1, 0.1, 0.1])"
      ]
     },
     "execution_count": 84,
     "metadata": {},
     "output_type": "execute_result"
    }
   ],
   "source": [
    "window_size = 10\n",
    "w = numpy.ones(window_size) / window_size\n",
    "w"
   ]
  },
  {
   "cell_type": "code",
   "execution_count": 120,
   "id": "47558dfb-0325-4992-9075-89964b7b0f4e",
   "metadata": {},
   "outputs": [
    {
     "data": {
      "text/plain": [
       "array([0.83002476, 0.83002476, 0.83002476, 0.83002476, 0.83002476,\n",
       "       0.83002476, 0.83002476, 0.83002476, 0.83002476, 0.83002476,\n",
       "       0.74023248, 0.72398421, 0.66560656, 0.71674956, 0.69268028,\n",
       "       0.67818293, 0.625113  , 0.6664292 , 0.65558277, 0.6549471 ,\n",
       "       0.67360931, 0.67433157, 0.60843357, 0.6646645 , 0.57346402,\n",
       "       0.56991543, 0.54860948, 0.51271499, 0.59157503, 0.53670267,\n",
       "       0.49969006, 0.54066905, 0.54409408, 0.55771933, 0.40713225,\n",
       "       0.44928039, 0.42359052, 0.49581902, 0.46681503, 0.11315364,\n",
       "       0.11795867, 0.10856008, 0.09316081, 0.15294125, 0.11085638,\n",
       "       0.12243773, 0.08903998, 0.13229503, 0.10366553, 0.06908585,\n",
       "       0.07784435, 0.10305781, 0.13239655, 0.10449607, 0.11033455,\n",
       "       0.07383899, 0.10976348, 0.07969712, 0.0996915 , 0.10207857,\n",
       "       0.02629389, 0.06746329, 0.07383899, 0.10040895, 0.04444   ,\n",
       "       0.03007213, 0.1568489 , 0.04693143, 0.21816396, 0.        ,\n",
       "       0.        , 0.07724576, 0.06521101, 0.21816396, 0.        ,\n",
       "       0.        , 0.12243773, 0.21816396, 0.12243773, 0.12243773,\n",
       "       0.        , 0.        , 0.        , 0.        , 0.        ,\n",
       "       0.        , 0.        , 0.        , 0.        , 0.        ,\n",
       "       0.        , 1.        , 0.        , 0.        , 0.        ,\n",
       "       0.        , 0.        , 0.        , 0.        , 0.        ,\n",
       "       0.        , 0.        , 0.        , 0.        , 0.        ,\n",
       "       0.        , 0.        , 0.        ])"
      ]
     },
     "execution_count": 120,
     "metadata": {},
     "output_type": "execute_result"
    }
   ],
   "source": [
    "hist_data_model_pad = numpy.pad(hist_data_model, (window_size-1, 0), mode='edge')\n",
    "hist_data_model_pad"
   ]
  },
  {
   "cell_type": "code",
   "execution_count": 121,
   "id": "8c49fa70-5ff5-4e9f-bb8d-0f256c91629f",
   "metadata": {},
   "outputs": [
    {
     "data": {
      "text/plain": [
       "108"
      ]
     },
     "execution_count": 121,
     "metadata": {},
     "output_type": "execute_result"
    }
   ],
   "source": [
    "len(hist_data_model_pad)"
   ]
  },
  {
   "cell_type": "code",
   "execution_count": 122,
   "id": "67058fc1-f71e-449d-8dcd-6071a914f177",
   "metadata": {},
   "outputs": [],
   "source": [
    "hist_data_model_pad[80:] = 0"
   ]
  },
  {
   "cell_type": "code",
   "execution_count": 142,
   "id": "72d73950-19e9-4b3a-b91e-c859699a9bed",
   "metadata": {},
   "outputs": [
    {
     "data": {
      "text/plain": [
       "99"
      ]
     },
     "execution_count": 142,
     "metadata": {},
     "output_type": "execute_result"
    }
   ],
   "source": [
    "hist_data_model_smooth = numpy.convolve(hist_data_model_pad, w, mode='valid')\n",
    "hist_data_model_smooth = numpy.roll(hist_data_model_smooth, -(window_size-1)//2)\n",
    "hist_data_model_smooth[80:] = 0\n",
    "len(hist_data_model_smooth)"
   ]
  },
  {
   "cell_type": "code",
   "execution_count": 143,
   "id": "7f190e7f-7497-43f6-bfd0-66298f63e300",
   "metadata": {},
   "outputs": [
    {
     "data": {
      "text/plain": [
       "99"
      ]
     },
     "execution_count": 143,
     "metadata": {},
     "output_type": "execute_result"
    }
   ],
   "source": [
    "len(hist_data_model)"
   ]
  },
  {
   "cell_type": "code",
   "execution_count": 237,
   "id": "e4cbb070-c0ec-49f4-b881-680518e4ae12",
   "metadata": {},
   "outputs": [
    {
     "data": {
      "image/png": "[encoded data removed]",
      "text/plain": [
       "<Figure size 640x480 with 1 Axes>"
      ]
     },
     "metadata": {},
     "output_type": "display_data"
    }
   ],
   "source": [
    "plt.step(\n",
    "    bins[:-1],\n",
    "    hist_data_model,\n",
    "    label='unfiltered',\n",
    ")\n",
    "plt.step(\n",
    "    bins[:-1],\n",
    "    hist_data_model_smooth,\n",
    "    label='moving average',\n",
    ")\n",
    "_ = plt.legend()\n",
    "_ = plt.xlabel('loan_percent_income')\n",
    "_ = plt.ylabel('approve probability')"
   ]
  },
  {
   "cell_type": "markdown",
   "id": "5009342f-6bc2-452c-9403-94fa79405712",
   "metadata": {},
   "source": [
    "This is the total number of events distribution"
   ]
  },
  {
   "cell_type": "code",
   "execution_count": 221,
   "id": "45783ca8-12fa-4bf6-8841-9d36d44d1719",
   "metadata": {},
   "outputs": [
    {
     "data": {
      "image/png": "[encoded data removed]",
      "text/plain": [
       "<Figure size 640x480 with 1 Axes>"
      ]
     },
     "metadata": {},
     "output_type": "display_data"
    }
   ],
   "source": [
    "_ = plt.step(\n",
    "    bins[:-1],\n",
    "    hist_data_approve + hist_data_deny,\n",
    ")"
   ]
  },
  {
   "cell_type": "markdown",
   "id": "2446edcf-0b5e-469b-bc8e-94d4dd1fec51",
   "metadata": {},
   "source": [
    "#### Use the smooth data to predict output"
   ]
  },
  {
   "cell_type": "code",
   "execution_count": 153,
   "id": "2d1e4c5d-1373-491d-a4fa-9bc0d7d65077",
   "metadata": {},
   "outputs": [
    {
     "data": {
      "text/plain": [
       "array([0.76893769, 0.7537535 , 0.73326233, 0.71690277, 0.69945857,\n",
       "       0.68195081, 0.67528849, 0.67032323, 0.66460593, 0.65939742,\n",
       "       0.6474758 , 0.63664905, 0.6289987 , 0.61362727, 0.6072265 ,\n",
       "       0.59540206, 0.57801013, 0.56464388, 0.55820993, 0.54751541,\n",
       "       0.53088224, 0.51881873, 0.50631684, 0.50462724, 0.49215124,\n",
       "       0.44979634, 0.4116232 , 0.3684123 , 0.32331897, 0.28284117,\n",
       "       0.25321358, 0.22052931, 0.18707426, 0.15072186, 0.11440691,\n",
       "       0.11000013, 0.1059887 , 0.10543847, 0.10936205, 0.10451753,\n",
       "       0.10446535, 0.09960547, 0.10167782, 0.09641803, 0.09602063,\n",
       "       0.0993199 , 0.09416485, 0.0906054 , 0.08474965, 0.08434093,\n",
       "       0.07775148, 0.07337479, 0.07808333, 0.07480677, 0.08665401,\n",
       "       0.07644616, 0.07381677, 0.07479501, 0.07393221, 0.08570772,\n",
       "       0.08126372, 0.0782565 , 0.07481538, 0.09193864, 0.08236601,\n",
       "       0.09460979, 0.09460979, 0.08688521, 0.08036411, 0.05854772,\n",
       "       0.05854772, 0.05854772, 0.04630394, 0.02448755, 0.01224377,\n",
       "       0.        , 0.        , 0.        , 0.        , 0.        ,\n",
       "       0.        , 0.        , 0.        , 0.        , 0.        ,\n",
       "       0.        , 0.        , 0.        , 0.        , 0.        ,\n",
       "       0.        , 0.        , 0.        , 0.        , 0.        ,\n",
       "       0.        , 0.        , 0.        , 0.        ])"
      ]
     },
     "execution_count": 153,
     "metadata": {},
     "output_type": "execute_result"
    }
   ],
   "source": [
    "hist_data_model_smooth"
   ]
  },
  {
   "cell_type": "code",
   "execution_count": 152,
   "id": "2992a0bb-352c-4476-a5a9-7611beee2857",
   "metadata": {},
   "outputs": [
    {
     "data": {
      "text/plain": [
       "0        0.36\n",
       "1        0.10\n",
       "2        0.13\n",
       "3        0.14\n",
       "4        0.15\n",
       "         ... \n",
       "39093    0.10\n",
       "39094    0.15\n",
       "39095    0.25\n",
       "39096    0.39\n",
       "39097    0.44\n",
       "Name: loan_percent_income, Length: 39098, dtype: float64"
      ]
     },
     "execution_count": 152,
     "metadata": {},
     "output_type": "execute_result"
    }
   ],
   "source": [
    "data_test['loan_percent_income']"
   ]
  },
  {
   "cell_type": "code",
   "execution_count": 159,
   "id": "0472a2a4-9426-4ac4-83d6-b6de7e893372",
   "metadata": {},
   "outputs": [],
   "source": [
    "import copy\n",
    "data_test_predict = copy.copy(data_test[['id', 'loan_percent_income']])"
   ]
  },
  {
   "cell_type": "code",
   "execution_count": 224,
   "id": "51e88ef6-e20a-42b3-af7d-518a41dccecc",
   "metadata": {},
   "outputs": [],
   "source": [
    "data_test_predict['loan_status'] = numpy.interp(\n",
    "    data_test_predict['loan_percent_income'].to_numpy(),\n",
    "    bins[:-1],\n",
    "    hist_data_model_smooth,\n",
    ")"
   ]
  },
  {
   "cell_type": "code",
   "execution_count": 225,
   "id": "0138b7ba-c838-4489-be26-482a2616344a",
   "metadata": {},
   "outputs": [
    {
     "data": {
      "text/html": [
       "<div>\n",
       "<style scoped>\n",
       "    .dataframe tbody tr th:only-of-type {\n",
       "        vertical-align: middle;\n",
       "    }\n",
       "\n",
       "    .dataframe tbody tr th {\n",
       "        vertical-align: top;\n",
       "    }\n",
       "\n",
       "    .dataframe thead th {\n",
       "        text-align: right;\n",
       "    }\n",
       "</style>\n",
       "<table border=\"1\" class=\"dataframe\">\n",
       "  <thead>\n",
       "    <tr style=\"text-align: right;\">\n",
       "      <th></th>\n",
       "      <th>id</th>\n",
       "      <th>loan_status</th>\n",
       "      <th>loan_percent_income</th>\n",
       "    </tr>\n",
       "  </thead>\n",
       "  <tbody>\n",
       "    <tr>\n",
       "      <th>39063</th>\n",
       "      <td>97708</td>\n",
       "      <td>0.768938</td>\n",
       "      <td>0.00</td>\n",
       "    </tr>\n",
       "    <tr>\n",
       "      <th>13981</th>\n",
       "      <td>72626</td>\n",
       "      <td>0.768938</td>\n",
       "      <td>0.00</td>\n",
       "    </tr>\n",
       "    <tr>\n",
       "      <th>34007</th>\n",
       "      <td>92652</td>\n",
       "      <td>0.768938</td>\n",
       "      <td>0.00</td>\n",
       "    </tr>\n",
       "    <tr>\n",
       "      <th>36960</th>\n",
       "      <td>95605</td>\n",
       "      <td>0.768938</td>\n",
       "      <td>0.00</td>\n",
       "    </tr>\n",
       "    <tr>\n",
       "      <th>24983</th>\n",
       "      <td>83628</td>\n",
       "      <td>0.753905</td>\n",
       "      <td>0.01</td>\n",
       "    </tr>\n",
       "    <tr>\n",
       "      <th>...</th>\n",
       "      <td>...</td>\n",
       "      <td>...</td>\n",
       "      <td>...</td>\n",
       "    </tr>\n",
       "    <tr>\n",
       "      <th>7541</th>\n",
       "      <td>66186</td>\n",
       "      <td>0.078760</td>\n",
       "      <td>0.59</td>\n",
       "    </tr>\n",
       "    <tr>\n",
       "      <th>32520</th>\n",
       "      <td>91165</td>\n",
       "      <td>0.083930</td>\n",
       "      <td>0.60</td>\n",
       "    </tr>\n",
       "    <tr>\n",
       "      <th>26342</th>\n",
       "      <td>84987</td>\n",
       "      <td>0.081151</td>\n",
       "      <td>0.63</td>\n",
       "    </tr>\n",
       "    <tr>\n",
       "      <th>30659</th>\n",
       "      <td>89304</td>\n",
       "      <td>0.081151</td>\n",
       "      <td>0.63</td>\n",
       "    </tr>\n",
       "    <tr>\n",
       "      <th>24697</th>\n",
       "      <td>83342</td>\n",
       "      <td>0.040414</td>\n",
       "      <td>0.73</td>\n",
       "    </tr>\n",
       "  </tbody>\n",
       "</table>\n",
       "<p>39098 rows × 3 columns</p>\n",
       "</div>"
      ],
      "text/plain": [
       "          id  loan_status  loan_percent_income\n",
       "39063  97708     0.768938                 0.00\n",
       "13981  72626     0.768938                 0.00\n",
       "34007  92652     0.768938                 0.00\n",
       "36960  95605     0.768938                 0.00\n",
       "24983  83628     0.753905                 0.01\n",
       "...      ...          ...                  ...\n",
       "7541   66186     0.078760                 0.59\n",
       "32520  91165     0.083930                 0.60\n",
       "26342  84987     0.081151                 0.63\n",
       "30659  89304     0.081151                 0.63\n",
       "24697  83342     0.040414                 0.73\n",
       "\n",
       "[39098 rows x 3 columns]"
      ]
     },
     "execution_count": 225,
     "metadata": {},
     "output_type": "execute_result"
    }
   ],
   "source": [
    "data_test_predict.sort_values('loan_percent_income')"
   ]
  },
  {
   "cell_type": "code",
   "execution_count": 226,
   "id": "5f1a28ec-45d1-42cb-8300-8066cb1b85c7",
   "metadata": {},
   "outputs": [
    {
     "data": {
      "image/png": "[encoded data removed]",
      "text/plain": [
       "<Figure size 640x480 with 1 Axes>"
      ]
     },
     "metadata": {},
     "output_type": "display_data"
    }
   ],
   "source": [
    "_ = plt.scatter(\n",
    "    data_test_predict['loan_percent_income'],\n",
    "    data_test_predict['loan_status'],\n",
    "    s=1,\n",
    ")\n",
    "_ = plt.xlabel('loan_percent_income')\n",
    "_ = plt.ylabel('loan_status')"
   ]
  },
  {
   "cell_type": "markdown",
   "id": "5d1facd0-6113-4647-92b1-6ca52d9c123b",
   "metadata": {},
   "source": [
    "Check that the model is producing sensible values. Show the histogram of inputs and scatter plot of outputs."
   ]
  },
  {
   "cell_type": "code",
   "execution_count": 244,
   "id": "71e31ae1-3e56-413a-b427-da1b5a813906",
   "metadata": {},
   "outputs": [
    {
     "data": {
      "text/plain": [
       "array([0.   , 0.01 , 0.02 , 0.03 , 0.04 , 0.05 , 0.06 , 0.07 , 0.08 ,\n",
       "       0.09 , 0.1  , 0.11 , 0.12 , 0.13 , 0.14 , 0.15 , 0.16 , 0.17 ,\n",
       "       0.18 , 0.19 , 0.2  , 0.21 , 0.22 , 0.23 , 0.24 , 0.25 , 0.26 ,\n",
       "       0.27 , 0.28 , 0.29 , 0.3  , 0.31 , 0.32 , 0.33 , 0.34 , 0.35 ,\n",
       "       0.36 , 0.37 , 0.38 , 0.39 , 0.4  , 0.41 , 0.42 , 0.43 , 0.44 ,\n",
       "       0.45 , 0.46 , 0.47 , 0.48 , 0.49 , 0.496, 0.5  , 0.51 , 0.52 ,\n",
       "       0.53 , 0.54 , 0.55 , 0.57 , 0.58 , 0.59 , 0.6  , 0.63 , 0.73 ])"
      ]
     },
     "execution_count": 244,
     "metadata": {},
     "output_type": "execute_result"
    }
   ],
   "source": [
    "numpy.sort(data_test_predict['loan_percent_income'].unique())"
   ]
  },
  {
   "cell_type": "code",
   "execution_count": 252,
   "id": "96c47255-5b36-493d-b592-d7b2263609d7",
   "metadata": {},
   "outputs": [
    {
     "data": {
      "image/png": "[encoded data removed]",
      "text/plain": [
       "<Figure size 640x480 with 2 Axes>"
      ]
     },
     "metadata": {},
     "output_type": "display_data"
    }
   ],
   "source": [
    "_ = plt.hist(\n",
    "    data_test_predict['loan_percent_income'],\n",
    "    bins=numpy.linspace(0,1,100),\n",
    "    histtype='step',\n",
    "    linewidth=2,\n",
    ")\n",
    "_ = plt.yscale('log')\n",
    "_ = plt.twinx()\n",
    "_ = plt.scatter(\n",
    "    data_test_predict['loan_percent_income'],\n",
    "    data_test_predict['loan_status'],\n",
    "    color='tab:orange',\n",
    ")\n",
    "_ = plt.xlim(xmin=0, xmax=0.8)"
   ]
  },
  {
   "cell_type": "markdown",
   "id": "01289669-101d-47ea-b55c-d6a3370c254e",
   "metadata": {},
   "source": [
    "When producing the output, need to predict the probability of loan reject"
   ]
  },
  {
   "cell_type": "code",
   "execution_count": 241,
   "id": "3eaf5e85-de4c-4d61-8f4e-77769e76995a",
   "metadata": {},
   "outputs": [
    {
     "data": {
      "text/html": [
       "<div>\n",
       "<style scoped>\n",
       "    .dataframe tbody tr th:only-of-type {\n",
       "        vertical-align: middle;\n",
       "    }\n",
       "\n",
       "    .dataframe tbody tr th {\n",
       "        vertical-align: top;\n",
       "    }\n",
       "\n",
       "    .dataframe thead th {\n",
       "        text-align: right;\n",
       "    }\n",
       "</style>\n",
       "<table border=\"1\" class=\"dataframe\">\n",
       "  <thead>\n",
       "    <tr style=\"text-align: right;\">\n",
       "      <th></th>\n",
       "      <th>id</th>\n",
       "      <th>loan_status_p_approve</th>\n",
       "      <th>loan_percent_income</th>\n",
       "      <th>loan_status</th>\n",
       "    </tr>\n",
       "  </thead>\n",
       "  <tbody>\n",
       "    <tr>\n",
       "      <th>0</th>\n",
       "      <td>58645</td>\n",
       "      <td>0.107433</td>\n",
       "      <td>0.36</td>\n",
       "      <td>0.892567</td>\n",
       "    </tr>\n",
       "    <tr>\n",
       "      <th>1</th>\n",
       "      <td>58646</td>\n",
       "      <td>0.648668</td>\n",
       "      <td>0.10</td>\n",
       "      <td>0.351332</td>\n",
       "    </tr>\n",
       "    <tr>\n",
       "      <th>2</th>\n",
       "      <td>58647</td>\n",
       "      <td>0.615626</td>\n",
       "      <td>0.13</td>\n",
       "      <td>0.384374</td>\n",
       "    </tr>\n",
       "    <tr>\n",
       "      <th>3</th>\n",
       "      <td>58648</td>\n",
       "      <td>0.608123</td>\n",
       "      <td>0.14</td>\n",
       "      <td>0.391877</td>\n",
       "    </tr>\n",
       "    <tr>\n",
       "      <th>4</th>\n",
       "      <td>58649</td>\n",
       "      <td>0.597176</td>\n",
       "      <td>0.15</td>\n",
       "      <td>0.402824</td>\n",
       "    </tr>\n",
       "    <tr>\n",
       "      <th>...</th>\n",
       "      <td>...</td>\n",
       "      <td>...</td>\n",
       "      <td>...</td>\n",
       "      <td>...</td>\n",
       "    </tr>\n",
       "    <tr>\n",
       "      <th>39093</th>\n",
       "      <td>97738</td>\n",
       "      <td>0.648668</td>\n",
       "      <td>0.10</td>\n",
       "      <td>0.351332</td>\n",
       "    </tr>\n",
       "    <tr>\n",
       "      <th>39094</th>\n",
       "      <td>97739</td>\n",
       "      <td>0.597176</td>\n",
       "      <td>0.15</td>\n",
       "      <td>0.402824</td>\n",
       "    </tr>\n",
       "    <tr>\n",
       "      <th>39095</th>\n",
       "      <td>97740</td>\n",
       "      <td>0.460385</td>\n",
       "      <td>0.25</td>\n",
       "      <td>0.539615</td>\n",
       "    </tr>\n",
       "    <tr>\n",
       "      <th>39096</th>\n",
       "      <td>97741</td>\n",
       "      <td>0.106407</td>\n",
       "      <td>0.39</td>\n",
       "      <td>0.893593</td>\n",
       "    </tr>\n",
       "    <tr>\n",
       "      <th>39097</th>\n",
       "      <td>97742</td>\n",
       "      <td>0.096195</td>\n",
       "      <td>0.44</td>\n",
       "      <td>0.903805</td>\n",
       "    </tr>\n",
       "  </tbody>\n",
       "</table>\n",
       "<p>39098 rows × 4 columns</p>\n",
       "</div>"
      ],
      "text/plain": [
       "          id  loan_status_p_approve  loan_percent_income  loan_status\n",
       "0      58645               0.107433                 0.36     0.892567\n",
       "1      58646               0.648668                 0.10     0.351332\n",
       "2      58647               0.615626                 0.13     0.384374\n",
       "3      58648               0.608123                 0.14     0.391877\n",
       "4      58649               0.597176                 0.15     0.402824\n",
       "...      ...                    ...                  ...          ...\n",
       "39093  97738               0.648668                 0.10     0.351332\n",
       "39094  97739               0.597176                 0.15     0.402824\n",
       "39095  97740               0.460385                 0.25     0.539615\n",
       "39096  97741               0.106407                 0.39     0.893593\n",
       "39097  97742               0.096195                 0.44     0.903805\n",
       "\n",
       "[39098 rows x 4 columns]"
      ]
     },
     "execution_count": 241,
     "metadata": {},
     "output_type": "execute_result"
    }
   ],
   "source": [
    "tmp = copy.copy(data_test_predict)\n",
    "tmp['loan_status_inverse'] = 1.0 - tmp['loan_status']\n",
    "tmp.rename(\n",
    "    columns={\n",
    "        'loan_status': 'loan_status_p_approve',\n",
    "        'loan_status_inverse': 'loan_status',\n",
    "    },\n",
    "    inplace=True,\n",
    ")\n",
    "\n",
    "tmp[['id', 'loan_status']].to_csv('data_test_predict_original_1.csv', index=False)\n",
    "\n",
    "tmp"
   ]
  },
  {
   "cell_type": "markdown",
   "id": "984bc6b0-72b7-41d3-9c9d-a146f3e1e57d",
   "metadata": {},
   "source": [
    "Test the interpolation function"
   ]
  },
  {
   "cell_type": "code",
   "execution_count": 229,
   "id": "2ed8b3da-cf96-4c54-96e1-fe42f69f1f34",
   "metadata": {},
   "outputs": [
    {
     "data": {
      "text/plain": [
       "array([0.64866796, 0.08104621, 0.        ])"
      ]
     },
     "execution_count": 229,
     "metadata": {},
     "output_type": "execute_result"
    }
   ],
   "source": [
    "numpy.interp(\n",
    "    [0.1, 0.5, 0.9],\n",
    "    bins[:-1],\n",
    "    hist_data_model_smooth,\n",
    ")"
   ]
  },
  {
   "cell_type": "markdown",
   "id": "e90ecfeb-36c7-45f8-8df5-8900c5eb2884",
   "metadata": {},
   "source": [
    "# Logistic Regression"
   ]
  },
  {
   "cell_type": "code",
   "execution_count": 230,
   "id": "9179161d-6135-4b29-9543-e1f7d90a568e",
   "metadata": {},
   "outputs": [],
   "source": [
    "x = data['loan_percent_income'].to_numpy().reshape(-1, 1)\n",
    "y = data['loan_status'].to_numpy()"
   ]
  },
  {
   "cell_type": "code",
   "execution_count": 231,
   "id": "4cee0fd8-8971-48cd-8143-b62b97224287",
   "metadata": {},
   "outputs": [],
   "source": [
    "model = sklearn.linear_model.LogisticRegression()\n",
    "clf = model.fit(x, y)"
   ]
  },
  {
   "cell_type": "code",
   "execution_count": 232,
   "id": "6c8e58e8-336c-4e29-a780-e4e4177ae70e",
   "metadata": {},
   "outputs": [
    {
     "data": {
      "text/plain": [
       "0.8127743163193272"
      ]
     },
     "execution_count": 232,
     "metadata": {},
     "output_type": "execute_result"
    }
   ],
   "source": [
    "clf.score(x, y)"
   ]
  },
  {
   "cell_type": "code",
   "execution_count": 233,
   "id": "14874276-bd87-43eb-b828-77a2eafb9277",
   "metadata": {},
   "outputs": [
    {
     "data": {
      "text/plain": [
       "(39098, 2)"
      ]
     },
     "execution_count": 233,
     "metadata": {},
     "output_type": "execute_result"
    }
   ],
   "source": [
    "x1 = data_test['loan_percent_income'].to_numpy().reshape(-1, 1)\n",
    "y1 = clf.predict_proba(x1)\n",
    "\n",
    "y1.shape"
   ]
  },
  {
   "cell_type": "code",
   "execution_count": 235,
   "id": "da1e03d3-a98d-40d0-83b3-5504369413ce",
   "metadata": {},
   "outputs": [
    {
     "data": {
      "text/html": [
       "<div>\n",
       "<style scoped>\n",
       "    .dataframe tbody tr th:only-of-type {\n",
       "        vertical-align: middle;\n",
       "    }\n",
       "\n",
       "    .dataframe tbody tr th {\n",
       "        vertical-align: top;\n",
       "    }\n",
       "\n",
       "    .dataframe thead th {\n",
       "        text-align: right;\n",
       "    }\n",
       "</style>\n",
       "<table border=\"1\" class=\"dataframe\">\n",
       "  <thead>\n",
       "    <tr style=\"text-align: right;\">\n",
       "      <th></th>\n",
       "      <th>id</th>\n",
       "      <th>loan_status</th>\n",
       "      <th>loan_percent_income</th>\n",
       "    </tr>\n",
       "  </thead>\n",
       "  <tbody>\n",
       "    <tr>\n",
       "      <th>39063</th>\n",
       "      <td>97708</td>\n",
       "      <td>0.054473</td>\n",
       "      <td>0.00</td>\n",
       "    </tr>\n",
       "    <tr>\n",
       "      <th>13981</th>\n",
       "      <td>72626</td>\n",
       "      <td>0.054473</td>\n",
       "      <td>0.00</td>\n",
       "    </tr>\n",
       "    <tr>\n",
       "      <th>34007</th>\n",
       "      <td>92652</td>\n",
       "      <td>0.054473</td>\n",
       "      <td>0.00</td>\n",
       "    </tr>\n",
       "    <tr>\n",
       "      <th>36960</th>\n",
       "      <td>95605</td>\n",
       "      <td>0.054473</td>\n",
       "      <td>0.00</td>\n",
       "    </tr>\n",
       "    <tr>\n",
       "      <th>24983</th>\n",
       "      <td>83628</td>\n",
       "      <td>0.058866</td>\n",
       "      <td>0.01</td>\n",
       "    </tr>\n",
       "    <tr>\n",
       "      <th>...</th>\n",
       "      <td>...</td>\n",
       "      <td>...</td>\n",
       "      <td>...</td>\n",
       "    </tr>\n",
       "    <tr>\n",
       "      <th>7541</th>\n",
       "      <td>66186</td>\n",
       "      <td>0.880401</td>\n",
       "      <td>0.59</td>\n",
       "    </tr>\n",
       "    <tr>\n",
       "      <th>32520</th>\n",
       "      <td>91165</td>\n",
       "      <td>0.888790</td>\n",
       "      <td>0.60</td>\n",
       "    </tr>\n",
       "    <tr>\n",
       "      <th>26342</th>\n",
       "      <td>84987</td>\n",
       "      <td>0.910932</td>\n",
       "      <td>0.63</td>\n",
       "    </tr>\n",
       "    <tr>\n",
       "      <th>30659</th>\n",
       "      <td>89304</td>\n",
       "      <td>0.910932</td>\n",
       "      <td>0.63</td>\n",
       "    </tr>\n",
       "    <tr>\n",
       "      <th>24697</th>\n",
       "      <td>83342</td>\n",
       "      <td>0.958796</td>\n",
       "      <td>0.73</td>\n",
       "    </tr>\n",
       "  </tbody>\n",
       "</table>\n",
       "<p>39098 rows × 3 columns</p>\n",
       "</div>"
      ],
      "text/plain": [
       "          id  loan_status  loan_percent_income\n",
       "39063  97708     0.054473                 0.00\n",
       "13981  72626     0.054473                 0.00\n",
       "34007  92652     0.054473                 0.00\n",
       "36960  95605     0.054473                 0.00\n",
       "24983  83628     0.058866                 0.01\n",
       "...      ...          ...                  ...\n",
       "7541   66186     0.880401                 0.59\n",
       "32520  91165     0.888790                 0.60\n",
       "26342  84987     0.910932                 0.63\n",
       "30659  89304     0.910932                 0.63\n",
       "24697  83342     0.958796                 0.73\n",
       "\n",
       "[39098 rows x 3 columns]"
      ]
     },
     "execution_count": 235,
     "metadata": {},
     "output_type": "execute_result"
    }
   ],
   "source": [
    "data_test_predict_logistic = pandas.DataFrame(\n",
    "    {\n",
    "        'id': data_test['id'],\n",
    "        'loan_status': y1[:, 1],\n",
    "        'loan_percent_income': x1[:, 0],\n",
    "    }\n",
    ")\n",
    "data_test_predict_logistic.sort_values('loan_percent_income')"
   ]
  },
  {
   "cell_type": "code",
   "execution_count": 236,
   "id": "a9f73e55-97e3-4ac6-b003-be488c71b72d",
   "metadata": {},
   "outputs": [],
   "source": [
    "data_test_predict_logistic[['id', 'loan_status']].to_csv('data_test_predict_original_1-logistic.csv', index=False)"
   ]
  },
  {
   "cell_type": "markdown",
   "id": "713b24e6-8a47-4d87-9b01-bf2d3a977da1",
   "metadata": {},
   "source": [
    "### Check the `loan_percent_income` column\n",
    "\n",
    "- It is identical to the loan amount divided by income, in almost all cases. There are a few rows where the values differ. ~ 1000 / 32000"
   ]
  },
  {
   "cell_type": "code",
   "execution_count": 177,
   "id": "334f5d94-8910-4d69-a9e1-512a6c11001d",
   "metadata": {},
   "outputs": [
    {
     "data": {
      "text/html": [
       "<div>\n",
       "<style scoped>\n",
       "    .dataframe tbody tr th:only-of-type {\n",
       "        vertical-align: middle;\n",
       "    }\n",
       "\n",
       "    .dataframe tbody tr th {\n",
       "        vertical-align: top;\n",
       "    }\n",
       "\n",
       "    .dataframe thead th {\n",
       "        text-align: right;\n",
       "    }\n",
       "</style>\n",
       "<table border=\"1\" class=\"dataframe\">\n",
       "  <thead>\n",
       "    <tr style=\"text-align: right;\">\n",
       "      <th></th>\n",
       "      <th>person_income</th>\n",
       "      <th>loan_amnt</th>\n",
       "      <th>loan_percent_income</th>\n",
       "    </tr>\n",
       "  </thead>\n",
       "  <tbody>\n",
       "    <tr>\n",
       "      <th>0</th>\n",
       "      <td>59000</td>\n",
       "      <td>35000</td>\n",
       "      <td>0.59</td>\n",
       "    </tr>\n",
       "    <tr>\n",
       "      <th>1</th>\n",
       "      <td>9600</td>\n",
       "      <td>1000</td>\n",
       "      <td>0.10</td>\n",
       "    </tr>\n",
       "    <tr>\n",
       "      <th>2</th>\n",
       "      <td>9600</td>\n",
       "      <td>5500</td>\n",
       "      <td>0.57</td>\n",
       "    </tr>\n",
       "    <tr>\n",
       "      <th>3</th>\n",
       "      <td>65500</td>\n",
       "      <td>35000</td>\n",
       "      <td>0.53</td>\n",
       "    </tr>\n",
       "    <tr>\n",
       "      <th>4</th>\n",
       "      <td>54400</td>\n",
       "      <td>35000</td>\n",
       "      <td>0.55</td>\n",
       "    </tr>\n",
       "    <tr>\n",
       "      <th>...</th>\n",
       "      <td>...</td>\n",
       "      <td>...</td>\n",
       "      <td>...</td>\n",
       "    </tr>\n",
       "    <tr>\n",
       "      <th>32576</th>\n",
       "      <td>53000</td>\n",
       "      <td>5800</td>\n",
       "      <td>0.11</td>\n",
       "    </tr>\n",
       "    <tr>\n",
       "      <th>32577</th>\n",
       "      <td>120000</td>\n",
       "      <td>17625</td>\n",
       "      <td>0.15</td>\n",
       "    </tr>\n",
       "    <tr>\n",
       "      <th>32578</th>\n",
       "      <td>76000</td>\n",
       "      <td>35000</td>\n",
       "      <td>0.46</td>\n",
       "    </tr>\n",
       "    <tr>\n",
       "      <th>32579</th>\n",
       "      <td>150000</td>\n",
       "      <td>15000</td>\n",
       "      <td>0.10</td>\n",
       "    </tr>\n",
       "    <tr>\n",
       "      <th>32580</th>\n",
       "      <td>42000</td>\n",
       "      <td>6475</td>\n",
       "      <td>0.15</td>\n",
       "    </tr>\n",
       "  </tbody>\n",
       "</table>\n",
       "<p>32581 rows × 3 columns</p>\n",
       "</div>"
      ],
      "text/plain": [
       "       person_income  loan_amnt  loan_percent_income\n",
       "0              59000      35000                 0.59\n",
       "1               9600       1000                 0.10\n",
       "2               9600       5500                 0.57\n",
       "3              65500      35000                 0.53\n",
       "4              54400      35000                 0.55\n",
       "...              ...        ...                  ...\n",
       "32576          53000       5800                 0.11\n",
       "32577         120000      17625                 0.15\n",
       "32578          76000      35000                 0.46\n",
       "32579         150000      15000                 0.10\n",
       "32580          42000       6475                 0.15\n",
       "\n",
       "[32581 rows x 3 columns]"
      ]
     },
     "execution_count": 177,
     "metadata": {},
     "output_type": "execute_result"
    }
   ],
   "source": [
    "data[['person_income', 'loan_amnt', 'loan_percent_income']]"
   ]
  },
  {
   "cell_type": "code",
   "execution_count": 183,
   "id": "57805df7-7de3-435d-87e2-656bd5657f99",
   "metadata": {},
   "outputs": [
    {
     "data": {
      "text/html": [
       "<div>\n",
       "<style scoped>\n",
       "    .dataframe tbody tr th:only-of-type {\n",
       "        vertical-align: middle;\n",
       "    }\n",
       "\n",
       "    .dataframe tbody tr th {\n",
       "        vertical-align: top;\n",
       "    }\n",
       "\n",
       "    .dataframe thead th {\n",
       "        text-align: right;\n",
       "    }\n",
       "</style>\n",
       "<table border=\"1\" class=\"dataframe\">\n",
       "  <thead>\n",
       "    <tr style=\"text-align: right;\">\n",
       "      <th></th>\n",
       "      <th>0</th>\n",
       "    </tr>\n",
       "  </thead>\n",
       "  <tbody>\n",
       "    <tr>\n",
       "      <th>0</th>\n",
       "      <td>0.593220</td>\n",
       "    </tr>\n",
       "    <tr>\n",
       "      <th>1</th>\n",
       "      <td>0.104167</td>\n",
       "    </tr>\n",
       "    <tr>\n",
       "      <th>2</th>\n",
       "      <td>0.572917</td>\n",
       "    </tr>\n",
       "    <tr>\n",
       "      <th>3</th>\n",
       "      <td>0.534351</td>\n",
       "    </tr>\n",
       "    <tr>\n",
       "      <th>4</th>\n",
       "      <td>0.643382</td>\n",
       "    </tr>\n",
       "    <tr>\n",
       "      <th>...</th>\n",
       "      <td>...</td>\n",
       "    </tr>\n",
       "    <tr>\n",
       "      <th>32576</th>\n",
       "      <td>0.109434</td>\n",
       "    </tr>\n",
       "    <tr>\n",
       "      <th>32577</th>\n",
       "      <td>0.146875</td>\n",
       "    </tr>\n",
       "    <tr>\n",
       "      <th>32578</th>\n",
       "      <td>0.460526</td>\n",
       "    </tr>\n",
       "    <tr>\n",
       "      <th>32579</th>\n",
       "      <td>0.100000</td>\n",
       "    </tr>\n",
       "    <tr>\n",
       "      <th>32580</th>\n",
       "      <td>0.154167</td>\n",
       "    </tr>\n",
       "  </tbody>\n",
       "</table>\n",
       "<p>32581 rows × 1 columns</p>\n",
       "</div>"
      ],
      "text/plain": [
       "              0\n",
       "0      0.593220\n",
       "1      0.104167\n",
       "2      0.572917\n",
       "3      0.534351\n",
       "4      0.643382\n",
       "...         ...\n",
       "32576  0.109434\n",
       "32577  0.146875\n",
       "32578  0.460526\n",
       "32579  0.100000\n",
       "32580  0.154167\n",
       "\n",
       "[32581 rows x 1 columns]"
      ]
     },
     "execution_count": 183,
     "metadata": {},
     "output_type": "execute_result"
    }
   ],
   "source": [
    "pandas.DataFrame(data['loan_amnt'] / data['person_income'])"
   ]
  },
  {
   "cell_type": "code",
   "execution_count": 193,
   "id": "4e930a42-655f-4ad8-8287-463ac63d9294",
   "metadata": {
    "scrolled": true
   },
   "outputs": [
    {
     "data": {
      "text/html": [
       "<div>\n",
       "<style scoped>\n",
       "    .dataframe tbody tr th:only-of-type {\n",
       "        vertical-align: middle;\n",
       "    }\n",
       "\n",
       "    .dataframe tbody tr th {\n",
       "        vertical-align: top;\n",
       "    }\n",
       "\n",
       "    .dataframe thead th {\n",
       "        text-align: right;\n",
       "    }\n",
       "</style>\n",
       "<table border=\"1\" class=\"dataframe\">\n",
       "  <thead>\n",
       "    <tr style=\"text-align: right;\">\n",
       "      <th></th>\n",
       "      <th>person_income</th>\n",
       "      <th>loan_amnt</th>\n",
       "      <th>loan_percent_income</th>\n",
       "      <th>0</th>\n",
       "      <th>diff</th>\n",
       "    </tr>\n",
       "  </thead>\n",
       "  <tbody>\n",
       "    <tr>\n",
       "      <th>4</th>\n",
       "      <td>54400</td>\n",
       "      <td>35000</td>\n",
       "      <td>0.55</td>\n",
       "      <td>0.64</td>\n",
       "      <td>-0.09</td>\n",
       "    </tr>\n",
       "    <tr>\n",
       "      <th>17</th>\n",
       "      <td>92111</td>\n",
       "      <td>35000</td>\n",
       "      <td>0.32</td>\n",
       "      <td>0.38</td>\n",
       "      <td>-0.06</td>\n",
       "    </tr>\n",
       "    <tr>\n",
       "      <th>36</th>\n",
       "      <td>48000</td>\n",
       "      <td>30000</td>\n",
       "      <td>0.63</td>\n",
       "      <td>0.62</td>\n",
       "      <td>0.01</td>\n",
       "    </tr>\n",
       "    <tr>\n",
       "      <th>40</th>\n",
       "      <td>62050</td>\n",
       "      <td>30000</td>\n",
       "      <td>0.41</td>\n",
       "      <td>0.48</td>\n",
       "      <td>-0.07</td>\n",
       "    </tr>\n",
       "    <tr>\n",
       "      <th>48</th>\n",
       "      <td>66300</td>\n",
       "      <td>30000</td>\n",
       "      <td>0.38</td>\n",
       "      <td>0.45</td>\n",
       "      <td>-0.07</td>\n",
       "    </tr>\n",
       "    <tr>\n",
       "      <th>...</th>\n",
       "      <td>...</td>\n",
       "      <td>...</td>\n",
       "      <td>...</td>\n",
       "      <td>...</td>\n",
       "      <td>...</td>\n",
       "    </tr>\n",
       "    <tr>\n",
       "      <th>32480</th>\n",
       "      <td>62050</td>\n",
       "      <td>25000</td>\n",
       "      <td>0.34</td>\n",
       "      <td>0.40</td>\n",
       "      <td>-0.06</td>\n",
       "    </tr>\n",
       "    <tr>\n",
       "      <th>32485</th>\n",
       "      <td>24000</td>\n",
       "      <td>3000</td>\n",
       "      <td>0.13</td>\n",
       "      <td>0.12</td>\n",
       "      <td>0.01</td>\n",
       "    </tr>\n",
       "    <tr>\n",
       "      <th>32542</th>\n",
       "      <td>200000</td>\n",
       "      <td>3000</td>\n",
       "      <td>0.01</td>\n",
       "      <td>0.02</td>\n",
       "      <td>-0.01</td>\n",
       "    </tr>\n",
       "    <tr>\n",
       "      <th>32555</th>\n",
       "      <td>80000</td>\n",
       "      <td>18000</td>\n",
       "      <td>0.23</td>\n",
       "      <td>0.22</td>\n",
       "      <td>0.01</td>\n",
       "    </tr>\n",
       "    <tr>\n",
       "      <th>32569</th>\n",
       "      <td>60000</td>\n",
       "      <td>7500</td>\n",
       "      <td>0.13</td>\n",
       "      <td>0.12</td>\n",
       "      <td>0.01</td>\n",
       "    </tr>\n",
       "  </tbody>\n",
       "</table>\n",
       "<p>1010 rows × 5 columns</p>\n",
       "</div>"
      ],
      "text/plain": [
       "       person_income  loan_amnt  loan_percent_income     0  diff\n",
       "4              54400      35000                 0.55  0.64 -0.09\n",
       "17             92111      35000                 0.32  0.38 -0.06\n",
       "36             48000      30000                 0.63  0.62  0.01\n",
       "40             62050      30000                 0.41  0.48 -0.07\n",
       "48             66300      30000                 0.38  0.45 -0.07\n",
       "...              ...        ...                  ...   ...   ...\n",
       "32480          62050      25000                 0.34  0.40 -0.06\n",
       "32485          24000       3000                 0.13  0.12  0.01\n",
       "32542         200000       3000                 0.01  0.02 -0.01\n",
       "32555          80000      18000                 0.23  0.22  0.01\n",
       "32569          60000       7500                 0.13  0.12  0.01\n",
       "\n",
       "[1010 rows x 5 columns]"
      ]
     },
     "execution_count": 193,
     "metadata": {},
     "output_type": "execute_result"
    }
   ],
   "source": [
    "tmp = pandas.concat(\n",
    "    [\n",
    "        data[['person_income', 'loan_amnt', 'loan_percent_income']],\n",
    "        pandas.DataFrame(data['loan_amnt'] / data['person_income']).round(decimals=2),\n",
    "    ],\n",
    "    axis=1,\n",
    ")\n",
    "tmp['diff'] = tmp['loan_percent_income'] - tmp[0]\n",
    "tmp[tmp['diff'] != 0]"
   ]
  },
  {
   "cell_type": "code",
   "execution_count": 194,
   "id": "a96ede06-d254-4936-8f54-a16f98ab67cf",
   "metadata": {},
   "outputs": [
    {
     "data": {
      "text/plain": [
       "1010"
      ]
     },
     "execution_count": 194,
     "metadata": {},
     "output_type": "execute_result"
    }
   ],
   "source": [
    "len(tmp[tmp['diff'] != 0])"
   ]
  },
  {
   "cell_type": "code",
   "execution_count": 195,
   "id": "0d1411c6-396f-4531-8c07-7ff90601b8a7",
   "metadata": {},
   "outputs": [
    {
     "data": {
      "text/plain": [
       "np.float64(0.010000000000000009)"
      ]
     },
     "execution_count": 195,
     "metadata": {},
     "output_type": "execute_result"
    }
   ],
   "source": [
    "tmp['diff'].max()"
   ]
  },
  {
   "cell_type": "markdown",
   "id": "7172790d-7da5-4477-92d8-2c6d70c63362",
   "metadata": {},
   "source": [
    "### Scatter Plot of `loan_percent_income` vs `loan_approval` for Train and Test Datasets"
   ]
  },
  {
   "cell_type": "code",
   "execution_count": 218,
   "id": "e2f358eb-d18c-4632-8c40-1e89715cab89",
   "metadata": {},
   "outputs": [
    {
     "data": {
      "image/png": "[encoded data removed]",
      "text/plain": [
       "<Figure size 640x480 with 1 Axes>"
      ]
     },
     "metadata": {},
     "output_type": "display_data"
    }
   ],
   "source": [
    "_ = plt.hist(\n",
    "    data[data['loan_status'] == 0]['loan_percent_income'],\n",
    "    histtype='step',\n",
    "    bins=numpy.linspace(0, 1, 100),\n",
    "    label='loan_status=0',\n",
    ")\n",
    "_ = plt.hist(\n",
    "    data[data['loan_status'] == 1]['loan_percent_income'],\n",
    "    histtype='step',\n",
    "    bins=numpy.linspace(0, 1, 100),\n",
    "    label='loan_status=1',\n",
    ")\n",
    "_ = plt.legend()\n",
    "_ = plt.xlabel('loan_percent_income')"
   ]
  },
  {
   "cell_type": "code",
   "execution_count": 209,
   "id": "cebbf771-5ab2-4ef8-affe-5916fec00b44",
   "metadata": {},
   "outputs": [],
   "source": [
    "data_train = loan_approval_lib.load_data()['train']"
   ]
  },
  {
   "cell_type": "code",
   "execution_count": 219,
   "id": "8e2f6c5a-992f-4a88-9723-6f7e8183e601",
   "metadata": {},
   "outputs": [
    {
     "data": {
      "image/png": "[encoded data removed]",
      "text/plain": [
       "<Figure size 640x480 with 1 Axes>"
      ]
     },
     "metadata": {},
     "output_type": "display_data"
    }
   ],
   "source": [
    "_ = plt.hist(\n",
    "    data_train[data_train['loan_status'] == 0]['loan_percent_income'],\n",
    "    histtype='step',\n",
    "    bins=numpy.linspace(0, 1, 100),\n",
    "    label='loan_status=0',\n",
    ")\n",
    "_ = plt.hist(\n",
    "    data_train[data_train['loan_status'] == 1]['loan_percent_income'],\n",
    "    histtype='step',\n",
    "    bins=numpy.linspace(0, 1, 100),\n",
    "    label='loan_status=1',\n",
    ")\n",
    "_ = plt.legend()\n",
    "_ = plt.xlabel('loan_percent_income')"
   ]
  },
  {
   "cell_type": "code",
   "execution_count": null,
   "id": "66c40d45-3b53-471f-ab87-898088641fd9",
   "metadata": {},
   "outputs": [],
   "source": []
  },
  {
   "cell_type": "code",
   "execution_count": null,
   "id": "183ed19b-22de-4169-832a-b1d377f7d4e6",
   "metadata": {},
   "outputs": [],
   "source": []
  }
 ],
 "metadata": {
  "kernelspec": {
   "display_name": "Python 3 (ipykernel)",
   "language": "python",
   "name": "python3"
  },
  "language_info": {
   "codemirror_mode": {
    "name": "ipython",
    "version": 3
   },
   "file_extension": ".py",
   "mimetype": "text/x-python",
   "name": "python",
   "nbconvert_exporter": "python",
   "pygments_lexer": "ipython3",
   "version": "3.12.7"
  }
 },
 "nbformat": 4,
 "nbformat_minor": 5
}
