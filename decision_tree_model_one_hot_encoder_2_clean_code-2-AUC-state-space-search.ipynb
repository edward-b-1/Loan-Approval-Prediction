{
 "cells": [
  {
   "cell_type": "markdown",
   "id": "c2d42acd-bf5b-4651-9aec-da70a79dc8fc",
   "metadata": {},
   "source": [
    "# Decision Tree Model with One Hot Encoder for Categorical Variables\n",
    "\n",
    "- State space search for meta parameter tuning across `min_samples_split` and `min_samples_leaf`"
   ]
  },
  {
   "cell_type": "code",
   "execution_count": 1,
   "id": "b9f96723-0f0e-4d60-9d0d-3c3991811d08",
   "metadata": {},
   "outputs": [],
   "source": [
    "%load_ext autoreload\n",
    "%autoreload 2"
   ]
  },
  {
   "cell_type": "code",
   "execution_count": 2,
   "id": "4b773ab0-b64c-419c-bd8b-f293c6b1116e",
   "metadata": {},
   "outputs": [],
   "source": [
    "import math\n",
    "import pandas\n",
    "import numpy\n",
    "import itertools\n",
    "import matplotlib.pyplot as plt\n",
    "import sklearn\n",
    "from sklearn import tree\n",
    "from sklearn.metrics import log_loss\n",
    "from sklearn.metrics import roc_curve\n",
    "from sklearn.metrics import auc\n",
    "from sklearn.preprocessing import OrdinalEncoder\n",
    "from sklearn.preprocessing import OneHotEncoder\n",
    "from sklearn.naive_bayes import CategoricalNB"
   ]
  },
  {
   "cell_type": "code",
   "execution_count": 3,
   "id": "326d9b5b-9405-40d5-8250-bc4ce0456168",
   "metadata": {},
   "outputs": [],
   "source": [
    "import loan_approval_lib\n",
    "from loan_approval_lib import logspace, linspace"
   ]
  },
  {
   "cell_type": "code",
   "execution_count": 4,
   "id": "4af1089e-4caa-474c-89c0-96fc59a6d9ec",
   "metadata": {},
   "outputs": [],
   "source": [
    "from loan_approval_lib.standard_data_processing import data_cleaning_algorithm\n",
    "from loan_approval_lib.standard_data_processing import create_loan_grade_numerical_from_loan_grade\n",
    "from loan_approval_lib.standard_data_processing import create_person_home_ownership_one_hot_encoder\n",
    "from loan_approval_lib.standard_data_processing import create_person_home_ownership_one_hot\n",
    "from loan_approval_lib.standard_data_processing import create_loan_intent_one_hot_encoder\n",
    "from loan_approval_lib.standard_data_processing import create_loan_intent_one_hot\n",
    "from loan_approval_lib.standard_data_processing import map_cb_person_default_on_file\n",
    "from loan_approval_lib.standard_data_processing import create_decision_tree_columns\n",
    "from loan_approval_lib.standard_data_processing import create_decision_tree_columns_with_id\n",
    "from loan_approval_lib.standard_data_processing import create_dataframe_copy_and_drop_columns\n",
    "from loan_approval_lib.standard_data_processing import create_decision_tree_columns\n",
    "from loan_approval_lib.standard_data_processing import create_decision_tree_columns_with_id"
   ]
  },
  {
   "cell_type": "code",
   "execution_count": 5,
   "id": "007cf335-7def-4213-bc9a-ce31a635f0f0",
   "metadata": {},
   "outputs": [],
   "source": [
    "data = loan_approval_lib.load_original_data()"
   ]
  },
  {
   "cell_type": "code",
   "execution_count": 6,
   "id": "82e3c7a1-c1e6-4273-bcf0-6b6a1cdef01b",
   "metadata": {},
   "outputs": [],
   "source": [
    "data_train = loan_approval_lib.load_data_train()"
   ]
  },
  {
   "cell_type": "code",
   "execution_count": 7,
   "id": "7c044ae4-5dba-405a-af64-1f0a40b131ae",
   "metadata": {},
   "outputs": [],
   "source": [
    "data_test = loan_approval_lib.load_data_test()"
   ]
  },
  {
   "cell_type": "markdown",
   "id": "0ffd51d3-37be-485a-be69-9a45a52e9f04",
   "metadata": {},
   "source": [
    "# Data Cleaning"
   ]
  },
  {
   "cell_type": "code",
   "execution_count": 8,
   "id": "3fa25427-b0c3-49d7-96b2-7dd205ae8f7c",
   "metadata": {},
   "outputs": [
    {
     "name": "stdout",
     "output_type": "stream",
     "text": [
      "column person_age, number of removed rows: 5\n",
      "column person_income, number of removed rows: 0\n",
      "column person_emp_length, number of removed rows: 897\n",
      "column loan_amnt, number of removed rows: 0\n",
      "column loan_int_rate, number of removed rows: 3047\n",
      "column loan_percent_income, number of removed rows: 0\n",
      "column cb_person_default_on_file, number of removed rows: 0\n"
     ]
    }
   ],
   "source": [
    "data = data_cleaning_algorithm(data)"
   ]
  },
  {
   "cell_type": "code",
   "execution_count": 9,
   "id": "2b1e0d94-9c21-4c0e-a20d-77e42e4fae0b",
   "metadata": {},
   "outputs": [
    {
     "name": "stdout",
     "output_type": "stream",
     "text": [
      "column person_age, number of removed rows: 1\n",
      "column person_income, number of removed rows: 0\n",
      "column person_emp_length, number of removed rows: 2\n",
      "column loan_amnt, number of removed rows: 0\n",
      "column loan_int_rate, number of removed rows: 0\n",
      "column loan_percent_income, number of removed rows: 0\n",
      "column cb_person_default_on_file, number of removed rows: 0\n"
     ]
    }
   ],
   "source": [
    "data_train = data_cleaning_algorithm(data_train)"
   ]
  },
  {
   "cell_type": "code",
   "execution_count": 10,
   "id": "e921cb86-97c8-46b3-8b05-e8b3e3322c70",
   "metadata": {},
   "outputs": [
    {
     "name": "stdout",
     "output_type": "stream",
     "text": [
      "column person_age, number of removed rows: 0\n",
      "column person_income, number of removed rows: 0\n",
      "column person_emp_length, number of removed rows: 0\n",
      "column loan_amnt, number of removed rows: 0\n",
      "column loan_int_rate, number of removed rows: 0\n",
      "column loan_percent_income, number of removed rows: 0\n",
      "column cb_person_default_on_file, number of removed rows: 0\n"
     ]
    }
   ],
   "source": [
    "data_cleaning_algorithm(data_test)\n",
    "None"
   ]
  },
  {
   "cell_type": "code",
   "execution_count": 11,
   "id": "4fcaef1d-c92e-4d89-a07f-8c1a735075b6",
   "metadata": {},
   "outputs": [],
   "source": [
    "# Loan Grade\n",
    "\n",
    "create_loan_grade_numerical_from_loan_grade(data, data_train, data_test)"
   ]
  },
  {
   "cell_type": "code",
   "execution_count": 12,
   "id": "6acb7539-12e6-440a-8725-eb990b6211c6",
   "metadata": {},
   "outputs": [],
   "source": [
    "# Person Home Ownership\n",
    "\n",
    "encoder = create_person_home_ownership_one_hot_encoder(data)\n",
    "\n",
    "data = create_person_home_ownership_one_hot(encoder, data)\n",
    "data_train = create_person_home_ownership_one_hot(encoder, data_train)\n",
    "data_test = create_person_home_ownership_one_hot(encoder, data_test)"
   ]
  },
  {
   "cell_type": "code",
   "execution_count": 13,
   "id": "4d5be8ac-8f18-4e22-ad31-21d2ec2b5e27",
   "metadata": {},
   "outputs": [],
   "source": [
    "# Loan Intent\n",
    "\n",
    "encoder = create_loan_intent_one_hot_encoder(data)\n",
    "\n",
    "data = create_loan_intent_one_hot(encoder, data)\n",
    "data_train = create_loan_intent_one_hot(encoder, data_train)\n",
    "data_test = create_loan_intent_one_hot(encoder, data_test)"
   ]
  },
  {
   "cell_type": "code",
   "execution_count": 14,
   "id": "6d3135f9-ca31-4fc3-90fb-752c8bc63602",
   "metadata": {},
   "outputs": [],
   "source": [
    "# Default On File\n",
    "\n",
    "data = map_cb_person_default_on_file(data)\n",
    "data_train = map_cb_person_default_on_file(data_train)\n",
    "data_test = map_cb_person_default_on_file(data_test)"
   ]
  },
  {
   "cell_type": "markdown",
   "id": "c14943f5-25e7-4202-84de-346af9babdcc",
   "metadata": {},
   "source": [
    "# Choose Columns for Tree Model, Copy DataFrame and Drop Unused Columns"
   ]
  },
  {
   "cell_type": "code",
   "execution_count": 15,
   "id": "f6884c59-63b4-45ec-bbb8-dc0d6ce3904e",
   "metadata": {},
   "outputs": [],
   "source": [
    "decision_tree_columns = create_decision_tree_columns()\n",
    "decision_tree_columns_with_id = create_decision_tree_columns_with_id()"
   ]
  },
  {
   "cell_type": "code",
   "execution_count": 16,
   "id": "ff9e469c-1555-42eb-9065-1ea19fd017ea",
   "metadata": {},
   "outputs": [],
   "source": [
    "data_copy = create_dataframe_copy_and_drop_columns(data)\n",
    "data_train_copy = create_dataframe_copy_and_drop_columns(data_train)\n",
    "data_test_copy = create_dataframe_copy_and_drop_columns(data_test)"
   ]
  },
  {
   "cell_type": "markdown",
   "id": "806ecbc0-bb9c-4e24-a60e-70110fd06b33",
   "metadata": {},
   "source": [
    "# Optimize Choice of Dataset"
   ]
  },
  {
   "cell_type": "code",
   "execution_count": 17,
   "id": "0bfbd3d3-d18f-49c7-9af6-7692861deda2",
   "metadata": {},
   "outputs": [],
   "source": [
    "all_training_data = pandas.concat(\n",
    "    [data_copy, data_train_copy],\n",
    "    axis=0,\n",
    ")\n",
    "all_training_data.reset_index(inplace=True, drop=True)"
   ]
  },
  {
   "cell_type": "code",
   "execution_count": 18,
   "id": "d467ef8e-5070-4ecf-876b-184b34d8d23a",
   "metadata": {},
   "outputs": [],
   "source": [
    "permutation = numpy.random.permutation(all_training_data.index)"
   ]
  },
  {
   "cell_type": "code",
   "execution_count": 19,
   "id": "44268f67-e1b0-4952-a600-ccb2d547b528",
   "metadata": {},
   "outputs": [
    {
     "data": {
      "text/plain": [
       "87274"
      ]
     },
     "execution_count": 19,
     "metadata": {},
     "output_type": "execute_result"
    }
   ],
   "source": [
    "n_samples = len(all_training_data)\n",
    "n_samples"
   ]
  },
  {
   "cell_type": "code",
   "execution_count": 20,
   "id": "c40ebd76-ee1a-486b-9a48-6223f379a77f",
   "metadata": {},
   "outputs": [],
   "source": [
    "k = 100"
   ]
  },
  {
   "cell_type": "code",
   "execution_count": 21,
   "id": "2c668708-425d-4c4f-acc0-a596dbf309dc",
   "metadata": {},
   "outputs": [
    {
     "data": {
      "text/plain": [
       "array([872, 872, 872, 872, 872, 872, 872, 872, 872, 872, 872, 872, 872,\n",
       "       872, 872, 872, 872, 872, 872, 872, 872, 872, 872, 872, 872, 872,\n",
       "       872, 872, 872, 872, 872, 872, 872, 872, 872, 872, 872, 872, 872,\n",
       "       872, 872, 872, 872, 872, 872, 872, 872, 872, 872, 872, 872, 872,\n",
       "       872, 872, 872, 872, 872, 872, 872, 872, 872, 872, 872, 872, 872,\n",
       "       872, 872, 872, 872, 872, 872, 872, 872, 872, 872, 872, 872, 872,\n",
       "       872, 872, 872, 872, 872, 872, 872, 872, 872, 872, 872, 872, 872,\n",
       "       872, 872, 872, 872, 872, 872, 872, 872, 872])"
      ]
     },
     "execution_count": 21,
     "metadata": {},
     "output_type": "execute_result"
    }
   ],
   "source": [
    "fold_sizes = numpy.full(k, n_samples // k, dtype=int)\n",
    "fold_sizes"
   ]
  },
  {
   "cell_type": "code",
   "execution_count": 22,
   "id": "7869917e-efe9-46c5-8b5b-5a234e464e4d",
   "metadata": {},
   "outputs": [
    {
     "data": {
      "text/plain": [
       "array([873, 873, 873, 873, 873, 873, 873, 873, 873, 873, 873, 873, 873,\n",
       "       873, 873, 873, 873, 873, 873, 873, 873, 873, 873, 873, 873, 873,\n",
       "       873, 873, 873, 873, 873, 873, 873, 873, 873, 873, 873, 873, 873,\n",
       "       873, 873, 873, 873, 873, 873, 873, 873, 873, 873, 873, 873, 873,\n",
       "       873, 873, 873, 873, 873, 873, 873, 873, 873, 873, 873, 873, 873,\n",
       "       873, 873, 873, 873, 873, 873, 873, 873, 873, 872, 872, 872, 872,\n",
       "       872, 872, 872, 872, 872, 872, 872, 872, 872, 872, 872, 872, 872,\n",
       "       872, 872, 872, 872, 872, 872, 872, 872, 872])"
      ]
     },
     "execution_count": 22,
     "metadata": {},
     "output_type": "execute_result"
    }
   ],
   "source": [
    "fold_sizes[:n_samples % k] += 1\n",
    "fold_sizes"
   ]
  },
  {
   "cell_type": "code",
   "execution_count": 23,
   "id": "ed65af4e-5fce-4513-877f-54bb665186d0",
   "metadata": {},
   "outputs": [],
   "source": [
    "index = 0\n",
    "folds = []\n",
    "for fold_size in fold_sizes:\n",
    "    start = index\n",
    "    stop = index + fold_size\n",
    "    folds.append(permutation[start:stop])\n",
    "    index = stop"
   ]
  },
  {
   "cell_type": "markdown",
   "id": "f19a2d8b-d69f-44da-b060-023e3a18d314",
   "metadata": {},
   "source": [
    "# Decision Tree Model"
   ]
  },
  {
   "cell_type": "code",
   "execution_count": 24,
   "id": "10f9423d-75cf-4d07-bec2-0e68e4bbed20",
   "metadata": {},
   "outputs": [],
   "source": [
    "def decision_tree_model_train(\n",
    "    data_train,\n",
    "    decision_tree_columns,\n",
    "    max_depth,\n",
    "    min_samples_split,\n",
    "    max_leaf_nodes,\n",
    "    min_samples_leaf,\n",
    "    min_impurity_decrease,\n",
    "):\n",
    "    \n",
    "    X = data_train[decision_tree_columns].copy()\n",
    "    Y = data_train['loan_status'].copy()\n",
    "    \n",
    "    clf = tree.DecisionTreeClassifier(\n",
    "        criterion='entropy',\n",
    "        max_depth=max_depth,\n",
    "        min_samples_split=min_samples_split,\n",
    "        min_samples_leaf=min_samples_leaf,\n",
    "        max_features=None,\n",
    "        max_leaf_nodes=max_leaf_nodes,\n",
    "        min_impurity_decrease=min_impurity_decrease,\n",
    "    )\n",
    "    clf = clf.fit(X, Y)\n",
    "\n",
    "    feature_importances = pandas.Series(clf.feature_importances_, index=X.columns).sort_values(ascending=False)\n",
    "    feature_importances = feature_importances[feature_importances > 0]\n",
    "\n",
    "    Z = clf.predict(X)\n",
    "    X['loan_status_predict'] = Z\n",
    "    X['loan_status'] = data_train['loan_status']\n",
    "    accuracy_in_sample = (X['loan_status'] == X['loan_status_predict']).sum() / len(X)\n",
    "\n",
    "    return (clf, feature_importances, accuracy_in_sample)"
   ]
  },
  {
   "cell_type": "code",
   "execution_count": 25,
   "id": "063f22e3-7f40-4616-b2ed-f3215a9af4a2",
   "metadata": {},
   "outputs": [],
   "source": [
    "def decision_tree_model_test(\n",
    "    clf,\n",
    "    data_test,\n",
    "    decision_tree_columns,\n",
    "):\n",
    "\n",
    "    X_test = data_test[decision_tree_columns].copy()\n",
    "    \n",
    "    Z_test = clf.predict(X_test)\n",
    "    X_test['loan_status_predict'] = Z_test\n",
    "    X_test['loan_status'] = data_test['loan_status']\n",
    "    accuracy_out_of_sample = (X_test['loan_status'] == X_test['loan_status_predict']).sum() / len(X_test)\n",
    "    \n",
    "    return accuracy_out_of_sample"
   ]
  },
  {
   "cell_type": "code",
   "execution_count": 26,
   "id": "57e44ac2-c8b7-4fdc-b96d-e44b0e13178f",
   "metadata": {},
   "outputs": [],
   "source": [
    "def decision_tree_model_predict_proba(\n",
    "    clf,\n",
    "    data_test,\n",
    "    decision_tree_columns,\n",
    "):\n",
    "    \n",
    "    X_test = data_test[decision_tree_columns].copy()\n",
    "    \n",
    "    Z_test = clf.predict_proba(X_test)[:, 1]\n",
    "\n",
    "    return Z_test"
   ]
  },
  {
   "cell_type": "code",
   "execution_count": 27,
   "id": "fceabde4-2e6e-4e35-b4e4-efaca0713fb7",
   "metadata": {},
   "outputs": [],
   "source": [
    "def decision_tree_model_test_threshold(\n",
    "    clf,\n",
    "    data_test,\n",
    "    decision_tree_columns,\n",
    "    threshold,\n",
    "):\n",
    "\n",
    "    X_test = data_test[decision_tree_columns].copy()\n",
    "\n",
    "    Z_test = (clf.predict_proba(X_test)[:, 1]) > threshold\n",
    "    X_test['loan_status_predict'] = Z_test\n",
    "    X_test['loan_status'] = data_test['loan_status']\n",
    "    accuracy = (X_test['loan_status'] == X_test['loan_status_predict']).sum() / len(X_test)\n",
    "    \n",
    "    return accuracy"
   ]
  },
  {
   "cell_type": "code",
   "execution_count": 28,
   "id": "9bb912ae-bdb6-456d-a57d-5aaa6a6c7ba9",
   "metadata": {},
   "outputs": [],
   "source": [
    "def decision_tree_model_test_TPR_FPR(\n",
    "    clf,\n",
    "    data_test,\n",
    "    decision_tree_columns,\n",
    "    threshold,\n",
    "):\n",
    "\n",
    "    X_test = data_test[decision_tree_columns].copy()\n",
    "\n",
    "    Z_test = (clf.predict_proba(X_test)[:, 1]) > threshold\n",
    "    X_test['loan_status_predict'] = Z_test\n",
    "    X_test['loan_status'] = data_test['loan_status']\n",
    "\n",
    "    true_positive  = len(X_test[(X_test['loan_status'] == 1) & (X_test['loan_status_predict'] == 1)]) # positive, same -> true\n",
    "    false_positive = len(X_test[(X_test['loan_status'] == 0) & (X_test['loan_status_predict'] == 1)]) # positive, different -> false\n",
    "    true_negative  = len(X_test[(X_test['loan_status'] == 0) & (X_test['loan_status_predict'] == 0)]) # negative, same -> true\n",
    "    false_negative = len(X_test[(X_test['loan_status'] == 1) & (X_test['loan_status_predict'] == 0)]) # negative, different -> false\n",
    "\n",
    "    tpr = true_positive / (true_positive + false_negative)\n",
    "    fpr = false_positive / (false_positive + true_negative)\n",
    "\n",
    "    return (tpr, fpr)"
   ]
  },
  {
   "cell_type": "code",
   "execution_count": 29,
   "id": "96723f1d-2870-44d6-8917-b880cf0a3a61",
   "metadata": {},
   "outputs": [],
   "source": [
    "def decision_tree_model_test_AUC(\n",
    "    clf,\n",
    "    data_test,\n",
    "    decision_tree_columns,\n",
    "):\n",
    "    # create threshold array\n",
    "    # this code creates `threshold_array`, and it is sorted in ascending order\n",
    "    \n",
    "    data_predict = decision_tree_model_predict(\n",
    "        clf,\n",
    "        data_test,\n",
    "        decision_tree_columns,\n",
    "        decision_tree_columns_with_id,\n",
    "    )\n",
    "    \n",
    "    threshold_array = numpy.concatenate(\n",
    "        (\n",
    "            numpy.array([-numpy.inf]),\n",
    "            numpy.unique(data_predict['loan_status']),\n",
    "            numpy.array([1.1]),\n",
    "        )\n",
    "    )\n",
    "\n",
    "    # use threshold array to calculate TPR and FPR\n",
    "    count = len(threshold_array)\n",
    "\n",
    "    tpr_array = numpy.zeros(shape=(count,), dtype=float)\n",
    "    fpr_array = numpy.zeros(shape=(count,), dtype=float)\n",
    "    \n",
    "    for i, threshold in enumerate(threshold_array):\n",
    "        (tpr, fpr) = decision_tree_model_test_TPR_FPR(\n",
    "            clf,\n",
    "            test_data,\n",
    "            decision_tree_columns,\n",
    "            threshold,\n",
    "        )\n",
    "    \n",
    "        threshold_array[i] = threshold\n",
    "        tpr_array[i] = tpr\n",
    "        fpr_array[i] = fpr\n",
    "    \n",
    "    sort_index = numpy.argsort(fpr_array)\n",
    "    tpr_array = tpr_array[sort_index]\n",
    "    fpr_array = fpr_array[sort_index]\n",
    "    threshold_array = threshold_array[sort_index]\n",
    "\n",
    "    # calculate threshold array, TPR and FPR\n",
    "    # (roc_curve_fpr, roc_curve_tpr, roc_curve_threshold) = roc_curve(\n",
    "    #     test_data['loan_status'],\n",
    "    #     decision_tree_model_predict_proba(clf, test_data, decision_tree_columns),\n",
    "    # )\n",
    "    # may not include the -inf and +inf bounds?\n",
    "\n",
    "    # use TPR and FPR to calculate AUC\n",
    "    roc_auc = auc(fpr_array, tpr_array)\n",
    "    #roc_auc = auc(roc_curve_fpr, roc_curve_tpr)\n",
    "    \n",
    "    return roc_auc"
   ]
  },
  {
   "cell_type": "code",
   "execution_count": 30,
   "id": "a0f07780-5a1b-438a-9423-1e0e72e19e88",
   "metadata": {},
   "outputs": [],
   "source": [
    "def decision_tree_model_predict(\n",
    "    clf,\n",
    "    data_predict,\n",
    "    decision_tree_columns,\n",
    "    decision_tree_columns_with_id,\n",
    "):\n",
    "    \n",
    "    X_predict = data_predict[decision_tree_columns_with_id].copy()\n",
    "\n",
    "    Z_predict = clf.predict_proba(X_predict[decision_tree_columns])\n",
    "    X_predict['loan_status'] = Z_predict[:, 1]\n",
    "\n",
    "    return X_predict"
   ]
  },
  {
   "cell_type": "code",
   "execution_count": 31,
   "id": "730405ff-0469-466e-af48-5be3695d390d",
   "metadata": {},
   "outputs": [],
   "source": [
    "def decision_tree_model_predict_write_to_csv(\n",
    "    data_predict,\n",
    "    filename,\n",
    "):\n",
    "    data_predict[['id', 'loan_status']].to_csv(filename, index=False)"
   ]
  },
  {
   "cell_type": "markdown",
   "id": "7246e95d-5913-4de1-bf9f-1bd4bfc44f5b",
   "metadata": {},
   "source": [
    "# Optimize on all data - produce ROC curve\n",
    "\n",
    "- Train original good performing model, min samples split 30, min samples leaf 4\n",
    "- Train using slightly worse model where max depth was optimized to 100"
   ]
  },
  {
   "cell_type": "code",
   "execution_count": 32,
   "id": "cb24f407-6b25-464b-abc7-6e1fff4c9521",
   "metadata": {},
   "outputs": [],
   "source": [
    "# train with everything\n",
    "\n",
    "max_depth = None #100\n",
    "min_samples_split = 30 #2\n",
    "max_leaf_nodes = None\n",
    "min_samples_leaf = 4 #1\n",
    "min_impurity_decrease = 0.0\n",
    "\n",
    "i = 0\n",
    "\n",
    "test_index = folds[i]\n",
    "train_index = numpy.concatenate([folds[j] for j in range(k) if j != i])\n",
    "            \n",
    "training_data = all_training_data.loc[train_index]\n",
    "test_data = all_training_data.loc[test_index]\n",
    "\n",
    "(\n",
    "    clf,\n",
    "    feature_importances,\n",
    "    accuracy_in_sample,\n",
    ") = decision_tree_model_train(\n",
    "    training_data,\n",
    "    decision_tree_columns,\n",
    "    max_depth,\n",
    "    min_samples_split,\n",
    "    max_leaf_nodes,\n",
    "    min_samples_leaf,\n",
    "    min_impurity_decrease,\n",
    ")\n",
    "\n",
    "accuracy_out_of_sample = decision_tree_model_test(\n",
    "    clf,\n",
    "    test_data,\n",
    "    decision_tree_columns,\n",
    ")\n",
    "\n",
    "(tpr, fpr) = decision_tree_model_test_TPR_FPR(\n",
    "    clf,\n",
    "    test_data,\n",
    "    decision_tree_columns,\n",
    "    0.5,\n",
    ")\n",
    "\n",
    "# data_predict = decision_tree_model_predict(\n",
    "#     clf,\n",
    "#     data_test_copy,\n",
    "#     decision_tree_columns,\n",
    "#     decision_tree_columns_with_id,\n",
    "# )\n",
    "\n",
    "#decision_tree_model_predict_write_to_csv(\n",
    "#    data_predict,\n",
    "#    f'decision_tree_model_one_hot_encoder_2_clean_code-2-max_depth_100_all_training_data.csv'\n",
    "#)"
   ]
  },
  {
   "cell_type": "markdown",
   "id": "8356b86d-f32a-42db-87b1-a179b92bd3a3",
   "metadata": {},
   "source": [
    "# Plot the distribution of `predict_proba` values"
   ]
  },
  {
   "cell_type": "code",
   "execution_count": 33,
   "id": "633c7cdb-9544-474c-8622-17b5eb620599",
   "metadata": {},
   "outputs": [],
   "source": [
    "data_predict = decision_tree_model_predict(\n",
    "    clf,\n",
    "    data_test_copy,\n",
    "    decision_tree_columns,\n",
    "    decision_tree_columns_with_id,\n",
    ")"
   ]
  },
  {
   "cell_type": "code",
   "execution_count": 34,
   "id": "410aee33-ec21-4587-945f-d895dcc8bb25",
   "metadata": {},
   "outputs": [
    {
     "data": {
      "image/png": "[encoded data removed]",
      "text/plain": [
       "<Figure size 640x480 with 1 Axes>"
      ]
     },
     "metadata": {},
     "output_type": "display_data"
    }
   ],
   "source": [
    "plt.figure()\n",
    "plt.hist(data_predict['loan_status'], bins=100)\n",
    "plt.yscale('log')\n",
    "\n",
    "plt.xlabel('predict_proba')\n",
    "plt.ylabel('frequency')\n",
    "\n",
    "None"
   ]
  },
  {
   "cell_type": "code",
   "execution_count": 68,
   "id": "df0ed556-1e9f-45f5-9d4c-b9987ce35d3e",
   "metadata": {},
   "outputs": [],
   "source": [
    "# this code creates `threshold_array`, and it is sorted in ascending order\n",
    "\n",
    "data_predict = decision_tree_model_predict(\n",
    "    clf,\n",
    "    data_test_copy,\n",
    "    decision_tree_columns,\n",
    "    decision_tree_columns_with_id,\n",
    ")\n",
    "\n",
    "threshold_array = numpy.concatenate(\n",
    "    (\n",
    "        numpy.array([-numpy.inf]),\n",
    "        numpy.unique(data_predict['loan_status']),\n",
    "        numpy.array([1.1]),\n",
    "    )\n",
    ")"
   ]
  },
  {
   "cell_type": "code",
   "execution_count": 70,
   "id": "8033e4ee-6c54-4417-acb3-bfe78c15d4ee",
   "metadata": {},
   "outputs": [],
   "source": [
    "count = len(threshold_array)\n",
    "\n",
    "accuracy_array = numpy.zeros(shape=(count,), dtype=float)\n",
    "\n",
    "for i, threshold in enumerate(threshold_array):\n",
    "    accuracy = decision_tree_model_test_threshold(\n",
    "        clf,\n",
    "        test_data,\n",
    "        decision_tree_columns,\n",
    "        threshold,\n",
    "    )\n",
    "\n",
    "    threshold_array[i] = threshold\n",
    "    accuracy_array[i] = accuracy"
   ]
  },
  {
   "cell_type": "markdown",
   "id": "78bd1e4b-a135-40d8-bdf9-bb5f90d79a34",
   "metadata": {},
   "source": [
    "# Plot Model Accuracy"
   ]
  },
  {
   "cell_type": "code",
   "execution_count": 73,
   "id": "49590270-34c7-463d-a601-40054471c9f0",
   "metadata": {},
   "outputs": [
    {
     "data": {
      "image/png": "[encoded data removed]",
      "text/plain": [
       "<Figure size 640x480 with 1 Axes>"
      ]
     },
     "metadata": {},
     "output_type": "display_data"
    }
   ],
   "source": [
    "plt.figure()\n",
    "\n",
    "plt.plot(\n",
    "    threshold_array,\n",
    "    accuracy_array,\n",
    "    linewidth=2,\n",
    ")\n",
    "\n",
    "plt.ylabel('accuracy')\n",
    "plt.xlabel('probability categorization threshold')\n",
    "plt.xlim(0.0, 1.0)\n",
    "\n",
    "None"
   ]
  },
  {
   "cell_type": "markdown",
   "id": "b41c0461-54a6-47d6-a184-f77c69fdbdef",
   "metadata": {},
   "source": [
    "# Plot Model ROC AUC"
   ]
  },
  {
   "cell_type": "code",
   "execution_count": 35,
   "id": "5daed33e-6a9f-4a54-9556-3a51a4b982bb",
   "metadata": {},
   "outputs": [],
   "source": [
    "# todo"
   ]
  },
  {
   "cell_type": "markdown",
   "id": "dc398a80-d6c5-42c6-bee8-3f7fae4bda68",
   "metadata": {},
   "source": [
    "# Decision Tree Model - Min Samples Split and Min Samples Leaf State Space Search"
   ]
  },
  {
   "cell_type": "code",
   "execution_count": 93,
   "id": "864ee9c0-8bd8-4f2c-ae36-1cde4e39ceb2",
   "metadata": {
    "scrolled": true
   },
   "outputs": [
    {
     "name": "stdout",
     "output_type": "stream",
     "text": [
      "processing min_samples_leaf=2 min_samples_split=10\n",
      "processing min_samples_leaf=2 min_samples_split=20\n",
      "processing min_samples_leaf=2 min_samples_split=30\n",
      "processing min_samples_leaf=2 min_samples_split=40\n",
      "processing min_samples_leaf=2 min_samples_split=50\n",
      "processing min_samples_leaf=2 min_samples_split=60\n",
      "processing min_samples_leaf=2 min_samples_split=70\n",
      "processing min_samples_leaf=2 min_samples_split=80\n",
      "processing min_samples_leaf=2 min_samples_split=90\n",
      "processing min_samples_leaf=2 min_samples_split=100\n",
      "processing min_samples_leaf=2 min_samples_split=200\n",
      "processing min_samples_leaf=2 min_samples_split=300\n",
      "processing min_samples_leaf=2 min_samples_split=400\n",
      "processing min_samples_leaf=2 min_samples_split=500\n",
      "processing min_samples_leaf=2 min_samples_split=600\n",
      "processing min_samples_leaf=2 min_samples_split=700\n",
      "processing min_samples_leaf=2 min_samples_split=800\n",
      "processing min_samples_leaf=2 min_samples_split=900\n",
      "processing min_samples_leaf=2 min_samples_split=1000\n",
      "processing min_samples_leaf=4 min_samples_split=10\n",
      "processing min_samples_leaf=4 min_samples_split=20\n",
      "processing min_samples_leaf=4 min_samples_split=30\n",
      "processing min_samples_leaf=4 min_samples_split=40\n",
      "processing min_samples_leaf=4 min_samples_split=50\n",
      "processing min_samples_leaf=4 min_samples_split=60\n",
      "processing min_samples_leaf=4 min_samples_split=70\n",
      "processing min_samples_leaf=4 min_samples_split=80\n",
      "processing min_samples_leaf=4 min_samples_split=90\n",
      "processing min_samples_leaf=4 min_samples_split=100\n",
      "processing min_samples_leaf=4 min_samples_split=200\n",
      "processing min_samples_leaf=4 min_samples_split=300\n",
      "processing min_samples_leaf=4 min_samples_split=400\n",
      "processing min_samples_leaf=4 min_samples_split=500\n",
      "processing min_samples_leaf=4 min_samples_split=600\n",
      "processing min_samples_leaf=4 min_samples_split=700\n",
      "processing min_samples_leaf=4 min_samples_split=800\n",
      "processing min_samples_leaf=4 min_samples_split=900\n",
      "processing min_samples_leaf=4 min_samples_split=1000\n",
      "processing min_samples_leaf=8 min_samples_split=10\n",
      "processing min_samples_leaf=8 min_samples_split=20\n",
      "processing min_samples_leaf=8 min_samples_split=30\n",
      "processing min_samples_leaf=8 min_samples_split=40\n",
      "processing min_samples_leaf=8 min_samples_split=50\n",
      "processing min_samples_leaf=8 min_samples_split=60\n",
      "processing min_samples_leaf=8 min_samples_split=70\n",
      "processing min_samples_leaf=8 min_samples_split=80\n",
      "processing min_samples_leaf=8 min_samples_split=90\n",
      "processing min_samples_leaf=8 min_samples_split=100\n",
      "processing min_samples_leaf=8 min_samples_split=200\n",
      "processing min_samples_leaf=8 min_samples_split=300\n",
      "processing min_samples_leaf=8 min_samples_split=400\n",
      "processing min_samples_leaf=8 min_samples_split=500\n",
      "processing min_samples_leaf=8 min_samples_split=600\n",
      "processing min_samples_leaf=8 min_samples_split=700\n",
      "processing min_samples_leaf=8 min_samples_split=800\n",
      "processing min_samples_leaf=8 min_samples_split=900\n",
      "processing min_samples_leaf=8 min_samples_split=1000\n",
      "processing min_samples_leaf=16 min_samples_split=10\n",
      "processing min_samples_leaf=16 min_samples_split=20\n",
      "processing min_samples_leaf=16 min_samples_split=30\n",
      "processing min_samples_leaf=16 min_samples_split=40\n",
      "processing min_samples_leaf=16 min_samples_split=50\n",
      "processing min_samples_leaf=16 min_samples_split=60\n",
      "processing min_samples_leaf=16 min_samples_split=70\n",
      "processing min_samples_leaf=16 min_samples_split=80\n",
      "processing min_samples_leaf=16 min_samples_split=90\n",
      "processing min_samples_leaf=16 min_samples_split=100\n",
      "processing min_samples_leaf=16 min_samples_split=200\n",
      "processing min_samples_leaf=16 min_samples_split=300\n",
      "processing min_samples_leaf=16 min_samples_split=400\n",
      "processing min_samples_leaf=16 min_samples_split=500\n",
      "processing min_samples_leaf=16 min_samples_split=600\n",
      "processing min_samples_leaf=16 min_samples_split=700\n",
      "processing min_samples_leaf=16 min_samples_split=800\n",
      "processing min_samples_leaf=16 min_samples_split=900\n",
      "processing min_samples_leaf=16 min_samples_split=1000\n",
      "processing min_samples_leaf=32 min_samples_split=10\n",
      "processing min_samples_leaf=32 min_samples_split=20\n",
      "processing min_samples_leaf=32 min_samples_split=30\n",
      "processing min_samples_leaf=32 min_samples_split=40\n",
      "processing min_samples_leaf=32 min_samples_split=50\n",
      "processing min_samples_leaf=32 min_samples_split=60\n",
      "processing min_samples_leaf=32 min_samples_split=70\n",
      "processing min_samples_leaf=32 min_samples_split=80\n",
      "processing min_samples_leaf=32 min_samples_split=90\n",
      "processing min_samples_leaf=32 min_samples_split=100\n",
      "processing min_samples_leaf=32 min_samples_split=200\n",
      "processing min_samples_leaf=32 min_samples_split=300\n",
      "processing min_samples_leaf=32 min_samples_split=400\n",
      "processing min_samples_leaf=32 min_samples_split=500\n",
      "processing min_samples_leaf=32 min_samples_split=600\n",
      "processing min_samples_leaf=32 min_samples_split=700\n",
      "processing min_samples_leaf=32 min_samples_split=800\n",
      "processing min_samples_leaf=32 min_samples_split=900\n",
      "processing min_samples_leaf=32 min_samples_split=1000\n",
      "processing min_samples_leaf=64 min_samples_split=10\n",
      "processing min_samples_leaf=64 min_samples_split=20\n",
      "processing min_samples_leaf=64 min_samples_split=30\n",
      "processing min_samples_leaf=64 min_samples_split=40\n",
      "processing min_samples_leaf=64 min_samples_split=50\n",
      "processing min_samples_leaf=64 min_samples_split=60\n",
      "processing min_samples_leaf=64 min_samples_split=70\n",
      "processing min_samples_leaf=64 min_samples_split=80\n",
      "processing min_samples_leaf=64 min_samples_split=90\n",
      "processing min_samples_leaf=64 min_samples_split=100\n",
      "processing min_samples_leaf=64 min_samples_split=200\n",
      "processing min_samples_leaf=64 min_samples_split=300\n",
      "processing min_samples_leaf=64 min_samples_split=400\n",
      "processing min_samples_leaf=64 min_samples_split=500\n",
      "processing min_samples_leaf=64 min_samples_split=600\n",
      "processing min_samples_leaf=64 min_samples_split=700\n",
      "processing min_samples_leaf=64 min_samples_split=800\n",
      "processing min_samples_leaf=64 min_samples_split=900\n",
      "processing min_samples_leaf=64 min_samples_split=1000\n",
      "processing min_samples_leaf=128 min_samples_split=10\n",
      "processing min_samples_leaf=128 min_samples_split=20\n",
      "processing min_samples_leaf=128 min_samples_split=30\n",
      "processing min_samples_leaf=128 min_samples_split=40\n",
      "processing min_samples_leaf=128 min_samples_split=50\n",
      "processing min_samples_leaf=128 min_samples_split=60\n",
      "processing min_samples_leaf=128 min_samples_split=70\n",
      "processing min_samples_leaf=128 min_samples_split=80\n",
      "processing min_samples_leaf=128 min_samples_split=90\n",
      "processing min_samples_leaf=128 min_samples_split=100\n",
      "processing min_samples_leaf=128 min_samples_split=200\n",
      "processing min_samples_leaf=128 min_samples_split=300\n",
      "processing min_samples_leaf=128 min_samples_split=400\n",
      "processing min_samples_leaf=128 min_samples_split=500\n",
      "processing min_samples_leaf=128 min_samples_split=600\n",
      "processing min_samples_leaf=128 min_samples_split=700\n",
      "processing min_samples_leaf=128 min_samples_split=800\n",
      "processing min_samples_leaf=128 min_samples_split=900\n",
      "processing min_samples_leaf=128 min_samples_split=1000\n",
      "processing min_samples_leaf=256 min_samples_split=10\n",
      "processing min_samples_leaf=256 min_samples_split=20\n",
      "processing min_samples_leaf=256 min_samples_split=30\n",
      "processing min_samples_leaf=256 min_samples_split=40\n",
      "processing min_samples_leaf=256 min_samples_split=50\n",
      "processing min_samples_leaf=256 min_samples_split=60\n",
      "processing min_samples_leaf=256 min_samples_split=70\n",
      "processing min_samples_leaf=256 min_samples_split=80\n",
      "processing min_samples_leaf=256 min_samples_split=90\n",
      "processing min_samples_leaf=256 min_samples_split=100\n",
      "processing min_samples_leaf=256 min_samples_split=200\n",
      "processing min_samples_leaf=256 min_samples_split=300\n",
      "processing min_samples_leaf=256 min_samples_split=400\n",
      "processing min_samples_leaf=256 min_samples_split=500\n",
      "processing min_samples_leaf=256 min_samples_split=600\n",
      "processing min_samples_leaf=256 min_samples_split=700\n",
      "processing min_samples_leaf=256 min_samples_split=800\n",
      "processing min_samples_leaf=256 min_samples_split=900\n",
      "processing min_samples_leaf=256 min_samples_split=1000\n",
      "processing min_samples_leaf=512 min_samples_split=10\n",
      "processing min_samples_leaf=512 min_samples_split=20\n",
      "processing min_samples_leaf=512 min_samples_split=30\n",
      "processing min_samples_leaf=512 min_samples_split=40\n",
      "processing min_samples_leaf=512 min_samples_split=50\n",
      "processing min_samples_leaf=512 min_samples_split=60\n",
      "processing min_samples_leaf=512 min_samples_split=70\n",
      "processing min_samples_leaf=512 min_samples_split=80\n",
      "processing min_samples_leaf=512 min_samples_split=90\n",
      "processing min_samples_leaf=512 min_samples_split=100\n",
      "processing min_samples_leaf=512 min_samples_split=200\n",
      "processing min_samples_leaf=512 min_samples_split=300\n",
      "processing min_samples_leaf=512 min_samples_split=400\n",
      "processing min_samples_leaf=512 min_samples_split=500\n",
      "processing min_samples_leaf=512 min_samples_split=600\n",
      "processing min_samples_leaf=512 min_samples_split=700\n",
      "processing min_samples_leaf=512 min_samples_split=800\n",
      "processing min_samples_leaf=512 min_samples_split=900\n",
      "processing min_samples_leaf=512 min_samples_split=1000\n",
      "done\n"
     ]
    }
   ],
   "source": [
    "max_depth = None\n",
    "min_samples_split = 2\n",
    "max_leaf_nodes = None\n",
    "min_samples_leaf = 1\n",
    "min_impurity_decrease = 0.0\n",
    "\n",
    "accuracy_in_sample_list = []\n",
    "accuracy_out_of_sample_list = []\n",
    "auc_list = []\n",
    "max_depth_list = []\n",
    "min_samples_split_list = []\n",
    "max_leaf_nodes_list = []\n",
    "min_samples_leaf_list = []\n",
    "min_impurity_decrease_list = []\n",
    "\n",
    "max_depth_list_input = []\n",
    "min_samples_split_list_input = [10, 20, 30, 40, 50, 60, 70, 80, 90, 100, 200, 300, 400, 500, 600, 700, 800, 900,\n",
    "                                1000, ]\n",
    "max_leaf_nodes_list_input = []\n",
    "min_samples_leaf_list_input = [2, 4, 8, 16, 32, 64, 128, 256, 512]\n",
    "min_impurity_decrease_list_input = [0.0, 0.001, 0.01, 0.1]\n",
    "\n",
    "filename = f'decision_tree_model_by_min_samples_split_min_samples_leaf_AUC.csv'\n",
    "\n",
    "df = None\n",
    "\n",
    "for min_samples_leaf in min_samples_leaf_list_input:\n",
    "    for min_samples_split in min_samples_split_list_input:\n",
    "        print(f'processing min_samples_leaf={min_samples_leaf} min_samples_split={min_samples_split}')\n",
    "    \n",
    "        # read data from file\n",
    "        if df is None:\n",
    "            try:\n",
    "                df = pandas.read_csv(filename, index_col=0)\n",
    "            except:\n",
    "                pass\n",
    "    \n",
    "            if df is not None:\n",
    "                accuracy_in_sample_list = df['accuracy_in_sample'].to_numpy().tolist()\n",
    "                accuracy_out_of_sample_list = df['accuracy_out_of_sample'].to_numpy().tolist()\n",
    "                auc_list = df['auc'].to_numpy().tolist()\n",
    "                max_depth_list = df['max_depth'].to_numpy().tolist()\n",
    "                min_samples_split_list = df['min_samples_split'].to_numpy().tolist()\n",
    "                max_leaf_nodes_list = df['max_leaf_nodes'].to_numpy().tolist()\n",
    "                min_samples_leaf_list = df['min_samples_leaf'].to_numpy().tolist()\n",
    "                min_impurity_decrease_list = df['min_impurity_decrease'].to_numpy().tolist()\n",
    "\n",
    "        if df is not None:\n",
    "            if len(df[(df['min_samples_leaf'] == min_samples_leaf) & (df['min_samples_split'] == min_samples_split)]) > 0:\n",
    "                continue\n",
    "        \n",
    "        for i in range(k):\n",
    "            test_index = folds[i]\n",
    "            train_index = numpy.concatenate([folds[j] for j in range(k) if j != i])\n",
    "                \n",
    "            training_data = all_training_data.loc[train_index]\n",
    "            test_data = all_training_data.loc[test_index]\n",
    "            \n",
    "            (\n",
    "                clf,\n",
    "                feature_importances,\n",
    "                accuracy_in_sample,\n",
    "            ) = decision_tree_model_train(\n",
    "                training_data,\n",
    "                decision_tree_columns,\n",
    "                max_depth,\n",
    "                min_samples_split,\n",
    "                max_leaf_nodes,\n",
    "                min_samples_leaf,\n",
    "                min_impurity_decrease,\n",
    "            )\n",
    "            \n",
    "            accuracy_out_of_sample = decision_tree_model_test(\n",
    "                clf,\n",
    "                test_data,\n",
    "                decision_tree_columns,\n",
    "            )\n",
    "    \n",
    "            auc_ = decision_tree_model_test_AUC(\n",
    "                clf,\n",
    "                test_data,\n",
    "                decision_tree_columns,\n",
    "            )\n",
    "        \n",
    "            accuracy_in_sample_list.append(accuracy_in_sample)\n",
    "            accuracy_out_of_sample_list.append(accuracy_out_of_sample)\n",
    "            auc_list.append(auc_)\n",
    "            max_depth_list.append(max_depth)\n",
    "            min_samples_split_list.append(min_samples_split)\n",
    "            max_leaf_nodes_list.append(max_leaf_nodes)\n",
    "            min_samples_leaf_list.append(min_samples_leaf)\n",
    "            min_impurity_decrease_list.append(min_impurity_decrease)\n",
    "            \n",
    "            #data_predict = decision_tree_model_predict(\n",
    "            #    clf,\n",
    "            #    data_test_copy,\n",
    "            #    decision_tree_columns,\n",
    "            #    decision_tree_columns_with_id,\n",
    "            #)\n",
    "            \n",
    "            #decision_tree_model_predict_write_to_csv(\n",
    "            #    data_predict,\n",
    "            #    f'decision_tree_model_one_hot_encoder_2_clean_code-2-max_depth_none.csv'\n",
    "            #)\n",
    "    \n",
    "        # write data to file\n",
    "        df = pandas.DataFrame(\n",
    "            {\n",
    "                'max_depth': max_depth_list,\n",
    "                'min_samples_split': min_samples_split_list,\n",
    "                'max_leaf_nodes': max_leaf_nodes_list,\n",
    "                'min_samples_leaf': min_samples_leaf_list,\n",
    "                'min_impurity_decrease': min_impurity_decrease_list,\n",
    "                'accuracy_in_sample': accuracy_in_sample_list,\n",
    "                'accuracy_out_of_sample': accuracy_out_of_sample_list,\n",
    "                'auc': auc_list,\n",
    "                #'public_score': public_score_list,\n",
    "                #'private_score': private_score_list,\n",
    "            }\n",
    "        )\n",
    "        df['max_depth'] = df['max_depth'].astype(object)\n",
    "        df['max_leaf_nodes'] = df['max_leaf_nodes'].astype(object)\n",
    "        df.loc[df['max_depth'].isna(), 'max_depth'] = 'none'\n",
    "        df.loc[df['max_leaf_nodes'].isna(), 'max_leaf_nodes'] = 'none'\n",
    "        df.to_csv(filename, index=True)\n",
    "\n",
    "print(f'done')"
   ]
  },
  {
   "cell_type": "code",
   "execution_count": 94,
   "id": "d6cc5440-76c3-4317-848c-e08ee9385ba3",
   "metadata": {},
   "outputs": [],
   "source": [
    "df = pandas.DataFrame(\n",
    "    {\n",
    "        'max_depth': max_depth_list,\n",
    "        'min_samples_split': min_samples_split_list,\n",
    "        'max_leaf_nodes': max_leaf_nodes_list,\n",
    "        'min_samples_leaf': min_samples_leaf_list,\n",
    "        'min_impurity_decrease': min_impurity_decrease_list,\n",
    "        'accuracy_in_sample': accuracy_in_sample_list,\n",
    "        'accuracy_out_of_sample': accuracy_out_of_sample_list,\n",
    "        'auc': auc_list,\n",
    "        #'public_score': public_score_list,\n",
    "        #'private_score': private_score_list,\n",
    "    }\n",
    ")"
   ]
  },
  {
   "cell_type": "code",
   "execution_count": 95,
   "id": "47fdc491-228e-4eb4-8c6b-9bdc1c4ae24a",
   "metadata": {},
   "outputs": [],
   "source": [
    "df.loc[df['max_depth'].isna(), 'max_depth'] = 'none'\n",
    "df.loc[df['max_leaf_nodes'].isna(), 'max_leaf_nodes'] = 'none'"
   ]
  },
  {
   "cell_type": "code",
   "execution_count": 96,
   "id": "5db46613-559d-4007-a0ba-92bce4fab310",
   "metadata": {},
   "outputs": [
    {
     "data": {
      "text/html": [
       "<div>\n",
       "<style scoped>\n",
       "    .dataframe tbody tr th:only-of-type {\n",
       "        vertical-align: middle;\n",
       "    }\n",
       "\n",
       "    .dataframe tbody tr th {\n",
       "        vertical-align: top;\n",
       "    }\n",
       "\n",
       "    .dataframe thead th {\n",
       "        text-align: right;\n",
       "    }\n",
       "</style>\n",
       "<table border=\"1\" class=\"dataframe\">\n",
       "  <thead>\n",
       "    <tr style=\"text-align: right;\">\n",
       "      <th></th>\n",
       "      <th>max_depth</th>\n",
       "      <th>min_samples_split</th>\n",
       "      <th>max_leaf_nodes</th>\n",
       "      <th>min_samples_leaf</th>\n",
       "      <th>min_impurity_decrease</th>\n",
       "      <th>accuracy_in_sample</th>\n",
       "      <th>accuracy_out_of_sample</th>\n",
       "      <th>auc</th>\n",
       "    </tr>\n",
       "  </thead>\n",
       "  <tbody>\n",
       "    <tr>\n",
       "      <th>0</th>\n",
       "      <td>none</td>\n",
       "      <td>10</td>\n",
       "      <td>none</td>\n",
       "      <td>8</td>\n",
       "      <td>0.0</td>\n",
       "      <td>0.955058</td>\n",
       "      <td>0.931271</td>\n",
       "      <td>0.889165</td>\n",
       "    </tr>\n",
       "    <tr>\n",
       "      <th>1</th>\n",
       "      <td>none</td>\n",
       "      <td>10</td>\n",
       "      <td>none</td>\n",
       "      <td>8</td>\n",
       "      <td>0.0</td>\n",
       "      <td>0.954908</td>\n",
       "      <td>0.927835</td>\n",
       "      <td>0.903055</td>\n",
       "    </tr>\n",
       "    <tr>\n",
       "      <th>2</th>\n",
       "      <td>none</td>\n",
       "      <td>10</td>\n",
       "      <td>none</td>\n",
       "      <td>8</td>\n",
       "      <td>0.0</td>\n",
       "      <td>0.955232</td>\n",
       "      <td>0.935853</td>\n",
       "      <td>0.887407</td>\n",
       "    </tr>\n",
       "    <tr>\n",
       "      <th>3</th>\n",
       "      <td>none</td>\n",
       "      <td>10</td>\n",
       "      <td>none</td>\n",
       "      <td>8</td>\n",
       "      <td>0.0</td>\n",
       "      <td>0.955024</td>\n",
       "      <td>0.933562</td>\n",
       "      <td>0.907063</td>\n",
       "    </tr>\n",
       "    <tr>\n",
       "      <th>4</th>\n",
       "      <td>none</td>\n",
       "      <td>10</td>\n",
       "      <td>none</td>\n",
       "      <td>8</td>\n",
       "      <td>0.0</td>\n",
       "      <td>0.955417</td>\n",
       "      <td>0.958763</td>\n",
       "      <td>0.927960</td>\n",
       "    </tr>\n",
       "    <tr>\n",
       "      <th>...</th>\n",
       "      <td>...</td>\n",
       "      <td>...</td>\n",
       "      <td>...</td>\n",
       "      <td>...</td>\n",
       "      <td>...</td>\n",
       "      <td>...</td>\n",
       "      <td>...</td>\n",
       "      <td>...</td>\n",
       "    </tr>\n",
       "    <tr>\n",
       "      <th>17095</th>\n",
       "      <td>none</td>\n",
       "      <td>1000</td>\n",
       "      <td>none</td>\n",
       "      <td>512</td>\n",
       "      <td>0.0</td>\n",
       "      <td>0.933902</td>\n",
       "      <td>0.923165</td>\n",
       "      <td>0.918302</td>\n",
       "    </tr>\n",
       "    <tr>\n",
       "      <th>17096</th>\n",
       "      <td>none</td>\n",
       "      <td>1000</td>\n",
       "      <td>none</td>\n",
       "      <td>512</td>\n",
       "      <td>0.0</td>\n",
       "      <td>0.933728</td>\n",
       "      <td>0.940367</td>\n",
       "      <td>0.943343</td>\n",
       "    </tr>\n",
       "    <tr>\n",
       "      <th>17097</th>\n",
       "      <td>none</td>\n",
       "      <td>1000</td>\n",
       "      <td>none</td>\n",
       "      <td>512</td>\n",
       "      <td>0.0</td>\n",
       "      <td>0.933856</td>\n",
       "      <td>0.927752</td>\n",
       "      <td>0.922060</td>\n",
       "    </tr>\n",
       "    <tr>\n",
       "      <th>17098</th>\n",
       "      <td>none</td>\n",
       "      <td>1000</td>\n",
       "      <td>none</td>\n",
       "      <td>512</td>\n",
       "      <td>0.0</td>\n",
       "      <td>0.933740</td>\n",
       "      <td>0.939220</td>\n",
       "      <td>0.935508</td>\n",
       "    </tr>\n",
       "    <tr>\n",
       "      <th>17099</th>\n",
       "      <td>none</td>\n",
       "      <td>1000</td>\n",
       "      <td>none</td>\n",
       "      <td>512</td>\n",
       "      <td>0.0</td>\n",
       "      <td>0.933775</td>\n",
       "      <td>0.935780</td>\n",
       "      <td>0.931929</td>\n",
       "    </tr>\n",
       "  </tbody>\n",
       "</table>\n",
       "<p>17100 rows × 8 columns</p>\n",
       "</div>"
      ],
      "text/plain": [
       "      max_depth  min_samples_split max_leaf_nodes  min_samples_leaf  \\\n",
       "0          none                 10           none                 8   \n",
       "1          none                 10           none                 8   \n",
       "2          none                 10           none                 8   \n",
       "3          none                 10           none                 8   \n",
       "4          none                 10           none                 8   \n",
       "...         ...                ...            ...               ...   \n",
       "17095      none               1000           none               512   \n",
       "17096      none               1000           none               512   \n",
       "17097      none               1000           none               512   \n",
       "17098      none               1000           none               512   \n",
       "17099      none               1000           none               512   \n",
       "\n",
       "       min_impurity_decrease  accuracy_in_sample  accuracy_out_of_sample  \\\n",
       "0                        0.0            0.955058                0.931271   \n",
       "1                        0.0            0.954908                0.927835   \n",
       "2                        0.0            0.955232                0.935853   \n",
       "3                        0.0            0.955024                0.933562   \n",
       "4                        0.0            0.955417                0.958763   \n",
       "...                      ...                 ...                     ...   \n",
       "17095                    0.0            0.933902                0.923165   \n",
       "17096                    0.0            0.933728                0.940367   \n",
       "17097                    0.0            0.933856                0.927752   \n",
       "17098                    0.0            0.933740                0.939220   \n",
       "17099                    0.0            0.933775                0.935780   \n",
       "\n",
       "            auc  \n",
       "0      0.889165  \n",
       "1      0.903055  \n",
       "2      0.887407  \n",
       "3      0.907063  \n",
       "4      0.927960  \n",
       "...         ...  \n",
       "17095  0.918302  \n",
       "17096  0.943343  \n",
       "17097  0.922060  \n",
       "17098  0.935508  \n",
       "17099  0.931929  \n",
       "\n",
       "[17100 rows x 8 columns]"
      ]
     },
     "execution_count": 96,
     "metadata": {},
     "output_type": "execute_result"
    }
   ],
   "source": [
    "df"
   ]
  },
  {
   "cell_type": "code",
   "execution_count": 119,
   "id": "50bd3d5a-deff-45d6-bea5-6c6e23c49923",
   "metadata": {},
   "outputs": [],
   "source": [
    "df.loc[df['max_depth'] == 'none', 'max_depth'] = 100 # number of features\n",
    "df['max_depth'] = df['max_depth'].astype(float)\n",
    "df['max_depth'] = df['max_depth'].astype(int)"
   ]
  },
  {
   "cell_type": "markdown",
   "id": "13afdcb9-5c05-412b-bba0-54ab0602c646",
   "metadata": {},
   "source": [
    "# Aggregate data for line graphs"
   ]
  },
  {
   "cell_type": "code",
   "execution_count": 35,
   "id": "b3bd3f87-7bde-4c77-87d5-68f86bc5c1a5",
   "metadata": {},
   "outputs": [],
   "source": [
    "aggregation_spec = {\n",
    "    f'{input_column}': [\n",
    "        (f'{input_column}_mean', 'mean'),\n",
    "        (f'{input_column}_median', 'median'),\n",
    "        (f'{input_column}_min', 'min'),\n",
    "        (f'{input_column}_max', 'max'),\n",
    "        (f'{input_column}_q1', lambda x: x.quantile(0.25)),\n",
    "        (f'{input_column}_q3', lambda x: x.quantile(0.75)),\n",
    "    ]\n",
    "    for input_column in [\n",
    "        'accuracy_in_sample',\n",
    "        'accuracy_out_of_sample',\n",
    "        'auc',\n",
    "        #'oob_score',\n",
    "        #'public_score',\n",
    "        #'private_score',\n",
    "    ]\n",
    "}"
   ]
  },
  {
   "cell_type": "code",
   "execution_count": 97,
   "id": "9bbcfdd1-7dd5-44da-b14e-9a385ae6065d",
   "metadata": {},
   "outputs": [],
   "source": [
    "df_aggregated = df.groupby(\n",
    "    by=['max_depth', 'min_samples_split', 'max_leaf_nodes', 'min_samples_leaf', 'min_impurity_decrease']\n",
    ").aggregate(\n",
    "    aggregation_spec\n",
    ")\n",
    "\n",
    "df_aggregated.columns = [column[1] for column in df_aggregated.columns]\n",
    "\n",
    "df_aggregated.reset_index(inplace=True)"
   ]
  },
  {
   "cell_type": "code",
   "execution_count": 37,
   "id": "4b82bff2-d603-408f-855b-f405c6e184f2",
   "metadata": {},
   "outputs": [],
   "source": [
    "# TODO: don't think I need this anymore\n",
    "#df_aggregated.loc[df_aggregated['max_depth'] == 'none', 'max_depth'] = 19 # number of features\n",
    "#df_aggregated['max_depth'] = df_aggregated['max_depth'].astype(int)"
   ]
  },
  {
   "cell_type": "code",
   "execution_count": 98,
   "id": "c4e1ac06-f39a-4ce8-9333-b0412bc4975a",
   "metadata": {},
   "outputs": [
    {
     "data": {
      "text/html": [
       "<div>\n",
       "<style scoped>\n",
       "    .dataframe tbody tr th:only-of-type {\n",
       "        vertical-align: middle;\n",
       "    }\n",
       "\n",
       "    .dataframe tbody tr th {\n",
       "        vertical-align: top;\n",
       "    }\n",
       "\n",
       "    .dataframe thead th {\n",
       "        text-align: right;\n",
       "    }\n",
       "</style>\n",
       "<table border=\"1\" class=\"dataframe\">\n",
       "  <thead>\n",
       "    <tr style=\"text-align: right;\">\n",
       "      <th></th>\n",
       "      <th>min_samples_split</th>\n",
       "      <th>min_samples_leaf</th>\n",
       "      <th>auc_median</th>\n",
       "    </tr>\n",
       "  </thead>\n",
       "  <tbody>\n",
       "    <tr>\n",
       "      <th>0</th>\n",
       "      <td>10</td>\n",
       "      <td>2</td>\n",
       "      <td>0.882779</td>\n",
       "    </tr>\n",
       "    <tr>\n",
       "      <th>1</th>\n",
       "      <td>10</td>\n",
       "      <td>4</td>\n",
       "      <td>0.890950</td>\n",
       "    </tr>\n",
       "    <tr>\n",
       "      <th>2</th>\n",
       "      <td>10</td>\n",
       "      <td>8</td>\n",
       "      <td>0.905728</td>\n",
       "    </tr>\n",
       "    <tr>\n",
       "      <th>3</th>\n",
       "      <td>10</td>\n",
       "      <td>16</td>\n",
       "      <td>0.915866</td>\n",
       "    </tr>\n",
       "    <tr>\n",
       "      <th>4</th>\n",
       "      <td>10</td>\n",
       "      <td>32</td>\n",
       "      <td>0.928712</td>\n",
       "    </tr>\n",
       "    <tr>\n",
       "      <th>...</th>\n",
       "      <td>...</td>\n",
       "      <td>...</td>\n",
       "      <td>...</td>\n",
       "    </tr>\n",
       "    <tr>\n",
       "      <th>166</th>\n",
       "      <td>1000</td>\n",
       "      <td>32</td>\n",
       "      <td>0.932926</td>\n",
       "    </tr>\n",
       "    <tr>\n",
       "      <th>167</th>\n",
       "      <td>1000</td>\n",
       "      <td>64</td>\n",
       "      <td>0.932172</td>\n",
       "    </tr>\n",
       "    <tr>\n",
       "      <th>168</th>\n",
       "      <td>1000</td>\n",
       "      <td>128</td>\n",
       "      <td>0.931996</td>\n",
       "    </tr>\n",
       "    <tr>\n",
       "      <th>169</th>\n",
       "      <td>1000</td>\n",
       "      <td>256</td>\n",
       "      <td>0.929327</td>\n",
       "    </tr>\n",
       "    <tr>\n",
       "      <th>170</th>\n",
       "      <td>1000</td>\n",
       "      <td>512</td>\n",
       "      <td>0.925060</td>\n",
       "    </tr>\n",
       "  </tbody>\n",
       "</table>\n",
       "<p>171 rows × 3 columns</p>\n",
       "</div>"
      ],
      "text/plain": [
       "     min_samples_split  min_samples_leaf  auc_median\n",
       "0                   10                 2    0.882779\n",
       "1                   10                 4    0.890950\n",
       "2                   10                 8    0.905728\n",
       "3                   10                16    0.915866\n",
       "4                   10                32    0.928712\n",
       "..                 ...               ...         ...\n",
       "166               1000                32    0.932926\n",
       "167               1000                64    0.932172\n",
       "168               1000               128    0.931996\n",
       "169               1000               256    0.929327\n",
       "170               1000               512    0.925060\n",
       "\n",
       "[171 rows x 3 columns]"
      ]
     },
     "execution_count": 98,
     "metadata": {},
     "output_type": "execute_result"
    }
   ],
   "source": [
    "df_aggregated[['min_samples_split', 'min_samples_leaf', 'auc_median']]"
   ]
  },
  {
   "cell_type": "code",
   "execution_count": 105,
   "id": "6f1cb000-cb43-471e-8786-5fba944734d1",
   "metadata": {},
   "outputs": [
    {
     "data": {
      "text/html": [
       "<div>\n",
       "<style scoped>\n",
       "    .dataframe tbody tr th:only-of-type {\n",
       "        vertical-align: middle;\n",
       "    }\n",
       "\n",
       "    .dataframe tbody tr th {\n",
       "        vertical-align: top;\n",
       "    }\n",
       "\n",
       "    .dataframe thead th {\n",
       "        text-align: right;\n",
       "    }\n",
       "</style>\n",
       "<table border=\"1\" class=\"dataframe\">\n",
       "  <thead>\n",
       "    <tr style=\"text-align: right;\">\n",
       "      <th></th>\n",
       "      <th>min_samples_split</th>\n",
       "      <th>min_samples_leaf</th>\n",
       "      <th>auc_median</th>\n",
       "    </tr>\n",
       "  </thead>\n",
       "  <tbody>\n",
       "    <tr>\n",
       "      <th>112</th>\n",
       "      <td>400</td>\n",
       "      <td>32</td>\n",
       "      <td>0.936668</td>\n",
       "    </tr>\n",
       "    <tr>\n",
       "      <th>111</th>\n",
       "      <td>400</td>\n",
       "      <td>16</td>\n",
       "      <td>0.936471</td>\n",
       "    </tr>\n",
       "    <tr>\n",
       "      <th>102</th>\n",
       "      <td>300</td>\n",
       "      <td>16</td>\n",
       "      <td>0.936432</td>\n",
       "    </tr>\n",
       "    <tr>\n",
       "      <th>104</th>\n",
       "      <td>300</td>\n",
       "      <td>64</td>\n",
       "      <td>0.936363</td>\n",
       "    </tr>\n",
       "    <tr>\n",
       "      <th>113</th>\n",
       "      <td>400</td>\n",
       "      <td>64</td>\n",
       "      <td>0.936247</td>\n",
       "    </tr>\n",
       "    <tr>\n",
       "      <th>...</th>\n",
       "      <td>...</td>\n",
       "      <td>...</td>\n",
       "      <td>...</td>\n",
       "    </tr>\n",
       "    <tr>\n",
       "      <th>11</th>\n",
       "      <td>20</td>\n",
       "      <td>8</td>\n",
       "      <td>0.905622</td>\n",
       "    </tr>\n",
       "    <tr>\n",
       "      <th>10</th>\n",
       "      <td>20</td>\n",
       "      <td>4</td>\n",
       "      <td>0.901247</td>\n",
       "    </tr>\n",
       "    <tr>\n",
       "      <th>9</th>\n",
       "      <td>20</td>\n",
       "      <td>2</td>\n",
       "      <td>0.898917</td>\n",
       "    </tr>\n",
       "    <tr>\n",
       "      <th>1</th>\n",
       "      <td>10</td>\n",
       "      <td>4</td>\n",
       "      <td>0.890950</td>\n",
       "    </tr>\n",
       "    <tr>\n",
       "      <th>0</th>\n",
       "      <td>10</td>\n",
       "      <td>2</td>\n",
       "      <td>0.882779</td>\n",
       "    </tr>\n",
       "  </tbody>\n",
       "</table>\n",
       "<p>171 rows × 3 columns</p>\n",
       "</div>"
      ],
      "text/plain": [
       "     min_samples_split  min_samples_leaf  auc_median\n",
       "112                400                32    0.936668\n",
       "111                400                16    0.936471\n",
       "102                300                16    0.936432\n",
       "104                300                64    0.936363\n",
       "113                400                64    0.936247\n",
       "..                 ...               ...         ...\n",
       "11                  20                 8    0.905622\n",
       "10                  20                 4    0.901247\n",
       "9                   20                 2    0.898917\n",
       "1                   10                 4    0.890950\n",
       "0                   10                 2    0.882779\n",
       "\n",
       "[171 rows x 3 columns]"
      ]
     },
     "execution_count": 105,
     "metadata": {},
     "output_type": "execute_result"
    }
   ],
   "source": [
    "df_aggregated[\n",
    "    ['min_samples_split', 'min_samples_leaf', 'auc_median']\n",
    "].sort_values(\n",
    "    by=['auc_median'],\n",
    "    ascending=False,\n",
    ")"
   ]
  },
  {
   "cell_type": "markdown",
   "id": "393217c5-676d-4e9f-b81f-0642fcd0bc5a",
   "metadata": {},
   "source": [
    "# Plot 2d (median)"
   ]
  },
  {
   "cell_type": "code",
   "execution_count": 99,
   "id": "ff798a21-ce2c-441e-b526-e99750cf1688",
   "metadata": {},
   "outputs": [],
   "source": [
    "df_aggregated_sorted = df_aggregated.sort_values(by=['min_samples_leaf', 'min_samples_split'])\n",
    "\n",
    "x_unique = df_aggregated_sorted['min_samples_split'].unique()\n",
    "y_unique = df_aggregated_sorted['min_samples_leaf'].unique()\n",
    "\n",
    "z_grid = df_aggregated_sorted['auc_median'].to_numpy().reshape((len(y_unique), len(x_unique)))"
   ]
  },
  {
   "cell_type": "code",
   "execution_count": 100,
   "id": "665b67ee-9b66-4bc5-9cae-3f66fff8f4c1",
   "metadata": {},
   "outputs": [],
   "source": [
    "def compute_edges(vals):\n",
    "    centers = numpy.array(vals)\n",
    "    edges = numpy.zeros(len(centers) + 1)\n",
    "    edges[1:-1] = (centers[1:] + centers[:-1]) / 2\n",
    "    edges[0] = centers[0] - (centers[1] - centers[0]) / 2\n",
    "    edges[-1] = centers[-1] + (centers[-1] - centers[-2]) / 2\n",
    "    return edges"
   ]
  },
  {
   "cell_type": "code",
   "execution_count": 101,
   "id": "58e58776-ad16-4aac-ba16-a5561ae70e0a",
   "metadata": {},
   "outputs": [],
   "source": [
    "x_edges = compute_edges(x_unique)\n",
    "y_edges = compute_edges(y_unique)"
   ]
  },
  {
   "cell_type": "code",
   "execution_count": 102,
   "id": "53c7d63b-ad1a-4404-847d-f232814da1e4",
   "metadata": {},
   "outputs": [
    {
     "data": {
      "text/plain": [
       "array([   5.,   15.,   25.,   35.,   45.,   55.,   65.,   75.,   85.,\n",
       "         95.,  150.,  250.,  350.,  450.,  550.,  650.,  750.,  850.,\n",
       "        950., 1050.])"
      ]
     },
     "execution_count": 102,
     "metadata": {},
     "output_type": "execute_result"
    }
   ],
   "source": [
    "x_edges"
   ]
  },
  {
   "cell_type": "code",
   "execution_count": 150,
   "id": "cc985c3e-b430-41f3-bf8f-d9ab812e1890",
   "metadata": {},
   "outputs": [
    {
     "data": {
      "image/png": "[encoded data removed]",
      "text/plain": [
       "<Figure size 640x480 with 2 Axes>"
      ]
     },
     "metadata": {},
     "output_type": "display_data"
    }
   ],
   "source": [
    "plt.pcolormesh(\n",
    "    x_edges,\n",
    "    y_edges,\n",
    "    z_grid,\n",
    "    #origin='lower',\n",
    "    #aspect='auto',\n",
    "    shading='auto',\n",
    "    cmap='viridis',\n",
    ")\n",
    "plt.xlabel('min_samples_split')\n",
    "plt.ylabel('min_samples_leaf')\n",
    "plt.xscale('log')\n",
    "plt.yscale('log')\n",
    "plt.colorbar(label='median AUC')\n",
    "\n",
    "plt.savefig('decision_tree_model_one_hot_encoder_2_clean_code-2-AUC-state-space-search.png')\n",
    "plt.savefig('decision_tree_model_one_hot_encoder_2_clean_code-2-AUC-state-space-search.pdf')\n",
    "\n",
    "None"
   ]
  },
  {
   "cell_type": "markdown",
   "id": "470d0fc1-f4c2-425f-9081-e0f970fac265",
   "metadata": {},
   "source": [
    "# Run model for best parameters - Plot AUC Distribution from k-fold"
   ]
  },
  {
   "cell_type": "code",
   "execution_count": 112,
   "id": "ed2ff031-b9d6-4e1b-9956-7172108bc385",
   "metadata": {},
   "outputs": [],
   "source": [
    "# make prediction - optimized using 400, 32 best value from state space search\n",
    "# use kfold validation to produce distribution of AUC values\n",
    "\n",
    "max_depth = None\n",
    "min_samples_split = 400\n",
    "max_leaf_nodes = None\n",
    "min_samples_leaf = 32\n",
    "min_impurity_decrease = 0.0\n",
    "\n",
    "auc_list = []\n",
    "    \n",
    "for i in range(k):\n",
    "    test_index = folds[i]\n",
    "    train_index = numpy.concatenate([folds[j] for j in range(k) if j != i])\n",
    "\n",
    "    training_data = all_training_data.loc[train_index]\n",
    "    test_data = all_training_data.loc[test_index]\n",
    "    #training_data = all_training_data\n",
    "    #test_data = all_training_data\n",
    "    \n",
    "    (\n",
    "        clf,\n",
    "        feature_importances,\n",
    "        accuracy_in_sample,\n",
    "    ) = decision_tree_model_train(\n",
    "        training_data,\n",
    "        decision_tree_columns,\n",
    "        max_depth,\n",
    "        min_samples_split,\n",
    "        max_leaf_nodes,\n",
    "        min_samples_leaf,\n",
    "        min_impurity_decrease,\n",
    "    )\n",
    "    \n",
    "    accuracy_out_of_sample = decision_tree_model_test(\n",
    "        clf,\n",
    "        test_data,\n",
    "        decision_tree_columns,\n",
    "    )\n",
    "    \n",
    "    auc_ = decision_tree_model_test_AUC(\n",
    "        clf,\n",
    "        test_data,\n",
    "        decision_tree_columns,\n",
    "    )\n",
    "    auc_list.append(auc_)\n",
    "    \n",
    "    #data_predict = decision_tree_model_predict(\n",
    "    #    clf,\n",
    "    #    data_test_copy,\n",
    "    #    decision_tree_columns,\n",
    "    #    decision_tree_columns_with_id,\n",
    "    #)\n",
    "    \n",
    "    #decision_tree_model_predict_write_to_csv(\n",
    "    #    data_predict,\n",
    "    #    f'decision_tree_model_one_hot_encoder_2_clean_code-2-AUC-2-max_depth_10.csv'\n",
    "    #)\n",
    "    #\n",
    "    #auc_"
   ]
  },
  {
   "cell_type": "code",
   "execution_count": 152,
   "id": "d006d726-c178-46f5-910b-032f035826cd",
   "metadata": {},
   "outputs": [
    {
     "data": {
      "image/png": "[encoded data removed]",
      "text/plain": [
       "<Figure size 640x480 with 1 Axes>"
      ]
     },
     "metadata": {},
     "output_type": "display_data"
    }
   ],
   "source": [
    "plt.figure()\n",
    "\n",
    "plt.hist(\n",
    "    auc_list,\n",
    "    histtype='step',\n",
    "    linewidth=2,\n",
    "    density=True,\n",
    "    label='AUC k-fold',\n",
    ")\n",
    "plt.xlabel('AUC')\n",
    "plt.ylabel('probability')\n",
    "plt.xlim(0.91, 0.97)\n",
    "plt.ylim(0.0, 45)\n",
    "plt.legend()\n",
    "\n",
    "plt.savefig('state-space-search-AUC-k-fold.pdf')\n",
    "\n",
    "None"
   ]
  },
  {
   "cell_type": "markdown",
   "id": "5fbaec83-bc03-4fd5-858b-88a74992a837",
   "metadata": {},
   "source": [
    "# Run model for best parameters - Plot ROC"
   ]
  },
  {
   "cell_type": "code",
   "execution_count": 124,
   "id": "95f924bf-097c-4716-aedb-5a6c9b3e10d2",
   "metadata": {},
   "outputs": [
    {
     "data": {
      "text/plain": [
       "0.9502063015753938"
      ]
     },
     "execution_count": 124,
     "metadata": {},
     "output_type": "execute_result"
    }
   ],
   "source": [
    "# make prediction - optimized using 400, 32 best value from state space search\n",
    "\n",
    "max_depth = None\n",
    "min_samples_split = 400\n",
    "max_leaf_nodes = None\n",
    "min_samples_leaf = 32\n",
    "min_impurity_decrease = 0.0\n",
    "\n",
    "k = 100\n",
    "i = 0\n",
    "\n",
    "test_index = folds[i]\n",
    "train_index = numpy.concatenate([folds[j] for j in range(k) if j != i])\n",
    "\n",
    "training_data = all_training_data.loc[train_index]\n",
    "test_data = all_training_data.loc[test_index]\n",
    "#training_data = all_training_data\n",
    "#test_data = all_training_data\n",
    "\n",
    "(\n",
    "    clf,\n",
    "    feature_importances,\n",
    "    accuracy_in_sample,\n",
    ") = decision_tree_model_train(\n",
    "    training_data,\n",
    "    decision_tree_columns,\n",
    "    max_depth,\n",
    "    min_samples_split,\n",
    "    max_leaf_nodes,\n",
    "    min_samples_leaf,\n",
    "    min_impurity_decrease,\n",
    ")\n",
    "\n",
    "accuracy_out_of_sample = decision_tree_model_test(\n",
    "    clf,\n",
    "    test_data,\n",
    "    decision_tree_columns,\n",
    ")\n",
    "\n",
    "auc_ = decision_tree_model_test_AUC(\n",
    "    clf,\n",
    "    test_data,\n",
    "    decision_tree_columns,\n",
    ")\n",
    "\n",
    "#data_predict = decision_tree_model_predict(\n",
    "#    clf,\n",
    "#    data_test_copy,\n",
    "#    decision_tree_columns,\n",
    "#    decision_tree_columns_with_id,\n",
    "#)\n",
    "\n",
    "#decision_tree_model_predict_write_to_csv(\n",
    "#    data_predict,\n",
    "#    f'decision_tree_model_one_hot_encoder_2_clean_code-2-AUC-2-max_depth_10.csv'\n",
    "#)\n",
    "#\n",
    "auc_"
   ]
  },
  {
   "cell_type": "code",
   "execution_count": 125,
   "id": "df18435f-4f69-4f50-be62-8f2e593bb8e1",
   "metadata": {},
   "outputs": [],
   "source": [
    "# this code creates `threshold_array`, and it is sorted in ascending order\n",
    "\n",
    "data_predict = decision_tree_model_predict(\n",
    "    clf,\n",
    "    test_data,\n",
    "    decision_tree_columns,\n",
    "    decision_tree_columns_with_id,\n",
    ")\n",
    "\n",
    "threshold_array = numpy.concatenate(\n",
    "    (\n",
    "        numpy.array([-numpy.inf]),\n",
    "        numpy.unique(data_predict['loan_status']),\n",
    "        numpy.array([1.1]),\n",
    "    )\n",
    ")"
   ]
  },
  {
   "cell_type": "code",
   "execution_count": 126,
   "id": "ad522221-2649-4f89-9904-8c79a0e0e84f",
   "metadata": {},
   "outputs": [],
   "source": [
    "# this code creates TPR and FPR for calculation of AUC\n",
    "\n",
    "count = len(threshold_array)\n",
    "\n",
    "tpr_array = numpy.zeros(shape=(count,), dtype=float)\n",
    "fpr_array = numpy.zeros(shape=(count,), dtype=float)\n",
    "\n",
    "for i, threshold in enumerate(threshold_array):\n",
    "    (tpr, fpr) = decision_tree_model_test_TPR_FPR(\n",
    "        clf,\n",
    "        test_data,\n",
    "        decision_tree_columns,\n",
    "        threshold,\n",
    "    )\n",
    "\n",
    "    threshold_array[i] = threshold\n",
    "    tpr_array[i] = tpr\n",
    "    fpr_array[i] = fpr\n",
    "\n",
    "sort_index = numpy.argsort(fpr_array)\n",
    "tpr_array = tpr_array[sort_index]\n",
    "fpr_array = fpr_array[sort_index]\n",
    "threshold_array = threshold_array[sort_index]"
   ]
  },
  {
   "cell_type": "code",
   "execution_count": 127,
   "id": "07b7b3db-6feb-4da1-8f71-c90623d886ab",
   "metadata": {},
   "outputs": [
    {
     "data": {
      "text/plain": [
       "np.float64(0.9502063015753938)"
      ]
     },
     "execution_count": 127,
     "metadata": {},
     "output_type": "execute_result"
    }
   ],
   "source": [
    "numpy.trapezoid(tpr_array, x=fpr_array)"
   ]
  },
  {
   "cell_type": "code",
   "execution_count": 128,
   "id": "bb2b98e3-fe3b-4d7a-8034-0115a95757dd",
   "metadata": {},
   "outputs": [
    {
     "data": {
      "text/plain": [
       "0.9502063015753938"
      ]
     },
     "execution_count": 128,
     "metadata": {},
     "output_type": "execute_result"
    }
   ],
   "source": [
    "roc_auc = auc(fpr_array, tpr_array)\n",
    "roc_auc"
   ]
  },
  {
   "cell_type": "code",
   "execution_count": 129,
   "id": "f0a6edde-5914-4eb9-845d-ae111912d95a",
   "metadata": {},
   "outputs": [],
   "source": [
    "(roc_curve_fpr, roc_curve_tpr, roc_curve_threshold) = roc_curve(\n",
    "    test_data['loan_status'],\n",
    "    decision_tree_model_predict_proba(clf, test_data, decision_tree_columns),\n",
    ")"
   ]
  },
  {
   "cell_type": "code",
   "execution_count": 149,
   "id": "a5142ac3-600a-4183-95cc-7532296f137a",
   "metadata": {},
   "outputs": [
    {
     "data": {
      "image/png": "[encoded data removed]",
      "text/plain": [
       "<Figure size 640x480 with 1 Axes>"
      ]
     },
     "metadata": {},
     "output_type": "display_data"
    }
   ],
   "source": [
    "plt.figure()\n",
    "\n",
    "plt.plot([0.0, 1.0], [0.0, 1.0], color='grey', linewidth=1)\n",
    "plt.step(\n",
    "    roc_curve_fpr,\n",
    "    roc_curve_tpr,\n",
    "    where='post',\n",
    "    linewidth=2,\n",
    ")\n",
    "plt.fill_between(\n",
    "    roc_curve_fpr,\n",
    "    roc_curve_tpr,\n",
    "    alpha=0.2,\n",
    ")\n",
    "\n",
    "plt.xlabel('false positive rate')\n",
    "plt.ylabel('true positive rate')\n",
    "\n",
    "plt.xlim(0.0, 1.0)\n",
    "plt.ylim(0.0, 1.0)\n",
    "\n",
    "plt.text(\n",
    "    0.60,\n",
    "    0.95,\n",
    "    f'AUC = {roc_auc:.2f}',\n",
    "    transform=plt.gca().transAxes,\n",
    "    fontsize=12,\n",
    "    verticalalignment='top',\n",
    ")\n",
    "\n",
    "plt.savefig(f'decision_tree_model_one_hot_encoder_2_clean_code-2-AUC-state-space-search-AUC.png')\n",
    "plt.savefig(f'decision_tree_model_one_hot_encoder_2_clean_code-2-AUC-state-space-search-AUC.pdf')\n",
    "\n",
    "None"
   ]
  },
  {
   "cell_type": "markdown",
   "id": "25e78310-8638-4f1d-aede-2ae9009dddf4",
   "metadata": {},
   "source": [
    "# Plot in sample accuracy"
   ]
  },
  {
   "cell_type": "code",
   "execution_count": 276,
   "id": "8c06a25d-e720-4b44-bb86-bcd279bc760d",
   "metadata": {},
   "outputs": [],
   "source": [
    "filename = f'decision_tree_model_by_min_samples_split_min_samples_leaf_AUC.csv'\n",
    "df = pandas.read_csv(filename, index_col=0)"
   ]
  },
  {
   "cell_type": "code",
   "execution_count": 109,
   "id": "d099e584-2169-4639-89e3-d0199841373f",
   "metadata": {},
   "outputs": [
    {
     "data": {
      "image/png": "[encoded data removed]",
      "text/plain": [
       "<Figure size 640x480 with 1 Axes>"
      ]
     },
     "metadata": {},
     "output_type": "display_data"
    }
   ],
   "source": [
    "plt.figure()\n",
    "\n",
    "df_select = df #df[df['min_samples_split'] == 2]\n",
    "\n",
    "positions = []\n",
    "x = []\n",
    "\n",
    "for max_depth_ in sorted(df_select['max_depth'].unique()):\n",
    "    x.append(\n",
    "        df[df['max_depth'] == max_depth_]['accuracy_in_sample']\n",
    "    )\n",
    "    positions.append(\n",
    "        max_depth_\n",
    "    )\n",
    "\n",
    "plt.boxplot(\n",
    "    x,\n",
    "    positions=positions,\n",
    "    orientation='vertical',\n",
    "    meanline=True,\n",
    "    showmeans=True,\n",
    "    widths=[0.1 * position for position in positions],\n",
    ")\n",
    "plt.xscale('log')\n",
    "plt.xlim(xmin=0.9, xmax=110)\n",
    "plt.xlabel('max depth')\n",
    "plt.ylabel('in sample accuracy')\n",
    "\n",
    "plt.grid(axis='x')\n",
    "\n",
    "plt.savefig('decision_tree_model_by_min_samples_split_min_samples_leaf-accuracy_in_sample_AUC.png')\n",
    "plt.savefig('decision_tree_model_by_min_samples_split_min_samples_leaf-accuracy_in_sample_AUC.pdf')\n",
    "\n",
    "None"
   ]
  },
  {
   "cell_type": "markdown",
   "id": "a6a8832e-b22f-48d0-bc2f-391a2a7c6514",
   "metadata": {},
   "source": [
    "# Plot out of sample accuracy"
   ]
  },
  {
   "cell_type": "code",
   "execution_count": 110,
   "id": "ca586371-2fe1-4e1d-b1eb-b95b7b73f67a",
   "metadata": {},
   "outputs": [
    {
     "data": {
      "image/png": "[encoded data removed]",
      "text/plain": [
       "<Figure size 640x480 with 1 Axes>"
      ]
     },
     "metadata": {},
     "output_type": "display_data"
    }
   ],
   "source": [
    "plt.figure()\n",
    "\n",
    "df_select = df #df[df['min_samples_split'] == 2]\n",
    "\n",
    "positions = []\n",
    "x = []\n",
    "\n",
    "for max_depth_ in sorted(df_select['max_depth'].unique()):\n",
    "\n",
    "    # if max_depth_ not in [1, 2, 3, 4, 5, 6, 7, 8, 9,\n",
    "    #                      10, 20, 30, 40, 50, 60, 70, 80, 90,\n",
    "    #                     100, 200]:\n",
    "    #     pass #continue\n",
    "    \n",
    "    x.append(\n",
    "        df[df['max_depth'] == max_depth_]['accuracy_out_of_sample']\n",
    "    )\n",
    "    positions.append(\n",
    "        max_depth_\n",
    "    )\n",
    "\n",
    "plt.boxplot(\n",
    "    x,\n",
    "    positions=positions,\n",
    "    orientation='vertical',\n",
    "    meanline=True,\n",
    "    showmeans=True,\n",
    "    widths=[0.1 * position for position in positions],\n",
    ")\n",
    "plt.xscale('log')\n",
    "plt.xlim(xmin=0.8, xmax=110)\n",
    "plt.xlabel('max depth')\n",
    "plt.ylabel('out of sample accuracy')\n",
    "\n",
    "plt.grid(axis='x')\n",
    "\n",
    "plt.savefig('decision_tree_model_by_min_samples_split_min_samples_leaf-accuracy_out_of_sample_AUC.png')\n",
    "plt.savefig('decision_tree_model_by_min_samples_split_min_samples_leaf-accuracy_out_of_sample_AUC.pdf')\n",
    "\n",
    "None"
   ]
  },
  {
   "cell_type": "code",
   "execution_count": 113,
   "id": "129872bb-2d7c-4320-92f4-557123af7a5f",
   "metadata": {},
   "outputs": [
    {
     "data": {
      "image/png": "[encoded data removed]",
      "text/plain": [
       "<Figure size 640x480 with 1 Axes>"
      ]
     },
     "metadata": {},
     "output_type": "display_data"
    }
   ],
   "source": [
    "plt.figure()\n",
    "\n",
    "df_select = df #df[df['min_samples_split'] == 2]\n",
    "\n",
    "positions = []\n",
    "x = []\n",
    "\n",
    "for max_depth_ in sorted(df_select['max_depth'].unique()):\n",
    "\n",
    "    # if max_depth_ not in [1, 2, 3, 4, 5, 6, 7, 8, 9,\n",
    "    #                      10, 20, 30, 40, 50, 60, 70, 80, 90,\n",
    "    #                     100, 200]:\n",
    "    #     pass #continue\n",
    "    \n",
    "    x.append(\n",
    "        df[df['max_depth'] == max_depth_]['auc']\n",
    "    )\n",
    "    positions.append(\n",
    "        max_depth_\n",
    "    )\n",
    "\n",
    "plt.boxplot(\n",
    "    x,\n",
    "    positions=positions,\n",
    "    orientation='vertical',\n",
    "    meanline=True,\n",
    "    showmeans=True,\n",
    "    widths=[0.1 * position for position in positions],\n",
    ")\n",
    "plt.xscale('log')\n",
    "plt.xlim(xmin=0.8, xmax=110)\n",
    "plt.xlabel('max depth')\n",
    "plt.ylabel('AUC')\n",
    "\n",
    "plt.grid()\n",
    "\n",
    "plt.savefig('decision_tree_model_by_min_samples_split_min_samples_leaf-AUC.png')\n",
    "plt.savefig('decision_tree_model_by_min_samples_split_min_samples_leaf-AUC.pdf')\n",
    "\n",
    "None"
   ]
  },
  {
   "cell_type": "code",
   "execution_count": 108,
   "id": "3490c0e2-c915-4d7a-9845-716949288853",
   "metadata": {},
   "outputs": [
    {
     "data": {
      "text/plain": [
       "0.9548030030074693"
      ]
     },
     "execution_count": 108,
     "metadata": {},
     "output_type": "execute_result"
    }
   ],
   "source": [
    "# make prediction - optimized using 400, 32 best value from state space search\n",
    "\n",
    "max_depth = None\n",
    "min_samples_split = 400\n",
    "max_leaf_nodes = None\n",
    "min_samples_leaf = 32\n",
    "min_impurity_decrease = 0.0\n",
    "\n",
    "training_data = all_training_data\n",
    "test_data = all_training_data\n",
    "\n",
    "(\n",
    "    clf,\n",
    "    feature_importances,\n",
    "    accuracy_in_sample,\n",
    ") = decision_tree_model_train(\n",
    "    training_data,\n",
    "    decision_tree_columns,\n",
    "    max_depth,\n",
    "    min_samples_split,\n",
    "    max_leaf_nodes,\n",
    "    min_samples_leaf,\n",
    "    min_impurity_decrease,\n",
    ")\n",
    "\n",
    "accuracy_out_of_sample = decision_tree_model_test(\n",
    "    clf,\n",
    "    test_data,\n",
    "    decision_tree_columns,\n",
    ")\n",
    "\n",
    "auc_ = decision_tree_model_test_AUC(\n",
    "    clf,\n",
    "    test_data,\n",
    "    decision_tree_columns,\n",
    ")\n",
    "auc_list.append(auc_)\n",
    "\n",
    "data_predict = decision_tree_model_predict(\n",
    "   clf,\n",
    "   data_test_copy,\n",
    "   decision_tree_columns,\n",
    "   decision_tree_columns_with_id,\n",
    ")\n",
    "\n",
    "decision_tree_model_predict_write_to_csv(\n",
    "   data_predict,\n",
    "   f'decision_tree_model_one_hot_encoder_2_clean_code-2-AUC-state-space-search_400_32.csv'\n",
    ")\n",
    "\n",
    "auc_"
   ]
  },
  {
   "cell_type": "code",
   "execution_count": 109,
   "id": "d58c0420-2fa8-4f05-ac0b-519c6d2375f0",
   "metadata": {},
   "outputs": [],
   "source": [
    "# plot in sample, out of sample, auc, ROC + AUC"
   ]
  },
  {
   "cell_type": "code",
   "execution_count": null,
   "id": "fac84ff1-2be7-458b-a5b6-4bc303f42316",
   "metadata": {},
   "outputs": [],
   "source": []
  },
  {
   "cell_type": "code",
   "execution_count": 117,
   "id": "9003fda8-fa09-4777-9586-09cb9924cb74",
   "metadata": {},
   "outputs": [],
   "source": [
    "# make prediction - no max depth, min samples split 30, min samples leaf 4\n",
    "    \n",
    "max_depth = None\n",
    "min_samples_split = 30\n",
    "max_leaf_nodes = None\n",
    "min_samples_leaf = 4\n",
    "min_impurity_decrease = 0.0\n",
    "\n",
    "auc_list = []\n",
    "    \n",
    "for i in range(k):\n",
    "    test_index = folds[i]\n",
    "    train_index = numpy.concatenate([folds[j] for j in range(k) if j != i])\n",
    "        \n",
    "    training_data = all_training_data.loc[train_index]\n",
    "    test_data = all_training_data.loc[test_index]\n",
    "    #training_data = all_training_data\n",
    "    #test_data = all_training_data\n",
    "    \n",
    "    (\n",
    "        clf,\n",
    "        feature_importances,\n",
    "        accuracy_in_sample,\n",
    "    ) = decision_tree_model_train(\n",
    "        training_data,\n",
    "        decision_tree_columns,\n",
    "        max_depth,\n",
    "        min_samples_split,\n",
    "        max_leaf_nodes,\n",
    "        min_samples_leaf,\n",
    "        min_impurity_decrease,\n",
    "    )\n",
    "    \n",
    "    accuracy_out_of_sample = decision_tree_model_test(\n",
    "        clf,\n",
    "        test_data,\n",
    "        decision_tree_columns,\n",
    "    )\n",
    "    \n",
    "    auc_ = decision_tree_model_test_AUC(\n",
    "        clf,\n",
    "        test_data,\n",
    "        decision_tree_columns,\n",
    "    )\n",
    "    auc_list.append(auc_)\n",
    "    \n",
    "    #data_predict = decision_tree_model_predict(\n",
    "    #    clf,\n",
    "    #    data_test_copy,\n",
    "    #    decision_tree_columns,\n",
    "    #    decision_tree_columns_with_id,\n",
    "    #)\n",
    "    \n",
    "    #decision_tree_model_predict_write_to_csv(\n",
    "    #    data_predict,\n",
    "    #    f'decision_tree_model_one_hot_encoder_2_clean_code-2-AUC-2-min_samples_split_30-min_samples_leaf_4.csv'\n",
    "    #)\n",
    "    \n",
    "    #auc_"
   ]
  },
  {
   "cell_type": "code",
   "execution_count": 118,
   "id": "5b7a4d90-f9d6-44bf-a41a-65f6cb2626a7",
   "metadata": {},
   "outputs": [
    {
     "data": {
      "text/plain": [
       "(array([ 2.,  3.,  3., 11., 25., 21., 14., 13.,  6.,  2.]),\n",
       " array([0.85773975, 0.86722621, 0.87671267, 0.88619913, 0.89568558,\n",
       "        0.90517204, 0.9146585 , 0.92414496, 0.93363142, 0.94311787,\n",
       "        0.95260433]),\n",
       " <BarContainer object of 10 artists>)"
      ]
     },
     "execution_count": 118,
     "metadata": {},
     "output_type": "execute_result"
    },
    {
     "data": {
      "image/png": "[encoded data removed]",
      "text/plain": [
       "<Figure size 640x480 with 1 Axes>"
      ]
     },
     "metadata": {},
     "output_type": "display_data"
    }
   ],
   "source": [
    "plt.figure()\n",
    "\n",
    "plt.hist(auc_list)\n",
    "\n",
    "None"
   ]
  },
  {
   "cell_type": "markdown",
   "id": "e97fa3f6-5641-41fd-944c-2af077e984b4",
   "metadata": {},
   "source": [
    "# Plot the distribution of `predict_proba` values"
   ]
  },
  {
   "cell_type": "code",
   "execution_count": 153,
   "id": "9b4de32e-570b-4c3f-8fff-16e28db156ca",
   "metadata": {},
   "outputs": [],
   "source": [
    "data_predict = decision_tree_model_predict(\n",
    "    clf,\n",
    "    data_test_copy,\n",
    "    decision_tree_columns,\n",
    "    decision_tree_columns_with_id,\n",
    ")"
   ]
  },
  {
   "cell_type": "code",
   "execution_count": 155,
   "id": "95acdf03-c733-4721-a7fd-cb44cc93d670",
   "metadata": {},
   "outputs": [
    {
     "data": {
      "image/png": "[encoded data removed]",
      "text/plain": [
       "<Figure size 640x480 with 1 Axes>"
      ]
     },
     "metadata": {},
     "output_type": "display_data"
    }
   ],
   "source": [
    "plt.figure()\n",
    "plt.hist(data_predict['loan_status'], bins=100)\n",
    "plt.yscale('log')\n",
    "\n",
    "plt.xlabel('predict_proba')\n",
    "plt.ylabel('frequency')\n",
    "\n",
    "plt.savefig('state-space-search-predict-proba.pdf')\n",
    "\n",
    "None"
   ]
  }
 ],
 "metadata": {
  "kernelspec": {
   "display_name": "Python 3 (ipykernel)",
   "language": "python",
   "name": "python3"
  },
  "language_info": {
   "codemirror_mode": {
    "name": "ipython",
    "version": 3
   },
   "file_extension": ".py",
   "mimetype": "text/x-python",
   "name": "python",
   "nbconvert_exporter": "python",
   "pygments_lexer": "ipython3",
   "version": "3.11.2"
  }
 },
 "nbformat": 4,
 "nbformat_minor": 5
}
