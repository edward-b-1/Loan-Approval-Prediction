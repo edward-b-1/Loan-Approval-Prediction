{
 "cells": [
  {
   "cell_type": "markdown",
   "id": "c2d42acd-bf5b-4651-9aec-da70a79dc8fc",
   "metadata": {},
   "source": [
    "# Decision Tree Model with One Hot Encoder for Categorical Variables\n",
    "\n",
    "- Clean code version"
   ]
  },
  {
   "cell_type": "code",
   "execution_count": 1,
   "id": "b9f96723-0f0e-4d60-9d0d-3c3991811d08",
   "metadata": {},
   "outputs": [],
   "source": [
    "%load_ext autoreload\n",
    "%autoreload 2"
   ]
  },
  {
   "cell_type": "code",
   "execution_count": 2,
   "id": "4b773ab0-b64c-419c-bd8b-f293c6b1116e",
   "metadata": {},
   "outputs": [],
   "source": [
    "import math\n",
    "import pandas\n",
    "import numpy\n",
    "import itertools\n",
    "import matplotlib.pyplot as plt\n",
    "import sklearn\n",
    "from sklearn import tree\n",
    "from sklearn.metrics import log_loss\n",
    "from sklearn.preprocessing import OrdinalEncoder\n",
    "from sklearn.preprocessing import OneHotEncoder\n",
    "from sklearn.naive_bayes import CategoricalNB"
   ]
  },
  {
   "cell_type": "code",
   "execution_count": 3,
   "id": "326d9b5b-9405-40d5-8250-bc4ce0456168",
   "metadata": {},
   "outputs": [],
   "source": [
    "import loan_approval_lib\n",
    "from loan_approval_lib import logspace, linspace"
   ]
  },
  {
   "cell_type": "code",
   "execution_count": 4,
   "id": "007cf335-7def-4213-bc9a-ce31a635f0f0",
   "metadata": {},
   "outputs": [],
   "source": [
    "data = loan_approval_lib.load_original_data()"
   ]
  },
  {
   "cell_type": "code",
   "execution_count": 5,
   "id": "9980e745-ff9e-4602-b3d6-c9f56c144d74",
   "metadata": {},
   "outputs": [
    {
     "data": {
      "text/html": [
       "<div>\n",
       "<style scoped>\n",
       "    .dataframe tbody tr th:only-of-type {\n",
       "        vertical-align: middle;\n",
       "    }\n",
       "\n",
       "    .dataframe tbody tr th {\n",
       "        vertical-align: top;\n",
       "    }\n",
       "\n",
       "    .dataframe thead th {\n",
       "        text-align: right;\n",
       "    }\n",
       "</style>\n",
       "<table border=\"1\" class=\"dataframe\">\n",
       "  <thead>\n",
       "    <tr style=\"text-align: right;\">\n",
       "      <th></th>\n",
       "      <th>person_age</th>\n",
       "      <th>person_income</th>\n",
       "      <th>person_home_ownership</th>\n",
       "      <th>person_emp_length</th>\n",
       "      <th>loan_intent</th>\n",
       "      <th>loan_grade</th>\n",
       "      <th>loan_amnt</th>\n",
       "      <th>loan_int_rate</th>\n",
       "      <th>loan_percent_income</th>\n",
       "      <th>cb_person_default_on_file</th>\n",
       "      <th>cb_person_cred_hist_length</th>\n",
       "      <th>loan_status</th>\n",
       "    </tr>\n",
       "  </thead>\n",
       "  <tbody>\n",
       "    <tr>\n",
       "      <th>0</th>\n",
       "      <td>22</td>\n",
       "      <td>59000</td>\n",
       "      <td>RENT</td>\n",
       "      <td>123.0</td>\n",
       "      <td>PERSONAL</td>\n",
       "      <td>D</td>\n",
       "      <td>35000</td>\n",
       "      <td>16.02</td>\n",
       "      <td>0.59</td>\n",
       "      <td>Y</td>\n",
       "      <td>3</td>\n",
       "      <td>1</td>\n",
       "    </tr>\n",
       "    <tr>\n",
       "      <th>1</th>\n",
       "      <td>21</td>\n",
       "      <td>9600</td>\n",
       "      <td>OWN</td>\n",
       "      <td>5.0</td>\n",
       "      <td>EDUCATION</td>\n",
       "      <td>B</td>\n",
       "      <td>1000</td>\n",
       "      <td>11.14</td>\n",
       "      <td>0.10</td>\n",
       "      <td>N</td>\n",
       "      <td>2</td>\n",
       "      <td>0</td>\n",
       "    </tr>\n",
       "    <tr>\n",
       "      <th>2</th>\n",
       "      <td>25</td>\n",
       "      <td>9600</td>\n",
       "      <td>MORTGAGE</td>\n",
       "      <td>1.0</td>\n",
       "      <td>MEDICAL</td>\n",
       "      <td>C</td>\n",
       "      <td>5500</td>\n",
       "      <td>12.87</td>\n",
       "      <td>0.57</td>\n",
       "      <td>N</td>\n",
       "      <td>3</td>\n",
       "      <td>1</td>\n",
       "    </tr>\n",
       "    <tr>\n",
       "      <th>3</th>\n",
       "      <td>23</td>\n",
       "      <td>65500</td>\n",
       "      <td>RENT</td>\n",
       "      <td>4.0</td>\n",
       "      <td>MEDICAL</td>\n",
       "      <td>C</td>\n",
       "      <td>35000</td>\n",
       "      <td>15.23</td>\n",
       "      <td>0.53</td>\n",
       "      <td>N</td>\n",
       "      <td>2</td>\n",
       "      <td>1</td>\n",
       "    </tr>\n",
       "    <tr>\n",
       "      <th>4</th>\n",
       "      <td>24</td>\n",
       "      <td>54400</td>\n",
       "      <td>RENT</td>\n",
       "      <td>8.0</td>\n",
       "      <td>MEDICAL</td>\n",
       "      <td>C</td>\n",
       "      <td>35000</td>\n",
       "      <td>14.27</td>\n",
       "      <td>0.55</td>\n",
       "      <td>Y</td>\n",
       "      <td>4</td>\n",
       "      <td>1</td>\n",
       "    </tr>\n",
       "    <tr>\n",
       "      <th>...</th>\n",
       "      <td>...</td>\n",
       "      <td>...</td>\n",
       "      <td>...</td>\n",
       "      <td>...</td>\n",
       "      <td>...</td>\n",
       "      <td>...</td>\n",
       "      <td>...</td>\n",
       "      <td>...</td>\n",
       "      <td>...</td>\n",
       "      <td>...</td>\n",
       "      <td>...</td>\n",
       "      <td>...</td>\n",
       "    </tr>\n",
       "    <tr>\n",
       "      <th>32576</th>\n",
       "      <td>57</td>\n",
       "      <td>53000</td>\n",
       "      <td>MORTGAGE</td>\n",
       "      <td>1.0</td>\n",
       "      <td>PERSONAL</td>\n",
       "      <td>C</td>\n",
       "      <td>5800</td>\n",
       "      <td>13.16</td>\n",
       "      <td>0.11</td>\n",
       "      <td>N</td>\n",
       "      <td>30</td>\n",
       "      <td>0</td>\n",
       "    </tr>\n",
       "    <tr>\n",
       "      <th>32577</th>\n",
       "      <td>54</td>\n",
       "      <td>120000</td>\n",
       "      <td>MORTGAGE</td>\n",
       "      <td>4.0</td>\n",
       "      <td>PERSONAL</td>\n",
       "      <td>A</td>\n",
       "      <td>17625</td>\n",
       "      <td>7.49</td>\n",
       "      <td>0.15</td>\n",
       "      <td>N</td>\n",
       "      <td>19</td>\n",
       "      <td>0</td>\n",
       "    </tr>\n",
       "    <tr>\n",
       "      <th>32578</th>\n",
       "      <td>65</td>\n",
       "      <td>76000</td>\n",
       "      <td>RENT</td>\n",
       "      <td>3.0</td>\n",
       "      <td>HOMEIMPROVEMENT</td>\n",
       "      <td>B</td>\n",
       "      <td>35000</td>\n",
       "      <td>10.99</td>\n",
       "      <td>0.46</td>\n",
       "      <td>N</td>\n",
       "      <td>28</td>\n",
       "      <td>1</td>\n",
       "    </tr>\n",
       "    <tr>\n",
       "      <th>32579</th>\n",
       "      <td>56</td>\n",
       "      <td>150000</td>\n",
       "      <td>MORTGAGE</td>\n",
       "      <td>5.0</td>\n",
       "      <td>PERSONAL</td>\n",
       "      <td>B</td>\n",
       "      <td>15000</td>\n",
       "      <td>11.48</td>\n",
       "      <td>0.10</td>\n",
       "      <td>N</td>\n",
       "      <td>26</td>\n",
       "      <td>0</td>\n",
       "    </tr>\n",
       "    <tr>\n",
       "      <th>32580</th>\n",
       "      <td>66</td>\n",
       "      <td>42000</td>\n",
       "      <td>RENT</td>\n",
       "      <td>2.0</td>\n",
       "      <td>MEDICAL</td>\n",
       "      <td>B</td>\n",
       "      <td>6475</td>\n",
       "      <td>9.99</td>\n",
       "      <td>0.15</td>\n",
       "      <td>N</td>\n",
       "      <td>30</td>\n",
       "      <td>0</td>\n",
       "    </tr>\n",
       "  </tbody>\n",
       "</table>\n",
       "<p>32581 rows × 12 columns</p>\n",
       "</div>"
      ],
      "text/plain": [
       "       person_age  person_income person_home_ownership  person_emp_length  \\\n",
       "0              22          59000                  RENT              123.0   \n",
       "1              21           9600                   OWN                5.0   \n",
       "2              25           9600              MORTGAGE                1.0   \n",
       "3              23          65500                  RENT                4.0   \n",
       "4              24          54400                  RENT                8.0   \n",
       "...           ...            ...                   ...                ...   \n",
       "32576          57          53000              MORTGAGE                1.0   \n",
       "32577          54         120000              MORTGAGE                4.0   \n",
       "32578          65          76000                  RENT                3.0   \n",
       "32579          56         150000              MORTGAGE                5.0   \n",
       "32580          66          42000                  RENT                2.0   \n",
       "\n",
       "           loan_intent loan_grade  loan_amnt  loan_int_rate  \\\n",
       "0             PERSONAL          D      35000          16.02   \n",
       "1            EDUCATION          B       1000          11.14   \n",
       "2              MEDICAL          C       5500          12.87   \n",
       "3              MEDICAL          C      35000          15.23   \n",
       "4              MEDICAL          C      35000          14.27   \n",
       "...                ...        ...        ...            ...   \n",
       "32576         PERSONAL          C       5800          13.16   \n",
       "32577         PERSONAL          A      17625           7.49   \n",
       "32578  HOMEIMPROVEMENT          B      35000          10.99   \n",
       "32579         PERSONAL          B      15000          11.48   \n",
       "32580          MEDICAL          B       6475           9.99   \n",
       "\n",
       "       loan_percent_income cb_person_default_on_file  \\\n",
       "0                     0.59                         Y   \n",
       "1                     0.10                         N   \n",
       "2                     0.57                         N   \n",
       "3                     0.53                         N   \n",
       "4                     0.55                         Y   \n",
       "...                    ...                       ...   \n",
       "32576                 0.11                         N   \n",
       "32577                 0.15                         N   \n",
       "32578                 0.46                         N   \n",
       "32579                 0.10                         N   \n",
       "32580                 0.15                         N   \n",
       "\n",
       "       cb_person_cred_hist_length  loan_status  \n",
       "0                               3            1  \n",
       "1                               2            0  \n",
       "2                               3            1  \n",
       "3                               2            1  \n",
       "4                               4            1  \n",
       "...                           ...          ...  \n",
       "32576                          30            0  \n",
       "32577                          19            0  \n",
       "32578                          28            1  \n",
       "32579                          26            0  \n",
       "32580                          30            0  \n",
       "\n",
       "[32581 rows x 12 columns]"
      ]
     },
     "execution_count": 5,
     "metadata": {},
     "output_type": "execute_result"
    }
   ],
   "source": [
    "data"
   ]
  },
  {
   "cell_type": "code",
   "execution_count": 6,
   "id": "82e3c7a1-c1e6-4273-bcf0-6b6a1cdef01b",
   "metadata": {},
   "outputs": [],
   "source": [
    "data_train = loan_approval_lib.load_data_train()"
   ]
  },
  {
   "cell_type": "code",
   "execution_count": 7,
   "id": "7c044ae4-5dba-405a-af64-1f0a40b131ae",
   "metadata": {},
   "outputs": [],
   "source": [
    "data_test = loan_approval_lib.load_data_test()"
   ]
  },
  {
   "cell_type": "markdown",
   "id": "0ffd51d3-37be-485a-be69-9a45a52e9f04",
   "metadata": {},
   "source": [
    "# Data Cleaning"
   ]
  },
  {
   "cell_type": "code",
   "execution_count": 8,
   "id": "3fa25427-b0c3-49d7-96b2-7dd205ae8f7c",
   "metadata": {},
   "outputs": [],
   "source": [
    "def data_cleaning_algorithm(data):\n",
    "    columns = [\n",
    "        'person_age',\n",
    "        'person_income',\n",
    "        'person_emp_length',\n",
    "        'loan_amnt',\n",
    "        'loan_int_rate',\n",
    "        'loan_percent_income',\n",
    "        'cb_person_default_on_file'\n",
    "    ]\n",
    "    \n",
    "    for column in columns:\n",
    "        row_count_1 = len(data)\n",
    "    \n",
    "        if column == 'person_age':\n",
    "            data = data[data['person_age'] <= 100]\n",
    "    \n",
    "        if column == 'person_emp_length':\n",
    "            data = data[data['person_emp_length'] <= 100]\n",
    "    \n",
    "        data = data[data[column].isna() == False]\n",
    "        \n",
    "        row_count_2 = len(data)\n",
    "        row_count_diff = row_count_1 - row_count_2\n",
    "        print(f'column {column}, number of removed rows: {row_count_diff}')\n",
    "\n",
    "    return data\n",
    "    "
   ]
  },
  {
   "cell_type": "code",
   "execution_count": 9,
   "id": "54034944-767b-4f26-84fd-486afe1bb293",
   "metadata": {},
   "outputs": [
    {
     "name": "stdout",
     "output_type": "stream",
     "text": [
      "column person_age, number of removed rows: 5\n",
      "column person_income, number of removed rows: 0\n",
      "column person_emp_length, number of removed rows: 897\n",
      "column loan_amnt, number of removed rows: 0\n",
      "column loan_int_rate, number of removed rows: 3047\n",
      "column loan_percent_income, number of removed rows: 0\n",
      "column cb_person_default_on_file, number of removed rows: 0\n"
     ]
    }
   ],
   "source": [
    "data = data_cleaning_algorithm(data)"
   ]
  },
  {
   "cell_type": "markdown",
   "id": "3417acd0-97b3-4c06-8cfd-de743ca13b6d",
   "metadata": {},
   "source": [
    "# Loan Grade"
   ]
  },
  {
   "cell_type": "code",
   "execution_count": 13,
   "id": "ef59fa68-48a1-42e8-8f90-0ad13fd926c4",
   "metadata": {},
   "outputs": [],
   "source": [
    "def create_loan_grade_numerical_from_loan_grade(data):\n",
    "    loan_grades = list(sorted(data['loan_grade'].unique()))\n",
    "    \n",
    "    for loan_grade in loan_grades:\n",
    "        data.loc[data['loan_grade'] == loan_grade, 'loan_grade_numerical'] = ord(loan_grade) - ord('A')\n",
    "    \n",
    "        data_train.loc[data_train['loan_grade'] == loan_grade, 'loan_grade_numerical'] = ord(loan_grade) - ord('A')\n",
    "        \n",
    "        data_test.loc[data_test['loan_grade'] == loan_grade, 'loan_grade_numerical'] = ord(loan_grade) - ord('A')"
   ]
  },
  {
   "cell_type": "code",
   "execution_count": 14,
   "id": "e273af6a-546f-4a64-8296-3be0dd49e215",
   "metadata": {},
   "outputs": [],
   "source": [
    "create_loan_grade_numerical_from_loan_grade(data)"
   ]
  },
  {
   "cell_type": "code",
   "execution_count": 15,
   "id": "87e2b721-7f11-4911-b8a1-0b5df6e06ef1",
   "metadata": {},
   "outputs": [
    {
     "data": {
      "text/html": [
       "<div>\n",
       "<style scoped>\n",
       "    .dataframe tbody tr th:only-of-type {\n",
       "        vertical-align: middle;\n",
       "    }\n",
       "\n",
       "    .dataframe tbody tr th {\n",
       "        vertical-align: top;\n",
       "    }\n",
       "\n",
       "    .dataframe thead th {\n",
       "        text-align: right;\n",
       "    }\n",
       "</style>\n",
       "<table border=\"1\" class=\"dataframe\">\n",
       "  <thead>\n",
       "    <tr style=\"text-align: right;\">\n",
       "      <th></th>\n",
       "      <th>person_age</th>\n",
       "      <th>person_income</th>\n",
       "      <th>person_home_ownership</th>\n",
       "      <th>person_emp_length</th>\n",
       "      <th>loan_intent</th>\n",
       "      <th>loan_grade</th>\n",
       "      <th>loan_amnt</th>\n",
       "      <th>loan_int_rate</th>\n",
       "      <th>loan_percent_income</th>\n",
       "      <th>cb_person_default_on_file</th>\n",
       "      <th>cb_person_cred_hist_length</th>\n",
       "      <th>loan_status</th>\n",
       "      <th>loan_grade_numerical</th>\n",
       "    </tr>\n",
       "  </thead>\n",
       "  <tbody>\n",
       "    <tr>\n",
       "      <th>1</th>\n",
       "      <td>21</td>\n",
       "      <td>9600</td>\n",
       "      <td>OWN</td>\n",
       "      <td>5.0</td>\n",
       "      <td>EDUCATION</td>\n",
       "      <td>B</td>\n",
       "      <td>1000</td>\n",
       "      <td>11.14</td>\n",
       "      <td>0.10</td>\n",
       "      <td>N</td>\n",
       "      <td>2</td>\n",
       "      <td>0</td>\n",
       "      <td>1.0</td>\n",
       "    </tr>\n",
       "    <tr>\n",
       "      <th>2</th>\n",
       "      <td>25</td>\n",
       "      <td>9600</td>\n",
       "      <td>MORTGAGE</td>\n",
       "      <td>1.0</td>\n",
       "      <td>MEDICAL</td>\n",
       "      <td>C</td>\n",
       "      <td>5500</td>\n",
       "      <td>12.87</td>\n",
       "      <td>0.57</td>\n",
       "      <td>N</td>\n",
       "      <td>3</td>\n",
       "      <td>1</td>\n",
       "      <td>2.0</td>\n",
       "    </tr>\n",
       "    <tr>\n",
       "      <th>3</th>\n",
       "      <td>23</td>\n",
       "      <td>65500</td>\n",
       "      <td>RENT</td>\n",
       "      <td>4.0</td>\n",
       "      <td>MEDICAL</td>\n",
       "      <td>C</td>\n",
       "      <td>35000</td>\n",
       "      <td>15.23</td>\n",
       "      <td>0.53</td>\n",
       "      <td>N</td>\n",
       "      <td>2</td>\n",
       "      <td>1</td>\n",
       "      <td>2.0</td>\n",
       "    </tr>\n",
       "    <tr>\n",
       "      <th>4</th>\n",
       "      <td>24</td>\n",
       "      <td>54400</td>\n",
       "      <td>RENT</td>\n",
       "      <td>8.0</td>\n",
       "      <td>MEDICAL</td>\n",
       "      <td>C</td>\n",
       "      <td>35000</td>\n",
       "      <td>14.27</td>\n",
       "      <td>0.55</td>\n",
       "      <td>Y</td>\n",
       "      <td>4</td>\n",
       "      <td>1</td>\n",
       "      <td>2.0</td>\n",
       "    </tr>\n",
       "    <tr>\n",
       "      <th>5</th>\n",
       "      <td>21</td>\n",
       "      <td>9900</td>\n",
       "      <td>OWN</td>\n",
       "      <td>2.0</td>\n",
       "      <td>VENTURE</td>\n",
       "      <td>A</td>\n",
       "      <td>2500</td>\n",
       "      <td>7.14</td>\n",
       "      <td>0.25</td>\n",
       "      <td>N</td>\n",
       "      <td>2</td>\n",
       "      <td>1</td>\n",
       "      <td>0.0</td>\n",
       "    </tr>\n",
       "    <tr>\n",
       "      <th>...</th>\n",
       "      <td>...</td>\n",
       "      <td>...</td>\n",
       "      <td>...</td>\n",
       "      <td>...</td>\n",
       "      <td>...</td>\n",
       "      <td>...</td>\n",
       "      <td>...</td>\n",
       "      <td>...</td>\n",
       "      <td>...</td>\n",
       "      <td>...</td>\n",
       "      <td>...</td>\n",
       "      <td>...</td>\n",
       "      <td>...</td>\n",
       "    </tr>\n",
       "    <tr>\n",
       "      <th>32576</th>\n",
       "      <td>57</td>\n",
       "      <td>53000</td>\n",
       "      <td>MORTGAGE</td>\n",
       "      <td>1.0</td>\n",
       "      <td>PERSONAL</td>\n",
       "      <td>C</td>\n",
       "      <td>5800</td>\n",
       "      <td>13.16</td>\n",
       "      <td>0.11</td>\n",
       "      <td>N</td>\n",
       "      <td>30</td>\n",
       "      <td>0</td>\n",
       "      <td>2.0</td>\n",
       "    </tr>\n",
       "    <tr>\n",
       "      <th>32577</th>\n",
       "      <td>54</td>\n",
       "      <td>120000</td>\n",
       "      <td>MORTGAGE</td>\n",
       "      <td>4.0</td>\n",
       "      <td>PERSONAL</td>\n",
       "      <td>A</td>\n",
       "      <td>17625</td>\n",
       "      <td>7.49</td>\n",
       "      <td>0.15</td>\n",
       "      <td>N</td>\n",
       "      <td>19</td>\n",
       "      <td>0</td>\n",
       "      <td>0.0</td>\n",
       "    </tr>\n",
       "    <tr>\n",
       "      <th>32578</th>\n",
       "      <td>65</td>\n",
       "      <td>76000</td>\n",
       "      <td>RENT</td>\n",
       "      <td>3.0</td>\n",
       "      <td>HOMEIMPROVEMENT</td>\n",
       "      <td>B</td>\n",
       "      <td>35000</td>\n",
       "      <td>10.99</td>\n",
       "      <td>0.46</td>\n",
       "      <td>N</td>\n",
       "      <td>28</td>\n",
       "      <td>1</td>\n",
       "      <td>1.0</td>\n",
       "    </tr>\n",
       "    <tr>\n",
       "      <th>32579</th>\n",
       "      <td>56</td>\n",
       "      <td>150000</td>\n",
       "      <td>MORTGAGE</td>\n",
       "      <td>5.0</td>\n",
       "      <td>PERSONAL</td>\n",
       "      <td>B</td>\n",
       "      <td>15000</td>\n",
       "      <td>11.48</td>\n",
       "      <td>0.10</td>\n",
       "      <td>N</td>\n",
       "      <td>26</td>\n",
       "      <td>0</td>\n",
       "      <td>1.0</td>\n",
       "    </tr>\n",
       "    <tr>\n",
       "      <th>32580</th>\n",
       "      <td>66</td>\n",
       "      <td>42000</td>\n",
       "      <td>RENT</td>\n",
       "      <td>2.0</td>\n",
       "      <td>MEDICAL</td>\n",
       "      <td>B</td>\n",
       "      <td>6475</td>\n",
       "      <td>9.99</td>\n",
       "      <td>0.15</td>\n",
       "      <td>N</td>\n",
       "      <td>30</td>\n",
       "      <td>0</td>\n",
       "      <td>1.0</td>\n",
       "    </tr>\n",
       "  </tbody>\n",
       "</table>\n",
       "<p>28632 rows × 13 columns</p>\n",
       "</div>"
      ],
      "text/plain": [
       "       person_age  person_income person_home_ownership  person_emp_length  \\\n",
       "1              21           9600                   OWN                5.0   \n",
       "2              25           9600              MORTGAGE                1.0   \n",
       "3              23          65500                  RENT                4.0   \n",
       "4              24          54400                  RENT                8.0   \n",
       "5              21           9900                   OWN                2.0   \n",
       "...           ...            ...                   ...                ...   \n",
       "32576          57          53000              MORTGAGE                1.0   \n",
       "32577          54         120000              MORTGAGE                4.0   \n",
       "32578          65          76000                  RENT                3.0   \n",
       "32579          56         150000              MORTGAGE                5.0   \n",
       "32580          66          42000                  RENT                2.0   \n",
       "\n",
       "           loan_intent loan_grade  loan_amnt  loan_int_rate  \\\n",
       "1            EDUCATION          B       1000          11.14   \n",
       "2              MEDICAL          C       5500          12.87   \n",
       "3              MEDICAL          C      35000          15.23   \n",
       "4              MEDICAL          C      35000          14.27   \n",
       "5              VENTURE          A       2500           7.14   \n",
       "...                ...        ...        ...            ...   \n",
       "32576         PERSONAL          C       5800          13.16   \n",
       "32577         PERSONAL          A      17625           7.49   \n",
       "32578  HOMEIMPROVEMENT          B      35000          10.99   \n",
       "32579         PERSONAL          B      15000          11.48   \n",
       "32580          MEDICAL          B       6475           9.99   \n",
       "\n",
       "       loan_percent_income cb_person_default_on_file  \\\n",
       "1                     0.10                         N   \n",
       "2                     0.57                         N   \n",
       "3                     0.53                         N   \n",
       "4                     0.55                         Y   \n",
       "5                     0.25                         N   \n",
       "...                    ...                       ...   \n",
       "32576                 0.11                         N   \n",
       "32577                 0.15                         N   \n",
       "32578                 0.46                         N   \n",
       "32579                 0.10                         N   \n",
       "32580                 0.15                         N   \n",
       "\n",
       "       cb_person_cred_hist_length  loan_status  loan_grade_numerical  \n",
       "1                               2            0                   1.0  \n",
       "2                               3            1                   2.0  \n",
       "3                               2            1                   2.0  \n",
       "4                               4            1                   2.0  \n",
       "5                               2            1                   0.0  \n",
       "...                           ...          ...                   ...  \n",
       "32576                          30            0                   2.0  \n",
       "32577                          19            0                   0.0  \n",
       "32578                          28            1                   1.0  \n",
       "32579                          26            0                   1.0  \n",
       "32580                          30            0                   1.0  \n",
       "\n",
       "[28632 rows x 13 columns]"
      ]
     },
     "execution_count": 15,
     "metadata": {},
     "output_type": "execute_result"
    }
   ],
   "source": [
    "data"
   ]
  },
  {
   "cell_type": "markdown",
   "id": "139b365a-4118-431a-8ca1-f07483694e70",
   "metadata": {},
   "source": [
    "# Person Home Ownership"
   ]
  },
  {
   "cell_type": "code",
   "execution_count": 18,
   "id": "bf87fc58-5b8d-463f-a844-8747be05d2e1",
   "metadata": {},
   "outputs": [],
   "source": [
    "def create_person_home_ownership_one_hot_encoder(data):\n",
    "    encoder = OneHotEncoder(sparse_output=False)\n",
    "    encoder.fit(data[['person_home_ownership']])\n",
    "    return encoder"
   ]
  },
  {
   "cell_type": "code",
   "execution_count": 19,
   "id": "43bf0535-9ad7-4cb6-a459-5f984f79e9d3",
   "metadata": {},
   "outputs": [],
   "source": [
    "def create_person_home_ownership_one_hot(encoder, data):\n",
    "    transformed = encoder.transform(data[['person_home_ownership']])\n",
    "    \n",
    "    data = pandas.concat(\n",
    "        [\n",
    "            data,\n",
    "            pandas.DataFrame(\n",
    "                transformed,\n",
    "                index=data.index,\n",
    "                columns=encoder.get_feature_names_out(['person_home_ownership']),\n",
    "            ),\n",
    "        ],\n",
    "        axis=1,\n",
    "    )\n",
    "    return data"
   ]
  },
  {
   "cell_type": "code",
   "execution_count": 20,
   "id": "6a960d18-4617-4c29-8af9-faf96b228a7f",
   "metadata": {},
   "outputs": [],
   "source": [
    "encoder = create_person_home_ownership_one_hot_encoder(data)\n",
    "\n",
    "data = create_person_home_ownership_one_hot(encoder, data)\n",
    "data_train = create_person_home_ownership_one_hot(encoder, data_train)\n",
    "data_test = create_person_home_ownership_one_hot(encoder, data_test)"
   ]
  },
  {
   "cell_type": "markdown",
   "id": "a11d4c14-6734-4c72-abcc-1efd2bbf0bab",
   "metadata": {},
   "source": [
    "# Loan Intent"
   ]
  },
  {
   "cell_type": "code",
   "execution_count": 21,
   "id": "1770e978-cd6e-4884-9399-6bc0eeb7a94e",
   "metadata": {},
   "outputs": [],
   "source": [
    "def create_loan_intent_one_hot_encoder(data):\n",
    "    encoder = OneHotEncoder(sparse_output=False)\n",
    "    encoder.fit(data[['loan_intent']])\n",
    "    return encoder"
   ]
  },
  {
   "cell_type": "code",
   "execution_count": 26,
   "id": "1809e867-14bc-4d14-ba20-083795e0d33d",
   "metadata": {},
   "outputs": [],
   "source": [
    "def create_loan_intent_one_hot(encoder, data):\n",
    "    transformed = encoder.transform(data[['loan_intent']])\n",
    "    \n",
    "    data = pandas.concat(\n",
    "        [\n",
    "            data,\n",
    "            pandas.DataFrame(\n",
    "                transformed,\n",
    "                index=data.index,\n",
    "                #columns = [f'person_home_ownership_{category}' for category in encoder.categories_],\n",
    "                columns=encoder.get_feature_names_out(['loan_intent']),\n",
    "            ),\n",
    "        ],\n",
    "        axis=1,\n",
    "    )\n",
    "    return data"
   ]
  },
  {
   "cell_type": "code",
   "execution_count": 27,
   "id": "517d8b7c-1f9c-4ef6-b347-0f524ee44306",
   "metadata": {},
   "outputs": [],
   "source": [
    "encoder = create_loan_intent_one_hot_encoder(data)\n",
    "\n",
    "data = create_loan_intent_one_hot(encoder, data)\n",
    "data_train = create_loan_intent_one_hot(encoder, data_train)\n",
    "data_test = create_loan_intent_one_hot(encoder, data_test)"
   ]
  },
  {
   "cell_type": "markdown",
   "id": "20c3e967-feb7-469a-8829-deb130e82c6e",
   "metadata": {},
   "source": [
    "# Default on File"
   ]
  },
  {
   "cell_type": "code",
   "execution_count": 28,
   "id": "a90212e8-03a6-46db-aeef-14873a2be699",
   "metadata": {},
   "outputs": [],
   "source": [
    "def map_cb_person_default_on_file(data):\n",
    "    data['cb_person_default_on_file'] = data['cb_person_default_on_file'].map(lambda x: 1 if x == 'Y' else 0)\n",
    "    return data"
   ]
  },
  {
   "cell_type": "code",
   "execution_count": 29,
   "id": "1e0bffe1-813a-4e39-a96e-2f8950a7ebb9",
   "metadata": {},
   "outputs": [],
   "source": [
    "data = map_cb_person_default_on_file(data)\n",
    "data_train = map_cb_person_default_on_file(data_train)\n",
    "data_test = map_cb_person_default_on_file(data_test)"
   ]
  },
  {
   "cell_type": "markdown",
   "id": "1012789c-32d0-46c7-9fb6-5a85a13d0e9f",
   "metadata": {},
   "source": [
    "# Choose Columns for Tree Model"
   ]
  },
  {
   "cell_type": "code",
   "execution_count": 30,
   "id": "d9f85f86-6591-45ae-9e61-97e027148d4b",
   "metadata": {},
   "outputs": [
    {
     "name": "stdout",
     "output_type": "stream",
     "text": [
      "person_age\n",
      "person_income\n",
      "person_home_ownership\n",
      "person_emp_length\n",
      "loan_intent\n",
      "loan_grade\n",
      "loan_amnt\n",
      "loan_int_rate\n",
      "loan_percent_income\n",
      "cb_person_default_on_file\n",
      "cb_person_cred_hist_length\n",
      "loan_status\n",
      "loan_grade_numerical\n",
      "person_home_ownership_MORTGAGE\n",
      "person_home_ownership_OTHER\n",
      "person_home_ownership_OWN\n",
      "person_home_ownership_RENT\n",
      "loan_intent_DEBTCONSOLIDATION\n",
      "loan_intent_EDUCATION\n",
      "loan_intent_HOMEIMPROVEMENT\n",
      "loan_intent_MEDICAL\n",
      "loan_intent_PERSONAL\n",
      "loan_intent_VENTURE\n"
     ]
    }
   ],
   "source": [
    "for column in data.columns:\n",
    "    print(column)"
   ]
  },
  {
   "cell_type": "code",
   "execution_count": 31,
   "id": "36f1e362-b1c3-4773-a85c-0ec697f00fbc",
   "metadata": {},
   "outputs": [],
   "source": [
    "def create_decision_tree_columns():\n",
    "    decision_tree_columns = [\n",
    "        'person_age',\n",
    "        'person_income',\n",
    "        'person_emp_length',\n",
    "        'loan_amnt',\n",
    "        'loan_int_rate',\n",
    "        'loan_percent_income',\n",
    "        'cb_person_cred_hist_length',\n",
    "        'loan_grade_numerical',\n",
    "        'person_home_ownership_MORTGAGE',\n",
    "        'person_home_ownership_OTHER',\n",
    "        'person_home_ownership_OWN',\n",
    "        'person_home_ownership_RENT',\n",
    "        'loan_intent_DEBTCONSOLIDATION',\n",
    "        'loan_intent_EDUCATION',\n",
    "        'loan_intent_HOMEIMPROVEMENT',\n",
    "        'loan_intent_MEDICAL',\n",
    "        'loan_intent_PERSONAL',\n",
    "        'loan_intent_VENTURE',\n",
    "        'cb_person_default_on_file',\n",
    "    ]\n",
    "    return decision_tree_columns"
   ]
  },
  {
   "cell_type": "code",
   "execution_count": 32,
   "id": "aad6e953-9f49-4f4f-bb21-b434d58e425d",
   "metadata": {},
   "outputs": [],
   "source": [
    "def create_decision_tree_columns_with_id():\n",
    "    decision_tree_columns = create_decision_tree_columns()\n",
    "    \n",
    "    decision_tree_columns_with_id = [\n",
    "        column for column in decision_tree_columns\n",
    "    ]\n",
    "    decision_tree_columns_with_id.append('id')\n",
    "    \n",
    "    return decision_tree_columns_with_id"
   ]
  },
  {
   "cell_type": "code",
   "execution_count": 33,
   "id": "b5360ef9-4d5c-4503-8919-d15af27b1145",
   "metadata": {},
   "outputs": [],
   "source": [
    "decision_tree_columns = create_decision_tree_columns()\n",
    "decision_tree_columns_with_id = create_decision_tree_columns_with_id()"
   ]
  },
  {
   "cell_type": "code",
   "execution_count": 26,
   "id": "a2045865-bc25-42c0-b93f-b49b433554db",
   "metadata": {},
   "outputs": [
    {
     "name": "stdout",
     "output_type": "stream",
     "text": [
      "column person_home_ownership is excluded from the model\n",
      "column loan_intent is excluded from the model\n",
      "column loan_grade is excluded from the model\n",
      "column loan_status is excluded from the model\n",
      "column cb_person_default_on_file_vote is excluded from the model\n",
      "column cb_person_default_on_file_predict is excluded from the model\n"
     ]
    }
   ],
   "source": [
    "for column in data.columns:\n",
    "    if not column in decision_tree_columns:\n",
    "        print(f'column {column} is excluded from the model')"
   ]
  },
  {
   "cell_type": "markdown",
   "id": "9aeee5da-4cd6-4763-a089-0b36df3a1c63",
   "metadata": {},
   "source": [
    "# Copy DataFrame and drop unused columns"
   ]
  },
  {
   "cell_type": "code",
   "execution_count": 37,
   "id": "3dd3f274-8cf2-4959-a1f2-4da967acd229",
   "metadata": {},
   "outputs": [],
   "source": [
    "def create_dataframe_copy_and_drop_columns(data):\n",
    "    data_copy = data.copy()\n",
    "\n",
    "    data_copy.drop(\n",
    "        columns=[\n",
    "            'person_home_ownership',\n",
    "            'loan_intent',\n",
    "            'loan_grade',\n",
    "        ],\n",
    "        inplace=True,\n",
    "    )\n",
    "    \n",
    "    return data_copy"
   ]
  },
  {
   "cell_type": "code",
   "execution_count": 38,
   "id": "b6dc980d-21c6-49bc-8533-a5f2cd9a36fd",
   "metadata": {},
   "outputs": [],
   "source": [
    "data_copy = create_dataframe_copy_and_drop_columns(data)\n",
    "data_train_copy = create_dataframe_copy_and_drop_columns(data_train)\n",
    "data_test_copy = create_dataframe_copy_and_drop_columns(data_test)"
   ]
  },
  {
   "cell_type": "code",
   "execution_count": 39,
   "id": "f30dd6de-fb92-4782-a8d8-fa20196d459c",
   "metadata": {},
   "outputs": [
    {
     "name": "stdout",
     "output_type": "stream",
     "text": [
      "person_age\n",
      "person_income\n",
      "person_emp_length\n",
      "loan_amnt\n",
      "loan_int_rate\n",
      "loan_percent_income\n",
      "cb_person_default_on_file\n",
      "cb_person_cred_hist_length\n",
      "loan_status\n",
      "loan_grade_numerical\n",
      "person_home_ownership_MORTGAGE\n",
      "person_home_ownership_OTHER\n",
      "person_home_ownership_OWN\n",
      "person_home_ownership_RENT\n",
      "loan_intent_DEBTCONSOLIDATION\n",
      "loan_intent_EDUCATION\n",
      "loan_intent_HOMEIMPROVEMENT\n",
      "loan_intent_MEDICAL\n",
      "loan_intent_PERSONAL\n",
      "loan_intent_VENTURE\n"
     ]
    }
   ],
   "source": [
    "for column in data_copy.columns:\n",
    "    print(column)"
   ]
  },
  {
   "cell_type": "markdown",
   "id": "f5b5f09e-806e-4116-90d9-40aab602ca2f",
   "metadata": {},
   "source": [
    "# Split data into test and training datasets"
   ]
  },
  {
   "cell_type": "code",
   "execution_count": 63,
   "id": "cf911697-182d-43bd-ad17-d50636770cf4",
   "metadata": {},
   "outputs": [],
   "source": [
    "data_copy_train = data_copy.iloc[0:18000].copy()"
   ]
  },
  {
   "cell_type": "code",
   "execution_count": 64,
   "id": "8fe7ad23-78c6-441b-97ce-fa26a4f583b0",
   "metadata": {},
   "outputs": [],
   "source": [
    "data_copy_test = data_copy.iloc[18000:].copy()"
   ]
  },
  {
   "cell_type": "code",
   "execution_count": 38,
   "id": "b2925cf1-ccb0-439b-a44b-80676c8d0927",
   "metadata": {},
   "outputs": [],
   "source": [
    "X = data_copy_train[decision_tree_columns].copy()\n",
    "Y = data_copy_train['loan_status'].copy()"
   ]
  },
  {
   "cell_type": "code",
   "execution_count": 39,
   "id": "99e1d649-38d5-4510-9224-62ef7d1f084b",
   "metadata": {},
   "outputs": [],
   "source": [
    "X_test = data_copy_test[decision_tree_columns].copy()"
   ]
  },
  {
   "cell_type": "markdown",
   "id": "f19a2d8b-d69f-44da-b060-023e3a18d314",
   "metadata": {},
   "source": [
    "# Decision Tree Model"
   ]
  },
  {
   "cell_type": "code",
   "execution_count": 115,
   "id": "10f9423d-75cf-4d07-bec2-0e68e4bbed20",
   "metadata": {},
   "outputs": [],
   "source": [
    "def decision_tree_model_train(\n",
    "    data_train,\n",
    "    decision_tree_columns,\n",
    "    max_depth,\n",
    "    min_samples_split,\n",
    "    min_samples_leaf,\n",
    "):\n",
    "    \n",
    "    X = data_train[decision_tree_columns].copy()\n",
    "    Y = data_train['loan_status'].copy()\n",
    "    \n",
    "    clf = tree.DecisionTreeClassifier(\n",
    "        criterion='entropy',\n",
    "        max_depth=max_depth,\n",
    "        min_samples_split=min_samples_split,\n",
    "        min_samples_leaf=min_samples_leaf,\n",
    "    )\n",
    "    clf = clf.fit(X, Y)\n",
    "\n",
    "    feature_importances = pandas.Series(clf.feature_importances_, index=X.columns).sort_values(ascending=False)\n",
    "    feature_importances = feature_importances[feature_importances > 0]\n",
    "\n",
    "    Z = clf.predict(X)\n",
    "    X['loan_status_predict'] = Z\n",
    "    X['loan_status'] = data_train['loan_status']\n",
    "    accuracy_in_sample = (X['loan_status'] == X['loan_status_predict']).sum() / len(X)\n",
    "\n",
    "    return (clf, feature_importances, accuracy_in_sample)"
   ]
  },
  {
   "cell_type": "code",
   "execution_count": 53,
   "id": "063f22e3-7f40-4616-b2ed-f3215a9af4a2",
   "metadata": {},
   "outputs": [],
   "source": [
    "def decision_tree_model_test(\n",
    "    clf,\n",
    "    data_test,\n",
    "    decision_tree_columns,\n",
    "):\n",
    "\n",
    "    X_test = data_test[decision_tree_columns].copy()\n",
    "    \n",
    "    Z_test = clf.predict(X_test)\n",
    "    X_test['loan_status_predict'] = Z_test\n",
    "    X_test['loan_status'] = data_test['loan_status']\n",
    "    accuracy_out_of_sample = (X_test['loan_status'] == X_test['loan_status_predict']).sum() / len(X_test)\n",
    "    \n",
    "    return accuracy_out_of_sample"
   ]
  },
  {
   "cell_type": "code",
   "execution_count": 54,
   "id": "a0f07780-5a1b-438a-9423-1e0e72e19e88",
   "metadata": {},
   "outputs": [],
   "source": [
    "def decision_tree_model_predict(\n",
    "    clf,\n",
    "    data_predict,\n",
    "    decision_tree_columns,\n",
    "    decision_tree_columns_with_id,\n",
    "):\n",
    "    \n",
    "    X_predict = data_predict[decision_tree_columns_with_id].copy()\n",
    "\n",
    "    Z_predict = clf.predict_proba(X_predict[decision_tree_columns])\n",
    "    X_predict['loan_status'] = Z_predict[:, 1]\n",
    "\n",
    "    return X_predict"
   ]
  },
  {
   "cell_type": "code",
   "execution_count": 55,
   "id": "730405ff-0469-466e-af48-5be3695d390d",
   "metadata": {},
   "outputs": [],
   "source": [
    "def decision_tree_model_predict_write_to_csv(\n",
    "    data_predict,\n",
    "    filename,\n",
    "):\n",
    "    data_predict[['id', 'loan_status']].to_csv(filename, index=False)"
   ]
  },
  {
   "cell_type": "code",
   "execution_count": 56,
   "id": "8902bc1b-7279-4896-92cd-f2561554e418",
   "metadata": {},
   "outputs": [],
   "source": [
    "# Usage\n",
    "\n",
    "(\n",
    "    clf,\n",
    "    feature_importances,\n",
    "    accuracy_in_sample,\n",
    ") = decision_tree_model_train(\n",
    "    data_copy,\n",
    "    decision_tree_columns,\n",
    "    15,\n",
    ")\n",
    "\n",
    "accuracy_out_of_sample = decision_tree_model_test(\n",
    "    clf,\n",
    "    data_train_copy,\n",
    "    decision_tree_columns,\n",
    ")\n",
    "\n",
    "data_predict = decision_tree_model_predict(\n",
    "    clf,\n",
    "    data_test_copy,\n",
    "    decision_tree_columns,\n",
    "    decision_tree_columns_with_id,\n",
    ")\n",
    "\n",
    "decision_tree_model_predict_write_to_csv(\n",
    "    data_predict,\n",
    "    f'decision_tree_model_example_usage.csv'\n",
    ")"
   ]
  },
  {
   "cell_type": "code",
   "execution_count": 57,
   "id": "4bfd0021-7055-4f3f-8ac5-ea014f2e3690",
   "metadata": {},
   "outputs": [
    {
     "data": {
      "text/plain": [
       "np.float64(0.954491478066499)"
      ]
     },
     "execution_count": 57,
     "metadata": {},
     "output_type": "execute_result"
    }
   ],
   "source": [
    "accuracy_in_sample"
   ]
  },
  {
   "cell_type": "code",
   "execution_count": 58,
   "id": "58e69e5f-fec9-4a15-80f2-cfd696656984",
   "metadata": {},
   "outputs": [
    {
     "data": {
      "text/plain": [
       "np.float64(0.9434222866399522)"
      ]
     },
     "execution_count": 58,
     "metadata": {},
     "output_type": "execute_result"
    }
   ],
   "source": [
    "accuracy_out_of_sample"
   ]
  },
  {
   "cell_type": "code",
   "execution_count": 59,
   "id": "ee394958-fb80-438b-a833-e99378f9c0d1",
   "metadata": {},
   "outputs": [
    {
     "data": {
      "text/plain": [
       "loan_percent_income               0.224110\n",
       "loan_grade_numerical              0.212534\n",
       "person_home_ownership_RENT        0.156097\n",
       "person_income                     0.139044\n",
       "person_emp_length                 0.047394\n",
       "loan_int_rate                     0.038933\n",
       "person_home_ownership_OWN         0.029220\n",
       "loan_intent_MEDICAL               0.027988\n",
       "person_age                        0.026997\n",
       "loan_intent_DEBTCONSOLIDATION     0.024540\n",
       "loan_amnt                         0.018965\n",
       "loan_intent_HOMEIMPROVEMENT       0.013581\n",
       "loan_intent_VENTURE               0.012297\n",
       "cb_person_cred_hist_length        0.012128\n",
       "person_home_ownership_MORTGAGE    0.009880\n",
       "loan_intent_EDUCATION             0.002903\n",
       "loan_intent_PERSONAL              0.002733\n",
       "cb_person_default_on_file         0.000655\n",
       "dtype: float64"
      ]
     },
     "execution_count": 59,
     "metadata": {},
     "output_type": "execute_result"
    }
   ],
   "source": [
    "feature_importances"
   ]
  },
  {
   "cell_type": "code",
   "execution_count": null,
   "id": "149aad57-ecbb-4e84-8369-6d36e4868077",
   "metadata": {},
   "outputs": [],
   "source": [
    "# for reference only / documentation (do not run or call this)\n",
    "def run_decision_tree_model_with_max_depth(data_copy_train, data_copy_test, decision_tree_columns, max_depth):\n",
    "\n",
    "    X = data_copy_train[decision_tree_columns].copy()\n",
    "    Y = data_copy_train['loan_status'].copy()\n",
    "\n",
    "    X_test = data_copy_test[decision_tree_columns].copy()\n",
    "    \n",
    "    clf = tree.DecisionTreeClassifier(criterion='entropy', max_depth=max_depth)\n",
    "    clf = clf.fit(X, Y)\n",
    "\n",
    "    Z = clf.predict(X)\n",
    "    data_copy_train['loan_status_tree_predict'] = Z\n",
    "    accuracy_in_sample = (data_copy_train['loan_status'] == data_copy_train['loan_status_tree_predict']).sum() / len(data_copy_train)\n",
    "\n",
    "    feature_importances = pandas.Series(clf.feature_importances_, index=X.columns).sort_values(ascending=False)\n",
    "    feature_importances = feature_importances[feature_importances > 0]\n",
    "\n",
    "    Z_test = clf.predict(X_test)\n",
    "    data_copy_test['loan_status_tree_predict'] = Z_test\n",
    "    accuracy_out_of_sample = (data_copy_test['loan_status'] == data_copy_test['loan_status_tree_predict']).sum() / len(data_copy_test)\n",
    "\n",
    "    return (accuracy_in_sample, accuracy_out_of_sample, feature_importances)"
   ]
  },
  {
   "cell_type": "markdown",
   "id": "8a365ed3-740a-46ec-8418-2c719c2a740c",
   "metadata": {},
   "source": [
    "# Decision Tree Model - Max Depth 1"
   ]
  },
  {
   "cell_type": "code",
   "execution_count": 65,
   "id": "c99ce6c3-5a9c-40ea-89d9-1cad91c1fbee",
   "metadata": {},
   "outputs": [],
   "source": [
    "(\n",
    "    clf,\n",
    "    feature_importances,\n",
    "    accuracy_in_sample,\n",
    ") = decision_tree_model_train(\n",
    "    data_copy_train, #data_copy,\n",
    "    decision_tree_columns,\n",
    "    1,\n",
    ")\n",
    "\n",
    "accuracy_out_of_sample = decision_tree_model_test(\n",
    "    clf,\n",
    "    data_copy_test, #data_train_copy,\n",
    "    decision_tree_columns,\n",
    ")\n",
    "\n",
    "# data_predict = decision_tree_model_predict(\n",
    "#     clf,\n",
    "#     data_test_copy,\n",
    "#     decision_tree_columns,\n",
    "#     decision_tree_columns_with_id,\n",
    "# )\n",
    "\n",
    "# decision_tree_model_predict_write_to_csv(\n",
    "#     data_predict,\n",
    "#     f'decision_tree_model_one_hot_2_clean_code_maxdepth_1.csv'\n",
    "# )"
   ]
  },
  {
   "cell_type": "code",
   "execution_count": 66,
   "id": "18a8be77-a8aa-457e-85ec-a04d4b4985f3",
   "metadata": {},
   "outputs": [
    {
     "data": {
      "text/plain": [
       "loan_percent_income    1.0\n",
       "dtype: float64"
      ]
     },
     "execution_count": 66,
     "metadata": {},
     "output_type": "execute_result"
    }
   ],
   "source": [
    "feature_importances"
   ]
  },
  {
   "cell_type": "code",
   "execution_count": 67,
   "id": "6bafeaa8-870c-4a22-af31-f4f06b4fadb3",
   "metadata": {},
   "outputs": [
    {
     "data": {
      "text/plain": [
       "np.float64(0.8240555555555555)"
      ]
     },
     "execution_count": 67,
     "metadata": {},
     "output_type": "execute_result"
    }
   ],
   "source": [
    "accuracy_in_sample"
   ]
  },
  {
   "cell_type": "code",
   "execution_count": 68,
   "id": "af40b038-72cf-443d-8d26-eb13ab039ba5",
   "metadata": {},
   "outputs": [
    {
     "data": {
      "text/plain": [
       "np.float64(0.844714070729872)"
      ]
     },
     "execution_count": 68,
     "metadata": {},
     "output_type": "execute_result"
    }
   ],
   "source": [
    "accuracy_out_of_sample"
   ]
  },
  {
   "cell_type": "markdown",
   "id": "dba401f6-3093-4a53-a440-c62efcfd37fc",
   "metadata": {},
   "source": [
    "# Decision Tree Model - Max Depth 2"
   ]
  },
  {
   "cell_type": "code",
   "execution_count": 69,
   "id": "8ffd09c1-ca99-4d43-9bb1-99b3492d2f0b",
   "metadata": {},
   "outputs": [],
   "source": [
    "(\n",
    "    clf,\n",
    "    feature_importances,\n",
    "    accuracy_in_sample,\n",
    ") = decision_tree_model_train(\n",
    "    data_copy_train, #data_copy,\n",
    "    decision_tree_columns,\n",
    "    2,\n",
    ")\n",
    "\n",
    "accuracy_out_of_sample = decision_tree_model_test(\n",
    "    clf,\n",
    "    data_copy_test, #data_train_copy,\n",
    "    decision_tree_columns,\n",
    ")"
   ]
  },
  {
   "cell_type": "code",
   "execution_count": 70,
   "id": "57070715-f057-4701-86f2-60619bdbf16c",
   "metadata": {},
   "outputs": [
    {
     "data": {
      "text/plain": [
       "np.float64(0.8712777777777778)"
      ]
     },
     "execution_count": 70,
     "metadata": {},
     "output_type": "execute_result"
    }
   ],
   "source": [
    "accuracy_in_sample"
   ]
  },
  {
   "cell_type": "code",
   "execution_count": 74,
   "id": "211bfa02-83ea-4e76-b97b-2c6ff473bf4c",
   "metadata": {},
   "outputs": [
    {
     "data": {
      "text/plain": [
       "np.float64(0.875)"
      ]
     },
     "execution_count": 74,
     "metadata": {},
     "output_type": "execute_result"
    }
   ],
   "source": [
    "accuracy_out_of_sample"
   ]
  },
  {
   "cell_type": "code",
   "execution_count": 73,
   "id": "1fde9ab2-fad9-4292-b42a-17c5b5a89004",
   "metadata": {},
   "outputs": [
    {
     "data": {
      "text/plain": [
       "loan_percent_income           0.396194\n",
       "loan_grade_numerical          0.369497\n",
       "person_home_ownership_RENT    0.234308\n",
       "dtype: float64"
      ]
     },
     "execution_count": 73,
     "metadata": {},
     "output_type": "execute_result"
    }
   ],
   "source": [
    "feature_importances"
   ]
  },
  {
   "cell_type": "code",
   "execution_count": 72,
   "id": "38fdc3b6-17c0-4c55-83dd-82a5a5dd860c",
   "metadata": {},
   "outputs": [
    {
     "data": {
      "image/png": "[encoded data removed]",
      "text/plain": [
       "<Figure size 600x400 with 1 Axes>"
      ]
     },
     "metadata": {},
     "output_type": "display_data"
    }
   ],
   "source": [
    "width = 6\n",
    "height = 4\n",
    "plt.figure(figsize=(width, height))\n",
    "\n",
    "tree.plot_tree(clf, feature_names=data_copy_train.columns)\n",
    "\n",
    "plt.savefig('decision_tree_model_one_hot_2_clean_code_maxdepth_2_tree.pdf')\n",
    "plt.savefig('decision_tree_model_one_hot_2_clean_code_maxdepth_2_tree.png')\n",
    "plt.show()"
   ]
  },
  {
   "cell_type": "markdown",
   "id": "a6296fe3-3862-4e92-b862-e241d16a0e09",
   "metadata": {},
   "source": [
    "# Decision Tree Model - Max Depth 3"
   ]
  },
  {
   "cell_type": "code",
   "execution_count": 78,
   "id": "199d1055-1fd7-49bd-9137-b6c2b011c4d5",
   "metadata": {},
   "outputs": [],
   "source": [
    "(\n",
    "    clf,\n",
    "    feature_importances,\n",
    "    accuracy_in_sample,\n",
    ") = decision_tree_model_train(\n",
    "    data_copy_train, #data_copy,\n",
    "    decision_tree_columns,\n",
    "    3,\n",
    ")\n",
    "\n",
    "accuracy_out_of_sample = decision_tree_model_test(\n",
    "    clf,\n",
    "    data_copy_test, #data_train_copy,\n",
    "    decision_tree_columns,\n",
    ")"
   ]
  },
  {
   "cell_type": "code",
   "execution_count": 79,
   "id": "f7b08a80-261d-43fb-9564-7ffac502c2d6",
   "metadata": {},
   "outputs": [
    {
     "data": {
      "text/plain": [
       "np.float64(0.881)"
      ]
     },
     "execution_count": 79,
     "metadata": {},
     "output_type": "execute_result"
    }
   ],
   "source": [
    "accuracy_in_sample"
   ]
  },
  {
   "cell_type": "code",
   "execution_count": 80,
   "id": "758ea357-7609-4576-81c2-60a8bb346516",
   "metadata": {},
   "outputs": [
    {
     "data": {
      "text/plain": [
       "np.float64(0.8792325056433409)"
      ]
     },
     "execution_count": 80,
     "metadata": {},
     "output_type": "execute_result"
    }
   ],
   "source": [
    "accuracy_out_of_sample"
   ]
  },
  {
   "cell_type": "code",
   "execution_count": 81,
   "id": "ffccda94-6ea8-40a4-ac16-1ca5e93f673c",
   "metadata": {},
   "outputs": [
    {
     "data": {
      "text/plain": [
       "loan_percent_income              0.341362\n",
       "loan_grade_numerical             0.318360\n",
       "person_home_ownership_RENT       0.201881\n",
       "person_income                    0.107289\n",
       "loan_intent_DEBTCONSOLIDATION    0.031108\n",
       "dtype: float64"
      ]
     },
     "execution_count": 81,
     "metadata": {},
     "output_type": "execute_result"
    }
   ],
   "source": [
    "feature_importances"
   ]
  },
  {
   "cell_type": "code",
   "execution_count": 83,
   "id": "1371afcc-b882-4e9f-8525-2cec570756d5",
   "metadata": {},
   "outputs": [
    {
     "data": {
      "image/png": "[encoded data removed]",
      "text/plain": [
       "<Figure size 600x400 with 1 Axes>"
      ]
     },
     "metadata": {},
     "output_type": "display_data"
    }
   ],
   "source": [
    "width = 6\n",
    "height = 4\n",
    "plt.figure(figsize=(width, height))\n",
    "\n",
    "tree.plot_tree(clf, feature_names=data_copy_train.columns)\n",
    "\n",
    "plt.savefig('decision_tree_model_one_hot_2_clean_code_maxdepth_3_tree.pdf')\n",
    "plt.savefig('decision_tree_model_one_hot_2_clean_code_maxdepth_3_tree.png')\n",
    "plt.show()"
   ]
  },
  {
   "cell_type": "markdown",
   "id": "dc398a80-d6c5-42c6-bee8-3f7fae4bda68",
   "metadata": {},
   "source": [
    "# Decision Tree Model - Max Depth 4"
   ]
  },
  {
   "cell_type": "code",
   "execution_count": 84,
   "id": "864ee9c0-8bd8-4f2c-ae36-1cde4e39ceb2",
   "metadata": {},
   "outputs": [],
   "source": [
    "(\n",
    "    clf,\n",
    "    feature_importances,\n",
    "    accuracy_in_sample,\n",
    ") = decision_tree_model_train(\n",
    "    data_copy_train, #data_copy,\n",
    "    decision_tree_columns,\n",
    "    4,\n",
    ")\n",
    "\n",
    "accuracy_out_of_sample = decision_tree_model_test(\n",
    "    clf,\n",
    "    data_copy_test, #data_train_copy,\n",
    "    decision_tree_columns,\n",
    ")"
   ]
  },
  {
   "cell_type": "code",
   "execution_count": 85,
   "id": "9eaabed7-ecbb-4e62-b2f2-dc1305d1ba8e",
   "metadata": {},
   "outputs": [
    {
     "data": {
      "text/plain": [
       "np.float64(0.8999444444444444)"
      ]
     },
     "execution_count": 85,
     "metadata": {},
     "output_type": "execute_result"
    }
   ],
   "source": [
    "accuracy_in_sample"
   ]
  },
  {
   "cell_type": "code",
   "execution_count": 86,
   "id": "fdec3af3-5d6d-442e-a3b6-6dc063852e65",
   "metadata": {},
   "outputs": [
    {
     "data": {
      "text/plain": [
       "np.float64(0.9077313769751693)"
      ]
     },
     "execution_count": 86,
     "metadata": {},
     "output_type": "execute_result"
    }
   ],
   "source": [
    "accuracy_out_of_sample"
   ]
  },
  {
   "cell_type": "code",
   "execution_count": 87,
   "id": "88b6ced5-de1a-4c45-97a6-2595ad2580fc",
   "metadata": {},
   "outputs": [
    {
     "data": {
      "text/plain": [
       "loan_percent_income              0.338336\n",
       "loan_grade_numerical             0.292248\n",
       "person_home_ownership_RENT       0.179540\n",
       "person_income                    0.113461\n",
       "loan_intent_MEDICAL              0.033467\n",
       "loan_intent_DEBTCONSOLIDATION    0.027666\n",
       "person_home_ownership_OWN        0.015284\n",
       "dtype: float64"
      ]
     },
     "execution_count": 87,
     "metadata": {},
     "output_type": "execute_result"
    }
   ],
   "source": [
    "feature_importances"
   ]
  },
  {
   "cell_type": "markdown",
   "id": "8f7e30a6-8636-4ff6-a360-a53f2572f849",
   "metadata": {},
   "source": [
    "# Decision Tree Model - Max Depth 5"
   ]
  },
  {
   "cell_type": "code",
   "execution_count": 88,
   "id": "b6ee2c82-3b30-4872-b46b-0831aeda884f",
   "metadata": {},
   "outputs": [],
   "source": [
    "(\n",
    "    clf,\n",
    "    feature_importances,\n",
    "    accuracy_in_sample,\n",
    ") = decision_tree_model_train(\n",
    "    data_copy_train, #data_copy,\n",
    "    decision_tree_columns,\n",
    "    5,\n",
    ")\n",
    "\n",
    "accuracy_out_of_sample = decision_tree_model_test(\n",
    "    clf,\n",
    "    data_copy_test, #data_train_copy,\n",
    "    decision_tree_columns,\n",
    ")"
   ]
  },
  {
   "cell_type": "code",
   "execution_count": 89,
   "id": "d4091fa7-aa2a-4e3b-8db6-39cb87c59560",
   "metadata": {},
   "outputs": [
    {
     "data": {
      "text/plain": [
       "np.float64(0.9181666666666667)"
      ]
     },
     "execution_count": 89,
     "metadata": {},
     "output_type": "execute_result"
    }
   ],
   "source": [
    "accuracy_in_sample"
   ]
  },
  {
   "cell_type": "code",
   "execution_count": 90,
   "id": "07c20607-059d-4ed9-a5dd-e4b6f3e84b39",
   "metadata": {},
   "outputs": [
    {
     "data": {
      "text/plain": [
       "np.float64(0.9193002257336343)"
      ]
     },
     "execution_count": 90,
     "metadata": {},
     "output_type": "execute_result"
    }
   ],
   "source": [
    "accuracy_out_of_sample"
   ]
  },
  {
   "cell_type": "code",
   "execution_count": 91,
   "id": "660d4758-7c5e-45a9-84a3-c5955a79f2a1",
   "metadata": {},
   "outputs": [
    {
     "data": {
      "text/plain": [
       "loan_percent_income               0.313706\n",
       "loan_grade_numerical              0.273107\n",
       "person_home_ownership_RENT        0.167636\n",
       "person_income                     0.105201\n",
       "person_emp_length                 0.039473\n",
       "loan_intent_MEDICAL               0.031031\n",
       "loan_intent_DEBTCONSOLIDATION     0.027868\n",
       "person_home_ownership_OWN         0.016820\n",
       "loan_intent_HOMEIMPROVEMENT       0.012631\n",
       "loan_int_rate                     0.009880\n",
       "person_home_ownership_MORTGAGE    0.002646\n",
       "dtype: float64"
      ]
     },
     "execution_count": 91,
     "metadata": {},
     "output_type": "execute_result"
    }
   ],
   "source": [
    "feature_importances"
   ]
  },
  {
   "cell_type": "markdown",
   "id": "1e3b4416-b7d0-4f4e-82a7-6518fe83dfe6",
   "metadata": {},
   "source": [
    "## Make prediction for Kaggle Competition Test dataset"
   ]
  },
  {
   "cell_type": "markdown",
   "id": "a1f78e5d-e82f-4fc8-ac66-6fc0012fe5bb",
   "metadata": {},
   "source": [
    "### Max depth 5"
   ]
  },
  {
   "cell_type": "code",
   "execution_count": 92,
   "id": "95ee874f-757e-43ef-94f5-515c5afe0be4",
   "metadata": {},
   "outputs": [],
   "source": [
    "data_predict = decision_tree_model_predict(\n",
    "    clf,\n",
    "    data_test_copy,\n",
    "    decision_tree_columns,\n",
    "    decision_tree_columns_with_id,\n",
    ")\n",
    "\n",
    "decision_tree_model_predict_write_to_csv(\n",
    "    data_predict,\n",
    "    f'decision_tree_model_one_hot_2_clean_code_maxdepth_5.csv'\n",
    ")"
   ]
  },
  {
   "cell_type": "markdown",
   "id": "ea833cd3-1563-43e1-9e32-66ce49adfcdc",
   "metadata": {},
   "source": [
    "### No max depth"
   ]
  },
  {
   "cell_type": "code",
   "execution_count": 93,
   "id": "eb51d1e6-ce94-41f7-91c4-ec76c4b82808",
   "metadata": {},
   "outputs": [],
   "source": [
    "(\n",
    "    clf,\n",
    "    feature_importances,\n",
    "    accuracy_in_sample,\n",
    ") = decision_tree_model_train(\n",
    "    data_copy_train, #data_copy,\n",
    "    decision_tree_columns,\n",
    "    None,\n",
    ")\n",
    "\n",
    "accuracy_out_of_sample = decision_tree_model_test(\n",
    "    clf,\n",
    "    data_copy_test, #data_train_copy,\n",
    "    decision_tree_columns,\n",
    ")"
   ]
  },
  {
   "cell_type": "code",
   "execution_count": 94,
   "id": "a53287c2-06cd-4e37-b9d0-d7407886525e",
   "metadata": {},
   "outputs": [
    {
     "data": {
      "text/plain": [
       "np.float64(1.0)"
      ]
     },
     "execution_count": 94,
     "metadata": {},
     "output_type": "execute_result"
    }
   ],
   "source": [
    "accuracy_in_sample"
   ]
  },
  {
   "cell_type": "code",
   "execution_count": 95,
   "id": "c998eca0-e95b-4ea0-b4a7-0dc21cd2eb88",
   "metadata": {},
   "outputs": [
    {
     "data": {
      "text/plain": [
       "np.float64(0.8880737396538751)"
      ]
     },
     "execution_count": 95,
     "metadata": {},
     "output_type": "execute_result"
    }
   ],
   "source": [
    "accuracy_out_of_sample"
   ]
  },
  {
   "cell_type": "code",
   "execution_count": 96,
   "id": "53295618-10d0-4c6b-888a-b72d53d7c369",
   "metadata": {},
   "outputs": [
    {
     "data": {
      "text/plain": [
       "loan_percent_income               0.208249\n",
       "loan_grade_numerical              0.160086\n",
       "person_income                     0.158365\n",
       "person_home_ownership_RENT        0.126135\n",
       "loan_int_rate                     0.070390\n",
       "person_emp_length                 0.053739\n",
       "loan_amnt                         0.046531\n",
       "person_age                        0.046121\n",
       "loan_intent_MEDICAL               0.022020\n",
       "cb_person_cred_hist_length        0.021500\n",
       "loan_intent_DEBTCONSOLIDATION     0.019963\n",
       "person_home_ownership_OWN         0.018325\n",
       "loan_intent_HOMEIMPROVEMENT       0.015124\n",
       "loan_intent_VENTURE               0.010269\n",
       "loan_intent_EDUCATION             0.006740\n",
       "loan_intent_PERSONAL              0.006568\n",
       "person_home_ownership_MORTGAGE    0.006060\n",
       "cb_person_default_on_file         0.003088\n",
       "person_home_ownership_OTHER       0.000728\n",
       "dtype: float64"
      ]
     },
     "execution_count": 96,
     "metadata": {},
     "output_type": "execute_result"
    }
   ],
   "source": [
    "feature_importances"
   ]
  },
  {
   "cell_type": "code",
   "execution_count": 97,
   "id": "01a527a2-ea79-4a10-a0ea-a9c114d4d33e",
   "metadata": {},
   "outputs": [],
   "source": [
    "data_predict = decision_tree_model_predict(\n",
    "    clf,\n",
    "    data_test_copy,\n",
    "    decision_tree_columns,\n",
    "    decision_tree_columns_with_id,\n",
    ")\n",
    "\n",
    "decision_tree_model_predict_write_to_csv(\n",
    "    data_predict,\n",
    "    f'decision_tree_model_one_hot_2_clean_code_maxdepth_None.csv'\n",
    ")"
   ]
  },
  {
   "cell_type": "markdown",
   "id": "56dbc16d-d374-4313-9a55-ba288fa796af",
   "metadata": {},
   "source": [
    "# Decision Tree Model - Max Depth 6"
   ]
  },
  {
   "cell_type": "markdown",
   "id": "d8ef09ab-9d32-4030-8de5-3a46840318f5",
   "metadata": {},
   "source": [
    "### Original dataset\n",
    "\n",
    "- Use training portion of original dataset for training\n",
    "- Use testing portion of original dataset for testing"
   ]
  },
  {
   "cell_type": "code",
   "execution_count": 98,
   "id": "4fcd5225-f2fe-4b04-947d-bc819ae6cc1a",
   "metadata": {},
   "outputs": [],
   "source": [
    "(\n",
    "    clf,\n",
    "    feature_importances,\n",
    "    accuracy_in_sample,\n",
    ") = decision_tree_model_train(\n",
    "    data_copy_train, #data_copy,\n",
    "    decision_tree_columns,\n",
    "    6,\n",
    ")\n",
    "\n",
    "accuracy_out_of_sample = decision_tree_model_test(\n",
    "    clf,\n",
    "    data_copy_test, #data_train_copy,\n",
    "    decision_tree_columns,\n",
    ")"
   ]
  },
  {
   "cell_type": "code",
   "execution_count": 99,
   "id": "98335d03-89a5-4b0d-ab1b-9df705843176",
   "metadata": {},
   "outputs": [
    {
     "data": {
      "text/plain": [
       "np.float64(0.9272777777777778)"
      ]
     },
     "execution_count": 99,
     "metadata": {},
     "output_type": "execute_result"
    }
   ],
   "source": [
    "accuracy_in_sample"
   ]
  },
  {
   "cell_type": "code",
   "execution_count": 100,
   "id": "bb1ad889-eef4-4bb0-abbe-abbe68140fa6",
   "metadata": {},
   "outputs": [
    {
     "data": {
      "text/plain": [
       "np.float64(0.9294582392776524)"
      ]
     },
     "execution_count": 100,
     "metadata": {},
     "output_type": "execute_result"
    }
   ],
   "source": [
    "accuracy_out_of_sample"
   ]
  },
  {
   "cell_type": "code",
   "execution_count": 101,
   "id": "0bef7ffb-41c1-451d-b365-d5b1f7b29ba8",
   "metadata": {},
   "outputs": [
    {
     "data": {
      "text/plain": [
       "loan_percent_income               0.289242\n",
       "loan_grade_numerical              0.251810\n",
       "person_home_ownership_RENT        0.206551\n",
       "person_income                     0.102668\n",
       "person_emp_length                 0.036395\n",
       "person_home_ownership_OWN         0.029262\n",
       "loan_intent_MEDICAL               0.028611\n",
       "loan_intent_DEBTCONSOLIDATION     0.025695\n",
       "loan_intent_HOMEIMPROVEMENT       0.012539\n",
       "loan_int_rate                     0.009110\n",
       "loan_intent_VENTURE               0.004524\n",
       "person_home_ownership_MORTGAGE    0.002440\n",
       "cb_person_cred_hist_length        0.001154\n",
       "dtype: float64"
      ]
     },
     "execution_count": 101,
     "metadata": {},
     "output_type": "execute_result"
    }
   ],
   "source": [
    "feature_importances"
   ]
  },
  {
   "cell_type": "markdown",
   "id": "0716827a-10b3-4388-8002-aa2ee733ede7",
   "metadata": {},
   "source": [
    "### Original dataset for training, Kaggle competition dataset for testing\n",
    "\n",
    "- Use training portion of original dataset for training\n",
    "- Use Kaggle competition training dataset for testing"
   ]
  },
  {
   "cell_type": "code",
   "execution_count": 102,
   "id": "3a951313-e644-4eb5-ad70-dc391b425927",
   "metadata": {},
   "outputs": [],
   "source": [
    "(\n",
    "    clf,\n",
    "    feature_importances,\n",
    "    accuracy_in_sample,\n",
    ") = decision_tree_model_train(\n",
    "    data_copy_train, #data_copy,\n",
    "    decision_tree_columns,\n",
    "    6,\n",
    ")\n",
    "\n",
    "accuracy_out_of_sample = decision_tree_model_test(\n",
    "    clf,\n",
    "    data_train_copy, #data_train_copy,\n",
    "    decision_tree_columns,\n",
    ")"
   ]
  },
  {
   "cell_type": "code",
   "execution_count": 103,
   "id": "8e7cce00-3492-4764-8598-c05a537edbc6",
   "metadata": {},
   "outputs": [
    {
     "data": {
      "text/plain": [
       "np.float64(0.9272777777777778)"
      ]
     },
     "execution_count": 103,
     "metadata": {},
     "output_type": "execute_result"
    }
   ],
   "source": [
    "accuracy_in_sample"
   ]
  },
  {
   "cell_type": "code",
   "execution_count": 104,
   "id": "8e5e9a3f-cab1-459f-99fb-02bac5cdd2ea",
   "metadata": {},
   "outputs": [
    {
     "data": {
      "text/plain": [
       "np.float64(0.9494415551197886)"
      ]
     },
     "execution_count": 104,
     "metadata": {},
     "output_type": "execute_result"
    }
   ],
   "source": [
    "accuracy_out_of_sample"
   ]
  },
  {
   "cell_type": "code",
   "execution_count": 105,
   "id": "07acca65-49f7-4ab4-af07-859c97d89552",
   "metadata": {},
   "outputs": [
    {
     "data": {
      "text/plain": [
       "loan_percent_income               0.289242\n",
       "loan_grade_numerical              0.251810\n",
       "person_home_ownership_RENT        0.206551\n",
       "person_income                     0.102668\n",
       "person_emp_length                 0.036395\n",
       "person_home_ownership_OWN         0.029262\n",
       "loan_intent_MEDICAL               0.028611\n",
       "loan_intent_DEBTCONSOLIDATION     0.025695\n",
       "loan_intent_HOMEIMPROVEMENT       0.012539\n",
       "loan_int_rate                     0.009110\n",
       "loan_intent_VENTURE               0.004524\n",
       "person_home_ownership_MORTGAGE    0.002440\n",
       "cb_person_cred_hist_length        0.001154\n",
       "dtype: float64"
      ]
     },
     "execution_count": 105,
     "metadata": {},
     "output_type": "execute_result"
    }
   ],
   "source": [
    "feature_importances"
   ]
  },
  {
   "cell_type": "markdown",
   "id": "a894bd33-1102-4772-bfe6-e41269e5325a",
   "metadata": {},
   "source": [
    "### Original dataset for training, Kaggle competition test dataset for submission creation\n",
    "\n",
    "- Use training portion of original dataset for training\n",
    "- Use Kaggle competition test dataset for prediction"
   ]
  },
  {
   "cell_type": "code",
   "execution_count": 108,
   "id": "73ae2f93-c335-48fc-af14-4d0fd69993c2",
   "metadata": {},
   "outputs": [],
   "source": [
    "(\n",
    "    clf,\n",
    "    feature_importances,\n",
    "    accuracy_in_sample,\n",
    ") = decision_tree_model_train(\n",
    "    data_copy_train, #data_copy,\n",
    "    decision_tree_columns,\n",
    "    6,\n",
    ")"
   ]
  },
  {
   "cell_type": "code",
   "execution_count": 109,
   "id": "64e8a437-0e54-465b-bb3d-ef6154b3301e",
   "metadata": {},
   "outputs": [
    {
     "data": {
      "text/plain": [
       "np.float64(0.9272777777777778)"
      ]
     },
     "execution_count": 109,
     "metadata": {},
     "output_type": "execute_result"
    }
   ],
   "source": [
    "accuracy_in_sample"
   ]
  },
  {
   "cell_type": "code",
   "execution_count": 110,
   "id": "65fd1c2f-3bb4-48b5-ac84-538aefd163a2",
   "metadata": {},
   "outputs": [
    {
     "data": {
      "text/plain": [
       "loan_percent_income               0.289242\n",
       "loan_grade_numerical              0.251810\n",
       "person_home_ownership_RENT        0.206551\n",
       "person_income                     0.102668\n",
       "person_emp_length                 0.036395\n",
       "person_home_ownership_OWN         0.029262\n",
       "loan_intent_MEDICAL               0.028611\n",
       "loan_intent_DEBTCONSOLIDATION     0.025695\n",
       "loan_intent_HOMEIMPROVEMENT       0.012539\n",
       "loan_int_rate                     0.009110\n",
       "loan_intent_VENTURE               0.004524\n",
       "person_home_ownership_MORTGAGE    0.002440\n",
       "cb_person_cred_hist_length        0.001154\n",
       "dtype: float64"
      ]
     },
     "execution_count": 110,
     "metadata": {},
     "output_type": "execute_result"
    }
   ],
   "source": [
    "feature_importances"
   ]
  },
  {
   "cell_type": "code",
   "execution_count": 107,
   "id": "60e4a191-c415-4e3d-8c58-e7393c401025",
   "metadata": {},
   "outputs": [],
   "source": [
    "data_predict = decision_tree_model_predict(\n",
    "    clf,\n",
    "    data_test_copy,\n",
    "    decision_tree_columns,\n",
    "    decision_tree_columns_with_id,\n",
    ")\n",
    "\n",
    "decision_tree_model_predict_write_to_csv(\n",
    "    data_predict,\n",
    "    f'decision_tree_model_one_hot_2_clean_code_maxdepth_6.csv'\n",
    ")"
   ]
  },
  {
   "cell_type": "markdown",
   "id": "23f93d19-319c-439d-b6a2-0264f6686008",
   "metadata": {},
   "source": [
    "### Repeat of above, but use full length dataset for training\n",
    "\n",
    "- Use entire original dataset for training\n",
    "- Use Kaggle competition test dataset for prediction"
   ]
  },
  {
   "cell_type": "code",
   "execution_count": 112,
   "id": "768faee7-6bd7-40fe-b5f4-ae62504acab6",
   "metadata": {},
   "outputs": [],
   "source": [
    "(\n",
    "    clf,\n",
    "    feature_importances,\n",
    "    accuracy_in_sample,\n",
    ") = decision_tree_model_train(\n",
    "    data_copy,\n",
    "    decision_tree_columns,\n",
    "    6,\n",
    ")"
   ]
  },
  {
   "cell_type": "code",
   "execution_count": 114,
   "id": "165a26e8-a729-42b0-bff7-7e3e6b511488",
   "metadata": {},
   "outputs": [],
   "source": [
    "data_predict = decision_tree_model_predict(\n",
    "    clf,\n",
    "    data_test_copy,\n",
    "    decision_tree_columns,\n",
    "    decision_tree_columns_with_id,\n",
    ")\n",
    "\n",
    "decision_tree_model_predict_write_to_csv(\n",
    "    data_predict,\n",
    "    f'decision_tree_model_one_hot_2_clean_code_maxdepth_6_full_training_dataset.csv'\n",
    ")"
   ]
  },
  {
   "cell_type": "markdown",
   "id": "6da9aea0-d52b-4347-9de9-8a445acdb234",
   "metadata": {},
   "source": [
    "# Decision Tree Model with more detailed regularization"
   ]
  },
  {
   "cell_type": "code",
   "execution_count": 132,
   "id": "a5f17d96-fe18-4f5a-b5fe-13ca3528cbc8",
   "metadata": {},
   "outputs": [],
   "source": [
    "(\n",
    "    clf,\n",
    "    feature_importances,\n",
    "    accuracy_in_sample,\n",
    ") = decision_tree_model_train(\n",
    "    data_copy,\n",
    "    decision_tree_columns,\n",
    "    None,\n",
    "    30,\n",
    "    4,\n",
    ")\n",
    "\n",
    "accuracy_out_of_sample = decision_tree_model_test(\n",
    "    clf,\n",
    "    data_train_copy,\n",
    "    decision_tree_columns,\n",
    ")"
   ]
  },
  {
   "cell_type": "code",
   "execution_count": 133,
   "id": "97825def-a709-45e5-8fa4-60114b8cf867",
   "metadata": {},
   "outputs": [
    {
     "data": {
      "text/plain": [
       "np.float64(0.9453059513830679)"
      ]
     },
     "execution_count": 133,
     "metadata": {},
     "output_type": "execute_result"
    }
   ],
   "source": [
    "accuracy_in_sample"
   ]
  },
  {
   "cell_type": "code",
   "execution_count": 134,
   "id": "ae1a0180-3be8-4b9f-b77a-fb21bb0eee59",
   "metadata": {},
   "outputs": [
    {
     "data": {
      "text/plain": [
       "np.float64(0.9427402165572513)"
      ]
     },
     "execution_count": 134,
     "metadata": {},
     "output_type": "execute_result"
    }
   ],
   "source": [
    "accuracy_out_of_sample"
   ]
  },
  {
   "cell_type": "code",
   "execution_count": 135,
   "id": "a21c90b0-f5ae-461f-9659-30e5185ffaef",
   "metadata": {},
   "outputs": [],
   "source": [
    "data_predict = decision_tree_model_predict(\n",
    "    clf,\n",
    "    data_test_copy,\n",
    "    decision_tree_columns,\n",
    "    decision_tree_columns_with_id,\n",
    ")\n",
    "\n",
    "decision_tree_model_predict_write_to_csv(\n",
    "    data_predict,\n",
    "    f'decision_tree_model_one_hot_2_clean_code_maxdepth_None_minsamplesplit_30_minsamplenode_4_full_training_dataset.csv'\n",
    ")"
   ]
  },
  {
   "cell_type": "code",
   "execution_count": 131,
   "id": "05b9c16a-25d6-4741-94e9-3d942bfadf8c",
   "metadata": {},
   "outputs": [
    {
     "data": {
      "text/plain": [
       "(np.float64(0.9429309863090248), np.float64(0.9386989513172479))"
      ]
     },
     "execution_count": 131,
     "metadata": {},
     "output_type": "execute_result"
    }
   ],
   "source": [
    "(\n",
    "    clf,\n",
    "    feature_importances,\n",
    "    accuracy_in_sample,\n",
    ") = decision_tree_model_train(\n",
    "    data_copy,\n",
    "    decision_tree_columns,\n",
    "    None,\n",
    "    2,\n",
    "    10,\n",
    ")\n",
    "\n",
    "accuracy_out_of_sample = decision_tree_model_test(\n",
    "    clf,\n",
    "    data_train_copy,\n",
    "    decision_tree_columns,\n",
    ")\n",
    "\n",
    "(accuracy_in_sample, accuracy_out_of_sample)"
   ]
  }
 ],
 "metadata": {
  "kernelspec": {
   "display_name": "Python 3 (ipykernel)",
   "language": "python",
   "name": "python3"
  },
  "language_info": {
   "codemirror_mode": {
    "name": "ipython",
    "version": 3
   },
   "file_extension": ".py",
   "mimetype": "text/x-python",
   "name": "python",
   "nbconvert_exporter": "python",
   "pygments_lexer": "ipython3",
   "version": "3.12.7"
  }
 },
 "nbformat": 4,
 "nbformat_minor": 5
}
