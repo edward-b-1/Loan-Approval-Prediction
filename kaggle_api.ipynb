{
 "cells": [
  {
   "cell_type": "code",
   "execution_count": 1,
   "id": "0b052482-6b99-4d48-b6a7-a7219e012fcd",
   "metadata": {},
   "outputs": [],
   "source": [
    "from __future__ import print_function\n",
    "import time\n",
    "import kaggle\n",
    "#from kaggle.rest import ApiException\n",
    "from pprint import pprint\n",
    "import dotenv\n",
    "import os"
   ]
  },
  {
   "cell_type": "code",
   "execution_count": 7,
   "id": "0919c535-be21-4bbe-8a8e-0031a367960a",
   "metadata": {},
   "outputs": [
    {
     "data": {
      "text/plain": [
       "True"
      ]
     },
     "execution_count": 7,
     "metadata": {},
     "output_type": "execute_result"
    }
   ],
   "source": [
    "dotenv.load_dotenv(dotenv_path='Loan-Approval-Prediction/.env')"
   ]
  },
  {
   "cell_type": "code",
   "execution_count": 8,
   "id": "be7816a9-92a3-455e-8e89-ae78e6de13f9",
   "metadata": {},
   "outputs": [
    {
     "data": {
      "text/plain": [
       "'quantpareto'"
      ]
     },
     "execution_count": 8,
     "metadata": {},
     "output_type": "execute_result"
    }
   ],
   "source": [
    "os.environ['KAGGLE_USERNAME']"
   ]
  },
  {
   "cell_type": "code",
   "execution_count": 10,
   "id": "d4f90064-2f26-412f-a2e2-162591158b11",
   "metadata": {},
   "outputs": [
    {
     "ename": "AttributeError",
     "evalue": "module 'kaggle' has no attribute 'ApiClient'",
     "output_type": "error",
     "traceback": [
      "\u001b[31m---------------------------------------------------------------------------\u001b[39m",
      "\u001b[31mAttributeError\u001b[39m                            Traceback (most recent call last)",
      "\u001b[36mCell\u001b[39m\u001b[36m \u001b[39m\u001b[32mIn[10]\u001b[39m\u001b[32m, line 5\u001b[39m\n\u001b[32m      2\u001b[39m configuration.username = os.environ[\u001b[33m'\u001b[39m\u001b[33mKAGGLE_USERNAME\u001b[39m\u001b[33m'\u001b[39m]\n\u001b[32m      3\u001b[39m configuration.password = os.environ[\u001b[33m'\u001b[39m\u001b[33mKAGGLE_API_KEY\u001b[39m\u001b[33m'\u001b[39m]\n\u001b[32m----> \u001b[39m\u001b[32m5\u001b[39m api_instance = kaggle.KaggleApi(\u001b[43mkaggle\u001b[49m\u001b[43m.\u001b[49m\u001b[43mApiClient\u001b[49m(configuration))\n\u001b[32m      6\u001b[39m group = \u001b[33m'\u001b[39m\u001b[33mgeneral\u001b[39m\u001b[33m'\u001b[39m\n\u001b[32m      7\u001b[39m category = \u001b[33m'\u001b[39m\u001b[33mall\u001b[39m\u001b[33m'\u001b[39m\n",
      "\u001b[31mAttributeError\u001b[39m: module 'kaggle' has no attribute 'ApiClient'"
     ]
    }
   ],
   "source": [
    "configuration = kaggle.configuration.Configuration()\n",
    "configuration.username = os.environ['KAGGLE_USERNAME']\n",
    "configuration.password = os.environ['KAGGLE_API_KEY']\n",
    "\n",
    "api_instance = kaggle.KaggleApi(kaggle.ApiClient(configuration))\n",
    "group = 'general'\n",
    "category = 'all'\n",
    "sort_by = 'latestDeadline'\n",
    "page = 1\n",
    "search = ''\n",
    "\n",
    "try:\n",
    "    api_response = api_instance.competitions_list(group=group, category=category, sort_by=sort_by, page=page, search=search)\n",
    "    pprint(api_response)\n",
    "except ApiException as e:\n",
    "    print(\"Exception when calling KaggleApi->competitions_list: %s\\n\" % e)"
   ]
  },
  {
   "cell_type": "code",
   "execution_count": null,
   "id": "463c0e19-c880-4a5b-9aa1-5a03c4d11ffa",
   "metadata": {},
   "outputs": [],
   "source": []
  }
 ],
 "metadata": {
  "kernelspec": {
   "display_name": "Python 3 (ipykernel)",
   "language": "python",
   "name": "python3"
  },
  "language_info": {
   "codemirror_mode": {
    "name": "ipython",
    "version": 3
   },
   "file_extension": ".py",
   "mimetype": "text/x-python",
   "name": "python",
   "nbconvert_exporter": "python",
   "pygments_lexer": "ipython3",
   "version": "3.12.7"
  }
 },
 "nbformat": 4,
 "nbformat_minor": 5
}
