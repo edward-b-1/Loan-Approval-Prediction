{
 "cells": [
  {
   "cell_type": "markdown",
   "id": "7d21def7-2c73-42df-9d61-3e169030ac83",
   "metadata": {},
   "source": [
    "# Random Forest Mode - Best Model Metaparameters"
   ]
  },
  {
   "cell_type": "code",
   "execution_count": 10,
   "id": "9d590c66-6d02-431a-b12c-cb8c20ce4152",
   "metadata": {},
   "outputs": [
    {
     "name": "stdout",
     "output_type": "stream",
     "text": [
      "The autoreload extension is already loaded. To reload it, use:\n",
      "  %reload_ext autoreload\n"
     ]
    }
   ],
   "source": [
    "%load_ext autoreload\n",
    "%autoreload 2"
   ]
  },
  {
   "cell_type": "code",
   "execution_count": 11,
   "id": "bba8a8cf-c6f6-453b-b7bd-5192a56677d5",
   "metadata": {},
   "outputs": [],
   "source": [
    "import math\n",
    "import pandas\n",
    "import numpy\n",
    "import itertools\n",
    "import matplotlib.pyplot as plt\n",
    "import sklearn\n",
    "from sklearn import tree\n",
    "from sklearn import ensemble\n",
    "from sklearn.metrics import log_loss\n",
    "from sklearn.metrics import roc_curve\n",
    "from sklearn.metrics import auc\n",
    "from sklearn.preprocessing import OrdinalEncoder\n",
    "from sklearn.preprocessing import OneHotEncoder\n",
    "from sklearn.naive_bayes import CategoricalNB"
   ]
  },
  {
   "cell_type": "code",
   "execution_count": 12,
   "id": "57d2ebd3-37a8-49a7-be25-65b3187a7155",
   "metadata": {},
   "outputs": [],
   "source": [
    "import loan_approval_lib\n",
    "from loan_approval_lib import logspace, linspace"
   ]
  },
  {
   "cell_type": "code",
   "execution_count": 13,
   "id": "7d2e427b-66ec-4801-8dc7-e932b69964d4",
   "metadata": {},
   "outputs": [],
   "source": [
    "from kaggle_wrapper_lib import kaggle_competition_submit\n",
    "from kaggle_wrapper_lib import kaggle_competition_submissions"
   ]
  },
  {
   "cell_type": "code",
   "execution_count": 14,
   "id": "78eabefe-5007-469c-a630-cbd8146d1b86",
   "metadata": {},
   "outputs": [],
   "source": [
    "from loan_approval_lib.standard_data_processing import data_cleaning_algorithm\n",
    "from loan_approval_lib.standard_data_processing import create_loan_grade_numerical_from_loan_grade\n",
    "from loan_approval_lib.standard_data_processing import create_person_home_ownership_one_hot_encoder\n",
    "from loan_approval_lib.standard_data_processing import create_person_home_ownership_one_hot\n",
    "from loan_approval_lib.standard_data_processing import create_loan_intent_one_hot_encoder\n",
    "from loan_approval_lib.standard_data_processing import create_loan_intent_one_hot\n",
    "from loan_approval_lib.standard_data_processing import map_cb_person_default_on_file\n",
    "from loan_approval_lib.standard_data_processing import create_decision_tree_columns\n",
    "from loan_approval_lib.standard_data_processing import create_decision_tree_columns_with_id\n",
    "from loan_approval_lib.standard_data_processing import create_dataframe_copy_and_drop_columns\n",
    "from loan_approval_lib.standard_data_processing import create_decision_tree_columns\n",
    "from loan_approval_lib.standard_data_processing import create_decision_tree_columns_with_id"
   ]
  },
  {
   "cell_type": "code",
   "execution_count": 15,
   "id": "2ffb71e8-873a-4b4e-9744-4170dd4624f5",
   "metadata": {},
   "outputs": [],
   "source": [
    "data = loan_approval_lib.load_original_data()"
   ]
  },
  {
   "cell_type": "code",
   "execution_count": 16,
   "id": "b394de1b-ff59-43f9-874a-12c0491a209d",
   "metadata": {},
   "outputs": [],
   "source": [
    "data_train = loan_approval_lib.load_data_train()"
   ]
  },
  {
   "cell_type": "code",
   "execution_count": 17,
   "id": "c9ba7a88-7cf4-4d19-bbca-50e8f5f2c967",
   "metadata": {},
   "outputs": [],
   "source": [
    "data_test = loan_approval_lib.load_data_test()"
   ]
  },
  {
   "cell_type": "markdown",
   "id": "546fb937-7e75-4909-9b9a-0fb7177f76ba",
   "metadata": {},
   "source": [
    "# Data Cleaning, Data Preprocessing"
   ]
  },
  {
   "cell_type": "code",
   "execution_count": 18,
   "id": "af4eabf8-eea4-4e95-93f1-25120723c182",
   "metadata": {},
   "outputs": [
    {
     "name": "stdout",
     "output_type": "stream",
     "text": [
      "column person_age, number of removed rows: 5\n",
      "column person_income, number of removed rows: 0\n",
      "column person_emp_length, number of removed rows: 897\n",
      "column loan_amnt, number of removed rows: 0\n",
      "column loan_int_rate, number of removed rows: 3047\n",
      "column loan_percent_income, number of removed rows: 0\n",
      "column cb_person_default_on_file, number of removed rows: 0\n"
     ]
    }
   ],
   "source": [
    "data = data_cleaning_algorithm(data)"
   ]
  },
  {
   "cell_type": "code",
   "execution_count": 19,
   "id": "d18f5180-8725-4883-b075-22c283e8ffed",
   "metadata": {},
   "outputs": [
    {
     "name": "stdout",
     "output_type": "stream",
     "text": [
      "column person_age, number of removed rows: 1\n",
      "column person_income, number of removed rows: 0\n",
      "column person_emp_length, number of removed rows: 2\n",
      "column loan_amnt, number of removed rows: 0\n",
      "column loan_int_rate, number of removed rows: 0\n",
      "column loan_percent_income, number of removed rows: 0\n",
      "column cb_person_default_on_file, number of removed rows: 0\n"
     ]
    }
   ],
   "source": [
    "data_train = data_cleaning_algorithm(data_train)"
   ]
  },
  {
   "cell_type": "code",
   "execution_count": 20,
   "id": "84251b6c-e7a1-4ba2-b2f2-8ff90bfb9e94",
   "metadata": {},
   "outputs": [
    {
     "name": "stdout",
     "output_type": "stream",
     "text": [
      "column person_age, number of removed rows: 0\n",
      "column person_income, number of removed rows: 0\n",
      "column person_emp_length, number of removed rows: 0\n",
      "column loan_amnt, number of removed rows: 0\n",
      "column loan_int_rate, number of removed rows: 0\n",
      "column loan_percent_income, number of removed rows: 0\n",
      "column cb_person_default_on_file, number of removed rows: 0\n"
     ]
    }
   ],
   "source": [
    "data_cleaning_algorithm(data_test)\n",
    "None"
   ]
  },
  {
   "cell_type": "code",
   "execution_count": 21,
   "id": "abc27e23-d662-4d4d-8af8-77c96515a003",
   "metadata": {},
   "outputs": [],
   "source": [
    "# Loan Grade\n",
    "\n",
    "create_loan_grade_numerical_from_loan_grade(data, data_train, data_test)"
   ]
  },
  {
   "cell_type": "code",
   "execution_count": 22,
   "id": "06e29a1f-4ddb-485e-8292-031381fdd45c",
   "metadata": {},
   "outputs": [],
   "source": [
    "# Person Home Ownership\n",
    "\n",
    "encoder = create_person_home_ownership_one_hot_encoder(data)\n",
    "\n",
    "data = create_person_home_ownership_one_hot(encoder, data)\n",
    "data_train = create_person_home_ownership_one_hot(encoder, data_train)\n",
    "data_test = create_person_home_ownership_one_hot(encoder, data_test)"
   ]
  },
  {
   "cell_type": "code",
   "execution_count": 23,
   "id": "fde7e4fc-a599-4482-8b17-572709907447",
   "metadata": {},
   "outputs": [],
   "source": [
    "# Loan Intent\n",
    "\n",
    "encoder = create_loan_intent_one_hot_encoder(data)\n",
    "\n",
    "data = create_loan_intent_one_hot(encoder, data)\n",
    "data_train = create_loan_intent_one_hot(encoder, data_train)\n",
    "data_test = create_loan_intent_one_hot(encoder, data_test)"
   ]
  },
  {
   "cell_type": "code",
   "execution_count": 24,
   "id": "1ca81e1a-1ab4-4e5d-a122-da579f9554de",
   "metadata": {},
   "outputs": [],
   "source": [
    "# Default On File\n",
    "\n",
    "data = map_cb_person_default_on_file(data)\n",
    "data_train = map_cb_person_default_on_file(data_train)\n",
    "data_test = map_cb_person_default_on_file(data_test)"
   ]
  },
  {
   "cell_type": "markdown",
   "id": "0b6c571c-fb63-4152-b5ba-3152f67c68ed",
   "metadata": {},
   "source": [
    "# Choose Columns for Tree Model, Copy DataFrame and Drop Unused Columns"
   ]
  },
  {
   "cell_type": "code",
   "execution_count": 25,
   "id": "0cd5d90d-5b63-405b-833b-2c9a3a11bf5d",
   "metadata": {},
   "outputs": [],
   "source": [
    "decision_tree_columns = create_decision_tree_columns()\n",
    "decision_tree_columns_with_id = create_decision_tree_columns_with_id()"
   ]
  },
  {
   "cell_type": "code",
   "execution_count": 26,
   "id": "c8774565-aba2-4d08-91b9-a5649500cbbe",
   "metadata": {},
   "outputs": [
    {
     "data": {
      "text/plain": [
       "19"
      ]
     },
     "execution_count": 26,
     "metadata": {},
     "output_type": "execute_result"
    }
   ],
   "source": [
    "MAX_FEATURES = len(decision_tree_columns)\n",
    "MAX_FEATURES"
   ]
  },
  {
   "cell_type": "code",
   "execution_count": 27,
   "id": "4830f661-a6be-4682-9dad-e0b49c9f82ee",
   "metadata": {},
   "outputs": [],
   "source": [
    "data_copy = create_dataframe_copy_and_drop_columns(data)\n",
    "data_train_copy = create_dataframe_copy_and_drop_columns(data_train)\n",
    "data_test_copy = create_dataframe_copy_and_drop_columns(data_test)"
   ]
  },
  {
   "cell_type": "markdown",
   "id": "0bed2c57-2497-4e50-a8fe-855999dc56dd",
   "metadata": {},
   "source": [
    "# Random Forest Model"
   ]
  },
  {
   "cell_type": "code",
   "execution_count": 28,
   "id": "74403f33-396a-46cd-99ce-bd48362119cd",
   "metadata": {},
   "outputs": [],
   "source": [
    "def random_forest_model_train(\n",
    "    data_train,\n",
    "    decision_tree_columns,\n",
    "    n_estimators,\n",
    "    max_features,\n",
    "    max_depth,\n",
    "    min_samples_split,\n",
    "    min_samples_leaf,\n",
    "    max_leaf_nodes,\n",
    "    bootstrap,\n",
    "    n_jobs,\n",
    "):\n",
    "\n",
    "    X = data_train[decision_tree_columns].copy()\n",
    "    Y = data_train['loan_status'].copy()\n",
    "    \n",
    "    clf = ensemble.RandomForestClassifier(\n",
    "        n_estimators=n_estimators,\n",
    "        criterion='entropy',\n",
    "        max_depth=max_depth,\n",
    "        min_samples_split=min_samples_split,\n",
    "        min_samples_leaf=min_samples_leaf,\n",
    "        max_features=max_features,\n",
    "        max_leaf_nodes=max_leaf_nodes,\n",
    "        bootstrap=bootstrap,\n",
    "        oob_score=True,\n",
    "        n_jobs=n_jobs,\n",
    "        \n",
    "    )\n",
    "    clf.fit(X, Y)\n",
    "    \n",
    "    Z = clf.predict(X)\n",
    "    X['loan_status_predict'] = Z\n",
    "    X['loan_status'] = data_train['loan_status']\n",
    "    accuracy_in_sample = (X['loan_status'] == X['loan_status_predict']).sum() / len(X)\n",
    "    \n",
    "    return (clf, accuracy_in_sample)"
   ]
  },
  {
   "cell_type": "code",
   "execution_count": 29,
   "id": "44713053-3211-451e-81f3-9d6895a79d0a",
   "metadata": {},
   "outputs": [],
   "source": [
    "def random_forest_model_test(\n",
    "    clf,\n",
    "    data_test,\n",
    "    decision_tree_columns,\n",
    "):\n",
    "\n",
    "    X_test = data_test[decision_tree_columns].copy()\n",
    "\n",
    "    Z_test = clf.predict(X_test)\n",
    "    X_test['loan_status_predict'] = Z_test\n",
    "    X_test['loan_status'] = data_test['loan_status']\n",
    "    accuracy_out_of_sample = (X_test['loan_status'] == X_test['loan_status_predict']).sum() / len(X_test)\n",
    "    \n",
    "    return accuracy_out_of_sample"
   ]
  },
  {
   "cell_type": "code",
   "execution_count": 30,
   "id": "b263e361-4cd2-41d8-994a-999d8b1434a4",
   "metadata": {},
   "outputs": [],
   "source": [
    "def decision_tree_model_predict_proba(\n",
    "    clf,\n",
    "    data_test,\n",
    "    decision_tree_columns,\n",
    "):\n",
    "\n",
    "    X_test = data_test[decision_tree_columns].copy()\n",
    "\n",
    "    Z_test = clf.predict_proba(X_test)[:, 1]\n",
    "\n",
    "    return Z_test"
   ]
  },
  {
   "cell_type": "code",
   "execution_count": 84,
   "id": "f4df49f6-1888-472e-a5ba-05f9aefc5d07",
   "metadata": {},
   "outputs": [],
   "source": [
    "def decision_tree_model_test_AUC_tpr_fpr(\n",
    "    clf,\n",
    "    data_test,\n",
    "    decision_tree_columns,\n",
    "):\n",
    "    \n",
    "    # create threshold array\n",
    "    # this code creates `threshold_array`, and it is sorted in ascending order\n",
    "    \n",
    "    #data_predict = decision_tree_model_predict(\n",
    "    #    clf,\n",
    "    #    data_test,\n",
    "    #    decision_tree_columns,\n",
    "    #    decision_tree_columns_with_id,\n",
    "    #)\n",
    "    \n",
    "    #threshold_array = numpy.concatenate(\n",
    "    #    (\n",
    "    #        numpy.array([-numpy.inf]),\n",
    "    #        numpy.unique(data_predict['loan_status']),\n",
    "    #        numpy.array([1.1]),\n",
    "    #    )\n",
    "    #)\n",
    "\n",
    "    # use threshold array to calculate TPR and FPR\n",
    "    #count = len(threshold_array)\n",
    "\n",
    "    #tpr_array = numpy.zeros(shape=(count,), dtype=float)\n",
    "    #fpr_array = numpy.zeros(shape=(count,), dtype=float)\n",
    "    \n",
    "    #for i, threshold in enumerate(threshold_array):\n",
    "    #    (tpr, fpr) = decision_tree_model_test_TPR_FPR(\n",
    "    #        clf,\n",
    "    #        data_test,\n",
    "    #        decision_tree_columns,\n",
    "    #        threshold,\n",
    "    #    )\n",
    "    \n",
    "    #    threshold_array[i] = threshold\n",
    "    #    tpr_array[i] = tpr\n",
    "    #    fpr_array[i] = fpr\n",
    "    \n",
    "    #sort_index = numpy.argsort(fpr_array)\n",
    "    #tpr_array = tpr_array[sort_index]\n",
    "    #fpr_array = fpr_array[sort_index]\n",
    "    #threshold_array = threshold_array[sort_index]\n",
    "\n",
    "    # calculate threshold array, TPR and FPR\n",
    "    (roc_curve_fpr, roc_curve_tpr, roc_curve_threshold) = roc_curve(\n",
    "        data_test['loan_status'],\n",
    "        decision_tree_model_predict_proba(clf, data_test, decision_tree_columns),\n",
    "    )\n",
    "    # may not include the -inf and +inf bounds?\n",
    "\n",
    "    # use TPR and FPR to calculate AUC\n",
    "    #roc_auc = auc(fpr_array, tpr_array)\n",
    "    roc_auc = auc(roc_curve_fpr, roc_curve_tpr)\n",
    "    \n",
    "    return (roc_auc, roc_curve_tpr, roc_curve_fpr)"
   ]
  },
  {
   "cell_type": "code",
   "execution_count": 32,
   "id": "a8368aaf-bd44-4271-aa5b-4497c4c6707d",
   "metadata": {},
   "outputs": [],
   "source": [
    "def random_forest_model_predict(\n",
    "    clf,\n",
    "    data_predict,\n",
    "    decision_tree_columns,\n",
    "    decision_tree_columns_with_id,\n",
    "):\n",
    "    \n",
    "    X_predict = data_predict[decision_tree_columns_with_id].copy()\n",
    "\n",
    "    Z_predict = clf.predict_proba(X_predict[decision_tree_columns])\n",
    "    X_predict['loan_status'] = Z_predict[:, 1]\n",
    "\n",
    "    return X_predict"
   ]
  },
  {
   "cell_type": "code",
   "execution_count": 33,
   "id": "17e1fee9-c0e7-4205-9860-80ce08ec4d63",
   "metadata": {},
   "outputs": [],
   "source": [
    "def random_forest_model_predict_write_to_csv(\n",
    "    data_predict,\n",
    "    filename,\n",
    "):\n",
    "    data_predict[['id', 'loan_status']].to_csv(filename, index=False)"
   ]
  },
  {
   "cell_type": "markdown",
   "id": "c8de080c-887d-4d4c-9bfd-80948042cb42",
   "metadata": {},
   "source": [
    "# Optimize Choice of Dataset"
   ]
  },
  {
   "cell_type": "code",
   "execution_count": 34,
   "id": "f8f5d546-3971-4eee-a2e2-29ec3115892d",
   "metadata": {},
   "outputs": [
    {
     "data": {
      "text/plain": [
       "(28632, 58642, 39098)"
      ]
     },
     "execution_count": 34,
     "metadata": {},
     "output_type": "execute_result"
    }
   ],
   "source": [
    "len(data_copy), len(data_train_copy), len(data_test_copy)"
   ]
  },
  {
   "cell_type": "code",
   "execution_count": 35,
   "id": "e362f042-ac8e-4616-808e-28f6a4528869",
   "metadata": {},
   "outputs": [
    {
     "data": {
      "text/plain": [
       "(True, True, False)"
      ]
     },
     "execution_count": 35,
     "metadata": {},
     "output_type": "execute_result"
    }
   ],
   "source": [
    "'loan_status' in data_copy.columns, 'loan_status' in data_train_copy.columns, 'loan_status' in data_test_copy"
   ]
  },
  {
   "cell_type": "code",
   "execution_count": 36,
   "id": "a76f8bbb-bcf8-4d8c-bc0f-b06c78f4c418",
   "metadata": {},
   "outputs": [
    {
     "data": {
      "text/plain": [
       "87274"
      ]
     },
     "execution_count": 36,
     "metadata": {},
     "output_type": "execute_result"
    }
   ],
   "source": [
    "28632 + 58642"
   ]
  },
  {
   "cell_type": "code",
   "execution_count": 37,
   "id": "840177d7-e18c-4d3c-a99c-deac93392e5c",
   "metadata": {},
   "outputs": [],
   "source": [
    "all_training_data = pandas.concat(\n",
    "    [data_copy, data_train_copy],\n",
    "    axis=0,\n",
    ")\n",
    "all_training_data.reset_index(inplace=True, drop=True)"
   ]
  },
  {
   "cell_type": "code",
   "execution_count": 38,
   "id": "9743b80d-d949-48c0-b2d6-4ef427077066",
   "metadata": {},
   "outputs": [],
   "source": [
    "permutation = numpy.random.permutation(all_training_data.index)"
   ]
  },
  {
   "cell_type": "code",
   "execution_count": 39,
   "id": "677b2117-8d97-40df-b12c-088e35792d28",
   "metadata": {},
   "outputs": [
    {
     "data": {
      "text/plain": [
       "87274"
      ]
     },
     "execution_count": 39,
     "metadata": {},
     "output_type": "execute_result"
    }
   ],
   "source": [
    "n_samples = len(all_training_data)\n",
    "n_samples"
   ]
  },
  {
   "cell_type": "code",
   "execution_count": 40,
   "id": "6ca61251-e0e8-48d8-aa3f-aa7d5bc64333",
   "metadata": {},
   "outputs": [],
   "source": [
    "k = 100"
   ]
  },
  {
   "cell_type": "code",
   "execution_count": 41,
   "id": "70ff43e0-9749-44dc-9561-0232f009a8c3",
   "metadata": {},
   "outputs": [],
   "source": [
    "fold_sizes = numpy.full(k, n_samples // k, dtype=int)"
   ]
  },
  {
   "cell_type": "code",
   "execution_count": 42,
   "id": "1530a7a2-b79e-4657-b819-94f11a0995b2",
   "metadata": {},
   "outputs": [],
   "source": [
    "fold_sizes[:n_samples % k] += 1"
   ]
  },
  {
   "cell_type": "code",
   "execution_count": 43,
   "id": "e3661188-7a7a-44e5-a394-752ad02b394a",
   "metadata": {},
   "outputs": [],
   "source": [
    "index = 0\n",
    "folds = []\n",
    "for fold_size in fold_sizes:\n",
    "    start = index\n",
    "    stop = index + fold_size\n",
    "    folds.append(permutation[start:stop])\n",
    "    index = stop"
   ]
  },
  {
   "cell_type": "code",
   "execution_count": 44,
   "id": "e1671e02-6f42-417e-91d5-5a99cac18b38",
   "metadata": {},
   "outputs": [],
   "source": [
    "def kaggle_competition_submit_and_get_public_private_score_sync(filename, message):\n",
    "    \n",
    "    _ = kaggle_competition_submit(\n",
    "        filename,\n",
    "        message_tag\n",
    "    )\n",
    "\n",
    "    # TODO: Can make this faster with async logic\n",
    "    while True:\n",
    "        submissions = kaggle_competition_submissions()\n",
    "        filtered_submissions = submissions[submissions['description'] == message_tag]\n",
    "        assert len(filtered_submissions) == 1, f'invalid number of filtered submissions {len(filtered_submissions)}'\n",
    "        status = filtered_submissions['status'][0]\n",
    "        if status == 'SubmissionStatus.COMPLETE':\n",
    "            break\n",
    "        elif status == 'SubmissionStatus.PENDING':\n",
    "            pass\n",
    "        else:\n",
    "            print(f'status={status}')\n",
    "\n",
    "    public_score = filtered_submissions['publicScore'][0]\n",
    "    private_score = filtered_submissions['privateScore'][0]\n",
    "\n",
    "    return (public_score, private_score)"
   ]
  },
  {
   "cell_type": "code",
   "execution_count": 45,
   "id": "2c4ffa8e-5952-457c-b36a-9bd0431e9cbe",
   "metadata": {},
   "outputs": [
    {
     "data": {
      "text/plain": [
       "19"
      ]
     },
     "execution_count": 45,
     "metadata": {},
     "output_type": "execute_result"
    }
   ],
   "source": [
    "MAX_FEATURES"
   ]
  },
  {
   "cell_type": "code",
   "execution_count": 105,
   "id": "a5dd9de9-da33-46b5-bba5-64f9cfecabb6",
   "metadata": {},
   "outputs": [],
   "source": [
    "n_estimators = 100\n",
    "max_features = 11 #10 #None #5 # maximized at 11?\n",
    "max_depth = 18 #None #10 # best appears to be about 18\n",
    "min_samples_split = 10 #2. similar to below, looks good at 10\n",
    "min_samples_leaf = 10 #1. set to 10, AUC maximized for 1, but in sample shows good performance for 10\n",
    "max_leaf_nodes = None # leave this on none, AUC maximized by None"
   ]
  },
  {
   "cell_type": "code",
   "execution_count": 106,
   "id": "04441290-ea29-4503-8817-722ab01166d0",
   "metadata": {},
   "outputs": [],
   "source": [
    "n_cpu = 16\n",
    "\n",
    "#filename = 'random_forest_3_best_model-estimators_100.csv'\n",
    "filename = 'random_forest_3_best_model-estimators_100-max_features_11-max_depth_18-min_samples_split_10-min_samples_leaf_10.csv'"
   ]
  },
  {
   "cell_type": "code",
   "execution_count": 107,
   "id": "9e0acb2a-be5f-4fb5-b746-2c2645519a7f",
   "metadata": {},
   "outputs": [],
   "source": [
    "n_estimators_list = []\n",
    "max_features_list = []\n",
    "max_depth_list = []\n",
    "min_samples_split_list = []\n",
    "min_samples_leaf_list = []\n",
    "max_leaf_nodes_list = []\n",
    "fold_list = []\n",
    "accuracy_in_sample_list = []\n",
    "accuracy_out_of_sample_list = []\n",
    "oob_score_list = []\n",
    "auc_list = []\n",
    "tpr_list = []\n",
    "fpr_list = []\n",
    "public_score_list = []\n",
    "private_score_list = []\n",
    "\n",
    "df = None\n",
    "\n",
    "for i in range(k):\n",
    "    \n",
    "    test_index = folds[i]\n",
    "    train_index = numpy.concatenate([folds[j] for j in range(k) if j != i])\n",
    "\n",
    "    training_data = all_training_data.loc[train_index]\n",
    "    test_data = all_training_data.loc[test_index]\n",
    "    \n",
    "    (\n",
    "        clf,\n",
    "        accuracy_in_sample,\n",
    "    ) = random_forest_model_train(\n",
    "        training_data,\n",
    "        decision_tree_columns,\n",
    "        n_estimators=n_estimators,\n",
    "        max_features=max_features,\n",
    "        max_depth=max_depth,\n",
    "        min_samples_split=min_samples_split,\n",
    "        min_samples_leaf=min_samples_leaf,\n",
    "        max_leaf_nodes=max_leaf_nodes,\n",
    "        bootstrap=True,\n",
    "        n_jobs=n_cpu,\n",
    "    )\n",
    "\n",
    "    oob_score_ = clf.oob_score_\n",
    "\n",
    "    accuracy_out_of_sample = random_forest_model_test(\n",
    "        clf,\n",
    "        test_data,\n",
    "        decision_tree_columns,\n",
    "    )\n",
    "\n",
    "    (auc_, tpr, fpr) = decision_tree_model_test_AUC_tpr_fpr(\n",
    "        clf,\n",
    "        test_data,\n",
    "        decision_tree_columns,\n",
    "    )\n",
    "\n",
    "    public_score = numpy.nan\n",
    "    private_score = numpy.nan\n",
    "    \n",
    "    n_estimators_list.append(float(n_estimators))\n",
    "    max_features_list.append(float(max_features) if max_features is not None else numpy.nan)\n",
    "    max_depth_list.append(float(max_depth) if max_depth is not None else numpy.nan)\n",
    "    min_samples_split_list.append(float(min_samples_split))\n",
    "    min_samples_leaf_list.append(float(min_samples_leaf))\n",
    "    max_leaf_nodes_list.append(float(max_leaf_nodes) if max_leaf_nodes is not None else numpy.nan)\n",
    "    fold_list.append(i)\n",
    "    accuracy_in_sample_list.append(accuracy_in_sample)\n",
    "    accuracy_out_of_sample_list.append(accuracy_out_of_sample)\n",
    "    oob_score_list.append(oob_score_)\n",
    "    auc_list.append(auc_)\n",
    "    tpr_list.append(tpr)\n",
    "    fpr_list.append(fpr)\n",
    "    public_score_list.append(public_score)\n",
    "    private_score_list.append(private_score)\n",
    "\n",
    "    data_predict = random_forest_model_predict(\n",
    "        clf,\n",
    "        data_test_copy,\n",
    "        decision_tree_columns,\n",
    "        decision_tree_columns_with_id,\n",
    "    )\n",
    "    \n",
    "    df = pandas.DataFrame(\n",
    "        {\n",
    "            'estimators': n_estimators_list,\n",
    "            'max_features': max_features_list,\n",
    "            'max_depth': max_depth_list,\n",
    "            'min_samples_split': min_samples_split_list,\n",
    "            'min_samples_leaf': min_samples_leaf_list,\n",
    "            'max_leaf_nodes': max_leaf_nodes_list,\n",
    "            'fold': fold_list,\n",
    "            'accuracy_in_sample': accuracy_in_sample_list,\n",
    "            'accuracy_out_of_sample': accuracy_out_of_sample_list,\n",
    "            'oob_score': oob_score_list,\n",
    "            'auc': auc_list,\n",
    "            'public_score': public_score_list,\n",
    "            'private_score': private_score_list,\n",
    "        }\n",
    "    )\n",
    "    df.to_csv(filename, index=True)"
   ]
  },
  {
   "cell_type": "code",
   "execution_count": 108,
   "id": "cb37dd4c-db47-47df-9a25-f9fb453da7bf",
   "metadata": {},
   "outputs": [
    {
     "data": {
      "text/html": [
       "<div>\n",
       "<style scoped>\n",
       "    .dataframe tbody tr th:only-of-type {\n",
       "        vertical-align: middle;\n",
       "    }\n",
       "\n",
       "    .dataframe tbody tr th {\n",
       "        vertical-align: top;\n",
       "    }\n",
       "\n",
       "    .dataframe thead th {\n",
       "        text-align: right;\n",
       "    }\n",
       "</style>\n",
       "<table border=\"1\" class=\"dataframe\">\n",
       "  <thead>\n",
       "    <tr style=\"text-align: right;\">\n",
       "      <th></th>\n",
       "      <th>estimators</th>\n",
       "      <th>max_features</th>\n",
       "      <th>max_depth</th>\n",
       "      <th>min_samples_split</th>\n",
       "      <th>min_samples_leaf</th>\n",
       "      <th>max_leaf_nodes</th>\n",
       "      <th>fold</th>\n",
       "      <th>accuracy_in_sample</th>\n",
       "      <th>accuracy_out_of_sample</th>\n",
       "      <th>oob_score</th>\n",
       "      <th>auc</th>\n",
       "      <th>public_score</th>\n",
       "      <th>private_score</th>\n",
       "    </tr>\n",
       "  </thead>\n",
       "  <tbody>\n",
       "    <tr>\n",
       "      <th>0</th>\n",
       "      <td>100.0</td>\n",
       "      <td>11.0</td>\n",
       "      <td>18.0</td>\n",
       "      <td>10.0</td>\n",
       "      <td>10.0</td>\n",
       "      <td>NaN</td>\n",
       "      <td>0</td>\n",
       "      <td>0.949040</td>\n",
       "      <td>0.958763</td>\n",
       "      <td>0.946204</td>\n",
       "      <td>0.968010</td>\n",
       "      <td>NaN</td>\n",
       "      <td>NaN</td>\n",
       "    </tr>\n",
       "    <tr>\n",
       "      <th>1</th>\n",
       "      <td>100.0</td>\n",
       "      <td>11.0</td>\n",
       "      <td>18.0</td>\n",
       "      <td>10.0</td>\n",
       "      <td>10.0</td>\n",
       "      <td>NaN</td>\n",
       "      <td>1</td>\n",
       "      <td>0.948762</td>\n",
       "      <td>0.936999</td>\n",
       "      <td>0.946285</td>\n",
       "      <td>0.955963</td>\n",
       "      <td>NaN</td>\n",
       "      <td>NaN</td>\n",
       "    </tr>\n",
       "    <tr>\n",
       "      <th>2</th>\n",
       "      <td>100.0</td>\n",
       "      <td>11.0</td>\n",
       "      <td>18.0</td>\n",
       "      <td>10.0</td>\n",
       "      <td>10.0</td>\n",
       "      <td>NaN</td>\n",
       "      <td>2</td>\n",
       "      <td>0.948681</td>\n",
       "      <td>0.954181</td>\n",
       "      <td>0.946054</td>\n",
       "      <td>0.957854</td>\n",
       "      <td>NaN</td>\n",
       "      <td>NaN</td>\n",
       "    </tr>\n",
       "    <tr>\n",
       "      <th>3</th>\n",
       "      <td>100.0</td>\n",
       "      <td>11.0</td>\n",
       "      <td>18.0</td>\n",
       "      <td>10.0</td>\n",
       "      <td>10.0</td>\n",
       "      <td>NaN</td>\n",
       "      <td>3</td>\n",
       "      <td>0.949260</td>\n",
       "      <td>0.927835</td>\n",
       "      <td>0.946424</td>\n",
       "      <td>0.946213</td>\n",
       "      <td>NaN</td>\n",
       "      <td>NaN</td>\n",
       "    </tr>\n",
       "    <tr>\n",
       "      <th>4</th>\n",
       "      <td>100.0</td>\n",
       "      <td>11.0</td>\n",
       "      <td>18.0</td>\n",
       "      <td>10.0</td>\n",
       "      <td>10.0</td>\n",
       "      <td>NaN</td>\n",
       "      <td>4</td>\n",
       "      <td>0.949156</td>\n",
       "      <td>0.946163</td>\n",
       "      <td>0.945996</td>\n",
       "      <td>0.959990</td>\n",
       "      <td>NaN</td>\n",
       "      <td>NaN</td>\n",
       "    </tr>\n",
       "    <tr>\n",
       "      <th>...</th>\n",
       "      <td>...</td>\n",
       "      <td>...</td>\n",
       "      <td>...</td>\n",
       "      <td>...</td>\n",
       "      <td>...</td>\n",
       "      <td>...</td>\n",
       "      <td>...</td>\n",
       "      <td>...</td>\n",
       "      <td>...</td>\n",
       "      <td>...</td>\n",
       "      <td>...</td>\n",
       "      <td>...</td>\n",
       "      <td>...</td>\n",
       "    </tr>\n",
       "    <tr>\n",
       "      <th>95</th>\n",
       "      <td>100.0</td>\n",
       "      <td>11.0</td>\n",
       "      <td>18.0</td>\n",
       "      <td>10.0</td>\n",
       "      <td>10.0</td>\n",
       "      <td>NaN</td>\n",
       "      <td>95</td>\n",
       "      <td>0.948890</td>\n",
       "      <td>0.940367</td>\n",
       "      <td>0.946089</td>\n",
       "      <td>0.935655</td>\n",
       "      <td>NaN</td>\n",
       "      <td>NaN</td>\n",
       "    </tr>\n",
       "    <tr>\n",
       "      <th>96</th>\n",
       "      <td>100.0</td>\n",
       "      <td>11.0</td>\n",
       "      <td>18.0</td>\n",
       "      <td>10.0</td>\n",
       "      <td>10.0</td>\n",
       "      <td>NaN</td>\n",
       "      <td>96</td>\n",
       "      <td>0.949145</td>\n",
       "      <td>0.927752</td>\n",
       "      <td>0.946182</td>\n",
       "      <td>0.940212</td>\n",
       "      <td>NaN</td>\n",
       "      <td>NaN</td>\n",
       "    </tr>\n",
       "    <tr>\n",
       "      <th>97</th>\n",
       "      <td>100.0</td>\n",
       "      <td>11.0</td>\n",
       "      <td>18.0</td>\n",
       "      <td>10.0</td>\n",
       "      <td>10.0</td>\n",
       "      <td>NaN</td>\n",
       "      <td>97</td>\n",
       "      <td>0.948936</td>\n",
       "      <td>0.946101</td>\n",
       "      <td>0.946136</td>\n",
       "      <td>0.939078</td>\n",
       "      <td>NaN</td>\n",
       "      <td>NaN</td>\n",
       "    </tr>\n",
       "    <tr>\n",
       "      <th>98</th>\n",
       "      <td>100.0</td>\n",
       "      <td>11.0</td>\n",
       "      <td>18.0</td>\n",
       "      <td>10.0</td>\n",
       "      <td>10.0</td>\n",
       "      <td>NaN</td>\n",
       "      <td>98</td>\n",
       "      <td>0.949087</td>\n",
       "      <td>0.955275</td>\n",
       "      <td>0.946112</td>\n",
       "      <td>0.953025</td>\n",
       "      <td>NaN</td>\n",
       "      <td>NaN</td>\n",
       "    </tr>\n",
       "    <tr>\n",
       "      <th>99</th>\n",
       "      <td>100.0</td>\n",
       "      <td>11.0</td>\n",
       "      <td>18.0</td>\n",
       "      <td>10.0</td>\n",
       "      <td>10.0</td>\n",
       "      <td>NaN</td>\n",
       "      <td>99</td>\n",
       "      <td>0.949191</td>\n",
       "      <td>0.943807</td>\n",
       "      <td>0.946159</td>\n",
       "      <td>0.948158</td>\n",
       "      <td>NaN</td>\n",
       "      <td>NaN</td>\n",
       "    </tr>\n",
       "  </tbody>\n",
       "</table>\n",
       "<p>100 rows × 13 columns</p>\n",
       "</div>"
      ],
      "text/plain": [
       "    estimators  max_features  max_depth  min_samples_split  min_samples_leaf  \\\n",
       "0        100.0          11.0       18.0               10.0              10.0   \n",
       "1        100.0          11.0       18.0               10.0              10.0   \n",
       "2        100.0          11.0       18.0               10.0              10.0   \n",
       "3        100.0          11.0       18.0               10.0              10.0   \n",
       "4        100.0          11.0       18.0               10.0              10.0   \n",
       "..         ...           ...        ...                ...               ...   \n",
       "95       100.0          11.0       18.0               10.0              10.0   \n",
       "96       100.0          11.0       18.0               10.0              10.0   \n",
       "97       100.0          11.0       18.0               10.0              10.0   \n",
       "98       100.0          11.0       18.0               10.0              10.0   \n",
       "99       100.0          11.0       18.0               10.0              10.0   \n",
       "\n",
       "    max_leaf_nodes  fold  accuracy_in_sample  accuracy_out_of_sample  \\\n",
       "0              NaN     0            0.949040                0.958763   \n",
       "1              NaN     1            0.948762                0.936999   \n",
       "2              NaN     2            0.948681                0.954181   \n",
       "3              NaN     3            0.949260                0.927835   \n",
       "4              NaN     4            0.949156                0.946163   \n",
       "..             ...   ...                 ...                     ...   \n",
       "95             NaN    95            0.948890                0.940367   \n",
       "96             NaN    96            0.949145                0.927752   \n",
       "97             NaN    97            0.948936                0.946101   \n",
       "98             NaN    98            0.949087                0.955275   \n",
       "99             NaN    99            0.949191                0.943807   \n",
       "\n",
       "    oob_score       auc  public_score  private_score  \n",
       "0    0.946204  0.968010           NaN            NaN  \n",
       "1    0.946285  0.955963           NaN            NaN  \n",
       "2    0.946054  0.957854           NaN            NaN  \n",
       "3    0.946424  0.946213           NaN            NaN  \n",
       "4    0.945996  0.959990           NaN            NaN  \n",
       "..        ...       ...           ...            ...  \n",
       "95   0.946089  0.935655           NaN            NaN  \n",
       "96   0.946182  0.940212           NaN            NaN  \n",
       "97   0.946136  0.939078           NaN            NaN  \n",
       "98   0.946112  0.953025           NaN            NaN  \n",
       "99   0.946159  0.948158           NaN            NaN  \n",
       "\n",
       "[100 rows x 13 columns]"
      ]
     },
     "execution_count": 108,
     "metadata": {},
     "output_type": "execute_result"
    }
   ],
   "source": [
    "df"
   ]
  },
  {
   "cell_type": "code",
   "execution_count": 51,
   "id": "074cb861-0414-4842-8c32-a772810b1320",
   "metadata": {},
   "outputs": [],
   "source": [
    "df = pandas.read_csv(filename, index_col=0)"
   ]
  },
  {
   "cell_type": "markdown",
   "id": "6c7f1261-8089-4163-b140-2ebbdc0f2ea5",
   "metadata": {},
   "source": [
    "# Plot Results"
   ]
  },
  {
   "cell_type": "code",
   "execution_count": 119,
   "id": "dc96ecf8-bcf4-402a-abeb-25029e9c4d82",
   "metadata": {},
   "outputs": [
    {
     "data": {
      "image/png": "[encoded data removed]",
      "text/plain": [
       "<Figure size 640x480 with 1 Axes>"
      ]
     },
     "metadata": {},
     "output_type": "display_data"
    }
   ],
   "source": [
    "plt.figure()\n",
    "\n",
    "auc_median_exact = numpy.median(auc_list)\n",
    "auc_min = numpy.min(auc_list)\n",
    "auc_max = numpy.max(auc_list)\n",
    "\n",
    "index_median = numpy.argsort(auc_list)[len(auc_list)//2]\n",
    "index_min = numpy.argsort(auc_list)[0]\n",
    "index_max = numpy.argsort(auc_list)[-1]\n",
    "\n",
    "#auc_median = # not required\n",
    "\n",
    "tpr_min = tpr_list[index_min]\n",
    "tpr_max = tpr_list[index_max]\n",
    "fpr_min = fpr_list[index_min]\n",
    "fpr_max = fpr_list[index_max]\n",
    "tpr_median = tpr_list[index_median]\n",
    "fpr_median = fpr_list[index_median]\n",
    "\n",
    "for iteration in range(len(auc_list)):\n",
    "    auc_ = auc_list[iteration]\n",
    "    fpr_ = fpr_list[iteration]\n",
    "    tpr_ = tpr_list[iteration]\n",
    "\n",
    "    if iteration == index_min:\n",
    "        continue\n",
    "    if iteration == index_max:\n",
    "        continue\n",
    "    if iteration == index_median:\n",
    "        continue\n",
    "\n",
    "    plt.step(fpr_, tpr_, where='post', linewidth=1, linestyle='solid',\n",
    "         label=f'{iteration} (AUC={auc_:.2f})',\n",
    "         color='grey',\n",
    "         alpha=0.1)\n",
    "\n",
    "# max, red\n",
    "plt.step(fpr_max, tpr_max, where='post', linewidth=1, linestyle='solid',\n",
    "         label=f'{iteration} (AUC={auc_max:.2f})',\n",
    "         color='tab:red',\n",
    "         alpha=1.0)\n",
    "\n",
    "# min, blue\n",
    "plt.step(fpr_min, tpr_min, where='post', linewidth=1, linestyle='solid',\n",
    "         label=f'{iteration} (AUC={auc_min:.2f})',\n",
    "         color='tab:blue',\n",
    "         alpha=1.0)\n",
    "\n",
    "# median, black\n",
    "plt.step(fpr_median, tpr_median, where='post', linewidth=1, linestyle='solid',\n",
    "         label=f'{iteration} (AUC={auc_median_exact:.2f})',\n",
    "         color='black',\n",
    "         alpha=1.0)\n",
    "\n",
    "plt.plot([0.0, 1.0], [0.0, 1.0], color='grey', linewidth=1)\n",
    "\n",
    "plt.xlabel('false positive rate')\n",
    "plt.ylabel('true positive rate')\n",
    "\n",
    "plt.xlim(0.0, 1.0)\n",
    "plt.ylim(0.0, 1.0)\n",
    "\n",
    "# AUC min\n",
    "plt.text(\n",
    "    0.10,\n",
    "    0.60,\n",
    "    f'min AUC = {auc_min:.2f}',\n",
    "    transform=plt.gca().transAxes,\n",
    "    fontsize=12,\n",
    "    verticalalignment='top',\n",
    "    color='tab:blue',\n",
    ")\n",
    "\n",
    "# AUC max\n",
    "plt.text(\n",
    "    0.10,\n",
    "    0.70,\n",
    "    f'max AUC = {auc_max:.2f}',\n",
    "    transform=plt.gca().transAxes,\n",
    "    fontsize=12,\n",
    "    verticalalignment='top',\n",
    "    color='tab:red',\n",
    ")\n",
    "\n",
    "# N = 100\n",
    "plt.text(\n",
    "    0.82,\n",
    "    0.10,\n",
    "    f'N = 100',\n",
    "    transform=plt.gca().transAxes,\n",
    "    fontsize=12,\n",
    "    verticalalignment='top',\n",
    ")\n",
    "\n",
    "# AUC median\n",
    "plt.text(\n",
    "    0.55,\n",
    "    0.93,\n",
    "    f'median AUC = {auc_median_exact:.2f}',\n",
    "    transform=plt.gca().transAxes,\n",
    "    fontsize=12,\n",
    "    verticalalignment='top',\n",
    ")\n",
    "\n",
    "#plt.savefig('random_forest_3_best_model-ROC-k-fold-all-estimators_100.png')\n",
    "#plt.savefig('random_forest_3_best_model-ROC-k-fold-all-estimators_100.pdf')\n",
    "\n",
    "#plt.savefig('random_forest_3_best_model-ROC-k-fold-all-estimators_100-max_features_10.png')\n",
    "#plt.savefig('random_forest_3_best_model-ROC-k-fold-all-estimators_100-max_features_10.pdf')\n",
    "\n",
    "#plt.savefig('random_forest_3_best_model-ROC-k-fold-all-max_features_5-max_depth_10.png')\n",
    "#plt.savefig('random_forest_3_best_model-ROC-k-fold-all-max_features_5-max_depth_10.pdf')\n",
    "\n",
    "plt.savefig('random_forest_3_best_model-ROC-k-fold-all-estimators_100-max_features_11-max_depth_18-min_samples_split_10-min_samples_leaf_10.png')\n",
    "plt.savefig('random_forest_3_best_model-ROC-k-fold-all-estimators_100-max_features_11-max_depth_18-min_samples_split_10-min_samples_leaf_10.pdf')\n",
    "\n",
    "None"
   ]
  },
  {
   "cell_type": "markdown",
   "id": "497483cf-95d5-401b-bfb9-4e9324196e36",
   "metadata": {},
   "source": [
    "# Plot AUC distribution, in sample, out of sample, oob and accuracy as a function of threshold"
   ]
  },
  {
   "cell_type": "code",
   "execution_count": null,
   "id": "5ac2fb85-6211-4c6b-82cc-c5b60bb11289",
   "metadata": {},
   "outputs": [],
   "source": []
  },
  {
   "cell_type": "markdown",
   "id": "493432ef-53f2-4597-be3f-ab14805ec956",
   "metadata": {},
   "source": [
    "# Kaggle Submission"
   ]
  },
  {
   "cell_type": "code",
   "execution_count": 111,
   "id": "4c61d66a-0870-4aa4-af26-49a3486c2434",
   "metadata": {},
   "outputs": [],
   "source": [
    "(\n",
    "    clf,\n",
    "    accuracy_in_sample,\n",
    ") = random_forest_model_train(\n",
    "    all_training_data,\n",
    "    decision_tree_columns,\n",
    "    n_estimators=n_estimators,\n",
    "    max_features=max_features,\n",
    "    max_depth=max_depth,\n",
    "    min_samples_split=min_samples_split,\n",
    "    min_samples_leaf=min_samples_leaf,\n",
    "    max_leaf_nodes=max_leaf_nodes,\n",
    "    bootstrap=True,\n",
    "    n_jobs=n_cpu,\n",
    ")\n",
    "\n",
    "oob_score_ = clf.oob_score_\n",
    "\n",
    "#accuracy_out_of_sample = random_forest_model_test(\n",
    "#    clf,\n",
    "#    test_data,\n",
    "#    decision_tree_columns,\n",
    "#)\n",
    "\n",
    "#(auc_, tpr, fpr) = decision_tree_model_test_AUC_tpr_fpr(\n",
    "#    clf,\n",
    "#    test_data,\n",
    "#    decision_tree_columns,\n",
    "#)\n",
    "\n",
    "# TODO plot tpr,fpr (can't: no test data)\n",
    "\n",
    "data_predict = random_forest_model_predict(\n",
    "    clf,\n",
    "    data_test_copy,\n",
    "    decision_tree_columns,\n",
    "    decision_tree_columns_with_id,\n",
    ")\n",
    "\n",
    "random_forest_model_predict_write_to_csv(\n",
    "    data_predict,\n",
    "    filename='random_forest_3_best_model-ROC-k-fold-all-estimators_100-max_features_11-max_depth_18-min_samples_split_10-min_samples_leaf_10.csv',\n",
    ")"
   ]
  },
  {
   "cell_type": "code",
   "execution_count": 116,
   "id": "6fbf66ae-8138-4f7f-a86e-a7cdc717e0b4",
   "metadata": {},
   "outputs": [
    {
     "data": {
      "text/html": [
       "<div>\n",
       "<style scoped>\n",
       "    .dataframe tbody tr th:only-of-type {\n",
       "        vertical-align: middle;\n",
       "    }\n",
       "\n",
       "    .dataframe tbody tr th {\n",
       "        vertical-align: top;\n",
       "    }\n",
       "\n",
       "    .dataframe thead th {\n",
       "        text-align: right;\n",
       "    }\n",
       "</style>\n",
       "<table border=\"1\" class=\"dataframe\">\n",
       "  <thead>\n",
       "    <tr style=\"text-align: right;\">\n",
       "      <th></th>\n",
       "      <th>id</th>\n",
       "      <th>loan_status</th>\n",
       "    </tr>\n",
       "  </thead>\n",
       "  <tbody>\n",
       "    <tr>\n",
       "      <th>0</th>\n",
       "      <td>58645</td>\n",
       "      <td>0.992515</td>\n",
       "    </tr>\n",
       "    <tr>\n",
       "      <th>1</th>\n",
       "      <td>58646</td>\n",
       "      <td>0.040863</td>\n",
       "    </tr>\n",
       "    <tr>\n",
       "      <th>2</th>\n",
       "      <td>58647</td>\n",
       "      <td>0.482209</td>\n",
       "    </tr>\n",
       "    <tr>\n",
       "      <th>3</th>\n",
       "      <td>58648</td>\n",
       "      <td>0.016442</td>\n",
       "    </tr>\n",
       "    <tr>\n",
       "      <th>4</th>\n",
       "      <td>58649</td>\n",
       "      <td>0.095635</td>\n",
       "    </tr>\n",
       "    <tr>\n",
       "      <th>...</th>\n",
       "      <td>...</td>\n",
       "      <td>...</td>\n",
       "    </tr>\n",
       "    <tr>\n",
       "      <th>39093</th>\n",
       "      <td>97738</td>\n",
       "      <td>0.126904</td>\n",
       "    </tr>\n",
       "    <tr>\n",
       "      <th>39094</th>\n",
       "      <td>97739</td>\n",
       "      <td>0.010141</td>\n",
       "    </tr>\n",
       "    <tr>\n",
       "      <th>39095</th>\n",
       "      <td>97740</td>\n",
       "      <td>0.007938</td>\n",
       "    </tr>\n",
       "    <tr>\n",
       "      <th>39096</th>\n",
       "      <td>97741</td>\n",
       "      <td>0.228309</td>\n",
       "    </tr>\n",
       "    <tr>\n",
       "      <th>39097</th>\n",
       "      <td>97742</td>\n",
       "      <td>0.967674</td>\n",
       "    </tr>\n",
       "  </tbody>\n",
       "</table>\n",
       "<p>39098 rows × 2 columns</p>\n",
       "</div>"
      ],
      "text/plain": [
       "          id  loan_status\n",
       "0      58645     0.992515\n",
       "1      58646     0.040863\n",
       "2      58647     0.482209\n",
       "3      58648     0.016442\n",
       "4      58649     0.095635\n",
       "...      ...          ...\n",
       "39093  97738     0.126904\n",
       "39094  97739     0.010141\n",
       "39095  97740     0.007938\n",
       "39096  97741     0.228309\n",
       "39097  97742     0.967674\n",
       "\n",
       "[39098 rows x 2 columns]"
      ]
     },
     "execution_count": 116,
     "metadata": {},
     "output_type": "execute_result"
    }
   ],
   "source": [
    "data_predict[['id', 'loan_status']]"
   ]
  },
  {
   "cell_type": "code",
   "execution_count": 118,
   "id": "dda343f4-b9a3-4624-a8b6-58f53293c324",
   "metadata": {},
   "outputs": [
    {
     "data": {
      "text/plain": [
       "np.int64(0)"
      ]
     },
     "execution_count": 118,
     "metadata": {},
     "output_type": "execute_result"
    }
   ],
   "source": [
    "data_predict['id'].isna().sum()"
   ]
  },
  {
   "cell_type": "code",
   "execution_count": null,
   "id": "ec08496b-bd2a-47e2-a02f-b6938a6e0626",
   "metadata": {},
   "outputs": [],
   "source": []
  }
 ],
 "metadata": {
  "kernelspec": {
   "display_name": "Python 3 (ipykernel)",
   "language": "python",
   "name": "python3"
  },
  "language_info": {
   "codemirror_mode": {
    "name": "ipython",
    "version": 3
   },
   "file_extension": ".py",
   "mimetype": "text/x-python",
   "name": "python",
   "nbconvert_exporter": "python",
   "pygments_lexer": "ipython3",
   "version": "3.11.2"
  }
 },
 "nbformat": 4,
 "nbformat_minor": 5
}
